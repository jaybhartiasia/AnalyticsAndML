{
  "nbformat": 4,
  "nbformat_minor": 0,
  "metadata": {
    "kernelspec": {
      "display_name": "feml",
      "language": "python",
      "name": "feml"
    },
    "language_info": {
      "codemirror_mode": {
        "name": "ipython",
        "version": 3
      },
      "file_extension": ".py",
      "mimetype": "text/x-python",
      "name": "python",
      "nbconvert_exporter": "python",
      "pygments_lexer": "ipython3",
      "version": "3.7.3"
    },
    "toc": {
      "base_numbering": 1,
      "nav_menu": {},
      "number_sections": true,
      "sideBar": true,
      "skip_h1_title": false,
      "title_cell": "Table of Contents",
      "title_sidebar": "Contents",
      "toc_cell": false,
      "toc_position": {},
      "toc_section_display": true,
      "toc_window_display": true
    },
    "colab": {
      "name": "1.13 MissingIndicator-Sklearn.ipynb",
      "provenance": [],
      "include_colab_link": true
    }
  },
  "cells": [
    {
      "cell_type": "markdown",
      "metadata": {
        "id": "view-in-github",
        "colab_type": "text"
      },
      "source": [
        "<a href=\"https://colab.research.google.com/github/vinay10949/AnalyticsAndML/blob/master/1_13_MissingIndicator_Sklearn.ipynb\" target=\"_parent\"><img src=\"https://colab.research.google.com/assets/colab-badge.svg\" alt=\"Open In Colab\"/></a>"
      ]
    },
    {
      "cell_type": "markdown",
      "metadata": {
        "id": "s0dkzNJY-qsq",
        "colab_type": "text"
      },
      "source": [
        "## Adding a Missing Indicator variable with Scikit-learn ==> MissingIndicator\n",
        "\n",
        "Scikit-learn provides the **MissingIndicator** class to add a binary variable that flags NA.\n",
        "\n",
        "The MissingIndicator has the option of adding a Missing indicator binary variable to all the variables in the dataset, or only those that show NA in the train set.\n",
        "\n",
        "### Attention!\n",
        "\n",
        "The transformer only returns the binary variables, which need to be added to the original train data.\n",
        "\n",
        "### More details about the transformers\n",
        "\n",
        "- [MissingIndicaror](https://scikit-learn.org/stable/modules/generated/sklearn.impute.MissingIndicator.html#sklearn.impute.MissingIndicator)\n"
      ]
    },
    {
      "cell_type": "code",
      "metadata": {
        "id": "d71LoK4I-qsz",
        "colab_type": "code",
        "colab": {}
      },
      "source": [
        "import pandas as pd\n",
        "import numpy as np\n",
        "\n",
        "import matplotlib.pyplot as plt\n",
        "\n",
        "# these are the objects we need to impute missing data\n",
        "# with sklearn\n",
        "from sklearn.impute import SimpleImputer, MissingIndicator\n",
        "from sklearn.pipeline import Pipeline\n",
        "\n",
        "# to split the datasets\n",
        "from sklearn.model_selection import train_test_split"
      ],
      "execution_count": 0,
      "outputs": []
    },
    {
      "cell_type": "code",
      "metadata": {
        "id": "LO0xqhDg-qtf",
        "colab_type": "code",
        "colab": {}
      },
      "source": [
        "# we use only the following variables for the demo:\n",
        "# a mix of categorical and numerical\n",
        "\n",
        "cols_to_use = ['BsmtQual', 'FireplaceQu', 'MSZoning',\n",
        "               'BsmtUnfSF', 'LotFrontage', 'MasVnrArea',\n",
        "               'Street', 'Alley', 'SalePrice']"
      ],
      "execution_count": 0,
      "outputs": []
    },
    {
      "cell_type": "code",
      "metadata": {
        "id": "5NPwfXOY-qtv",
        "colab_type": "code",
        "colab": {
          "base_uri": "https://localhost:8080/",
          "height": 224
        },
        "outputId": "72cb3a80-eb72-41c9-ecf4-07ba656e3dd6"
      },
      "source": [
        "# let's load the House Prices dataset\n",
        "\n",
        "data = pd.read_csv('houseprice_train.csv', usecols=cols_to_use)\n",
        "print(data.shape)\n",
        "data.head()"
      ],
      "execution_count": 3,
      "outputs": [
        {
          "output_type": "stream",
          "text": [
            "(1460, 9)\n"
          ],
          "name": "stdout"
        },
        {
          "output_type": "execute_result",
          "data": {
            "text/html": [
              "<div>\n",
              "<style scoped>\n",
              "    .dataframe tbody tr th:only-of-type {\n",
              "        vertical-align: middle;\n",
              "    }\n",
              "\n",
              "    .dataframe tbody tr th {\n",
              "        vertical-align: top;\n",
              "    }\n",
              "\n",
              "    .dataframe thead th {\n",
              "        text-align: right;\n",
              "    }\n",
              "</style>\n",
              "<table border=\"1\" class=\"dataframe\">\n",
              "  <thead>\n",
              "    <tr style=\"text-align: right;\">\n",
              "      <th></th>\n",
              "      <th>MSZoning</th>\n",
              "      <th>LotFrontage</th>\n",
              "      <th>Street</th>\n",
              "      <th>Alley</th>\n",
              "      <th>MasVnrArea</th>\n",
              "      <th>BsmtQual</th>\n",
              "      <th>BsmtUnfSF</th>\n",
              "      <th>FireplaceQu</th>\n",
              "      <th>SalePrice</th>\n",
              "    </tr>\n",
              "  </thead>\n",
              "  <tbody>\n",
              "    <tr>\n",
              "      <th>0</th>\n",
              "      <td>RL</td>\n",
              "      <td>65.0</td>\n",
              "      <td>Pave</td>\n",
              "      <td>NaN</td>\n",
              "      <td>196.0</td>\n",
              "      <td>Gd</td>\n",
              "      <td>150</td>\n",
              "      <td>NaN</td>\n",
              "      <td>208500</td>\n",
              "    </tr>\n",
              "    <tr>\n",
              "      <th>1</th>\n",
              "      <td>RL</td>\n",
              "      <td>80.0</td>\n",
              "      <td>Pave</td>\n",
              "      <td>NaN</td>\n",
              "      <td>0.0</td>\n",
              "      <td>Gd</td>\n",
              "      <td>284</td>\n",
              "      <td>TA</td>\n",
              "      <td>181500</td>\n",
              "    </tr>\n",
              "    <tr>\n",
              "      <th>2</th>\n",
              "      <td>RL</td>\n",
              "      <td>68.0</td>\n",
              "      <td>Pave</td>\n",
              "      <td>NaN</td>\n",
              "      <td>162.0</td>\n",
              "      <td>Gd</td>\n",
              "      <td>434</td>\n",
              "      <td>TA</td>\n",
              "      <td>223500</td>\n",
              "    </tr>\n",
              "    <tr>\n",
              "      <th>3</th>\n",
              "      <td>RL</td>\n",
              "      <td>60.0</td>\n",
              "      <td>Pave</td>\n",
              "      <td>NaN</td>\n",
              "      <td>0.0</td>\n",
              "      <td>TA</td>\n",
              "      <td>540</td>\n",
              "      <td>Gd</td>\n",
              "      <td>140000</td>\n",
              "    </tr>\n",
              "    <tr>\n",
              "      <th>4</th>\n",
              "      <td>RL</td>\n",
              "      <td>84.0</td>\n",
              "      <td>Pave</td>\n",
              "      <td>NaN</td>\n",
              "      <td>350.0</td>\n",
              "      <td>Gd</td>\n",
              "      <td>490</td>\n",
              "      <td>TA</td>\n",
              "      <td>250000</td>\n",
              "    </tr>\n",
              "  </tbody>\n",
              "</table>\n",
              "</div>"
            ],
            "text/plain": [
              "  MSZoning  LotFrontage Street Alley  ...  BsmtQual BsmtUnfSF  FireplaceQu SalePrice\n",
              "0       RL         65.0   Pave   NaN  ...        Gd       150          NaN    208500\n",
              "1       RL         80.0   Pave   NaN  ...        Gd       284           TA    181500\n",
              "2       RL         68.0   Pave   NaN  ...        Gd       434           TA    223500\n",
              "3       RL         60.0   Pave   NaN  ...        TA       540           Gd    140000\n",
              "4       RL         84.0   Pave   NaN  ...        Gd       490           TA    250000\n",
              "\n",
              "[5 rows x 9 columns]"
            ]
          },
          "metadata": {
            "tags": []
          },
          "execution_count": 3
        }
      ]
    },
    {
      "cell_type": "code",
      "metadata": {
        "id": "2O_QA12b-quA",
        "colab_type": "code",
        "colab": {
          "base_uri": "https://localhost:8080/",
          "height": 191
        },
        "outputId": "4dd12662-76cb-4645-e7a9-3820f865f4b6"
      },
      "source": [
        "# let's check the null values\n",
        "data.isnull().mean()"
      ],
      "execution_count": 4,
      "outputs": [
        {
          "output_type": "execute_result",
          "data": {
            "text/plain": [
              "MSZoning       0.000000\n",
              "LotFrontage    0.177397\n",
              "Street         0.000000\n",
              "Alley          0.937671\n",
              "MasVnrArea     0.005479\n",
              "BsmtQual       0.025342\n",
              "BsmtUnfSF      0.000000\n",
              "FireplaceQu    0.472603\n",
              "SalePrice      0.000000\n",
              "dtype: float64"
            ]
          },
          "metadata": {
            "tags": []
          },
          "execution_count": 4
        }
      ]
    },
    {
      "cell_type": "code",
      "metadata": {
        "id": "frwFwHmk-quR",
        "colab_type": "code",
        "colab": {
          "base_uri": "https://localhost:8080/",
          "height": 34
        },
        "outputId": "106d502c-7de6-4c88-efb8-cd065e28144e"
      },
      "source": [
        "# let's separate into training and testing set\n",
        "\n",
        "# first let's remove the target from the features\n",
        "cols_to_use.remove('SalePrice')\n",
        "\n",
        "X_train, X_test, y_train, y_test = train_test_split(data[cols_to_use], # just the features\n",
        "                                                    data['SalePrice'], # the target\n",
        "                                                    test_size=0.3, # the percentage of obs in the test set\n",
        "                                                    random_state=0) # for reproducibility\n",
        "X_train.shape, X_test.shape"
      ],
      "execution_count": 5,
      "outputs": [
        {
          "output_type": "execute_result",
          "data": {
            "text/plain": [
              "((1022, 8), (438, 8))"
            ]
          },
          "metadata": {
            "tags": []
          },
          "execution_count": 5
        }
      ]
    },
    {
      "cell_type": "code",
      "metadata": {
        "id": "LEMJTUkX-quh",
        "colab_type": "code",
        "colab": {
          "base_uri": "https://localhost:8080/",
          "height": 173
        },
        "outputId": "94d46ed5-765e-495b-996d-a4c380d5947c"
      },
      "source": [
        "# let's check the misssing data again\n",
        "X_train.isnull().mean()"
      ],
      "execution_count": 6,
      "outputs": [
        {
          "output_type": "execute_result",
          "data": {
            "text/plain": [
              "BsmtQual       0.023483\n",
              "FireplaceQu    0.467710\n",
              "MSZoning       0.000000\n",
              "BsmtUnfSF      0.000000\n",
              "LotFrontage    0.184932\n",
              "MasVnrArea     0.004892\n",
              "Street         0.000000\n",
              "Alley          0.939335\n",
              "dtype: float64"
            ]
          },
          "metadata": {
            "tags": []
          },
          "execution_count": 6
        }
      ]
    },
    {
      "cell_type": "markdown",
      "metadata": {
        "id": "W4YPK4Zk-quu",
        "colab_type": "text"
      },
      "source": [
        "## Add a Missing Indicator"
      ]
    },
    {
      "cell_type": "code",
      "metadata": {
        "id": "wMLcoabv-qux",
        "colab_type": "code",
        "colab": {
          "base_uri": "https://localhost:8080/",
          "height": 52
        },
        "outputId": "b035dd66-4ca6-4ce2-a493-079f5b12d749"
      },
      "source": [
        "indicator = MissingIndicator(error_on_new=True, features='missing-only')\n",
        "indicator.fit(X_train)  "
      ],
      "execution_count": 7,
      "outputs": [
        {
          "output_type": "execute_result",
          "data": {
            "text/plain": [
              "MissingIndicator(error_on_new=True, features='missing-only', missing_values=nan,\n",
              "                 sparse='auto')"
            ]
          },
          "metadata": {
            "tags": []
          },
          "execution_count": 7
        }
      ]
    },
    {
      "cell_type": "code",
      "metadata": {
        "id": "5D6THuXy-qvA",
        "colab_type": "code",
        "colab": {
          "base_uri": "https://localhost:8080/",
          "height": 34
        },
        "outputId": "c452a85e-c228-470e-9cc9-5eaaac9ebdce"
      },
      "source": [
        "# we can see the features with na:\n",
        "# the result shows the index\n",
        "\n",
        "indicator.features_"
      ],
      "execution_count": 8,
      "outputs": [
        {
          "output_type": "execute_result",
          "data": {
            "text/plain": [
              "array([0, 1, 4, 5, 7])"
            ]
          },
          "metadata": {
            "tags": []
          },
          "execution_count": 8
        }
      ]
    },
    {
      "cell_type": "code",
      "metadata": {
        "id": "jZlfF0sq-qvO",
        "colab_type": "code",
        "colab": {
          "base_uri": "https://localhost:8080/",
          "height": 34
        },
        "outputId": "b43ed33a-8175-41fd-93a4-935dbb5ccfbe"
      },
      "source": [
        "# we can find the feature names by passing the index to the\n",
        "# list of columns\n",
        "\n",
        "X_train.columns[indicator.features_]"
      ],
      "execution_count": 9,
      "outputs": [
        {
          "output_type": "execute_result",
          "data": {
            "text/plain": [
              "Index(['BsmtQual', 'FireplaceQu', 'LotFrontage', 'MasVnrArea', 'Alley'], dtype='object')"
            ]
          },
          "metadata": {
            "tags": []
          },
          "execution_count": 9
        }
      ]
    },
    {
      "cell_type": "code",
      "metadata": {
        "id": "NSzeRskY-qvZ",
        "colab_type": "code",
        "colab": {
          "base_uri": "https://localhost:8080/",
          "height": 139
        },
        "outputId": "e3189217-429b-41ae-8488-c886e1ae362f"
      },
      "source": [
        "# the indicator returns only the additional indicators\n",
        "# when we transform the dataset\n",
        "\n",
        "tmp = indicator.transform(X_train)\n",
        "\n",
        "tmp"
      ],
      "execution_count": 11,
      "outputs": [
        {
          "output_type": "execute_result",
          "data": {
            "text/plain": [
              "array([[False,  True,  True, False,  True],\n",
              "       [False, False,  True, False,  True],\n",
              "       [False,  True, False, False,  True],\n",
              "       ...,\n",
              "       [ True,  True, False, False,  True],\n",
              "       [False, False,  True, False,  True],\n",
              "       [False,  True, False, False,  True]])"
            ]
          },
          "metadata": {
            "tags": []
          },
          "execution_count": 11
        }
      ]
    },
    {
      "cell_type": "code",
      "metadata": {
        "id": "JfT5KtBO-qvo",
        "colab_type": "code",
        "colab": {
          "base_uri": "https://localhost:8080/",
          "height": 226
        },
        "outputId": "92b3ef99-1a9e-40e0-da9f-298603476d58"
      },
      "source": [
        "# so we need to join it manually to the original X_train\n",
        "\n",
        "# let's create a column name for each of the new MissingIndicators\n",
        "indicator_cols = [c+'_NA' for c in X_train.columns[indicator.features_]]\n",
        "\n",
        "# and now we concatenate\n",
        "X_train = pd.concat([\n",
        "    X_train.reset_index(),\n",
        "    pd.DataFrame(tmp, columns = indicator_cols)],\n",
        "    axis=1)\n",
        "\n",
        "X_train.head()"
      ],
      "execution_count": 12,
      "outputs": [
        {
          "output_type": "execute_result",
          "data": {
            "text/html": [
              "<div>\n",
              "<style scoped>\n",
              "    .dataframe tbody tr th:only-of-type {\n",
              "        vertical-align: middle;\n",
              "    }\n",
              "\n",
              "    .dataframe tbody tr th {\n",
              "        vertical-align: top;\n",
              "    }\n",
              "\n",
              "    .dataframe thead th {\n",
              "        text-align: right;\n",
              "    }\n",
              "</style>\n",
              "<table border=\"1\" class=\"dataframe\">\n",
              "  <thead>\n",
              "    <tr style=\"text-align: right;\">\n",
              "      <th></th>\n",
              "      <th>index</th>\n",
              "      <th>BsmtQual</th>\n",
              "      <th>FireplaceQu</th>\n",
              "      <th>MSZoning</th>\n",
              "      <th>BsmtUnfSF</th>\n",
              "      <th>LotFrontage</th>\n",
              "      <th>MasVnrArea</th>\n",
              "      <th>Street</th>\n",
              "      <th>Alley</th>\n",
              "      <th>BsmtQual_NA</th>\n",
              "      <th>FireplaceQu_NA</th>\n",
              "      <th>LotFrontage_NA</th>\n",
              "      <th>MasVnrArea_NA</th>\n",
              "      <th>Alley_NA</th>\n",
              "    </tr>\n",
              "  </thead>\n",
              "  <tbody>\n",
              "    <tr>\n",
              "      <th>0</th>\n",
              "      <td>64</td>\n",
              "      <td>Gd</td>\n",
              "      <td>NaN</td>\n",
              "      <td>RL</td>\n",
              "      <td>318</td>\n",
              "      <td>NaN</td>\n",
              "      <td>573.0</td>\n",
              "      <td>Pave</td>\n",
              "      <td>NaN</td>\n",
              "      <td>False</td>\n",
              "      <td>True</td>\n",
              "      <td>True</td>\n",
              "      <td>False</td>\n",
              "      <td>True</td>\n",
              "    </tr>\n",
              "    <tr>\n",
              "      <th>1</th>\n",
              "      <td>682</td>\n",
              "      <td>Gd</td>\n",
              "      <td>Gd</td>\n",
              "      <td>RL</td>\n",
              "      <td>288</td>\n",
              "      <td>NaN</td>\n",
              "      <td>0.0</td>\n",
              "      <td>Pave</td>\n",
              "      <td>NaN</td>\n",
              "      <td>False</td>\n",
              "      <td>False</td>\n",
              "      <td>True</td>\n",
              "      <td>False</td>\n",
              "      <td>True</td>\n",
              "    </tr>\n",
              "    <tr>\n",
              "      <th>2</th>\n",
              "      <td>960</td>\n",
              "      <td>TA</td>\n",
              "      <td>NaN</td>\n",
              "      <td>RL</td>\n",
              "      <td>162</td>\n",
              "      <td>50.0</td>\n",
              "      <td>0.0</td>\n",
              "      <td>Pave</td>\n",
              "      <td>NaN</td>\n",
              "      <td>False</td>\n",
              "      <td>True</td>\n",
              "      <td>False</td>\n",
              "      <td>False</td>\n",
              "      <td>True</td>\n",
              "    </tr>\n",
              "    <tr>\n",
              "      <th>3</th>\n",
              "      <td>1384</td>\n",
              "      <td>TA</td>\n",
              "      <td>NaN</td>\n",
              "      <td>RL</td>\n",
              "      <td>356</td>\n",
              "      <td>60.0</td>\n",
              "      <td>0.0</td>\n",
              "      <td>Pave</td>\n",
              "      <td>NaN</td>\n",
              "      <td>False</td>\n",
              "      <td>True</td>\n",
              "      <td>False</td>\n",
              "      <td>False</td>\n",
              "      <td>True</td>\n",
              "    </tr>\n",
              "    <tr>\n",
              "      <th>4</th>\n",
              "      <td>1100</td>\n",
              "      <td>TA</td>\n",
              "      <td>NaN</td>\n",
              "      <td>RL</td>\n",
              "      <td>0</td>\n",
              "      <td>60.0</td>\n",
              "      <td>0.0</td>\n",
              "      <td>Pave</td>\n",
              "      <td>NaN</td>\n",
              "      <td>False</td>\n",
              "      <td>True</td>\n",
              "      <td>False</td>\n",
              "      <td>False</td>\n",
              "      <td>True</td>\n",
              "    </tr>\n",
              "  </tbody>\n",
              "</table>\n",
              "</div>"
            ],
            "text/plain": [
              "   index BsmtQual FireplaceQu  ... LotFrontage_NA  MasVnrArea_NA  Alley_NA\n",
              "0     64       Gd         NaN  ...           True          False      True\n",
              "1    682       Gd          Gd  ...           True          False      True\n",
              "2    960       TA         NaN  ...          False          False      True\n",
              "3   1384       TA         NaN  ...          False          False      True\n",
              "4   1100       TA         NaN  ...          False          False      True\n",
              "\n",
              "[5 rows x 14 columns]"
            ]
          },
          "metadata": {
            "tags": []
          },
          "execution_count": 12
        }
      ]
    },
    {
      "cell_type": "code",
      "metadata": {
        "id": "xJiaxOzF-qv2",
        "colab_type": "code",
        "colab": {
          "base_uri": "https://localhost:8080/",
          "height": 226
        },
        "outputId": "a8a0a3cb-efe4-4a0c-d295-7af9a955687c"
      },
      "source": [
        "# now the same for the test set\n",
        "tmp = indicator.transform(X_test)\n",
        "\n",
        "X_test = pd.concat([\n",
        "    X_test.reset_index(),\n",
        "    pd.DataFrame(tmp, columns = indicator_cols)],\n",
        "    axis=1)\n",
        "\n",
        "X_test.head()"
      ],
      "execution_count": 13,
      "outputs": [
        {
          "output_type": "execute_result",
          "data": {
            "text/html": [
              "<div>\n",
              "<style scoped>\n",
              "    .dataframe tbody tr th:only-of-type {\n",
              "        vertical-align: middle;\n",
              "    }\n",
              "\n",
              "    .dataframe tbody tr th {\n",
              "        vertical-align: top;\n",
              "    }\n",
              "\n",
              "    .dataframe thead th {\n",
              "        text-align: right;\n",
              "    }\n",
              "</style>\n",
              "<table border=\"1\" class=\"dataframe\">\n",
              "  <thead>\n",
              "    <tr style=\"text-align: right;\">\n",
              "      <th></th>\n",
              "      <th>index</th>\n",
              "      <th>BsmtQual</th>\n",
              "      <th>FireplaceQu</th>\n",
              "      <th>MSZoning</th>\n",
              "      <th>BsmtUnfSF</th>\n",
              "      <th>LotFrontage</th>\n",
              "      <th>MasVnrArea</th>\n",
              "      <th>Street</th>\n",
              "      <th>Alley</th>\n",
              "      <th>BsmtQual_NA</th>\n",
              "      <th>FireplaceQu_NA</th>\n",
              "      <th>LotFrontage_NA</th>\n",
              "      <th>MasVnrArea_NA</th>\n",
              "      <th>Alley_NA</th>\n",
              "    </tr>\n",
              "  </thead>\n",
              "  <tbody>\n",
              "    <tr>\n",
              "      <th>0</th>\n",
              "      <td>529</td>\n",
              "      <td>TA</td>\n",
              "      <td>TA</td>\n",
              "      <td>RL</td>\n",
              "      <td>816</td>\n",
              "      <td>NaN</td>\n",
              "      <td>NaN</td>\n",
              "      <td>Pave</td>\n",
              "      <td>NaN</td>\n",
              "      <td>False</td>\n",
              "      <td>False</td>\n",
              "      <td>True</td>\n",
              "      <td>True</td>\n",
              "      <td>True</td>\n",
              "    </tr>\n",
              "    <tr>\n",
              "      <th>1</th>\n",
              "      <td>491</td>\n",
              "      <td>TA</td>\n",
              "      <td>TA</td>\n",
              "      <td>RL</td>\n",
              "      <td>238</td>\n",
              "      <td>79.0</td>\n",
              "      <td>0.0</td>\n",
              "      <td>Pave</td>\n",
              "      <td>NaN</td>\n",
              "      <td>False</td>\n",
              "      <td>False</td>\n",
              "      <td>False</td>\n",
              "      <td>False</td>\n",
              "      <td>True</td>\n",
              "    </tr>\n",
              "    <tr>\n",
              "      <th>2</th>\n",
              "      <td>459</td>\n",
              "      <td>TA</td>\n",
              "      <td>TA</td>\n",
              "      <td>RL</td>\n",
              "      <td>524</td>\n",
              "      <td>NaN</td>\n",
              "      <td>161.0</td>\n",
              "      <td>Pave</td>\n",
              "      <td>NaN</td>\n",
              "      <td>False</td>\n",
              "      <td>False</td>\n",
              "      <td>True</td>\n",
              "      <td>False</td>\n",
              "      <td>True</td>\n",
              "    </tr>\n",
              "    <tr>\n",
              "      <th>3</th>\n",
              "      <td>279</td>\n",
              "      <td>Gd</td>\n",
              "      <td>TA</td>\n",
              "      <td>RL</td>\n",
              "      <td>768</td>\n",
              "      <td>83.0</td>\n",
              "      <td>299.0</td>\n",
              "      <td>Pave</td>\n",
              "      <td>NaN</td>\n",
              "      <td>False</td>\n",
              "      <td>False</td>\n",
              "      <td>False</td>\n",
              "      <td>False</td>\n",
              "      <td>True</td>\n",
              "    </tr>\n",
              "    <tr>\n",
              "      <th>4</th>\n",
              "      <td>655</td>\n",
              "      <td>TA</td>\n",
              "      <td>NaN</td>\n",
              "      <td>RM</td>\n",
              "      <td>525</td>\n",
              "      <td>21.0</td>\n",
              "      <td>381.0</td>\n",
              "      <td>Pave</td>\n",
              "      <td>NaN</td>\n",
              "      <td>False</td>\n",
              "      <td>True</td>\n",
              "      <td>False</td>\n",
              "      <td>False</td>\n",
              "      <td>True</td>\n",
              "    </tr>\n",
              "  </tbody>\n",
              "</table>\n",
              "</div>"
            ],
            "text/plain": [
              "   index BsmtQual FireplaceQu  ... LotFrontage_NA  MasVnrArea_NA  Alley_NA\n",
              "0    529       TA          TA  ...           True           True      True\n",
              "1    491       TA          TA  ...          False          False      True\n",
              "2    459       TA          TA  ...           True          False      True\n",
              "3    279       Gd          TA  ...          False          False      True\n",
              "4    655       TA         NaN  ...          False          False      True\n",
              "\n",
              "[5 rows x 14 columns]"
            ]
          },
          "metadata": {
            "tags": []
          },
          "execution_count": 13
        }
      ]
    },
    {
      "cell_type": "markdown",
      "metadata": {
        "id": "bSO69RSV-qwG",
        "colab_type": "text"
      },
      "source": [
        "### SimpleImputer on the entire dataset"
      ]
    },
    {
      "cell_type": "code",
      "metadata": {
        "id": "IEbWzXiF-qwJ",
        "colab_type": "code",
        "colab": {
          "base_uri": "https://localhost:8080/",
          "height": 52
        },
        "outputId": "be447645-7b01-4f78-a939-2c1fd4bf14ee"
      },
      "source": [
        "# Now we impute the missing values with SimpleImputer\n",
        "\n",
        "# create an instance of the simple imputer\n",
        "# we indicate that we want to impute with the \n",
        "# most frequent category\n",
        "\n",
        "imputer = SimpleImputer(strategy='most_frequent')\n",
        "\n",
        "# we fit the imputer to the train set\n",
        "# the imputer will learn the median of all variables\n",
        "imputer.fit(X_train)"
      ],
      "execution_count": 14,
      "outputs": [
        {
          "output_type": "execute_result",
          "data": {
            "text/plain": [
              "SimpleImputer(add_indicator=False, copy=True, fill_value=None,\n",
              "              missing_values=nan, strategy='most_frequent', verbose=0)"
            ]
          },
          "metadata": {
            "tags": []
          },
          "execution_count": 14
        }
      ]
    },
    {
      "cell_type": "code",
      "metadata": {
        "id": "MDFh9-r--qwW",
        "colab_type": "code",
        "colab": {
          "base_uri": "https://localhost:8080/",
          "height": 52
        },
        "outputId": "ceb78b87-accc-4a28-fa8f-3955827ba79d"
      },
      "source": [
        "# we can look at the learnt frequent values like this:\n",
        "imputer.statistics_"
      ],
      "execution_count": 15,
      "outputs": [
        {
          "output_type": "execute_result",
          "data": {
            "text/plain": [
              "array([0, 'TA', 'Gd', 'RL', 0, 60.0, 0.0, 'Pave', 'Pave', False, False,\n",
              "       False, False, True], dtype=object)"
            ]
          },
          "metadata": {
            "tags": []
          },
          "execution_count": 15
        }
      ]
    },
    {
      "cell_type": "markdown",
      "metadata": {
        "id": "mvRj718g-qwm",
        "colab_type": "text"
      },
      "source": [
        "**Note** that the transformer learns the most frequent value for both categorical AND numerical variables."
      ]
    },
    {
      "cell_type": "code",
      "metadata": {
        "id": "W2DlwLDq-qwp",
        "colab_type": "code",
        "colab": {
          "base_uri": "https://localhost:8080/",
          "height": 139
        },
        "outputId": "113acf8a-5bda-4e2e-d81f-f498eb61b752"
      },
      "source": [
        "# and now we impute the train and test set\n",
        "\n",
        "# NOTE: the data is returned as a numpy array!!!\n",
        "X_train = imputer.transform(X_train)\n",
        "X_test = imputer.transform(X_test)\n",
        "\n",
        "X_train"
      ],
      "execution_count": 16,
      "outputs": [
        {
          "output_type": "execute_result",
          "data": {
            "text/plain": [
              "array([[64, 'Gd', 'Gd', ..., True, False, True],\n",
              "       [682, 'Gd', 'Gd', ..., True, False, True],\n",
              "       [960, 'TA', 'Gd', ..., False, False, True],\n",
              "       ...,\n",
              "       [1216, 'TA', 'Gd', ..., False, False, True],\n",
              "       [559, 'Gd', 'TA', ..., True, False, True],\n",
              "       [684, 'Gd', 'Gd', ..., False, False, True]], dtype=object)"
            ]
          },
          "metadata": {
            "tags": []
          },
          "execution_count": 16
        }
      ]
    },
    {
      "cell_type": "code",
      "metadata": {
        "id": "W9eSSeb_-qw0",
        "colab_type": "code",
        "colab": {}
      },
      "source": [
        ""
      ],
      "execution_count": 0,
      "outputs": []
    }
  ]
}