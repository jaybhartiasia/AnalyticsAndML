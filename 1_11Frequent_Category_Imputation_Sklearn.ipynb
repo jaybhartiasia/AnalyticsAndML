{
  "nbformat": 4,
  "nbformat_minor": 0,
  "metadata": {
    "kernelspec": {
      "display_name": "feml",
      "language": "python",
      "name": "feml"
    },
    "language_info": {
      "codemirror_mode": {
        "name": "ipython",
        "version": 3
      },
      "file_extension": ".py",
      "mimetype": "text/x-python",
      "name": "python",
      "nbconvert_exporter": "python",
      "pygments_lexer": "ipython3",
      "version": "3.7.3"
    },
    "toc": {
      "base_numbering": 1,
      "nav_menu": {},
      "number_sections": true,
      "sideBar": true,
      "skip_h1_title": false,
      "title_cell": "Table of Contents",
      "title_sidebar": "Contents",
      "toc_cell": false,
      "toc_position": {},
      "toc_section_display": true,
      "toc_window_display": true
    },
    "colab": {
      "name": "1.11Frequent-Category-Imputation-Sklearn.ipynb",
      "provenance": [],
      "include_colab_link": true
    }
  },
  "cells": [
    {
      "cell_type": "markdown",
      "metadata": {
        "id": "view-in-github",
        "colab_type": "text"
      },
      "source": [
        "<a href=\"https://colab.research.google.com/github/vinay10949/AnalyticsAndML/blob/master/1_11Frequent_Category_Imputation_Sklearn.ipynb\" target=\"_parent\"><img src=\"https://colab.research.google.com/assets/colab-badge.svg\" alt=\"Open In Colab\"/></a>"
      ]
    },
    {
      "cell_type": "markdown",
      "metadata": {
        "id": "Lv189TJ3Veam",
        "colab_type": "text"
      },
      "source": [
        "## Frequent category imputation with Scikit-learn ==> SimpleImputer\n",
        "\n",
        "Scikit-learn provides a class to make most of the most common data imputation techniques.\n",
        "\n",
        "The **SimpleImputer** class provides basic strategies for imputing missing values, including:\n",
        "\n",
        "- Mean and median imputation for numerical variables\n",
        "- Most frequent category imputation for categorical variables\n",
        "- Arbitrary value imputation for both categorical and numerical variables\n",
        "\n",
        "### Advantages\n",
        "\n",
        "- Simple to use if applied to the entire dataframe\n",
        "- Maintained by the scikit-learn developers: good quality code\n",
        "- Fast computation (it uses numpy for calculations)\n",
        "- Allows for grid search over the various imputation techniques\n",
        "- Allows for different missing values encodings (you can indicate if the missing values are np.nan, or zeroes, etc)\n",
        "\n",
        "### Limitations\n",
        "\n",
        "- Returns a numpy array instead of a pandas dataframe, inconvenient for data analysis\n",
        "- Needs to use additional classes to select which features to impute  ==>\n",
        "    - requires more lines of code\n",
        "    - additional classes still in beta (may change without warning)\n",
        "    - not so straightforward to use anymore.\n",
        "\n",
        "### More details about the transformers\n",
        "\n",
        "- [SimpleImputer](https://scikit-learn.org/stable/modules/generated/sklearn.impute.SimpleImputer.html#sklearn.impute.SimpleImputer)\n",
        "- [ColumnTransformer](https://scikit-learn.org/stable/modules/generated/sklearn.compose.ColumnTransformer.html)\n",
        "- [Stackoverflow](https://stackoverflow.com/questions/54160370/how-to-use-sklearn-column-transformer)\n",
        "\n"
      ]
    },
    {
      "cell_type": "code",
      "metadata": {
        "id": "Ay4txooqVeaw",
        "colab_type": "code",
        "colab": {}
      },
      "source": [
        "import pandas as pd\n",
        "import numpy as np\n",
        "\n",
        "import matplotlib.pyplot as plt\n",
        "\n",
        "# these are the objects we need to impute missing data\n",
        "# with sklearn\n",
        "from sklearn.impute import SimpleImputer\n",
        "from sklearn.compose import ColumnTransformer\n",
        "from sklearn.pipeline import Pipeline\n",
        "\n",
        "# to split the datasets\n",
        "from sklearn.model_selection import train_test_split"
      ],
      "execution_count": 0,
      "outputs": []
    },
    {
      "cell_type": "code",
      "metadata": {
        "id": "DUwobJFtVebH",
        "colab_type": "code",
        "colab": {}
      },
      "source": [
        "# we use only the following variables for the demo:\n",
        "# a mix of categorical and numerical\n",
        "\n",
        "cols_to_use = ['BsmtQual', 'FireplaceQu', 'MSZoning',\n",
        "               'BsmtUnfSF', 'LotFrontage', 'MasVnrArea',\n",
        "               'Street', 'Alley', 'SalePrice']"
      ],
      "execution_count": 0,
      "outputs": []
    },
    {
      "cell_type": "code",
      "metadata": {
        "id": "QPfPDzL3VebV",
        "colab_type": "code",
        "colab": {},
        "outputId": "a50855d5-0345-4b44-e6ed-769093c06f34"
      },
      "source": [
        "# let's load the House Prices dataset\n",
        "\n",
        "data = pd.read_csv('../houseprice.csv', usecols=cols_to_use)\n",
        "print(data.shape)\n",
        "data.head()"
      ],
      "execution_count": 0,
      "outputs": [
        {
          "output_type": "stream",
          "text": [
            "(1460, 9)\n"
          ],
          "name": "stdout"
        },
        {
          "output_type": "execute_result",
          "data": {
            "text/html": [
              "<div>\n",
              "<style scoped>\n",
              "    .dataframe tbody tr th:only-of-type {\n",
              "        vertical-align: middle;\n",
              "    }\n",
              "\n",
              "    .dataframe tbody tr th {\n",
              "        vertical-align: top;\n",
              "    }\n",
              "\n",
              "    .dataframe thead th {\n",
              "        text-align: right;\n",
              "    }\n",
              "</style>\n",
              "<table border=\"1\" class=\"dataframe\">\n",
              "  <thead>\n",
              "    <tr style=\"text-align: right;\">\n",
              "      <th></th>\n",
              "      <th>MSZoning</th>\n",
              "      <th>LotFrontage</th>\n",
              "      <th>Street</th>\n",
              "      <th>Alley</th>\n",
              "      <th>MasVnrArea</th>\n",
              "      <th>BsmtQual</th>\n",
              "      <th>BsmtUnfSF</th>\n",
              "      <th>FireplaceQu</th>\n",
              "      <th>SalePrice</th>\n",
              "    </tr>\n",
              "  </thead>\n",
              "  <tbody>\n",
              "    <tr>\n",
              "      <th>0</th>\n",
              "      <td>RL</td>\n",
              "      <td>65.0</td>\n",
              "      <td>Pave</td>\n",
              "      <td>NaN</td>\n",
              "      <td>196.0</td>\n",
              "      <td>Gd</td>\n",
              "      <td>150</td>\n",
              "      <td>NaN</td>\n",
              "      <td>208500</td>\n",
              "    </tr>\n",
              "    <tr>\n",
              "      <th>1</th>\n",
              "      <td>RL</td>\n",
              "      <td>80.0</td>\n",
              "      <td>Pave</td>\n",
              "      <td>NaN</td>\n",
              "      <td>0.0</td>\n",
              "      <td>Gd</td>\n",
              "      <td>284</td>\n",
              "      <td>TA</td>\n",
              "      <td>181500</td>\n",
              "    </tr>\n",
              "    <tr>\n",
              "      <th>2</th>\n",
              "      <td>RL</td>\n",
              "      <td>68.0</td>\n",
              "      <td>Pave</td>\n",
              "      <td>NaN</td>\n",
              "      <td>162.0</td>\n",
              "      <td>Gd</td>\n",
              "      <td>434</td>\n",
              "      <td>TA</td>\n",
              "      <td>223500</td>\n",
              "    </tr>\n",
              "    <tr>\n",
              "      <th>3</th>\n",
              "      <td>RL</td>\n",
              "      <td>60.0</td>\n",
              "      <td>Pave</td>\n",
              "      <td>NaN</td>\n",
              "      <td>0.0</td>\n",
              "      <td>TA</td>\n",
              "      <td>540</td>\n",
              "      <td>Gd</td>\n",
              "      <td>140000</td>\n",
              "    </tr>\n",
              "    <tr>\n",
              "      <th>4</th>\n",
              "      <td>RL</td>\n",
              "      <td>84.0</td>\n",
              "      <td>Pave</td>\n",
              "      <td>NaN</td>\n",
              "      <td>350.0</td>\n",
              "      <td>Gd</td>\n",
              "      <td>490</td>\n",
              "      <td>TA</td>\n",
              "      <td>250000</td>\n",
              "    </tr>\n",
              "  </tbody>\n",
              "</table>\n",
              "</div>"
            ],
            "text/plain": [
              "  MSZoning  LotFrontage Street Alley  MasVnrArea BsmtQual  BsmtUnfSF  \\\n",
              "0       RL         65.0   Pave   NaN       196.0       Gd        150   \n",
              "1       RL         80.0   Pave   NaN         0.0       Gd        284   \n",
              "2       RL         68.0   Pave   NaN       162.0       Gd        434   \n",
              "3       RL         60.0   Pave   NaN         0.0       TA        540   \n",
              "4       RL         84.0   Pave   NaN       350.0       Gd        490   \n",
              "\n",
              "  FireplaceQu  SalePrice  \n",
              "0         NaN     208500  \n",
              "1          TA     181500  \n",
              "2          TA     223500  \n",
              "3          Gd     140000  \n",
              "4          TA     250000  "
            ]
          },
          "metadata": {
            "tags": []
          },
          "execution_count": 3
        }
      ]
    },
    {
      "cell_type": "code",
      "metadata": {
        "id": "6FafkQ8WVebn",
        "colab_type": "code",
        "colab": {},
        "outputId": "a980d0cd-86b9-4b24-abbc-cb3e7c624208"
      },
      "source": [
        "# let's check the null values\n",
        "data.isnull().mean()"
      ],
      "execution_count": 0,
      "outputs": [
        {
          "output_type": "execute_result",
          "data": {
            "text/plain": [
              "MSZoning       0.000000\n",
              "LotFrontage    0.177397\n",
              "Street         0.000000\n",
              "Alley          0.937671\n",
              "MasVnrArea     0.005479\n",
              "BsmtQual       0.025342\n",
              "BsmtUnfSF      0.000000\n",
              "FireplaceQu    0.472603\n",
              "SalePrice      0.000000\n",
              "dtype: float64"
            ]
          },
          "metadata": {
            "tags": []
          },
          "execution_count": 4
        }
      ]
    },
    {
      "cell_type": "markdown",
      "metadata": {
        "id": "P4OLcTWbVeb4",
        "colab_type": "text"
      },
      "source": [
        "The cateogrical variables Alley, BsmtQual and FirePlaceQu contain missing data."
      ]
    },
    {
      "cell_type": "code",
      "metadata": {
        "id": "2jukfqttVeb8",
        "colab_type": "code",
        "colab": {},
        "outputId": "f05aac76-e888-4923-8e7a-b11ed881c3c4"
      },
      "source": [
        "# let's separate into training and testing set\n",
        "\n",
        "# first let's remove the target from the features\n",
        "cols_to_use.remove('SalePrice')\n",
        "\n",
        "X_train, X_test, y_train, y_test = train_test_split(data[cols_to_use], # just the features\n",
        "                                                    data['SalePrice'], # the target\n",
        "                                                    test_size=0.3, # the percentage of obs in the test set\n",
        "                                                    random_state=0) # for reproducibility\n",
        "X_train.shape, X_test.shape"
      ],
      "execution_count": 0,
      "outputs": [
        {
          "output_type": "execute_result",
          "data": {
            "text/plain": [
              "((1022, 8), (438, 8))"
            ]
          },
          "metadata": {
            "tags": []
          },
          "execution_count": 5
        }
      ]
    },
    {
      "cell_type": "code",
      "metadata": {
        "id": "sIkbPuHWVecL",
        "colab_type": "code",
        "colab": {},
        "outputId": "8bb40287-b055-42bf-f865-e4e10a2474dd"
      },
      "source": [
        "# let's check the misssing data again\n",
        "X_train.isnull().mean()"
      ],
      "execution_count": 0,
      "outputs": [
        {
          "output_type": "execute_result",
          "data": {
            "text/plain": [
              "BsmtQual       0.023483\n",
              "FireplaceQu    0.467710\n",
              "MSZoning       0.000000\n",
              "BsmtUnfSF      0.000000\n",
              "LotFrontage    0.184932\n",
              "MasVnrArea     0.004892\n",
              "Street         0.000000\n",
              "Alley          0.939335\n",
              "dtype: float64"
            ]
          },
          "metadata": {
            "tags": []
          },
          "execution_count": 6
        }
      ]
    },
    {
      "cell_type": "markdown",
      "metadata": {
        "id": "7reMvmZQVeci",
        "colab_type": "text"
      },
      "source": [
        "### SimpleImputer on the entire dataset"
      ]
    },
    {
      "cell_type": "code",
      "metadata": {
        "id": "06B4NoTjVecl",
        "colab_type": "code",
        "colab": {},
        "outputId": "df35e87f-d766-4875-a1fc-3ba647a05c39"
      },
      "source": [
        "# Now we impute the missing values with SimpleImputer\n",
        "\n",
        "# create an instance of the simple imputer\n",
        "# we indicate that we want to impute with the \n",
        "# most frequent category\n",
        "\n",
        "imputer = SimpleImputer(strategy='most_frequent')\n",
        "\n",
        "# we fit the imputer to the train set\n",
        "# the imputer will learn the mode of ALL variables\n",
        "# categorical or not\n",
        "imputer.fit(X_train[cols_to_use])"
      ],
      "execution_count": 0,
      "outputs": [
        {
          "output_type": "execute_result",
          "data": {
            "text/plain": [
              "SimpleImputer(copy=True, fill_value=None, missing_values=nan,\n",
              "       strategy='most_frequent', verbose=0)"
            ]
          },
          "metadata": {
            "tags": []
          },
          "execution_count": 7
        }
      ]
    },
    {
      "cell_type": "code",
      "metadata": {
        "id": "acrU79lCVec0",
        "colab_type": "code",
        "colab": {},
        "outputId": "38829fd6-98bf-4364-a8e8-e01f71b91237"
      },
      "source": [
        "# we can look at the learnt frequent values like this:\n",
        "imputer.statistics_"
      ],
      "execution_count": 0,
      "outputs": [
        {
          "output_type": "execute_result",
          "data": {
            "text/plain": [
              "array(['TA', 'Gd', 'RL', 0, 60.0, 0.0, 'Pave', 'Pave'], dtype=object)"
            ]
          },
          "metadata": {
            "tags": []
          },
          "execution_count": 8
        }
      ]
    },
    {
      "cell_type": "markdown",
      "metadata": {
        "id": "m_eDQUNSVedA",
        "colab_type": "text"
      },
      "source": [
        "**Note** that the transformer learns the most frequent value for both categorical AND numerical variables."
      ]
    },
    {
      "cell_type": "code",
      "metadata": {
        "id": "mghFk756VedD",
        "colab_type": "code",
        "colab": {},
        "outputId": "c7a991a9-49b3-456f-c0f1-f28ed12e9f4f"
      },
      "source": [
        "# and we can investigate the frequent values to corroborate\n",
        "# the imputer did a good job\n",
        "X_train[cols_to_use].mode()"
      ],
      "execution_count": 0,
      "outputs": [
        {
          "output_type": "execute_result",
          "data": {
            "text/html": [
              "<div>\n",
              "<style scoped>\n",
              "    .dataframe tbody tr th:only-of-type {\n",
              "        vertical-align: middle;\n",
              "    }\n",
              "\n",
              "    .dataframe tbody tr th {\n",
              "        vertical-align: top;\n",
              "    }\n",
              "\n",
              "    .dataframe thead th {\n",
              "        text-align: right;\n",
              "    }\n",
              "</style>\n",
              "<table border=\"1\" class=\"dataframe\">\n",
              "  <thead>\n",
              "    <tr style=\"text-align: right;\">\n",
              "      <th></th>\n",
              "      <th>BsmtQual</th>\n",
              "      <th>FireplaceQu</th>\n",
              "      <th>MSZoning</th>\n",
              "      <th>BsmtUnfSF</th>\n",
              "      <th>LotFrontage</th>\n",
              "      <th>MasVnrArea</th>\n",
              "      <th>Street</th>\n",
              "      <th>Alley</th>\n",
              "    </tr>\n",
              "  </thead>\n",
              "  <tbody>\n",
              "    <tr>\n",
              "      <th>0</th>\n",
              "      <td>TA</td>\n",
              "      <td>Gd</td>\n",
              "      <td>RL</td>\n",
              "      <td>0</td>\n",
              "      <td>60.0</td>\n",
              "      <td>0.0</td>\n",
              "      <td>Pave</td>\n",
              "      <td>Pave</td>\n",
              "    </tr>\n",
              "  </tbody>\n",
              "</table>\n",
              "</div>"
            ],
            "text/plain": [
              "  BsmtQual FireplaceQu MSZoning  BsmtUnfSF  LotFrontage  MasVnrArea Street  \\\n",
              "0       TA          Gd       RL          0         60.0         0.0   Pave   \n",
              "\n",
              "  Alley  \n",
              "0  Pave  "
            ]
          },
          "metadata": {
            "tags": []
          },
          "execution_count": 9
        }
      ]
    },
    {
      "cell_type": "code",
      "metadata": {
        "id": "shsOjfg8VedN",
        "colab_type": "code",
        "colab": {},
        "outputId": "a324dc2d-be46-4a56-e1d9-02b7eda81cde"
      },
      "source": [
        "# and now we impute the train and test set\n",
        "\n",
        "# NOTE: the data is returned as a numpy array!!!\n",
        "X_train = imputer.transform(X_train)\n",
        "X_test = imputer.transform(X_test)\n",
        "\n",
        "X_train"
      ],
      "execution_count": 0,
      "outputs": [
        {
          "output_type": "execute_result",
          "data": {
            "text/plain": [
              "array([['Gd', 'Gd', 'RL', ..., 573.0, 'Pave', 'Pave'],\n",
              "       ['Gd', 'Gd', 'RL', ..., 0.0, 'Pave', 'Pave'],\n",
              "       ['TA', 'Gd', 'RL', ..., 0.0, 'Pave', 'Pave'],\n",
              "       ...,\n",
              "       ['TA', 'Gd', 'RM', ..., 0.0, 'Pave', 'Pave'],\n",
              "       ['Gd', 'TA', 'RL', ..., 18.0, 'Pave', 'Pave'],\n",
              "       ['Gd', 'Gd', 'RL', ..., 30.0, 'Pave', 'Pave']], dtype=object)"
            ]
          },
          "metadata": {
            "tags": []
          },
          "execution_count": 10
        }
      ]
    },
    {
      "cell_type": "code",
      "metadata": {
        "id": "Lnwio48pVedZ",
        "colab_type": "code",
        "colab": {},
        "outputId": "cf55be57-2e85-466a-871e-8a1c1d617d1a"
      },
      "source": [
        "# encode the train set back to a dataframe:\n",
        "\n",
        "pd.DataFrame(X_train, columns=cols_to_use).head()"
      ],
      "execution_count": 0,
      "outputs": [
        {
          "output_type": "execute_result",
          "data": {
            "text/html": [
              "<div>\n",
              "<style scoped>\n",
              "    .dataframe tbody tr th:only-of-type {\n",
              "        vertical-align: middle;\n",
              "    }\n",
              "\n",
              "    .dataframe tbody tr th {\n",
              "        vertical-align: top;\n",
              "    }\n",
              "\n",
              "    .dataframe thead th {\n",
              "        text-align: right;\n",
              "    }\n",
              "</style>\n",
              "<table border=\"1\" class=\"dataframe\">\n",
              "  <thead>\n",
              "    <tr style=\"text-align: right;\">\n",
              "      <th></th>\n",
              "      <th>BsmtQual</th>\n",
              "      <th>FireplaceQu</th>\n",
              "      <th>MSZoning</th>\n",
              "      <th>BsmtUnfSF</th>\n",
              "      <th>LotFrontage</th>\n",
              "      <th>MasVnrArea</th>\n",
              "      <th>Street</th>\n",
              "      <th>Alley</th>\n",
              "    </tr>\n",
              "  </thead>\n",
              "  <tbody>\n",
              "    <tr>\n",
              "      <th>0</th>\n",
              "      <td>Gd</td>\n",
              "      <td>Gd</td>\n",
              "      <td>RL</td>\n",
              "      <td>318</td>\n",
              "      <td>60</td>\n",
              "      <td>573</td>\n",
              "      <td>Pave</td>\n",
              "      <td>Pave</td>\n",
              "    </tr>\n",
              "    <tr>\n",
              "      <th>1</th>\n",
              "      <td>Gd</td>\n",
              "      <td>Gd</td>\n",
              "      <td>RL</td>\n",
              "      <td>288</td>\n",
              "      <td>60</td>\n",
              "      <td>0</td>\n",
              "      <td>Pave</td>\n",
              "      <td>Pave</td>\n",
              "    </tr>\n",
              "    <tr>\n",
              "      <th>2</th>\n",
              "      <td>TA</td>\n",
              "      <td>Gd</td>\n",
              "      <td>RL</td>\n",
              "      <td>162</td>\n",
              "      <td>50</td>\n",
              "      <td>0</td>\n",
              "      <td>Pave</td>\n",
              "      <td>Pave</td>\n",
              "    </tr>\n",
              "    <tr>\n",
              "      <th>3</th>\n",
              "      <td>TA</td>\n",
              "      <td>Gd</td>\n",
              "      <td>RL</td>\n",
              "      <td>356</td>\n",
              "      <td>60</td>\n",
              "      <td>0</td>\n",
              "      <td>Pave</td>\n",
              "      <td>Pave</td>\n",
              "    </tr>\n",
              "    <tr>\n",
              "      <th>4</th>\n",
              "      <td>TA</td>\n",
              "      <td>Gd</td>\n",
              "      <td>RL</td>\n",
              "      <td>0</td>\n",
              "      <td>60</td>\n",
              "      <td>0</td>\n",
              "      <td>Pave</td>\n",
              "      <td>Pave</td>\n",
              "    </tr>\n",
              "  </tbody>\n",
              "</table>\n",
              "</div>"
            ],
            "text/plain": [
              "  BsmtQual FireplaceQu MSZoning BsmtUnfSF LotFrontage MasVnrArea Street Alley\n",
              "0       Gd          Gd       RL       318          60        573   Pave  Pave\n",
              "1       Gd          Gd       RL       288          60          0   Pave  Pave\n",
              "2       TA          Gd       RL       162          50          0   Pave  Pave\n",
              "3       TA          Gd       RL       356          60          0   Pave  Pave\n",
              "4       TA          Gd       RL         0          60          0   Pave  Pave"
            ]
          },
          "metadata": {
            "tags": []
          },
          "execution_count": 11
        }
      ]
    },
    {
      "cell_type": "markdown",
      "metadata": {
        "id": "OyX_ymMoVedl",
        "colab_type": "text"
      },
      "source": [
        "### SimpleImputer: different procedures on different features"
      ]
    },
    {
      "cell_type": "code",
      "metadata": {
        "id": "u9aJ24mdVedp",
        "colab_type": "code",
        "colab": {},
        "outputId": "eba89276-5853-4b18-b4f7-e8e8e4c9d3d5"
      },
      "source": [
        "# let's separate into training and testing set\n",
        "\n",
        "X_train, X_test, y_train, y_test = train_test_split(data[cols_to_use],\n",
        "                                                    data['SalePrice'],\n",
        "                                                    test_size=0.3,\n",
        "                                                    random_state=0)\n",
        "X_train.shape, X_test.shape"
      ],
      "execution_count": 0,
      "outputs": [
        {
          "output_type": "execute_result",
          "data": {
            "text/plain": [
              "((1022, 8), (438, 8))"
            ]
          },
          "metadata": {
            "tags": []
          },
          "execution_count": 12
        }
      ]
    },
    {
      "cell_type": "code",
      "metadata": {
        "id": "l9VJseCNVedw",
        "colab_type": "code",
        "colab": {},
        "outputId": "234bf884-025f-4741-a300-16d3c74e3001"
      },
      "source": [
        "# let's look at the missing values\n",
        "X_train.isnull().mean()"
      ],
      "execution_count": 0,
      "outputs": [
        {
          "output_type": "execute_result",
          "data": {
            "text/plain": [
              "BsmtQual       0.023483\n",
              "FireplaceQu    0.467710\n",
              "MSZoning       0.000000\n",
              "BsmtUnfSF      0.000000\n",
              "LotFrontage    0.184932\n",
              "MasVnrArea     0.004892\n",
              "Street         0.000000\n",
              "Alley          0.939335\n",
              "dtype: float64"
            ]
          },
          "metadata": {
            "tags": []
          },
          "execution_count": 13
        }
      ]
    },
    {
      "cell_type": "markdown",
      "metadata": {
        "id": "F3S3CEwYVed6",
        "colab_type": "text"
      },
      "source": [
        "For this demo, I will impute:\n",
        "\n",
        "- categorical variables with the frequent category\n",
        "- numerical variables with the mean."
      ]
    },
    {
      "cell_type": "code",
      "metadata": {
        "id": "hWpmE5VaVed9",
        "colab_type": "code",
        "colab": {}
      },
      "source": [
        "# first we need to make lists, indicating which features\n",
        "# will be imputed with each method\n",
        "\n",
        "features_numeric = ['BsmtUnfSF', 'LotFrontage', 'MasVnrArea', ]\n",
        "features_categoric = ['BsmtQual', 'FireplaceQu', 'MSZoning',\n",
        "                      'Street', 'Alley']\n",
        "\n",
        "# then we instantiate the imputers, within a pipeline\n",
        "# we create one mean imputer and one frequent category imputer\n",
        "# by changing the parameter in the strategy\n",
        "\n",
        "numeric_imputer = Pipeline(steps=[\n",
        "    ('imputer', SimpleImputer(strategy='mean')),\n",
        "])\n",
        "\n",
        "categoric_imputer = Pipeline(steps=[\n",
        "    ('imputer', SimpleImputer(strategy='most_frequent')),\n",
        "])\n",
        "\n",
        "# then we put the features list and the transformers together\n",
        "# using the column transformer\n",
        "\n",
        "preprocessor = ColumnTransformer(transformers=[\n",
        "    ('numeric_imputer', numeric_imputer, features_numeric),\n",
        "    ('categoric_imputer', categoric_imputer, features_categoric)\n",
        "])"
      ],
      "execution_count": 0,
      "outputs": []
    },
    {
      "cell_type": "code",
      "metadata": {
        "id": "-ktwxZFVVeeF",
        "colab_type": "code",
        "colab": {},
        "outputId": "24690170-430a-49fe-81a6-3735e36f41f5"
      },
      "source": [
        "# now we fit the preprocessor\n",
        "preprocessor.fit(X_train)"
      ],
      "execution_count": 0,
      "outputs": [
        {
          "output_type": "execute_result",
          "data": {
            "text/plain": [
              "ColumnTransformer(n_jobs=None, remainder='drop', sparse_threshold=0.3,\n",
              "         transformer_weights=None,\n",
              "         transformers=[('numeric_imputer', Pipeline(memory=None,\n",
              "     steps=[('imputer', SimpleImputer(copy=True, fill_value=None, missing_values=nan, strategy='mean',\n",
              "       verbose=0))]), ['BsmtUnfSF', 'LotFrontage', 'MasVnrArea']), ('categoric_imputer', Pipeline(memory=None,\n",
              "     steps=[('imputer', SimpleImputer(copy=True, fill_value=None, missing_values=nan,\n",
              "       strategy='most_frequent', verbose=0))]), ['BsmtQual', 'FireplaceQu', 'MSZoning', 'Street', 'Alley'])])"
            ]
          },
          "metadata": {
            "tags": []
          },
          "execution_count": 15
        }
      ]
    },
    {
      "cell_type": "code",
      "metadata": {
        "id": "OZWpJ6dhVeeP",
        "colab_type": "code",
        "colab": {},
        "outputId": "13962108-d6fe-4898-8064-3e0792a52aff"
      },
      "source": [
        "# we can explore the transformers like this:\n",
        "\n",
        "preprocessor.transformers"
      ],
      "execution_count": 0,
      "outputs": [
        {
          "output_type": "execute_result",
          "data": {
            "text/plain": [
              "[('numeric_imputer', Pipeline(memory=None,\n",
              "       steps=[('imputer', SimpleImputer(copy=True, fill_value=None, missing_values=nan, strategy='mean',\n",
              "         verbose=0))]), ['BsmtUnfSF', 'LotFrontage', 'MasVnrArea']),\n",
              " ('categoric_imputer', Pipeline(memory=None,\n",
              "       steps=[('imputer', SimpleImputer(copy=True, fill_value=None, missing_values=nan,\n",
              "         strategy='most_frequent', verbose=0))]), ['BsmtQual',\n",
              "   'FireplaceQu',\n",
              "   'MSZoning',\n",
              "   'Street',\n",
              "   'Alley'])]"
            ]
          },
          "metadata": {
            "tags": []
          },
          "execution_count": 16
        }
      ]
    },
    {
      "cell_type": "code",
      "metadata": {
        "id": "l2KpIbqaVeeY",
        "colab_type": "code",
        "colab": {},
        "outputId": "4eb13375-62e3-439a-a867-fdb6a5cec3c9"
      },
      "source": [
        "# and we can look at the parameters learnt like this:\n",
        "\n",
        "# for the mean imputer\n",
        "preprocessor.named_transformers_['numeric_imputer'].named_steps['imputer'].statistics_"
      ],
      "execution_count": 0,
      "outputs": [
        {
          "output_type": "execute_result",
          "data": {
            "text/plain": [
              "array([565.99217221,  69.66866747, 103.55358899])"
            ]
          },
          "metadata": {
            "tags": []
          },
          "execution_count": 17
        }
      ]
    },
    {
      "cell_type": "code",
      "metadata": {
        "id": "mFFMfmbdVeej",
        "colab_type": "code",
        "colab": {},
        "outputId": "9ea6bb2e-6230-4723-f052-18106611f8fb"
      },
      "source": [
        "# and we can corroborate the value with that one in\n",
        "# the train set\n",
        "X_train[features_numeric].mean()"
      ],
      "execution_count": 0,
      "outputs": [
        {
          "output_type": "execute_result",
          "data": {
            "text/plain": [
              "BsmtUnfSF      565.992172\n",
              "LotFrontage     69.668667\n",
              "MasVnrArea     103.553589\n",
              "dtype: float64"
            ]
          },
          "metadata": {
            "tags": []
          },
          "execution_count": 18
        }
      ]
    },
    {
      "cell_type": "code",
      "metadata": {
        "id": "diSgi7zFVeer",
        "colab_type": "code",
        "colab": {},
        "outputId": "22c6ac79-edf8-4d06-e303-6979ba63b4a9"
      },
      "source": [
        "# for frequent category imputer\n",
        "\n",
        "preprocessor.named_transformers_['categoric_imputer'].named_steps['imputer'].statistics_"
      ],
      "execution_count": 0,
      "outputs": [
        {
          "output_type": "execute_result",
          "data": {
            "text/plain": [
              "array(['TA', 'Gd', 'RL', 'Pave', 'Pave'], dtype=object)"
            ]
          },
          "metadata": {
            "tags": []
          },
          "execution_count": 19
        }
      ]
    },
    {
      "cell_type": "code",
      "metadata": {
        "id": "aFUY7kO-Vee0",
        "colab_type": "code",
        "colab": {},
        "outputId": "b20531ee-e528-4797-95dc-921a15999b25"
      },
      "source": [
        "# and we corroborate those values in the train set\n",
        "\n",
        "X_train[features_categoric].mode()"
      ],
      "execution_count": 0,
      "outputs": [
        {
          "output_type": "execute_result",
          "data": {
            "text/html": [
              "<div>\n",
              "<style scoped>\n",
              "    .dataframe tbody tr th:only-of-type {\n",
              "        vertical-align: middle;\n",
              "    }\n",
              "\n",
              "    .dataframe tbody tr th {\n",
              "        vertical-align: top;\n",
              "    }\n",
              "\n",
              "    .dataframe thead th {\n",
              "        text-align: right;\n",
              "    }\n",
              "</style>\n",
              "<table border=\"1\" class=\"dataframe\">\n",
              "  <thead>\n",
              "    <tr style=\"text-align: right;\">\n",
              "      <th></th>\n",
              "      <th>BsmtQual</th>\n",
              "      <th>FireplaceQu</th>\n",
              "      <th>MSZoning</th>\n",
              "      <th>Street</th>\n",
              "      <th>Alley</th>\n",
              "    </tr>\n",
              "  </thead>\n",
              "  <tbody>\n",
              "    <tr>\n",
              "      <th>0</th>\n",
              "      <td>TA</td>\n",
              "      <td>Gd</td>\n",
              "      <td>RL</td>\n",
              "      <td>Pave</td>\n",
              "      <td>Pave</td>\n",
              "    </tr>\n",
              "  </tbody>\n",
              "</table>\n",
              "</div>"
            ],
            "text/plain": [
              "  BsmtQual FireplaceQu MSZoning Street Alley\n",
              "0       TA          Gd       RL   Pave  Pave"
            ]
          },
          "metadata": {
            "tags": []
          },
          "execution_count": 20
        }
      ]
    },
    {
      "cell_type": "code",
      "metadata": {
        "id": "YGLA3OM2Vee9",
        "colab_type": "code",
        "colab": {}
      },
      "source": [
        "# and now we can impute the data\n",
        "X_train = preprocessor.transform(X_train)\n",
        "X_test = preprocessor.transform(X_test)"
      ],
      "execution_count": 0,
      "outputs": []
    },
    {
      "cell_type": "code",
      "metadata": {
        "id": "RcelAIhOVefF",
        "colab_type": "code",
        "colab": {},
        "outputId": "78763b4e-645b-4952-8c5b-4c5cca82071b"
      },
      "source": [
        "X_train.shape"
      ],
      "execution_count": 0,
      "outputs": [
        {
          "output_type": "execute_result",
          "data": {
            "text/plain": [
              "(1022, 8)"
            ]
          },
          "metadata": {
            "tags": []
          },
          "execution_count": 22
        }
      ]
    },
    {
      "cell_type": "code",
      "metadata": {
        "id": "8Y5_mTL7VefN",
        "colab_type": "code",
        "colab": {},
        "outputId": "57f520f2-7e0e-4e20-b73a-3ccc43238e82"
      },
      "source": [
        "# see how the result of the imputation is a 3 column dataset\n",
        "pd.DataFrame(X_train,\n",
        "             columns=features_numeric + features_categoric).head()"
      ],
      "execution_count": 0,
      "outputs": [
        {
          "output_type": "execute_result",
          "data": {
            "text/html": [
              "<div>\n",
              "<style scoped>\n",
              "    .dataframe tbody tr th:only-of-type {\n",
              "        vertical-align: middle;\n",
              "    }\n",
              "\n",
              "    .dataframe tbody tr th {\n",
              "        vertical-align: top;\n",
              "    }\n",
              "\n",
              "    .dataframe thead th {\n",
              "        text-align: right;\n",
              "    }\n",
              "</style>\n",
              "<table border=\"1\" class=\"dataframe\">\n",
              "  <thead>\n",
              "    <tr style=\"text-align: right;\">\n",
              "      <th></th>\n",
              "      <th>BsmtUnfSF</th>\n",
              "      <th>LotFrontage</th>\n",
              "      <th>MasVnrArea</th>\n",
              "      <th>BsmtQual</th>\n",
              "      <th>FireplaceQu</th>\n",
              "      <th>MSZoning</th>\n",
              "      <th>Street</th>\n",
              "      <th>Alley</th>\n",
              "    </tr>\n",
              "  </thead>\n",
              "  <tbody>\n",
              "    <tr>\n",
              "      <th>0</th>\n",
              "      <td>318</td>\n",
              "      <td>69.6687</td>\n",
              "      <td>573</td>\n",
              "      <td>Gd</td>\n",
              "      <td>Gd</td>\n",
              "      <td>RL</td>\n",
              "      <td>Pave</td>\n",
              "      <td>Pave</td>\n",
              "    </tr>\n",
              "    <tr>\n",
              "      <th>1</th>\n",
              "      <td>288</td>\n",
              "      <td>69.6687</td>\n",
              "      <td>0</td>\n",
              "      <td>Gd</td>\n",
              "      <td>Gd</td>\n",
              "      <td>RL</td>\n",
              "      <td>Pave</td>\n",
              "      <td>Pave</td>\n",
              "    </tr>\n",
              "    <tr>\n",
              "      <th>2</th>\n",
              "      <td>162</td>\n",
              "      <td>50</td>\n",
              "      <td>0</td>\n",
              "      <td>TA</td>\n",
              "      <td>Gd</td>\n",
              "      <td>RL</td>\n",
              "      <td>Pave</td>\n",
              "      <td>Pave</td>\n",
              "    </tr>\n",
              "    <tr>\n",
              "      <th>3</th>\n",
              "      <td>356</td>\n",
              "      <td>60</td>\n",
              "      <td>0</td>\n",
              "      <td>TA</td>\n",
              "      <td>Gd</td>\n",
              "      <td>RL</td>\n",
              "      <td>Pave</td>\n",
              "      <td>Pave</td>\n",
              "    </tr>\n",
              "    <tr>\n",
              "      <th>4</th>\n",
              "      <td>0</td>\n",
              "      <td>60</td>\n",
              "      <td>0</td>\n",
              "      <td>TA</td>\n",
              "      <td>Gd</td>\n",
              "      <td>RL</td>\n",
              "      <td>Pave</td>\n",
              "      <td>Pave</td>\n",
              "    </tr>\n",
              "  </tbody>\n",
              "</table>\n",
              "</div>"
            ],
            "text/plain": [
              "  BsmtUnfSF LotFrontage MasVnrArea BsmtQual FireplaceQu MSZoning Street Alley\n",
              "0       318     69.6687        573       Gd          Gd       RL   Pave  Pave\n",
              "1       288     69.6687          0       Gd          Gd       RL   Pave  Pave\n",
              "2       162          50          0       TA          Gd       RL   Pave  Pave\n",
              "3       356          60          0       TA          Gd       RL   Pave  Pave\n",
              "4         0          60          0       TA          Gd       RL   Pave  Pave"
            ]
          },
          "metadata": {
            "tags": []
          },
          "execution_count": 23
        }
      ]
    },
    {
      "cell_type": "markdown",
      "metadata": {
        "id": "QUqv-DQUVefT",
        "colab_type": "text"
      },
      "source": [
        "In this case, we passed all the features available in the dataset to the missing data imputers, so the returned dataset contains all the variables."
      ]
    },
    {
      "cell_type": "code",
      "metadata": {
        "id": "ntxBlwQNVefU",
        "colab_type": "code",
        "colab": {}
      },
      "source": [
        ""
      ],
      "execution_count": 0,
      "outputs": []
    }
  ]
}