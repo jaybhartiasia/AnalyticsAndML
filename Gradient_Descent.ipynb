{
  "nbformat": 4,
  "nbformat_minor": 0,
  "metadata": {
    "colab": {
      "name": "Gradient Descent.ipynb",
      "version": "0.3.2",
      "provenance": [],
      "collapsed_sections": [],
      "include_colab_link": true
    },
    "kernelspec": {
      "display_name": "Python 3",
      "language": "python",
      "name": "python3"
    }
  },
  "cells": [
    {
      "cell_type": "markdown",
      "metadata": {
        "id": "view-in-github",
        "colab_type": "text"
      },
      "source": [
        "<a href=\"https://colab.research.google.com/github/vinay10949/AnalyticsAndML/blob/master/Gradient_Descent.ipynb\" target=\"_parent\"><img src=\"https://colab.research.google.com/assets/colab-badge.svg\" alt=\"Open In Colab\"/></a>"
      ]
    },
    {
      "cell_type": "markdown",
      "metadata": {
        "id": "VkOOg33M2iJp",
        "colab_type": "text"
      },
      "source": [
        "**Gradient Descent**"
      ]
    },
    {
      "cell_type": "code",
      "metadata": {
        "id": "QPzivAyl2iJw",
        "colab_type": "code",
        "outputId": "6bbfe742-ed22-43b1-be6a-2eb2f5077722",
        "colab": {
          "base_uri": "https://localhost:8080/",
          "height": 1788
        }
      },
      "source": [
        "import numpy as np\n",
        "import matplotlib.pyplot as plt\n",
        "from sklearn.datasets import make_blobs\n",
        "from sklearn.metrics import classification_report\n",
        "from sklearn.model_selection import train_test_split\n",
        "\n",
        "\n",
        "# Method: Used to compute the sigmoid activation value\n",
        "def sigmoid_activation(x):\n",
        "    \"\"\"\n",
        "    :param x: Feature matrix\n",
        "    :return: Predictions matrix\n",
        "    \"\"\"\n",
        "    return 1.0 / (1 + np.exp(-x))\n",
        "\n",
        "\n",
        "# Method: Used to obtain a set of predictions\n",
        "def predict(x, w):\n",
        "    \"\"\"\n",
        "    :param x: Feature matrix\n",
        "    :param w: Weights matrix\n",
        "    :return: Predictions matrix\n",
        "    \"\"\"\n",
        "    # Take the dot product between the features and weight matrices to get the prediction matrix\n",
        "    predictions = sigmoid_activation(x.dot(w))\n",
        "\n",
        "    # Apply a step function threshold for the binary outputs\n",
        "    predictions[predictions <= 0.5] = 0\n",
        "    predictions[predictions > 0] = 1\n",
        "\n",
        "    return predictions\n",
        "\n",
        "\n",
        "\n",
        "\n",
        "# Generate a 2-class 2D classification problem with 1,000 data points\n",
        "(x, y) = make_blobs(n_samples=1000, n_features=2, centers=2, cluster_std=1.5, random_state=1)\n",
        "y = y.reshape((y.shape[0]), 1)\n",
        "\n",
        "# Insert a column of 1's as the last entry of the feature matrix (bias trick)\n",
        "x = np.c_[x, np.ones((x.shape[0]))]\n",
        "\n",
        "# Split the data into training (50%) and testing (50%)\n",
        "(train_x, test_x, train_y, test_y) = train_test_split(x, y, test_size=0.5, random_state=42)\n",
        "\n",
        "# Initialize the weight matrix and list of losses\n",
        "print('[INFO]: Training....')\n",
        "w = np.random.randn(x.shape[1], 1)\n",
        "losses = []\n",
        "\n",
        "# Loop for the number of epochs\n",
        "for epoch in np.arange(0, 500):\n",
        "    # Take the dot product between the features and weight matrices to get the predictions matrix\n",
        "    predictions = sigmoid_activation(train_x.dot(w))\n",
        "\n",
        "    # Compute the error between the predictions and true values\n",
        "    error = predictions - train_y\n",
        "    loss = np.sum(error ** 2)\n",
        "    losses.append(loss)\n",
        "\n",
        "    # Compute the gradient (dot product between the features and prediction errors)\n",
        "    gradient = train_x.T.dot(error)\n",
        "\n",
        "    # Update the weight matrix by 'nudging' it in the negative direction\n",
        "    w += -0.01 * gradient\n",
        "\n",
        "    # Check to see if an update should be displayed\n",
        "    if epoch == 0 or (epoch+1) % 5 == 0:\n",
        "        print('[INFO]: epoch={}, loss={:.4f}'.format(int(epoch + 1), loss))\n",
        "\n"
      ],
      "execution_count": 1,
      "outputs": [
        {
          "output_type": "stream",
          "text": [
            "[INFO]: Training....\n",
            "[INFO]: epoch=1, loss=130.4782\n",
            "[INFO]: epoch=5, loss=7.6807\n",
            "[INFO]: epoch=10, loss=6.7224\n",
            "[INFO]: epoch=15, loss=4.7489\n",
            "[INFO]: epoch=20, loss=2.1677\n",
            "[INFO]: epoch=25, loss=0.9842\n",
            "[INFO]: epoch=30, loss=0.4997\n",
            "[INFO]: epoch=35, loss=0.2278\n",
            "[INFO]: epoch=40, loss=0.1140\n",
            "[INFO]: epoch=45, loss=0.0665\n",
            "[INFO]: epoch=50, loss=0.0441\n",
            "[INFO]: epoch=55, loss=0.0321\n",
            "[INFO]: epoch=60, loss=0.0250\n",
            "[INFO]: epoch=65, loss=0.0204\n",
            "[INFO]: epoch=70, loss=0.0173\n",
            "[INFO]: epoch=75, loss=0.0150\n",
            "[INFO]: epoch=80, loss=0.0134\n",
            "[INFO]: epoch=85, loss=0.0121\n",
            "[INFO]: epoch=90, loss=0.0110\n",
            "[INFO]: epoch=95, loss=0.0102\n",
            "[INFO]: epoch=100, loss=0.0095\n",
            "[INFO]: epoch=105, loss=0.0089\n",
            "[INFO]: epoch=110, loss=0.0084\n",
            "[INFO]: epoch=115, loss=0.0079\n",
            "[INFO]: epoch=120, loss=0.0075\n",
            "[INFO]: epoch=125, loss=0.0072\n",
            "[INFO]: epoch=130, loss=0.0069\n",
            "[INFO]: epoch=135, loss=0.0066\n",
            "[INFO]: epoch=140, loss=0.0063\n",
            "[INFO]: epoch=145, loss=0.0061\n",
            "[INFO]: epoch=150, loss=0.0059\n",
            "[INFO]: epoch=155, loss=0.0057\n",
            "[INFO]: epoch=160, loss=0.0055\n",
            "[INFO]: epoch=165, loss=0.0054\n",
            "[INFO]: epoch=170, loss=0.0052\n",
            "[INFO]: epoch=175, loss=0.0051\n",
            "[INFO]: epoch=180, loss=0.0049\n",
            "[INFO]: epoch=185, loss=0.0048\n",
            "[INFO]: epoch=190, loss=0.0047\n",
            "[INFO]: epoch=195, loss=0.0045\n",
            "[INFO]: epoch=200, loss=0.0044\n",
            "[INFO]: epoch=205, loss=0.0043\n",
            "[INFO]: epoch=210, loss=0.0042\n",
            "[INFO]: epoch=215, loss=0.0041\n",
            "[INFO]: epoch=220, loss=0.0040\n",
            "[INFO]: epoch=225, loss=0.0040\n",
            "[INFO]: epoch=230, loss=0.0039\n",
            "[INFO]: epoch=235, loss=0.0038\n",
            "[INFO]: epoch=240, loss=0.0037\n",
            "[INFO]: epoch=245, loss=0.0037\n",
            "[INFO]: epoch=250, loss=0.0036\n",
            "[INFO]: epoch=255, loss=0.0035\n",
            "[INFO]: epoch=260, loss=0.0034\n",
            "[INFO]: epoch=265, loss=0.0034\n",
            "[INFO]: epoch=270, loss=0.0033\n",
            "[INFO]: epoch=275, loss=0.0033\n",
            "[INFO]: epoch=280, loss=0.0032\n",
            "[INFO]: epoch=285, loss=0.0032\n",
            "[INFO]: epoch=290, loss=0.0031\n",
            "[INFO]: epoch=295, loss=0.0031\n",
            "[INFO]: epoch=300, loss=0.0030\n",
            "[INFO]: epoch=305, loss=0.0030\n",
            "[INFO]: epoch=310, loss=0.0029\n",
            "[INFO]: epoch=315, loss=0.0029\n",
            "[INFO]: epoch=320, loss=0.0028\n",
            "[INFO]: epoch=325, loss=0.0028\n",
            "[INFO]: epoch=330, loss=0.0027\n",
            "[INFO]: epoch=335, loss=0.0027\n",
            "[INFO]: epoch=340, loss=0.0027\n",
            "[INFO]: epoch=345, loss=0.0026\n",
            "[INFO]: epoch=350, loss=0.0026\n",
            "[INFO]: epoch=355, loss=0.0025\n",
            "[INFO]: epoch=360, loss=0.0025\n",
            "[INFO]: epoch=365, loss=0.0025\n",
            "[INFO]: epoch=370, loss=0.0024\n",
            "[INFO]: epoch=375, loss=0.0024\n",
            "[INFO]: epoch=380, loss=0.0024\n",
            "[INFO]: epoch=385, loss=0.0024\n",
            "[INFO]: epoch=390, loss=0.0023\n",
            "[INFO]: epoch=395, loss=0.0023\n",
            "[INFO]: epoch=400, loss=0.0023\n",
            "[INFO]: epoch=405, loss=0.0022\n",
            "[INFO]: epoch=410, loss=0.0022\n",
            "[INFO]: epoch=415, loss=0.0022\n",
            "[INFO]: epoch=420, loss=0.0022\n",
            "[INFO]: epoch=425, loss=0.0021\n",
            "[INFO]: epoch=430, loss=0.0021\n",
            "[INFO]: epoch=435, loss=0.0021\n",
            "[INFO]: epoch=440, loss=0.0021\n",
            "[INFO]: epoch=445, loss=0.0020\n",
            "[INFO]: epoch=450, loss=0.0020\n",
            "[INFO]: epoch=455, loss=0.0020\n",
            "[INFO]: epoch=460, loss=0.0020\n",
            "[INFO]: epoch=465, loss=0.0019\n",
            "[INFO]: epoch=470, loss=0.0019\n",
            "[INFO]: epoch=475, loss=0.0019\n",
            "[INFO]: epoch=480, loss=0.0019\n",
            "[INFO]: epoch=485, loss=0.0019\n",
            "[INFO]: epoch=490, loss=0.0018\n",
            "[INFO]: epoch=495, loss=0.0018\n",
            "[INFO]: epoch=500, loss=0.0018\n"
          ],
          "name": "stdout"
        }
      ]
    },
    {
      "cell_type": "code",
      "metadata": {
        "id": "ZRP6Getl2iJz",
        "colab_type": "code",
        "outputId": "91be167f-a197-4612-b95b-6dbbbecb35b5",
        "colab": {
          "base_uri": "https://localhost:8080/",
          "height": 738
        }
      },
      "source": [
        "# Evaluate the model\n",
        "print('[INFO]: Evaluating....')\n",
        "predictions = predict(test_x, w)\n",
        "print(classification_report(test_y, predictions))\n",
        "\n",
        "# Plot the classification (test) data\n",
        "plt.style.use('ggplot')\n",
        "plt.figure()\n",
        "plt.title('Data')\n",
        "plt.scatter(test_x[:, 0], test_x[:, 1], marker='o', s=30)\n",
        "\n",
        "# Plot the loss over time\n",
        "plt.style.use('ggplot')\n",
        "plt.figure()\n",
        "plt.title('Training Loss')\n",
        "plt.plot(np.arange(0, 500), losses)\n",
        "plt.xlabel('Epoch #')\n",
        "plt.ylabel('Loss')\n",
        "plt.show()"
      ],
      "execution_count": 2,
      "outputs": [
        {
          "output_type": "stream",
          "text": [
            "[INFO]: Evaluating....\n",
            "              precision    recall  f1-score   support\n",
            "\n",
            "           0       1.00      1.00      1.00       250\n",
            "           1       1.00      1.00      1.00       250\n",
            "\n",
            "    accuracy                           1.00       500\n",
            "   macro avg       1.00      1.00      1.00       500\n",
            "weighted avg       1.00      1.00      1.00       500\n",
            "\n"
          ],
          "name": "stdout"
        },
        {
          "output_type": "display_data",
          "data": {
            "image/png": "[encoded data removed]",
            "text/plain": [
              "<Figure size 432x288 with 1 Axes>"
            ]
          },
          "metadata": {
            "tags": []
          }
        },
        {
          "output_type": "display_data",
          "data": {
            "image/png": "[encoded data removed]",
            "text/plain": [
              "<Figure size 432x288 with 1 Axes>"
            ]
          },
          "metadata": {
            "tags": []
          }
        }
      ]
    },
    {
      "cell_type": "code",
      "metadata": {
        "id": "vZI8R4vcCCQT",
        "colab_type": "code",
        "colab": {}
      },
      "source": [
        ""
      ],
      "execution_count": 0,
      "outputs": []
    }
  ]
}