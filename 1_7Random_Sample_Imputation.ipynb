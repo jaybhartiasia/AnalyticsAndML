{
  "nbformat": 4,
  "nbformat_minor": 0,
  "metadata": {
    "kernelspec": {
      "display_name": "Python 3",
      "language": "python",
      "name": "python3"
    },
    "language_info": {
      "codemirror_mode": {
        "name": "ipython",
        "version": 3
      },
      "file_extension": ".py",
      "mimetype": "text/x-python",
      "name": "python",
      "nbconvert_exporter": "python",
      "pygments_lexer": "ipython3",
      "version": "3.7.3"
    },
    "toc": {
      "nav_menu": {},
      "number_sections": true,
      "sideBar": true,
      "skip_h1_title": false,
      "toc_cell": false,
      "toc_position": {},
      "toc_section_display": "block",
      "toc_window_display": true
    },
    "colab": {
      "name": "1.7Random-Sample-Imputation.ipynb",
      "provenance": [],
      "collapsed_sections": [
        "ACLsqvCaRYwB"
      ],
      "include_colab_link": true
    }
  },
  "cells": [
    {
      "cell_type": "markdown",
      "metadata": {
        "id": "view-in-github",
        "colab_type": "text"
      },
      "source": [
        "<a href=\"https://colab.research.google.com/github/vinay10949/AnalyticsAndML/blob/master/1_7Random_Sample_Imputation.ipynb\" target=\"_parent\"><img src=\"https://colab.research.google.com/assets/colab-badge.svg\" alt=\"Open In Colab\"/></a>"
      ]
    },
    {
      "cell_type": "markdown",
      "metadata": {
        "id": "0PrI39R9RYp4",
        "colab_type": "text"
      },
      "source": [
        "## Random sample imputation\n",
        "\n",
        "Imputation is the act of replacing missing data with statistical estimates of the missing values. The goal of any imputation technique is to produce a **complete dataset** that can then be then used for machine learning.\n",
        "\n",
        "Random sampling imputation is in principle similar to mean / median / mode imputation, in the sense that it aims to preserve the statistical parameters of the original variable, for which data is missing.\n",
        "\n",
        "Random sampling consist of taking a random observation from the pool of available observations of the variable, and using that randomly extracted value to fill the NA. In random sample imputation one takes as many random observations as missing values are present in the variable.\n",
        "\n",
        "By random sampling observations of the variable for those instances where data is available, we guarantee that the mean and standard deviation of the variable are preserved.\n",
        "\n",
        "By random sampling observations of the present categories, for categorical variables, we guarantee that the frequency of the different categories / labels within the variable is preserved.\n",
        "\n",
        "\n",
        "### Which variables can I impute by Random Sample Imputation?\n",
        "\n",
        "Random Sample Imputation can be applied to both numerical and categorical variables.\n",
        "\n",
        "\n",
        "### Assumptions\n",
        "\n",
        "Random sample imputation assumes that the data are missing completely at random (MCAR). If this is the case, it makes sense to substitute the missing values by values extracted from the original variable distribution. \n",
        "\n",
        "From a probabilistic point of view, values that are more frequent, like the mean or the median or the most frequent category, for categorical variables, will be selected more often -because there are more of them to select from-, but other less frequent values will be selected as well. Thus, the variance and distribution of the variable are preserved. \n",
        "\n",
        "The idea is to replace the population of missing values with a population of values with the same distribution of the original variable.\n",
        "\n",
        "\n",
        "### Advantages\n",
        "\n",
        "- Easy to implement\n",
        "- Fast way of obtaining complete datasets\n",
        "- Preserves the variance of the variable\n",
        "\n",
        "### Limitations\n",
        "\n",
        "- Randomness\n",
        "- The relationship of imputed variables with other variables may be affected if there are a lot of NA\n",
        "- Memory heavy for deployment, as we need to store the original training set to extract values from and replace the NA in coming observations.\n",
        "\n",
        "\n",
        "### When to use Random Sample Imputation?\n",
        "\n",
        "- Data is missing completely at random\n",
        "- No more than 5% of the variable contains missing data\n",
        "- Well suited for linear models as it does not distort the distribution, regardless of the % of NA\n",
        "\n",
        "If used in combination with a Missing Indicator, as we will see in the next lecture, then this method can be used when data is not missing at random as well, or when there are many missing observations.\n",
        "\n",
        "\n",
        "#### Randomness\n",
        "\n",
        "Randomness may not seem much of a concern when replacing missing values for data competitions, where the whole batch of missing values is replaced once and then the dataset is scored and that is the end of the problem. However, in business scenarios the situation is very different. \n",
        "\n",
        "Imagine for example a car manufacturer is trying to predict how long a certain car will be in the garage before it passes all the security tests. Today, they receive a car with missing data in some of the variables, they run the machine learning model to predict how long this car will stay in the garage, the model replaces missing values by a random sample of the variable and then produces an estimate of time. Tomorrow, when they run the same model on the same car, the model will randomly assign values to the missing data, that may or may not be the same as the ones it selected today, therefore, the final estimation of time in the garage, may or may not be the same as the one obtained the day before.\n",
        "\n",
        "In addition, imagine the car manufacturer evaluates 2 different cars that have exactly the same values for all of the variables, and missing values in exactly the same subset of variables. They run the machine learning model for each car, and because the missing data is randomly filled with values, the 2 cars, that are exactly the same, may end up with different estimates of time in the garage.\n",
        "\n",
        "This may sound completely trivial and unimportant, however, businesses must follow a variety of regulations, and some of them require the same treatment to be provided to the same situation. So if instead of cars, these were people applying for a loan, or people seeking for disease treatment, the machine learning model would end up providing different solutions to candidates that are otherwise in the same conditions. And this is not fair or acceptable. This behaviour needs to be avoided.\n",
        "\n",
        "#### So, should we randomly replace NA or not?\n",
        "\n",
        "It is still possible to replace missing data by random sample, but these randomness needs to be controlled, so that individuals in the same situation end up with the same scores and therefore with the same solutions offered. How can we ensure this? by appropriately setting seeds during the random extraction of values.\n",
        "\n",
        "Finally, another potential limitation of random sampling, similarly to replacing with the mean and median, is that estimates of covariance and correlations with other variables in the dataset may also be washed off by the randomness, particularly if there are a lot of missing observations.\n",
        "\n",
        "\n",
        "### Final note\n",
        "\n",
        "Replacement of missing values by random sample, although similar in concept to replacement by the median or mean, is not as widely used in the data science community as the mean / median imputation, presumably because of the element of randomness, or because the code implementation is not so straightforward.\n",
        "\n",
        "However, it is a valid approach, with clear advantages over mean / median imputation as it preserves the distribution of the variable. And if you are mindful of the element of randomness and account for it somehow, this may as well be your method of choice, particularly for linear models.\n"
      ]
    },
    {
      "cell_type": "code",
      "metadata": {
        "id": "XV4tZOq8RYqE",
        "colab_type": "code",
        "colab": {}
      },
      "source": [
        "import pandas as pd\n",
        "import numpy as np\n",
        "\n",
        "import matplotlib.pyplot as plt\n",
        "\n",
        "# to split and standarise the datasets\n",
        "from sklearn.model_selection import train_test_split"
      ],
      "execution_count": 0,
      "outputs": []
    },
    {
      "cell_type": "markdown",
      "metadata": {
        "id": "NmjK2GPwRYqm",
        "colab_type": "text"
      },
      "source": [
        "## Random Sampling for Numerical Variables"
      ]
    },
    {
      "cell_type": "code",
      "metadata": {
        "id": "wNLBrHAdRYqt",
        "colab_type": "code",
        "colab": {
          "base_uri": "https://localhost:8080/",
          "height": 206
        },
        "outputId": "ab56bc69-6375-4bdb-8468-3137e4083f73"
      },
      "source": [
        "# load the Titanic Dataset with a few variables for demonstration\n",
        "\n",
        "data = pd.read_csv('titanic_train.csv', usecols=['Age', 'Fare', 'Survived'])\n",
        "data.head()"
      ],
      "execution_count": 97,
      "outputs": [
        {
          "output_type": "execute_result",
          "data": {
            "text/html": [
              "<div>\n",
              "<style scoped>\n",
              "    .dataframe tbody tr th:only-of-type {\n",
              "        vertical-align: middle;\n",
              "    }\n",
              "\n",
              "    .dataframe tbody tr th {\n",
              "        vertical-align: top;\n",
              "    }\n",
              "\n",
              "    .dataframe thead th {\n",
              "        text-align: right;\n",
              "    }\n",
              "</style>\n",
              "<table border=\"1\" class=\"dataframe\">\n",
              "  <thead>\n",
              "    <tr style=\"text-align: right;\">\n",
              "      <th></th>\n",
              "      <th>Survived</th>\n",
              "      <th>Age</th>\n",
              "      <th>Fare</th>\n",
              "    </tr>\n",
              "  </thead>\n",
              "  <tbody>\n",
              "    <tr>\n",
              "      <th>0</th>\n",
              "      <td>0</td>\n",
              "      <td>22.0</td>\n",
              "      <td>7.2500</td>\n",
              "    </tr>\n",
              "    <tr>\n",
              "      <th>1</th>\n",
              "      <td>1</td>\n",
              "      <td>38.0</td>\n",
              "      <td>71.2833</td>\n",
              "    </tr>\n",
              "    <tr>\n",
              "      <th>2</th>\n",
              "      <td>1</td>\n",
              "      <td>26.0</td>\n",
              "      <td>7.9250</td>\n",
              "    </tr>\n",
              "    <tr>\n",
              "      <th>3</th>\n",
              "      <td>1</td>\n",
              "      <td>35.0</td>\n",
              "      <td>53.1000</td>\n",
              "    </tr>\n",
              "    <tr>\n",
              "      <th>4</th>\n",
              "      <td>0</td>\n",
              "      <td>35.0</td>\n",
              "      <td>8.0500</td>\n",
              "    </tr>\n",
              "  </tbody>\n",
              "</table>\n",
              "</div>"
            ],
            "text/plain": [
              "   Survived   Age     Fare\n",
              "0         0  22.0   7.2500\n",
              "1         1  38.0  71.2833\n",
              "2         1  26.0   7.9250\n",
              "3         1  35.0  53.1000\n",
              "4         0  35.0   8.0500"
            ]
          },
          "metadata": {
            "tags": []
          },
          "execution_count": 97
        }
      ]
    },
    {
      "cell_type": "code",
      "metadata": {
        "id": "5nBJb0buRYq_",
        "colab_type": "code",
        "colab": {
          "base_uri": "https://localhost:8080/",
          "height": 86
        },
        "outputId": "9a8c9a63-9d54-4213-bdcc-0d04fb4c14d4"
      },
      "source": [
        "# let's look at the percentage of NA\n",
        "\n",
        "data.isnull().mean()"
      ],
      "execution_count": 98,
      "outputs": [
        {
          "output_type": "execute_result",
          "data": {
            "text/plain": [
              "Survived    0.000000\n",
              "Age         0.198653\n",
              "Fare        0.000000\n",
              "dtype: float64"
            ]
          },
          "metadata": {
            "tags": []
          },
          "execution_count": 98
        }
      ]
    },
    {
      "cell_type": "markdown",
      "metadata": {
        "id": "C3aGx1dwRYrP",
        "colab_type": "text"
      },
      "source": [
        "### Imputation important\n",
        "\n",
        "Imputation should done over the training set, and then propagated to the test set. This means that the random sample to be used to fill missing values both in train and test set, should be extracted from the train set."
      ]
    },
    {
      "cell_type": "code",
      "metadata": {
        "id": "MXQmruaERYrh",
        "colab_type": "code",
        "colab": {
          "base_uri": "https://localhost:8080/",
          "height": 34
        },
        "outputId": "42c3e0db-c17a-4a65-bd7b-38c698a8f10e"
      },
      "source": [
        "# let's separate into training and testing set\n",
        "\n",
        "X_train, X_test, y_train, y_test = train_test_split(data,\n",
        "                                                    data.Survived,\n",
        "                                                    test_size=0.3,\n",
        "                                                    random_state=0)\n",
        "X_train.shape, X_test.shape"
      ],
      "execution_count": 99,
      "outputs": [
        {
          "output_type": "execute_result",
          "data": {
            "text/plain": [
              "((623, 3), (268, 3))"
            ]
          },
          "metadata": {
            "tags": []
          },
          "execution_count": 99
        }
      ]
    },
    {
      "cell_type": "code",
      "metadata": {
        "id": "tGVtb_9-RYrv",
        "colab_type": "code",
        "colab": {
          "base_uri": "https://localhost:8080/",
          "height": 350
        },
        "outputId": "f22b26ea-1f35-475d-f406-b5bacec4a473"
      },
      "source": [
        "# let's impute Age by random sampling both in\n",
        "# train and test sets\n",
        "\n",
        "# create the new variable where NA will be imputed:\n",
        "# make a copy from the original variable, with NA\n",
        "X_train['Age_imputed'] = X_train['Age'].copy()\n",
        "X_test['Age_imputed'] = X_test['Age'].copy()\n",
        "\n",
        "# extract the random sample to fill the na:\n",
        "# remember we do this always from the train set, and we use\n",
        "# these to fill both train and test\n",
        "\n",
        "random_sample_train = X_train['Age'].dropna().sample(\n",
        "    X_train['Age'].isnull().sum(), random_state=0)\n",
        "\n",
        "random_sample_test = X_train['Age'].dropna().sample(\n",
        "    X_test['Age'].isnull().sum(), random_state=0)\n",
        "\n",
        "# what is all of the above code doing?\n",
        "\n",
        "# 1) dropna() removes the NA from the original variable, this\n",
        "# means that I will randomly extract existing values and not NAs\n",
        "\n",
        "# 2) sample() is the method that will do the random sampling\n",
        "\n",
        "# 3) X_train['Age'].isnull().sum() is the number of random values to extract\n",
        "# I want to extract as many values as NAs are present in the original variable\n",
        "\n",
        "# 4) random_state sets the seed for reproducibility, so that I extract \n",
        "# always the same random values, every time I run this notebook\n",
        "\n",
        "# pandas needs to have the same index in order to merge datasets\n",
        "random_sample_train.index = X_train[X_train['Age'].isnull()].index\n",
        "random_sample_test.index = X_test[X_test['Age'].isnull()].index\n",
        "\n",
        "# replace the NA in the newly created variable\n",
        "X_train.loc[X_train['Age'].isnull(), 'Age_imputed'] = random_sample_train\n",
        "X_test.loc[X_test['Age'].isnull(), 'Age_imputed'] = random_sample_test"
      ],
      "execution_count": 100,
      "outputs": [
        {
          "output_type": "stream",
          "text": [
            "/usr/local/lib/python3.6/dist-packages/ipykernel_launcher.py:1: SettingWithCopyWarning: \n",
            "A value is trying to be set on a copy of a slice from a DataFrame.\n",
            "Try using .loc[row_indexer,col_indexer] = value instead\n",
            "\n",
            "See the caveats in the documentation: http://pandas.pydata.org/pandas-docs/stable/user_guide/indexing.html#returning-a-view-versus-a-copy\n",
            "  \"\"\"Entry point for launching an IPython kernel.\n",
            "/usr/local/lib/python3.6/dist-packages/ipykernel_launcher.py:2: SettingWithCopyWarning: \n",
            "A value is trying to be set on a copy of a slice from a DataFrame.\n",
            "Try using .loc[row_indexer,col_indexer] = value instead\n",
            "\n",
            "See the caveats in the documentation: http://pandas.pydata.org/pandas-docs/stable/user_guide/indexing.html#returning-a-view-versus-a-copy\n",
            "  \n",
            "/usr/local/lib/python3.6/dist-packages/pandas/core/indexing.py:494: SettingWithCopyWarning: \n",
            "A value is trying to be set on a copy of a slice from a DataFrame.\n",
            "Try using .loc[row_indexer,col_indexer] = value instead\n",
            "\n",
            "See the caveats in the documentation: http://pandas.pydata.org/pandas-docs/stable/user_guide/indexing.html#returning-a-view-versus-a-copy\n",
            "  self.obj[item] = s\n"
          ],
          "name": "stderr"
        }
      ]
    },
    {
      "cell_type": "code",
      "metadata": {
        "id": "39av5EAnRYr8",
        "colab_type": "code",
        "colab": {
          "base_uri": "https://localhost:8080/",
          "height": 34
        },
        "outputId": "b18b441c-5b6f-4829-c279-aad36072c1cc"
      },
      "source": [
        "# check that NA were imputed\n",
        "X_train['Age_imputed'].isnull().sum()"
      ],
      "execution_count": 101,
      "outputs": [
        {
          "output_type": "execute_result",
          "data": {
            "text/plain": [
              "0"
            ]
          },
          "metadata": {
            "tags": []
          },
          "execution_count": 101
        }
      ]
    },
    {
      "cell_type": "code",
      "metadata": {
        "id": "7rAA3K0eRYsR",
        "colab_type": "code",
        "colab": {
          "base_uri": "https://localhost:8080/",
          "height": 34
        },
        "outputId": "0bd45b80-2e82-4a1b-c9c2-6a17242e04ac"
      },
      "source": [
        "# check that NA were imputed\n",
        "X_test['Age_imputed'].isnull().sum()"
      ],
      "execution_count": 102,
      "outputs": [
        {
          "output_type": "execute_result",
          "data": {
            "text/plain": [
              "0"
            ]
          },
          "metadata": {
            "tags": []
          },
          "execution_count": 102
        }
      ]
    },
    {
      "cell_type": "code",
      "metadata": {
        "id": "yZIfVUMRRYss",
        "colab_type": "code",
        "colab": {
          "base_uri": "https://localhost:8080/",
          "height": 520
        },
        "outputId": "48650429-69e2-493f-9659-c2c5bae25e9b"
      },
      "source": [
        "X_train.head(15)"
      ],
      "execution_count": 103,
      "outputs": [
        {
          "output_type": "execute_result",
          "data": {
            "text/html": [
              "<div>\n",
              "<style scoped>\n",
              "    .dataframe tbody tr th:only-of-type {\n",
              "        vertical-align: middle;\n",
              "    }\n",
              "\n",
              "    .dataframe tbody tr th {\n",
              "        vertical-align: top;\n",
              "    }\n",
              "\n",
              "    .dataframe thead th {\n",
              "        text-align: right;\n",
              "    }\n",
              "</style>\n",
              "<table border=\"1\" class=\"dataframe\">\n",
              "  <thead>\n",
              "    <tr style=\"text-align: right;\">\n",
              "      <th></th>\n",
              "      <th>Survived</th>\n",
              "      <th>Age</th>\n",
              "      <th>Fare</th>\n",
              "      <th>Age_imputed</th>\n",
              "    </tr>\n",
              "  </thead>\n",
              "  <tbody>\n",
              "    <tr>\n",
              "      <th>857</th>\n",
              "      <td>1</td>\n",
              "      <td>51.0</td>\n",
              "      <td>26.5500</td>\n",
              "      <td>51.0</td>\n",
              "    </tr>\n",
              "    <tr>\n",
              "      <th>52</th>\n",
              "      <td>1</td>\n",
              "      <td>49.0</td>\n",
              "      <td>76.7292</td>\n",
              "      <td>49.0</td>\n",
              "    </tr>\n",
              "    <tr>\n",
              "      <th>386</th>\n",
              "      <td>0</td>\n",
              "      <td>1.0</td>\n",
              "      <td>46.9000</td>\n",
              "      <td>1.0</td>\n",
              "    </tr>\n",
              "    <tr>\n",
              "      <th>124</th>\n",
              "      <td>0</td>\n",
              "      <td>54.0</td>\n",
              "      <td>77.2875</td>\n",
              "      <td>54.0</td>\n",
              "    </tr>\n",
              "    <tr>\n",
              "      <th>578</th>\n",
              "      <td>0</td>\n",
              "      <td>NaN</td>\n",
              "      <td>14.4583</td>\n",
              "      <td>16.0</td>\n",
              "    </tr>\n",
              "    <tr>\n",
              "      <th>549</th>\n",
              "      <td>1</td>\n",
              "      <td>8.0</td>\n",
              "      <td>36.7500</td>\n",
              "      <td>8.0</td>\n",
              "    </tr>\n",
              "    <tr>\n",
              "      <th>118</th>\n",
              "      <td>0</td>\n",
              "      <td>24.0</td>\n",
              "      <td>247.5208</td>\n",
              "      <td>24.0</td>\n",
              "    </tr>\n",
              "    <tr>\n",
              "      <th>12</th>\n",
              "      <td>0</td>\n",
              "      <td>20.0</td>\n",
              "      <td>8.0500</td>\n",
              "      <td>20.0</td>\n",
              "    </tr>\n",
              "    <tr>\n",
              "      <th>157</th>\n",
              "      <td>0</td>\n",
              "      <td>30.0</td>\n",
              "      <td>8.0500</td>\n",
              "      <td>30.0</td>\n",
              "    </tr>\n",
              "    <tr>\n",
              "      <th>127</th>\n",
              "      <td>1</td>\n",
              "      <td>24.0</td>\n",
              "      <td>7.1417</td>\n",
              "      <td>24.0</td>\n",
              "    </tr>\n",
              "    <tr>\n",
              "      <th>653</th>\n",
              "      <td>1</td>\n",
              "      <td>NaN</td>\n",
              "      <td>7.8292</td>\n",
              "      <td>32.0</td>\n",
              "    </tr>\n",
              "    <tr>\n",
              "      <th>235</th>\n",
              "      <td>0</td>\n",
              "      <td>NaN</td>\n",
              "      <td>7.5500</td>\n",
              "      <td>34.0</td>\n",
              "    </tr>\n",
              "    <tr>\n",
              "      <th>785</th>\n",
              "      <td>0</td>\n",
              "      <td>25.0</td>\n",
              "      <td>7.2500</td>\n",
              "      <td>25.0</td>\n",
              "    </tr>\n",
              "    <tr>\n",
              "      <th>241</th>\n",
              "      <td>1</td>\n",
              "      <td>NaN</td>\n",
              "      <td>15.5000</td>\n",
              "      <td>8.0</td>\n",
              "    </tr>\n",
              "    <tr>\n",
              "      <th>351</th>\n",
              "      <td>0</td>\n",
              "      <td>NaN</td>\n",
              "      <td>35.0000</td>\n",
              "      <td>1.0</td>\n",
              "    </tr>\n",
              "  </tbody>\n",
              "</table>\n",
              "</div>"
            ],
            "text/plain": [
              "     Survived   Age      Fare  Age_imputed\n",
              "857         1  51.0   26.5500         51.0\n",
              "52          1  49.0   76.7292         49.0\n",
              "386         0   1.0   46.9000          1.0\n",
              "124         0  54.0   77.2875         54.0\n",
              "578         0   NaN   14.4583         16.0\n",
              "549         1   8.0   36.7500          8.0\n",
              "118         0  24.0  247.5208         24.0\n",
              "12          0  20.0    8.0500         20.0\n",
              "157         0  30.0    8.0500         30.0\n",
              "127         1  24.0    7.1417         24.0\n",
              "653         1   NaN    7.8292         32.0\n",
              "235         0   NaN    7.5500         34.0\n",
              "785         0  25.0    7.2500         25.0\n",
              "241         1   NaN   15.5000          8.0\n",
              "351         0   NaN   35.0000          1.0"
            ]
          },
          "metadata": {
            "tags": []
          },
          "execution_count": 103
        }
      ]
    },
    {
      "cell_type": "markdown",
      "metadata": {
        "id": "_WOiRklsRYtG",
        "colab_type": "text"
      },
      "source": [
        "We can see how NAs are replaced by different values in the different rows! This is what we wanted."
      ]
    },
    {
      "cell_type": "markdown",
      "metadata": {
        "id": "gbERg9UQRYtJ",
        "colab_type": "text"
      },
      "source": [
        "#### Random sampling preserves the original distribution of the variable"
      ]
    },
    {
      "cell_type": "code",
      "metadata": {
        "id": "13xFSapWRYtM",
        "colab_type": "code",
        "colab": {
          "base_uri": "https://localhost:8080/",
          "height": 282
        },
        "outputId": "85cd5de1-175f-48fa-e81d-e0da4e784d7f"
      },
      "source": [
        "# we can see that the distribution of the variable after\n",
        "# random sample imputation is almost exactly the same as the original\n",
        "\n",
        "fig = plt.figure()\n",
        "ax = fig.add_subplot(111)\n",
        "\n",
        "X_train['Age'].plot(kind='kde', ax=ax)\n",
        "X_train['Age_imputed'].plot(kind='kde', ax=ax, color='red')\n",
        "\n",
        "lines, labels = ax.get_legend_handles_labels()\n",
        "ax.legend(lines, labels, loc='best')"
      ],
      "execution_count": 104,
      "outputs": [
        {
          "output_type": "execute_result",
          "data": {
            "text/plain": [
              "<matplotlib.legend.Legend at 0x7f40827fd470>"
            ]
          },
          "metadata": {
            "tags": []
          },
          "execution_count": 104
        },
        {
          "output_type": "display_data",
          "data": {
            "image/png": "[encoded data removed]",
            "text/plain": [
              "<Figure size 432x288 with 1 Axes>"
            ]
          },
          "metadata": {
            "tags": []
          }
        }
      ]
    },
    {
      "cell_type": "markdown",
      "metadata": {
        "id": "y7IONMd8RYtd",
        "colab_type": "text"
      },
      "source": [
        "We can see that replacing missing values with a random sample from the training set preserves the original distribution of the variable. If you remember from previous notebooks, every other imputation technique altered the distribution of Age, because the percentage of NA in Age is high, ~20%. However, random sample imputation preserves the distribution, even in those cases. So this imputation technique is quite handy, if we are building linear models and we don't want to distort normal distributions."
      ]
    },
    {
      "cell_type": "code",
      "metadata": {
        "id": "AgF92g6cRYtg",
        "colab_type": "code",
        "colab": {
          "base_uri": "https://localhost:8080/",
          "height": 52
        },
        "outputId": "53d3b792-d54e-470a-f89c-cbededf0573c"
      },
      "source": [
        "# there is some change in the variance of the variable.\n",
        "# however this change is much smaller compared to mean / median\n",
        "# imputation (check the previous notebook for comparison)\n",
        "\n",
        "print('Original variable variance: ', X_train['Age'].var())\n",
        "print('Variance after random imputation: ', X_train['Age_imputed'].var())"
      ],
      "execution_count": 105,
      "outputs": [
        {
          "output_type": "stream",
          "text": [
            "Original variable variance:  210.45286924636747\n",
            "Variance after random imputation:  201.59945157649167\n"
          ],
          "name": "stdout"
        }
      ]
    },
    {
      "cell_type": "code",
      "metadata": {
        "id": "d64xTUsBRYtu",
        "colab_type": "code",
        "colab": {
          "base_uri": "https://localhost:8080/",
          "height": 143
        },
        "outputId": "23f76629-b16c-4f04-a0d5-0793cc046528"
      },
      "source": [
        "# the covariance of Age with Fare is also less affected by this\n",
        "# imputation technique compared to mean / median imputation\n",
        "\n",
        "X_train[['Fare', 'Age', 'Age_imputed']].cov()"
      ],
      "execution_count": 106,
      "outputs": [
        {
          "output_type": "execute_result",
          "data": {
            "text/html": [
              "<div>\n",
              "<style scoped>\n",
              "    .dataframe tbody tr th:only-of-type {\n",
              "        vertical-align: middle;\n",
              "    }\n",
              "\n",
              "    .dataframe tbody tr th {\n",
              "        vertical-align: top;\n",
              "    }\n",
              "\n",
              "    .dataframe thead th {\n",
              "        text-align: right;\n",
              "    }\n",
              "</style>\n",
              "<table border=\"1\" class=\"dataframe\">\n",
              "  <thead>\n",
              "    <tr style=\"text-align: right;\">\n",
              "      <th></th>\n",
              "      <th>Fare</th>\n",
              "      <th>Age</th>\n",
              "      <th>Age_imputed</th>\n",
              "    </tr>\n",
              "  </thead>\n",
              "  <tbody>\n",
              "    <tr>\n",
              "      <th>Fare</th>\n",
              "      <td>2328.801583</td>\n",
              "      <td>78.468894</td>\n",
              "      <td>83.260641</td>\n",
              "    </tr>\n",
              "    <tr>\n",
              "      <th>Age</th>\n",
              "      <td>78.468894</td>\n",
              "      <td>210.452869</td>\n",
              "      <td>210.452869</td>\n",
              "    </tr>\n",
              "    <tr>\n",
              "      <th>Age_imputed</th>\n",
              "      <td>83.260641</td>\n",
              "      <td>210.452869</td>\n",
              "      <td>201.599452</td>\n",
              "    </tr>\n",
              "  </tbody>\n",
              "</table>\n",
              "</div>"
            ],
            "text/plain": [
              "                    Fare         Age  Age_imputed\n",
              "Fare         2328.801583   78.468894    83.260641\n",
              "Age            78.468894  210.452869   210.452869\n",
              "Age_imputed    83.260641  210.452869   201.599452"
            ]
          },
          "metadata": {
            "tags": []
          },
          "execution_count": 106
        }
      ]
    },
    {
      "cell_type": "code",
      "metadata": {
        "id": "7RXKrrIJRYt8",
        "colab_type": "code",
        "colab": {
          "base_uri": "https://localhost:8080/",
          "height": 283
        },
        "outputId": "6dfbaec7-e913-4979-d815-0e1d1f5646db"
      },
      "source": [
        "# Finally, the outliers are also less affected by this imputation\n",
        "# technique\n",
        "\n",
        "# Let's find out using a boxplot\n",
        "X_train[['Age', 'Age_imputed']].boxplot()"
      ],
      "execution_count": 107,
      "outputs": [
        {
          "output_type": "execute_result",
          "data": {
            "text/plain": [
              "<matplotlib.axes._subplots.AxesSubplot at 0x7f40835bccc0>"
            ]
          },
          "metadata": {
            "tags": []
          },
          "execution_count": 107
        },
        {
          "output_type": "display_data",
          "data": {
            "image/png": "[encoded data removed]",
            "text/plain": [
              "<Figure size 432x288 with 1 Axes>"
            ]
          },
          "metadata": {
            "tags": []
          }
        }
      ]
    },
    {
      "cell_type": "markdown",
      "metadata": {
        "id": "4Wdn6kmrRYuE",
        "colab_type": "text"
      },
      "source": [
        "So random sample imputation offers all the advantages provided by the preservation of the original distribution. And that is a big plus, particularly, if we care about distribution and outliers for our machine learning models. This is particularly relevant for linear models. But not so important for tree based algorithms."
      ]
    },
    {
      "cell_type": "markdown",
      "metadata": {
        "id": "Wn8in1RzRYuH",
        "colab_type": "text"
      },
      "source": [
        "## Randomness can lead to different scores being assigned to the same observation\n",
        "\n",
        "Let's examine the effect of randomness on multiple scoring, and how we can mitigate this behaviour, as this is very important when putting our models in production / integrating our models with live systems."
      ]
    },
    {
      "cell_type": "code",
      "metadata": {
        "id": "YCIHFmV0RYuL",
        "colab_type": "code",
        "colab": {
          "base_uri": "https://localhost:8080/",
          "height": 81
        },
        "outputId": "c4ab77a6-b064-4f0c-aa1a-753a4d6a6386"
      },
      "source": [
        "# let's pick one observation with NA in Age\n",
        "# in this case we pick observation indexed 5\n",
        "\n",
        "observation = data[data.Age.isnull()].head(1)\n",
        "observation"
      ],
      "execution_count": 108,
      "outputs": [
        {
          "output_type": "execute_result",
          "data": {
            "text/html": [
              "<div>\n",
              "<style scoped>\n",
              "    .dataframe tbody tr th:only-of-type {\n",
              "        vertical-align: middle;\n",
              "    }\n",
              "\n",
              "    .dataframe tbody tr th {\n",
              "        vertical-align: top;\n",
              "    }\n",
              "\n",
              "    .dataframe thead th {\n",
              "        text-align: right;\n",
              "    }\n",
              "</style>\n",
              "<table border=\"1\" class=\"dataframe\">\n",
              "  <thead>\n",
              "    <tr style=\"text-align: right;\">\n",
              "      <th></th>\n",
              "      <th>Survived</th>\n",
              "      <th>Age</th>\n",
              "      <th>Fare</th>\n",
              "    </tr>\n",
              "  </thead>\n",
              "  <tbody>\n",
              "    <tr>\n",
              "      <th>5</th>\n",
              "      <td>0</td>\n",
              "      <td>NaN</td>\n",
              "      <td>8.4583</td>\n",
              "    </tr>\n",
              "  </tbody>\n",
              "</table>\n",
              "</div>"
            ],
            "text/plain": [
              "   Survived  Age    Fare\n",
              "5         0  NaN  8.4583"
            ]
          },
          "metadata": {
            "tags": []
          },
          "execution_count": 108
        }
      ]
    },
    {
      "cell_type": "code",
      "metadata": {
        "id": "Hq8kmguPRYuV",
        "colab_type": "code",
        "colab": {
          "base_uri": "https://localhost:8080/",
          "height": 81
        },
        "outputId": "dcd990b6-0c6e-4666-aed9-a841d7e7b62a"
      },
      "source": [
        "# and now let's fill that NA with a random value\n",
        "# extracted from the same variable where observations are available\n",
        "\n",
        "# extract a random value, just 1\n",
        "sampled_value = X_train['Age'].dropna().sample(1)\n",
        "\n",
        "# re index to 5\n",
        "sampled_value.index = [15]  # pandas needs the same index to be able to merge\n",
        "\n",
        "# replace the NA with the sampled value\n",
        "observation['Age_random'] = sampled_value\n",
        "\n",
        "observation['Age_random']=sampled_value[15]\n",
        "observation\n"
      ],
      "execution_count": 140,
      "outputs": [
        {
          "output_type": "execute_result",
          "data": {
            "text/html": [
              "<div>\n",
              "<style scoped>\n",
              "    .dataframe tbody tr th:only-of-type {\n",
              "        vertical-align: middle;\n",
              "    }\n",
              "\n",
              "    .dataframe tbody tr th {\n",
              "        vertical-align: top;\n",
              "    }\n",
              "\n",
              "    .dataframe thead th {\n",
              "        text-align: right;\n",
              "    }\n",
              "</style>\n",
              "<table border=\"1\" class=\"dataframe\">\n",
              "  <thead>\n",
              "    <tr style=\"text-align: right;\">\n",
              "      <th></th>\n",
              "      <th>Survived</th>\n",
              "      <th>Age</th>\n",
              "      <th>Fare</th>\n",
              "      <th>Age_random</th>\n",
              "    </tr>\n",
              "  </thead>\n",
              "  <tbody>\n",
              "    <tr>\n",
              "      <th>888</th>\n",
              "      <td>0</td>\n",
              "      <td>NaN</td>\n",
              "      <td>23.45</td>\n",
              "      <td>21.0</td>\n",
              "    </tr>\n",
              "  </tbody>\n",
              "</table>\n",
              "</div>"
            ],
            "text/plain": [
              "     Survived  Age   Fare  Age_random\n",
              "888         0  NaN  23.45        21.0"
            ]
          },
          "metadata": {
            "tags": []
          },
          "execution_count": 140
        }
      ]
    },
    {
      "cell_type": "code",
      "metadata": {
        "id": "IHNGOfSIRYuc",
        "colab_type": "code",
        "colab": {
          "base_uri": "https://localhost:8080/",
          "height": 81
        },
        "outputId": "fe8721ee-8783-41bd-9d9f-40cb04f47d96"
      },
      "source": [
        "# let's repeat the exercise again: \n",
        "# we fill the NA with another random extracted value\n",
        "\n",
        "# extract a random value, just 1\n",
        "sampled_value = X_train['Age'].dropna().sample(1)\n",
        "\n",
        "# re index to 5\n",
        "sampled_value.index = [15]  #pandas needs the same index to be able to merge\n",
        "\n",
        "# replace the NA with the sampled value\n",
        "observation['Age_random'] = sampled_value[15]\n",
        "\n",
        "observation"
      ],
      "execution_count": 143,
      "outputs": [
        {
          "output_type": "execute_result",
          "data": {
            "text/html": [
              "<div>\n",
              "<style scoped>\n",
              "    .dataframe tbody tr th:only-of-type {\n",
              "        vertical-align: middle;\n",
              "    }\n",
              "\n",
              "    .dataframe tbody tr th {\n",
              "        vertical-align: top;\n",
              "    }\n",
              "\n",
              "    .dataframe thead th {\n",
              "        text-align: right;\n",
              "    }\n",
              "</style>\n",
              "<table border=\"1\" class=\"dataframe\">\n",
              "  <thead>\n",
              "    <tr style=\"text-align: right;\">\n",
              "      <th></th>\n",
              "      <th>Survived</th>\n",
              "      <th>Age</th>\n",
              "      <th>Fare</th>\n",
              "      <th>Age_random</th>\n",
              "    </tr>\n",
              "  </thead>\n",
              "  <tbody>\n",
              "    <tr>\n",
              "      <th>888</th>\n",
              "      <td>0</td>\n",
              "      <td>NaN</td>\n",
              "      <td>23.45</td>\n",
              "      <td>31.0</td>\n",
              "    </tr>\n",
              "  </tbody>\n",
              "</table>\n",
              "</div>"
            ],
            "text/plain": [
              "     Survived  Age   Fare  Age_random\n",
              "888         0  NaN  23.45        31.0"
            ]
          },
          "metadata": {
            "tags": []
          },
          "execution_count": 143
        }
      ]
    },
    {
      "cell_type": "code",
      "metadata": {
        "id": "ouWiUfIVRYum",
        "colab_type": "code",
        "colab": {
          "base_uri": "https://localhost:8080/",
          "height": 81
        },
        "outputId": "3232725e-1b06-4a49-e92f-8d07b957da5a"
      },
      "source": [
        "# and again\n",
        "# we fill the NA with another random extracted value\n",
        "\n",
        "# extract a random value, just 1\n",
        "sampled_value = X_train['Age'].dropna().sample(1)\n",
        "\n",
        "# re index to 5\n",
        "sampled_value.index = [15]  #pandas needs the same index to be able to merge\n",
        "\n",
        "# replace the NA with the sampled value\n",
        "observation['Age_random'] = sampled_value[15]\n",
        "\n",
        "observation"
      ],
      "execution_count": 144,
      "outputs": [
        {
          "output_type": "execute_result",
          "data": {
            "text/html": [
              "<div>\n",
              "<style scoped>\n",
              "    .dataframe tbody tr th:only-of-type {\n",
              "        vertical-align: middle;\n",
              "    }\n",
              "\n",
              "    .dataframe tbody tr th {\n",
              "        vertical-align: top;\n",
              "    }\n",
              "\n",
              "    .dataframe thead th {\n",
              "        text-align: right;\n",
              "    }\n",
              "</style>\n",
              "<table border=\"1\" class=\"dataframe\">\n",
              "  <thead>\n",
              "    <tr style=\"text-align: right;\">\n",
              "      <th></th>\n",
              "      <th>Survived</th>\n",
              "      <th>Age</th>\n",
              "      <th>Fare</th>\n",
              "      <th>Age_random</th>\n",
              "    </tr>\n",
              "  </thead>\n",
              "  <tbody>\n",
              "    <tr>\n",
              "      <th>888</th>\n",
              "      <td>0</td>\n",
              "      <td>NaN</td>\n",
              "      <td>23.45</td>\n",
              "      <td>63.0</td>\n",
              "    </tr>\n",
              "  </tbody>\n",
              "</table>\n",
              "</div>"
            ],
            "text/plain": [
              "     Survived  Age   Fare  Age_random\n",
              "888         0  NaN  23.45        63.0"
            ]
          },
          "metadata": {
            "tags": []
          },
          "execution_count": 144
        }
      ]
    },
    {
      "cell_type": "markdown",
      "metadata": {
        "id": "-YacbSWARYut",
        "colab_type": "text"
      },
      "source": [
        "We can see that every time we repeat the operation, we get a different value replacement for exactly the same observation. In fact, if we repeat the process 1000 times:"
      ]
    },
    {
      "cell_type": "code",
      "metadata": {
        "id": "25OwgijNRYuv",
        "colab_type": "code",
        "colab": {
          "base_uri": "https://localhost:8080/",
          "height": 296
        },
        "outputId": "7829003f-5b9d-4bd5-97fc-80739588afd8"
      },
      "source": [
        "# if we repeat the process 1000 times:\n",
        "\n",
        "values_ls = []\n",
        "\n",
        "# capture the non-Na values to speed\n",
        "# the computation\n",
        "tmp = X_train.Age.dropna()\n",
        "\n",
        "for i in range(1000):\n",
        "    \n",
        "    # extract a random value, just 1\n",
        "    sampled_value = tmp.sample(1).values\n",
        "    \n",
        "    # add the extracted value to the list\n",
        "    values_ls.append(float(sampled_value))\n",
        "    \n",
        "pd.Series(values_ls).hist(bins=50)\n",
        "plt.xlabel('Randomly Extracted Values')\n",
        "plt.ylabel('Number of times')"
      ],
      "execution_count": 145,
      "outputs": [
        {
          "output_type": "execute_result",
          "data": {
            "text/plain": [
              "Text(0, 0.5, 'Number of times')"
            ]
          },
          "metadata": {
            "tags": []
          },
          "execution_count": 145
        },
        {
          "output_type": "display_data",
          "data": {
            "image/png": "[encoded data removed]",
            "text/plain": [
              "<Figure size 432x288 with 1 Axes>"
            ]
          },
          "metadata": {
            "tags": []
          }
        }
      ]
    },
    {
      "cell_type": "markdown",
      "metadata": {
        "id": "5mof51l5RYu5",
        "colab_type": "text"
      },
      "source": [
        "We obtain very different values for the same observation. Note how the distribution of extracted values is similar to the distribution of Age.\n",
        "\n",
        "If this were patients looking for treatment, every time we run a predictive model, which would operate on the differently randomly extracted values, we would assign patients with the same characteristics to different treatments, and this is not OK.\n",
        "\n",
        "### How can we fix this behaviour?\n",
        "\n",
        "We can fix this randomness by assigning a seed:"
      ]
    },
    {
      "cell_type": "code",
      "metadata": {
        "id": "yjjOObDsRYu7",
        "colab_type": "code",
        "colab": {
          "base_uri": "https://localhost:8080/",
          "height": 34
        },
        "outputId": "29257fcc-53df-4953-cad7-d4a5f9dfc0e2"
      },
      "source": [
        "values_ls = []\n",
        "\n",
        "for i in range(100):\n",
        "\n",
        "    # extract a random value, just 1, now with seed\n",
        "    sampled_value = X_train.Age.dropna().sample(1, random_state=20)\n",
        "\n",
        "    # add random value to the list\n",
        "    values_ls.append(float(sampled_value))\n",
        "\n",
        "# print the values\n",
        "pd.Series(values_ls).unique()"
      ],
      "execution_count": 148,
      "outputs": [
        {
          "output_type": "execute_result",
          "data": {
            "text/plain": [
              "array([30.5])"
            ]
          },
          "metadata": {
            "tags": []
          },
          "execution_count": 148
        }
      ]
    },
    {
      "cell_type": "code",
      "metadata": {
        "scrolled": true,
        "id": "6enOCRUgRYvE",
        "colab_type": "code",
        "colab": {
          "base_uri": "https://localhost:8080/",
          "height": 1000
        },
        "outputId": "c9d87e56-9c68-4e4f-a0c6-7a9d8fb54fd0"
      },
      "source": [
        "values_ls"
      ],
      "execution_count": 147,
      "outputs": [
        {
          "output_type": "execute_result",
          "data": {
            "text/plain": [
              "[2.0,\n",
              " 2.0,\n",
              " 2.0,\n",
              " 2.0,\n",
              " 2.0,\n",
              " 2.0,\n",
              " 2.0,\n",
              " 2.0,\n",
              " 2.0,\n",
              " 2.0,\n",
              " 2.0,\n",
              " 2.0,\n",
              " 2.0,\n",
              " 2.0,\n",
              " 2.0,\n",
              " 2.0,\n",
              " 2.0,\n",
              " 2.0,\n",
              " 2.0,\n",
              " 2.0,\n",
              " 2.0,\n",
              " 2.0,\n",
              " 2.0,\n",
              " 2.0,\n",
              " 2.0,\n",
              " 2.0,\n",
              " 2.0,\n",
              " 2.0,\n",
              " 2.0,\n",
              " 2.0,\n",
              " 2.0,\n",
              " 2.0,\n",
              " 2.0,\n",
              " 2.0,\n",
              " 2.0,\n",
              " 2.0,\n",
              " 2.0,\n",
              " 2.0,\n",
              " 2.0,\n",
              " 2.0,\n",
              " 2.0,\n",
              " 2.0,\n",
              " 2.0,\n",
              " 2.0,\n",
              " 2.0,\n",
              " 2.0,\n",
              " 2.0,\n",
              " 2.0,\n",
              " 2.0,\n",
              " 2.0,\n",
              " 2.0,\n",
              " 2.0,\n",
              " 2.0,\n",
              " 2.0,\n",
              " 2.0,\n",
              " 2.0,\n",
              " 2.0,\n",
              " 2.0,\n",
              " 2.0,\n",
              " 2.0,\n",
              " 2.0,\n",
              " 2.0,\n",
              " 2.0,\n",
              " 2.0,\n",
              " 2.0,\n",
              " 2.0,\n",
              " 2.0,\n",
              " 2.0,\n",
              " 2.0,\n",
              " 2.0,\n",
              " 2.0,\n",
              " 2.0,\n",
              " 2.0,\n",
              " 2.0,\n",
              " 2.0,\n",
              " 2.0,\n",
              " 2.0,\n",
              " 2.0,\n",
              " 2.0,\n",
              " 2.0,\n",
              " 2.0,\n",
              " 2.0,\n",
              " 2.0,\n",
              " 2.0,\n",
              " 2.0,\n",
              " 2.0,\n",
              " 2.0,\n",
              " 2.0,\n",
              " 2.0,\n",
              " 2.0,\n",
              " 2.0,\n",
              " 2.0,\n",
              " 2.0,\n",
              " 2.0,\n",
              " 2.0,\n",
              " 2.0,\n",
              " 2.0,\n",
              " 2.0,\n",
              " 2.0,\n",
              " 2.0]"
            ]
          },
          "metadata": {
            "tags": []
          },
          "execution_count": 147
        }
      ]
    },
    {
      "cell_type": "markdown",
      "metadata": {
        "id": "6tEVtP18RYvO",
        "colab_type": "text"
      },
      "source": [
        "Now that we set the seed, every randomly extracted value for that observation is the same.\n",
        "\n",
        "However, if we set the same seed for every single observation, what would happen is that for every different observation, we would be filling the NA with exactly the same value (same seed == same random value extracted). This would be the equivalent to arbitrary value imputation!!!\n",
        "\n",
        "We don't want that behaviour either.\n",
        "\n",
        "Therefore, we want our seed to change observation per observation, but in a controlled manner, so that 2 observations that are exactly the same, receive the same imputed random values. But 2 observations that are different, receive different imputed random values."
      ]
    },
    {
      "cell_type": "markdown",
      "metadata": {
        "id": "DZSUY7aiRYvQ",
        "colab_type": "text"
      },
      "source": [
        "### Controlling the element of randomness by varying the seed\n",
        "\n",
        "We can attribute a different seed to each observation, and in fact, we can make this seed depend on an alternative variable of the same observation, thus, thinking in the Titanic dataset, if 2 passengers paid exactly the same Fare, they would get exactly the same probability of survival (when Age is missing)."
      ]
    },
    {
      "cell_type": "code",
      "metadata": {
        "id": "nBBtAJWLRYvR",
        "colab_type": "code",
        "colab": {
          "base_uri": "https://localhost:8080/",
          "height": 81
        },
        "outputId": "a7b5d4df-9fbe-413f-fa71-5dea3a3737e1"
      },
      "source": [
        "# let's pick one observation with NA in Age\n",
        "# in this case we pick observation indexed 5\n",
        "\n",
        "observation = data[data.Age.isnull()].head(1)\n",
        "observation"
      ],
      "execution_count": 149,
      "outputs": [
        {
          "output_type": "execute_result",
          "data": {
            "text/html": [
              "<div>\n",
              "<style scoped>\n",
              "    .dataframe tbody tr th:only-of-type {\n",
              "        vertical-align: middle;\n",
              "    }\n",
              "\n",
              "    .dataframe tbody tr th {\n",
              "        vertical-align: top;\n",
              "    }\n",
              "\n",
              "    .dataframe thead th {\n",
              "        text-align: right;\n",
              "    }\n",
              "</style>\n",
              "<table border=\"1\" class=\"dataframe\">\n",
              "  <thead>\n",
              "    <tr style=\"text-align: right;\">\n",
              "      <th></th>\n",
              "      <th>Survived</th>\n",
              "      <th>Age</th>\n",
              "      <th>Fare</th>\n",
              "    </tr>\n",
              "  </thead>\n",
              "  <tbody>\n",
              "    <tr>\n",
              "      <th>5</th>\n",
              "      <td>0</td>\n",
              "      <td>NaN</td>\n",
              "      <td>8.4583</td>\n",
              "    </tr>\n",
              "  </tbody>\n",
              "</table>\n",
              "</div>"
            ],
            "text/plain": [
              "   Survived  Age    Fare\n",
              "5         0  NaN  8.4583"
            ]
          },
          "metadata": {
            "tags": []
          },
          "execution_count": 149
        }
      ]
    },
    {
      "cell_type": "code",
      "metadata": {
        "id": "_L-JHhu5RYva",
        "colab_type": "code",
        "colab": {
          "base_uri": "https://localhost:8080/",
          "height": 34
        },
        "outputId": "cd3df404-7bdf-424e-915f-6b374195c1d1"
      },
      "source": [
        "# the seed is now the Fare\n",
        "\n",
        "int(observation.Fare)"
      ],
      "execution_count": 163,
      "outputs": [
        {
          "output_type": "execute_result",
          "data": {
            "text/plain": [
              "23"
            ]
          },
          "metadata": {
            "tags": []
          },
          "execution_count": 163
        }
      ]
    },
    {
      "cell_type": "code",
      "metadata": {
        "id": "dDXqB0QKRYvi",
        "colab_type": "code",
        "colab": {
          "base_uri": "https://localhost:8080/",
          "height": 81
        },
        "outputId": "467260b2-b07d-45fc-dd48-9b6bdbadadbd"
      },
      "source": [
        "# we assign the Fare as the seed in the random sample extraction\n",
        "sampled_value = X_train.Age.dropna().sample(1,\n",
        "                                            random_state=int(observation.Fare))\n",
        "sampled_value.index = [15]\n",
        "\n",
        "observation['Age_random'] = sampled_value[15]\n",
        "observation"
      ],
      "execution_count": 165,
      "outputs": [
        {
          "output_type": "execute_result",
          "data": {
            "text/html": [
              "<div>\n",
              "<style scoped>\n",
              "    .dataframe tbody tr th:only-of-type {\n",
              "        vertical-align: middle;\n",
              "    }\n",
              "\n",
              "    .dataframe tbody tr th {\n",
              "        vertical-align: top;\n",
              "    }\n",
              "\n",
              "    .dataframe thead th {\n",
              "        text-align: right;\n",
              "    }\n",
              "</style>\n",
              "<table border=\"1\" class=\"dataframe\">\n",
              "  <thead>\n",
              "    <tr style=\"text-align: right;\">\n",
              "      <th></th>\n",
              "      <th>Survived</th>\n",
              "      <th>Age</th>\n",
              "      <th>Fare</th>\n",
              "      <th>Age_random</th>\n",
              "    </tr>\n",
              "  </thead>\n",
              "  <tbody>\n",
              "    <tr>\n",
              "      <th>888</th>\n",
              "      <td>0</td>\n",
              "      <td>NaN</td>\n",
              "      <td>23.45</td>\n",
              "      <td>35.0</td>\n",
              "    </tr>\n",
              "  </tbody>\n",
              "</table>\n",
              "</div>"
            ],
            "text/plain": [
              "     Survived  Age   Fare  Age_random\n",
              "888         0  NaN  23.45        35.0"
            ]
          },
          "metadata": {
            "tags": []
          },
          "execution_count": 165
        }
      ]
    },
    {
      "cell_type": "code",
      "metadata": {
        "id": "AyErS2roRYvp",
        "colab_type": "code",
        "colab": {
          "base_uri": "https://localhost:8080/",
          "height": 81
        },
        "outputId": "85627124-4829-460d-f160-eb4a1a0d65a7"
      },
      "source": [
        "# for a different observation with a different Fare,\n",
        "# we would get a different randomly extracted value\n",
        "\n",
        "observation = data[data.Age.isnull()].tail(1)\n",
        "observation"
      ],
      "execution_count": 162,
      "outputs": [
        {
          "output_type": "execute_result",
          "data": {
            "text/html": [
              "<div>\n",
              "<style scoped>\n",
              "    .dataframe tbody tr th:only-of-type {\n",
              "        vertical-align: middle;\n",
              "    }\n",
              "\n",
              "    .dataframe tbody tr th {\n",
              "        vertical-align: top;\n",
              "    }\n",
              "\n",
              "    .dataframe thead th {\n",
              "        text-align: right;\n",
              "    }\n",
              "</style>\n",
              "<table border=\"1\" class=\"dataframe\">\n",
              "  <thead>\n",
              "    <tr style=\"text-align: right;\">\n",
              "      <th></th>\n",
              "      <th>Survived</th>\n",
              "      <th>Age</th>\n",
              "      <th>Fare</th>\n",
              "    </tr>\n",
              "  </thead>\n",
              "  <tbody>\n",
              "    <tr>\n",
              "      <th>888</th>\n",
              "      <td>0</td>\n",
              "      <td>NaN</td>\n",
              "      <td>23.45</td>\n",
              "    </tr>\n",
              "  </tbody>\n",
              "</table>\n",
              "</div>"
            ],
            "text/plain": [
              "     Survived  Age   Fare\n",
              "888         0  NaN  23.45"
            ]
          },
          "metadata": {
            "tags": []
          },
          "execution_count": 162
        }
      ]
    },
    {
      "cell_type": "code",
      "metadata": {
        "id": "UHfTMVHFRYvw",
        "colab_type": "code",
        "colab": {
          "base_uri": "https://localhost:8080/",
          "height": 34
        },
        "outputId": "48c15a62-7da5-4d9a-f407-905793cf258e"
      },
      "source": [
        "# new seed\n",
        "int(observation.Fare)"
      ],
      "execution_count": 166,
      "outputs": [
        {
          "output_type": "execute_result",
          "data": {
            "text/plain": [
              "23"
            ]
          },
          "metadata": {
            "tags": []
          },
          "execution_count": 166
        }
      ]
    },
    {
      "cell_type": "code",
      "metadata": {
        "id": "dG7CGfdGRYv3",
        "colab_type": "code",
        "colab": {
          "base_uri": "https://localhost:8080/",
          "height": 81
        },
        "outputId": "a1d72308-4a13-4177-84dd-643bf9bd5426"
      },
      "source": [
        "# we assign the Fare as the seed in the random sample extraction\n",
        "sampled_value = X_train.Age.dropna().sample(1,\n",
        "                                            random_state=int(observation.Fare))\n",
        "sampled_value.index = [1305]\n",
        "\n",
        "observation['Age_random'] = sampled_value[1305]\n",
        "observation"
      ],
      "execution_count": 169,
      "outputs": [
        {
          "output_type": "execute_result",
          "data": {
            "text/html": [
              "<div>\n",
              "<style scoped>\n",
              "    .dataframe tbody tr th:only-of-type {\n",
              "        vertical-align: middle;\n",
              "    }\n",
              "\n",
              "    .dataframe tbody tr th {\n",
              "        vertical-align: top;\n",
              "    }\n",
              "\n",
              "    .dataframe thead th {\n",
              "        text-align: right;\n",
              "    }\n",
              "</style>\n",
              "<table border=\"1\" class=\"dataframe\">\n",
              "  <thead>\n",
              "    <tr style=\"text-align: right;\">\n",
              "      <th></th>\n",
              "      <th>Survived</th>\n",
              "      <th>Age</th>\n",
              "      <th>Fare</th>\n",
              "      <th>Age_random</th>\n",
              "    </tr>\n",
              "  </thead>\n",
              "  <tbody>\n",
              "    <tr>\n",
              "      <th>888</th>\n",
              "      <td>0</td>\n",
              "      <td>NaN</td>\n",
              "      <td>23.45</td>\n",
              "      <td>35.0</td>\n",
              "    </tr>\n",
              "  </tbody>\n",
              "</table>\n",
              "</div>"
            ],
            "text/plain": [
              "     Survived  Age   Fare  Age_random\n",
              "888         0  NaN  23.45        35.0"
            ]
          },
          "metadata": {
            "tags": []
          },
          "execution_count": 169
        }
      ]
    },
    {
      "cell_type": "markdown",
      "metadata": {
        "id": "ACLsqvCaRYwB",
        "colab_type": "text"
      },
      "source": [
        "This is a way of controlling the randomness. Using the Fare to set the random state, you guarantee that for 2 passengers with equal Fare, the Age will be replaced with the same number, and therefore the 2 passengers will get the same probability of survival.\n",
        "\n",
        "### Note!!\n",
        "\n",
        "In real life, you will build models that use tens of variables or more. So in cases like those, you can think of picking the 3-5 more important variables, those that have the strongest impact on the output of the machine learning model, and combine them to create the random state. Therefore, customers that share the 3-5 main variable values, will get the same scores."
      ]
    },
    {
      "cell_type": "markdown",
      "metadata": {
        "collapsed": true,
        "id": "_E69hD_yRYwE",
        "colab_type": "text"
      },
      "source": [
        "## Random Sampling for Categorical Variables"
      ]
    },
    {
      "cell_type": "code",
      "metadata": {
        "id": "9erAl_yxRYwG",
        "colab_type": "code",
        "colab": {
          "base_uri": "https://localhost:8080/",
          "height": 86
        },
        "outputId": "0a155003-a0cb-4997-8c95-d6ef83d13895"
      },
      "source": [
        "# let's load the dataset with a few columns for the demonstration\n",
        "cols_to_use = ['BsmtQual', 'FireplaceQu', 'SalePrice']\n",
        "\n",
        "data = pd.read_csv('houseprice_train.csv', usecols=cols_to_use)\n",
        "\n",
        "# let's inspect the percentage of missing values in each variable\n",
        "data.isnull().mean().sort_values(ascending=True)"
      ],
      "execution_count": 170,
      "outputs": [
        {
          "output_type": "execute_result",
          "data": {
            "text/plain": [
              "SalePrice      0.000000\n",
              "BsmtQual       0.025342\n",
              "FireplaceQu    0.472603\n",
              "dtype: float64"
            ]
          },
          "metadata": {
            "tags": []
          },
          "execution_count": 170
        }
      ]
    },
    {
      "cell_type": "code",
      "metadata": {
        "id": "SJpYOpDzRYwM",
        "colab_type": "code",
        "colab": {
          "base_uri": "https://localhost:8080/",
          "height": 34
        },
        "outputId": "542fc42b-5171-4886-d92d-1fdae60414f0"
      },
      "source": [
        "# let's separate into training and testing set\n",
        "\n",
        "X_train, X_test, y_train, y_test = train_test_split(data,\n",
        "                                                    data.SalePrice,\n",
        "                                                    test_size=0.3,\n",
        "                                                    random_state=0)\n",
        "X_train.shape, X_test.shape"
      ],
      "execution_count": 171,
      "outputs": [
        {
          "output_type": "execute_result",
          "data": {
            "text/plain": [
              "((1022, 3), (438, 3))"
            ]
          },
          "metadata": {
            "tags": []
          },
          "execution_count": 171
        }
      ]
    },
    {
      "cell_type": "code",
      "metadata": {
        "id": "aqgUYGjdRYwT",
        "colab_type": "code",
        "colab": {
          "base_uri": "https://localhost:8080/",
          "height": 350
        },
        "outputId": "ae7f2edc-b9ee-40c5-fd3e-f44c2ee3dc97"
      },
      "source": [
        "# let's impute BsmtQual by random sampling both in\n",
        "# train and test sets\n",
        "\n",
        "# create the new variable where NA will be imputed\n",
        "# make a copy from the original variable, with NA\n",
        "X_train['BsmtQual_imputed'] = X_train['BsmtQual'].copy()\n",
        "X_test['BsmtQual_imputed'] = X_test['BsmtQual'].copy()\n",
        "\n",
        "# extract the random sample to fill the na:\n",
        "# remember we do this always from the train set, and we use\n",
        "# these to fill both train and test\n",
        "\n",
        "random_sample_train = X_train['BsmtQual'].dropna().sample(\n",
        "    X_train['BsmtQual'].isnull().sum(), random_state=0)\n",
        "\n",
        "random_sample_test = X_train['BsmtQual'].dropna().sample(\n",
        "    X_test['BsmtQual'].isnull().sum(), random_state=0)\n",
        "\n",
        "# what is all of the above code doing?\n",
        "# 1) dropna() removes the NA from the original variable, this\n",
        "# means that I will randomly extract existing values and not NAs\n",
        "\n",
        "# 2) sample() is the method that will do the random sampling\n",
        "\n",
        "# 3) X_train['BsmtQual'].isnull().sum() is the number of random values to extract\n",
        "# I want to extract as many values as NAs are present in the original variable\n",
        "\n",
        "# 4) random_state sets the seed for reproducibility, so that I extract \n",
        "# always the same random values, every time I run this notebook\n",
        "\n",
        "# pandas needs to have the same index in order to merge datasets\n",
        "random_sample_train.index = X_train[X_train['BsmtQual'].isnull()].index\n",
        "random_sample_test.index = X_test[X_test['BsmtQual'].isnull()].index\n",
        "\n",
        "# replace the NA in the newly created variable\n",
        "X_train.loc[X_train['BsmtQual'].isnull(), 'BsmtQual_imputed'] = random_sample_train\n",
        "X_test.loc[X_test['BsmtQual'].isnull(), 'BsmtQual_imputed'] = random_sample_test"
      ],
      "execution_count": 174,
      "outputs": [
        {
          "output_type": "stream",
          "text": [
            "/usr/local/lib/python3.6/dist-packages/ipykernel_launcher.py:1: SettingWithCopyWarning: \n",
            "A value is trying to be set on a copy of a slice from a DataFrame.\n",
            "Try using .loc[row_indexer,col_indexer] = value instead\n",
            "\n",
            "See the caveats in the documentation: http://pandas.pydata.org/pandas-docs/stable/user_guide/indexing.html#returning-a-view-versus-a-copy\n",
            "  \"\"\"Entry point for launching an IPython kernel.\n",
            "/usr/local/lib/python3.6/dist-packages/ipykernel_launcher.py:2: SettingWithCopyWarning: \n",
            "A value is trying to be set on a copy of a slice from a DataFrame.\n",
            "Try using .loc[row_indexer,col_indexer] = value instead\n",
            "\n",
            "See the caveats in the documentation: http://pandas.pydata.org/pandas-docs/stable/user_guide/indexing.html#returning-a-view-versus-a-copy\n",
            "  \n",
            "/usr/local/lib/python3.6/dist-packages/pandas/core/indexing.py:494: SettingWithCopyWarning: \n",
            "A value is trying to be set on a copy of a slice from a DataFrame.\n",
            "Try using .loc[row_indexer,col_indexer] = value instead\n",
            "\n",
            "See the caveats in the documentation: http://pandas.pydata.org/pandas-docs/stable/user_guide/indexing.html#returning-a-view-versus-a-copy\n",
            "  self.obj[item] = s\n"
          ],
          "name": "stderr"
        }
      ]
    },
    {
      "cell_type": "code",
      "metadata": {
        "id": "9_2STlZ1RYwa",
        "colab_type": "code",
        "colab": {
          "base_uri": "https://localhost:8080/",
          "height": 350
        },
        "outputId": "9d23e62a-dc32-4476-82b4-81df5a5cb784"
      },
      "source": [
        "# let's impute FireplaceQu by random sampling both in\n",
        "# train and test sets\n",
        "\n",
        "# create the new variable where NA will be imputed\n",
        "# make a copy from the original variable, with NA\n",
        "X_train['FireplaceQu_imputed'] = X_train['FireplaceQu'].copy()\n",
        "X_test['FireplaceQu_imputed'] = X_test['FireplaceQu'].copy()\n",
        "\n",
        "# extract the random sample to fill the na:\n",
        "# remember we do this always from the train set, and we use\n",
        "# these to fill both train and test\n",
        "\n",
        "random_sample_train = X_train['FireplaceQu'].dropna().sample(\n",
        "    X_train['FireplaceQu'].isnull().sum(), random_state=0)\n",
        "\n",
        "random_sample_test = X_train['FireplaceQu'].dropna().sample(\n",
        "    X_test['FireplaceQu'].isnull().sum(), random_state=0)\n",
        "\n",
        "# what is all of the above code doing?\n",
        "# 1) dropna() removes the NA from the original variable, this\n",
        "# means that I will randomly extract existing values and not NAs\n",
        "\n",
        "# 2) sample() is the method that will do the random sampling\n",
        "\n",
        "# 3) X_train['FireplaceQu'].isnull().sum() is the number of random values to extract\n",
        "# I want to extract as many values as NAs are present in the original variable\n",
        "\n",
        "# 4) random_state sets the seed for reproducibility, so that I extract \n",
        "# always the same random values, every time I run this notebook\n",
        "\n",
        "# pandas needs to have the same index in order to merge datasets\n",
        "random_sample_train.index = X_train[X_train['FireplaceQu'].isnull()].index\n",
        "random_sample_test.index = X_test[X_test['FireplaceQu'].isnull()].index\n",
        "\n",
        "# replace the NA in the newly created variable\n",
        "X_train.loc[X_train['FireplaceQu'].isnull(), 'FireplaceQu_imputed'] = random_sample_train\n",
        "X_test.loc[X_test['FireplaceQu'].isnull(), 'FireplaceQu_imputed'] = random_sample_test"
      ],
      "execution_count": 173,
      "outputs": [
        {
          "output_type": "stream",
          "text": [
            "/usr/local/lib/python3.6/dist-packages/ipykernel_launcher.py:1: SettingWithCopyWarning: \n",
            "A value is trying to be set on a copy of a slice from a DataFrame.\n",
            "Try using .loc[row_indexer,col_indexer] = value instead\n",
            "\n",
            "See the caveats in the documentation: http://pandas.pydata.org/pandas-docs/stable/user_guide/indexing.html#returning-a-view-versus-a-copy\n",
            "  \"\"\"Entry point for launching an IPython kernel.\n",
            "/usr/local/lib/python3.6/dist-packages/ipykernel_launcher.py:2: SettingWithCopyWarning: \n",
            "A value is trying to be set on a copy of a slice from a DataFrame.\n",
            "Try using .loc[row_indexer,col_indexer] = value instead\n",
            "\n",
            "See the caveats in the documentation: http://pandas.pydata.org/pandas-docs/stable/user_guide/indexing.html#returning-a-view-versus-a-copy\n",
            "  \n",
            "/usr/local/lib/python3.6/dist-packages/pandas/core/indexing.py:494: SettingWithCopyWarning: \n",
            "A value is trying to be set on a copy of a slice from a DataFrame.\n",
            "Try using .loc[row_indexer,col_indexer] = value instead\n",
            "\n",
            "See the caveats in the documentation: http://pandas.pydata.org/pandas-docs/stable/user_guide/indexing.html#returning-a-view-versus-a-copy\n",
            "  self.obj[item] = s\n"
          ],
          "name": "stderr"
        }
      ]
    },
    {
      "cell_type": "code",
      "metadata": {
        "id": "zfwYpFvnRYwi",
        "colab_type": "code",
        "colab": {
          "base_uri": "https://localhost:8080/",
          "height": 34
        },
        "outputId": "3d68ff70-15f6-42df-d38c-ceca953e0926"
      },
      "source": [
        "# check that nulls were removed\n",
        "X_train['FireplaceQu_imputed'].isnull().sum()"
      ],
      "execution_count": 175,
      "outputs": [
        {
          "output_type": "execute_result",
          "data": {
            "text/plain": [
              "0"
            ]
          },
          "metadata": {
            "tags": []
          },
          "execution_count": 175
        }
      ]
    },
    {
      "cell_type": "code",
      "metadata": {
        "id": "h02ADhxsRYwo",
        "colab_type": "code",
        "colab": {}
      },
      "source": [
        "# and now let's evaluate the effect of the imputation on the distribution\n",
        "# of the categories and the target within those categories\n",
        "\n",
        "# we used a similar function in the notebook of arbitrary value imputation\n",
        "# for categorical variables\n",
        "\n",
        "def categorical_distribution(df, variable_original, variable_imputed):\n",
        "\n",
        "    tmp = pd.concat(\n",
        "        [\n",
        "            # percentage of observations per category, original variable\n",
        "            df[variable_original].value_counts() / len(df[variable_original].dropna()),\n",
        "\n",
        "            # percentage of observations per category, imputed variable\n",
        "            df[variable_imputed].value_counts() / len(df)\n",
        "        ],\n",
        "        axis=1)\n",
        "\n",
        "    # add column names\n",
        "    tmp.columns = ['original', 'imputed']\n",
        "\n",
        "    return tmp"
      ],
      "execution_count": 0,
      "outputs": []
    },
    {
      "cell_type": "code",
      "metadata": {
        "id": "ElTEj3qqRYwx",
        "colab_type": "code",
        "colab": {
          "base_uri": "https://localhost:8080/",
          "height": 175
        },
        "outputId": "12f88636-1aee-4baf-9f06-d7da2bb09ec0"
      },
      "source": [
        "# run the function in a categorical variable\n",
        "categorical_distribution(X_train, 'BsmtQual', 'BsmtQual_imputed')"
      ],
      "execution_count": 177,
      "outputs": [
        {
          "output_type": "execute_result",
          "data": {
            "text/html": [
              "<div>\n",
              "<style scoped>\n",
              "    .dataframe tbody tr th:only-of-type {\n",
              "        vertical-align: middle;\n",
              "    }\n",
              "\n",
              "    .dataframe tbody tr th {\n",
              "        vertical-align: top;\n",
              "    }\n",
              "\n",
              "    .dataframe thead th {\n",
              "        text-align: right;\n",
              "    }\n",
              "</style>\n",
              "<table border=\"1\" class=\"dataframe\">\n",
              "  <thead>\n",
              "    <tr style=\"text-align: right;\">\n",
              "      <th></th>\n",
              "      <th>original</th>\n",
              "      <th>imputed</th>\n",
              "    </tr>\n",
              "  </thead>\n",
              "  <tbody>\n",
              "    <tr>\n",
              "      <th>TA</th>\n",
              "      <td>0.463928</td>\n",
              "      <td>0.465753</td>\n",
              "    </tr>\n",
              "    <tr>\n",
              "      <th>Gd</th>\n",
              "      <td>0.430862</td>\n",
              "      <td>0.428571</td>\n",
              "    </tr>\n",
              "    <tr>\n",
              "      <th>Ex</th>\n",
              "      <td>0.082164</td>\n",
              "      <td>0.083170</td>\n",
              "    </tr>\n",
              "    <tr>\n",
              "      <th>Fa</th>\n",
              "      <td>0.023046</td>\n",
              "      <td>0.022505</td>\n",
              "    </tr>\n",
              "  </tbody>\n",
              "</table>\n",
              "</div>"
            ],
            "text/plain": [
              "    original   imputed\n",
              "TA  0.463928  0.465753\n",
              "Gd  0.430862  0.428571\n",
              "Ex  0.082164  0.083170\n",
              "Fa  0.023046  0.022505"
            ]
          },
          "metadata": {
            "tags": []
          },
          "execution_count": 177
        }
      ]
    },
    {
      "cell_type": "code",
      "metadata": {
        "id": "FscUT4b-RYw5",
        "colab_type": "code",
        "colab": {
          "base_uri": "https://localhost:8080/",
          "height": 206
        },
        "outputId": "974e51d7-0b8d-4922-ad5b-d6a60b81de32"
      },
      "source": [
        "# run the function in a categorical variable\n",
        "categorical_distribution(X_train, 'FireplaceQu', 'FireplaceQu_imputed')"
      ],
      "execution_count": 178,
      "outputs": [
        {
          "output_type": "execute_result",
          "data": {
            "text/html": [
              "<div>\n",
              "<style scoped>\n",
              "    .dataframe tbody tr th:only-of-type {\n",
              "        vertical-align: middle;\n",
              "    }\n",
              "\n",
              "    .dataframe tbody tr th {\n",
              "        vertical-align: top;\n",
              "    }\n",
              "\n",
              "    .dataframe thead th {\n",
              "        text-align: right;\n",
              "    }\n",
              "</style>\n",
              "<table border=\"1\" class=\"dataframe\">\n",
              "  <thead>\n",
              "    <tr style=\"text-align: right;\">\n",
              "      <th></th>\n",
              "      <th>original</th>\n",
              "      <th>imputed</th>\n",
              "    </tr>\n",
              "  </thead>\n",
              "  <tbody>\n",
              "    <tr>\n",
              "      <th>Gd</th>\n",
              "      <td>0.468750</td>\n",
              "      <td>0.469667</td>\n",
              "    </tr>\n",
              "    <tr>\n",
              "      <th>TA</th>\n",
              "      <td>0.420956</td>\n",
              "      <td>0.420744</td>\n",
              "    </tr>\n",
              "    <tr>\n",
              "      <th>Fa</th>\n",
              "      <td>0.047794</td>\n",
              "      <td>0.046967</td>\n",
              "    </tr>\n",
              "    <tr>\n",
              "      <th>Ex</th>\n",
              "      <td>0.033088</td>\n",
              "      <td>0.032290</td>\n",
              "    </tr>\n",
              "    <tr>\n",
              "      <th>Po</th>\n",
              "      <td>0.029412</td>\n",
              "      <td>0.030333</td>\n",
              "    </tr>\n",
              "  </tbody>\n",
              "</table>\n",
              "</div>"
            ],
            "text/plain": [
              "    original   imputed\n",
              "Gd  0.468750  0.469667\n",
              "TA  0.420956  0.420744\n",
              "Fa  0.047794  0.046967\n",
              "Ex  0.033088  0.032290\n",
              "Po  0.029412  0.030333"
            ]
          },
          "metadata": {
            "tags": []
          },
          "execution_count": 178
        }
      ]
    },
    {
      "cell_type": "markdown",
      "metadata": {
        "id": "vs3p3AxLRYxG",
        "colab_type": "text"
      },
      "source": [
        "As expected, the percentage of observations within each category is very similar in the original and imputed variables, for both BsmtQual where NA are low and FireplaceQu were NA are high."
      ]
    },
    {
      "cell_type": "code",
      "metadata": {
        "id": "dnwMcijeRYxH",
        "colab_type": "code",
        "colab": {}
      },
      "source": [
        "# now let's look at the distribution of the target within each\n",
        "# variable category\n",
        "\n",
        "def automate_plot(df, variable, target):\n",
        "    \n",
        "    fig = plt.figure()\n",
        "    ax = fig.add_subplot(111)\n",
        "    \n",
        "    for category in df[variable].dropna().unique():\n",
        "        df[df[variable]==category][target].plot(kind='kde', ax=ax)\n",
        "    \n",
        "    # add the legend\n",
        "    lines, labels = ax.get_legend_handles_labels()\n",
        "    labels = df[variable].dropna().unique()\n",
        "    ax.legend(lines, labels, loc='best')\n",
        "    \n",
        "    plt.show()"
      ],
      "execution_count": 0,
      "outputs": []
    },
    {
      "cell_type": "code",
      "metadata": {
        "id": "KQZ4f0trRYxN",
        "colab_type": "code",
        "colab": {
          "base_uri": "https://localhost:8080/",
          "height": 265
        },
        "outputId": "98d9c060-e3b5-4b71-b8e8-6f415a581404"
      },
      "source": [
        "automate_plot(X_train, 'BsmtQual', 'SalePrice')"
      ],
      "execution_count": 180,
      "outputs": [
        {
          "output_type": "display_data",
          "data": {
            "image/png": "[encoded data removed]",
            "text/plain": [
              "<Figure size 432x288 with 1 Axes>"
            ]
          },
          "metadata": {
            "tags": []
          }
        }
      ]
    },
    {
      "cell_type": "code",
      "metadata": {
        "id": "6A5vzaTHRYxR",
        "colab_type": "code",
        "colab": {
          "base_uri": "https://localhost:8080/",
          "height": 265
        },
        "outputId": "4b561fa8-4c8a-41e0-8c27-27c379b33155"
      },
      "source": [
        "automate_plot(X_train, 'BsmtQual_imputed', 'SalePrice')"
      ],
      "execution_count": 181,
      "outputs": [
        {
          "output_type": "display_data",
          "data": {
            "image/png": "[encoded data removed]",
            "text/plain": [
              "<Figure size 432x288 with 1 Axes>"
            ]
          },
          "metadata": {
            "tags": []
          }
        }
      ]
    },
    {
      "cell_type": "code",
      "metadata": {
        "id": "G9qIMIseRYxZ",
        "colab_type": "code",
        "colab": {
          "base_uri": "https://localhost:8080/",
          "height": 265
        },
        "outputId": "d05cc38d-fcb4-49ec-fac3-d1779712057a"
      },
      "source": [
        "automate_plot(X_train, 'FireplaceQu', 'SalePrice')"
      ],
      "execution_count": 182,
      "outputs": [
        {
          "output_type": "display_data",
          "data": {
            "image/png": "[encoded data removed]",
            "text/plain": [
              "<Figure size 432x288 with 1 Axes>"
            ]
          },
          "metadata": {
            "tags": []
          }
        }
      ]
    },
    {
      "cell_type": "code",
      "metadata": {
        "id": "qTDkYZodRYxg",
        "colab_type": "code",
        "colab": {
          "base_uri": "https://localhost:8080/",
          "height": 265
        },
        "outputId": "0897feb9-cb6c-424d-d0e2-a9daa33a9d5f"
      },
      "source": [
        "automate_plot(X_train, 'FireplaceQu_imputed', 'SalePrice')"
      ],
      "execution_count": 183,
      "outputs": [
        {
          "output_type": "display_data",
          "data": {
            "image/png": "[encoded data removed]",
            "text/plain": [
              "<Figure size 432x288 with 1 Axes>"
            ]
          },
          "metadata": {
            "tags": []
          }
        }
      ]
    },
    {
      "cell_type": "markdown",
      "metadata": {
        "id": "6NoL4EdkRYxo",
        "colab_type": "text"
      },
      "source": [
        "For BsmtQual, where the NA are low, the distribution of the target is preserved for the categories in the original and imputed variable. However, for FireplaceQu, which contains more NAs, the distribution of the target per category is affected slightly.\n"
      ]
    },
    {
      "cell_type": "code",
      "metadata": {
        "id": "MkQ8mgUXRYxq",
        "colab_type": "code",
        "colab": {}
      },
      "source": [
        ""
      ],
      "execution_count": 0,
      "outputs": []
    }
  ]
}