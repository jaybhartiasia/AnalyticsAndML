{
  "nbformat": 4,
  "nbformat_minor": 0,
  "metadata": {
    "colab": {
      "name": "QLearning",
      "provenance": [],
      "collapsed_sections": [],
      "authorship_tag": "ABX9TyMbyasgEbowQP7Ajsz534iD",
      "include_colab_link": true
    },
    "kernelspec": {
      "name": "python3",
      "display_name": "Python 3"
    }
  },
  "cells": [
    {
      "cell_type": "markdown",
      "metadata": {
        "id": "view-in-github",
        "colab_type": "text"
      },
      "source": [
        "<a href=\"https://colab.research.google.com/github/vinay10949/AnalyticsAndML/blob/master/ReinforcementLearning/OptimizingBusinessProcessUsingQLearning.ipynb\" target=\"_parent\"><img src=\"https://colab.research.google.com/assets/colab-badge.svg\" alt=\"Open In Colab\"/></a>"
      ]
    },
    {
      "cell_type": "code",
      "metadata": {
        "id": "5gK3jB6aCdZS",
        "colab_type": "code",
        "colab": {}
      },
      "source": [
        "import numpy as np\n",
        "\n",
        "gamma=0.75\n",
        "alpha=0.9"
      ],
      "execution_count": 0,
      "outputs": []
    },
    {
      "cell_type": "code",
      "metadata": {
        "id": "HN6KJGFXpJTy",
        "colab_type": "code",
        "colab": {}
      },
      "source": [
        "# PART 1 - DEFINING THE ENVIRONMENT\n",
        "# Defining the states\n",
        "\n",
        "location_to_state = {'A':'0','B':'1','C':'2','D':'3','E':'4','F':'5','G':'6','H':'7','I':'8','J':'9','K':'10','L':'11'}\n",
        "\n",
        "# Defining the actions\n",
        "actions = [0,1,2,3,4,5,6,7,8,9,10,11]"
      ],
      "execution_count": 0,
      "outputs": []
    },
    {
      "cell_type": "code",
      "metadata": {
        "id": "CH_wPgLjqMN2",
        "colab_type": "code",
        "colab": {}
      },
      "source": [
        "#Rewards\n",
        "R = np.array([[0,1,0,0,0,0,0,0,0,0,0,0],\n",
        "[1,0,1,0,0,1,0,0,0,0,0,0],\n",
        "[0,1,0,0,0,0,1,0,0,0,0,0],\n",
        "[0,0,0,0,0,0,0,1,0,0,0,0],\n",
        "[0,0,0,0,0,0,0,0,1,0,0,0],\n",
        "[0,1,0,0,0,0,0,0,0,1,0,0],\n",
        "[0,0,1,0,0,0,1,1,0,0,0,0],\n",
        "[0,0,0,1,0,0,1,0,0,0,0,1],\n",
        "[0,0,0,0,1,0,0,0,0,1,0,0],\n",
        "[0,0,0,0,0,1,0,0,1,0,1,0],\n",
        "[0,0,0,0,0,0,0,0,0,1,0,1],\n",
        "[0,0,0,0,0,0,0,1,0,0,1,0]])"
      ],
      "execution_count": 0,
      "outputs": []
    },
    {
      "cell_type": "code",
      "metadata": {
        "id": "aBuAi_mYT1TJ",
        "colab_type": "code",
        "colab": {}
      },
      "source": [
        "Q = np.array(np.zeros([12,12]))\n",
        "\n",
        "# Implementing the Q-Learning process\n",
        "for i in range(1000):\n",
        "  current_state = np.random.randint(0,12)\n",
        "  playable_actions = []\n",
        "  for j in range(12):\n",
        "    if R[current_state, j] > 0:\n",
        "      playable_actions.append(j)\n",
        "  next_state = np.random.choice(playable_actions)\n",
        "  #Temporal difference  =Q(Currentstate,action) -\n",
        "  TD = R[current_state, next_state] + gamma*Q[next_state, np.argmax(Q[next_state,])]- Q[current_state, next_state]\n",
        "  Q[current_state, next_state] = Q[current_state, next_state] + alpha*TD"
      ],
      "execution_count": 0,
      "outputs": []
    },
    {
      "cell_type": "code",
      "metadata": {
        "id": "IT4iOSHyUIEM",
        "colab_type": "code",
        "outputId": "ab9125d6-856c-410d-8f09-d8b707fc5fb1",
        "colab": {
          "base_uri": "https://localhost:8080/",
          "height": 243
        }
      },
      "source": [
        "print(\"Q-Values:\")\n",
        "print(Q.astype(int))"
      ],
      "execution_count": 0,
      "outputs": [
        {
          "output_type": "stream",
          "text": [
            "Q-Values:\n",
            "[[0 3 0 0 0 0 0 0 0 0 0 0]\n",
            " [3 0 3 0 0 3 0 0 0 0 0 0]\n",
            " [0 3 0 0 0 0 3 0 0 0 0 0]\n",
            " [0 0 0 0 0 0 0 3 0 0 0 0]\n",
            " [0 0 0 0 0 0 0 0 3 0 0 0]\n",
            " [0 3 0 0 0 0 0 0 0 3 0 0]\n",
            " [0 0 3 0 0 0 3 3 0 0 0 0]\n",
            " [0 0 0 3 0 0 3 0 0 0 0 3]\n",
            " [0 0 0 0 3 0 0 0 0 3 0 0]\n",
            " [0 0 0 0 0 3 0 0 3 0 3 0]\n",
            " [0 0 0 0 0 0 0 0 0 3 0 3]\n",
            " [0 0 0 0 0 0 0 3 0 0 3 0]]\n"
          ],
          "name": "stdout"
        }
      ]
    },
    {
      "cell_type": "code",
      "metadata": {
        "id": "PeXWl9u1bHS8",
        "colab_type": "code",
        "outputId": "f2a2fd34-5d0c-49da-9e7f-7276531f481a",
        "colab": {
          "base_uri": "https://localhost:8080/",
          "height": 225
        }
      },
      "source": [
        "\n",
        "# Making a mapping from the states to the locations\n",
        "state_to_location = {state: location for location, state in location_to_state.items()}\n",
        "state_to_location"
      ],
      "execution_count": 0,
      "outputs": [
        {
          "output_type": "execute_result",
          "data": {
            "text/plain": [
              "{'0': 'A',\n",
              " '1': 'B',\n",
              " '10': 'K',\n",
              " '11': 'L',\n",
              " '2': 'C',\n",
              " '3': 'D',\n",
              " '4': 'E',\n",
              " '5': 'F',\n",
              " '6': 'G',\n",
              " '7': 'H',\n",
              " '8': 'I',\n",
              " '9': 'J'}"
            ]
          },
          "metadata": {
            "tags": []
          },
          "execution_count": 156
        }
      ]
    },
    {
      "cell_type": "code",
      "metadata": {
        "id": "lJpUANPJcLLQ",
        "colab_type": "code",
        "colab": {}
      },
      "source": [
        "# Making the final function that will return the optimal route\n",
        "def route(starting_location, ending_location):\n",
        "\troute = [starting_location]\n",
        "\tnext_location = starting_location\n",
        "\twhile (next_location != ending_location):\n",
        "\t\tstarting_state = location_to_state[starting_location]\n",
        "\t\tstarting_state=int(starting_state)\n",
        "\t\tnext_state = np.argmax(Q[starting_state,])\n",
        "\t\tnext_location = state_to_location[next_state]\n",
        "\t\troute.append(next_location)\n",
        "\t\tstarting_location = next_location\n",
        "\treturn route"
      ],
      "execution_count": 0,
      "outputs": []
    },
    {
      "cell_type": "code",
      "metadata": {
        "id": "INJqSRxdbXsj",
        "colab_type": "code",
        "colab": {}
      },
      "source": [
        "# Making the final function that will return the route\n",
        "def route(starting_location, ending_location):\n",
        "\tR_new = np.copy(R)\n",
        "\tending_state = int(location_to_state[ending_location])\n",
        "\tR_new[ending_state, ending_state] = 1000\n",
        "\tQ = np.array(np.zeros([12,12]))\n",
        "\tfor i in range(1000):\n",
        "\t\tcurrent_state = np.random.randint(0,12)\n",
        "\t\tplayable_actions = []\n",
        "\t\tfor j in range(12):\n",
        "\t\t\tif R_new[current_state, j] > 0:\n",
        "\t\t\t\t  playable_actions.append(j)\n",
        "\t\tnext_state = np.random.choice(playable_actions)\n",
        "\t\tTD = R_new[current_state, next_state]+ gamma * Q[next_state, np.argmax(Q[next_state,])]- Q[current_state, next_state]\n",
        "\t\tQ[current_state, next_state] = Q[current_state, next_state] + alpha * TD\n",
        "\troute = [starting_location]\n",
        "\tnext_location = starting_location\n",
        "\twhile (next_location != ending_location):\n",
        "\t\tstarting_state = int(location_to_state[starting_location])\n",
        "\t\tnext_state = np.argmax(Q[starting_state,])\n",
        "\t\tnext_location = state_to_location[str(next_state)]\n",
        "\t\troute.append(next_location)\n",
        "\t\tstarting_location = next_location\n",
        "\treturn route"
      ],
      "execution_count": 0,
      "outputs": []
    },
    {
      "cell_type": "code",
      "metadata": {
        "id": "C57J31n_c02I",
        "colab_type": "code",
        "outputId": "fe1739cf-ea19-4a04-b557-5f50916ab3e3",
        "colab": {
          "base_uri": "https://localhost:8080/",
          "height": 52
        }
      },
      "source": [
        "print('Route:')\n",
        "route('E', 'G')"
      ],
      "execution_count": 0,
      "outputs": [
        {
          "output_type": "stream",
          "text": [
            "Route:\n"
          ],
          "name": "stdout"
        },
        {
          "output_type": "execute_result",
          "data": {
            "text/plain": [
              "['E', 'I', 'J', 'F', 'B', 'C', 'G']"
            ]
          },
          "metadata": {
            "tags": []
          },
          "execution_count": 166
        }
      ]
    },
    {
      "cell_type": "code",
      "metadata": {
        "id": "iH2Fv7hmm_vN",
        "colab_type": "code",
        "colab": {}
      },
      "source": [
        "#Making the final function that returns the optimal route\n",
        "def best_route(starting_location, intermediary_location, ending_location):\n",
        "  return route(starting_location, intermediary_location)+ route(intermediary_location, ending_location)[1:]"
      ],
      "execution_count": 0,
      "outputs": []
    },
    {
      "cell_type": "code",
      "metadata": {
        "id": "rpu1gI36nCYv",
        "colab_type": "code",
        "outputId": "76f0df8b-9d31-448d-cf54-58ef45b9269e",
        "colab": {
          "base_uri": "https://localhost:8080/",
          "height": 34
        }
      },
      "source": [
        "print('Best Route:',best_route('E', 'K','G'))\n"
      ],
      "execution_count": 0,
      "outputs": [
        {
          "output_type": "stream",
          "text": [
            "Best Route: ['E', 'I', 'J', 'K', 'L', 'H', 'G']\n"
          ],
          "name": "stdout"
        }
      ]
    }
  ]
}