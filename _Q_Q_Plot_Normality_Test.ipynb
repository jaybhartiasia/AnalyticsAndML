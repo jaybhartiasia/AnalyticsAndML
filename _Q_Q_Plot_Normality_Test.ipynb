{
  "nbformat": 4,
  "nbformat_minor": 0,
  "metadata": {
    "colab": {
      "name": "# Q-Q Plot Normality Test.ipynb",
      "version": "0.3.2",
      "provenance": [],
      "collapsed_sections": [],
      "include_colab_link": true
    },
    "kernelspec": {
      "display_name": "Python 3",
      "language": "python",
      "name": "python3"
    }
  },
  "cells": [
    {
      "cell_type": "markdown",
      "metadata": {
        "id": "view-in-github",
        "colab_type": "text"
      },
      "source": [
        "<a href=\"https://colab.research.google.com/github/vinay10949/AnalyticsAndML/blob/master/_Q_Q_Plot_Normality_Test.ipynb\" target=\"_parent\"><img src=\"https://colab.research.google.com/assets/colab-badge.svg\" alt=\"Open In Colab\"/></a>"
      ]
    },
    {
      "metadata": {
        "id": "iFj-30_rGmL4",
        "colab_type": "text"
      },
      "cell_type": "markdown",
      "source": [
        "# Q-Q Plot Normality Test"
      ]
    },
    {
      "metadata": {
        "id": "t0AyLDDeGmL6",
        "colab_type": "code",
        "outputId": "2e9d0383-94f3-487f-e8ed-3661e17f4b5d",
        "colab": {
          "base_uri": "https://localhost:8080/",
          "height": 1734
        }
      },
      "cell_type": "code",
      "source": [
        "#Q-Q plot\n",
        "import numpy as np \n",
        "import pylab \n",
        "import scipy.stats as stats\n",
        "\n",
        "# N(0,1)\n",
        "std_normal = np.random.normal(loc = 0, scale = 1, size=1000)\n",
        "\n",
        "# 0 to 100th percentiles of std-normal\n",
        "for i in range(0,101):\n",
        "    print(i, np.percentile(std_normal,i))\n",
        "\n",
        "\n"
      ],
      "execution_count": 1,
      "outputs": [
        {
          "output_type": "stream",
          "text": [
            "0 -3.4752637961950192\n",
            "1 -2.2934434732687143\n",
            "2 -1.9481416624582102\n",
            "3 -1.8164859868955767\n",
            "4 -1.7057393242461438\n",
            "5 -1.6384850662614565\n",
            "6 -1.5395368010145103\n",
            "7 -1.4860414671959072\n",
            "8 -1.411650088826292\n",
            "9 -1.3220486046686022\n",
            "10 -1.257748569595862\n",
            "11 -1.229778998159037\n",
            "12 -1.163859538927824\n",
            "13 -1.1240456233174467\n",
            "14 -1.0839960941748188\n",
            "15 -1.047836994538193\n",
            "16 -1.0143646626371634\n",
            "17 -0.9948863437418627\n",
            "18 -0.9622509483272028\n",
            "19 -0.910633724281054\n",
            "20 -0.8793385485935473\n",
            "21 -0.862293626448637\n",
            "22 -0.8219578927769828\n",
            "23 -0.7904266880394626\n",
            "24 -0.769755160056737\n",
            "25 -0.7437686495569906\n",
            "26 -0.7013689888181651\n",
            "27 -0.6390240251526212\n",
            "28 -0.6031826960377297\n",
            "29 -0.5803068888399542\n",
            "30 -0.5624364583388024\n",
            "31 -0.5374391472867049\n",
            "32 -0.5240862583693713\n",
            "33 -0.4853208285815708\n",
            "34 -0.4685977457839521\n",
            "35 -0.44236854283981614\n",
            "36 -0.41781530692176005\n",
            "37 -0.36107866467779315\n",
            "38 -0.3160998592046046\n",
            "39 -0.2958820876986795\n",
            "40 -0.261170427099462\n",
            "41 -0.2435474357810485\n",
            "42 -0.22227084404019226\n",
            "43 -0.202862508783306\n",
            "44 -0.18468693443518341\n",
            "45 -0.15458656778101512\n",
            "46 -0.12441564524035037\n",
            "47 -0.08212427242555616\n",
            "48 -0.04590757282992462\n",
            "49 -0.0040491705050391515\n",
            "50 0.011690203934142326\n",
            "51 0.03062200584344983\n",
            "52 0.0604590448483363\n",
            "53 0.08230202022578892\n",
            "54 0.10500308294868976\n",
            "55 0.12518749055863496\n",
            "56 0.1479451146299402\n",
            "57 0.1697874752252777\n",
            "58 0.1969151886289836\n",
            "59 0.22152541196653758\n",
            "60 0.2413487740283184\n",
            "61 0.2669014167471152\n",
            "62 0.2932704239850875\n",
            "63 0.3173868527386526\n",
            "64 0.3393009583390632\n",
            "65 0.35648247845974257\n",
            "66 0.39138290196264414\n",
            "67 0.42988086081451166\n",
            "68 0.4695884165240697\n",
            "69 0.48486111200016374\n",
            "70 0.5151520791650803\n",
            "71 0.545417590876475\n",
            "72 0.582310188695884\n",
            "73 0.612118371412174\n",
            "74 0.6402545242241876\n",
            "75 0.6645809394851878\n",
            "76 0.6903914874374558\n",
            "77 0.7112514038065293\n",
            "78 0.7530340881641517\n",
            "79 0.7666203697548477\n",
            "80 0.8000353551828823\n",
            "81 0.8516438536612178\n",
            "82 0.8933875937167034\n",
            "83 0.9423161878480041\n",
            "84 0.984183220195053\n",
            "85 1.0344239268161313\n",
            "86 1.0718339817388793\n",
            "87 1.0923184477093792\n",
            "88 1.1343530913764004\n",
            "89 1.1669129191136711\n",
            "90 1.2289580171587644\n",
            "91 1.2781757011686903\n",
            "92 1.392223401234692\n",
            "93 1.4447692555364076\n",
            "94 1.5034370521540417\n",
            "95 1.5628739319129206\n",
            "96 1.6364462145041205\n",
            "97 1.788078211257054\n",
            "98 1.97376345645099\n",
            "99 2.3847321042239886\n",
            "100 2.692159983742053\n"
          ],
          "name": "stdout"
        }
      ]
    },
    {
      "metadata": {
        "id": "WrBS1wWZGmMC",
        "colab_type": "code",
        "outputId": "b5aa0574-face-4275-b74d-29fb37dee5c4",
        "colab": {
          "base_uri": "https://localhost:8080/",
          "height": 295
        }
      },
      "cell_type": "code",
      "source": [
        "# generate 100 sanples from N(20,5)\n",
        "measurements = np.random.normal(loc = 20, scale = 5, size=50000) \n",
        "#try size=1000\n",
        "\n",
        "\n",
        "stats.probplot(measurements, dist=\"norm\", plot=pylab)\n",
        "pylab.show()"
      ],
      "execution_count": 7,
      "outputs": [
        {
          "output_type": "display_data",
          "data": {
            "image/png": "[encoded data removed]",
            "text/plain": [
              "<Figure size 432x288 with 1 Axes>"
            ]
          },
          "metadata": {
            "tags": []
          }
        }
      ]
    },
    {
      "metadata": {
        "id": "MUJ6w7yUGmMG",
        "colab_type": "code",
        "outputId": "6cc69abf-b27a-4062-c7e0-afcc449459a6",
        "colab": {
          "base_uri": "https://localhost:8080/",
          "height": 295
        }
      },
      "cell_type": "code",
      "source": [
        "# generate 100 sanples from N(20,5)\n",
        "measurements = np.random.uniform(low=-1, high=1, size=10000) \n",
        "#try size=1000\n",
        "\n",
        "stats.probplot(measurements, dist=\"norm\", plot=pylab)\n",
        "pylab.show()"
      ],
      "execution_count": 3,
      "outputs": [
        {
          "output_type": "display_data",
          "data": {
            "image/png": "[encoded data removed]",
            "text/plain": [
              "<Figure size 432x288 with 1 Axes>"
            ]
          },
          "metadata": {
            "tags": []
          }
        }
      ]
    },
    {
      "metadata": {
        "id": "Ty-RZjYCF5zl",
        "colab_type": "text"
      },
      "cell_type": "markdown",
      "source": [
        "\n",
        "# **Shapiro-Wilk Test**\n",
        "\n",
        "Tests whether a data sample has a **Gaussian distribution.**\n",
        "\n",
        "Assumptions\n",
        "\n",
        "Observations in each sample are independent and identically distributed (iid).\n",
        "Interpretation *italicized text*\n",
        "\n",
        "H0: the sample has a **Gaussian** distribution.\n",
        "H1: the sample does not have a Gaussian distribution.\n"
      ]
    },
    {
      "metadata": {
        "id": "5wBpELnFE3pJ",
        "colab_type": "code",
        "colab": {
          "base_uri": "https://localhost:8080/",
          "height": 68
        },
        "outputId": "c36e2028-fb44-4ae5-fdf1-520923c1ce85"
      },
      "cell_type": "code",
      "source": [
        "from scipy.stats import shapiro\n",
        "\n",
        "stat, p = shapiro(measurements)\n",
        "print(stat,p)"
      ],
      "execution_count": 10,
      "outputs": [
        {
          "output_type": "stream",
          "text": [
            "0.9999721050262451 0.9668164253234863\n"
          ],
          "name": "stdout"
        },
        {
          "output_type": "stream",
          "text": [
            "/usr/local/lib/python3.6/dist-packages/scipy/stats/morestats.py:1653: UserWarning: p-value may not be accurate for N > 5000.\n",
            "  warnings.warn(\"p-value may not be accurate for N > 5000.\")\n"
          ],
          "name": "stderr"
        }
      ]
    },
    {
      "metadata": {
        "id": "HpELUlmaGT_5",
        "colab_type": "text"
      },
      "cell_type": "markdown",
      "source": [
        "# D’Agostino’s K^2 Test\n",
        "\n",
        "Tests whether a data sample has a Gaussian distribution.\n",
        "\n",
        "Assumptions\n",
        "\n",
        "Observations in each sample are independent and identically distributed (iid).\n",
        "Interpretation\n",
        "\n",
        "H0: the sample has a Gaussian distribution.\n",
        "H1: the sample does not have a Gaussian distribution.\n"
      ]
    },
    {
      "metadata": {
        "id": "6QMcC6qAGmMK",
        "colab_type": "code",
        "colab": {
          "base_uri": "https://localhost:8080/",
          "height": 34
        },
        "outputId": "27d7c611-3577-456f-f6f9-b235be4f64ab"
      },
      "cell_type": "code",
      "source": [
        "from scipy.stats import normaltest\n",
        "stat, p = normaltest(measurements)\n",
        "print(stat,p)"
      ],
      "execution_count": 9,
      "outputs": [
        {
          "output_type": "stream",
          "text": [
            "0.9572954455074391 0.6196207245326539\n"
          ],
          "name": "stdout"
        }
      ]
    },
    {
      "metadata": {
        "id": "J_aC1_dYGqlE",
        "colab_type": "text"
      },
      "cell_type": "markdown",
      "source": [
        "# Anderson-Darling Test\n",
        "\n",
        "Tests whether a data sample has a Gaussian distribution.\n",
        "\n",
        "Assumptions\n",
        "\n",
        "Observations in each sample are independent and identically distributed (iid).\n",
        "Interpretation\n",
        "\n",
        "H0: the sample has a Gaussian distribution.\n",
        "H1: the sample does not have a Gaussian distribution."
      ]
    },
    {
      "metadata": {
        "id": "X0fd7d4jGfR6",
        "colab_type": "code",
        "colab": {
          "base_uri": "https://localhost:8080/",
          "height": 54
        },
        "outputId": "d789daa9-01d4-48ab-ced7-84da0679e683"
      },
      "cell_type": "code",
      "source": [
        "from scipy.stats import anderson\n",
        "result = anderson(measurements)\n",
        "print(result)"
      ],
      "execution_count": 11,
      "outputs": [
        {
          "output_type": "stream",
          "text": [
            "AndersonResult(statistic=0.2663910991832381, critical_values=array([0.576, 0.656, 0.787, 0.918, 1.092]), significance_level=array([15. , 10. ,  5. ,  2.5,  1. ]))\n"
          ],
          "name": "stdout"
        }
      ]
    }
  ]
}