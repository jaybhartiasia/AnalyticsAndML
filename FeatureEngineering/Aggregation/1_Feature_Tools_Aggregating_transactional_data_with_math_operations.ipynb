{
  "nbformat": 4,
  "nbformat_minor": 0,
  "metadata": {
    "kernelspec": {
      "display_name": "ftools",
      "language": "python",
      "name": "ftools"
    },
    "language_info": {
      "codemirror_mode": {
        "name": "ipython",
        "version": 3
      },
      "file_extension": ".py",
      "mimetype": "text/x-python",
      "name": "python",
      "nbconvert_exporter": "python",
      "pygments_lexer": "ipython3",
      "version": "3.7.3"
    },
    "toc": {
      "nav_menu": {},
      "number_sections": true,
      "sideBar": true,
      "skip_h1_title": false,
      "toc_cell": false,
      "toc_position": {},
      "toc_section_display": "block",
      "toc_window_display": true
    },
    "colab": {
      "name": "1_Feature Tools-Aggregating-transactional-data-with-math-operations.ipynb",
      "provenance": [],
      "include_colab_link": true
    }
  },
  "cells": [
    {
      "cell_type": "markdown",
      "metadata": {
        "id": "view-in-github",
        "colab_type": "text"
      },
      "source": [
        "<a href=\"https://colab.research.google.com/github/vinay10949/AnalyticsAndML/blob/master/FeatureEngineering/PipeLine/1_Feature_Tools_Aggregating_transactional_data_with_math_operations.ipynb\" target=\"_parent\"><img src=\"https://colab.research.google.com/assets/colab-badge.svg\" alt=\"Open In Colab\"/></a>"
      ]
    },
    {
      "cell_type": "code",
      "metadata": {
        "id": "PgCZ4_3LXRw5",
        "colab_type": "code",
        "colab": {
          "base_uri": "https://localhost:8080/",
          "height": 506
        },
        "outputId": "f68cce7a-3cd4-4452-9202-0da5d6eec373"
      },
      "source": [
        "!pip install featuretools"
      ],
      "execution_count": 1,
      "outputs": [
        {
          "output_type": "stream",
          "text": [
            "Requirement already satisfied: featuretools in /usr/local/lib/python3.6/dist-packages (0.4.1)\n",
            "Requirement already satisfied: toolz>=0.8.2 in /usr/local/lib/python3.6/dist-packages (from featuretools) (0.10.0)\n",
            "Requirement already satisfied: tqdm>=4.19.2 in /usr/local/lib/python3.6/dist-packages (from featuretools) (4.38.0)\n",
            "Requirement already satisfied: s3fs>=0.1.2 in /usr/local/lib/python3.6/dist-packages (from featuretools) (0.4.2)\n",
            "Requirement already satisfied: pandas>=0.23.0 in /usr/local/lib/python3.6/dist-packages (from featuretools) (1.0.3)\n",
            "Requirement already satisfied: future>=0.16.0 in /usr/local/lib/python3.6/dist-packages (from featuretools) (0.16.0)\n",
            "Requirement already satisfied: dask>=0.19.4 in /usr/local/lib/python3.6/dist-packages (from featuretools) (2.12.0)\n",
            "Requirement already satisfied: psutil>=5.4.8 in /usr/local/lib/python3.6/dist-packages (from featuretools) (5.4.8)\n",
            "Requirement already satisfied: pyyaml>=3.12 in /usr/local/lib/python3.6/dist-packages (from featuretools) (3.13)\n",
            "Requirement already satisfied: cloudpickle>=0.4.0 in /usr/local/lib/python3.6/dist-packages (from featuretools) (1.3.0)\n",
            "Requirement already satisfied: distributed>=1.24.2 in /usr/local/lib/python3.6/dist-packages (from featuretools) (1.25.3)\n",
            "Requirement already satisfied: numpy>=1.13.3 in /usr/local/lib/python3.6/dist-packages (from featuretools) (1.18.2)\n",
            "Requirement already satisfied: botocore>=1.12.91 in /usr/local/lib/python3.6/dist-packages (from s3fs>=0.1.2->featuretools) (1.15.35)\n",
            "Requirement already satisfied: fsspec>=0.6.0 in /usr/local/lib/python3.6/dist-packages (from s3fs>=0.1.2->featuretools) (0.7.1)\n",
            "Requirement already satisfied: python-dateutil>=2.6.1 in /usr/local/lib/python3.6/dist-packages (from pandas>=0.23.0->featuretools) (2.8.1)\n",
            "Requirement already satisfied: pytz>=2017.2 in /usr/local/lib/python3.6/dist-packages (from pandas>=0.23.0->featuretools) (2018.9)\n",
            "Requirement already satisfied: sortedcontainers!=2.0.0,!=2.0.1 in /usr/local/lib/python3.6/dist-packages (from distributed>=1.24.2->featuretools) (2.1.0)\n",
            "Requirement already satisfied: zict>=0.1.3 in /usr/local/lib/python3.6/dist-packages (from distributed>=1.24.2->featuretools) (2.0.0)\n",
            "Requirement already satisfied: tornado>=4.5.1 in /usr/local/lib/python3.6/dist-packages (from distributed>=1.24.2->featuretools) (4.5.3)\n",
            "Requirement already satisfied: six in /usr/local/lib/python3.6/dist-packages (from distributed>=1.24.2->featuretools) (1.12.0)\n",
            "Requirement already satisfied: click>=6.6 in /usr/local/lib/python3.6/dist-packages (from distributed>=1.24.2->featuretools) (7.1.1)\n",
            "Requirement already satisfied: tblib in /usr/local/lib/python3.6/dist-packages (from distributed>=1.24.2->featuretools) (1.6.0)\n",
            "Requirement already satisfied: msgpack in /usr/local/lib/python3.6/dist-packages (from distributed>=1.24.2->featuretools) (1.0.0)\n",
            "Requirement already satisfied: docutils<0.16,>=0.10 in /usr/local/lib/python3.6/dist-packages (from botocore>=1.12.91->s3fs>=0.1.2->featuretools) (0.15.2)\n",
            "Requirement already satisfied: urllib3<1.26,>=1.20; python_version != \"3.4\" in /usr/local/lib/python3.6/dist-packages (from botocore>=1.12.91->s3fs>=0.1.2->featuretools) (1.24.3)\n",
            "Requirement already satisfied: jmespath<1.0.0,>=0.7.1 in /usr/local/lib/python3.6/dist-packages (from botocore>=1.12.91->s3fs>=0.1.2->featuretools) (0.9.5)\n",
            "Requirement already satisfied: heapdict in /usr/local/lib/python3.6/dist-packages (from zict>=0.1.3->distributed>=1.24.2->featuretools) (1.0.1)\n"
          ],
          "name": "stdout"
        }
      ]
    },
    {
      "cell_type": "code",
      "metadata": {
        "id": "76Z1k3Y8Wi-0",
        "colab_type": "code",
        "colab": {}
      },
      "source": [
        "import pandas as pd\n",
        "import featuretools as ft"
      ],
      "execution_count": 0,
      "outputs": []
    },
    {
      "cell_type": "code",
      "metadata": {
        "id": "AmgS6ljnWi_R",
        "colab_type": "code",
        "colab": {}
      },
      "source": [
        "# load data from feature tools\n",
        "\n",
        "data_dict = ft.demo.load_mock_customer()"
      ],
      "execution_count": 0,
      "outputs": []
    },
    {
      "cell_type": "code",
      "metadata": {
        "id": "IcPuXtTdWi_n",
        "colab_type": "code",
        "colab": {
          "base_uri": "https://localhost:8080/",
          "height": 34
        },
        "outputId": "9f465e1c-fa32-4d1d-e611-90b0c72fefa6"
      },
      "source": [
        "# each table in the dictionaty is a pandas dataframe\n",
        "\n",
        "type(data_dict[\"transactions\"])"
      ],
      "execution_count": 4,
      "outputs": [
        {
          "output_type": "execute_result",
          "data": {
            "text/plain": [
              "pandas.core.frame.DataFrame"
            ]
          },
          "metadata": {
            "tags": []
          },
          "execution_count": 4
        }
      ]
    },
    {
      "cell_type": "code",
      "metadata": {
        "id": "6kLRiLo6Wi_4",
        "colab_type": "code",
        "colab": {
          "base_uri": "https://localhost:8080/",
          "height": 34
        },
        "outputId": "acf4d5e6-b268-4668-dfb6-c37ddba428c3"
      },
      "source": [
        "# capture all 3 data tables into a pandas dataframe\n",
        "\n",
        "data = data_dict[\"transactions\"].merge(\n",
        "    data_dict[\"sessions\"]).merge(data_dict[\"customers\"])\n",
        "\n",
        "data.shape"
      ],
      "execution_count": 5,
      "outputs": [
        {
          "output_type": "execute_result",
          "data": {
            "text/plain": [
              "(500, 11)"
            ]
          },
          "metadata": {
            "tags": []
          },
          "execution_count": 5
        }
      ]
    },
    {
      "cell_type": "code",
      "metadata": {
        "id": "29Qhr85AWjAQ",
        "colab_type": "code",
        "colab": {}
      },
      "source": [
        "# select the columns with which we will work in this recipe\n",
        "\n",
        "cols = ['customer_id',\n",
        "        'transaction_id',\n",
        "        'transaction_time',\n",
        "        'amount'\n",
        "        ]\n",
        "\n",
        "data = data[cols]"
      ],
      "execution_count": 0,
      "outputs": []
    },
    {
      "cell_type": "code",
      "metadata": {
        "id": "IwLGTASiWjAi",
        "colab_type": "code",
        "colab": {
          "base_uri": "https://localhost:8080/",
          "height": 206
        },
        "outputId": "6f6b22e0-d93f-4798-9ad8-cb6ad03a1f6f"
      },
      "source": [
        "# display data\n",
        "\n",
        "data.head()"
      ],
      "execution_count": 7,
      "outputs": [
        {
          "output_type": "execute_result",
          "data": {
            "text/html": [
              "<div>\n",
              "<style scoped>\n",
              "    .dataframe tbody tr th:only-of-type {\n",
              "        vertical-align: middle;\n",
              "    }\n",
              "\n",
              "    .dataframe tbody tr th {\n",
              "        vertical-align: top;\n",
              "    }\n",
              "\n",
              "    .dataframe thead th {\n",
              "        text-align: right;\n",
              "    }\n",
              "</style>\n",
              "<table border=\"1\" class=\"dataframe\">\n",
              "  <thead>\n",
              "    <tr style=\"text-align: right;\">\n",
              "      <th></th>\n",
              "      <th>customer_id</th>\n",
              "      <th>transaction_id</th>\n",
              "      <th>transaction_time</th>\n",
              "      <th>amount</th>\n",
              "    </tr>\n",
              "  </thead>\n",
              "  <tbody>\n",
              "    <tr>\n",
              "      <th>0</th>\n",
              "      <td>2</td>\n",
              "      <td>298</td>\n",
              "      <td>2014-01-01 00:00:00</td>\n",
              "      <td>127.64</td>\n",
              "    </tr>\n",
              "    <tr>\n",
              "      <th>1</th>\n",
              "      <td>2</td>\n",
              "      <td>2</td>\n",
              "      <td>2014-01-01 00:01:05</td>\n",
              "      <td>109.48</td>\n",
              "    </tr>\n",
              "    <tr>\n",
              "      <th>2</th>\n",
              "      <td>2</td>\n",
              "      <td>308</td>\n",
              "      <td>2014-01-01 00:02:10</td>\n",
              "      <td>95.06</td>\n",
              "    </tr>\n",
              "    <tr>\n",
              "      <th>3</th>\n",
              "      <td>2</td>\n",
              "      <td>116</td>\n",
              "      <td>2014-01-01 00:03:15</td>\n",
              "      <td>78.92</td>\n",
              "    </tr>\n",
              "    <tr>\n",
              "      <th>4</th>\n",
              "      <td>2</td>\n",
              "      <td>371</td>\n",
              "      <td>2014-01-01 00:04:20</td>\n",
              "      <td>31.54</td>\n",
              "    </tr>\n",
              "  </tbody>\n",
              "</table>\n",
              "</div>"
            ],
            "text/plain": [
              "   customer_id  transaction_id    transaction_time  amount\n",
              "0            2             298 2014-01-01 00:00:00  127.64\n",
              "1            2               2 2014-01-01 00:01:05  109.48\n",
              "2            2             308 2014-01-01 00:02:10   95.06\n",
              "3            2             116 2014-01-01 00:03:15   78.92\n",
              "4            2             371 2014-01-01 00:04:20   31.54"
            ]
          },
          "metadata": {
            "tags": []
          },
          "execution_count": 7
        }
      ]
    },
    {
      "cell_type": "code",
      "metadata": {
        "id": "dS5osFbCWjAu",
        "colab_type": "code",
        "colab": {
          "base_uri": "https://localhost:8080/",
          "height": 52
        },
        "outputId": "7ff9ba5e-a694-4ce4-98d5-cd967926fbd8"
      },
      "source": [
        "print('Number of customers: {}'.format(data['customer_id'].nunique()))\n",
        "print('Number of transactions: {}'.format(data['transaction_id'].nunique()))"
      ],
      "execution_count": 8,
      "outputs": [
        {
          "output_type": "stream",
          "text": [
            "Number of customers: 5\n",
            "Number of transactions: 500\n"
          ],
          "name": "stdout"
        }
      ]
    },
    {
      "cell_type": "code",
      "metadata": {
        "id": "voJV3l99WjA4",
        "colab_type": "code",
        "colab": {
          "base_uri": "https://localhost:8080/",
          "height": 139
        },
        "outputId": "d56d2b03-297e-4202-f73d-4387103df79a"
      },
      "source": [
        "# dispay number of transactions per customer\n",
        "\n",
        "data.groupby('customer_id')['transaction_id'].count()"
      ],
      "execution_count": 9,
      "outputs": [
        {
          "output_type": "execute_result",
          "data": {
            "text/plain": [
              "customer_id\n",
              "1    126\n",
              "2     93\n",
              "3     93\n",
              "4    109\n",
              "5     79\n",
              "Name: transaction_id, dtype: int64"
            ]
          },
          "metadata": {
            "tags": []
          },
          "execution_count": 9
        }
      ]
    },
    {
      "cell_type": "markdown",
      "metadata": {
        "id": "l46-Q5kbWjBA",
        "colab_type": "text"
      },
      "source": [
        "## Aggregation with pandas"
      ]
    },
    {
      "cell_type": "code",
      "metadata": {
        "id": "cCnmRXF3WjBC",
        "colab_type": "code",
        "colab": {
          "base_uri": "https://localhost:8080/",
          "height": 238
        },
        "outputId": "57016f54-053d-4a2d-efa4-e1b37b9e7f25"
      },
      "source": [
        "# make a list of the operations we want to perform\n",
        "operations = ['sum', 'max', 'min', 'mean', 'median', 'std', 'count']\n",
        "\n",
        "# make a list of the new feature names\n",
        "feature_names = [\n",
        "    'total_amount', 'max_amount', 'min_amount', 'mean_amount', 'median_amount',\n",
        "    'std_amount', 'number of transactions'\n",
        "]\n",
        "\n",
        "df = pd.DataFrame()\n",
        "\n",
        "# capture new features in a pandas dataframe\n",
        "df[feature_names] = data.groupby('customer_id')['amount'].agg(operations)\n",
        "\n",
        "df"
      ],
      "execution_count": 11,
      "outputs": [
        {
          "output_type": "execute_result",
          "data": {
            "text/html": [
              "<div>\n",
              "<style scoped>\n",
              "    .dataframe tbody tr th:only-of-type {\n",
              "        vertical-align: middle;\n",
              "    }\n",
              "\n",
              "    .dataframe tbody tr th {\n",
              "        vertical-align: top;\n",
              "    }\n",
              "\n",
              "    .dataframe thead th {\n",
              "        text-align: right;\n",
              "    }\n",
              "</style>\n",
              "<table border=\"1\" class=\"dataframe\">\n",
              "  <thead>\n",
              "    <tr style=\"text-align: right;\">\n",
              "      <th></th>\n",
              "      <th>total_amount</th>\n",
              "      <th>max_amount</th>\n",
              "      <th>min_amount</th>\n",
              "      <th>mean_amount</th>\n",
              "      <th>median_amount</th>\n",
              "      <th>std_amount</th>\n",
              "      <th>number of transactions</th>\n",
              "    </tr>\n",
              "    <tr>\n",
              "      <th>customer_id</th>\n",
              "      <th></th>\n",
              "      <th></th>\n",
              "      <th></th>\n",
              "      <th></th>\n",
              "      <th></th>\n",
              "      <th></th>\n",
              "      <th></th>\n",
              "    </tr>\n",
              "  </thead>\n",
              "  <tbody>\n",
              "    <tr>\n",
              "      <th>1</th>\n",
              "      <td>9025.62</td>\n",
              "      <td>139.43</td>\n",
              "      <td>5.81</td>\n",
              "      <td>71.631905</td>\n",
              "      <td>69.715</td>\n",
              "      <td>40.442059</td>\n",
              "      <td>126</td>\n",
              "    </tr>\n",
              "    <tr>\n",
              "      <th>2</th>\n",
              "      <td>7200.28</td>\n",
              "      <td>146.81</td>\n",
              "      <td>8.73</td>\n",
              "      <td>77.422366</td>\n",
              "      <td>75.960</td>\n",
              "      <td>37.705178</td>\n",
              "      <td>93</td>\n",
              "    </tr>\n",
              "    <tr>\n",
              "      <th>3</th>\n",
              "      <td>6236.62</td>\n",
              "      <td>149.15</td>\n",
              "      <td>5.89</td>\n",
              "      <td>67.060430</td>\n",
              "      <td>58.930</td>\n",
              "      <td>43.683296</td>\n",
              "      <td>93</td>\n",
              "    </tr>\n",
              "    <tr>\n",
              "      <th>4</th>\n",
              "      <td>8727.68</td>\n",
              "      <td>149.95</td>\n",
              "      <td>5.73</td>\n",
              "      <td>80.070459</td>\n",
              "      <td>81.410</td>\n",
              "      <td>45.068765</td>\n",
              "      <td>109</td>\n",
              "    </tr>\n",
              "    <tr>\n",
              "      <th>5</th>\n",
              "      <td>6349.66</td>\n",
              "      <td>149.02</td>\n",
              "      <td>7.55</td>\n",
              "      <td>80.375443</td>\n",
              "      <td>78.870</td>\n",
              "      <td>44.095630</td>\n",
              "      <td>79</td>\n",
              "    </tr>\n",
              "  </tbody>\n",
              "</table>\n",
              "</div>"
            ],
            "text/plain": [
              "             total_amount  max_amount  ...  std_amount  number of transactions\n",
              "customer_id                            ...                                    \n",
              "1                 9025.62      139.43  ...   40.442059                     126\n",
              "2                 7200.28      146.81  ...   37.705178                      93\n",
              "3                 6236.62      149.15  ...   43.683296                      93\n",
              "4                 8727.68      149.95  ...   45.068765                     109\n",
              "5                 6349.66      149.02  ...   44.095630                      79\n",
              "\n",
              "[5 rows x 7 columns]"
            ]
          },
          "metadata": {
            "tags": []
          },
          "execution_count": 11
        }
      ]
    },
    {
      "cell_type": "markdown",
      "metadata": {
        "id": "bXR4EMdGWjBM",
        "colab_type": "text"
      },
      "source": [
        "## Aggregation with Featuretools"
      ]
    },
    {
      "cell_type": "code",
      "metadata": {
        "id": "JBImppRXWjBO",
        "colab_type": "code",
        "colab": {
          "base_uri": "https://localhost:8080/",
          "height": 104
        },
        "outputId": "b9c59c22-d872-4792-a742-c3d2a55310d2"
      },
      "source": [
        "# in order for feature tools to work, we need to create\n",
        "# entity sets\n",
        "\n",
        "# create and entity set and give it a name\n",
        "es = ft.EntitySet(id=\"customer_data\")\n",
        "\n",
        "# add transactions table to the entity set\n",
        "# basically we pass the entire dataframe indicating\n",
        "# the transaction_id as unique identifier\n",
        "# and the transaction time as the time index\n",
        "# there is one unique timestamp per transaction\n",
        "es.entity_from_dataframe(entity_id='transactions',\n",
        "                         dataframe=data[cols],\n",
        "                         index=\"transaction_id\",\n",
        "                         time_index='transaction_time')\n",
        "\n",
        "# display the entity set\n",
        "es"
      ],
      "execution_count": 12,
      "outputs": [
        {
          "output_type": "execute_result",
          "data": {
            "text/plain": [
              "Entityset: customer_data\n",
              "  Entities:\n",
              "    transactions [Rows: 500, Columns: 4]\n",
              "  Relationships:\n",
              "    No relationships"
            ]
          },
          "metadata": {
            "tags": []
          },
          "execution_count": 12
        }
      ]
    },
    {
      "cell_type": "code",
      "metadata": {
        "id": "OIcchKP-WjBZ",
        "colab_type": "code",
        "colab": {
          "base_uri": "https://localhost:8080/",
          "height": 121
        },
        "outputId": "9761bde4-56f4-41bd-e88a-a03192beae63"
      },
      "source": [
        "# now we indicate that within the entity set\n",
        "# there is another table, with customer data,\n",
        "# each customer identified with a unique\n",
        "# customer id\n",
        "\n",
        "es.normalize_entity(base_entity_id=\"transactions\",\n",
        "                    new_entity_id=\"customers\",\n",
        "                    index=\"customer_id\")"
      ],
      "execution_count": 13,
      "outputs": [
        {
          "output_type": "execute_result",
          "data": {
            "text/plain": [
              "Entityset: customer_data\n",
              "  Entities:\n",
              "    transactions [Rows: 500, Columns: 4]\n",
              "    customers [Rows: 5, Columns: 2]\n",
              "  Relationships:\n",
              "    transactions.customer_id -> customers.customer_id"
            ]
          },
          "metadata": {
            "tags": []
          },
          "execution_count": 13
        }
      ]
    },
    {
      "cell_type": "code",
      "metadata": {
        "id": "CXVnBgYhWjBj",
        "colab_type": "code",
        "colab": {
          "base_uri": "https://localhost:8080/",
          "height": 34
        },
        "outputId": "3115ff85-5cb8-44a2-bbc8-432313c5ddbd"
      },
      "source": [
        "# let's print out the operations we want to perform\n",
        "# we created this list in cell 9\n",
        "\n",
        "operations"
      ],
      "execution_count": 14,
      "outputs": [
        {
          "output_type": "execute_result",
          "data": {
            "text/plain": [
              "['sum', 'max', 'min', 'mean', 'median', 'std', 'count']"
            ]
          },
          "metadata": {
            "tags": []
          },
          "execution_count": 14
        }
      ]
    },
    {
      "cell_type": "code",
      "metadata": {
        "id": "1MAeq_MrWjBt",
        "colab_type": "code",
        "colab": {
          "base_uri": "https://localhost:8080/",
          "height": 173
        },
        "outputId": "bbce85ba-8646-4f0f-eb25-6077359decb2"
      },
      "source": [
        "# set up the feature creation object\n",
        "# to aggregate transactions at customer level\n",
        "\n",
        "feature_matrix, features = ft.dfs(entityset=es,\n",
        "                                  target_entity=\"customers\",\n",
        "                                  agg_primitives=operations,\n",
        "                                  trans_primitives=[],\n",
        "                                  verbose=True,\n",
        "                                  )\n",
        "\n",
        "# display name of created features\n",
        "features"
      ],
      "execution_count": 15,
      "outputs": [
        {
          "output_type": "stream",
          "text": [
            "Built 7 features\n",
            "Elapsed: 00:00 | Remaining: 00:00 | Progress: 100%|██████████| Calculated: 1/1 chunks\n"
          ],
          "name": "stdout"
        },
        {
          "output_type": "execute_result",
          "data": {
            "text/plain": [
              "[<Feature: SUM(transactions.amount)>,\n",
              " <Feature: MAX(transactions.amount)>,\n",
              " <Feature: MIN(transactions.amount)>,\n",
              " <Feature: MEAN(transactions.amount)>,\n",
              " <Feature: MEDIAN(transactions.amount)>,\n",
              " <Feature: STD(transactions.amount)>,\n",
              " <Feature: COUNT(transactions)>]"
            ]
          },
          "metadata": {
            "tags": []
          },
          "execution_count": 15
        }
      ]
    },
    {
      "cell_type": "code",
      "metadata": {
        "id": "1PLDizP_WjB4",
        "colab_type": "code",
        "colab": {
          "base_uri": "https://localhost:8080/",
          "height": 258
        },
        "outputId": "d7581d9c-29a6-4e94-e6b6-a867ceada024"
      },
      "source": [
        "# dataframe with the new features\n",
        "feature_matrix"
      ],
      "execution_count": 16,
      "outputs": [
        {
          "output_type": "execute_result",
          "data": {
            "text/html": [
              "<div>\n",
              "<style scoped>\n",
              "    .dataframe tbody tr th:only-of-type {\n",
              "        vertical-align: middle;\n",
              "    }\n",
              "\n",
              "    .dataframe tbody tr th {\n",
              "        vertical-align: top;\n",
              "    }\n",
              "\n",
              "    .dataframe thead th {\n",
              "        text-align: right;\n",
              "    }\n",
              "</style>\n",
              "<table border=\"1\" class=\"dataframe\">\n",
              "  <thead>\n",
              "    <tr style=\"text-align: right;\">\n",
              "      <th></th>\n",
              "      <th>SUM(transactions.amount)</th>\n",
              "      <th>MAX(transactions.amount)</th>\n",
              "      <th>MIN(transactions.amount)</th>\n",
              "      <th>MEAN(transactions.amount)</th>\n",
              "      <th>MEDIAN(transactions.amount)</th>\n",
              "      <th>STD(transactions.amount)</th>\n",
              "      <th>COUNT(transactions)</th>\n",
              "    </tr>\n",
              "    <tr>\n",
              "      <th>customer_id</th>\n",
              "      <th></th>\n",
              "      <th></th>\n",
              "      <th></th>\n",
              "      <th></th>\n",
              "      <th></th>\n",
              "      <th></th>\n",
              "      <th></th>\n",
              "    </tr>\n",
              "  </thead>\n",
              "  <tbody>\n",
              "    <tr>\n",
              "      <th>1</th>\n",
              "      <td>9025.62</td>\n",
              "      <td>139.43</td>\n",
              "      <td>5.81</td>\n",
              "      <td>71.631905</td>\n",
              "      <td>69.715</td>\n",
              "      <td>40.442059</td>\n",
              "      <td>126</td>\n",
              "    </tr>\n",
              "    <tr>\n",
              "      <th>2</th>\n",
              "      <td>7200.28</td>\n",
              "      <td>146.81</td>\n",
              "      <td>8.73</td>\n",
              "      <td>77.422366</td>\n",
              "      <td>75.960</td>\n",
              "      <td>37.705178</td>\n",
              "      <td>93</td>\n",
              "    </tr>\n",
              "    <tr>\n",
              "      <th>3</th>\n",
              "      <td>6236.62</td>\n",
              "      <td>149.15</td>\n",
              "      <td>5.89</td>\n",
              "      <td>67.060430</td>\n",
              "      <td>58.930</td>\n",
              "      <td>43.683296</td>\n",
              "      <td>93</td>\n",
              "    </tr>\n",
              "    <tr>\n",
              "      <th>4</th>\n",
              "      <td>8727.68</td>\n",
              "      <td>149.95</td>\n",
              "      <td>5.73</td>\n",
              "      <td>80.070459</td>\n",
              "      <td>81.410</td>\n",
              "      <td>45.068765</td>\n",
              "      <td>109</td>\n",
              "    </tr>\n",
              "    <tr>\n",
              "      <th>5</th>\n",
              "      <td>6349.66</td>\n",
              "      <td>149.02</td>\n",
              "      <td>7.55</td>\n",
              "      <td>80.375443</td>\n",
              "      <td>78.870</td>\n",
              "      <td>44.095630</td>\n",
              "      <td>79</td>\n",
              "    </tr>\n",
              "  </tbody>\n",
              "</table>\n",
              "</div>"
            ],
            "text/plain": [
              "             SUM(transactions.amount)  ...  COUNT(transactions)\n",
              "customer_id                            ...                     \n",
              "1                             9025.62  ...                  126\n",
              "2                             7200.28  ...                   93\n",
              "3                             6236.62  ...                   93\n",
              "4                             8727.68  ...                  109\n",
              "5                             6349.66  ...                   79\n",
              "\n",
              "[5 rows x 7 columns]"
            ]
          },
          "metadata": {
            "tags": []
          },
          "execution_count": 16
        }
      ]
    },
    {
      "cell_type": "markdown",
      "metadata": {
        "id": "fWUTZSySWjCB",
        "colab_type": "text"
      },
      "source": [
        "If you compare this table to the one created in 8, the values should be identical."
      ]
    }
  ]
}
