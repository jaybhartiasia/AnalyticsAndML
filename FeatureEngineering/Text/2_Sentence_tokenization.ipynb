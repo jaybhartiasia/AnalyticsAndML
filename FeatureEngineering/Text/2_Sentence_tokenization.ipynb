{
  "nbformat": 4,
  "nbformat_minor": 0,
  "metadata": {
    "kernelspec": {
      "display_name": "feml",
      "language": "python",
      "name": "feml"
    },
    "language_info": {
      "codemirror_mode": {
        "name": "ipython",
        "version": 3
      },
      "file_extension": ".py",
      "mimetype": "text/x-python",
      "name": "python",
      "nbconvert_exporter": "python",
      "pygments_lexer": "ipython3",
      "version": "3.7.3"
    },
    "toc": {
      "nav_menu": {},
      "number_sections": true,
      "sideBar": true,
      "skip_h1_title": false,
      "toc_cell": false,
      "toc_position": {},
      "toc_section_display": "block",
      "toc_window_display": false
    },
    "colab": {
      "name": "2_Sentence-tokenization.ipynb",
      "provenance": [],
      "include_colab_link": true
    }
  },
  "cells": [
    {
      "cell_type": "markdown",
      "metadata": {
        "id": "view-in-github",
        "colab_type": "text"
      },
      "source": [
        "<a href=\"https://colab.research.google.com/github/vinay10949/AnalyticsAndML/blob/master/FeatureEngineering/Text/2_Sentence_tokenization.ipynb\" target=\"_parent\"><img src=\"https://colab.research.google.com/assets/colab-badge.svg\" alt=\"Open In Colab\"/></a>"
      ]
    },
    {
      "cell_type": "markdown",
      "metadata": {
        "id": "OWyIisOmhoDL",
        "colab_type": "text"
      },
      "source": [
        "In this recipe, we will learn how to count the number of sentences in a piece of text."
      ]
    },
    {
      "cell_type": "code",
      "metadata": {
        "id": "l5uEQwmXhoDP",
        "colab_type": "code",
        "colab": {}
      },
      "source": [
        "import pandas as pd\n",
        "from nltk.tokenize import sent_tokenize\n",
        "from sklearn.datasets import fetch_20newsgroups"
      ],
      "execution_count": 0,
      "outputs": []
    },
    {
      "cell_type": "code",
      "metadata": {
        "id": "9ZNB3QuchoDj",
        "colab_type": "code",
        "colab": {}
      },
      "source": [
        "text = \"\"\"\n",
        "A fair number of brave souls who upgraded their SI clock oscillator have\n",
        "shared their experiences for this poll. Please send a brief message detailing\n",
        "your experiences with the procedure. Top speed attained, CPU rated speed,\n",
        "add on cards and adapters, heat sinks, hour of usage per day, floppy disk\n",
        "functionality with 800 and 1.4 m floppies are especially requested.\n",
        "\n",
        "I will be summarizing in the next two days, so please add to the network\n",
        "knowledge base if you have done the clock upgrade and haven't answered this\n",
        "poll. Thanks.\n",
        "\"\"\""
      ],
      "execution_count": 0,
      "outputs": []
    },
    {
      "cell_type": "code",
      "metadata": {
        "id": "LZ-5N9h5hoD0",
        "colab_type": "code",
        "colab": {
          "base_uri": "https://localhost:8080/",
          "height": 124
        },
        "outputId": "522b0e26-438d-4db9-a7e3-f69c9c94fa30"
      },
      "source": [
        "# separate text into sentences\n",
        "\n",
        "sent_tokenize(text)"
      ],
      "execution_count": 7,
      "outputs": [
        {
          "output_type": "execute_result",
          "data": {
            "text/plain": [
              "['\\nA fair number of brave souls who upgraded their SI clock oscillator have\\nshared their experiences for this poll.',\n",
              " 'Please send a brief message detailing\\nyour experiences with the procedure.',\n",
              " 'Top speed attained, CPU rated speed,\\nadd on cards and adapters, heat sinks, hour of usage per day, floppy disk\\nfunctionality with 800 and 1.4 m floppies are especially requested.',\n",
              " \"I will be summarizing in the next two days, so please add to the network\\nknowledge base if you have done the clock upgrade and haven't answered this\\npoll.\",\n",
              " 'Thanks.']"
            ]
          },
          "metadata": {
            "tags": []
          },
          "execution_count": 7
        }
      ]
    },
    {
      "cell_type": "code",
      "metadata": {
        "id": "RxbU1-iAhoEI",
        "colab_type": "code",
        "colab": {
          "base_uri": "https://localhost:8080/",
          "height": 34
        },
        "outputId": "f3a48100-0b9f-4a5a-82b2-b2dfeb2e4406"
      },
      "source": [
        "# count number of sentences\n",
        "\n",
        "len(sent_tokenize(text))"
      ],
      "execution_count": 8,
      "outputs": [
        {
          "output_type": "execute_result",
          "data": {
            "text/plain": [
              "5"
            ]
          },
          "metadata": {
            "tags": []
          },
          "execution_count": 8
        }
      ]
    },
    {
      "cell_type": "code",
      "metadata": {
        "id": "YSVdcxkahoES",
        "colab_type": "code",
        "colab": {
          "base_uri": "https://localhost:8080/",
          "height": 241
        },
        "outputId": "a4164ea7-b086-4ddf-c9c8-a026923fc3fa"
      },
      "source": [
        "# now we do the same for an entire dataframe\n",
        "\n",
        "# load data\n",
        "data = fetch_20newsgroups(subset='train')\n",
        "df = pd.DataFrame(data.data, columns=['text'])\n",
        "df.head()"
      ],
      "execution_count": 9,
      "outputs": [
        {
          "output_type": "stream",
          "text": [
            "Downloading 20news dataset. This may take a few minutes.\n",
            "Downloading dataset from https://ndownloader.figshare.com/files/5975967 (14 MB)\n"
          ],
          "name": "stderr"
        },
        {
          "output_type": "execute_result",
          "data": {
            "text/html": [
              "<div>\n",
              "<style scoped>\n",
              "    .dataframe tbody tr th:only-of-type {\n",
              "        vertical-align: middle;\n",
              "    }\n",
              "\n",
              "    .dataframe tbody tr th {\n",
              "        vertical-align: top;\n",
              "    }\n",
              "\n",
              "    .dataframe thead th {\n",
              "        text-align: right;\n",
              "    }\n",
              "</style>\n",
              "<table border=\"1\" class=\"dataframe\">\n",
              "  <thead>\n",
              "    <tr style=\"text-align: right;\">\n",
              "      <th></th>\n",
              "      <th>text</th>\n",
              "    </tr>\n",
              "  </thead>\n",
              "  <tbody>\n",
              "    <tr>\n",
              "      <th>0</th>\n",
              "      <td>From: lerxst@wam.umd.edu (where's my thing)\\nS...</td>\n",
              "    </tr>\n",
              "    <tr>\n",
              "      <th>1</th>\n",
              "      <td>From: guykuo@carson.u.washington.edu (Guy Kuo)...</td>\n",
              "    </tr>\n",
              "    <tr>\n",
              "      <th>2</th>\n",
              "      <td>From: twillis@ec.ecn.purdue.edu (Thomas E Will...</td>\n",
              "    </tr>\n",
              "    <tr>\n",
              "      <th>3</th>\n",
              "      <td>From: jgreen@amber (Joe Green)\\nSubject: Re: W...</td>\n",
              "    </tr>\n",
              "    <tr>\n",
              "      <th>4</th>\n",
              "      <td>From: jcm@head-cfa.harvard.edu (Jonathan McDow...</td>\n",
              "    </tr>\n",
              "  </tbody>\n",
              "</table>\n",
              "</div>"
            ],
            "text/plain": [
              "                                                text\n",
              "0  From: lerxst@wam.umd.edu (where's my thing)\\nS...\n",
              "1  From: guykuo@carson.u.washington.edu (Guy Kuo)...\n",
              "2  From: twillis@ec.ecn.purdue.edu (Thomas E Will...\n",
              "3  From: jgreen@amber (Joe Green)\\nSubject: Re: W...\n",
              "4  From: jcm@head-cfa.harvard.edu (Jonathan McDow..."
            ]
          },
          "metadata": {
            "tags": []
          },
          "execution_count": 9
        }
      ]
    },
    {
      "cell_type": "code",
      "metadata": {
        "id": "5sTn1MSxhoEi",
        "colab_type": "code",
        "colab": {
          "base_uri": "https://localhost:8080/",
          "height": 363
        },
        "outputId": "9cbb396e-6eee-4298-a887-7f472a25145d"
      },
      "source": [
        "# take the first 10 rows to speed things up\n",
        "\n",
        "df = df.loc[1:10]\n",
        "df"
      ],
      "execution_count": 10,
      "outputs": [
        {
          "output_type": "execute_result",
          "data": {
            "text/html": [
              "<div>\n",
              "<style scoped>\n",
              "    .dataframe tbody tr th:only-of-type {\n",
              "        vertical-align: middle;\n",
              "    }\n",
              "\n",
              "    .dataframe tbody tr th {\n",
              "        vertical-align: top;\n",
              "    }\n",
              "\n",
              "    .dataframe thead th {\n",
              "        text-align: right;\n",
              "    }\n",
              "</style>\n",
              "<table border=\"1\" class=\"dataframe\">\n",
              "  <thead>\n",
              "    <tr style=\"text-align: right;\">\n",
              "      <th></th>\n",
              "      <th>text</th>\n",
              "    </tr>\n",
              "  </thead>\n",
              "  <tbody>\n",
              "    <tr>\n",
              "      <th>1</th>\n",
              "      <td>From: guykuo@carson.u.washington.edu (Guy Kuo)...</td>\n",
              "    </tr>\n",
              "    <tr>\n",
              "      <th>2</th>\n",
              "      <td>From: twillis@ec.ecn.purdue.edu (Thomas E Will...</td>\n",
              "    </tr>\n",
              "    <tr>\n",
              "      <th>3</th>\n",
              "      <td>From: jgreen@amber (Joe Green)\\nSubject: Re: W...</td>\n",
              "    </tr>\n",
              "    <tr>\n",
              "      <th>4</th>\n",
              "      <td>From: jcm@head-cfa.harvard.edu (Jonathan McDow...</td>\n",
              "    </tr>\n",
              "    <tr>\n",
              "      <th>5</th>\n",
              "      <td>From: dfo@vttoulu.tko.vtt.fi (Foxvog Douglas)\\...</td>\n",
              "    </tr>\n",
              "    <tr>\n",
              "      <th>6</th>\n",
              "      <td>From: bmdelane@quads.uchicago.edu (brian manni...</td>\n",
              "    </tr>\n",
              "    <tr>\n",
              "      <th>7</th>\n",
              "      <td>From: bgrubb@dante.nmsu.edu (GRUBB)\\nSubject: ...</td>\n",
              "    </tr>\n",
              "    <tr>\n",
              "      <th>8</th>\n",
              "      <td>From: holmes7000@iscsvax.uni.edu\\nSubject: WIn...</td>\n",
              "    </tr>\n",
              "    <tr>\n",
              "      <th>9</th>\n",
              "      <td>From: kerr@ux1.cso.uiuc.edu (Stan Kerr)\\nSubje...</td>\n",
              "    </tr>\n",
              "    <tr>\n",
              "      <th>10</th>\n",
              "      <td>From: irwin@cmptrc.lonestar.org (Irwin Arnstei...</td>\n",
              "    </tr>\n",
              "  </tbody>\n",
              "</table>\n",
              "</div>"
            ],
            "text/plain": [
              "                                                 text\n",
              "1   From: guykuo@carson.u.washington.edu (Guy Kuo)...\n",
              "2   From: twillis@ec.ecn.purdue.edu (Thomas E Will...\n",
              "3   From: jgreen@amber (Joe Green)\\nSubject: Re: W...\n",
              "4   From: jcm@head-cfa.harvard.edu (Jonathan McDow...\n",
              "5   From: dfo@vttoulu.tko.vtt.fi (Foxvog Douglas)\\...\n",
              "6   From: bmdelane@quads.uchicago.edu (brian manni...\n",
              "7   From: bgrubb@dante.nmsu.edu (GRUBB)\\nSubject: ...\n",
              "8   From: holmes7000@iscsvax.uni.edu\\nSubject: WIn...\n",
              "9   From: kerr@ux1.cso.uiuc.edu (Stan Kerr)\\nSubje...\n",
              "10  From: irwin@cmptrc.lonestar.org (Irwin Arnstei..."
            ]
          },
          "metadata": {
            "tags": []
          },
          "execution_count": 10
        }
      ]
    },
    {
      "cell_type": "code",
      "metadata": {
        "id": "Qw5oDk35hoEs",
        "colab_type": "code",
        "colab": {
          "base_uri": "https://localhost:8080/",
          "height": 363
        },
        "outputId": "925a1be3-1910-40e9-fe43-304633944062"
      },
      "source": [
        "# remove first part of email\n",
        "\n",
        "df['text'] = df['text'].str.split('Lines:').apply(lambda x: x[1])\n",
        "\n",
        "df"
      ],
      "execution_count": 11,
      "outputs": [
        {
          "output_type": "execute_result",
          "data": {
            "text/html": [
              "<div>\n",
              "<style scoped>\n",
              "    .dataframe tbody tr th:only-of-type {\n",
              "        vertical-align: middle;\n",
              "    }\n",
              "\n",
              "    .dataframe tbody tr th {\n",
              "        vertical-align: top;\n",
              "    }\n",
              "\n",
              "    .dataframe thead th {\n",
              "        text-align: right;\n",
              "    }\n",
              "</style>\n",
              "<table border=\"1\" class=\"dataframe\">\n",
              "  <thead>\n",
              "    <tr style=\"text-align: right;\">\n",
              "      <th></th>\n",
              "      <th>text</th>\n",
              "    </tr>\n",
              "  </thead>\n",
              "  <tbody>\n",
              "    <tr>\n",
              "      <th>1</th>\n",
              "      <td>11\\nNNTP-Posting-Host: carson.u.washington.ed...</td>\n",
              "    </tr>\n",
              "    <tr>\n",
              "      <th>2</th>\n",
              "      <td>36\\n\\nwell folks, my mac plus finally gave up...</td>\n",
              "    </tr>\n",
              "    <tr>\n",
              "      <th>3</th>\n",
              "      <td>14\\nDistribution: world\\nNNTP-Posting-Host: a...</td>\n",
              "    </tr>\n",
              "    <tr>\n",
              "      <th>4</th>\n",
              "      <td>23\\n\\nFrom article &lt;C5owCB.n3p@world.std.com&gt;...</td>\n",
              "    </tr>\n",
              "    <tr>\n",
              "      <th>5</th>\n",
              "      <td>58\\n\\nIn article &lt;1r1eu1$4t@transfer.stratus....</td>\n",
              "    </tr>\n",
              "    <tr>\n",
              "      <th>6</th>\n",
              "      <td>12\\n\\nThere were a few people who responded t...</td>\n",
              "    </tr>\n",
              "    <tr>\n",
              "      <th>7</th>\n",
              "      <td>44\\nDistribution: world\\nNNTP-Posting-Host: d...</td>\n",
              "    </tr>\n",
              "    <tr>\n",
              "      <th>8</th>\n",
              "      <td>10\\n\\nI have win 3.0 and downloaded several i...</td>\n",
              "    </tr>\n",
              "    <tr>\n",
              "      <th>9</th>\n",
              "      <td>29\\n\\njap10@po.CWRU.Edu (Joseph A. Pellettier...</td>\n",
              "    </tr>\n",
              "    <tr>\n",
              "      <th>10</th>\n",
              "      <td>13\\n\\nI have a line on a Ducati 900GTS 1978 m...</td>\n",
              "    </tr>\n",
              "  </tbody>\n",
              "</table>\n",
              "</div>"
            ],
            "text/plain": [
              "                                                 text\n",
              "1    11\\nNNTP-Posting-Host: carson.u.washington.ed...\n",
              "2    36\\n\\nwell folks, my mac plus finally gave up...\n",
              "3    14\\nDistribution: world\\nNNTP-Posting-Host: a...\n",
              "4    23\\n\\nFrom article <C5owCB.n3p@world.std.com>...\n",
              "5    58\\n\\nIn article <1r1eu1$4t@transfer.stratus....\n",
              "6    12\\n\\nThere were a few people who responded t...\n",
              "7    44\\nDistribution: world\\nNNTP-Posting-Host: d...\n",
              "8    10\\n\\nI have win 3.0 and downloaded several i...\n",
              "9    29\\n\\njap10@po.CWRU.Edu (Joseph A. Pellettier...\n",
              "10   13\\n\\nI have a line on a Ducati 900GTS 1978 m..."
            ]
          },
          "metadata": {
            "tags": []
          },
          "execution_count": 11
        }
      ]
    },
    {
      "cell_type": "code",
      "metadata": {
        "id": "uADIntm1hoE0",
        "colab_type": "code",
        "colab": {
          "base_uri": "https://localhost:8080/",
          "height": 278
        },
        "outputId": "42ce8b13-d7db-48b2-b544-2b2a2e5d81ec"
      },
      "source": [
        "print(df['text'][1])"
      ],
      "execution_count": 12,
      "outputs": [
        {
          "output_type": "stream",
          "text": [
            " 11\n",
            "NNTP-Posting-Host: carson.u.washington.edu\n",
            "\n",
            "A fair number of brave souls who upgraded their SI clock oscillator have\n",
            "shared their experiences for this poll. Please send a brief message detailing\n",
            "your experiences with the procedure. Top speed attained, CPU rated speed,\n",
            "add on cards and adapters, heat sinks, hour of usage per day, floppy disk\n",
            "functionality with 800 and 1.4 m floppies are especially requested.\n",
            "\n",
            "I will be summarizing in the next two days, so please add to the network\n",
            "knowledge base if you have done the clock upgrade and haven't answered this\n",
            "poll. Thanks.\n",
            "\n",
            "Guy Kuo <guykuo@u.washington.edu>\n",
            "\n"
          ],
          "name": "stdout"
        }
      ]
    },
    {
      "cell_type": "code",
      "metadata": {
        "id": "7Ln9YnWIhoE8",
        "colab_type": "code",
        "colab": {
          "base_uri": "https://localhost:8080/",
          "height": 363
        },
        "outputId": "17cde867-84f9-4711-d67d-a1e7ab190922"
      },
      "source": [
        "df['num_sent'] = df['text'].apply(sent_tokenize).apply(len)\n",
        "\n",
        "df"
      ],
      "execution_count": 13,
      "outputs": [
        {
          "output_type": "execute_result",
          "data": {
            "text/html": [
              "<div>\n",
              "<style scoped>\n",
              "    .dataframe tbody tr th:only-of-type {\n",
              "        vertical-align: middle;\n",
              "    }\n",
              "\n",
              "    .dataframe tbody tr th {\n",
              "        vertical-align: top;\n",
              "    }\n",
              "\n",
              "    .dataframe thead th {\n",
              "        text-align: right;\n",
              "    }\n",
              "</style>\n",
              "<table border=\"1\" class=\"dataframe\">\n",
              "  <thead>\n",
              "    <tr style=\"text-align: right;\">\n",
              "      <th></th>\n",
              "      <th>text</th>\n",
              "      <th>num_sent</th>\n",
              "    </tr>\n",
              "  </thead>\n",
              "  <tbody>\n",
              "    <tr>\n",
              "      <th>1</th>\n",
              "      <td>11\\nNNTP-Posting-Host: carson.u.washington.ed...</td>\n",
              "      <td>6</td>\n",
              "    </tr>\n",
              "    <tr>\n",
              "      <th>2</th>\n",
              "      <td>36\\n\\nwell folks, my mac plus finally gave up...</td>\n",
              "      <td>9</td>\n",
              "    </tr>\n",
              "    <tr>\n",
              "      <th>3</th>\n",
              "      <td>14\\nDistribution: world\\nNNTP-Posting-Host: a...</td>\n",
              "      <td>7</td>\n",
              "    </tr>\n",
              "    <tr>\n",
              "      <th>4</th>\n",
              "      <td>23\\n\\nFrom article &lt;C5owCB.n3p@world.std.com&gt;...</td>\n",
              "      <td>10</td>\n",
              "    </tr>\n",
              "    <tr>\n",
              "      <th>5</th>\n",
              "      <td>58\\n\\nIn article &lt;1r1eu1$4t@transfer.stratus....</td>\n",
              "      <td>21</td>\n",
              "    </tr>\n",
              "    <tr>\n",
              "      <th>6</th>\n",
              "      <td>12\\n\\nThere were a few people who responded t...</td>\n",
              "      <td>8</td>\n",
              "    </tr>\n",
              "    <tr>\n",
              "      <th>7</th>\n",
              "      <td>44\\nDistribution: world\\nNNTP-Posting-Host: d...</td>\n",
              "      <td>15</td>\n",
              "    </tr>\n",
              "    <tr>\n",
              "      <th>8</th>\n",
              "      <td>10\\n\\nI have win 3.0 and downloaded several i...</td>\n",
              "      <td>3</td>\n",
              "    </tr>\n",
              "    <tr>\n",
              "      <th>9</th>\n",
              "      <td>29\\n\\njap10@po.CWRU.Edu (Joseph A. Pellettier...</td>\n",
              "      <td>12</td>\n",
              "    </tr>\n",
              "    <tr>\n",
              "      <th>10</th>\n",
              "      <td>13\\n\\nI have a line on a Ducati 900GTS 1978 m...</td>\n",
              "      <td>11</td>\n",
              "    </tr>\n",
              "  </tbody>\n",
              "</table>\n",
              "</div>"
            ],
            "text/plain": [
              "                                                 text  num_sent\n",
              "1    11\\nNNTP-Posting-Host: carson.u.washington.ed...         6\n",
              "2    36\\n\\nwell folks, my mac plus finally gave up...         9\n",
              "3    14\\nDistribution: world\\nNNTP-Posting-Host: a...         7\n",
              "4    23\\n\\nFrom article <C5owCB.n3p@world.std.com>...        10\n",
              "5    58\\n\\nIn article <1r1eu1$4t@transfer.stratus....        21\n",
              "6    12\\n\\nThere were a few people who responded t...         8\n",
              "7    44\\nDistribution: world\\nNNTP-Posting-Host: d...        15\n",
              "8    10\\n\\nI have win 3.0 and downloaded several i...         3\n",
              "9    29\\n\\njap10@po.CWRU.Edu (Joseph A. Pellettier...        12\n",
              "10   13\\n\\nI have a line on a Ducati 900GTS 1978 m...        11"
            ]
          },
          "metadata": {
            "tags": []
          },
          "execution_count": 13
        }
      ]
    },
    {
      "cell_type": "code",
      "metadata": {
        "id": "nPFTM2aMhoFG",
        "colab_type": "code",
        "colab": {}
      },
      "source": [
        ""
      ],
      "execution_count": 0,
      "outputs": []
    }
  ]
}