{
  "nbformat": 4,
  "nbformat_minor": 0,
  "metadata": {
    "kernelspec": {
      "display_name": "feml",
      "language": "python",
      "name": "feml"
    },
    "language_info": {
      "codemirror_mode": {
        "name": "ipython",
        "version": 3
      },
      "file_extension": ".py",
      "mimetype": "text/x-python",
      "name": "python",
      "nbconvert_exporter": "python",
      "pygments_lexer": "ipython3",
      "version": "3.7.3"
    },
    "toc": {
      "nav_menu": {},
      "number_sections": true,
      "sideBar": true,
      "skip_h1_title": false,
      "toc_cell": false,
      "toc_position": {
        "height": "583px",
        "left": "0px",
        "right": "1324px",
        "top": "107px",
        "width": "326px"
      },
      "toc_section_display": "block",
      "toc_window_display": true
    },
    "colab": {
      "name": "8.1 Classification-titanic.ipynb",
      "provenance": [],
      "include_colab_link": true
    }
  },
  "cells": [
    {
      "cell_type": "markdown",
      "metadata": {
        "id": "view-in-github",
        "colab_type": "text"
      },
      "source": [
        "<a href=\"https://colab.research.google.com/github/vinay10949/AnalyticsAndML/blob/master/FeatureEngineering/EngineeringPipeLine/8_1_Classification_titanic.ipynb\" target=\"_parent\"><img src=\"https://colab.research.google.com/assets/colab-badge.svg\" alt=\"Open In Colab\"/></a>"
      ]
    },
    {
      "cell_type": "markdown",
      "metadata": {
        "id": "xA3v2Dyrbi66",
        "colab_type": "text"
      },
      "source": [
        "## Classification\n",
        "\n",
        "In this lecture, I will bring together various techniques for feature engineering that we have covered in this course to tackle a classification problem. This would give you an idea of the end-to-end pipeline to build machine learning algorithms for classification. \n",
        "\n",
        "I will:\n",
        "- build a gradient boosted tree\n",
        "- use feature-engine for the feature engineering steps\n",
        "- set up an entire engineering and prediction pipeline using a Scikit-learn Pipeline\n",
        "\n",
        "============================================================================\n"
      ]
    },
    {
      "cell_type": "code",
      "metadata": {
        "id": "Zfij7gF4bi7C",
        "colab_type": "code",
        "colab": {
          "base_uri": "https://localhost:8080/",
          "height": 714
        },
        "outputId": "27cbebc8-a839-4fc1-80f4-2fcce33fa16a"
      },
      "source": [
        "!pip install feature_engine\n",
        "import pandas as pd\n",
        "import numpy as np\n",
        "import matplotlib.pyplot as plt\n",
        "\n",
        "# for the model\n",
        "from sklearn.model_selection import train_test_split\n",
        "from sklearn.ensemble import GradientBoostingClassifier\n",
        "from sklearn.metrics import roc_auc_score\n",
        "from sklearn.pipeline import Pipeline\n",
        "\n",
        "# for feature engineering\n",
        "from feature_engine import missing_data_imputers as mdi\n",
        "from feature_engine import discretisers as dsc\n",
        "from feature_engine import categorical_encoders as ce"
      ],
      "execution_count": 2,
      "outputs": [
        {
          "output_type": "stream",
          "text": [
            "Collecting feature_engine\n",
            "  Downloading https://files.pythonhosted.org/packages/b3/0f/7f7f60195879fc487aeaecba343f02c6f4426bc239b378b73655d40c1d06/feature_engine-0.3.1-py3-none-any.whl\n",
            "Requirement already satisfied: scikit-learn>=0.18.1 in /usr/local/lib/python3.6/dist-packages (from feature_engine) (0.22.1)\n",
            "Collecting numpydoc>=0.6.0\n",
            "  Downloading https://files.pythonhosted.org/packages/b0/70/4d8c3f9f6783a57ac9cc7a076e5610c0cc4a96af543cafc9247ac307fbfe/numpydoc-0.9.2.tar.gz\n",
            "Requirement already satisfied: statsmodels>=0.8.0 in /usr/local/lib/python3.6/dist-packages (from feature_engine) (0.10.2)\n",
            "Requirement already satisfied: pandas>=0.23.0 in /usr/local/lib/python3.6/dist-packages (from feature_engine) (0.25.3)\n",
            "Requirement already satisfied: numpy>=1.12.1 in /usr/local/lib/python3.6/dist-packages (from feature_engine) (1.17.5)\n",
            "Requirement already satisfied: scipy>=0.19.0 in /usr/local/lib/python3.6/dist-packages (from feature_engine) (1.4.1)\n",
            "Requirement already satisfied: joblib>=0.11 in /usr/local/lib/python3.6/dist-packages (from scikit-learn>=0.18.1->feature_engine) (0.14.1)\n",
            "Requirement already satisfied: sphinx>=1.6.5 in /usr/local/lib/python3.6/dist-packages (from numpydoc>=0.6.0->feature_engine) (1.8.5)\n",
            "Requirement already satisfied: Jinja2>=2.3 in /usr/local/lib/python3.6/dist-packages (from numpydoc>=0.6.0->feature_engine) (2.11.1)\n",
            "Requirement already satisfied: patsy>=0.4.0 in /usr/local/lib/python3.6/dist-packages (from statsmodels>=0.8.0->feature_engine) (0.5.1)\n",
            "Requirement already satisfied: python-dateutil>=2.6.1 in /usr/local/lib/python3.6/dist-packages (from pandas>=0.23.0->feature_engine) (2.6.1)\n",
            "Requirement already satisfied: pytz>=2017.2 in /usr/local/lib/python3.6/dist-packages (from pandas>=0.23.0->feature_engine) (2018.9)\n",
            "Requirement already satisfied: sphinxcontrib-websupport in /usr/local/lib/python3.6/dist-packages (from sphinx>=1.6.5->numpydoc>=0.6.0->feature_engine) (1.1.2)\n",
            "Requirement already satisfied: requests>=2.0.0 in /usr/local/lib/python3.6/dist-packages (from sphinx>=1.6.5->numpydoc>=0.6.0->feature_engine) (2.21.0)\n",
            "Requirement already satisfied: alabaster<0.8,>=0.7 in /usr/local/lib/python3.6/dist-packages (from sphinx>=1.6.5->numpydoc>=0.6.0->feature_engine) (0.7.12)\n",
            "Requirement already satisfied: Pygments>=2.0 in /usr/local/lib/python3.6/dist-packages (from sphinx>=1.6.5->numpydoc>=0.6.0->feature_engine) (2.1.3)\n",
            "Requirement already satisfied: packaging in /usr/local/lib/python3.6/dist-packages (from sphinx>=1.6.5->numpydoc>=0.6.0->feature_engine) (20.1)\n",
            "Requirement already satisfied: babel!=2.0,>=1.3 in /usr/local/lib/python3.6/dist-packages (from sphinx>=1.6.5->numpydoc>=0.6.0->feature_engine) (2.8.0)\n",
            "Requirement already satisfied: imagesize in /usr/local/lib/python3.6/dist-packages (from sphinx>=1.6.5->numpydoc>=0.6.0->feature_engine) (1.2.0)\n",
            "Requirement already satisfied: setuptools in /usr/local/lib/python3.6/dist-packages (from sphinx>=1.6.5->numpydoc>=0.6.0->feature_engine) (45.1.0)\n",
            "Requirement already satisfied: docutils>=0.11 in /usr/local/lib/python3.6/dist-packages (from sphinx>=1.6.5->numpydoc>=0.6.0->feature_engine) (0.15.2)\n",
            "Requirement already satisfied: snowballstemmer>=1.1 in /usr/local/lib/python3.6/dist-packages (from sphinx>=1.6.5->numpydoc>=0.6.0->feature_engine) (2.0.0)\n",
            "Requirement already satisfied: six>=1.5 in /usr/local/lib/python3.6/dist-packages (from sphinx>=1.6.5->numpydoc>=0.6.0->feature_engine) (1.12.0)\n",
            "Requirement already satisfied: MarkupSafe>=0.23 in /usr/local/lib/python3.6/dist-packages (from Jinja2>=2.3->numpydoc>=0.6.0->feature_engine) (1.1.1)\n",
            "Requirement already satisfied: idna<2.9,>=2.5 in /usr/local/lib/python3.6/dist-packages (from requests>=2.0.0->sphinx>=1.6.5->numpydoc>=0.6.0->feature_engine) (2.8)\n",
            "Requirement already satisfied: chardet<3.1.0,>=3.0.2 in /usr/local/lib/python3.6/dist-packages (from requests>=2.0.0->sphinx>=1.6.5->numpydoc>=0.6.0->feature_engine) (3.0.4)\n",
            "Requirement already satisfied: urllib3<1.25,>=1.21.1 in /usr/local/lib/python3.6/dist-packages (from requests>=2.0.0->sphinx>=1.6.5->numpydoc>=0.6.0->feature_engine) (1.24.3)\n",
            "Requirement already satisfied: certifi>=2017.4.17 in /usr/local/lib/python3.6/dist-packages (from requests>=2.0.0->sphinx>=1.6.5->numpydoc>=0.6.0->feature_engine) (2019.11.28)\n",
            "Requirement already satisfied: pyparsing>=2.0.2 in /usr/local/lib/python3.6/dist-packages (from packaging->sphinx>=1.6.5->numpydoc>=0.6.0->feature_engine) (2.4.6)\n",
            "Building wheels for collected packages: numpydoc\n",
            "  Building wheel for numpydoc (setup.py) ... \u001b[?25l\u001b[?25hdone\n",
            "  Created wheel for numpydoc: filename=numpydoc-0.9.2-cp36-none-any.whl size=31893 sha256=4892ff104181542cb8728748228d3eb8c06f3f4dc2937db7850171ede38cb6e7\n",
            "  Stored in directory: /root/.cache/pip/wheels/96/f3/52/25c8e1f40637661d27feebc61dae16b84c7cdd93b8bc3d7486\n",
            "Successfully built numpydoc\n",
            "Installing collected packages: numpydoc, feature-engine\n",
            "Successfully installed feature-engine-0.3.1 numpydoc-0.9.2\n"
          ],
          "name": "stdout"
        }
      ]
    },
    {
      "cell_type": "code",
      "metadata": {
        "id": "eGvf1y3Lbi7b",
        "colab_type": "code",
        "colab": {
          "base_uri": "https://localhost:8080/",
          "height": 206
        },
        "outputId": "9d80075f-d3fa-44c0-a3c9-5b4f3bd98f9b"
      },
      "source": [
        "# load dataset\n",
        "\n",
        "cols = [\n",
        "    'Pclass', 'Sex', 'Age', 'SibSp', 'Parch', 'Fare', 'Cabin',\n",
        "    'Embarked', 'Survived'\n",
        "]\n",
        "\n",
        "data = pd.read_csv('titanic_train.csv', usecols=cols)\n",
        "\n",
        "data.head()"
      ],
      "execution_count": 3,
      "outputs": [
        {
          "output_type": "execute_result",
          "data": {
            "text/html": [
              "<div>\n",
              "<style scoped>\n",
              "    .dataframe tbody tr th:only-of-type {\n",
              "        vertical-align: middle;\n",
              "    }\n",
              "\n",
              "    .dataframe tbody tr th {\n",
              "        vertical-align: top;\n",
              "    }\n",
              "\n",
              "    .dataframe thead th {\n",
              "        text-align: right;\n",
              "    }\n",
              "</style>\n",
              "<table border=\"1\" class=\"dataframe\">\n",
              "  <thead>\n",
              "    <tr style=\"text-align: right;\">\n",
              "      <th></th>\n",
              "      <th>Survived</th>\n",
              "      <th>Pclass</th>\n",
              "      <th>Sex</th>\n",
              "      <th>Age</th>\n",
              "      <th>SibSp</th>\n",
              "      <th>Parch</th>\n",
              "      <th>Fare</th>\n",
              "      <th>Cabin</th>\n",
              "      <th>Embarked</th>\n",
              "    </tr>\n",
              "  </thead>\n",
              "  <tbody>\n",
              "    <tr>\n",
              "      <th>0</th>\n",
              "      <td>0</td>\n",
              "      <td>3</td>\n",
              "      <td>male</td>\n",
              "      <td>22.0</td>\n",
              "      <td>1</td>\n",
              "      <td>0</td>\n",
              "      <td>7.2500</td>\n",
              "      <td>NaN</td>\n",
              "      <td>S</td>\n",
              "    </tr>\n",
              "    <tr>\n",
              "      <th>1</th>\n",
              "      <td>1</td>\n",
              "      <td>1</td>\n",
              "      <td>female</td>\n",
              "      <td>38.0</td>\n",
              "      <td>1</td>\n",
              "      <td>0</td>\n",
              "      <td>71.2833</td>\n",
              "      <td>C85</td>\n",
              "      <td>C</td>\n",
              "    </tr>\n",
              "    <tr>\n",
              "      <th>2</th>\n",
              "      <td>1</td>\n",
              "      <td>3</td>\n",
              "      <td>female</td>\n",
              "      <td>26.0</td>\n",
              "      <td>0</td>\n",
              "      <td>0</td>\n",
              "      <td>7.9250</td>\n",
              "      <td>NaN</td>\n",
              "      <td>S</td>\n",
              "    </tr>\n",
              "    <tr>\n",
              "      <th>3</th>\n",
              "      <td>1</td>\n",
              "      <td>1</td>\n",
              "      <td>female</td>\n",
              "      <td>35.0</td>\n",
              "      <td>1</td>\n",
              "      <td>0</td>\n",
              "      <td>53.1000</td>\n",
              "      <td>C123</td>\n",
              "      <td>S</td>\n",
              "    </tr>\n",
              "    <tr>\n",
              "      <th>4</th>\n",
              "      <td>0</td>\n",
              "      <td>3</td>\n",
              "      <td>male</td>\n",
              "      <td>35.0</td>\n",
              "      <td>0</td>\n",
              "      <td>0</td>\n",
              "      <td>8.0500</td>\n",
              "      <td>NaN</td>\n",
              "      <td>S</td>\n",
              "    </tr>\n",
              "  </tbody>\n",
              "</table>\n",
              "</div>"
            ],
            "text/plain": [
              "   Survived  Pclass     Sex   Age  SibSp  Parch     Fare Cabin Embarked\n",
              "0         0       3    male  22.0      1      0   7.2500   NaN        S\n",
              "1         1       1  female  38.0      1      0  71.2833   C85        C\n",
              "2         1       3  female  26.0      0      0   7.9250   NaN        S\n",
              "3         1       1  female  35.0      1      0  53.1000  C123        S\n",
              "4         0       3    male  35.0      0      0   8.0500   NaN        S"
            ]
          },
          "metadata": {
            "tags": []
          },
          "execution_count": 3
        }
      ]
    },
    {
      "cell_type": "markdown",
      "metadata": {
        "id": "j50j2lmhbi7v",
        "colab_type": "text"
      },
      "source": [
        "### Types of variables (section 2)\n",
        "\n",
        "Let's find out what types of variables there are in this dataset"
      ]
    },
    {
      "cell_type": "code",
      "metadata": {
        "id": "U_KzeNKabi70",
        "colab_type": "code",
        "colab": {
          "base_uri": "https://localhost:8080/",
          "height": 191
        },
        "outputId": "06a45efb-678a-4791-b25c-e08bac60b859"
      },
      "source": [
        "# let's inspect the type of variables in pandas\n",
        "\n",
        "data.dtypes"
      ],
      "execution_count": 4,
      "outputs": [
        {
          "output_type": "execute_result",
          "data": {
            "text/plain": [
              "Survived      int64\n",
              "Pclass        int64\n",
              "Sex          object\n",
              "Age         float64\n",
              "SibSp         int64\n",
              "Parch         int64\n",
              "Fare        float64\n",
              "Cabin        object\n",
              "Embarked     object\n",
              "dtype: object"
            ]
          },
          "metadata": {
            "tags": []
          },
          "execution_count": 4
        }
      ]
    },
    {
      "cell_type": "markdown",
      "metadata": {
        "id": "kEsmF3P3bi8C",
        "colab_type": "text"
      },
      "source": [
        "There are categorical and numerical variables."
      ]
    },
    {
      "cell_type": "code",
      "metadata": {
        "scrolled": true,
        "id": "CjquHA_Ebi8K",
        "colab_type": "code",
        "colab": {
          "base_uri": "https://localhost:8080/",
          "height": 399
        },
        "outputId": "d23d84ba-a931-4af8-d5f3-3413eedde9e7"
      },
      "source": [
        "# let's inspect the variable values\n",
        "\n",
        "for var in data.columns:\n",
        "    print(var, data[var].unique()[0:20], '\\n')"
      ],
      "execution_count": 5,
      "outputs": [
        {
          "output_type": "stream",
          "text": [
            "Survived [0 1] \n",
            "\n",
            "Pclass [3 1 2] \n",
            "\n",
            "Sex ['male' 'female'] \n",
            "\n",
            "Age [22. 38. 26. 35. nan 54.  2. 27. 14.  4. 58. 20. 39. 55. 31. 34. 15. 28.\n",
            "  8. 19.] \n",
            "\n",
            "SibSp [1 0 3 4 2 5 8] \n",
            "\n",
            "Parch [0 1 2 5 3 4 6] \n",
            "\n",
            "Fare [ 7.25   71.2833  7.925  53.1     8.05    8.4583 51.8625 21.075  11.1333\n",
            " 30.0708 16.7    26.55   31.275   7.8542 16.     29.125  13.     18.\n",
            "  7.225  26.    ] \n",
            "\n",
            "Cabin [nan 'C85' 'C123' 'E46' 'G6' 'C103' 'D56' 'A6' 'C23 C25 C27' 'B78' 'D33'\n",
            " 'B30' 'C52' 'B28' 'C83' 'F33' 'F G73' 'E31' 'A5' 'D10 D12'] \n",
            "\n",
            "Embarked ['S' 'C' 'Q' nan] \n",
            "\n"
          ],
          "name": "stdout"
        }
      ]
    },
    {
      "cell_type": "markdown",
      "metadata": {
        "id": "FsmZISlVbi8W",
        "colab_type": "text"
      },
      "source": [
        "There continuous and discrete variables and also mixed variables."
      ]
    },
    {
      "cell_type": "code",
      "metadata": {
        "id": "hxzhYO5_bi8b",
        "colab_type": "code",
        "colab": {
          "base_uri": "https://localhost:8080/",
          "height": 86
        },
        "outputId": "8af24e5e-249e-44d8-9d8d-a5e9293694ed"
      },
      "source": [
        "# make list of variables  types\n",
        "\n",
        "# numerical: discrete vs continuous\n",
        "discrete = [var for var in data.columns if data[var].dtype!='O' and var!='Survived' and data[var].nunique()<10]\n",
        "continuous = [var for var in data.columns if data[var].dtype!='O' and var!='Survived' and var not in discrete]\n",
        "\n",
        "# mixed\n",
        "mixed = ['Cabin']\n",
        "\n",
        "# categorical\n",
        "categorical = [var for var in data.columns if data[var].dtype=='O' and var not in mixed]\n",
        "\n",
        "print('There are {} discrete variables'.format(len(discrete)))\n",
        "print('There are {} continuous variables'.format(len(continuous)))\n",
        "print('There are {} categorical variables'.format(len(categorical)))\n",
        "print('There are {} mixed variables'.format(len(mixed)))"
      ],
      "execution_count": 7,
      "outputs": [
        {
          "output_type": "stream",
          "text": [
            "There are 3 discrete variables\n",
            "There are 2 continuous variables\n",
            "There are 2 categorical variables\n",
            "There are 1 mixed variables\n"
          ],
          "name": "stdout"
        }
      ]
    },
    {
      "cell_type": "code",
      "metadata": {
        "id": "KYTiT2Ojbi8o",
        "colab_type": "code",
        "colab": {
          "base_uri": "https://localhost:8080/",
          "height": 34
        },
        "outputId": "7d4bad07-a577-4bc2-fd23-4f6201829997"
      },
      "source": [
        "discrete"
      ],
      "execution_count": 8,
      "outputs": [
        {
          "output_type": "execute_result",
          "data": {
            "text/plain": [
              "['Pclass', 'SibSp', 'Parch']"
            ]
          },
          "metadata": {
            "tags": []
          },
          "execution_count": 8
        }
      ]
    },
    {
      "cell_type": "code",
      "metadata": {
        "id": "6RAh4MJmbi81",
        "colab_type": "code",
        "colab": {}
      },
      "source": [
        "continuous"
      ],
      "execution_count": 0,
      "outputs": []
    },
    {
      "cell_type": "code",
      "metadata": {
        "id": "qdrIV3hJbi9B",
        "colab_type": "code",
        "colab": {
          "base_uri": "https://localhost:8080/",
          "height": 34
        },
        "outputId": "e712fb9b-3176-4521-ac47-c074da4bc49e"
      },
      "source": [
        "categorical"
      ],
      "execution_count": 9,
      "outputs": [
        {
          "output_type": "execute_result",
          "data": {
            "text/plain": [
              "['Sex', 'Embarked']"
            ]
          },
          "metadata": {
            "tags": []
          },
          "execution_count": 9
        }
      ]
    },
    {
      "cell_type": "code",
      "metadata": {
        "id": "9lY-d9Lfbi9P",
        "colab_type": "code",
        "colab": {
          "base_uri": "https://localhost:8080/",
          "height": 34
        },
        "outputId": "24933875-5e52-4d86-a584-d35e4765c8c1"
      },
      "source": [
        "mixed"
      ],
      "execution_count": 10,
      "outputs": [
        {
          "output_type": "execute_result",
          "data": {
            "text/plain": [
              "['Cabin']"
            ]
          },
          "metadata": {
            "tags": []
          },
          "execution_count": 10
        }
      ]
    },
    {
      "cell_type": "markdown",
      "metadata": {
        "id": "USzBE5sKbi9a",
        "colab_type": "text"
      },
      "source": [
        "### Variable characteristics (section 3)"
      ]
    },
    {
      "cell_type": "code",
      "metadata": {
        "id": "ie_zIUyfbi9f",
        "colab_type": "code",
        "colab": {
          "base_uri": "https://localhost:8080/",
          "height": 191
        },
        "outputId": "e3612b28-5578-43a9-8fbb-0256f76b86be"
      },
      "source": [
        "# missing data\n",
        "\n",
        "data.isnull().mean()"
      ],
      "execution_count": 11,
      "outputs": [
        {
          "output_type": "execute_result",
          "data": {
            "text/plain": [
              "Survived    0.000000\n",
              "Pclass      0.000000\n",
              "Sex         0.000000\n",
              "Age         0.198653\n",
              "SibSp       0.000000\n",
              "Parch       0.000000\n",
              "Fare        0.000000\n",
              "Cabin       0.771044\n",
              "Embarked    0.002245\n",
              "dtype: float64"
            ]
          },
          "metadata": {
            "tags": []
          },
          "execution_count": 11
        }
      ]
    },
    {
      "cell_type": "markdown",
      "metadata": {
        "id": "doC6SQQdbi9r",
        "colab_type": "text"
      },
      "source": [
        "There is missing data in our variables."
      ]
    },
    {
      "cell_type": "code",
      "metadata": {
        "id": "qpiZiblgbi9x",
        "colab_type": "code",
        "colab": {},
        "outputId": "f0dc932b-c017-40f5-9a23-1bc40d326873"
      },
      "source": [
        "# cardinality (number of different categories)\n",
        "\n",
        "data[categorical+mixed].nunique()"
      ],
      "execution_count": 0,
      "outputs": [
        {
          "output_type": "execute_result",
          "data": {
            "text/plain": [
              "sex           2\n",
              "embarked      3\n",
              "cabin       181\n",
              "dtype: int64"
            ]
          },
          "metadata": {
            "tags": []
          },
          "execution_count": 11
        }
      ]
    },
    {
      "cell_type": "markdown",
      "metadata": {
        "id": "QvOQQEULbi97",
        "colab_type": "text"
      },
      "source": [
        "Some variables are highly cardinal."
      ]
    },
    {
      "cell_type": "code",
      "metadata": {
        "id": "BxfWoYBKbi9-",
        "colab_type": "code",
        "colab": {
          "base_uri": "https://localhost:8080/",
          "height": 282
        },
        "outputId": "9730eca2-604f-4c80-9e33-0c2f1b92efd9"
      },
      "source": [
        "# outliers\n",
        "\n",
        "data[continuous].boxplot(figsize=(10,4))"
      ],
      "execution_count": 12,
      "outputs": [
        {
          "output_type": "execute_result",
          "data": {
            "text/plain": [
              "<matplotlib.axes._subplots.AxesSubplot at 0x7f76f19132e8>"
            ]
          },
          "metadata": {
            "tags": []
          },
          "execution_count": 12
        },
        {
          "output_type": "display_data",
          "data": {
            "image/png": "[encoded data removed]",
            "text/plain": [
              "<Figure size 720x288 with 1 Axes>"
            ]
          },
          "metadata": {
            "tags": []
          }
        }
      ]
    },
    {
      "cell_type": "code",
      "metadata": {
        "id": "qDNedkt0bi-K",
        "colab_type": "code",
        "colab": {
          "base_uri": "https://localhost:8080/",
          "height": 282
        },
        "outputId": "d4297d5d-42df-4921-8b5b-2030e2063db8"
      },
      "source": [
        "# outliers in discrete\n",
        "data[discrete].boxplot(figsize=(10,4))"
      ],
      "execution_count": 14,
      "outputs": [
        {
          "output_type": "execute_result",
          "data": {
            "text/plain": [
              "<matplotlib.axes._subplots.AxesSubplot at 0x7f76f134b4e0>"
            ]
          },
          "metadata": {
            "tags": []
          },
          "execution_count": 14
        },
        {
          "output_type": "display_data",
          "data": {
            "image/png": "[encoded data removed]",
            "text/plain": [
              "<Figure size 720x288 with 1 Axes>"
            ]
          },
          "metadata": {
            "tags": []
          }
        }
      ]
    },
    {
      "cell_type": "markdown",
      "metadata": {
        "id": "h83vIs9Qbi-V",
        "colab_type": "text"
      },
      "source": [
        "Some variables show outliers or unusual values."
      ]
    },
    {
      "cell_type": "code",
      "metadata": {
        "id": "V7P0ILbIbi-Y",
        "colab_type": "code",
        "colab": {
          "base_uri": "https://localhost:8080/",
          "height": 156
        },
        "outputId": "643eff59-3c59-405d-b732-94d49bf7ea43"
      },
      "source": [
        "# values biger than 3 are rare for parch\n",
        "\n",
        "data['Parch'].value_counts()"
      ],
      "execution_count": 13,
      "outputs": [
        {
          "output_type": "execute_result",
          "data": {
            "text/plain": [
              "0    678\n",
              "1    118\n",
              "2     80\n",
              "5      5\n",
              "3      5\n",
              "4      4\n",
              "6      1\n",
              "Name: Parch, dtype: int64"
            ]
          },
          "metadata": {
            "tags": []
          },
          "execution_count": 13
        }
      ]
    },
    {
      "cell_type": "code",
      "metadata": {
        "id": "zU9gJrVjbi-g",
        "colab_type": "code",
        "colab": {
          "base_uri": "https://localhost:8080/",
          "height": 300
        },
        "outputId": "3b436c87-984e-4c9f-b6ed-f5c92198fd8b"
      },
      "source": [
        "# feature magnitude\n",
        "\n",
        "data.describe()"
      ],
      "execution_count": 15,
      "outputs": [
        {
          "output_type": "execute_result",
          "data": {
            "text/html": [
              "<div>\n",
              "<style scoped>\n",
              "    .dataframe tbody tr th:only-of-type {\n",
              "        vertical-align: middle;\n",
              "    }\n",
              "\n",
              "    .dataframe tbody tr th {\n",
              "        vertical-align: top;\n",
              "    }\n",
              "\n",
              "    .dataframe thead th {\n",
              "        text-align: right;\n",
              "    }\n",
              "</style>\n",
              "<table border=\"1\" class=\"dataframe\">\n",
              "  <thead>\n",
              "    <tr style=\"text-align: right;\">\n",
              "      <th></th>\n",
              "      <th>Survived</th>\n",
              "      <th>Pclass</th>\n",
              "      <th>Age</th>\n",
              "      <th>SibSp</th>\n",
              "      <th>Parch</th>\n",
              "      <th>Fare</th>\n",
              "    </tr>\n",
              "  </thead>\n",
              "  <tbody>\n",
              "    <tr>\n",
              "      <th>count</th>\n",
              "      <td>891.000000</td>\n",
              "      <td>891.000000</td>\n",
              "      <td>714.000000</td>\n",
              "      <td>891.000000</td>\n",
              "      <td>891.000000</td>\n",
              "      <td>891.000000</td>\n",
              "    </tr>\n",
              "    <tr>\n",
              "      <th>mean</th>\n",
              "      <td>0.383838</td>\n",
              "      <td>2.308642</td>\n",
              "      <td>29.699118</td>\n",
              "      <td>0.523008</td>\n",
              "      <td>0.381594</td>\n",
              "      <td>32.204208</td>\n",
              "    </tr>\n",
              "    <tr>\n",
              "      <th>std</th>\n",
              "      <td>0.486592</td>\n",
              "      <td>0.836071</td>\n",
              "      <td>14.526497</td>\n",
              "      <td>1.102743</td>\n",
              "      <td>0.806057</td>\n",
              "      <td>49.693429</td>\n",
              "    </tr>\n",
              "    <tr>\n",
              "      <th>min</th>\n",
              "      <td>0.000000</td>\n",
              "      <td>1.000000</td>\n",
              "      <td>0.420000</td>\n",
              "      <td>0.000000</td>\n",
              "      <td>0.000000</td>\n",
              "      <td>0.000000</td>\n",
              "    </tr>\n",
              "    <tr>\n",
              "      <th>25%</th>\n",
              "      <td>0.000000</td>\n",
              "      <td>2.000000</td>\n",
              "      <td>20.125000</td>\n",
              "      <td>0.000000</td>\n",
              "      <td>0.000000</td>\n",
              "      <td>7.910400</td>\n",
              "    </tr>\n",
              "    <tr>\n",
              "      <th>50%</th>\n",
              "      <td>0.000000</td>\n",
              "      <td>3.000000</td>\n",
              "      <td>28.000000</td>\n",
              "      <td>0.000000</td>\n",
              "      <td>0.000000</td>\n",
              "      <td>14.454200</td>\n",
              "    </tr>\n",
              "    <tr>\n",
              "      <th>75%</th>\n",
              "      <td>1.000000</td>\n",
              "      <td>3.000000</td>\n",
              "      <td>38.000000</td>\n",
              "      <td>1.000000</td>\n",
              "      <td>0.000000</td>\n",
              "      <td>31.000000</td>\n",
              "    </tr>\n",
              "    <tr>\n",
              "      <th>max</th>\n",
              "      <td>1.000000</td>\n",
              "      <td>3.000000</td>\n",
              "      <td>80.000000</td>\n",
              "      <td>8.000000</td>\n",
              "      <td>6.000000</td>\n",
              "      <td>512.329200</td>\n",
              "    </tr>\n",
              "  </tbody>\n",
              "</table>\n",
              "</div>"
            ],
            "text/plain": [
              "         Survived      Pclass         Age       SibSp       Parch        Fare\n",
              "count  891.000000  891.000000  714.000000  891.000000  891.000000  891.000000\n",
              "mean     0.383838    2.308642   29.699118    0.523008    0.381594   32.204208\n",
              "std      0.486592    0.836071   14.526497    1.102743    0.806057   49.693429\n",
              "min      0.000000    1.000000    0.420000    0.000000    0.000000    0.000000\n",
              "25%      0.000000    2.000000   20.125000    0.000000    0.000000    7.910400\n",
              "50%      0.000000    3.000000   28.000000    0.000000    0.000000   14.454200\n",
              "75%      1.000000    3.000000   38.000000    1.000000    0.000000   31.000000\n",
              "max      1.000000    3.000000   80.000000    8.000000    6.000000  512.329200"
            ]
          },
          "metadata": {
            "tags": []
          },
          "execution_count": 15
        }
      ]
    },
    {
      "cell_type": "markdown",
      "metadata": {
        "id": "HMt76ZNmbi-p",
        "colab_type": "text"
      },
      "source": [
        "Features are in different ranges or scales. But this is not relevant for gradient boosted trees. "
      ]
    },
    {
      "cell_type": "markdown",
      "metadata": {
        "id": "lR9aWmUfbi-t",
        "colab_type": "text"
      },
      "source": [
        "### Engineering mixed type of variables (section 11)\n",
        "\n",
        "Extract numerical and categorical parts of variables."
      ]
    },
    {
      "cell_type": "code",
      "metadata": {
        "id": "MlV_ezdobi-x",
        "colab_type": "code",
        "colab": {
          "base_uri": "https://localhost:8080/",
          "height": 206
        },
        "outputId": "eaaf017e-19ac-4d4d-d72a-d222e052003c"
      },
      "source": [
        "# Cabin\n",
        "data['cabin_num'] = data['Cabin'].str.extract('(\\d+)') # captures numerical part\n",
        "data['cabin_num'] = data['cabin_num'].astype('float')\n",
        "data['cabin_cat'] = data['Cabin'].str[0] # captures the first letter\n",
        "\n",
        "# show dataframe\n",
        "data.head()"
      ],
      "execution_count": 16,
      "outputs": [
        {
          "output_type": "execute_result",
          "data": {
            "text/html": [
              "<div>\n",
              "<style scoped>\n",
              "    .dataframe tbody tr th:only-of-type {\n",
              "        vertical-align: middle;\n",
              "    }\n",
              "\n",
              "    .dataframe tbody tr th {\n",
              "        vertical-align: top;\n",
              "    }\n",
              "\n",
              "    .dataframe thead th {\n",
              "        text-align: right;\n",
              "    }\n",
              "</style>\n",
              "<table border=\"1\" class=\"dataframe\">\n",
              "  <thead>\n",
              "    <tr style=\"text-align: right;\">\n",
              "      <th></th>\n",
              "      <th>Survived</th>\n",
              "      <th>Pclass</th>\n",
              "      <th>Sex</th>\n",
              "      <th>Age</th>\n",
              "      <th>SibSp</th>\n",
              "      <th>Parch</th>\n",
              "      <th>Fare</th>\n",
              "      <th>Cabin</th>\n",
              "      <th>Embarked</th>\n",
              "      <th>cabin_num</th>\n",
              "      <th>cabin_cat</th>\n",
              "    </tr>\n",
              "  </thead>\n",
              "  <tbody>\n",
              "    <tr>\n",
              "      <th>0</th>\n",
              "      <td>0</td>\n",
              "      <td>3</td>\n",
              "      <td>male</td>\n",
              "      <td>22.0</td>\n",
              "      <td>1</td>\n",
              "      <td>0</td>\n",
              "      <td>7.2500</td>\n",
              "      <td>NaN</td>\n",
              "      <td>S</td>\n",
              "      <td>NaN</td>\n",
              "      <td>NaN</td>\n",
              "    </tr>\n",
              "    <tr>\n",
              "      <th>1</th>\n",
              "      <td>1</td>\n",
              "      <td>1</td>\n",
              "      <td>female</td>\n",
              "      <td>38.0</td>\n",
              "      <td>1</td>\n",
              "      <td>0</td>\n",
              "      <td>71.2833</td>\n",
              "      <td>C85</td>\n",
              "      <td>C</td>\n",
              "      <td>85.0</td>\n",
              "      <td>C</td>\n",
              "    </tr>\n",
              "    <tr>\n",
              "      <th>2</th>\n",
              "      <td>1</td>\n",
              "      <td>3</td>\n",
              "      <td>female</td>\n",
              "      <td>26.0</td>\n",
              "      <td>0</td>\n",
              "      <td>0</td>\n",
              "      <td>7.9250</td>\n",
              "      <td>NaN</td>\n",
              "      <td>S</td>\n",
              "      <td>NaN</td>\n",
              "      <td>NaN</td>\n",
              "    </tr>\n",
              "    <tr>\n",
              "      <th>3</th>\n",
              "      <td>1</td>\n",
              "      <td>1</td>\n",
              "      <td>female</td>\n",
              "      <td>35.0</td>\n",
              "      <td>1</td>\n",
              "      <td>0</td>\n",
              "      <td>53.1000</td>\n",
              "      <td>C123</td>\n",
              "      <td>S</td>\n",
              "      <td>123.0</td>\n",
              "      <td>C</td>\n",
              "    </tr>\n",
              "    <tr>\n",
              "      <th>4</th>\n",
              "      <td>0</td>\n",
              "      <td>3</td>\n",
              "      <td>male</td>\n",
              "      <td>35.0</td>\n",
              "      <td>0</td>\n",
              "      <td>0</td>\n",
              "      <td>8.0500</td>\n",
              "      <td>NaN</td>\n",
              "      <td>S</td>\n",
              "      <td>NaN</td>\n",
              "      <td>NaN</td>\n",
              "    </tr>\n",
              "  </tbody>\n",
              "</table>\n",
              "</div>"
            ],
            "text/plain": [
              "   Survived  Pclass     Sex   Age  ...  Cabin  Embarked  cabin_num cabin_cat\n",
              "0         0       3    male  22.0  ...    NaN         S        NaN       NaN\n",
              "1         1       1  female  38.0  ...    C85         C       85.0         C\n",
              "2         1       3  female  26.0  ...    NaN         S        NaN       NaN\n",
              "3         1       1  female  35.0  ...   C123         S      123.0         C\n",
              "4         0       3    male  35.0  ...    NaN         S        NaN       NaN\n",
              "\n",
              "[5 rows x 11 columns]"
            ]
          },
          "metadata": {
            "tags": []
          },
          "execution_count": 16
        }
      ]
    },
    {
      "cell_type": "markdown",
      "metadata": {
        "id": "7vp1ekeWbi-4",
        "colab_type": "text"
      },
      "source": [
        "Now that we extracted the numerical and categorical part, we can discard the mixed variable Cabin."
      ]
    },
    {
      "cell_type": "code",
      "metadata": {
        "id": "5NNxfIjEbi-8",
        "colab_type": "code",
        "colab": {}
      },
      "source": [
        "# drop original mixed\n",
        "\n",
        "data.drop(['Cabin'], axis=1, inplace=True)"
      ],
      "execution_count": 0,
      "outputs": []
    },
    {
      "cell_type": "code",
      "metadata": {
        "id": "FGCLetiSbi_B",
        "colab_type": "code",
        "colab": {
          "base_uri": "https://localhost:8080/",
          "height": 34
        },
        "outputId": "4b9ac300-0bda-458c-cc30-2f9d8e30beca"
      },
      "source": [
        "# separate into training and testing set\n",
        "\n",
        "X_train, X_test, y_train, y_test = train_test_split(\n",
        "    data.drop('Survived', axis=1),  # predictors\n",
        "    data['Survived'],  # target\n",
        "    test_size=0.1,  # percentage of obs in test set\n",
        "    random_state=0)  # seed to ensure reproducibility\n",
        "\n",
        "X_train.shape, X_test.shape"
      ],
      "execution_count": 18,
      "outputs": [
        {
          "output_type": "execute_result",
          "data": {
            "text/plain": [
              "((801, 9), (90, 9))"
            ]
          },
          "metadata": {
            "tags": []
          },
          "execution_count": 18
        }
      ]
    },
    {
      "cell_type": "markdown",
      "metadata": {
        "id": "99oDLv0nbi_O",
        "colab_type": "text"
      },
      "source": [
        "### Missing data imputation (Section 4)"
      ]
    },
    {
      "cell_type": "code",
      "metadata": {
        "id": "SMNdQ6dtbi_R",
        "colab_type": "code",
        "colab": {
          "base_uri": "https://localhost:8080/",
          "height": 139
        },
        "outputId": "185d8247-3183-40b6-9b69-ed4ed9db0d46"
      },
      "source": [
        "# numerical\n",
        "\n",
        "X_train.select_dtypes(exclude='O').isnull().mean()"
      ],
      "execution_count": 19,
      "outputs": [
        {
          "output_type": "execute_result",
          "data": {
            "text/plain": [
              "Pclass       0.000000\n",
              "Age          0.197253\n",
              "SibSp        0.000000\n",
              "Parch        0.000000\n",
              "Fare         0.000000\n",
              "cabin_num    0.781523\n",
              "dtype: float64"
            ]
          },
          "metadata": {
            "tags": []
          },
          "execution_count": 19
        }
      ]
    },
    {
      "cell_type": "code",
      "metadata": {
        "id": "XCBh07zebi_X",
        "colab_type": "code",
        "colab": {
          "base_uri": "https://localhost:8080/",
          "height": 86
        },
        "outputId": "1b01afc6-b48a-49d5-94f6-66d4d79d28c0"
      },
      "source": [
        "# categorical\n",
        "\n",
        "X_train.select_dtypes(include='O').isnull().mean()"
      ],
      "execution_count": 20,
      "outputs": [
        {
          "output_type": "execute_result",
          "data": {
            "text/plain": [
              "Sex          0.000000\n",
              "Embarked     0.002497\n",
              "cabin_cat    0.776529\n",
              "dtype: float64"
            ]
          },
          "metadata": {
            "tags": []
          },
          "execution_count": 20
        }
      ]
    },
    {
      "cell_type": "markdown",
      "metadata": {
        "id": "uEjnH4KLbi_f",
        "colab_type": "text"
      },
      "source": [
        "Imputation methods I will perform:\n",
        "\n",
        "- Numerical: arbitrary value imputation\n",
        "- Categorical: add missing label imputation\n",
        "\n",
        "Because I will build a Gradient Boosted tree, I am not particularly worried about disturbing linearity or distributions of variables.\n",
        "\n",
        "### Categorical encoding and rare labels (Section 6)"
      ]
    },
    {
      "cell_type": "code",
      "metadata": {
        "id": "EPkgsWkibi_g",
        "colab_type": "code",
        "colab": {
          "base_uri": "https://localhost:8080/",
          "height": 86
        },
        "outputId": "f756451b-dc2a-4936-9676-1b5e35b88516"
      },
      "source": [
        "# check cardinality again\n",
        "\n",
        "X_train[['cabin_cat', 'Sex', 'Embarked']].nunique()"
      ],
      "execution_count": 21,
      "outputs": [
        {
          "output_type": "execute_result",
          "data": {
            "text/plain": [
              "cabin_cat    8\n",
              "Sex          2\n",
              "Embarked     3\n",
              "dtype: int64"
            ]
          },
          "metadata": {
            "tags": []
          },
          "execution_count": 21
        }
      ]
    },
    {
      "cell_type": "markdown",
      "metadata": {
        "id": "m5wzSvkbbi_o",
        "colab_type": "text"
      },
      "source": [
        "Now that I extracted the numerical and categorical part from cabin, its cardinality is not so high."
      ]
    },
    {
      "cell_type": "code",
      "metadata": {
        "scrolled": true,
        "id": "eEBRmZvfbi_p",
        "colab_type": "code",
        "colab": {
          "base_uri": "https://localhost:8080/",
          "height": 173
        },
        "outputId": "1e843e49-db39-4097-a241-5247794d8eb1"
      },
      "source": [
        "# check variable frequency\n",
        "\n",
        "var = 'cabin_cat'\n",
        "(X_train[var].value_counts() / len(X_train)).sort_values()"
      ],
      "execution_count": 22,
      "outputs": [
        {
          "output_type": "execute_result",
          "data": {
            "text/plain": [
              "T    0.001248\n",
              "G    0.004994\n",
              "F    0.014981\n",
              "A    0.018727\n",
              "D    0.034956\n",
              "E    0.037453\n",
              "B    0.051186\n",
              "C    0.059925\n",
              "Name: cabin_cat, dtype: float64"
            ]
          },
          "metadata": {
            "tags": []
          },
          "execution_count": 22
        }
      ]
    },
    {
      "cell_type": "markdown",
      "metadata": {
        "id": "8TWHYIW8bi_z",
        "colab_type": "text"
      },
      "source": [
        "Categories T and G appear only in few observations, so I will replace them into rare."
      ]
    },
    {
      "cell_type": "markdown",
      "metadata": {
        "id": "nJ2stH9Jbi_1",
        "colab_type": "text"
      },
      "source": [
        "### Discretisation or Variable transformation (Sections 7 and 8)\n",
        "\n",
        "Let's inspect the variable distributions."
      ]
    },
    {
      "cell_type": "code",
      "metadata": {
        "id": "kDeu5N_7bi_3",
        "colab_type": "code",
        "colab": {
          "base_uri": "https://localhost:8080/",
          "height": 499
        },
        "outputId": "c2497d38-3288-42ec-cb37-d20fc1b020ca"
      },
      "source": [
        "# numerical\n",
        "\n",
        "X_train.select_dtypes(exclude='O').hist(bins=30, figsize=(8,8))\n",
        "plt.show()"
      ],
      "execution_count": 23,
      "outputs": [
        {
          "output_type": "display_data",
          "data": {
            "image/png": "[encoded data removed]",
            "text/plain": [
              "<Figure size 576x576 with 6 Axes>"
            ]
          },
          "metadata": {
            "tags": []
          }
        }
      ]
    },
    {
      "cell_type": "markdown",
      "metadata": {
        "id": "t1iRStp_bjAB",
        "colab_type": "text"
      },
      "source": [
        "For decision trees, the variable distribution is not so important, so in principle, we don't need to change it. Also decision trees are robust to outliers."
      ]
    },
    {
      "cell_type": "markdown",
      "metadata": {
        "id": "LOeAxP_kbjAC",
        "colab_type": "text"
      },
      "source": [
        "### Putting it all together"
      ]
    },
    {
      "cell_type": "code",
      "metadata": {
        "id": "mnjfDcnVbjAE",
        "colab_type": "code",
        "colab": {}
      },
      "source": [
        "titanic_pipe = Pipeline([\n",
        "\n",
        "    # missing data imputation - section 4\n",
        "    ('imputer_num',\n",
        "     mdi.ArbitraryNumberImputer(arbitrary_number=-1,\n",
        "                                variables=['Age', 'Fare', 'cabin_num'])),\n",
        "    ('imputer_cat',\n",
        "     mdi.CategoricalVariableImputer(variables=['Embarked', 'cabin_cat'])),\n",
        "\n",
        "    # categorical encoding - section 6\n",
        "    ('encoder_rare_label',\n",
        "     ce.RareLabelCategoricalEncoder(tol=0.01,\n",
        "                                    n_categories=6,\n",
        "                                    variables=['cabin_cat'])),\n",
        "    ('categorical_encoder',\n",
        "     ce.OrdinalCategoricalEncoder(encoding_method='ordered',\n",
        "                                  variables=['cabin_cat', 'Sex', 'Embarked'])),\n",
        "\n",
        "    # Gradient Boosted machine\n",
        "    ('gbm', GradientBoostingClassifier(random_state=0))\n",
        "])"
      ],
      "execution_count": 0,
      "outputs": []
    },
    {
      "cell_type": "code",
      "metadata": {
        "id": "5I-BawV9bjAL",
        "colab_type": "code",
        "colab": {}
      },
      "source": [
        "# let's fit the pipeline and make predictions\n",
        "titanic_pipe.fit(X_train, y_train)\n",
        "\n",
        "X_train_preds = titanic_pipe.predict_proba(X_train)[:,1]\n",
        "X_test_preds = titanic_pipe.predict_proba(X_test)[:,1]"
      ],
      "execution_count": 0,
      "outputs": []
    },
    {
      "cell_type": "code",
      "metadata": {
        "id": "1h0ofg2KbjAU",
        "colab_type": "code",
        "colab": {
          "base_uri": "https://localhost:8080/",
          "height": 1000
        },
        "outputId": "5dcd3080-51e8-4cf8-db28-d142b138891f"
      },
      "source": [
        "# a peek into the prediction values\n",
        "X_train_preds"
      ],
      "execution_count": 35,
      "outputs": [
        {
          "output_type": "execute_result",
          "data": {
            "text/plain": [
              "array([0.02081355, 0.10333586, 0.86995657, 0.97536559, 0.07915054,\n",
              "       0.12158522, 0.76706466, 0.03414317, 0.17246988, 0.60379586,\n",
              "       0.03392197, 0.08889771, 0.05214693, 0.15330817, 0.35172541,\n",
              "       0.53690761, 0.8734454 , 0.15524587, 0.12675678, 0.71445464,\n",
              "       0.0644493 , 0.97624344, 0.5128529 , 0.35606638, 0.80859429,\n",
              "       0.8734454 , 0.52853703, 0.86899408, 0.06684771, 0.87213459,\n",
              "       0.5091494 , 0.14496657, 0.11416517, 0.06283398, 0.13794938,\n",
              "       0.09788657, 0.12158522, 0.09901517, 0.03575611, 0.0916742 ,\n",
              "       0.65865002, 0.11759901, 0.15959141, 0.31946569, 0.04777532,\n",
              "       0.11759901, 0.12475912, 0.14980688, 0.10922964, 0.121251  ,\n",
              "       0.15038067, 0.96026377, 0.09844461, 0.27845853, 0.94134705,\n",
              "       0.3652778 , 0.15038067, 0.87682764, 0.93035494, 0.12243969,\n",
              "       0.13763502, 0.47888981, 0.34475904, 0.1322134 , 0.900965  ,\n",
              "       0.15291214, 0.14004817, 0.1202069 , 0.76163467, 0.8850723 ,\n",
              "       0.06902375, 0.18133981, 0.9264086 , 0.75749352, 0.25967895,\n",
              "       0.06159367, 0.04760584, 0.10616312, 0.09660959, 0.12710333,\n",
              "       0.08882299, 0.95512474, 0.04915446, 0.12074182, 0.85741576,\n",
              "       0.09844461, 0.97569312, 0.10616312, 0.13086882, 0.31903138,\n",
              "       0.1572735 , 0.27677977, 0.13241113, 0.10616312, 0.10569565,\n",
              "       0.11759901, 0.76163467, 0.03575611, 0.14024101, 0.91109784,\n",
              "       0.31946569, 0.20560981, 0.85741576, 0.77214353, 0.12655561,\n",
              "       0.12267428, 0.09844461, 0.8020589 , 0.3022954 , 0.05294164,\n",
              "       0.13086882, 0.53699251, 0.03890371, 0.7212557 , 0.13086882,\n",
              "       0.13727422, 0.5505571 , 0.15468185, 0.76308092, 0.08882299,\n",
              "       0.07078858, 0.42029975, 0.07286223, 0.54226211, 0.14626766,\n",
              "       0.10333586, 0.16518784, 0.75357213, 0.13858783, 0.96907372,\n",
              "       0.113471  , 0.96290437, 0.85368667, 0.120632  , 0.74932492,\n",
              "       0.1412598 , 0.10616312, 0.83149864, 0.17517031, 0.1973382 ,\n",
              "       0.13794938, 0.9157826 , 0.55315526, 0.40562769, 0.18748666,\n",
              "       0.1412598 , 0.95657991, 0.96074937, 0.88151517, 0.04915446,\n",
              "       0.12158522, 0.92480476, 0.17769967, 0.16303489, 0.97658527,\n",
              "       0.2931429 , 0.59431185, 0.06902375, 0.09844461, 0.85445821,\n",
              "       0.09660959, 0.08591031, 0.31120541, 0.03575611, 0.08561755,\n",
              "       0.51966507, 0.76163467, 0.10119141, 0.26668608, 0.01939079,\n",
              "       0.06902375, 0.19011561, 0.07512861, 0.08074706, 0.13635482,\n",
              "       0.14014343, 0.62100861, 0.28090302, 0.63359173, 0.9703879 ,\n",
              "       0.11470588, 0.1832029 , 0.53699251, 0.49903073, 0.28730283,\n",
              "       0.11759901, 0.14599707, 0.41261313, 0.76163467, 0.37416365,\n",
              "       0.10616312, 0.71445464, 0.13356302, 0.95136922, 0.02818658,\n",
              "       0.09660959, 0.22041429, 0.12482447, 0.0916742 , 0.20023937,\n",
              "       0.15265102, 0.13970525, 0.7281263 , 0.92538391, 0.90346395,\n",
              "       0.14428094, 0.12333939, 0.17302693, 0.22766585, 0.14626766,\n",
              "       0.96194956, 0.11416517, 0.17471208, 0.74164617, 0.81063946,\n",
              "       0.76163467, 0.21671002, 0.09015316, 0.79539683, 0.12806019,\n",
              "       0.51491955, 0.14173734, 0.33147191, 0.04915446, 0.07078858,\n",
              "       0.89620457, 0.124058  , 0.14186735, 0.03592517, 0.17769967,\n",
              "       0.12158522, 0.6132742 , 0.98428854, 0.8734454 , 0.2829013 ,\n",
              "       0.13444063, 0.26154643, 0.05457864, 0.40660149, 0.11416517,\n",
              "       0.91621557, 0.11500038, 0.44691719, 0.12930359, 0.07913827,\n",
              "       0.09818336, 0.18133981, 0.04294702, 0.92613974, 0.04804385,\n",
              "       0.06902375, 0.23811077, 0.10616312, 0.15930884, 0.87547343,\n",
              "       0.77023264, 0.90082676, 0.16340512, 0.10616312, 0.16911103,\n",
              "       0.94441752, 0.89701564, 0.0733222 , 0.0644493 , 0.89380083,\n",
              "       0.10380677, 0.98176224, 0.48551949, 0.14626766, 0.14533051,\n",
              "       0.12482447, 0.96345288, 0.97141295, 0.92300334, 0.56409523,\n",
              "       0.97442248, 0.47406597, 0.15740255, 0.12806019, 0.98748821,\n",
              "       0.113471  , 0.07748858, 0.87843582, 0.12458772, 0.12482447,\n",
              "       0.0676159 , 0.20346171, 0.11416517, 0.67876685, 0.10146369,\n",
              "       0.97834428, 0.06902375, 0.75228819, 0.06665183, 0.10616312,\n",
              "       0.14599707, 0.12158522, 0.09844461, 0.70501452, 0.31708101,\n",
              "       0.05409575, 0.97827107, 0.49682315, 0.1322134 , 0.13375098,\n",
              "       0.63359173, 0.450773  , 0.09874201, 0.8842488 , 0.43608293,\n",
              "       0.16479931, 0.96857989, 0.18155922, 0.92633477, 0.15471237,\n",
              "       0.21186909, 0.34290521, 0.08615702, 0.26387515, 0.13209597,\n",
              "       0.15038067, 0.120632  , 0.61134959, 0.14186735, 0.12158522,\n",
              "       0.121251  , 0.15402928, 0.15525162, 0.06471271, 0.11990404,\n",
              "       0.21605454, 0.05457864, 0.88717642, 0.5128529 , 0.11759901,\n",
              "       0.41298865, 0.07229302, 0.91409696, 0.09901517, 0.13444063,\n",
              "       0.13234843, 0.07962292, 0.94882535, 0.88560556, 0.50356508,\n",
              "       0.08277166, 0.05319799, 0.89999046, 0.09253304, 0.06902375,\n",
              "       0.10119141, 0.931539  , 0.75847576, 0.4116265 , 0.07844051,\n",
              "       0.06684771, 0.15038067, 0.0574387 , 0.10616312, 0.15037954,\n",
              "       0.53388097, 0.11321586, 0.89792889, 0.45699903, 0.15070618,\n",
              "       0.03575611, 0.10616312, 0.81766551, 0.07316939, 0.99060655,\n",
              "       0.1322134 , 0.05578664, 0.6272405 , 0.12158522, 0.35683973,\n",
              "       0.96366707, 0.85809373, 0.12074182, 0.12806019, 0.95552153,\n",
              "       0.91789625, 0.92620773, 0.121251  , 0.96223243, 0.14186735,\n",
              "       0.14030721, 0.71445464, 0.11416517, 0.28090302, 0.12459366,\n",
              "       0.18718171, 0.2165481 , 0.87849694, 0.44918133, 0.0646001 ,\n",
              "       0.12710281, 0.90483066, 0.11416517, 0.45474962, 0.7073385 ,\n",
              "       0.96908471, 0.08657732, 0.14929937, 0.1910411 , 0.3926414 ,\n",
              "       0.12710333, 0.04796618, 0.91451706, 0.12710333, 0.09844461,\n",
              "       0.3652778 , 0.35606638, 0.17031537, 0.32319289, 0.33054548,\n",
              "       0.10616312, 0.13331959, 0.94586787, 0.12559099, 0.4073546 ,\n",
              "       0.11759901, 0.15959141, 0.14430253, 0.12655561, 0.8645491 ,\n",
              "       0.10777228, 0.79925182, 0.22278908, 0.17266011, 0.62091187,\n",
              "       0.97115813, 0.27587312, 0.96730691, 0.710783  , 0.12655561,\n",
              "       0.12459366, 0.11989904, 0.121251  , 0.11897645, 0.12655561,\n",
              "       0.121251  , 0.83674316, 0.17431529, 0.94953372, 0.06544889,\n",
              "       0.10439416, 0.4296468 , 0.97130025, 0.12158522, 0.97267365,\n",
              "       0.76163467, 0.94520567, 0.0733222 , 0.12710333, 0.32470305,\n",
              "       0.06648734, 0.95602847, 0.12655561, 0.17471208, 0.41896244,\n",
              "       0.62661558, 0.13331491, 0.83689549, 0.96908471, 0.28090302,\n",
              "       0.14428094, 0.1685895 , 0.15300801, 0.69446903, 0.92778978,\n",
              "       0.14198392, 0.9734623 , 0.0916742 , 0.92618732, 0.1802647 ,\n",
              "       0.96707767, 0.20728789, 0.09660959, 0.42469935, 0.7677855 ,\n",
              "       0.1888177 , 0.21010125, 0.04915446, 0.89999046, 0.1322134 ,\n",
              "       0.09161833, 0.08777641, 0.14090186, 0.09399087, 0.34383696,\n",
              "       0.90944275, 0.15820393, 0.12243969, 0.06902375, 0.17769967,\n",
              "       0.12344311, 0.91462194, 0.13486992, 0.2969173 , 0.11606021,\n",
              "       0.62287138, 0.12097454, 0.11188518, 0.1250683 , 0.9569958 ,\n",
              "       0.9800602 , 0.06648734, 0.52544772, 0.90876452, 0.13970525,\n",
              "       0.10887877, 0.20300337, 0.0600218 , 0.17103673, 0.08880259,\n",
              "       0.5091494 , 0.26180636, 0.64988739, 0.90950778, 0.62287138,\n",
              "       0.98336775, 0.81871057, 0.96790673, 0.83105542, 0.06466984,\n",
              "       0.10616312, 0.50453441, 0.84073202, 0.15930884, 0.11584433,\n",
              "       0.14024101, 0.65865002, 0.06902375, 0.44918133, 0.16479931,\n",
              "       0.07380031, 0.07380031, 0.06136368, 0.1703928 , 0.66651639,\n",
              "       0.71713293, 0.79102369, 0.113471  , 0.13486992, 0.19164008,\n",
              "       0.07958458, 0.95212018, 0.92744747, 0.23372453, 0.26768297,\n",
              "       0.18421992, 0.93281712, 0.12710333, 0.90348883, 0.07613828,\n",
              "       0.54952864, 0.03890371, 0.95050038, 0.68554031, 0.95050038,\n",
              "       0.97787334, 0.03592517, 0.84326883, 0.79922636, 0.08277166,\n",
              "       0.5465316 , 0.72153209, 0.14014343, 0.97188833, 0.30706248,\n",
              "       0.17769967, 0.07915054, 0.14198392, 0.22361235, 0.8734454 ,\n",
              "       0.08761783, 0.14984198, 0.96302095, 0.13775072, 0.10616312,\n",
              "       0.10119141, 0.03575611, 0.12559099, 0.15300801, 0.10616312,\n",
              "       0.14305294, 0.53298087, 0.09478076, 0.11416517, 0.12706662,\n",
              "       0.11617127, 0.12710333, 0.16266076, 0.92399389, 0.55315526,\n",
              "       0.06064621, 0.09818336, 0.51246097, 0.98749869, 0.24236199,\n",
              "       0.10982253, 0.12655561, 0.76163467, 0.92638949, 0.96022308,\n",
              "       0.18679787, 0.0514522 , 0.09660959, 0.8850723 , 0.04365422,\n",
              "       0.09844461, 0.29396338, 0.13486992, 0.16381736, 0.15903466,\n",
              "       0.79795157, 0.14366479, 0.09844461, 0.3065805 , 0.10688426,\n",
              "       0.10439416, 0.08099214, 0.17431529, 0.10119141, 0.62788828,\n",
              "       0.14198392, 0.12158522, 0.27773461, 0.12655561, 0.91109784,\n",
              "       0.83105542, 0.55527287, 0.1608459 , 0.06902375, 0.23335248,\n",
              "       0.81576351, 0.5505571 , 0.18133981, 0.98169013, 0.12930359,\n",
              "       0.05325664, 0.1611453 , 0.21170866, 0.01939079, 0.14186735,\n",
              "       0.09844461, 0.5091494 , 0.20481592, 0.8123377 , 0.0619797 ,\n",
              "       0.08586049, 0.28783597, 0.93488261, 0.96541049, 0.10975037,\n",
              "       0.76163467, 0.11416517, 0.95511753, 0.94122799, 0.96800957,\n",
              "       0.21083629, 0.12158522, 0.92958226, 0.969502  , 0.9030708 ,\n",
              "       0.05409575, 0.15038067, 0.48404898, 0.40132264, 0.06902375,\n",
              "       0.10922964, 0.9795345 , 0.121251  , 0.15740255, 0.91875437,\n",
              "       0.14491371, 0.0996681 , 0.06196492, 0.36035613, 0.12158522,\n",
              "       0.2661738 , 0.84582865, 0.88717642, 0.92346139, 0.03592517,\n",
              "       0.76163467, 0.53388097, 0.1464191 , 0.8558539 , 0.25249793,\n",
              "       0.69238751, 0.95621366, 0.120632  , 0.13604024, 0.09844461,\n",
              "       0.87213459, 0.11416517, 0.48747744, 0.94740773, 0.63229488,\n",
              "       0.12655561, 0.23734192, 0.09832504, 0.18905153, 0.10616312,\n",
              "       0.70278507, 0.07659488, 0.07380031, 0.07078858, 0.94941292,\n",
              "       0.76163467, 0.84959875, 0.03592517, 0.04768961, 0.85992497,\n",
              "       0.03169705, 0.06970469, 0.03209368, 0.11617127, 0.10616312,\n",
              "       0.76163467, 0.49695454, 0.95392527, 0.15003212, 0.971666  ,\n",
              "       0.19929379, 0.12806019, 0.96817428, 0.13209597, 0.09901517,\n",
              "       0.13375098, 0.58109642, 0.06544889, 0.06902375, 0.14978777,\n",
              "       0.1322134 , 0.14599707, 0.6346829 , 0.89999046, 0.51246097,\n",
              "       0.90422845, 0.91475269, 0.76163467, 0.84088717, 0.12655561,\n",
              "       0.29336923, 0.113471  , 0.91904358, 0.12710281, 0.0916742 ,\n",
              "       0.15661202, 0.14790734, 0.17471208, 0.77214353, 0.11818393,\n",
              "       0.10439416, 0.31045302, 0.27520967, 0.1581734 , 0.44967407,\n",
              "       0.73296855, 0.6063768 , 0.13970525, 0.17031537, 0.85128397,\n",
              "       0.66651639, 0.0996681 , 0.2931429 , 0.6662558 , 0.13209597,\n",
              "       0.73426088, 0.19655532, 0.07369825, 0.96157088, 0.39401605,\n",
              "       0.97692678, 0.92579842, 0.19009134, 0.09844461, 0.17726063,\n",
              "       0.97917752, 0.11701921, 0.15063424, 0.49670601, 0.83457717,\n",
              "       0.9040224 , 0.1572735 , 0.75438671, 0.22580335, 0.89933702,\n",
              "       0.03575611, 0.0916742 , 0.95295316, 0.76163467, 0.86663069,\n",
              "       0.9883403 , 0.98331159, 0.54491124, 0.12655561, 0.52710782,\n",
              "       0.13135491])"
            ]
          },
          "metadata": {
            "tags": []
          },
          "execution_count": 35
        }
      ]
    },
    {
      "cell_type": "code",
      "metadata": {
        "id": "nc6Bg80bbjAa",
        "colab_type": "code",
        "colab": {
          "base_uri": "https://localhost:8080/",
          "height": 86
        },
        "outputId": "3fef715b-1a41-4f5f-c149-371db8470ad3"
      },
      "source": [
        "print('Train set')\n",
        "print('GBM roc-auc: {}'.format(roc_auc_score(y_train, X_train_preds)))\n",
        "\n",
        "print('Test set')\n",
        "print('GBM roc-auc: {}'.format(roc_auc_score(y_test, X_test_preds)))"
      ],
      "execution_count": 36,
      "outputs": [
        {
          "output_type": "stream",
          "text": [
            "Train set\n",
            "GBM roc-auc: 0.9466380372977057\n",
            "Test set\n",
            "GBM roc-auc: 0.9185520361990951\n"
          ],
          "name": "stdout"
        }
      ]
    },
    {
      "cell_type": "code",
      "metadata": {
        "id": "qqNIVADUbjAg",
        "colab_type": "code",
        "colab": {
          "base_uri": "https://localhost:8080/",
          "height": 436
        },
        "outputId": "46142015-3d9f-4a19-b3b3-90c14661fc82"
      },
      "source": [
        "# let's explore the importance of the features\n",
        "\n",
        "importance = pd.Series(titanic_pipe.named_steps['gbm'].feature_importances_)\n",
        "importance.index = data.drop('Survived', axis=1).columns\n",
        "importance.sort_values(inplace=True, ascending=False)\n",
        "importance.plot.bar(figsize=(12,6))"
      ],
      "execution_count": 32,
      "outputs": [
        {
          "output_type": "execute_result",
          "data": {
            "text/plain": [
              "<matplotlib.axes._subplots.AxesSubplot at 0x7f76ef492c88>"
            ]
          },
          "metadata": {
            "tags": []
          },
          "execution_count": 32
        },
        {
          "output_type": "display_data",
          "data": {
            "image/png": "[encoded data removed]",
            "text/plain": [
              "<Figure size 864x432 with 1 Axes>"
            ]
          },
          "metadata": {
            "tags": []
          }
        }
      ]
    }
  ]
}