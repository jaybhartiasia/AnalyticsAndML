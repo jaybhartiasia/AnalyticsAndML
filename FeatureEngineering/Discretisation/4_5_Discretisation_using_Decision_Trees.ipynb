{
  "nbformat": 4,
  "nbformat_minor": 0,
  "metadata": {
    "kernelspec": {
      "display_name": "feml",
      "language": "python",
      "name": "feml"
    },
    "language_info": {
      "codemirror_mode": {
        "name": "ipython",
        "version": 3
      },
      "file_extension": ".py",
      "mimetype": "text/x-python",
      "name": "python",
      "nbconvert_exporter": "python",
      "pygments_lexer": "ipython3",
      "version": "3.7.3"
    },
    "toc": {
      "nav_menu": {},
      "number_sections": true,
      "sideBar": true,
      "skip_h1_title": false,
      "toc_cell": false,
      "toc_position": {},
      "toc_section_display": "block",
      "toc_window_display": true
    },
    "colab": {
      "name": "4.5 Discretisation-using-Decision-Trees.ipynb",
      "provenance": [],
      "include_colab_link": true
    }
  },
  "cells": [
    {
      "cell_type": "markdown",
      "metadata": {
        "id": "view-in-github",
        "colab_type": "text"
      },
      "source": [
        "<a href=\"https://colab.research.google.com/github/vinay10949/AnalyticsAndML/blob/master/FeatureEngineering/Discretisation/4_5_Discretisation_using_Decision_Trees.ipynb\" target=\"_parent\"><img src=\"https://colab.research.google.com/assets/colab-badge.svg\" alt=\"Open In Colab\"/></a>"
      ]
    },
    {
      "cell_type": "markdown",
      "metadata": {
        "id": "8TZj-JYGX7-d",
        "colab_type": "text"
      },
      "source": [
        "## Discretisation with Decision Trees\n",
        "\n",
        "\n",
        "Discretisation with Decision Trees consists in using a decision tree to identify the optimal bins. When a decision tree makes a decision, it assigns an observation to one of n end leaves. Therefore, any decision tree will generate a discrete output, which values are the predictions at each of its n leaves.\n",
        "\n",
        "How to do discretisation with trees?\n",
        "\n",
        "- 1) Train a decision tree of limited depth (2, 3  or 4) using the variable we want to discretise and the target.\n",
        "- 2) Replace the values by the output returned by the tree. \n",
        "\n",
        "\n",
        "### Advantages\n",
        "\n",
        "- The output returned by the decision tree is monotonically related to the target.\n",
        "- The tree end nodes, or bins in the discretised variable show decreased entropy: that is, the observations within each bin are more similar among themselves than to those of other bins.\n",
        "\n",
        "### Limitations\n",
        "\n",
        "- Prone over-fitting\n",
        "- More importantly, some tuning of the tree parameters needed to obtain the optimal number of splits (e.g., tree depth, minimum number of samples in one partition, maximum number of partitions, and a minimum information gain). This it can be time consuming.\n"
      ]
    },
    {
      "cell_type": "markdown",
      "metadata": {
        "id": "A9YQ1x5gX7-v",
        "colab_type": "text"
      },
      "source": [
        "### Titanic dataset"
      ]
    },
    {
      "cell_type": "code",
      "metadata": {
        "id": "1_Iosr80X7-4",
        "colab_type": "code",
        "colab": {}
      },
      "source": [
        "import pandas as pd\n",
        "import numpy as np\n",
        "\n",
        "import matplotlib.pyplot as plt\n",
        "\n",
        "from sklearn.model_selection import train_test_split\n",
        "\n",
        "from sklearn.tree import DecisionTreeClassifier, export_graphviz\n",
        "from sklearn.model_selection import cross_val_score"
      ],
      "execution_count": 0,
      "outputs": []
    },
    {
      "cell_type": "code",
      "metadata": {
        "id": "TAsaaRv2X7_P",
        "colab_type": "code",
        "colab": {
          "base_uri": "https://localhost:8080/",
          "height": 206
        },
        "outputId": "0c501584-ecbb-4264-e1b8-58a091d2591b"
      },
      "source": [
        "# load the numerical variables of the Titanic Dataset\n",
        "\n",
        "data = pd.read_csv('titanic_train.csv',\n",
        "                   usecols = ['Age', 'Fare', 'Survived'])\n",
        "\n",
        "\n",
        "data.head()"
      ],
      "execution_count": 2,
      "outputs": [
        {
          "output_type": "execute_result",
          "data": {
            "text/html": [
              "<div>\n",
              "<style scoped>\n",
              "    .dataframe tbody tr th:only-of-type {\n",
              "        vertical-align: middle;\n",
              "    }\n",
              "\n",
              "    .dataframe tbody tr th {\n",
              "        vertical-align: top;\n",
              "    }\n",
              "\n",
              "    .dataframe thead th {\n",
              "        text-align: right;\n",
              "    }\n",
              "</style>\n",
              "<table border=\"1\" class=\"dataframe\">\n",
              "  <thead>\n",
              "    <tr style=\"text-align: right;\">\n",
              "      <th></th>\n",
              "      <th>Survived</th>\n",
              "      <th>Age</th>\n",
              "      <th>Fare</th>\n",
              "    </tr>\n",
              "  </thead>\n",
              "  <tbody>\n",
              "    <tr>\n",
              "      <th>0</th>\n",
              "      <td>0</td>\n",
              "      <td>22.0</td>\n",
              "      <td>7.2500</td>\n",
              "    </tr>\n",
              "    <tr>\n",
              "      <th>1</th>\n",
              "      <td>1</td>\n",
              "      <td>38.0</td>\n",
              "      <td>71.2833</td>\n",
              "    </tr>\n",
              "    <tr>\n",
              "      <th>2</th>\n",
              "      <td>1</td>\n",
              "      <td>26.0</td>\n",
              "      <td>7.9250</td>\n",
              "    </tr>\n",
              "    <tr>\n",
              "      <th>3</th>\n",
              "      <td>1</td>\n",
              "      <td>35.0</td>\n",
              "      <td>53.1000</td>\n",
              "    </tr>\n",
              "    <tr>\n",
              "      <th>4</th>\n",
              "      <td>0</td>\n",
              "      <td>35.0</td>\n",
              "      <td>8.0500</td>\n",
              "    </tr>\n",
              "  </tbody>\n",
              "</table>\n",
              "</div>"
            ],
            "text/plain": [
              "   Survived   Age     Fare\n",
              "0         0  22.0   7.2500\n",
              "1         1  38.0  71.2833\n",
              "2         1  26.0   7.9250\n",
              "3         1  35.0  53.1000\n",
              "4         0  35.0   8.0500"
            ]
          },
          "metadata": {
            "tags": []
          },
          "execution_count": 2
        }
      ]
    },
    {
      "cell_type": "code",
      "metadata": {
        "id": "rMElLZgUX7_i",
        "colab_type": "code",
        "colab": {
          "base_uri": "https://localhost:8080/",
          "height": 34
        },
        "outputId": "f38abd0a-5a71-440f-aa2c-206050aef6d0"
      },
      "source": [
        "# Let's separate into train and test set\n",
        "\n",
        "X_train, X_test, y_train, y_test = train_test_split(\n",
        "    data[['Age', 'Fare']],\n",
        "    data['Survived'],\n",
        "    test_size=0.3,\n",
        "    random_state=0)\n",
        "\n",
        "X_train.shape, X_test.shape"
      ],
      "execution_count": 3,
      "outputs": [
        {
          "output_type": "execute_result",
          "data": {
            "text/plain": [
              "((623, 2), (268, 2))"
            ]
          },
          "metadata": {
            "tags": []
          },
          "execution_count": 3
        }
      ]
    },
    {
      "cell_type": "markdown",
      "metadata": {
        "id": "Wq28ub7PX7_v",
        "colab_type": "text"
      },
      "source": [
        "The variables Age and Fare contain missing data, that I will fill by extracting a random sample of the variable."
      ]
    },
    {
      "cell_type": "code",
      "metadata": {
        "id": "306x0B8BX7_z",
        "colab_type": "code",
        "colab": {}
      },
      "source": [
        "def impute_na(data, variable):\n",
        "    df = data.copy()\n",
        "    \n",
        "    # random sampling\n",
        "    df[variable+'_random'] = df[variable]\n",
        "    # extract the random sample to fill the na\n",
        "    random_sample = X_train[variable].dropna().sample(df[variable].isnull().sum(), random_state=0)\n",
        "    # pandas needs to have the same index in order to merge datasets\n",
        "    random_sample.index = df[df[variable].isnull()].index\n",
        "    df.loc[df[variable].isnull(), variable+'_random'] = random_sample\n",
        "    \n",
        "    return df[variable+'_random']"
      ],
      "execution_count": 0,
      "outputs": []
    },
    {
      "cell_type": "code",
      "metadata": {
        "id": "MmGVVjiRX8AD",
        "colab_type": "code",
        "colab": {}
      },
      "source": [
        "# replace NA in both  train and test sets\n",
        "\n",
        "X_train['Age'] = impute_na(data, 'Age')\n",
        "X_test['Age'] = impute_na(data, 'Age')\n",
        "\n",
        "X_train['Fare'] = impute_na(data, 'Fare')\n",
        "X_test['Fare'] = impute_na(data, 'Fare')"
      ],
      "execution_count": 0,
      "outputs": []
    },
    {
      "cell_type": "markdown",
      "metadata": {
        "id": "klxUqwclX8AN",
        "colab_type": "text"
      },
      "source": [
        "### Age"
      ]
    },
    {
      "cell_type": "code",
      "metadata": {
        "id": "UvwlKQ-QX8AS",
        "colab_type": "code",
        "colab": {
          "base_uri": "https://localhost:8080/",
          "height": 206
        },
        "outputId": "cd2afda1-3f70-4d68-956f-ba2372174d49"
      },
      "source": [
        "X_train.head()"
      ],
      "execution_count": 6,
      "outputs": [
        {
          "output_type": "execute_result",
          "data": {
            "text/html": [
              "<div>\n",
              "<style scoped>\n",
              "    .dataframe tbody tr th:only-of-type {\n",
              "        vertical-align: middle;\n",
              "    }\n",
              "\n",
              "    .dataframe tbody tr th {\n",
              "        vertical-align: top;\n",
              "    }\n",
              "\n",
              "    .dataframe thead th {\n",
              "        text-align: right;\n",
              "    }\n",
              "</style>\n",
              "<table border=\"1\" class=\"dataframe\">\n",
              "  <thead>\n",
              "    <tr style=\"text-align: right;\">\n",
              "      <th></th>\n",
              "      <th>Age</th>\n",
              "      <th>Fare</th>\n",
              "    </tr>\n",
              "  </thead>\n",
              "  <tbody>\n",
              "    <tr>\n",
              "      <th>857</th>\n",
              "      <td>51.0</td>\n",
              "      <td>26.5500</td>\n",
              "    </tr>\n",
              "    <tr>\n",
              "      <th>52</th>\n",
              "      <td>49.0</td>\n",
              "      <td>76.7292</td>\n",
              "    </tr>\n",
              "    <tr>\n",
              "      <th>386</th>\n",
              "      <td>1.0</td>\n",
              "      <td>46.9000</td>\n",
              "    </tr>\n",
              "    <tr>\n",
              "      <th>124</th>\n",
              "      <td>54.0</td>\n",
              "      <td>77.2875</td>\n",
              "    </tr>\n",
              "    <tr>\n",
              "      <th>578</th>\n",
              "      <td>14.5</td>\n",
              "      <td>14.4583</td>\n",
              "    </tr>\n",
              "  </tbody>\n",
              "</table>\n",
              "</div>"
            ],
            "text/plain": [
              "      Age     Fare\n",
              "857  51.0  26.5500\n",
              "52   49.0  76.7292\n",
              "386   1.0  46.9000\n",
              "124  54.0  77.2875\n",
              "578  14.5  14.4583"
            ]
          },
          "metadata": {
            "tags": []
          },
          "execution_count": 6
        }
      ]
    },
    {
      "cell_type": "code",
      "metadata": {
        "id": "-qu2l-R3X8Ai",
        "colab_type": "code",
        "colab": {
          "base_uri": "https://localhost:8080/",
          "height": 363
        },
        "outputId": "65515b56-1149-4d42-e3df-e548df3786b7"
      },
      "source": [
        "# example: build Classification tree using Age to predict Survived\n",
        "\n",
        "tree_model = DecisionTreeClassifier(max_depth=3)\n",
        "\n",
        "tree_model.fit(X_train['Age'].to_frame(), y_train)\n",
        "\n",
        "X_train['Age_tree'] = tree_model.predict_proba(X_train['Age'].to_frame())[:,1]\n",
        "\n",
        "X_train.head(10)"
      ],
      "execution_count": 7,
      "outputs": [
        {
          "output_type": "execute_result",
          "data": {
            "text/html": [
              "<div>\n",
              "<style scoped>\n",
              "    .dataframe tbody tr th:only-of-type {\n",
              "        vertical-align: middle;\n",
              "    }\n",
              "\n",
              "    .dataframe tbody tr th {\n",
              "        vertical-align: top;\n",
              "    }\n",
              "\n",
              "    .dataframe thead th {\n",
              "        text-align: right;\n",
              "    }\n",
              "</style>\n",
              "<table border=\"1\" class=\"dataframe\">\n",
              "  <thead>\n",
              "    <tr style=\"text-align: right;\">\n",
              "      <th></th>\n",
              "      <th>Age</th>\n",
              "      <th>Fare</th>\n",
              "      <th>Age_tree</th>\n",
              "    </tr>\n",
              "  </thead>\n",
              "  <tbody>\n",
              "    <tr>\n",
              "      <th>857</th>\n",
              "      <td>51.0</td>\n",
              "      <td>26.5500</td>\n",
              "      <td>0.392045</td>\n",
              "    </tr>\n",
              "    <tr>\n",
              "      <th>52</th>\n",
              "      <td>49.0</td>\n",
              "      <td>76.7292</td>\n",
              "      <td>0.392045</td>\n",
              "    </tr>\n",
              "    <tr>\n",
              "      <th>386</th>\n",
              "      <td>1.0</td>\n",
              "      <td>46.9000</td>\n",
              "      <td>0.750000</td>\n",
              "    </tr>\n",
              "    <tr>\n",
              "      <th>124</th>\n",
              "      <td>54.0</td>\n",
              "      <td>77.2875</td>\n",
              "      <td>0.392045</td>\n",
              "    </tr>\n",
              "    <tr>\n",
              "      <th>578</th>\n",
              "      <td>14.5</td>\n",
              "      <td>14.4583</td>\n",
              "      <td>0.600000</td>\n",
              "    </tr>\n",
              "    <tr>\n",
              "      <th>549</th>\n",
              "      <td>8.0</td>\n",
              "      <td>36.7500</td>\n",
              "      <td>0.458333</td>\n",
              "    </tr>\n",
              "    <tr>\n",
              "      <th>118</th>\n",
              "      <td>24.0</td>\n",
              "      <td>247.5208</td>\n",
              "      <td>0.331579</td>\n",
              "    </tr>\n",
              "    <tr>\n",
              "      <th>12</th>\n",
              "      <td>20.0</td>\n",
              "      <td>8.0500</td>\n",
              "      <td>0.331579</td>\n",
              "    </tr>\n",
              "    <tr>\n",
              "      <th>157</th>\n",
              "      <td>30.0</td>\n",
              "      <td>8.0500</td>\n",
              "      <td>0.392045</td>\n",
              "    </tr>\n",
              "    <tr>\n",
              "      <th>127</th>\n",
              "      <td>24.0</td>\n",
              "      <td>7.1417</td>\n",
              "      <td>0.331579</td>\n",
              "    </tr>\n",
              "  </tbody>\n",
              "</table>\n",
              "</div>"
            ],
            "text/plain": [
              "      Age      Fare  Age_tree\n",
              "857  51.0   26.5500  0.392045\n",
              "52   49.0   76.7292  0.392045\n",
              "386   1.0   46.9000  0.750000\n",
              "124  54.0   77.2875  0.392045\n",
              "578  14.5   14.4583  0.600000\n",
              "549   8.0   36.7500  0.458333\n",
              "118  24.0  247.5208  0.331579\n",
              "12   20.0    8.0500  0.331579\n",
              "157  30.0    8.0500  0.392045\n",
              "127  24.0    7.1417  0.331579"
            ]
          },
          "metadata": {
            "tags": []
          },
          "execution_count": 7
        }
      ]
    },
    {
      "cell_type": "code",
      "metadata": {
        "id": "ClBTxGGsX8Ax",
        "colab_type": "code",
        "colab": {
          "base_uri": "https://localhost:8080/",
          "height": 52
        },
        "outputId": "11f7a5a6-8c6a-4ace-e241-bba456f8581f"
      },
      "source": [
        "# let's explore how many end points the tree created\n",
        "\n",
        "X_train['Age_tree'].unique()"
      ],
      "execution_count": 8,
      "outputs": [
        {
          "output_type": "execute_result",
          "data": {
            "text/plain": [
              "array([0.39204545, 0.75      , 0.6       , 0.45833333, 0.33157895,\n",
              "       0.        , 1.        ])"
            ]
          },
          "metadata": {
            "tags": []
          },
          "execution_count": 8
        }
      ]
    },
    {
      "cell_type": "markdown",
      "metadata": {
        "id": "NqtEtyR9X8A6",
        "colab_type": "text"
      },
      "source": [
        "A tree of depth 2, makes 2 splits, therefore generating 4 buckets, that is why we  see 4 different probabilities in the output above."
      ]
    },
    {
      "cell_type": "code",
      "metadata": {
        "id": "Il_DRTj9X8A-",
        "colab_type": "code",
        "colab": {
          "base_uri": "https://localhost:8080/",
          "height": 313
        },
        "outputId": "b57450ab-6ac4-45b8-94bf-ce9f2c275d5d"
      },
      "source": [
        "# monotonic relationship with target\n",
        "\n",
        "pd.concat([X_train, y_train], axis=1).groupby(['Age_tree'])['Survived'].mean().plot()\n",
        "plt.title('Monotonic relationship between discretised Age and target')\n",
        "plt.ylabel('Survived')"
      ],
      "execution_count": 10,
      "outputs": [
        {
          "output_type": "execute_result",
          "data": {
            "text/plain": [
              "Text(0, 0.5, 'Survived')"
            ]
          },
          "metadata": {
            "tags": []
          },
          "execution_count": 10
        },
        {
          "output_type": "display_data",
          "data": {
            "image/png": "[encoded data removed]",
            "text/plain": [
              "<Figure size 432x288 with 1 Axes>"
            ]
          },
          "metadata": {
            "tags": []
          }
        }
      ]
    },
    {
      "cell_type": "code",
      "metadata": {
        "id": "aBkzn-aBX8BN",
        "colab_type": "code",
        "colab": {
          "base_uri": "https://localhost:8080/",
          "height": 404
        },
        "outputId": "3eaa8ac4-4879-43dc-e43f-97df9f46e1bc"
      },
      "source": [
        "# number of passengers per probabilistic bucket / bin\n",
        "\n",
        "X_train.groupby(['Age_tree'])['Age'].count().plot.bar()"
      ],
      "execution_count": 11,
      "outputs": [
        {
          "output_type": "execute_result",
          "data": {
            "text/plain": [
              "<matplotlib.axes._subplots.AxesSubplot at 0x7f920af0efd0>"
            ]
          },
          "metadata": {
            "tags": []
          },
          "execution_count": 11
        },
        {
          "output_type": "display_data",
          "data": {
            "image/png": "[encoded data removed]",
            "text/plain": [
              "<Figure size 432x288 with 1 Axes>"
            ]
          },
          "metadata": {
            "tags": []
          }
        }
      ]
    },
    {
      "cell_type": "code",
      "metadata": {
        "id": "s4K0ustAX8BY",
        "colab_type": "code",
        "colab": {},
        "outputId": "dfa25706-1eb2-4a76-8433-494e89f927c6"
      },
      "source": [
        "# median age within each bucket originated by the tree\n",
        "\n",
        "X_train.groupby(['Age_tree'])['age'].median().plot.bar()"
      ],
      "execution_count": 0,
      "outputs": [
        {
          "output_type": "execute_result",
          "data": {
            "text/plain": [
              "<matplotlib.axes._subplots.AxesSubplot at 0x41ade2b3c8>"
            ]
          },
          "metadata": {
            "tags": []
          },
          "execution_count": 11
        },
        {
          "output_type": "display_data",
          "data": {
            "image/png": "[encoded data removed]",
            "text/plain": [
              "<Figure size 432x288 with 1 Axes>"
            ]
          },
          "metadata": {
            "tags": [],
            "needs_background": "light"
          }
        }
      ]
    },
    {
      "cell_type": "code",
      "metadata": {
        "id": "llhYmhyWX8Bs",
        "colab_type": "code",
        "colab": {
          "base_uri": "https://localhost:8080/",
          "height": 300
        },
        "outputId": "32205a21-4221-4c9d-f7b6-6743ba212cbd"
      },
      "source": [
        "# let's see the Age limits buckets generated by the tree\n",
        "# by capturing the minimum and maximum age per each probability bucket, \n",
        "# we get an idea of the bucket cut-offs\n",
        "\n",
        "pd.concat( [X_train.groupby(['Age_tree'])['Age'].min(),\n",
        "            X_train.groupby(['Age_tree'])['Age'].max()], axis=1)"
      ],
      "execution_count": 12,
      "outputs": [
        {
          "output_type": "execute_result",
          "data": {
            "text/html": [
              "<div>\n",
              "<style scoped>\n",
              "    .dataframe tbody tr th:only-of-type {\n",
              "        vertical-align: middle;\n",
              "    }\n",
              "\n",
              "    .dataframe tbody tr th {\n",
              "        vertical-align: top;\n",
              "    }\n",
              "\n",
              "    .dataframe thead th {\n",
              "        text-align: right;\n",
              "    }\n",
              "</style>\n",
              "<table border=\"1\" class=\"dataframe\">\n",
              "  <thead>\n",
              "    <tr style=\"text-align: right;\">\n",
              "      <th></th>\n",
              "      <th>Age</th>\n",
              "      <th>Age</th>\n",
              "    </tr>\n",
              "    <tr>\n",
              "      <th>Age_tree</th>\n",
              "      <th></th>\n",
              "      <th></th>\n",
              "    </tr>\n",
              "  </thead>\n",
              "  <tbody>\n",
              "    <tr>\n",
              "      <th>0.000000</th>\n",
              "      <td>64.00</td>\n",
              "      <td>74.0</td>\n",
              "    </tr>\n",
              "    <tr>\n",
              "      <th>0.331579</th>\n",
              "      <td>16.00</td>\n",
              "      <td>26.0</td>\n",
              "    </tr>\n",
              "    <tr>\n",
              "      <th>0.392045</th>\n",
              "      <td>27.00</td>\n",
              "      <td>63.0</td>\n",
              "    </tr>\n",
              "    <tr>\n",
              "      <th>0.458333</th>\n",
              "      <td>2.00</td>\n",
              "      <td>11.0</td>\n",
              "    </tr>\n",
              "    <tr>\n",
              "      <th>0.600000</th>\n",
              "      <td>14.50</td>\n",
              "      <td>15.0</td>\n",
              "    </tr>\n",
              "    <tr>\n",
              "      <th>0.750000</th>\n",
              "      <td>0.67</td>\n",
              "      <td>1.0</td>\n",
              "    </tr>\n",
              "    <tr>\n",
              "      <th>1.000000</th>\n",
              "      <td>12.00</td>\n",
              "      <td>80.0</td>\n",
              "    </tr>\n",
              "  </tbody>\n",
              "</table>\n",
              "</div>"
            ],
            "text/plain": [
              "            Age   Age\n",
              "Age_tree             \n",
              "0.000000  64.00  74.0\n",
              "0.331579  16.00  26.0\n",
              "0.392045  27.00  63.0\n",
              "0.458333   2.00  11.0\n",
              "0.600000  14.50  15.0\n",
              "0.750000   0.67   1.0\n",
              "1.000000  12.00  80.0"
            ]
          },
          "metadata": {
            "tags": []
          },
          "execution_count": 12
        }
      ]
    },
    {
      "cell_type": "markdown",
      "metadata": {
        "id": "fDiiu_iFX8B5",
        "colab_type": "text"
      },
      "source": [
        "Thus, the decision tree generated the buckets: 65-74, 9-44, 45-64 and 0.7-8 and 0-16-0.16, with probabilities of survival of .0, .36, .45, .52 and .1 respectively."
      ]
    },
    {
      "cell_type": "markdown",
      "metadata": {
        "id": "-M_iMb1YX8B9",
        "colab_type": "text"
      },
      "source": [
        "### Tree visualisation"
      ]
    },
    {
      "cell_type": "code",
      "metadata": {
        "id": "ImI_cGkvX8CD",
        "colab_type": "code",
        "colab": {}
      },
      "source": [
        "# we can go ahead and visualise the tree by saving the model to a file,\n",
        "# and opening that file in the below indicated link\n",
        "\n",
        "with open(\"tree_model.txt\", \"w\") as f:\n",
        "    f = export_graphviz(tree_model, out_file=f)\n",
        "\n",
        "# go here to open the file: http://webgraphviz.com"
      ],
      "execution_count": 0,
      "outputs": []
    },
    {
      "cell_type": "code",
      "metadata": {
        "scrolled": false,
        "id": "nfISIHjFX8CO",
        "colab_type": "code",
        "colab": {}
      },
      "source": [
        "# this is what you should see if you do what is described in the previous cell\n",
        "\n",
        "# I saved the image you should retrieve in the server above into a png, and then load\n",
        "# it here to smooth the demo\n",
        "\n",
        "# the  plot indicates  the age cut-offs at each node, and also the number of samples at each node, and \n",
        "# the gini\n",
        "\n",
        "from IPython.display import Image\n",
        "from IPython.core.display import HTML \n",
        "PATH = \"/content/tree_visualisation.png\"\n",
        "Image(filename = PATH , width=1000, height=1000)"
      ],
      "execution_count": 0,
      "outputs": []
    },
    {
      "cell_type": "markdown",
      "metadata": {
        "id": "fvDqQKL1X8CW",
        "colab_type": "text"
      },
      "source": [
        "**Let's expand the tree results to the test set, and explore the monotonic relationship**"
      ]
    },
    {
      "cell_type": "code",
      "metadata": {
        "id": "CZnfy4uzX8CZ",
        "colab_type": "code",
        "colab": {
          "base_uri": "https://localhost:8080/",
          "height": 313
        },
        "outputId": "080f0581-0c44-4829-c65d-dbff673895db"
      },
      "source": [
        "X_test['Age_tree'] = tree_model.predict_proba(X_test['Age'].to_frame())[:,1]\n",
        "\n",
        "# monotonic relationship with target\n",
        "\n",
        "pd.concat([X_test, y_test], axis=1).groupby(['Age_tree'])['Survived'].mean().plot()\n",
        "plt.title('Monotonic relationship between discretised Age and target')\n",
        "plt.ylabel('Survived')\n"
      ],
      "execution_count": 23,
      "outputs": [
        {
          "output_type": "execute_result",
          "data": {
            "text/plain": [
              "Text(0, 0.5, 'Survived')"
            ]
          },
          "metadata": {
            "tags": []
          },
          "execution_count": 23
        },
        {
          "output_type": "display_data",
          "data": {
            "image/png": "[encoded data removed]",
            "text/plain": [
              "<Figure size 432x288 with 1 Axes>"
            ]
          },
          "metadata": {
            "tags": []
          }
        }
      ]
    },
    {
      "cell_type": "markdown",
      "metadata": {
        "id": "FBOYuN_rX8Ch",
        "colab_type": "text"
      },
      "source": [
        "We can see that the monotonic relationship is not maintained in the test set, which probably indicates that the tree we build was over-fitting to the train set."
      ]
    },
    {
      "cell_type": "markdown",
      "metadata": {
        "id": "iBf9gH8nX8Cm",
        "colab_type": "text"
      },
      "source": [
        "### Building the optimal decision tree\n",
        "\n",
        "There are a number of parameters that we could optimise to obtain the best bin split using decision trees.\n",
        "\n",
        "I will optimise the tree depth for this demonstration. But remember that we could also optimise the remaining parameters of the decision tree. \n",
        "\n",
        "Visit [sklearn website](http://scikit-learn.org/stable/modules/generated/sklearn.tree.DecisionTreeClassifier.html#sklearn.tree.DecisionTreeClassifier) to see which other parameters can be optimised."
      ]
    },
    {
      "cell_type": "code",
      "metadata": {
        "id": "t93IIuhtX8Co",
        "colab_type": "code",
        "colab": {},
        "outputId": "93688477-8772-4299-88ee-6ec5a4167ba4"
      },
      "source": [
        "# Build trees of different depths, and calculate the roc-auc of each tree\n",
        "# choose the depth that generates the best roc-auc\n",
        "\n",
        "score_ls = []  # here we store the roc auc\n",
        "score_std_ls = []  # here we store the standard deviation of the roc_auc\n",
        "\n",
        "for tree_depth in [1, 2, 3, 4]:\n",
        "\n",
        "    # call the model\n",
        "    tree_model = DecisionTreeClassifier(max_depth=tree_depth)\n",
        "\n",
        "    # train the model using 3 fold cross validation\n",
        "\n",
        "    scores = cross_val_score(\n",
        "        tree_model, X_train['age'].to_frame(), y_train, cv=3, scoring='roc_auc')\n",
        "    \n",
        "    # save the parameters\n",
        "    score_ls.append(np.mean(scores))\n",
        "    score_std_ls.append(np.std(scores))\n",
        "\n",
        "    \n",
        "# capture the parameters in a dataframe\n",
        "temp = pd.concat([pd.Series([1, 2, 3, 4]), pd.Series(\n",
        "    score_ls), pd.Series(score_std_ls)], axis=1)\n",
        "\n",
        "temp.columns = ['depth', 'roc_auc_mean', 'roc_auc_std']\n",
        "temp"
      ],
      "execution_count": 0,
      "outputs": [
        {
          "output_type": "execute_result",
          "data": {
            "text/html": [
              "<div>\n",
              "<style scoped>\n",
              "    .dataframe tbody tr th:only-of-type {\n",
              "        vertical-align: middle;\n",
              "    }\n",
              "\n",
              "    .dataframe tbody tr th {\n",
              "        vertical-align: top;\n",
              "    }\n",
              "\n",
              "    .dataframe thead th {\n",
              "        text-align: right;\n",
              "    }\n",
              "</style>\n",
              "<table border=\"1\" class=\"dataframe\">\n",
              "  <thead>\n",
              "    <tr style=\"text-align: right;\">\n",
              "      <th></th>\n",
              "      <th>depth</th>\n",
              "      <th>roc_auc_mean</th>\n",
              "      <th>roc_auc_std</th>\n",
              "    </tr>\n",
              "  </thead>\n",
              "  <tbody>\n",
              "    <tr>\n",
              "      <th>0</th>\n",
              "      <td>1</td>\n",
              "      <td>0.501463</td>\n",
              "      <td>0.010976</td>\n",
              "    </tr>\n",
              "    <tr>\n",
              "      <th>1</th>\n",
              "      <td>2</td>\n",
              "      <td>0.526206</td>\n",
              "      <td>0.017810</td>\n",
              "    </tr>\n",
              "    <tr>\n",
              "      <th>2</th>\n",
              "      <td>3</td>\n",
              "      <td>0.516446</td>\n",
              "      <td>0.028972</td>\n",
              "    </tr>\n",
              "    <tr>\n",
              "      <th>3</th>\n",
              "      <td>4</td>\n",
              "      <td>0.527593</td>\n",
              "      <td>0.023505</td>\n",
              "    </tr>\n",
              "  </tbody>\n",
              "</table>\n",
              "</div>"
            ],
            "text/plain": [
              "   depth  roc_auc_mean  roc_auc_std\n",
              "0      1      0.501463     0.010976\n",
              "1      2      0.526206     0.017810\n",
              "2      3      0.516446     0.028972\n",
              "3      4      0.527593     0.023505"
            ]
          },
          "metadata": {
            "tags": []
          },
          "execution_count": 16
        }
      ]
    },
    {
      "cell_type": "markdown",
      "metadata": {
        "id": "HNnh7uwZX8Cv",
        "colab_type": "text"
      },
      "source": [
        "We obtain the best roc-auc using depths of 2 (same value as depth 4 but smaller std). I will select depth of 2 to proceed."
      ]
    },
    {
      "cell_type": "markdown",
      "metadata": {
        "id": "XI3xt8XlX8Cx",
        "colab_type": "text"
      },
      "source": [
        "### Transform the feature using tree"
      ]
    },
    {
      "cell_type": "code",
      "metadata": {
        "scrolled": true,
        "id": "BZMzjj0nX8C0",
        "colab_type": "code",
        "colab": {}
      },
      "source": [
        "tree_model = DecisionTreeClassifier(max_depth=2)\n",
        "\n",
        "tree_model.fit(X_train['Age'].to_frame(), y_train)\n",
        "\n",
        "X_train['Age_tree'] = tree_model.predict_proba(X_train['Age'].to_frame())[:, 1]\n",
        "X_test['Age_tree'] = tree_model.predict_proba(X_test['Age'].to_frame())[:, 1]"
      ],
      "execution_count": 0,
      "outputs": []
    },
    {
      "cell_type": "code",
      "metadata": {
        "id": "fL9BmwY3X8C7",
        "colab_type": "code",
        "colab": {
          "base_uri": "https://localhost:8080/",
          "height": 313
        },
        "outputId": "bcdf1255-6369-446f-b2bc-cbc0389e67a2"
      },
      "source": [
        "# monotonic relationship with target in train set\n",
        "\n",
        "pd.concat([X_train, y_train], axis=1).groupby(['Age_tree'])['Survived'].mean().plot()\n",
        "plt.title('Monotonic relationship between discretised Age and target')\n",
        "plt.ylabel('Survived')"
      ],
      "execution_count": 31,
      "outputs": [
        {
          "output_type": "execute_result",
          "data": {
            "text/plain": [
              "Text(0, 0.5, 'Survived')"
            ]
          },
          "metadata": {
            "tags": []
          },
          "execution_count": 31
        },
        {
          "output_type": "display_data",
          "data": {
            "image/png": "[encoded data removed]",
            "text/plain": [
              "<Figure size 432x288 with 1 Axes>"
            ]
          },
          "metadata": {
            "tags": []
          }
        }
      ]
    },
    {
      "cell_type": "code",
      "metadata": {
        "id": "xfQ_VeVrX8DG",
        "colab_type": "code",
        "colab": {
          "base_uri": "https://localhost:8080/",
          "height": 313
        },
        "outputId": "4ec9a7d6-d8b3-49d1-d85d-fa39b0407cb1"
      },
      "source": [
        "# and in the test set\n",
        "\n",
        "X_test['Age_tree'] = tree_model.predict_proba(X_test['Age'].to_frame())[:,1]\n",
        "\n",
        "# monotonic relationship with target\n",
        "pd.concat([X_test, y_test], axis=1).groupby(['Age_tree'])['Survived'].mean().plot()\n",
        "plt.title('Monotonic relationship between discretised Age and target')\n",
        "plt.ylabel('Survived')"
      ],
      "execution_count": 32,
      "outputs": [
        {
          "output_type": "execute_result",
          "data": {
            "text/plain": [
              "Text(0, 0.5, 'Survived')"
            ]
          },
          "metadata": {
            "tags": []
          },
          "execution_count": 32
        },
        {
          "output_type": "display_data",
          "data": {
            "image/png": "[encoded data removed]",
            "text/plain": [
              "<Figure size 432x288 with 1 Axes>"
            ]
          },
          "metadata": {
            "tags": []
          }
        }
      ]
    },
    {
      "cell_type": "markdown",
      "metadata": {
        "id": "Bk4ACuxRX8DM",
        "colab_type": "text"
      },
      "source": [
        "Now the monotonic relationship is maintained in the test set as well."
      ]
    },
    {
      "cell_type": "code",
      "metadata": {
        "id": "ttWQbcgFX8DQ",
        "colab_type": "code",
        "colab": {}
      },
      "source": [
        ""
      ],
      "execution_count": 0,
      "outputs": []
    }
  ]
}