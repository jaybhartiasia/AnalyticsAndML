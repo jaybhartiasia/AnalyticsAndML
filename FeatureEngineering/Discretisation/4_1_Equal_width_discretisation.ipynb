{
  "nbformat": 4,
  "nbformat_minor": 0,
  "metadata": {
    "kernelspec": {
      "display_name": "feml",
      "language": "python",
      "name": "feml"
    },
    "language_info": {
      "codemirror_mode": {
        "name": "ipython",
        "version": 3
      },
      "file_extension": ".py",
      "mimetype": "text/x-python",
      "name": "python",
      "nbconvert_exporter": "python",
      "pygments_lexer": "ipython3",
      "version": "3.7.3"
    },
    "toc": {
      "base_numbering": 1,
      "nav_menu": {
        "height": "52px",
        "width": "244px"
      },
      "number_sections": true,
      "sideBar": true,
      "skip_h1_title": false,
      "title_cell": "Table of Contents",
      "title_sidebar": "Contents",
      "toc_cell": false,
      "toc_position": {
        "height": "921.556px",
        "left": "0px",
        "right": "1686px",
        "top": "110.444px",
        "width": "322.431px"
      },
      "toc_section_display": "block",
      "toc_window_display": true
    },
    "colab": {
      "name": "4.1 Equal-width-discretisation.ipynb",
      "provenance": [],
      "include_colab_link": true
    }
  },
  "cells": [
    {
      "cell_type": "markdown",
      "metadata": {
        "id": "view-in-github",
        "colab_type": "text"
      },
      "source": [
        "<a href=\"https://colab.research.google.com/github/vinay10949/AnalyticsAndML/blob/master/FeatureEngineering/Discretisation/4_1_Equal_width_discretisation.ipynb\" target=\"_parent\"><img src=\"https://colab.research.google.com/assets/colab-badge.svg\" alt=\"Open In Colab\"/></a>"
      ]
    },
    {
      "cell_type": "markdown",
      "metadata": {
        "id": "Rva2Ofl9KNxd",
        "colab_type": "text"
      },
      "source": [
        "## Discretisation\n",
        "\n",
        "Discretisation is the process of transforming continuous variables into discrete variables by creating a set of contiguous intervals that span the range of the variable's values. Discretisation is also called **binning**, where bin is an alternative name for interval.\n",
        "\n",
        "\n",
        "### Discretisation helps handle outliers and may improve value spread in skewed variables\n",
        "\n",
        "Discretisation helps handle outliers by placing these values into the lower or higher intervals, together with the remaining inlier values of the distribution. Thus, these outlier observations no longer differ from the rest of the values at the tails of the distribution, as they are now all together in the same interval / bucket. In addition, by creating appropriate bins or intervals, discretisation can help spread the values of a skewed variable across a set of bins with equal number of observations.\n",
        "\n",
        "\n",
        "### Discretisation approaches\n",
        "\n",
        "There are several approaches to transform continuous variables into discrete ones. Discretisation methods fall into 2 categories: **supervised and unsupervised**. Unsupervised methods do not use any information, other than the variable distribution, to create the contiguous bins in which the values will be placed. Supervised methods typically use target information in order to create the bins or intervals.\n",
        "\n",
        "\n",
        "####  Unsupervised discretisation methods\n",
        "\n",
        "- Equal width discretisation\n",
        "- Equal frequency discretisation\n",
        "- K-means discretisation\n",
        "\n",
        "#### Supervised discretisation methods\n",
        "\n",
        "- Discretisation using decision trees\n",
        "\n",
        "\n",
        "In this lecture, I will describe **equal width discretisation**.\n",
        "\n",
        "\n",
        "## Equal width discretisation\n",
        "\n",
        "Equal width discretisation divides the scope of possible values into N bins of the same width.The width is determined by the range of values in the variable and the number of bins we wish to use to divide the variable:\n",
        "\n",
        "width = (max value - min value) / N\n",
        "\n",
        "where N is the number of bins or intervals.\n",
        "\n",
        "For example if the values of the variable vary between 0 and 100, we create 5 bins like this: width = (100-0) / 5 = 20. The bins thus are 0-20, 20-40, 40-60, 80-100. The first and final bins (0-20 and 80-100) can be expanded to accommodate outliers (that is, values under 0 or greater than 100 would be placed in those bins as well).\n",
        "\n",
        "There is no rule of thumb to define N, that is something to determine experimentally.\n"
      ]
    },
    {
      "cell_type": "code",
      "metadata": {
        "id": "GSSgNywkKNxu",
        "colab_type": "code",
        "colab": {
          "base_uri": "https://localhost:8080/",
          "height": 714
        },
        "outputId": "ed7c92e9-0abf-4077-ce73-fc46b22ff48d"
      },
      "source": [
        "!pip install feature_engine\n",
        "import pandas as pd\n",
        "import numpy as np\n",
        "\n",
        "import matplotlib.pyplot as plt\n",
        "\n",
        "from sklearn.model_selection import train_test_split\n",
        "\n",
        "from sklearn.preprocessing import KBinsDiscretizer\n",
        "\n",
        "from feature_engine.discretisers import EqualWidthDiscretiser"
      ],
      "execution_count": 1,
      "outputs": [
        {
          "output_type": "stream",
          "text": [
            "Collecting feature_engine\n",
            "  Downloading https://files.pythonhosted.org/packages/b3/0f/7f7f60195879fc487aeaecba343f02c6f4426bc239b378b73655d40c1d06/feature_engine-0.3.1-py3-none-any.whl\n",
            "Collecting numpydoc>=0.6.0\n",
            "  Downloading https://files.pythonhosted.org/packages/b0/70/4d8c3f9f6783a57ac9cc7a076e5610c0cc4a96af543cafc9247ac307fbfe/numpydoc-0.9.2.tar.gz\n",
            "Requirement already satisfied: statsmodels>=0.8.0 in /usr/local/lib/python3.6/dist-packages (from feature_engine) (0.10.2)\n",
            "Requirement already satisfied: scipy>=0.19.0 in /usr/local/lib/python3.6/dist-packages (from feature_engine) (1.4.1)\n",
            "Requirement already satisfied: pandas>=0.23.0 in /usr/local/lib/python3.6/dist-packages (from feature_engine) (0.25.3)\n",
            "Requirement already satisfied: numpy>=1.12.1 in /usr/local/lib/python3.6/dist-packages (from feature_engine) (1.17.5)\n",
            "Requirement already satisfied: scikit-learn>=0.18.1 in /usr/local/lib/python3.6/dist-packages (from feature_engine) (0.22.1)\n",
            "Requirement already satisfied: sphinx>=1.6.5 in /usr/local/lib/python3.6/dist-packages (from numpydoc>=0.6.0->feature_engine) (1.8.5)\n",
            "Requirement already satisfied: Jinja2>=2.3 in /usr/local/lib/python3.6/dist-packages (from numpydoc>=0.6.0->feature_engine) (2.11.1)\n",
            "Requirement already satisfied: patsy>=0.4.0 in /usr/local/lib/python3.6/dist-packages (from statsmodels>=0.8.0->feature_engine) (0.5.1)\n",
            "Requirement already satisfied: python-dateutil>=2.6.1 in /usr/local/lib/python3.6/dist-packages (from pandas>=0.23.0->feature_engine) (2.6.1)\n",
            "Requirement already satisfied: pytz>=2017.2 in /usr/local/lib/python3.6/dist-packages (from pandas>=0.23.0->feature_engine) (2018.9)\n",
            "Requirement already satisfied: joblib>=0.11 in /usr/local/lib/python3.6/dist-packages (from scikit-learn>=0.18.1->feature_engine) (0.14.1)\n",
            "Requirement already satisfied: setuptools in /usr/local/lib/python3.6/dist-packages (from sphinx>=1.6.5->numpydoc>=0.6.0->feature_engine) (45.1.0)\n",
            "Requirement already satisfied: imagesize in /usr/local/lib/python3.6/dist-packages (from sphinx>=1.6.5->numpydoc>=0.6.0->feature_engine) (1.2.0)\n",
            "Requirement already satisfied: babel!=2.0,>=1.3 in /usr/local/lib/python3.6/dist-packages (from sphinx>=1.6.5->numpydoc>=0.6.0->feature_engine) (2.8.0)\n",
            "Requirement already satisfied: sphinxcontrib-websupport in /usr/local/lib/python3.6/dist-packages (from sphinx>=1.6.5->numpydoc>=0.6.0->feature_engine) (1.1.2)\n",
            "Requirement already satisfied: alabaster<0.8,>=0.7 in /usr/local/lib/python3.6/dist-packages (from sphinx>=1.6.5->numpydoc>=0.6.0->feature_engine) (0.7.12)\n",
            "Requirement already satisfied: six>=1.5 in /usr/local/lib/python3.6/dist-packages (from sphinx>=1.6.5->numpydoc>=0.6.0->feature_engine) (1.12.0)\n",
            "Requirement already satisfied: Pygments>=2.0 in /usr/local/lib/python3.6/dist-packages (from sphinx>=1.6.5->numpydoc>=0.6.0->feature_engine) (2.1.3)\n",
            "Requirement already satisfied: snowballstemmer>=1.1 in /usr/local/lib/python3.6/dist-packages (from sphinx>=1.6.5->numpydoc>=0.6.0->feature_engine) (2.0.0)\n",
            "Requirement already satisfied: docutils>=0.11 in /usr/local/lib/python3.6/dist-packages (from sphinx>=1.6.5->numpydoc>=0.6.0->feature_engine) (0.15.2)\n",
            "Requirement already satisfied: requests>=2.0.0 in /usr/local/lib/python3.6/dist-packages (from sphinx>=1.6.5->numpydoc>=0.6.0->feature_engine) (2.21.0)\n",
            "Requirement already satisfied: packaging in /usr/local/lib/python3.6/dist-packages (from sphinx>=1.6.5->numpydoc>=0.6.0->feature_engine) (20.1)\n",
            "Requirement already satisfied: MarkupSafe>=0.23 in /usr/local/lib/python3.6/dist-packages (from Jinja2>=2.3->numpydoc>=0.6.0->feature_engine) (1.1.1)\n",
            "Requirement already satisfied: certifi>=2017.4.17 in /usr/local/lib/python3.6/dist-packages (from requests>=2.0.0->sphinx>=1.6.5->numpydoc>=0.6.0->feature_engine) (2019.11.28)\n",
            "Requirement already satisfied: idna<2.9,>=2.5 in /usr/local/lib/python3.6/dist-packages (from requests>=2.0.0->sphinx>=1.6.5->numpydoc>=0.6.0->feature_engine) (2.8)\n",
            "Requirement already satisfied: chardet<3.1.0,>=3.0.2 in /usr/local/lib/python3.6/dist-packages (from requests>=2.0.0->sphinx>=1.6.5->numpydoc>=0.6.0->feature_engine) (3.0.4)\n",
            "Requirement already satisfied: urllib3<1.25,>=1.21.1 in /usr/local/lib/python3.6/dist-packages (from requests>=2.0.0->sphinx>=1.6.5->numpydoc>=0.6.0->feature_engine) (1.24.3)\n",
            "Requirement already satisfied: pyparsing>=2.0.2 in /usr/local/lib/python3.6/dist-packages (from packaging->sphinx>=1.6.5->numpydoc>=0.6.0->feature_engine) (2.4.6)\n",
            "Building wheels for collected packages: numpydoc\n",
            "  Building wheel for numpydoc (setup.py) ... \u001b[?25l\u001b[?25hdone\n",
            "  Created wheel for numpydoc: filename=numpydoc-0.9.2-cp36-none-any.whl size=31893 sha256=6a31eae19116360c04c4fb0a5072eda560e3d8f6ff616d792654a8171e4474fe\n",
            "  Stored in directory: /root/.cache/pip/wheels/96/f3/52/25c8e1f40637661d27feebc61dae16b84c7cdd93b8bc3d7486\n",
            "Successfully built numpydoc\n",
            "Installing collected packages: numpydoc, feature-engine\n",
            "Successfully installed feature-engine-0.3.1 numpydoc-0.9.2\n"
          ],
          "name": "stdout"
        }
      ]
    },
    {
      "cell_type": "code",
      "metadata": {
        "id": "gsBm4r_dKNyF",
        "colab_type": "code",
        "colab": {
          "base_uri": "https://localhost:8080/",
          "height": 206
        },
        "outputId": "8699d2c8-a1bf-44e0-b71f-8eeaee93c1bc"
      },
      "source": [
        "# load the numerical variables of the Titanic Dataset\n",
        "\n",
        "data = pd.read_csv('titanic_train.csv',\n",
        "                   usecols=['Age', 'Fare', 'Survived'])\n",
        "\n",
        "data.head()"
      ],
      "execution_count": 3,
      "outputs": [
        {
          "output_type": "execute_result",
          "data": {
            "text/html": [
              "<div>\n",
              "<style scoped>\n",
              "    .dataframe tbody tr th:only-of-type {\n",
              "        vertical-align: middle;\n",
              "    }\n",
              "\n",
              "    .dataframe tbody tr th {\n",
              "        vertical-align: top;\n",
              "    }\n",
              "\n",
              "    .dataframe thead th {\n",
              "        text-align: right;\n",
              "    }\n",
              "</style>\n",
              "<table border=\"1\" class=\"dataframe\">\n",
              "  <thead>\n",
              "    <tr style=\"text-align: right;\">\n",
              "      <th></th>\n",
              "      <th>Survived</th>\n",
              "      <th>Age</th>\n",
              "      <th>Fare</th>\n",
              "    </tr>\n",
              "  </thead>\n",
              "  <tbody>\n",
              "    <tr>\n",
              "      <th>0</th>\n",
              "      <td>0</td>\n",
              "      <td>22.0</td>\n",
              "      <td>7.2500</td>\n",
              "    </tr>\n",
              "    <tr>\n",
              "      <th>1</th>\n",
              "      <td>1</td>\n",
              "      <td>38.0</td>\n",
              "      <td>71.2833</td>\n",
              "    </tr>\n",
              "    <tr>\n",
              "      <th>2</th>\n",
              "      <td>1</td>\n",
              "      <td>26.0</td>\n",
              "      <td>7.9250</td>\n",
              "    </tr>\n",
              "    <tr>\n",
              "      <th>3</th>\n",
              "      <td>1</td>\n",
              "      <td>35.0</td>\n",
              "      <td>53.1000</td>\n",
              "    </tr>\n",
              "    <tr>\n",
              "      <th>4</th>\n",
              "      <td>0</td>\n",
              "      <td>35.0</td>\n",
              "      <td>8.0500</td>\n",
              "    </tr>\n",
              "  </tbody>\n",
              "</table>\n",
              "</div>"
            ],
            "text/plain": [
              "   Survived   Age     Fare\n",
              "0         0  22.0   7.2500\n",
              "1         1  38.0  71.2833\n",
              "2         1  26.0   7.9250\n",
              "3         1  35.0  53.1000\n",
              "4         0  35.0   8.0500"
            ]
          },
          "metadata": {
            "tags": []
          },
          "execution_count": 3
        }
      ]
    },
    {
      "cell_type": "code",
      "metadata": {
        "id": "jN2Vw3GmKNyY",
        "colab_type": "code",
        "colab": {
          "base_uri": "https://localhost:8080/",
          "height": 34
        },
        "outputId": "78359d10-35af-43d6-afb2-2cbd48c4d428"
      },
      "source": [
        "# Let's separate into train and test set\n",
        "\n",
        "X_train, X_test, y_train, y_test = train_test_split(\n",
        "    data[['Age', 'Fare']],\n",
        "    data['Survived'],\n",
        "    test_size=0.3,\n",
        "    random_state=0)\n",
        "\n",
        "X_train.shape, X_test.shape"
      ],
      "execution_count": 4,
      "outputs": [
        {
          "output_type": "execute_result",
          "data": {
            "text/plain": [
              "((623, 2), (268, 2))"
            ]
          },
          "metadata": {
            "tags": []
          },
          "execution_count": 4
        }
      ]
    },
    {
      "cell_type": "markdown",
      "metadata": {
        "id": "RWvZTLC_KNym",
        "colab_type": "text"
      },
      "source": [
        "The variables Age and fare contain missing data, that I will fill by extracting a random sample of the variable."
      ]
    },
    {
      "cell_type": "code",
      "metadata": {
        "id": "M1SLHkBKKNyp",
        "colab_type": "code",
        "colab": {}
      },
      "source": [
        "def impute_na(data, variable):\n",
        "\n",
        "    df = data.copy()\n",
        "\n",
        "    # random sampling\n",
        "    df[variable + '_random'] = df[variable]\n",
        "\n",
        "    # extract the random sample to fill the na\n",
        "    random_sample = X_train[variable].dropna().sample(\n",
        "        df[variable].isnull().sum(), random_state=0)\n",
        "\n",
        "    # pandas needs to have the same index in order to merge datasets\n",
        "    random_sample.index = df[df[variable].isnull()].index\n",
        "    df.loc[df[variable].isnull(), variable + '_random'] = random_sample\n",
        "\n",
        "    return df[variable + '_random']"
      ],
      "execution_count": 0,
      "outputs": []
    },
    {
      "cell_type": "code",
      "metadata": {
        "id": "yn6gFrOuKNy2",
        "colab_type": "code",
        "colab": {}
      },
      "source": [
        "# replace NA in both  train and test sets\n",
        "\n",
        "X_train['Age'] = impute_na(data, 'Age')\n",
        "X_test['Age'] = impute_na(data, 'Age')\n",
        "\n",
        "X_train['Fare'] = impute_na(data, 'Fare')\n",
        "X_test['Fare'] = impute_na(data, 'Fare')"
      ],
      "execution_count": 0,
      "outputs": []
    },
    {
      "cell_type": "code",
      "metadata": {
        "id": "74mvG55jKNzB",
        "colab_type": "code",
        "colab": {
          "base_uri": "https://localhost:8080/",
          "height": 281
        },
        "outputId": "3f8a7d7c-3128-4353-b82c-0a24d3e7f65c"
      },
      "source": [
        "# let's explore the distribution of age\n",
        "\n",
        "data[['Age', 'Fare']].hist(bins=30, figsize=(8,4))\n",
        "plt.show()"
      ],
      "execution_count": 7,
      "outputs": [
        {
          "output_type": "display_data",
          "data": {
            "image/png": "[encoded data removed]",
            "text/plain": [
              "<Figure size 576x288 with 2 Axes>"
            ]
          },
          "metadata": {
            "tags": []
          }
        }
      ]
    },
    {
      "cell_type": "markdown",
      "metadata": {
        "id": "9ptDW4kyKNzL",
        "colab_type": "text"
      },
      "source": [
        "## Equal width discretisation with pandas and NumPy\n",
        "\n",
        "First we need to determine the intervals' edges or limits."
      ]
    },
    {
      "cell_type": "code",
      "metadata": {
        "scrolled": true,
        "id": "NY1FTVYGKNzN",
        "colab_type": "code",
        "colab": {
          "base_uri": "https://localhost:8080/",
          "height": 34
        },
        "outputId": "f2640e02-cd79-4849-ff87-4edb589fc9ff"
      },
      "source": [
        "# let's capture the range of the variable age\n",
        "\n",
        "age_range = X_train['Age'].max() - X_train['Age'].min()\n",
        "\n",
        "age_range"
      ],
      "execution_count": 8,
      "outputs": [
        {
          "output_type": "execute_result",
          "data": {
            "text/plain": [
              "79.33"
            ]
          },
          "metadata": {
            "tags": []
          },
          "execution_count": 8
        }
      ]
    },
    {
      "cell_type": "code",
      "metadata": {
        "id": "g9fY-5BEKNzb",
        "colab_type": "code",
        "colab": {
          "base_uri": "https://localhost:8080/",
          "height": 34
        },
        "outputId": "d42ebd83-f337-48c5-f83b-e4da11224dbc"
      },
      "source": [
        "# let's divide the range into 10 equal width bins\n",
        "\n",
        "age_range / 10"
      ],
      "execution_count": 9,
      "outputs": [
        {
          "output_type": "execute_result",
          "data": {
            "text/plain": [
              "7.933"
            ]
          },
          "metadata": {
            "tags": []
          },
          "execution_count": 9
        }
      ]
    },
    {
      "cell_type": "markdown",
      "metadata": {
        "id": "zWnlgnujKNzm",
        "colab_type": "text"
      },
      "source": [
        "The range or width of our intervals will be 7 years."
      ]
    },
    {
      "cell_type": "code",
      "metadata": {
        "id": "lwGEN79qKNzo",
        "colab_type": "code",
        "colab": {
          "base_uri": "https://localhost:8080/",
          "height": 34
        },
        "outputId": "a4115090-15d5-444a-c902-7d86b853545a"
      },
      "source": [
        "# now let's capture the lower and upper boundaries\n",
        "\n",
        "min_value = int(np.floor( X_train['Age'].min()))\n",
        "max_value = int(np.ceil( X_train['Age'].max()))\n",
        "\n",
        "# let's round the bin width\n",
        "inter_value = int(np.round(age_range / 10))\n",
        "\n",
        "min_value, max_value, inter_value"
      ],
      "execution_count": 10,
      "outputs": [
        {
          "output_type": "execute_result",
          "data": {
            "text/plain": [
              "(0, 80, 8)"
            ]
          },
          "metadata": {
            "tags": []
          },
          "execution_count": 10
        }
      ]
    },
    {
      "cell_type": "code",
      "metadata": {
        "scrolled": false,
        "id": "sU-iDAM0KNz3",
        "colab_type": "code",
        "colab": {
          "base_uri": "https://localhost:8080/",
          "height": 34
        },
        "outputId": "8001a4d1-5478-4b6f-a0e9-c867cd052145"
      },
      "source": [
        "# let's capture the interval limits, so we can pass them to the pandas cut \n",
        "# function to generate the bins\n",
        "\n",
        "intervals = [i for i in range(min_value, max_value+inter_value, inter_value)]\n",
        "\n",
        "intervals"
      ],
      "execution_count": 11,
      "outputs": [
        {
          "output_type": "execute_result",
          "data": {
            "text/plain": [
              "[0, 8, 16, 24, 32, 40, 48, 56, 64, 72, 80]"
            ]
          },
          "metadata": {
            "tags": []
          },
          "execution_count": 11
        }
      ]
    },
    {
      "cell_type": "code",
      "metadata": {
        "id": "Eiys34ZiKN0D",
        "colab_type": "code",
        "colab": {
          "base_uri": "https://localhost:8080/",
          "height": 191
        },
        "outputId": "e14da20b-2cf8-42ea-82a0-67670266a5ff"
      },
      "source": [
        "# let's make labels to label the different bins\n",
        "\n",
        "labels = ['Bin_' + str(i) for i in range(1, len(intervals))]\n",
        "\n",
        "labels"
      ],
      "execution_count": 12,
      "outputs": [
        {
          "output_type": "execute_result",
          "data": {
            "text/plain": [
              "['Bin_1',\n",
              " 'Bin_2',\n",
              " 'Bin_3',\n",
              " 'Bin_4',\n",
              " 'Bin_5',\n",
              " 'Bin_6',\n",
              " 'Bin_7',\n",
              " 'Bin_8',\n",
              " 'Bin_9',\n",
              " 'Bin_10']"
            ]
          },
          "metadata": {
            "tags": []
          },
          "execution_count": 12
        }
      ]
    },
    {
      "cell_type": "code",
      "metadata": {
        "id": "8d_33RNBKN0R",
        "colab_type": "code",
        "colab": {
          "base_uri": "https://localhost:8080/",
          "height": 363
        },
        "outputId": "a24624bd-3ccc-4775-c228-e56b79862e36"
      },
      "source": [
        "# create binned age / discretise age\n",
        "\n",
        "# create one column with labels\n",
        "X_train['Age_disc_labels'] = pd.cut(x=X_train['Age'],\n",
        "                                    bins=intervals,\n",
        "                                    labels=labels,\n",
        "                                    include_lowest=True)\n",
        "\n",
        "# and one with bin boundaries\n",
        "X_train['Age_disc'] = pd.cut(x=X_train['Age'],\n",
        "                             bins=intervals,\n",
        "                             include_lowest=True)\n",
        "\n",
        "X_train.head(10)"
      ],
      "execution_count": 13,
      "outputs": [
        {
          "output_type": "execute_result",
          "data": {
            "text/html": [
              "<div>\n",
              "<style scoped>\n",
              "    .dataframe tbody tr th:only-of-type {\n",
              "        vertical-align: middle;\n",
              "    }\n",
              "\n",
              "    .dataframe tbody tr th {\n",
              "        vertical-align: top;\n",
              "    }\n",
              "\n",
              "    .dataframe thead th {\n",
              "        text-align: right;\n",
              "    }\n",
              "</style>\n",
              "<table border=\"1\" class=\"dataframe\">\n",
              "  <thead>\n",
              "    <tr style=\"text-align: right;\">\n",
              "      <th></th>\n",
              "      <th>Age</th>\n",
              "      <th>Fare</th>\n",
              "      <th>Age_disc_labels</th>\n",
              "      <th>Age_disc</th>\n",
              "    </tr>\n",
              "  </thead>\n",
              "  <tbody>\n",
              "    <tr>\n",
              "      <th>857</th>\n",
              "      <td>51.0</td>\n",
              "      <td>26.5500</td>\n",
              "      <td>Bin_7</td>\n",
              "      <td>(48.0, 56.0]</td>\n",
              "    </tr>\n",
              "    <tr>\n",
              "      <th>52</th>\n",
              "      <td>49.0</td>\n",
              "      <td>76.7292</td>\n",
              "      <td>Bin_7</td>\n",
              "      <td>(48.0, 56.0]</td>\n",
              "    </tr>\n",
              "    <tr>\n",
              "      <th>386</th>\n",
              "      <td>1.0</td>\n",
              "      <td>46.9000</td>\n",
              "      <td>Bin_1</td>\n",
              "      <td>(-0.001, 8.0]</td>\n",
              "    </tr>\n",
              "    <tr>\n",
              "      <th>124</th>\n",
              "      <td>54.0</td>\n",
              "      <td>77.2875</td>\n",
              "      <td>Bin_7</td>\n",
              "      <td>(48.0, 56.0]</td>\n",
              "    </tr>\n",
              "    <tr>\n",
              "      <th>578</th>\n",
              "      <td>14.5</td>\n",
              "      <td>14.4583</td>\n",
              "      <td>Bin_2</td>\n",
              "      <td>(8.0, 16.0]</td>\n",
              "    </tr>\n",
              "    <tr>\n",
              "      <th>549</th>\n",
              "      <td>8.0</td>\n",
              "      <td>36.7500</td>\n",
              "      <td>Bin_1</td>\n",
              "      <td>(-0.001, 8.0]</td>\n",
              "    </tr>\n",
              "    <tr>\n",
              "      <th>118</th>\n",
              "      <td>24.0</td>\n",
              "      <td>247.5208</td>\n",
              "      <td>Bin_3</td>\n",
              "      <td>(16.0, 24.0]</td>\n",
              "    </tr>\n",
              "    <tr>\n",
              "      <th>12</th>\n",
              "      <td>20.0</td>\n",
              "      <td>8.0500</td>\n",
              "      <td>Bin_3</td>\n",
              "      <td>(16.0, 24.0]</td>\n",
              "    </tr>\n",
              "    <tr>\n",
              "      <th>157</th>\n",
              "      <td>30.0</td>\n",
              "      <td>8.0500</td>\n",
              "      <td>Bin_4</td>\n",
              "      <td>(24.0, 32.0]</td>\n",
              "    </tr>\n",
              "    <tr>\n",
              "      <th>127</th>\n",
              "      <td>24.0</td>\n",
              "      <td>7.1417</td>\n",
              "      <td>Bin_3</td>\n",
              "      <td>(16.0, 24.0]</td>\n",
              "    </tr>\n",
              "  </tbody>\n",
              "</table>\n",
              "</div>"
            ],
            "text/plain": [
              "      Age      Fare Age_disc_labels       Age_disc\n",
              "857  51.0   26.5500           Bin_7   (48.0, 56.0]\n",
              "52   49.0   76.7292           Bin_7   (48.0, 56.0]\n",
              "386   1.0   46.9000           Bin_1  (-0.001, 8.0]\n",
              "124  54.0   77.2875           Bin_7   (48.0, 56.0]\n",
              "578  14.5   14.4583           Bin_2    (8.0, 16.0]\n",
              "549   8.0   36.7500           Bin_1  (-0.001, 8.0]\n",
              "118  24.0  247.5208           Bin_3   (16.0, 24.0]\n",
              "12   20.0    8.0500           Bin_3   (16.0, 24.0]\n",
              "157  30.0    8.0500           Bin_4   (24.0, 32.0]\n",
              "127  24.0    7.1417           Bin_3   (16.0, 24.0]"
            ]
          },
          "metadata": {
            "tags": []
          },
          "execution_count": 13
        }
      ]
    },
    {
      "cell_type": "markdown",
      "metadata": {
        "id": "76DmfgzUKN0b",
        "colab_type": "text"
      },
      "source": [
        "We can see in the above output how by discretising using equal width, we placed each Age observation within one interval / bin. For example, age=13 was placed in the 7-14 interval, whereas age 30 was placed into the 28-35 interval.\n",
        "\n",
        "When performing equal width discretisation, we guarantee that the intervals are all of the same lenght, however there won't necessarily be the same number of observations in each of the intervals. See below:"
      ]
    },
    {
      "cell_type": "code",
      "metadata": {
        "id": "MmmQQA4AKN0d",
        "colab_type": "code",
        "colab": {
          "base_uri": "https://localhost:8080/",
          "height": 225
        },
        "outputId": "9858c4cb-ad4f-4d52-8f67-c35525619f66"
      },
      "source": [
        "X_train.groupby('Age_disc')['Age'].count()"
      ],
      "execution_count": 14,
      "outputs": [
        {
          "output_type": "execute_result",
          "data": {
            "text/plain": [
              "Age_disc\n",
              "(-0.001, 8.0]     49\n",
              "(8.0, 16.0]       36\n",
              "(16.0, 24.0]     147\n",
              "(24.0, 32.0]     146\n",
              "(32.0, 40.0]     112\n",
              "(40.0, 48.0]      68\n",
              "(48.0, 56.0]      37\n",
              "(56.0, 64.0]      19\n",
              "(64.0, 72.0]       7\n",
              "(72.0, 80.0]       2\n",
              "Name: Age, dtype: int64"
            ]
          },
          "metadata": {
            "tags": []
          },
          "execution_count": 14
        }
      ]
    },
    {
      "cell_type": "code",
      "metadata": {
        "id": "_-Z63vYdKN0m",
        "colab_type": "code",
        "colab": {
          "base_uri": "https://localhost:8080/",
          "height": 338
        },
        "outputId": "6954d9e9-afe7-4af7-a66a-c8d9755f8c2c"
      },
      "source": [
        "X_train.groupby('Age_disc')['Age'].count().plot.bar()\n",
        "plt.xticks(rotation=45)\n",
        "plt.ylabel('Number of observations per bin')"
      ],
      "execution_count": 15,
      "outputs": [
        {
          "output_type": "execute_result",
          "data": {
            "text/plain": [
              "Text(0, 0.5, 'Number of observations per bin')"
            ]
          },
          "metadata": {
            "tags": []
          },
          "execution_count": 15
        },
        {
          "output_type": "display_data",
          "data": {
            "image/png": "[encoded data removed]",
            "text/plain": [
              "<Figure size 432x288 with 1 Axes>"
            ]
          },
          "metadata": {
            "tags": []
          }
        }
      ]
    },
    {
      "cell_type": "markdown",
      "metadata": {
        "id": "aJwZKPy0KN0z",
        "colab_type": "text"
      },
      "source": [
        "The majority of people on the Titanic were between 14-42 years of age.\n",
        "\n",
        "Now, we can discretise Age in the test set, using the same interval boundaries that we calculated for the train set:"
      ]
    },
    {
      "cell_type": "code",
      "metadata": {
        "id": "WWgJa8juKN01",
        "colab_type": "code",
        "colab": {
          "base_uri": "https://localhost:8080/",
          "height": 206
        },
        "outputId": "b9909108-936b-484e-ea32-f871837862f1"
      },
      "source": [
        "X_test['Age_disc_labels'] = pd.cut(x=X_test['Age'],\n",
        "                                   bins=intervals,\n",
        "                                   labels=labels,\n",
        "                                   include_lowest=True)\n",
        "\n",
        "X_test['Age_disc'] = pd.cut(x=X_test['Age'],\n",
        "                            bins=intervals,\n",
        "                            include_lowest=True)\n",
        "\n",
        "X_test.head()"
      ],
      "execution_count": 17,
      "outputs": [
        {
          "output_type": "execute_result",
          "data": {
            "text/html": [
              "<div>\n",
              "<style scoped>\n",
              "    .dataframe tbody tr th:only-of-type {\n",
              "        vertical-align: middle;\n",
              "    }\n",
              "\n",
              "    .dataframe tbody tr th {\n",
              "        vertical-align: top;\n",
              "    }\n",
              "\n",
              "    .dataframe thead th {\n",
              "        text-align: right;\n",
              "    }\n",
              "</style>\n",
              "<table border=\"1\" class=\"dataframe\">\n",
              "  <thead>\n",
              "    <tr style=\"text-align: right;\">\n",
              "      <th></th>\n",
              "      <th>Age</th>\n",
              "      <th>Fare</th>\n",
              "      <th>Age_disc_labels</th>\n",
              "      <th>Age_disc</th>\n",
              "    </tr>\n",
              "  </thead>\n",
              "  <tbody>\n",
              "    <tr>\n",
              "      <th>495</th>\n",
              "      <td>42.0</td>\n",
              "      <td>14.4583</td>\n",
              "      <td>Bin_6</td>\n",
              "      <td>(40.0, 48.0]</td>\n",
              "    </tr>\n",
              "    <tr>\n",
              "      <th>648</th>\n",
              "      <td>18.0</td>\n",
              "      <td>7.5500</td>\n",
              "      <td>Bin_3</td>\n",
              "      <td>(16.0, 24.0]</td>\n",
              "    </tr>\n",
              "    <tr>\n",
              "      <th>278</th>\n",
              "      <td>7.0</td>\n",
              "      <td>29.1250</td>\n",
              "      <td>Bin_1</td>\n",
              "      <td>(-0.001, 8.0]</td>\n",
              "    </tr>\n",
              "    <tr>\n",
              "      <th>31</th>\n",
              "      <td>35.0</td>\n",
              "      <td>146.5208</td>\n",
              "      <td>Bin_5</td>\n",
              "      <td>(32.0, 40.0]</td>\n",
              "    </tr>\n",
              "    <tr>\n",
              "      <th>255</th>\n",
              "      <td>29.0</td>\n",
              "      <td>15.2458</td>\n",
              "      <td>Bin_4</td>\n",
              "      <td>(24.0, 32.0]</td>\n",
              "    </tr>\n",
              "  </tbody>\n",
              "</table>\n",
              "</div>"
            ],
            "text/plain": [
              "      Age      Fare Age_disc_labels       Age_disc\n",
              "495  42.0   14.4583           Bin_6   (40.0, 48.0]\n",
              "648  18.0    7.5500           Bin_3   (16.0, 24.0]\n",
              "278   7.0   29.1250           Bin_1  (-0.001, 8.0]\n",
              "31   35.0  146.5208           Bin_5   (32.0, 40.0]\n",
              "255  29.0   15.2458           Bin_4   (24.0, 32.0]"
            ]
          },
          "metadata": {
            "tags": []
          },
          "execution_count": 17
        }
      ]
    },
    {
      "cell_type": "code",
      "metadata": {
        "id": "P5ESbxR6KN0_",
        "colab_type": "code",
        "colab": {
          "base_uri": "https://localhost:8080/",
          "height": 338
        },
        "outputId": "dd7b9c6b-69df-45d0-e70b-94d8a19df6ad"
      },
      "source": [
        "# if the distributions in train and test set are similar, we should expect similar propotion of\n",
        "# observations in the different intervals in the train and test set\n",
        "# let's see that below\n",
        "\n",
        "t1 = X_train.groupby(['Age_disc'])['Age'].count() / len(X_train)\n",
        "t2 = X_test.groupby(['Age_disc'])['Age'].count() / len(X_test)\n",
        "\n",
        "tmp = pd.concat([t1, t2], axis=1)\n",
        "tmp.columns = ['train', 'test']\n",
        "tmp.plot.bar()\n",
        "plt.xticks(rotation=45)\n",
        "plt.ylabel('Number of observations per bin')"
      ],
      "execution_count": 18,
      "outputs": [
        {
          "output_type": "execute_result",
          "data": {
            "text/plain": [
              "Text(0, 0.5, 'Number of observations per bin')"
            ]
          },
          "metadata": {
            "tags": []
          },
          "execution_count": 18
        },
        {
          "output_type": "display_data",
          "data": {
            "image/png": "[encoded data removed]",
            "text/plain": [
              "<Figure size 432x288 with 1 Axes>"
            ]
          },
          "metadata": {
            "tags": []
          }
        }
      ]
    },
    {
      "cell_type": "markdown",
      "metadata": {
        "id": "0dNPGFUjKN1F",
        "colab_type": "text"
      },
      "source": [
        "## Equal width discretisation with Feature-Engine"
      ]
    },
    {
      "cell_type": "code",
      "metadata": {
        "id": "8CXgAKBdKN1I",
        "colab_type": "code",
        "colab": {
          "base_uri": "https://localhost:8080/",
          "height": 34
        },
        "outputId": "d0085bcb-8fdc-41a4-b94c-8d8f582e3e0e"
      },
      "source": [
        "# Let's separate into train and test set\n",
        "\n",
        "X_train, X_test, y_train, y_test = train_test_split(\n",
        "    data[['Age', 'Fare']],\n",
        "    data['Survived'],\n",
        "    test_size=0.3,\n",
        "    random_state=0)\n",
        "\n",
        "X_train.shape, X_test.shape"
      ],
      "execution_count": 19,
      "outputs": [
        {
          "output_type": "execute_result",
          "data": {
            "text/plain": [
              "((623, 2), (268, 2))"
            ]
          },
          "metadata": {
            "tags": []
          },
          "execution_count": 19
        }
      ]
    },
    {
      "cell_type": "code",
      "metadata": {
        "id": "gjuHVYAXKN1Q",
        "colab_type": "code",
        "colab": {}
      },
      "source": [
        "# replace NA in both  train and test sets\n",
        "\n",
        "X_train['Age'] = impute_na(data, 'Age')\n",
        "X_test['Age'] = impute_na(data, 'Age')\n",
        "\n",
        "X_train['Fare'] = impute_na(data, 'Fare')\n",
        "X_test['Fare'] = impute_na(data, 'Fare')"
      ],
      "execution_count": 0,
      "outputs": []
    },
    {
      "cell_type": "code",
      "metadata": {
        "id": "67yn8rpyKN1X",
        "colab_type": "code",
        "colab": {
          "base_uri": "https://localhost:8080/",
          "height": 34
        },
        "outputId": "f19c5939-b033-446b-df48-2ebdde94a2ee"
      },
      "source": [
        "# with feature engine we can automate the process for many variables\n",
        "# in one line of code\n",
        "\n",
        "disc = EqualWidthDiscretiser(bins=10, variables = ['Age', 'Fare'])\n",
        "\n",
        "disc.fit(X_train)"
      ],
      "execution_count": 22,
      "outputs": [
        {
          "output_type": "execute_result",
          "data": {
            "text/plain": [
              "EqualWidthDiscretiser(bins=10, return_object=False, variables=['Age', 'Fare'])"
            ]
          },
          "metadata": {
            "tags": []
          },
          "execution_count": 22
        }
      ]
    },
    {
      "cell_type": "code",
      "metadata": {
        "id": "v84K1KDPKN1g",
        "colab_type": "code",
        "colab": {
          "base_uri": "https://localhost:8080/",
          "height": 399
        },
        "outputId": "2671b15d-6412-4a81-92bc-b405eb8d733b"
      },
      "source": [
        "# in the binner dict, we can see the limits of the intervals. For age\n",
        "# the value increases aproximately 7 years from one bin to the next.\n",
        "\n",
        "# for fare it increases in around 50 dollars from one interval to the \n",
        "# next, but it increases always the same value, aka, same width.\n",
        "\n",
        "disc.binner_dict_"
      ],
      "execution_count": 23,
      "outputs": [
        {
          "output_type": "execute_result",
          "data": {
            "text/plain": [
              "{'Age': [-inf,\n",
              "  8.603,\n",
              "  16.536,\n",
              "  24.469,\n",
              "  32.402,\n",
              "  40.335,\n",
              "  48.268,\n",
              "  56.201,\n",
              "  64.134,\n",
              "  72.067,\n",
              "  inf],\n",
              " 'Fare': [-inf,\n",
              "  51.23292,\n",
              "  102.46584,\n",
              "  153.69876,\n",
              "  204.93168,\n",
              "  256.1646,\n",
              "  307.39752,\n",
              "  358.63044,\n",
              "  409.86336,\n",
              "  461.09628,\n",
              "  inf]}"
            ]
          },
          "metadata": {
            "tags": []
          },
          "execution_count": 23
        }
      ]
    },
    {
      "cell_type": "code",
      "metadata": {
        "id": "Q6iabvywKN1n",
        "colab_type": "code",
        "colab": {}
      },
      "source": [
        "# transform train and text\n",
        "\n",
        "train_t = disc.transform(X_train)\n",
        "test_t = disc.transform(X_test)"
      ],
      "execution_count": 0,
      "outputs": []
    },
    {
      "cell_type": "code",
      "metadata": {
        "id": "gAjqrPL1KN1v",
        "colab_type": "code",
        "colab": {},
        "outputId": "2fb9dc34-a1ce-4fa1-f41b-b7b1325ecb4b"
      },
      "source": [
        "train_t.head()"
      ],
      "execution_count": 0,
      "outputs": [
        {
          "output_type": "execute_result",
          "data": {
            "text/html": [
              "<div>\n",
              "<style scoped>\n",
              "    .dataframe tbody tr th:only-of-type {\n",
              "        vertical-align: middle;\n",
              "    }\n",
              "\n",
              "    .dataframe tbody tr th {\n",
              "        vertical-align: top;\n",
              "    }\n",
              "\n",
              "    .dataframe thead th {\n",
              "        text-align: right;\n",
              "    }\n",
              "</style>\n",
              "<table border=\"1\" class=\"dataframe\">\n",
              "  <thead>\n",
              "    <tr style=\"text-align: right;\">\n",
              "      <th></th>\n",
              "      <th>age</th>\n",
              "      <th>fare</th>\n",
              "    </tr>\n",
              "  </thead>\n",
              "  <tbody>\n",
              "    <tr>\n",
              "      <th>501</th>\n",
              "      <td>1</td>\n",
              "      <td>0</td>\n",
              "    </tr>\n",
              "    <tr>\n",
              "      <th>588</th>\n",
              "      <td>0</td>\n",
              "      <td>0</td>\n",
              "    </tr>\n",
              "    <tr>\n",
              "      <th>402</th>\n",
              "      <td>4</td>\n",
              "      <td>0</td>\n",
              "    </tr>\n",
              "    <tr>\n",
              "      <th>1193</th>\n",
              "      <td>2</td>\n",
              "      <td>0</td>\n",
              "    </tr>\n",
              "    <tr>\n",
              "      <th>686</th>\n",
              "      <td>2</td>\n",
              "      <td>0</td>\n",
              "    </tr>\n",
              "  </tbody>\n",
              "</table>\n",
              "</div>"
            ],
            "text/plain": [
              "      age  fare\n",
              "501     1     0\n",
              "588     0     0\n",
              "402     4     0\n",
              "1193    2     0\n",
              "686     2     0"
            ]
          },
          "metadata": {
            "tags": []
          },
          "execution_count": 23
        }
      ]
    },
    {
      "cell_type": "code",
      "metadata": {
        "id": "3Uw_UVa6KN12",
        "colab_type": "code",
        "colab": {
          "base_uri": "https://localhost:8080/",
          "height": 296
        },
        "outputId": "b5f8d367-8f31-426e-f0fe-27a9252ba55f"
      },
      "source": [
        "t1 = train_t.groupby(['Age'])['Age'].count() / len(train_t)\n",
        "t2 = test_t.groupby(['Age'])['Age'].count() / len(test_t)\n",
        "\n",
        "tmp = pd.concat([t1, t2], axis=1)\n",
        "tmp.columns = ['train', 'test']\n",
        "tmp.plot.bar()\n",
        "plt.xticks(rotation=0)\n",
        "plt.ylabel('Number of observations per bin')"
      ],
      "execution_count": 25,
      "outputs": [
        {
          "output_type": "execute_result",
          "data": {
            "text/plain": [
              "Text(0, 0.5, 'Number of observations per bin')"
            ]
          },
          "metadata": {
            "tags": []
          },
          "execution_count": 25
        },
        {
          "output_type": "display_data",
          "data": {
            "image/png": "[encoded data removed]",
            "text/plain": [
              "<Figure size 432x288 with 1 Axes>"
            ]
          },
          "metadata": {
            "tags": []
          }
        }
      ]
    },
    {
      "cell_type": "code",
      "metadata": {
        "id": "78qk7rMlKN18",
        "colab_type": "code",
        "colab": {
          "base_uri": "https://localhost:8080/",
          "height": 296
        },
        "outputId": "8f17d32c-f07d-4109-c585-6c6b2e6511be"
      },
      "source": [
        "t1 = train_t.groupby(['Fare'])['Fare'].count() / len(train_t)\n",
        "t2 = test_t.groupby(['Fare'])['Fare'].count() / len(test_t)\n",
        "\n",
        "tmp = pd.concat([t1, t2], axis=1)\n",
        "tmp.columns = ['train', 'test']\n",
        "tmp.plot.bar()\n",
        "plt.xticks(rotation=0)\n",
        "plt.ylabel('Number of observations per bin')"
      ],
      "execution_count": 26,
      "outputs": [
        {
          "output_type": "execute_result",
          "data": {
            "text/plain": [
              "Text(0, 0.5, 'Number of observations per bin')"
            ]
          },
          "metadata": {
            "tags": []
          },
          "execution_count": 26
        },
        {
          "output_type": "display_data",
          "data": {
            "image/png": "[encoded data removed]",
            "text/plain": [
              "<Figure size 432x288 with 1 Axes>"
            ]
          },
          "metadata": {
            "tags": []
          }
        }
      ]
    },
    {
      "cell_type": "markdown",
      "metadata": {
        "collapsed": true,
        "id": "POKs2k4GKN2D",
        "colab_type": "text"
      },
      "source": [
        "We can see quite clearly, that equal width discretisation does not improve the value spread. The original variable Fare was skewed, and the discrete variable is also skewed.\n",
        "\n",
        "## Equal width discretisation with Scikit-learn"
      ]
    },
    {
      "cell_type": "code",
      "metadata": {
        "id": "sOGIDNDzKN2E",
        "colab_type": "code",
        "colab": {
          "base_uri": "https://localhost:8080/",
          "height": 34
        },
        "outputId": "4560cbd4-9503-4863-9892-8a19f36f42ab"
      },
      "source": [
        "# Let's separate into train and test set\n",
        "\n",
        "X_train, X_test, y_train, y_test = train_test_split(\n",
        "    data[['Age', 'Fare']],\n",
        "    data['Survived'],\n",
        "    test_size=0.3,\n",
        "    random_state=0)\n",
        "\n",
        "X_train.shape, X_test.shape"
      ],
      "execution_count": 27,
      "outputs": [
        {
          "output_type": "execute_result",
          "data": {
            "text/plain": [
              "((623, 2), (268, 2))"
            ]
          },
          "metadata": {
            "tags": []
          },
          "execution_count": 27
        }
      ]
    },
    {
      "cell_type": "code",
      "metadata": {
        "id": "kYzmgQPvKN2L",
        "colab_type": "code",
        "colab": {}
      },
      "source": [
        "# replace NA in both  train and test sets\n",
        "\n",
        "X_train['Age'] = impute_na(data, 'Age')\n",
        "X_test['Age'] = impute_na(data, 'Age')\n",
        "\n",
        "X_train['Fare'] = impute_na(data, 'Fare')\n",
        "X_test['Fare'] = impute_na(data, 'Fare')"
      ],
      "execution_count": 0,
      "outputs": []
    },
    {
      "cell_type": "code",
      "metadata": {
        "id": "hjdibTBtKN2U",
        "colab_type": "code",
        "colab": {
          "base_uri": "https://localhost:8080/",
          "height": 34
        },
        "outputId": "eb1413ca-1c53-4697-ccfd-0f57f51bae30"
      },
      "source": [
        "disc = KBinsDiscretizer(n_bins=10, encode='ordinal', strategy='uniform')\n",
        "\n",
        "disc.fit(X_train[['Age', 'Fare']])"
      ],
      "execution_count": 30,
      "outputs": [
        {
          "output_type": "execute_result",
          "data": {
            "text/plain": [
              "KBinsDiscretizer(encode='ordinal', n_bins=10, strategy='uniform')"
            ]
          },
          "metadata": {
            "tags": []
          },
          "execution_count": 30
        }
      ]
    },
    {
      "cell_type": "code",
      "metadata": {
        "id": "WdpSKd8FKN2c",
        "colab_type": "code",
        "colab": {
          "base_uri": "https://localhost:8080/",
          "height": 104
        },
        "outputId": "76d89ced-acb7-48b5-8577-4fcd9a30552a"
      },
      "source": [
        "disc.bin_edges_"
      ],
      "execution_count": 31,
      "outputs": [
        {
          "output_type": "execute_result",
          "data": {
            "text/plain": [
              "array([array([ 0.67 ,  8.603, 16.536, 24.469, 32.402, 40.335, 48.268, 56.201,\n",
              "       64.134, 72.067, 80.   ]),\n",
              "       array([  0.     ,  51.23292, 102.46584, 153.69876, 204.93168, 256.1646 ,\n",
              "       307.39752, 358.63044, 409.86336, 461.09628, 512.3292 ])],\n",
              "      dtype=object)"
            ]
          },
          "metadata": {
            "tags": []
          },
          "execution_count": 31
        }
      ]
    },
    {
      "cell_type": "code",
      "metadata": {
        "id": "G_oE13AKKN2h",
        "colab_type": "code",
        "colab": {
          "base_uri": "https://localhost:8080/",
          "height": 206
        },
        "outputId": "ac61fbb1-09ca-4568-971a-2dfdbf88abe2"
      },
      "source": [
        "train_t = disc.transform(X_train[['Age', 'Fare']])\n",
        "\n",
        "train_t = pd.DataFrame(train_t, columns = ['Age', 'Fare'])\n",
        "\n",
        "train_t.head()"
      ],
      "execution_count": 32,
      "outputs": [
        {
          "output_type": "execute_result",
          "data": {
            "text/html": [
              "<div>\n",
              "<style scoped>\n",
              "    .dataframe tbody tr th:only-of-type {\n",
              "        vertical-align: middle;\n",
              "    }\n",
              "\n",
              "    .dataframe tbody tr th {\n",
              "        vertical-align: top;\n",
              "    }\n",
              "\n",
              "    .dataframe thead th {\n",
              "        text-align: right;\n",
              "    }\n",
              "</style>\n",
              "<table border=\"1\" class=\"dataframe\">\n",
              "  <thead>\n",
              "    <tr style=\"text-align: right;\">\n",
              "      <th></th>\n",
              "      <th>Age</th>\n",
              "      <th>Fare</th>\n",
              "    </tr>\n",
              "  </thead>\n",
              "  <tbody>\n",
              "    <tr>\n",
              "      <th>0</th>\n",
              "      <td>6.0</td>\n",
              "      <td>0.0</td>\n",
              "    </tr>\n",
              "    <tr>\n",
              "      <th>1</th>\n",
              "      <td>6.0</td>\n",
              "      <td>1.0</td>\n",
              "    </tr>\n",
              "    <tr>\n",
              "      <th>2</th>\n",
              "      <td>0.0</td>\n",
              "      <td>0.0</td>\n",
              "    </tr>\n",
              "    <tr>\n",
              "      <th>3</th>\n",
              "      <td>6.0</td>\n",
              "      <td>1.0</td>\n",
              "    </tr>\n",
              "    <tr>\n",
              "      <th>4</th>\n",
              "      <td>8.0</td>\n",
              "      <td>0.0</td>\n",
              "    </tr>\n",
              "  </tbody>\n",
              "</table>\n",
              "</div>"
            ],
            "text/plain": [
              "   Age  Fare\n",
              "0  6.0   0.0\n",
              "1  6.0   1.0\n",
              "2  0.0   0.0\n",
              "3  6.0   1.0\n",
              "4  8.0   0.0"
            ]
          },
          "metadata": {
            "tags": []
          },
          "execution_count": 32
        }
      ]
    },
    {
      "cell_type": "code",
      "metadata": {
        "id": "SafhDGVkKN2o",
        "colab_type": "code",
        "colab": {}
      },
      "source": [
        "test_t = disc.transform(X_test[['Age', 'Fare']])\n",
        "\n",
        "test_t = pd.DataFrame(test_t, columns = ['Age', 'Fare'])"
      ],
      "execution_count": 0,
      "outputs": []
    },
    {
      "cell_type": "code",
      "metadata": {
        "id": "oRB2kNVrKN2t",
        "colab_type": "code",
        "colab": {
          "base_uri": "https://localhost:8080/",
          "height": 296
        },
        "outputId": "708761a4-8a88-43e7-bbd1-460989fa97d2"
      },
      "source": [
        "t1 = train_t.groupby(['Age'])['Age'].count() / len(train_t)\n",
        "t2 = test_t.groupby(['Age'])['Age'].count() / len(test_t)\n",
        "\n",
        "tmp = pd.concat([t1, t2], axis=1)\n",
        "tmp.columns = ['train', 'test']\n",
        "tmp.plot.bar()\n",
        "plt.xticks(rotation=0)\n",
        "plt.ylabel('Number of observations per bin')"
      ],
      "execution_count": 34,
      "outputs": [
        {
          "output_type": "execute_result",
          "data": {
            "text/plain": [
              "Text(0, 0.5, 'Number of observations per bin')"
            ]
          },
          "metadata": {
            "tags": []
          },
          "execution_count": 34
        },
        {
          "output_type": "display_data",
          "data": {
            "image/png": "[encoded data removed]",
            "text/plain": [
              "<Figure size 432x288 with 1 Axes>"
            ]
          },
          "metadata": {
            "tags": []
          }
        }
      ]
    },
    {
      "cell_type": "code",
      "metadata": {
        "id": "clR6mKzUKN2y",
        "colab_type": "code",
        "colab": {
          "base_uri": "https://localhost:8080/",
          "height": 296
        },
        "outputId": "567bb73e-87d0-44d5-cce2-5296127368a3"
      },
      "source": [
        "t1 = train_t.groupby(['Fare'])['Fare'].count() / len(train_t)\n",
        "t2 = test_t.groupby(['Fare'])['Fare'].count() / len(test_t)\n",
        "\n",
        "tmp = pd.concat([t1, t2], axis=1)\n",
        "tmp.columns = ['train', 'test']\n",
        "tmp.plot.bar()\n",
        "plt.xticks(rotation=0)\n",
        "plt.ylabel('Number of observations per bin')"
      ],
      "execution_count": 36,
      "outputs": [
        {
          "output_type": "execute_result",
          "data": {
            "text/plain": [
              "Text(0, 0.5, 'Number of observations per bin')"
            ]
          },
          "metadata": {
            "tags": []
          },
          "execution_count": 36
        },
        {
          "output_type": "display_data",
          "data": {
            "image/png": "[encoded data removed]",
            "text/plain": [
              "<Figure size 432x288 with 1 Axes>"
            ]
          },
          "metadata": {
            "tags": []
          }
        }
      ]
    },
    {
      "cell_type": "code",
      "metadata": {
        "id": "4xqbNn6wKN23",
        "colab_type": "code",
        "colab": {}
      },
      "source": [
        ""
      ],
      "execution_count": 0,
      "outputs": []
    }
  ]
}