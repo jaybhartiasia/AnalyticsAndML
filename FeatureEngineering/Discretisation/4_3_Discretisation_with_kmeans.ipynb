{
  "nbformat": 4,
  "nbformat_minor": 0,
  "metadata": {
    "kernelspec": {
      "display_name": "feml",
      "language": "python",
      "name": "feml"
    },
    "language_info": {
      "codemirror_mode": {
        "name": "ipython",
        "version": 3
      },
      "file_extension": ".py",
      "mimetype": "text/x-python",
      "name": "python",
      "nbconvert_exporter": "python",
      "pygments_lexer": "ipython3",
      "version": "3.7.3"
    },
    "toc": {
      "base_numbering": 1,
      "nav_menu": {},
      "number_sections": true,
      "sideBar": true,
      "skip_h1_title": false,
      "title_cell": "Table of Contents",
      "title_sidebar": "Contents",
      "toc_cell": false,
      "toc_position": {},
      "toc_section_display": "block",
      "toc_window_display": true
    },
    "colab": {
      "name": "4.3 Discretisation-with-kmeans.ipynb",
      "provenance": [],
      "include_colab_link": true
    }
  },
  "cells": [
    {
      "cell_type": "markdown",
      "metadata": {
        "id": "view-in-github",
        "colab_type": "text"
      },
      "source": [
        "<a href=\"https://colab.research.google.com/github/vinay10949/AnalyticsAndML/blob/master/FeatureEngineering/Discretisation/4_3_Discretisation_with_kmeans.ipynb\" target=\"_parent\"><img src=\"https://colab.research.google.com/assets/colab-badge.svg\" alt=\"Open In Colab\"/></a>"
      ]
    },
    {
      "cell_type": "markdown",
      "metadata": {
        "id": "bd6_YYjHTkBI",
        "colab_type": "text"
      },
      "source": [
        "## Discretisation with k-means clustering\n",
        "\n",
        "This discretisation method consists in applying k-means clustering to the continuous variable.\n",
        "\n",
        "Briefly, the algorithm works as follows:\n",
        "\n",
        "- 1) Initialization: random creation of K centers\n",
        "- 2) Each data point is associated with the closest center\n",
        "- 3) Each center position is re-computed as the center of its associated points\n",
        "\n",
        "Steps 2 and 3 are repeated until convergence is reached. The algorithm minimises the pairwise squared deviations of points within the same cluster.\n",
        "\n",
        "More details about k-means [here](https://en.wikipedia.org/wiki/K-means_clustering)\n",
        "\n",
        "Nice blog with graphical explanation of k-means [here](https://towardsdatascience.com/how-does-k-means-clustering-in-machine-learning-work-fdaaaf5acfa0) \n",
        "\n",
        "Note that the user, needs to define the number of clusters, as with equal width and equal frequency discretisation.\n",
        "\n",
        "## Opinion of the instructor\n",
        "\n",
        "I personally don't see how this technique is different from equal width discretisation, when the variables are continuous throughout the value range. Potentially it would make a different if the values were arranged in real clusters.\n",
        "\n",
        "So my recommendation is, unless you have reasons to believe that the values of the variable are organised in clusters, then use equal width discretisation as an alternative to this method.\n",
        "\n"
      ]
    },
    {
      "cell_type": "markdown",
      "metadata": {
        "id": "mq8-40WLTkBU",
        "colab_type": "text"
      },
      "source": [
        "## Titanic dataset"
      ]
    },
    {
      "cell_type": "code",
      "metadata": {
        "id": "xdW4oshhTkBc",
        "colab_type": "code",
        "colab": {}
      },
      "source": [
        "import pandas as pd\n",
        "import numpy as np\n",
        "\n",
        "import matplotlib.pyplot as plt\n",
        "\n",
        "from sklearn.model_selection import train_test_split\n",
        "\n",
        "from sklearn.preprocessing import KBinsDiscretizer"
      ],
      "execution_count": 0,
      "outputs": []
    },
    {
      "cell_type": "code",
      "metadata": {
        "id": "Gdk7vmTITkB4",
        "colab_type": "code",
        "colab": {
          "base_uri": "https://localhost:8080/",
          "height": 206
        },
        "outputId": "5f6bf1fe-5461-4bf6-e63e-ed17075b61d4"
      },
      "source": [
        "# load the numerical variables of the Titanic Dataset\n",
        "\n",
        "data = pd.read_csv('titanic_train.csv',\n",
        "                   usecols=['Age', 'Fare', 'Survived'])\n",
        "\n",
        "data.head()"
      ],
      "execution_count": 2,
      "outputs": [
        {
          "output_type": "execute_result",
          "data": {
            "text/html": [
              "<div>\n",
              "<style scoped>\n",
              "    .dataframe tbody tr th:only-of-type {\n",
              "        vertical-align: middle;\n",
              "    }\n",
              "\n",
              "    .dataframe tbody tr th {\n",
              "        vertical-align: top;\n",
              "    }\n",
              "\n",
              "    .dataframe thead th {\n",
              "        text-align: right;\n",
              "    }\n",
              "</style>\n",
              "<table border=\"1\" class=\"dataframe\">\n",
              "  <thead>\n",
              "    <tr style=\"text-align: right;\">\n",
              "      <th></th>\n",
              "      <th>Survived</th>\n",
              "      <th>Age</th>\n",
              "      <th>Fare</th>\n",
              "    </tr>\n",
              "  </thead>\n",
              "  <tbody>\n",
              "    <tr>\n",
              "      <th>0</th>\n",
              "      <td>0</td>\n",
              "      <td>22.0</td>\n",
              "      <td>7.2500</td>\n",
              "    </tr>\n",
              "    <tr>\n",
              "      <th>1</th>\n",
              "      <td>1</td>\n",
              "      <td>38.0</td>\n",
              "      <td>71.2833</td>\n",
              "    </tr>\n",
              "    <tr>\n",
              "      <th>2</th>\n",
              "      <td>1</td>\n",
              "      <td>26.0</td>\n",
              "      <td>7.9250</td>\n",
              "    </tr>\n",
              "    <tr>\n",
              "      <th>3</th>\n",
              "      <td>1</td>\n",
              "      <td>35.0</td>\n",
              "      <td>53.1000</td>\n",
              "    </tr>\n",
              "    <tr>\n",
              "      <th>4</th>\n",
              "      <td>0</td>\n",
              "      <td>35.0</td>\n",
              "      <td>8.0500</td>\n",
              "    </tr>\n",
              "  </tbody>\n",
              "</table>\n",
              "</div>"
            ],
            "text/plain": [
              "   Survived   Age     Fare\n",
              "0         0  22.0   7.2500\n",
              "1         1  38.0  71.2833\n",
              "2         1  26.0   7.9250\n",
              "3         1  35.0  53.1000\n",
              "4         0  35.0   8.0500"
            ]
          },
          "metadata": {
            "tags": []
          },
          "execution_count": 2
        }
      ]
    },
    {
      "cell_type": "code",
      "metadata": {
        "id": "4rS5giAzTkCM",
        "colab_type": "code",
        "colab": {
          "base_uri": "https://localhost:8080/",
          "height": 34
        },
        "outputId": "63b7c2ed-368d-42f6-96bb-f7316d6e2068"
      },
      "source": [
        "# Let's separate into train and test set\n",
        "\n",
        "X_train, X_test, y_train, y_test = train_test_split(\n",
        "    data[['Age', 'Fare']],\n",
        "    data['Survived'],\n",
        "    test_size=0.3,\n",
        "    random_state=0)\n",
        "\n",
        "X_train.shape, X_test.shape"
      ],
      "execution_count": 3,
      "outputs": [
        {
          "output_type": "execute_result",
          "data": {
            "text/plain": [
              "((623, 2), (268, 2))"
            ]
          },
          "metadata": {
            "tags": []
          },
          "execution_count": 3
        }
      ]
    },
    {
      "cell_type": "markdown",
      "metadata": {
        "id": "63GK9VpRTkCe",
        "colab_type": "text"
      },
      "source": [
        "The variables Age and Fare contain missing data, that I will fill by extracting a random sample of the variable."
      ]
    },
    {
      "cell_type": "code",
      "metadata": {
        "id": "VAAntUFPTkCi",
        "colab_type": "code",
        "colab": {}
      },
      "source": [
        "def impute_na(data, variable):\n",
        "    # function to fill NA with a random sample\n",
        "\n",
        "    df = data.copy()\n",
        "\n",
        "    # random sampling\n",
        "    df[variable+'_random'] = df[variable]\n",
        "\n",
        "    # extract the random sample to fill the na\n",
        "    random_sample = X_train[variable].dropna().sample(\n",
        "        df[variable].isnull().sum(), random_state=0)\n",
        "\n",
        "    # pandas needs to have the same index in order to merge datasets\n",
        "    random_sample.index = df[df[variable].isnull()].index\n",
        "    df.loc[df[variable].isnull(), variable+'_random'] = random_sample\n",
        "\n",
        "    return df[variable+'_random']"
      ],
      "execution_count": 0,
      "outputs": []
    },
    {
      "cell_type": "code",
      "metadata": {
        "id": "2L1h36f-TkC0",
        "colab_type": "code",
        "colab": {}
      },
      "source": [
        "# replace NA in both train and test sets\n",
        "\n",
        "X_train['Age'] = impute_na(data, 'Age')\n",
        "X_test['Age'] = impute_na(data, 'Age')\n",
        "\n",
        "X_train['Fare'] = impute_na(data, 'Fare')\n",
        "X_test['Fare'] = impute_na(data, 'Fare')"
      ],
      "execution_count": 0,
      "outputs": []
    },
    {
      "cell_type": "code",
      "metadata": {
        "id": "lfksUlSpTkDB",
        "colab_type": "code",
        "colab": {
          "base_uri": "https://localhost:8080/",
          "height": 281
        },
        "outputId": "e5e2670d-4944-4828-914e-f8f2f25e5aa8"
      },
      "source": [
        "# let's explore the distribution of age\n",
        "\n",
        "X_train[['Age', 'Fare']].hist(bins=30, figsize=(8,4))\n",
        "plt.show()"
      ],
      "execution_count": 6,
      "outputs": [
        {
          "output_type": "display_data",
          "data": {
            "image/png": "[encoded data removed]",
            "text/plain": [
              "<Figure size 576x288 with 2 Axes>"
            ]
          },
          "metadata": {
            "tags": []
          }
        }
      ]
    },
    {
      "cell_type": "markdown",
      "metadata": {
        "id": "hPdJQnQhTkDQ",
        "colab_type": "text"
      },
      "source": [
        "## Equal frequency discretisation with Scikit-learn"
      ]
    },
    {
      "cell_type": "code",
      "metadata": {
        "id": "MiRkhldCTkDV",
        "colab_type": "code",
        "colab": {
          "base_uri": "https://localhost:8080/",
          "height": 124
        },
        "outputId": "1b9b7bca-5509-401c-b092-622ced2cf23d"
      },
      "source": [
        "disc = KBinsDiscretizer(n_bins=5, encode='ordinal', strategy='kmeans')\n",
        "\n",
        "disc.fit(X_train[['Age', 'Fare']])"
      ],
      "execution_count": 7,
      "outputs": [
        {
          "output_type": "stream",
          "text": [
            "/usr/local/lib/python3.6/dist-packages/sklearn/preprocessing/_discretization.py:184: ConvergenceWarning: Number of distinct clusters (4) found smaller than n_clusters (5). Possibly due to duplicate points in X.\n",
            "  centers = km.fit(column[:, None]).cluster_centers_[:, 0]\n",
            "/usr/local/lib/python3.6/dist-packages/sklearn/preprocessing/_discretization.py:197: UserWarning: Bins whose width are too small (i.e., <= 1e-8) in feature 1 are removed. Consider decreasing the number of bins.\n",
            "  'decreasing the number of bins.' % jj)\n"
          ],
          "name": "stderr"
        },
        {
          "output_type": "execute_result",
          "data": {
            "text/plain": [
              "KBinsDiscretizer(encode='ordinal', n_bins=5, strategy='kmeans')"
            ]
          },
          "metadata": {
            "tags": []
          },
          "execution_count": 7
        }
      ]
    },
    {
      "cell_type": "code",
      "metadata": {
        "id": "6fArbUn3TkDn",
        "colab_type": "code",
        "colab": {
          "base_uri": "https://localhost:8080/",
          "height": 86
        },
        "outputId": "cee1e932-1a52-4cd1-f7b1-760a32924dee"
      },
      "source": [
        "disc.bin_edges_"
      ],
      "execution_count": 8,
      "outputs": [
        {
          "output_type": "execute_result",
          "data": {
            "text/plain": [
              "array([array([ 0.67      , 13.20182909, 27.15587123, 39.32101009, 53.29754792,\n",
              "       80.        ]),\n",
              "       array([  0.        ,  47.88407617, 153.5736125 , 369.65331667,\n",
              "       512.3292    ])], dtype=object)"
            ]
          },
          "metadata": {
            "tags": []
          },
          "execution_count": 8
        }
      ]
    },
    {
      "cell_type": "code",
      "metadata": {
        "id": "wH2mqt_kTkD3",
        "colab_type": "code",
        "colab": {
          "base_uri": "https://localhost:8080/",
          "height": 206
        },
        "outputId": "2e2adc62-8148-4349-98e5-e32908d4cadb"
      },
      "source": [
        "train_t = disc.transform(X_train[['Age', 'Fare']])\n",
        "\n",
        "train_t = pd.DataFrame(train_t, columns = ['Age', 'Fare'])\n",
        "\n",
        "train_t.head()"
      ],
      "execution_count": 9,
      "outputs": [
        {
          "output_type": "execute_result",
          "data": {
            "text/html": [
              "<div>\n",
              "<style scoped>\n",
              "    .dataframe tbody tr th:only-of-type {\n",
              "        vertical-align: middle;\n",
              "    }\n",
              "\n",
              "    .dataframe tbody tr th {\n",
              "        vertical-align: top;\n",
              "    }\n",
              "\n",
              "    .dataframe thead th {\n",
              "        text-align: right;\n",
              "    }\n",
              "</style>\n",
              "<table border=\"1\" class=\"dataframe\">\n",
              "  <thead>\n",
              "    <tr style=\"text-align: right;\">\n",
              "      <th></th>\n",
              "      <th>Age</th>\n",
              "      <th>Fare</th>\n",
              "    </tr>\n",
              "  </thead>\n",
              "  <tbody>\n",
              "    <tr>\n",
              "      <th>0</th>\n",
              "      <td>3.0</td>\n",
              "      <td>0.0</td>\n",
              "    </tr>\n",
              "    <tr>\n",
              "      <th>1</th>\n",
              "      <td>3.0</td>\n",
              "      <td>1.0</td>\n",
              "    </tr>\n",
              "    <tr>\n",
              "      <th>2</th>\n",
              "      <td>0.0</td>\n",
              "      <td>0.0</td>\n",
              "    </tr>\n",
              "    <tr>\n",
              "      <th>3</th>\n",
              "      <td>4.0</td>\n",
              "      <td>1.0</td>\n",
              "    </tr>\n",
              "    <tr>\n",
              "      <th>4</th>\n",
              "      <td>1.0</td>\n",
              "      <td>0.0</td>\n",
              "    </tr>\n",
              "  </tbody>\n",
              "</table>\n",
              "</div>"
            ],
            "text/plain": [
              "   Age  Fare\n",
              "0  3.0   0.0\n",
              "1  3.0   1.0\n",
              "2  0.0   0.0\n",
              "3  4.0   1.0\n",
              "4  1.0   0.0"
            ]
          },
          "metadata": {
            "tags": []
          },
          "execution_count": 9
        }
      ]
    },
    {
      "cell_type": "code",
      "metadata": {
        "id": "J2BKliwKTkEG",
        "colab_type": "code",
        "colab": {}
      },
      "source": [
        "test_t = disc.transform(X_test[['Age', 'Fare']])\n",
        "\n",
        "test_t = pd.DataFrame(test_t, columns = ['Age', 'Fare'])"
      ],
      "execution_count": 0,
      "outputs": []
    },
    {
      "cell_type": "code",
      "metadata": {
        "id": "-2hz1y1KTkEW",
        "colab_type": "code",
        "colab": {
          "base_uri": "https://localhost:8080/",
          "height": 296
        },
        "outputId": "87c3b3ac-980b-4d84-cf68-afc586339ce6"
      },
      "source": [
        "t1 = train_t.groupby(['Age'])['Age'].count() / len(train_t)\n",
        "t2 = test_t.groupby(['Age'])['Age'].count() / len(test_t)\n",
        "\n",
        "tmp = pd.concat([t1, t2], axis=1)\n",
        "tmp.columns = ['train', 'test']\n",
        "tmp.plot.bar()\n",
        "plt.xticks(rotation=0)\n",
        "plt.ylabel('Number of observations per bin')"
      ],
      "execution_count": 12,
      "outputs": [
        {
          "output_type": "execute_result",
          "data": {
            "text/plain": [
              "Text(0, 0.5, 'Number of observations per bin')"
            ]
          },
          "metadata": {
            "tags": []
          },
          "execution_count": 12
        },
        {
          "output_type": "display_data",
          "data": {
            "image/png": "[encoded data removed]",
            "text/plain": [
              "<Figure size 432x288 with 1 Axes>"
            ]
          },
          "metadata": {
            "tags": []
          }
        }
      ]
    },
    {
      "cell_type": "code",
      "metadata": {
        "id": "A9rnmjmRTkEk",
        "colab_type": "code",
        "colab": {
          "base_uri": "https://localhost:8080/",
          "height": 296
        },
        "outputId": "49c70e18-48e9-4350-9170-dce1256b9767"
      },
      "source": [
        "t1 = train_t.groupby(['Fare'])['Fare'].count() / len(train_t)\n",
        "t2 = test_t.groupby(['Fare'])['Fare'].count() / len(test_t)\n",
        "\n",
        "tmp = pd.concat([t1, t2], axis=1)\n",
        "tmp.columns = ['train', 'test']\n",
        "tmp.plot.bar()\n",
        "plt.xticks(rotation=0)\n",
        "plt.ylabel('Number of observations per bin')"
      ],
      "execution_count": 13,
      "outputs": [
        {
          "output_type": "execute_result",
          "data": {
            "text/plain": [
              "Text(0, 0.5, 'Number of observations per bin')"
            ]
          },
          "metadata": {
            "tags": []
          },
          "execution_count": 13
        },
        {
          "output_type": "display_data",
          "data": {
            "image/png": "[encoded data removed]",
            "text/plain": [
              "<Figure size 432x288 with 1 Axes>"
            ]
          },
          "metadata": {
            "tags": []
          }
        }
      ]
    },
    {
      "cell_type": "code",
      "metadata": {
        "id": "bD5ug8o7TkEs",
        "colab_type": "code",
        "colab": {}
      },
      "source": [
        ""
      ],
      "execution_count": 0,
      "outputs": []
    }
  ]
}