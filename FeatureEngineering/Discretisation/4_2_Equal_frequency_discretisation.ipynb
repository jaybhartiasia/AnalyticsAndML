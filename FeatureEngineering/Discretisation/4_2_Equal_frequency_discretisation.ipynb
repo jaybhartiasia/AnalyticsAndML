{
  "nbformat": 4,
  "nbformat_minor": 0,
  "metadata": {
    "kernelspec": {
      "display_name": "feml",
      "language": "python",
      "name": "feml"
    },
    "language_info": {
      "codemirror_mode": {
        "name": "ipython",
        "version": 3
      },
      "file_extension": ".py",
      "mimetype": "text/x-python",
      "name": "python",
      "nbconvert_exporter": "python",
      "pygments_lexer": "ipython3",
      "version": "3.7.3"
    },
    "toc": {
      "base_numbering": 1,
      "nav_menu": {},
      "number_sections": true,
      "sideBar": true,
      "skip_h1_title": false,
      "title_cell": "Table of Contents",
      "title_sidebar": "Contents",
      "toc_cell": false,
      "toc_position": {},
      "toc_section_display": "block",
      "toc_window_display": true
    },
    "colab": {
      "name": "4.2 Equal-frequency-discretisation.ipynb",
      "provenance": [],
      "include_colab_link": true
    }
  },
  "cells": [
    {
      "cell_type": "markdown",
      "metadata": {
        "id": "view-in-github",
        "colab_type": "text"
      },
      "source": [
        "<a href=\"https://colab.research.google.com/github/vinay10949/AnalyticsAndML/blob/master/FeatureEngineering/Discretisation/4_2_Equal_frequency_discretisation.ipynb\" target=\"_parent\"><img src=\"https://colab.research.google.com/assets/colab-badge.svg\" alt=\"Open In Colab\"/></a>"
      ]
    },
    {
      "cell_type": "markdown",
      "metadata": {
        "id": "qYHKn3c2O2BQ",
        "colab_type": "text"
      },
      "source": [
        "## Discretisation\n",
        "\n",
        "Discretisation is the process of transforming continuous variables into discrete variables by creating a set of contiguous intervals that span the range of the variable's values. Discretisation is also called **binning**, where bin is an alternative name for interval.\n",
        "\n",
        "\n",
        "### Discretisation helps handle outliers and may improve value spread in skewed variables\n",
        "\n",
        "Discretisation helps handle outliers by placing these values into the lower or higher intervals, together with the remaining inlier values of the distribution. Thus, these outlier observations no longer differ from the rest of the values at the tails of the distribution, as they are now all together in the same interval / bucket. In addition, by creating appropriate bins or intervals, discretisation can help spread the values of a skewed variable across a set of bins with equal number of observations.\n",
        "\n",
        "\n",
        "### Discretisation approaches\n",
        "\n",
        "There are several approaches to transform continuous variables into discrete ones. Discretisation methods fall into 2 categories: **supervised and unsupervised**. Unsupervised methods do not use any information, other than the variable distribution, to create the contiguous bins in which the values will be placed. Supervised methods typically use target information in order to create the bins or intervals.\n",
        "\n",
        "\n",
        "####  Unsupervised discretisation methods\n",
        "\n",
        "- Equal width discretisation\n",
        "- Equal frequency discretisation\n",
        "- K-means discretisation\n",
        "\n",
        "#### Supervised discretisation methods\n",
        "\n",
        "- Discretisation using decision trees\n",
        "\n",
        "\n",
        "In this lecture, I will describe **equal frequency discretisation**.\n",
        "\n",
        "\n",
        "## Equal frequency discretisation\n",
        "\n",
        "Equal frequency discretisation divides the scope of possible values of the variable into N bins, where each bin carries the same amount of observations. This is particularly useful for skewed variables as it spreads the observations over the different bins equally. We find the interval boundaries by determining the quantiles.\n",
        "\n",
        "Equal frequency discretisation using quantiles consists of dividing the continuous variable into N quantiles, N to be defined by the user.\n",
        "\n",
        "Equal frequency binning is straightforward to implement and by spreading the values of the observations more evenly it may help boost the algorithm's performance. This arbitrary binning may also disrupt the relationship with the target.\n"
      ]
    },
    {
      "cell_type": "markdown",
      "metadata": {
        "id": "zAyoy7IkO2Bd",
        "colab_type": "text"
      },
      "source": [
        "## Titanic dataset"
      ]
    },
    {
      "cell_type": "code",
      "metadata": {
        "id": "WMkwV0MgO2Bn",
        "colab_type": "code",
        "colab": {
          "base_uri": "https://localhost:8080/",
          "height": 714
        },
        "outputId": "3bab6b1a-6d23-478c-8330-b83f3c57924f"
      },
      "source": [
        "!pip install feature_engine\n",
        "import pandas as pd\n",
        "import numpy as np\n",
        "\n",
        "import matplotlib.pyplot as plt\n",
        "\n",
        "from sklearn.model_selection import train_test_split\n",
        "\n",
        "from sklearn.preprocessing import KBinsDiscretizer\n",
        "\n",
        "from feature_engine.discretisers import EqualFrequencyDiscretiser"
      ],
      "execution_count": 1,
      "outputs": [
        {
          "output_type": "stream",
          "text": [
            "Collecting feature_engine\n",
            "  Downloading https://files.pythonhosted.org/packages/b3/0f/7f7f60195879fc487aeaecba343f02c6f4426bc239b378b73655d40c1d06/feature_engine-0.3.1-py3-none-any.whl\n",
            "Collecting numpydoc>=0.6.0\n",
            "  Downloading https://files.pythonhosted.org/packages/b0/70/4d8c3f9f6783a57ac9cc7a076e5610c0cc4a96af543cafc9247ac307fbfe/numpydoc-0.9.2.tar.gz\n",
            "Requirement already satisfied: numpy>=1.12.1 in /usr/local/lib/python3.6/dist-packages (from feature_engine) (1.17.5)\n",
            "Requirement already satisfied: statsmodels>=0.8.0 in /usr/local/lib/python3.6/dist-packages (from feature_engine) (0.10.2)\n",
            "Requirement already satisfied: pandas>=0.23.0 in /usr/local/lib/python3.6/dist-packages (from feature_engine) (0.25.3)\n",
            "Requirement already satisfied: scikit-learn>=0.18.1 in /usr/local/lib/python3.6/dist-packages (from feature_engine) (0.22.1)\n",
            "Requirement already satisfied: scipy>=0.19.0 in /usr/local/lib/python3.6/dist-packages (from feature_engine) (1.4.1)\n",
            "Requirement already satisfied: sphinx>=1.6.5 in /usr/local/lib/python3.6/dist-packages (from numpydoc>=0.6.0->feature_engine) (1.8.5)\n",
            "Requirement already satisfied: Jinja2>=2.3 in /usr/local/lib/python3.6/dist-packages (from numpydoc>=0.6.0->feature_engine) (2.11.1)\n",
            "Requirement already satisfied: patsy>=0.4.0 in /usr/local/lib/python3.6/dist-packages (from statsmodels>=0.8.0->feature_engine) (0.5.1)\n",
            "Requirement already satisfied: python-dateutil>=2.6.1 in /usr/local/lib/python3.6/dist-packages (from pandas>=0.23.0->feature_engine) (2.6.1)\n",
            "Requirement already satisfied: pytz>=2017.2 in /usr/local/lib/python3.6/dist-packages (from pandas>=0.23.0->feature_engine) (2018.9)\n",
            "Requirement already satisfied: joblib>=0.11 in /usr/local/lib/python3.6/dist-packages (from scikit-learn>=0.18.1->feature_engine) (0.14.1)\n",
            "Requirement already satisfied: packaging in /usr/local/lib/python3.6/dist-packages (from sphinx>=1.6.5->numpydoc>=0.6.0->feature_engine) (20.1)\n",
            "Requirement already satisfied: sphinxcontrib-websupport in /usr/local/lib/python3.6/dist-packages (from sphinx>=1.6.5->numpydoc>=0.6.0->feature_engine) (1.1.2)\n",
            "Requirement already satisfied: requests>=2.0.0 in /usr/local/lib/python3.6/dist-packages (from sphinx>=1.6.5->numpydoc>=0.6.0->feature_engine) (2.21.0)\n",
            "Requirement already satisfied: six>=1.5 in /usr/local/lib/python3.6/dist-packages (from sphinx>=1.6.5->numpydoc>=0.6.0->feature_engine) (1.12.0)\n",
            "Requirement already satisfied: docutils>=0.11 in /usr/local/lib/python3.6/dist-packages (from sphinx>=1.6.5->numpydoc>=0.6.0->feature_engine) (0.15.2)\n",
            "Requirement already satisfied: imagesize in /usr/local/lib/python3.6/dist-packages (from sphinx>=1.6.5->numpydoc>=0.6.0->feature_engine) (1.2.0)\n",
            "Requirement already satisfied: setuptools in /usr/local/lib/python3.6/dist-packages (from sphinx>=1.6.5->numpydoc>=0.6.0->feature_engine) (45.1.0)\n",
            "Requirement already satisfied: snowballstemmer>=1.1 in /usr/local/lib/python3.6/dist-packages (from sphinx>=1.6.5->numpydoc>=0.6.0->feature_engine) (2.0.0)\n",
            "Requirement already satisfied: Pygments>=2.0 in /usr/local/lib/python3.6/dist-packages (from sphinx>=1.6.5->numpydoc>=0.6.0->feature_engine) (2.1.3)\n",
            "Requirement already satisfied: alabaster<0.8,>=0.7 in /usr/local/lib/python3.6/dist-packages (from sphinx>=1.6.5->numpydoc>=0.6.0->feature_engine) (0.7.12)\n",
            "Requirement already satisfied: babel!=2.0,>=1.3 in /usr/local/lib/python3.6/dist-packages (from sphinx>=1.6.5->numpydoc>=0.6.0->feature_engine) (2.8.0)\n",
            "Requirement already satisfied: MarkupSafe>=0.23 in /usr/local/lib/python3.6/dist-packages (from Jinja2>=2.3->numpydoc>=0.6.0->feature_engine) (1.1.1)\n",
            "Requirement already satisfied: pyparsing>=2.0.2 in /usr/local/lib/python3.6/dist-packages (from packaging->sphinx>=1.6.5->numpydoc>=0.6.0->feature_engine) (2.4.6)\n",
            "Requirement already satisfied: certifi>=2017.4.17 in /usr/local/lib/python3.6/dist-packages (from requests>=2.0.0->sphinx>=1.6.5->numpydoc>=0.6.0->feature_engine) (2019.11.28)\n",
            "Requirement already satisfied: idna<2.9,>=2.5 in /usr/local/lib/python3.6/dist-packages (from requests>=2.0.0->sphinx>=1.6.5->numpydoc>=0.6.0->feature_engine) (2.8)\n",
            "Requirement already satisfied: chardet<3.1.0,>=3.0.2 in /usr/local/lib/python3.6/dist-packages (from requests>=2.0.0->sphinx>=1.6.5->numpydoc>=0.6.0->feature_engine) (3.0.4)\n",
            "Requirement already satisfied: urllib3<1.25,>=1.21.1 in /usr/local/lib/python3.6/dist-packages (from requests>=2.0.0->sphinx>=1.6.5->numpydoc>=0.6.0->feature_engine) (1.24.3)\n",
            "Building wheels for collected packages: numpydoc\n",
            "  Building wheel for numpydoc (setup.py) ... \u001b[?25l\u001b[?25hdone\n",
            "  Created wheel for numpydoc: filename=numpydoc-0.9.2-cp36-none-any.whl size=31893 sha256=be6cfc4bc0593c0aedfbd623d3ae6e77d715dc7ba8a1a978662c2996dbb99d57\n",
            "  Stored in directory: /root/.cache/pip/wheels/96/f3/52/25c8e1f40637661d27feebc61dae16b84c7cdd93b8bc3d7486\n",
            "Successfully built numpydoc\n",
            "Installing collected packages: numpydoc, feature-engine\n",
            "Successfully installed feature-engine-0.3.1 numpydoc-0.9.2\n"
          ],
          "name": "stdout"
        }
      ]
    },
    {
      "cell_type": "code",
      "metadata": {
        "id": "UUM6WCsfO2CC",
        "colab_type": "code",
        "colab": {
          "base_uri": "https://localhost:8080/",
          "height": 206
        },
        "outputId": "54010f6e-3d0a-4c03-eea2-a91447ff083c"
      },
      "source": [
        "# load the numerical variables of the Titanic Dataset\n",
        "\n",
        "data = pd.read_csv('titanic_train.csv',\n",
        "                   usecols=['Age', 'Fare', 'Survived'])\n",
        "\n",
        "data.head()"
      ],
      "execution_count": 2,
      "outputs": [
        {
          "output_type": "execute_result",
          "data": {
            "text/html": [
              "<div>\n",
              "<style scoped>\n",
              "    .dataframe tbody tr th:only-of-type {\n",
              "        vertical-align: middle;\n",
              "    }\n",
              "\n",
              "    .dataframe tbody tr th {\n",
              "        vertical-align: top;\n",
              "    }\n",
              "\n",
              "    .dataframe thead th {\n",
              "        text-align: right;\n",
              "    }\n",
              "</style>\n",
              "<table border=\"1\" class=\"dataframe\">\n",
              "  <thead>\n",
              "    <tr style=\"text-align: right;\">\n",
              "      <th></th>\n",
              "      <th>Survived</th>\n",
              "      <th>Age</th>\n",
              "      <th>Fare</th>\n",
              "    </tr>\n",
              "  </thead>\n",
              "  <tbody>\n",
              "    <tr>\n",
              "      <th>0</th>\n",
              "      <td>0</td>\n",
              "      <td>22.0</td>\n",
              "      <td>7.2500</td>\n",
              "    </tr>\n",
              "    <tr>\n",
              "      <th>1</th>\n",
              "      <td>1</td>\n",
              "      <td>38.0</td>\n",
              "      <td>71.2833</td>\n",
              "    </tr>\n",
              "    <tr>\n",
              "      <th>2</th>\n",
              "      <td>1</td>\n",
              "      <td>26.0</td>\n",
              "      <td>7.9250</td>\n",
              "    </tr>\n",
              "    <tr>\n",
              "      <th>3</th>\n",
              "      <td>1</td>\n",
              "      <td>35.0</td>\n",
              "      <td>53.1000</td>\n",
              "    </tr>\n",
              "    <tr>\n",
              "      <th>4</th>\n",
              "      <td>0</td>\n",
              "      <td>35.0</td>\n",
              "      <td>8.0500</td>\n",
              "    </tr>\n",
              "  </tbody>\n",
              "</table>\n",
              "</div>"
            ],
            "text/plain": [
              "   Survived   Age     Fare\n",
              "0         0  22.0   7.2500\n",
              "1         1  38.0  71.2833\n",
              "2         1  26.0   7.9250\n",
              "3         1  35.0  53.1000\n",
              "4         0  35.0   8.0500"
            ]
          },
          "metadata": {
            "tags": []
          },
          "execution_count": 2
        }
      ]
    },
    {
      "cell_type": "code",
      "metadata": {
        "id": "9Svv-m1XO2CW",
        "colab_type": "code",
        "colab": {
          "base_uri": "https://localhost:8080/",
          "height": 34
        },
        "outputId": "76e074b2-a79d-42f1-cfea-eb576fffe45a"
      },
      "source": [
        "# Let's separate into train and test set\n",
        "\n",
        "X_train, X_test, y_train, y_test = train_test_split(\n",
        "    data[['Age', 'Fare']],\n",
        "    data['Survived'],\n",
        "    test_size=0.3,\n",
        "    random_state=0)\n",
        "\n",
        "X_train.shape, X_test.shape"
      ],
      "execution_count": 3,
      "outputs": [
        {
          "output_type": "execute_result",
          "data": {
            "text/plain": [
              "((623, 2), (268, 2))"
            ]
          },
          "metadata": {
            "tags": []
          },
          "execution_count": 3
        }
      ]
    },
    {
      "cell_type": "markdown",
      "metadata": {
        "id": "UKabCxKQO2Cu",
        "colab_type": "text"
      },
      "source": [
        "The variables Age and Fare contain missing data, that I will fill by extracting a random sample of the variable."
      ]
    },
    {
      "cell_type": "code",
      "metadata": {
        "id": "m8bLq_gaO2Cz",
        "colab_type": "code",
        "colab": {}
      },
      "source": [
        "def impute_na(data, variable):\n",
        "    # function to fill NA with a random sample\n",
        "\n",
        "    df = data.copy()\n",
        "\n",
        "    # random sampling\n",
        "    df[variable+'_random'] = df[variable]\n",
        "\n",
        "    # extract the random sample to fill the na\n",
        "    random_sample = X_train[variable].dropna().sample(\n",
        "        df[variable].isnull().sum(), random_state=0)\n",
        "\n",
        "    # pandas needs to have the same index in order to merge datasets\n",
        "    random_sample.index = df[df[variable].isnull()].index\n",
        "    df.loc[df[variable].isnull(), variable+'_random'] = random_sample\n",
        "\n",
        "    return df[variable+'_random']"
      ],
      "execution_count": 0,
      "outputs": []
    },
    {
      "cell_type": "code",
      "metadata": {
        "id": "3071WiByO2DF",
        "colab_type": "code",
        "colab": {}
      },
      "source": [
        "# replace NA in both train and test sets\n",
        "\n",
        "X_train['Age'] = impute_na(data, 'Age')\n",
        "X_test['Age'] = impute_na(data, 'Age')\n",
        "\n",
        "X_train['Fare'] = impute_na(data, 'Fare')\n",
        "X_test['Fare'] = impute_na(data, 'Fare')"
      ],
      "execution_count": 0,
      "outputs": []
    },
    {
      "cell_type": "code",
      "metadata": {
        "id": "Fz0Wp0lQO2DR",
        "colab_type": "code",
        "colab": {
          "base_uri": "https://localhost:8080/",
          "height": 281
        },
        "outputId": "f198f05a-8e91-4c14-b904-d7c40e625318"
      },
      "source": [
        "# let's explore the distribution of age\n",
        "\n",
        "X_train[['Age', 'Fare']].hist(bins=30, figsize=(8,4))\n",
        "plt.show()"
      ],
      "execution_count": 7,
      "outputs": [
        {
          "output_type": "display_data",
          "data": {
            "image/png": "[encoded data removed]",
            "text/plain": [
              "<Figure size 576x288 with 2 Axes>"
            ]
          },
          "metadata": {
            "tags": []
          }
        }
      ]
    },
    {
      "cell_type": "markdown",
      "metadata": {
        "id": "rxIN_v64O2Da",
        "colab_type": "text"
      },
      "source": [
        "## Equal frequency discretisation with pandas and NumPy\n",
        "\n",
        "The interval limits are the quantile limits. We can find those out with pandas qcut."
      ]
    },
    {
      "cell_type": "code",
      "metadata": {
        "id": "pKvephMmO2Dh",
        "colab_type": "code",
        "colab": {
          "base_uri": "https://localhost:8080/",
          "height": 363
        },
        "outputId": "ba07903d-5384-441a-9b79-d5ec676bb127"
      },
      "source": [
        "# let's use pandas qcut (quantile cut) and I indicate that\n",
        "# we want 10 bins.\n",
        "\n",
        "# retbins = True indicates that I want to capture the limits\n",
        "# of each interval (so I can then use them to cut the test set)\n",
        "\n",
        "Age_disccretised, intervals = pd.qcut(\n",
        "    X_train['Age'], 10, labels=None, retbins=True, precision=3, duplicates='raise')\n",
        "\n",
        "pd.concat([Age_disccretised, X_train['Age']], axis=1).head(10)"
      ],
      "execution_count": 9,
      "outputs": [
        {
          "output_type": "execute_result",
          "data": {
            "text/html": [
              "<div>\n",
              "<style scoped>\n",
              "    .dataframe tbody tr th:only-of-type {\n",
              "        vertical-align: middle;\n",
              "    }\n",
              "\n",
              "    .dataframe tbody tr th {\n",
              "        vertical-align: top;\n",
              "    }\n",
              "\n",
              "    .dataframe thead th {\n",
              "        text-align: right;\n",
              "    }\n",
              "</style>\n",
              "<table border=\"1\" class=\"dataframe\">\n",
              "  <thead>\n",
              "    <tr style=\"text-align: right;\">\n",
              "      <th></th>\n",
              "      <th>Age</th>\n",
              "      <th>Age</th>\n",
              "    </tr>\n",
              "  </thead>\n",
              "  <tbody>\n",
              "    <tr>\n",
              "      <th>857</th>\n",
              "      <td>(48.8, 80.0]</td>\n",
              "      <td>51.0</td>\n",
              "    </tr>\n",
              "    <tr>\n",
              "      <th>52</th>\n",
              "      <td>(48.8, 80.0]</td>\n",
              "      <td>49.0</td>\n",
              "    </tr>\n",
              "    <tr>\n",
              "      <th>386</th>\n",
              "      <td>(0.669, 14.6]</td>\n",
              "      <td>1.0</td>\n",
              "    </tr>\n",
              "    <tr>\n",
              "      <th>124</th>\n",
              "      <td>(48.8, 80.0]</td>\n",
              "      <td>54.0</td>\n",
              "    </tr>\n",
              "    <tr>\n",
              "      <th>578</th>\n",
              "      <td>(48.8, 80.0]</td>\n",
              "      <td>65.0</td>\n",
              "    </tr>\n",
              "    <tr>\n",
              "      <th>549</th>\n",
              "      <td>(0.669, 14.6]</td>\n",
              "      <td>8.0</td>\n",
              "    </tr>\n",
              "    <tr>\n",
              "      <th>118</th>\n",
              "      <td>(23.0, 26.0]</td>\n",
              "      <td>24.0</td>\n",
              "    </tr>\n",
              "    <tr>\n",
              "      <th>12</th>\n",
              "      <td>(19.0, 23.0]</td>\n",
              "      <td>20.0</td>\n",
              "    </tr>\n",
              "    <tr>\n",
              "      <th>157</th>\n",
              "      <td>(29.0, 33.0]</td>\n",
              "      <td>30.0</td>\n",
              "    </tr>\n",
              "    <tr>\n",
              "      <th>127</th>\n",
              "      <td>(23.0, 26.0]</td>\n",
              "      <td>24.0</td>\n",
              "    </tr>\n",
              "  </tbody>\n",
              "</table>\n",
              "</div>"
            ],
            "text/plain": [
              "               Age   Age\n",
              "857   (48.8, 80.0]  51.0\n",
              "52    (48.8, 80.0]  49.0\n",
              "386  (0.669, 14.6]   1.0\n",
              "124   (48.8, 80.0]  54.0\n",
              "578   (48.8, 80.0]  65.0\n",
              "549  (0.669, 14.6]   8.0\n",
              "118   (23.0, 26.0]  24.0\n",
              "12    (19.0, 23.0]  20.0\n",
              "157   (29.0, 33.0]  30.0\n",
              "127   (23.0, 26.0]  24.0"
            ]
          },
          "metadata": {
            "tags": []
          },
          "execution_count": 9
        }
      ]
    },
    {
      "cell_type": "markdown",
      "metadata": {
        "id": "wYxBL5jFO2Dw",
        "colab_type": "text"
      },
      "source": [
        "We can see in the above output how by discretising using quantiles, we placed each Age observation within one interval. For example, age 29 was placed in the 26-30 interval, whereas age 63 was placed into the 49-80 interval. \n",
        "\n",
        "Note how the interval widths are different.\n",
        "\n",
        "We can visualise the interval cut points below:"
      ]
    },
    {
      "cell_type": "code",
      "metadata": {
        "scrolled": false,
        "id": "02g6BaLXO2Dy",
        "colab_type": "code",
        "colab": {
          "base_uri": "https://localhost:8080/",
          "height": 52
        },
        "outputId": "a021b588-6841-4380-980c-6db8dafd1a6e"
      },
      "source": [
        "intervals"
      ],
      "execution_count": 10,
      "outputs": [
        {
          "output_type": "execute_result",
          "data": {
            "text/plain": [
              "array([ 0.67, 14.6 , 19.  , 23.  , 26.  , 29.  , 33.  , 36.  , 42.  ,\n",
              "       48.8 , 80.  ])"
            ]
          },
          "metadata": {
            "tags": []
          },
          "execution_count": 10
        }
      ]
    },
    {
      "cell_type": "markdown",
      "metadata": {
        "id": "vUHHEwLqO2D9",
        "colab_type": "text"
      },
      "source": [
        "And because we generated the bins using the quantile cut method, we should have roughly the same amount of observations per bin. See below."
      ]
    },
    {
      "cell_type": "code",
      "metadata": {
        "id": "aoIPGbPdO2ED",
        "colab_type": "code",
        "colab": {
          "base_uri": "https://localhost:8080/",
          "height": 208
        },
        "outputId": "26d5a742-0833-4b50-f855-1cb85e67463f"
      },
      "source": [
        "# roughly the same number of passengers per interval\n",
        "\n",
        "Age_disccretised.value_counts()"
      ],
      "execution_count": 11,
      "outputs": [
        {
          "output_type": "execute_result",
          "data": {
            "text/plain": [
              "(29.0, 33.0]     69\n",
              "(19.0, 23.0]     69\n",
              "(14.6, 19.0]     65\n",
              "(48.8, 80.0]     63\n",
              "(0.669, 14.6]    63\n",
              "(33.0, 36.0]     62\n",
              "(36.0, 42.0]     61\n",
              "(26.0, 29.0]     59\n",
              "(23.0, 26.0]     58\n",
              "(42.0, 48.8]     54\n",
              "Name: Age, dtype: int64"
            ]
          },
          "metadata": {
            "tags": []
          },
          "execution_count": 11
        }
      ]
    },
    {
      "cell_type": "code",
      "metadata": {
        "id": "md0iImNVO2ER",
        "colab_type": "code",
        "colab": {
          "base_uri": "https://localhost:8080/",
          "height": 34
        },
        "outputId": "9ca6ca6a-a216-4d39-d9c2-b9548cfe0d36"
      },
      "source": [
        "# we can also add labels instead of having the interval boundaries, to the bins, as follows:\n",
        "\n",
        "labels = ['Q'+str(i) for i in range(1,11)]\n",
        "labels"
      ],
      "execution_count": 12,
      "outputs": [
        {
          "output_type": "execute_result",
          "data": {
            "text/plain": [
              "['Q1', 'Q2', 'Q3', 'Q4', 'Q5', 'Q6', 'Q7', 'Q8', 'Q9', 'Q10']"
            ]
          },
          "metadata": {
            "tags": []
          },
          "execution_count": 12
        }
      ]
    },
    {
      "cell_type": "code",
      "metadata": {
        "scrolled": true,
        "id": "I1L4l2H1O2Ec",
        "colab_type": "code",
        "colab": {
          "base_uri": "https://localhost:8080/",
          "height": 139
        },
        "outputId": "5bb81978-74bc-4d0a-f7d1-7b121b71d759"
      },
      "source": [
        "Age_disccretised, intervals = pd.qcut(X_train['Age'], 10, labels=labels,\n",
        "                                      retbins=True,\n",
        "                                      precision=3, duplicates='raise')\n",
        "\n",
        "Age_disccretised.head()"
      ],
      "execution_count": 13,
      "outputs": [
        {
          "output_type": "execute_result",
          "data": {
            "text/plain": [
              "857    Q10\n",
              "52     Q10\n",
              "386     Q1\n",
              "124    Q10\n",
              "578    Q10\n",
              "Name: Age, dtype: category\n",
              "Categories (10, object): [Q1 < Q2 < Q3 < Q4 ... Q7 < Q8 < Q9 < Q10]"
            ]
          },
          "metadata": {
            "tags": []
          },
          "execution_count": 13
        }
      ]
    },
    {
      "cell_type": "code",
      "metadata": {
        "id": "hKWFnVCYO2Er",
        "colab_type": "code",
        "colab": {
          "base_uri": "https://localhost:8080/",
          "height": 363
        },
        "outputId": "c2b6c4c4-9fba-4cac-cdbc-c7ebe6cdd448"
      },
      "source": [
        "# to transform the test set:\n",
        "# we use pandas cut method (instead of qcut) and\n",
        "# pass the quantile edges calculated in the training set\n",
        "\n",
        "X_test['Age_disc_label'] = pd.cut(x = X_test['Age'], bins=intervals, labels=labels)\n",
        "X_test['Age_disc'] = pd.cut(x = X_test['Age'], bins=intervals)\n",
        "\n",
        "X_test.head(10)"
      ],
      "execution_count": 14,
      "outputs": [
        {
          "output_type": "execute_result",
          "data": {
            "text/html": [
              "<div>\n",
              "<style scoped>\n",
              "    .dataframe tbody tr th:only-of-type {\n",
              "        vertical-align: middle;\n",
              "    }\n",
              "\n",
              "    .dataframe tbody tr th {\n",
              "        vertical-align: top;\n",
              "    }\n",
              "\n",
              "    .dataframe thead th {\n",
              "        text-align: right;\n",
              "    }\n",
              "</style>\n",
              "<table border=\"1\" class=\"dataframe\">\n",
              "  <thead>\n",
              "    <tr style=\"text-align: right;\">\n",
              "      <th></th>\n",
              "      <th>Age</th>\n",
              "      <th>Fare</th>\n",
              "      <th>Age_disc_label</th>\n",
              "      <th>Age_disc</th>\n",
              "    </tr>\n",
              "  </thead>\n",
              "  <tbody>\n",
              "    <tr>\n",
              "      <th>495</th>\n",
              "      <td>37.0</td>\n",
              "      <td>14.4583</td>\n",
              "      <td>Q8</td>\n",
              "      <td>(36.0, 42.0]</td>\n",
              "    </tr>\n",
              "    <tr>\n",
              "      <th>648</th>\n",
              "      <td>21.0</td>\n",
              "      <td>7.5500</td>\n",
              "      <td>Q3</td>\n",
              "      <td>(19.0, 23.0]</td>\n",
              "    </tr>\n",
              "    <tr>\n",
              "      <th>278</th>\n",
              "      <td>7.0</td>\n",
              "      <td>29.1250</td>\n",
              "      <td>Q1</td>\n",
              "      <td>(0.67, 14.6]</td>\n",
              "    </tr>\n",
              "    <tr>\n",
              "      <th>31</th>\n",
              "      <td>35.0</td>\n",
              "      <td>146.5208</td>\n",
              "      <td>Q7</td>\n",
              "      <td>(33.0, 36.0]</td>\n",
              "    </tr>\n",
              "    <tr>\n",
              "      <th>255</th>\n",
              "      <td>29.0</td>\n",
              "      <td>15.2458</td>\n",
              "      <td>Q5</td>\n",
              "      <td>(26.0, 29.0]</td>\n",
              "    </tr>\n",
              "    <tr>\n",
              "      <th>298</th>\n",
              "      <td>28.0</td>\n",
              "      <td>30.5000</td>\n",
              "      <td>Q5</td>\n",
              "      <td>(26.0, 29.0]</td>\n",
              "    </tr>\n",
              "    <tr>\n",
              "      <th>609</th>\n",
              "      <td>40.0</td>\n",
              "      <td>153.4625</td>\n",
              "      <td>Q8</td>\n",
              "      <td>(36.0, 42.0]</td>\n",
              "    </tr>\n",
              "    <tr>\n",
              "      <th>318</th>\n",
              "      <td>31.0</td>\n",
              "      <td>164.8667</td>\n",
              "      <td>Q6</td>\n",
              "      <td>(29.0, 33.0]</td>\n",
              "    </tr>\n",
              "    <tr>\n",
              "      <th>484</th>\n",
              "      <td>25.0</td>\n",
              "      <td>91.0792</td>\n",
              "      <td>Q4</td>\n",
              "      <td>(23.0, 26.0]</td>\n",
              "    </tr>\n",
              "    <tr>\n",
              "      <th>367</th>\n",
              "      <td>32.0</td>\n",
              "      <td>7.2292</td>\n",
              "      <td>Q6</td>\n",
              "      <td>(29.0, 33.0]</td>\n",
              "    </tr>\n",
              "  </tbody>\n",
              "</table>\n",
              "</div>"
            ],
            "text/plain": [
              "      Age      Fare Age_disc_label      Age_disc\n",
              "495  37.0   14.4583             Q8  (36.0, 42.0]\n",
              "648  21.0    7.5500             Q3  (19.0, 23.0]\n",
              "278   7.0   29.1250             Q1  (0.67, 14.6]\n",
              "31   35.0  146.5208             Q7  (33.0, 36.0]\n",
              "255  29.0   15.2458             Q5  (26.0, 29.0]\n",
              "298  28.0   30.5000             Q5  (26.0, 29.0]\n",
              "609  40.0  153.4625             Q8  (36.0, 42.0]\n",
              "318  31.0  164.8667             Q6  (29.0, 33.0]\n",
              "484  25.0   91.0792             Q4  (23.0, 26.0]\n",
              "367  32.0    7.2292             Q6  (29.0, 33.0]"
            ]
          },
          "metadata": {
            "tags": []
          },
          "execution_count": 14
        }
      ]
    },
    {
      "cell_type": "code",
      "metadata": {
        "id": "vGRslUwYO2E0",
        "colab_type": "code",
        "colab": {
          "base_uri": "https://localhost:8080/",
          "height": 346
        },
        "outputId": "7b2e4173-4e77-4b88-f87b-b4d64e7b5aaf"
      },
      "source": [
        "# let's check that we have equal frequency (equal number of observations per bin)\n",
        "X_test.groupby('Age_disc')['Age'].count().plot.bar()"
      ],
      "execution_count": 15,
      "outputs": [
        {
          "output_type": "execute_result",
          "data": {
            "text/plain": [
              "<matplotlib.axes._subplots.AxesSubplot at 0x7f9e0aede390>"
            ]
          },
          "metadata": {
            "tags": []
          },
          "execution_count": 15
        },
        {
          "output_type": "display_data",
          "data": {
            "image/png": "[encoded data removed]",
            "text/plain": [
              "<Figure size 432x288 with 1 Axes>"
            ]
          },
          "metadata": {
            "tags": []
          }
        }
      ]
    },
    {
      "cell_type": "markdown",
      "metadata": {
        "id": "NzJ0cosFO2E_",
        "colab_type": "text"
      },
      "source": [
        "We can see that the top intervals have less observations. This may happen with skewed distributions if we try to divide in a high number of intervals. To make the value spread  more homogeneous, we should discretise in less intervals.\n",
        "\n",
        "## Equal frequency discretisation with Feature-Engine"
      ]
    },
    {
      "cell_type": "code",
      "metadata": {
        "id": "fUwwl7MLO2FD",
        "colab_type": "code",
        "colab": {
          "base_uri": "https://localhost:8080/",
          "height": 34
        },
        "outputId": "cd242287-b48f-4db1-84cb-0abc7b7b9095"
      },
      "source": [
        "# Let's separate into train and test set\n",
        "\n",
        "X_train, X_test, y_train, y_test = train_test_split(\n",
        "    data[['Age', 'Fare']],\n",
        "    data['Survived'],\n",
        "    test_size=0.3,\n",
        "    random_state=0)\n",
        "\n",
        "X_train.shape, X_test.shape"
      ],
      "execution_count": 16,
      "outputs": [
        {
          "output_type": "execute_result",
          "data": {
            "text/plain": [
              "((623, 2), (268, 2))"
            ]
          },
          "metadata": {
            "tags": []
          },
          "execution_count": 16
        }
      ]
    },
    {
      "cell_type": "code",
      "metadata": {
        "id": "ULEhG_eZO2FP",
        "colab_type": "code",
        "colab": {}
      },
      "source": [
        "# replace NA in both  train and test sets\n",
        "\n",
        "X_train['Age'] = impute_na(data, 'Age')\n",
        "X_test['Age'] = impute_na(data, 'Age')\n",
        "\n",
        "X_train['Fare'] = impute_na(data, 'Fare')\n",
        "X_test['Fare'] = impute_na(data, 'Fare')"
      ],
      "execution_count": 0,
      "outputs": []
    },
    {
      "cell_type": "code",
      "metadata": {
        "id": "v_G7ZtyHO2FY",
        "colab_type": "code",
        "colab": {
          "base_uri": "https://localhost:8080/",
          "height": 34
        },
        "outputId": "78a30d94-19b1-43a4-c895-6c7d7d4477c5"
      },
      "source": [
        "# with feature engine we can automate the process for many variables\n",
        "# in one line of code\n",
        "\n",
        "disc = EqualFrequencyDiscretiser(q=10, variables = ['Age', 'Fare'])\n",
        "\n",
        "disc.fit(X_train)"
      ],
      "execution_count": 18,
      "outputs": [
        {
          "output_type": "execute_result",
          "data": {
            "text/plain": [
              "EqualFrequencyDiscretiser(q=10, return_object=False, variables=['Age', 'Fare'])"
            ]
          },
          "metadata": {
            "tags": []
          },
          "execution_count": 18
        }
      ]
    },
    {
      "cell_type": "code",
      "metadata": {
        "id": "_SFFzM66O2Ff",
        "colab_type": "code",
        "colab": {
          "base_uri": "https://localhost:8080/",
          "height": 399
        },
        "outputId": "3a9007bb-f579-4bc9-c8fa-eb658e4d0577"
      },
      "source": [
        "# in the binner dict, we can see the limits of the intervals. Note\n",
        "# that the intervals have different widths\n",
        "\n",
        "disc.binner_dict_"
      ],
      "execution_count": 19,
      "outputs": [
        {
          "output_type": "execute_result",
          "data": {
            "text/plain": [
              "{'Age': [-inf,\n",
              "  13.200000000000003,\n",
              "  19.0,\n",
              "  22.0,\n",
              "  26.0,\n",
              "  29.0,\n",
              "  32.0,\n",
              "  36.0,\n",
              "  41.60000000000002,\n",
              "  49.0,\n",
              "  inf],\n",
              " 'Fare': [-inf,\n",
              "  7.72584,\n",
              "  7.88252,\n",
              "  8.05,\n",
              "  12.130000000000008,\n",
              "  15.0,\n",
              "  23.45,\n",
              "  27.75,\n",
              "  46.9,\n",
              "  77.17584000000004,\n",
              "  inf]}"
            ]
          },
          "metadata": {
            "tags": []
          },
          "execution_count": 19
        }
      ]
    },
    {
      "cell_type": "code",
      "metadata": {
        "id": "b4QlY-_KO2Ft",
        "colab_type": "code",
        "colab": {}
      },
      "source": [
        "# transform train and text\n",
        "\n",
        "train_t = disc.transform(X_train)\n",
        "test_t = disc.transform(X_test)"
      ],
      "execution_count": 0,
      "outputs": []
    },
    {
      "cell_type": "code",
      "metadata": {
        "id": "PMZ_rpLkO2F1",
        "colab_type": "code",
        "colab": {},
        "outputId": "c808a2a1-3729-4b1f-f54e-3827258752ba"
      },
      "source": [
        "train_t.head()"
      ],
      "execution_count": 0,
      "outputs": [
        {
          "output_type": "execute_result",
          "data": {
            "text/html": [
              "<div>\n",
              "<style scoped>\n",
              "    .dataframe tbody tr th:only-of-type {\n",
              "        vertical-align: middle;\n",
              "    }\n",
              "\n",
              "    .dataframe tbody tr th {\n",
              "        vertical-align: top;\n",
              "    }\n",
              "\n",
              "    .dataframe thead th {\n",
              "        text-align: right;\n",
              "    }\n",
              "</style>\n",
              "<table border=\"1\" class=\"dataframe\">\n",
              "  <thead>\n",
              "    <tr style=\"text-align: right;\">\n",
              "      <th></th>\n",
              "      <th>age</th>\n",
              "      <th>fare</th>\n",
              "    </tr>\n",
              "  </thead>\n",
              "  <tbody>\n",
              "    <tr>\n",
              "      <th>501</th>\n",
              "      <td>0</td>\n",
              "      <td>5</td>\n",
              "    </tr>\n",
              "    <tr>\n",
              "      <th>588</th>\n",
              "      <td>0</td>\n",
              "      <td>6</td>\n",
              "    </tr>\n",
              "    <tr>\n",
              "      <th>402</th>\n",
              "      <td>5</td>\n",
              "      <td>4</td>\n",
              "    </tr>\n",
              "    <tr>\n",
              "      <th>1193</th>\n",
              "      <td>2</td>\n",
              "      <td>1</td>\n",
              "    </tr>\n",
              "    <tr>\n",
              "      <th>686</th>\n",
              "      <td>2</td>\n",
              "      <td>1</td>\n",
              "    </tr>\n",
              "  </tbody>\n",
              "</table>\n",
              "</div>"
            ],
            "text/plain": [
              "      age  fare\n",
              "501     0     5\n",
              "588     0     6\n",
              "402     5     4\n",
              "1193    2     1\n",
              "686     2     1"
            ]
          },
          "metadata": {
            "tags": []
          },
          "execution_count": 19
        }
      ]
    },
    {
      "cell_type": "code",
      "metadata": {
        "id": "_bOEJQsZO2GE",
        "colab_type": "code",
        "colab": {
          "base_uri": "https://localhost:8080/",
          "height": 296
        },
        "outputId": "bf625ff6-0e59-496e-d0b3-757afbfcc49c"
      },
      "source": [
        "# and now let's explore the number of observations per bucket\n",
        "\n",
        "t1 = train_t.groupby(['Age'])['Age'].count() / len(train_t)\n",
        "t2 = test_t.groupby(['Age'])['Age'].count() / len(test_t)\n",
        "\n",
        "tmp = pd.concat([t1, t2], axis=1)\n",
        "tmp.columns = ['train', 'test']\n",
        "tmp.plot.bar()\n",
        "plt.xticks(rotation=0)\n",
        "plt.ylabel('Number of observations per bin')"
      ],
      "execution_count": 21,
      "outputs": [
        {
          "output_type": "execute_result",
          "data": {
            "text/plain": [
              "Text(0, 0.5, 'Number of observations per bin')"
            ]
          },
          "metadata": {
            "tags": []
          },
          "execution_count": 21
        },
        {
          "output_type": "display_data",
          "data": {
            "image/png": "[encoded data removed]",
            "text/plain": [
              "<Figure size 432x288 with 1 Axes>"
            ]
          },
          "metadata": {
            "tags": []
          }
        }
      ]
    },
    {
      "cell_type": "code",
      "metadata": {
        "id": "Il4Rq4GKO2GO",
        "colab_type": "code",
        "colab": {
          "base_uri": "https://localhost:8080/",
          "height": 296
        },
        "outputId": "9099067a-c327-4e2f-fe5f-3ce0fa9dbe0b"
      },
      "source": [
        "t1 = train_t.groupby(['Fare'])['Fare'].count() / len(train_t)\n",
        "t2 = test_t.groupby(['Fare'])['Fare'].count() / len(test_t)\n",
        "\n",
        "tmp = pd.concat([t1, t2], axis=1)\n",
        "tmp.columns = ['train', 'test']\n",
        "tmp.plot.bar()\n",
        "plt.xticks(rotation=0)\n",
        "plt.ylabel('Number of observations per bin')"
      ],
      "execution_count": 22,
      "outputs": [
        {
          "output_type": "execute_result",
          "data": {
            "text/plain": [
              "Text(0, 0.5, 'Number of observations per bin')"
            ]
          },
          "metadata": {
            "tags": []
          },
          "execution_count": 22
        },
        {
          "output_type": "display_data",
          "data": {
            "image/png": "[encoded data removed]",
            "text/plain": [
              "<Figure size 432x288 with 1 Axes>"
            ]
          },
          "metadata": {
            "tags": []
          }
        }
      ]
    },
    {
      "cell_type": "markdown",
      "metadata": {
        "id": "43GX0fSLO2GY",
        "colab_type": "text"
      },
      "source": [
        "Note how equal frequency discretisation obtains a better value spread across the different intervals.\n",
        "\n",
        "## Equal frequency discretisation with Scikit-learn"
      ]
    },
    {
      "cell_type": "code",
      "metadata": {
        "id": "nanVXhNZO2Gd",
        "colab_type": "code",
        "colab": {
          "base_uri": "https://localhost:8080/",
          "height": 34
        },
        "outputId": "fefb1431-1bfd-4890-9766-dd07af3dfd4d"
      },
      "source": [
        "# Let's separate into train and test set\n",
        "\n",
        "X_train, X_test, y_train, y_test = train_test_split(\n",
        "    data[['Age', 'Fare']],\n",
        "    data['Survived'],\n",
        "    test_size=0.3,\n",
        "    random_state=0)\n",
        "\n",
        "X_train.shape, X_test.shape"
      ],
      "execution_count": 23,
      "outputs": [
        {
          "output_type": "execute_result",
          "data": {
            "text/plain": [
              "((623, 2), (268, 2))"
            ]
          },
          "metadata": {
            "tags": []
          },
          "execution_count": 23
        }
      ]
    },
    {
      "cell_type": "code",
      "metadata": {
        "id": "e-0eiegmO2Gm",
        "colab_type": "code",
        "colab": {}
      },
      "source": [
        "# replace NA in both  train and test sets\n",
        "\n",
        "X_train['Age'] = impute_na(data, 'Age')\n",
        "X_test['Age'] = impute_na(data, 'Age')\n",
        "\n",
        "X_train['Fare'] = impute_na(data, 'Fare')\n",
        "X_test['Fare'] = impute_na(data, 'Fare')"
      ],
      "execution_count": 0,
      "outputs": []
    },
    {
      "cell_type": "code",
      "metadata": {
        "id": "YbZISZIBO2Gv",
        "colab_type": "code",
        "colab": {
          "base_uri": "https://localhost:8080/",
          "height": 34
        },
        "outputId": "682c3944-df1a-4a3e-ace6-4ff3cae12754"
      },
      "source": [
        "disc = KBinsDiscretizer(n_bins=10, encode='ordinal', strategy='quantile')\n",
        "\n",
        "disc.fit(X_train[['Age', 'Fare']])"
      ],
      "execution_count": 25,
      "outputs": [
        {
          "output_type": "execute_result",
          "data": {
            "text/plain": [
              "KBinsDiscretizer(encode='ordinal', n_bins=10, strategy='quantile')"
            ]
          },
          "metadata": {
            "tags": []
          },
          "execution_count": 25
        }
      ]
    },
    {
      "cell_type": "code",
      "metadata": {
        "id": "SFfn3FDbO2G1",
        "colab_type": "code",
        "colab": {
          "base_uri": "https://localhost:8080/",
          "height": 104
        },
        "outputId": "821479bc-c483-452a-af4d-b8bd2ec1e92a"
      },
      "source": [
        "disc.bin_edges_"
      ],
      "execution_count": 26,
      "outputs": [
        {
          "output_type": "execute_result",
          "data": {
            "text/plain": [
              "array([array([ 0.67, 13.2 , 19.  , 22.  , 26.  , 29.  , 32.  , 36.  , 41.6 ,\n",
              "       49.  , 80.  ]),\n",
              "       array([  0.     ,   7.72584,   7.88252,   8.05   ,  12.13   ,  15.     ,\n",
              "        23.45   ,  27.75   ,  46.9    ,  77.17584, 512.3292 ])],\n",
              "      dtype=object)"
            ]
          },
          "metadata": {
            "tags": []
          },
          "execution_count": 26
        }
      ]
    },
    {
      "cell_type": "code",
      "metadata": {
        "id": "zPmnytjaO2HD",
        "colab_type": "code",
        "colab": {
          "base_uri": "https://localhost:8080/",
          "height": 206
        },
        "outputId": "3f47ab67-227f-4f03-d3b6-95e68d249979"
      },
      "source": [
        "train_t = disc.transform(X_train[['Age', 'Fare']])\n",
        "\n",
        "train_t = pd.DataFrame(train_t, columns = ['Age', 'Fare'])\n",
        "\n",
        "train_t.head()"
      ],
      "execution_count": 27,
      "outputs": [
        {
          "output_type": "execute_result",
          "data": {
            "text/html": [
              "<div>\n",
              "<style scoped>\n",
              "    .dataframe tbody tr th:only-of-type {\n",
              "        vertical-align: middle;\n",
              "    }\n",
              "\n",
              "    .dataframe tbody tr th {\n",
              "        vertical-align: top;\n",
              "    }\n",
              "\n",
              "    .dataframe thead th {\n",
              "        text-align: right;\n",
              "    }\n",
              "</style>\n",
              "<table border=\"1\" class=\"dataframe\">\n",
              "  <thead>\n",
              "    <tr style=\"text-align: right;\">\n",
              "      <th></th>\n",
              "      <th>Age</th>\n",
              "      <th>Fare</th>\n",
              "    </tr>\n",
              "  </thead>\n",
              "  <tbody>\n",
              "    <tr>\n",
              "      <th>0</th>\n",
              "      <td>9.0</td>\n",
              "      <td>6.0</td>\n",
              "    </tr>\n",
              "    <tr>\n",
              "      <th>1</th>\n",
              "      <td>9.0</td>\n",
              "      <td>8.0</td>\n",
              "    </tr>\n",
              "    <tr>\n",
              "      <th>2</th>\n",
              "      <td>0.0</td>\n",
              "      <td>8.0</td>\n",
              "    </tr>\n",
              "    <tr>\n",
              "      <th>3</th>\n",
              "      <td>9.0</td>\n",
              "      <td>9.0</td>\n",
              "    </tr>\n",
              "    <tr>\n",
              "      <th>4</th>\n",
              "      <td>1.0</td>\n",
              "      <td>4.0</td>\n",
              "    </tr>\n",
              "  </tbody>\n",
              "</table>\n",
              "</div>"
            ],
            "text/plain": [
              "   Age  Fare\n",
              "0  9.0   6.0\n",
              "1  9.0   8.0\n",
              "2  0.0   8.0\n",
              "3  9.0   9.0\n",
              "4  1.0   4.0"
            ]
          },
          "metadata": {
            "tags": []
          },
          "execution_count": 27
        }
      ]
    },
    {
      "cell_type": "code",
      "metadata": {
        "id": "iUqGWYTeO2HR",
        "colab_type": "code",
        "colab": {}
      },
      "source": [
        "test_t = disc.transform(X_test[['Age', 'Fare']])\n",
        "\n",
        "test_t = pd.DataFrame(test_t, columns = ['Age', 'Fare'])"
      ],
      "execution_count": 0,
      "outputs": []
    },
    {
      "cell_type": "code",
      "metadata": {
        "id": "tOG20Sp0O2HX",
        "colab_type": "code",
        "colab": {
          "base_uri": "https://localhost:8080/",
          "height": 296
        },
        "outputId": "d53092c0-acf5-499d-967b-519817e41746"
      },
      "source": [
        "t1 = train_t.groupby(['Age'])['Age'].count() / len(train_t)\n",
        "t2 = test_t.groupby(['Age'])['Age'].count() / len(test_t)\n",
        "\n",
        "tmp = pd.concat([t1, t2], axis=1)\n",
        "tmp.columns = ['train', 'test']\n",
        "tmp.plot.bar()\n",
        "plt.xticks(rotation=0)\n",
        "plt.ylabel('Number of observations per bin')"
      ],
      "execution_count": 29,
      "outputs": [
        {
          "output_type": "execute_result",
          "data": {
            "text/plain": [
              "Text(0, 0.5, 'Number of observations per bin')"
            ]
          },
          "metadata": {
            "tags": []
          },
          "execution_count": 29
        },
        {
          "output_type": "display_data",
          "data": {
            "image/png": "[encoded data removed]",
            "text/plain": [
              "<Figure size 432x288 with 1 Axes>"
            ]
          },
          "metadata": {
            "tags": []
          }
        }
      ]
    },
    {
      "cell_type": "code",
      "metadata": {
        "id": "g2MpdJzLO2Hi",
        "colab_type": "code",
        "colab": {
          "base_uri": "https://localhost:8080/",
          "height": 296
        },
        "outputId": "b3bc6044-50a5-4b79-fc8c-8b76c20e20fc"
      },
      "source": [
        "t1 = train_t.groupby(['Fare'])['Fare'].count() / len(train_t)\n",
        "t2 = test_t.groupby(['Fare'])['Fare'].count() / len(test_t)\n",
        "\n",
        "tmp = pd.concat([t1, t2], axis=1)\n",
        "tmp.columns = ['train', 'test']\n",
        "tmp.plot.bar()\n",
        "plt.xticks(rotation=0)\n",
        "plt.ylabel('Number of observations per bin')"
      ],
      "execution_count": 30,
      "outputs": [
        {
          "output_type": "execute_result",
          "data": {
            "text/plain": [
              "Text(0, 0.5, 'Number of observations per bin')"
            ]
          },
          "metadata": {
            "tags": []
          },
          "execution_count": 30
        },
        {
          "output_type": "display_data",
          "data": {
            "image/png": "[encoded data removed]",
            "text/plain": [
              "<Figure size 432x288 with 1 Axes>"
            ]
          },
          "metadata": {
            "tags": []
          }
        }
      ]
    },
    {
      "cell_type": "code",
      "metadata": {
        "id": "F-O63y5wO2Hu",
        "colab_type": "code",
        "colab": {}
      },
      "source": [
        ""
      ],
      "execution_count": 0,
      "outputs": []
    }
  ]
}