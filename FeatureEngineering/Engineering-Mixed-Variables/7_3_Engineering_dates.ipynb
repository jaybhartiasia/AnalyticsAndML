{
  "nbformat": 4,
  "nbformat_minor": 0,
  "metadata": {
    "kernelspec": {
      "display_name": "Python 3",
      "language": "python",
      "name": "python3"
    },
    "language_info": {
      "codemirror_mode": {
        "name": "ipython",
        "version": 3
      },
      "file_extension": ".py",
      "mimetype": "text/x-python",
      "name": "python",
      "nbconvert_exporter": "python",
      "pygments_lexer": "ipython3",
      "version": "3.7.3"
    },
    "toc": {
      "nav_menu": {},
      "number_sections": true,
      "sideBar": true,
      "skip_h1_title": false,
      "toc_cell": false,
      "toc_position": {},
      "toc_section_display": "block",
      "toc_window_display": true
    },
    "colab": {
      "name": "7. 3 Engineering_dates.ipynb",
      "provenance": [],
      "include_colab_link": true
    }
  },
  "cells": [
    {
      "cell_type": "markdown",
      "metadata": {
        "id": "view-in-github",
        "colab_type": "text"
      },
      "source": [
        "<a href=\"https://colab.research.google.com/github/vinay10949/AnalyticsAndML/blob/master/FeatureEngineering/Engineering-Mixed-Variables/7_3_Engineering_dates.ipynb\" target=\"_parent\"><img src=\"https://colab.research.google.com/assets/colab-badge.svg\" alt=\"Open In Colab\"/></a>"
      ]
    },
    {
      "cell_type": "markdown",
      "metadata": {
        "id": "HuyHxtbXZ8l7",
        "colab_type": "text"
      },
      "source": [
        "## Engineering Dates\n",
        "\n",
        "Date variables are special type of categorical variable. By their own nature, date variables will contain a multitude of different labels, each one corresponding to a specific date and sometimes time. Date variables, when preprocessed properly can highly enrich a dataset. For example, from a date variable we can extract:\n",
        "\n",
        "- Week of the year\n",
        "- Month\n",
        "- Quarter\n",
        "- Semester\n",
        "- Year\n",
        "- Day (number)\n",
        "- Day of the week\n",
        "- Is Weekend?\n",
        "- Time differences in years, months, days, hrs, etc.\n",
        "\n",
        "Date variables should not be used as categorical variables when building a machine learning model. Not only because they have a multitude of categories, but also because when we actually use the model to score a new observation, this observation will most likely be in the future, an therefore its date label, might be different from the ones contained in the training set and therefore the ones used to train the machine learning algorithm.\n"
      ]
    },
    {
      "cell_type": "code",
      "metadata": {
        "id": "30bwthlOZ8mD",
        "colab_type": "code",
        "colab": {}
      },
      "source": [
        "import pandas as pd\n",
        "import numpy as np\n",
        "\n",
        "import datetime"
      ],
      "execution_count": 0,
      "outputs": []
    },
    {
      "cell_type": "code",
      "metadata": {
        "id": "m8CBApbpZ8mY",
        "colab_type": "code",
        "colab": {}
      },
      "source": [
        "# let's load the Lending Club dataset with a few selected columns\n",
        "# and just a few rows to speed things up\n",
        "\n",
        "use_cols = ['issue_d', 'last_pymnt_d']\n",
        "data = pd.read_csv('loan.csv', usecols=use_cols, nrows=10000)\n",
        "\n",
        "data.head()"
      ],
      "execution_count": 0,
      "outputs": []
    },
    {
      "cell_type": "code",
      "metadata": {
        "id": "YjX3taYWZ8mm",
        "colab_type": "code",
        "colab": {},
        "outputId": "1cddefe4-db09-4ce1-c809-6759b6aa0b35"
      },
      "source": [
        "# now let's parse the dates, currently cast as strings, into datetime format\n",
        "\n",
        "data['issue_dt'] = pd.to_datetime(data.issue_d)\n",
        "data['last_pymnt_dt'] = pd.to_datetime(data.last_pymnt_d)\n",
        "\n",
        "data[['issue_d','issue_dt','last_pymnt_d', 'last_pymnt_dt']].head()"
      ],
      "execution_count": 0,
      "outputs": [
        {
          "output_type": "execute_result",
          "data": {
            "text/html": [
              "<div>\n",
              "<style scoped>\n",
              "    .dataframe tbody tr th:only-of-type {\n",
              "        vertical-align: middle;\n",
              "    }\n",
              "\n",
              "    .dataframe tbody tr th {\n",
              "        vertical-align: top;\n",
              "    }\n",
              "\n",
              "    .dataframe thead th {\n",
              "        text-align: right;\n",
              "    }\n",
              "</style>\n",
              "<table border=\"1\" class=\"dataframe\">\n",
              "  <thead>\n",
              "    <tr style=\"text-align: right;\">\n",
              "      <th></th>\n",
              "      <th>issue_d</th>\n",
              "      <th>issue_dt</th>\n",
              "      <th>last_pymnt_d</th>\n",
              "      <th>last_pymnt_dt</th>\n",
              "    </tr>\n",
              "  </thead>\n",
              "  <tbody>\n",
              "    <tr>\n",
              "      <th>0</th>\n",
              "      <td>Dec-2011</td>\n",
              "      <td>2011-12-01</td>\n",
              "      <td>Jan-2015</td>\n",
              "      <td>2015-01-01</td>\n",
              "    </tr>\n",
              "    <tr>\n",
              "      <th>1</th>\n",
              "      <td>Dec-2011</td>\n",
              "      <td>2011-12-01</td>\n",
              "      <td>Apr-2013</td>\n",
              "      <td>2013-04-01</td>\n",
              "    </tr>\n",
              "    <tr>\n",
              "      <th>2</th>\n",
              "      <td>Dec-2011</td>\n",
              "      <td>2011-12-01</td>\n",
              "      <td>Jun-2014</td>\n",
              "      <td>2014-06-01</td>\n",
              "    </tr>\n",
              "    <tr>\n",
              "      <th>3</th>\n",
              "      <td>Dec-2011</td>\n",
              "      <td>2011-12-01</td>\n",
              "      <td>Jan-2015</td>\n",
              "      <td>2015-01-01</td>\n",
              "    </tr>\n",
              "    <tr>\n",
              "      <th>4</th>\n",
              "      <td>Dec-2011</td>\n",
              "      <td>2011-12-01</td>\n",
              "      <td>Jan-2016</td>\n",
              "      <td>2016-01-01</td>\n",
              "    </tr>\n",
              "  </tbody>\n",
              "</table>\n",
              "</div>"
            ],
            "text/plain": [
              "    issue_d   issue_dt last_pymnt_d last_pymnt_dt\n",
              "0  Dec-2011 2011-12-01     Jan-2015    2015-01-01\n",
              "1  Dec-2011 2011-12-01     Apr-2013    2013-04-01\n",
              "2  Dec-2011 2011-12-01     Jun-2014    2014-06-01\n",
              "3  Dec-2011 2011-12-01     Jan-2015    2015-01-01\n",
              "4  Dec-2011 2011-12-01     Jan-2016    2016-01-01"
            ]
          },
          "metadata": {
            "tags": []
          },
          "execution_count": 3
        }
      ]
    },
    {
      "cell_type": "markdown",
      "metadata": {
        "id": "EWXR3_KoZ8m0",
        "colab_type": "text"
      },
      "source": [
        "### Extract week of the year"
      ]
    },
    {
      "cell_type": "code",
      "metadata": {
        "id": "01h8-p7AZ8m4",
        "colab_type": "code",
        "colab": {},
        "outputId": "f7f7a192-0da4-4f8e-bf01-f6b5ff2cbc7a"
      },
      "source": [
        "# Extracting week of year from date, varies from 1 to 52\n",
        "\n",
        "data['issue_dt_week'] = data['issue_dt'].dt.week\n",
        "\n",
        "data[['issue_dt', 'issue_dt_week']].head()"
      ],
      "execution_count": 0,
      "outputs": [
        {
          "output_type": "execute_result",
          "data": {
            "text/html": [
              "<div>\n",
              "<style scoped>\n",
              "    .dataframe tbody tr th:only-of-type {\n",
              "        vertical-align: middle;\n",
              "    }\n",
              "\n",
              "    .dataframe tbody tr th {\n",
              "        vertical-align: top;\n",
              "    }\n",
              "\n",
              "    .dataframe thead th {\n",
              "        text-align: right;\n",
              "    }\n",
              "</style>\n",
              "<table border=\"1\" class=\"dataframe\">\n",
              "  <thead>\n",
              "    <tr style=\"text-align: right;\">\n",
              "      <th></th>\n",
              "      <th>issue_dt</th>\n",
              "      <th>issue_dt_week</th>\n",
              "    </tr>\n",
              "  </thead>\n",
              "  <tbody>\n",
              "    <tr>\n",
              "      <th>0</th>\n",
              "      <td>2011-12-01</td>\n",
              "      <td>48</td>\n",
              "    </tr>\n",
              "    <tr>\n",
              "      <th>1</th>\n",
              "      <td>2011-12-01</td>\n",
              "      <td>48</td>\n",
              "    </tr>\n",
              "    <tr>\n",
              "      <th>2</th>\n",
              "      <td>2011-12-01</td>\n",
              "      <td>48</td>\n",
              "    </tr>\n",
              "    <tr>\n",
              "      <th>3</th>\n",
              "      <td>2011-12-01</td>\n",
              "      <td>48</td>\n",
              "    </tr>\n",
              "    <tr>\n",
              "      <th>4</th>\n",
              "      <td>2011-12-01</td>\n",
              "      <td>48</td>\n",
              "    </tr>\n",
              "  </tbody>\n",
              "</table>\n",
              "</div>"
            ],
            "text/plain": [
              "    issue_dt  issue_dt_week\n",
              "0 2011-12-01             48\n",
              "1 2011-12-01             48\n",
              "2 2011-12-01             48\n",
              "3 2011-12-01             48\n",
              "4 2011-12-01             48"
            ]
          },
          "metadata": {
            "tags": []
          },
          "execution_count": 4
        }
      ]
    },
    {
      "cell_type": "code",
      "metadata": {
        "id": "cqNuX-y1Z8nE",
        "colab_type": "code",
        "colab": {},
        "outputId": "dc119cf0-9961-4373-f691-ebc4a2a9f761"
      },
      "source": [
        "data['issue_dt_week'].unique()"
      ],
      "execution_count": 0,
      "outputs": [
        {
          "output_type": "execute_result",
          "data": {
            "text/plain": [
              "array([48, 44, 39, 35, 31], dtype=int64)"
            ]
          },
          "metadata": {
            "tags": []
          },
          "execution_count": 6
        }
      ]
    },
    {
      "cell_type": "markdown",
      "metadata": {
        "id": "1GK2HA3CZ8nS",
        "colab_type": "text"
      },
      "source": [
        "### Extract month"
      ]
    },
    {
      "cell_type": "code",
      "metadata": {
        "id": "_Fu6mr0sZ8nV",
        "colab_type": "code",
        "colab": {},
        "outputId": "d3698fe0-a2b1-46dd-b9b8-876cd9ec9acc"
      },
      "source": [
        "# Extracting month from date - 1 to 12\n",
        "\n",
        "data['issue_dt_month'] = data['issue_dt'].dt.month\n",
        "\n",
        "data[['issue_dt', 'issue_dt_month']].head()"
      ],
      "execution_count": 0,
      "outputs": [
        {
          "output_type": "execute_result",
          "data": {
            "text/html": [
              "<div>\n",
              "<style scoped>\n",
              "    .dataframe tbody tr th:only-of-type {\n",
              "        vertical-align: middle;\n",
              "    }\n",
              "\n",
              "    .dataframe tbody tr th {\n",
              "        vertical-align: top;\n",
              "    }\n",
              "\n",
              "    .dataframe thead th {\n",
              "        text-align: right;\n",
              "    }\n",
              "</style>\n",
              "<table border=\"1\" class=\"dataframe\">\n",
              "  <thead>\n",
              "    <tr style=\"text-align: right;\">\n",
              "      <th></th>\n",
              "      <th>issue_dt</th>\n",
              "      <th>issue_dt_month</th>\n",
              "    </tr>\n",
              "  </thead>\n",
              "  <tbody>\n",
              "    <tr>\n",
              "      <th>0</th>\n",
              "      <td>2011-12-01</td>\n",
              "      <td>12</td>\n",
              "    </tr>\n",
              "    <tr>\n",
              "      <th>1</th>\n",
              "      <td>2011-12-01</td>\n",
              "      <td>12</td>\n",
              "    </tr>\n",
              "    <tr>\n",
              "      <th>2</th>\n",
              "      <td>2011-12-01</td>\n",
              "      <td>12</td>\n",
              "    </tr>\n",
              "    <tr>\n",
              "      <th>3</th>\n",
              "      <td>2011-12-01</td>\n",
              "      <td>12</td>\n",
              "    </tr>\n",
              "    <tr>\n",
              "      <th>4</th>\n",
              "      <td>2011-12-01</td>\n",
              "      <td>12</td>\n",
              "    </tr>\n",
              "  </tbody>\n",
              "</table>\n",
              "</div>"
            ],
            "text/plain": [
              "    issue_dt  issue_dt_month\n",
              "0 2011-12-01              12\n",
              "1 2011-12-01              12\n",
              "2 2011-12-01              12\n",
              "3 2011-12-01              12\n",
              "4 2011-12-01              12"
            ]
          },
          "metadata": {
            "tags": []
          },
          "execution_count": 7
        }
      ]
    },
    {
      "cell_type": "code",
      "metadata": {
        "id": "3p2hSs6lZ8ng",
        "colab_type": "code",
        "colab": {},
        "outputId": "2131d990-6ab4-448a-d72c-df5f3c84e0a4"
      },
      "source": [
        "data['issue_dt_month'].unique()"
      ],
      "execution_count": 0,
      "outputs": [
        {
          "output_type": "execute_result",
          "data": {
            "text/plain": [
              "array([12, 11, 10,  9,  8], dtype=int64)"
            ]
          },
          "metadata": {
            "tags": []
          },
          "execution_count": 8
        }
      ]
    },
    {
      "cell_type": "markdown",
      "metadata": {
        "id": "dkwPjuYWZ8nt",
        "colab_type": "text"
      },
      "source": [
        "### Extract quarter"
      ]
    },
    {
      "cell_type": "code",
      "metadata": {
        "id": "cVhA8osYZ8ny",
        "colab_type": "code",
        "colab": {},
        "outputId": "3a9da45b-f653-4a45-ffe2-8d107f5d2129"
      },
      "source": [
        "# Extract quarter from date variable - 1 to 4\n",
        "\n",
        "data['issue_dt_quarter'] = data['issue_dt'].dt.quarter\n",
        "\n",
        "data[['issue_dt', 'issue_dt_quarter']].head()"
      ],
      "execution_count": 0,
      "outputs": [
        {
          "output_type": "execute_result",
          "data": {
            "text/html": [
              "<div>\n",
              "<style scoped>\n",
              "    .dataframe tbody tr th:only-of-type {\n",
              "        vertical-align: middle;\n",
              "    }\n",
              "\n",
              "    .dataframe tbody tr th {\n",
              "        vertical-align: top;\n",
              "    }\n",
              "\n",
              "    .dataframe thead th {\n",
              "        text-align: right;\n",
              "    }\n",
              "</style>\n",
              "<table border=\"1\" class=\"dataframe\">\n",
              "  <thead>\n",
              "    <tr style=\"text-align: right;\">\n",
              "      <th></th>\n",
              "      <th>issue_dt</th>\n",
              "      <th>issue_dt_quarter</th>\n",
              "    </tr>\n",
              "  </thead>\n",
              "  <tbody>\n",
              "    <tr>\n",
              "      <th>0</th>\n",
              "      <td>2011-12-01</td>\n",
              "      <td>4</td>\n",
              "    </tr>\n",
              "    <tr>\n",
              "      <th>1</th>\n",
              "      <td>2011-12-01</td>\n",
              "      <td>4</td>\n",
              "    </tr>\n",
              "    <tr>\n",
              "      <th>2</th>\n",
              "      <td>2011-12-01</td>\n",
              "      <td>4</td>\n",
              "    </tr>\n",
              "    <tr>\n",
              "      <th>3</th>\n",
              "      <td>2011-12-01</td>\n",
              "      <td>4</td>\n",
              "    </tr>\n",
              "    <tr>\n",
              "      <th>4</th>\n",
              "      <td>2011-12-01</td>\n",
              "      <td>4</td>\n",
              "    </tr>\n",
              "  </tbody>\n",
              "</table>\n",
              "</div>"
            ],
            "text/plain": [
              "    issue_dt  issue_dt_quarter\n",
              "0 2011-12-01                 4\n",
              "1 2011-12-01                 4\n",
              "2 2011-12-01                 4\n",
              "3 2011-12-01                 4\n",
              "4 2011-12-01                 4"
            ]
          },
          "metadata": {
            "tags": []
          },
          "execution_count": 9
        }
      ]
    },
    {
      "cell_type": "code",
      "metadata": {
        "id": "7BJ7x3BCZ8n9",
        "colab_type": "code",
        "colab": {},
        "outputId": "6862d735-b447-4774-d936-a44796155978"
      },
      "source": [
        "data['issue_dt_quarter'].unique()"
      ],
      "execution_count": 0,
      "outputs": [
        {
          "output_type": "execute_result",
          "data": {
            "text/plain": [
              "array([4, 3], dtype=int64)"
            ]
          },
          "metadata": {
            "tags": []
          },
          "execution_count": 10
        }
      ]
    },
    {
      "cell_type": "markdown",
      "metadata": {
        "id": "Jwllm_y0Z8oI",
        "colab_type": "text"
      },
      "source": [
        "### Extract semester"
      ]
    },
    {
      "cell_type": "code",
      "metadata": {
        "id": "3LMLYhCUZ8oN",
        "colab_type": "code",
        "colab": {},
        "outputId": "e2cd8e4f-8a4b-4299-c5f9-556b8723ddb9"
      },
      "source": [
        "# We could also extract semester\n",
        "\n",
        "data['issue_dt_semester'] = np.where(data['issue_dt_quarter'].isin([1,2]), 1, 2)\n",
        "\n",
        "data.head()"
      ],
      "execution_count": 0,
      "outputs": [
        {
          "output_type": "execute_result",
          "data": {
            "text/html": [
              "<div>\n",
              "<style scoped>\n",
              "    .dataframe tbody tr th:only-of-type {\n",
              "        vertical-align: middle;\n",
              "    }\n",
              "\n",
              "    .dataframe tbody tr th {\n",
              "        vertical-align: top;\n",
              "    }\n",
              "\n",
              "    .dataframe thead th {\n",
              "        text-align: right;\n",
              "    }\n",
              "</style>\n",
              "<table border=\"1\" class=\"dataframe\">\n",
              "  <thead>\n",
              "    <tr style=\"text-align: right;\">\n",
              "      <th></th>\n",
              "      <th>issue_d</th>\n",
              "      <th>last_pymnt_d</th>\n",
              "      <th>issue_dt</th>\n",
              "      <th>last_pymnt_dt</th>\n",
              "      <th>issue_dt_week</th>\n",
              "      <th>issue_dt_month</th>\n",
              "      <th>issue_dt_quarter</th>\n",
              "      <th>issue_dt_semester</th>\n",
              "    </tr>\n",
              "  </thead>\n",
              "  <tbody>\n",
              "    <tr>\n",
              "      <th>0</th>\n",
              "      <td>Dec-2011</td>\n",
              "      <td>Jan-2015</td>\n",
              "      <td>2011-12-01</td>\n",
              "      <td>2015-01-01</td>\n",
              "      <td>48</td>\n",
              "      <td>12</td>\n",
              "      <td>4</td>\n",
              "      <td>2</td>\n",
              "    </tr>\n",
              "    <tr>\n",
              "      <th>1</th>\n",
              "      <td>Dec-2011</td>\n",
              "      <td>Apr-2013</td>\n",
              "      <td>2011-12-01</td>\n",
              "      <td>2013-04-01</td>\n",
              "      <td>48</td>\n",
              "      <td>12</td>\n",
              "      <td>4</td>\n",
              "      <td>2</td>\n",
              "    </tr>\n",
              "    <tr>\n",
              "      <th>2</th>\n",
              "      <td>Dec-2011</td>\n",
              "      <td>Jun-2014</td>\n",
              "      <td>2011-12-01</td>\n",
              "      <td>2014-06-01</td>\n",
              "      <td>48</td>\n",
              "      <td>12</td>\n",
              "      <td>4</td>\n",
              "      <td>2</td>\n",
              "    </tr>\n",
              "    <tr>\n",
              "      <th>3</th>\n",
              "      <td>Dec-2011</td>\n",
              "      <td>Jan-2015</td>\n",
              "      <td>2011-12-01</td>\n",
              "      <td>2015-01-01</td>\n",
              "      <td>48</td>\n",
              "      <td>12</td>\n",
              "      <td>4</td>\n",
              "      <td>2</td>\n",
              "    </tr>\n",
              "    <tr>\n",
              "      <th>4</th>\n",
              "      <td>Dec-2011</td>\n",
              "      <td>Jan-2016</td>\n",
              "      <td>2011-12-01</td>\n",
              "      <td>2016-01-01</td>\n",
              "      <td>48</td>\n",
              "      <td>12</td>\n",
              "      <td>4</td>\n",
              "      <td>2</td>\n",
              "    </tr>\n",
              "  </tbody>\n",
              "</table>\n",
              "</div>"
            ],
            "text/plain": [
              "    issue_d last_pymnt_d   issue_dt last_pymnt_dt  issue_dt_week  \\\n",
              "0  Dec-2011     Jan-2015 2011-12-01    2015-01-01             48   \n",
              "1  Dec-2011     Apr-2013 2011-12-01    2013-04-01             48   \n",
              "2  Dec-2011     Jun-2014 2011-12-01    2014-06-01             48   \n",
              "3  Dec-2011     Jan-2015 2011-12-01    2015-01-01             48   \n",
              "4  Dec-2011     Jan-2016 2011-12-01    2016-01-01             48   \n",
              "\n",
              "   issue_dt_month  issue_dt_quarter  issue_dt_semester  \n",
              "0              12                 4                  2  \n",
              "1              12                 4                  2  \n",
              "2              12                 4                  2  \n",
              "3              12                 4                  2  \n",
              "4              12                 4                  2  "
            ]
          },
          "metadata": {
            "tags": []
          },
          "execution_count": 11
        }
      ]
    },
    {
      "cell_type": "code",
      "metadata": {
        "id": "nSGQPhFOZ8oV",
        "colab_type": "code",
        "colab": {},
        "outputId": "057b4037-591f-4e65-e9cf-c1d6c18db2cf"
      },
      "source": [
        "data['issue_dt_semester'].unique()"
      ],
      "execution_count": 0,
      "outputs": [
        {
          "output_type": "execute_result",
          "data": {
            "text/plain": [
              "array([2], dtype=int64)"
            ]
          },
          "metadata": {
            "tags": []
          },
          "execution_count": 12
        }
      ]
    },
    {
      "cell_type": "markdown",
      "metadata": {
        "id": "TquGUdNzZ8oi",
        "colab_type": "text"
      },
      "source": [
        "###  Extract year"
      ]
    },
    {
      "cell_type": "code",
      "metadata": {
        "id": "YYKkJnlaZ8ok",
        "colab_type": "code",
        "colab": {},
        "outputId": "941063f2-d9d6-4ffb-90a5-d76c1f970dae"
      },
      "source": [
        "# extract year \n",
        "\n",
        "data['issue_dt_year'] = data['issue_dt'].dt.year\n",
        "\n",
        "data[['issue_dt', 'issue_dt_year']].head()"
      ],
      "execution_count": 0,
      "outputs": [
        {
          "output_type": "execute_result",
          "data": {
            "text/html": [
              "<div>\n",
              "<style scoped>\n",
              "    .dataframe tbody tr th:only-of-type {\n",
              "        vertical-align: middle;\n",
              "    }\n",
              "\n",
              "    .dataframe tbody tr th {\n",
              "        vertical-align: top;\n",
              "    }\n",
              "\n",
              "    .dataframe thead th {\n",
              "        text-align: right;\n",
              "    }\n",
              "</style>\n",
              "<table border=\"1\" class=\"dataframe\">\n",
              "  <thead>\n",
              "    <tr style=\"text-align: right;\">\n",
              "      <th></th>\n",
              "      <th>issue_dt</th>\n",
              "      <th>issue_dt_year</th>\n",
              "    </tr>\n",
              "  </thead>\n",
              "  <tbody>\n",
              "    <tr>\n",
              "      <th>0</th>\n",
              "      <td>2011-12-01</td>\n",
              "      <td>2011</td>\n",
              "    </tr>\n",
              "    <tr>\n",
              "      <th>1</th>\n",
              "      <td>2011-12-01</td>\n",
              "      <td>2011</td>\n",
              "    </tr>\n",
              "    <tr>\n",
              "      <th>2</th>\n",
              "      <td>2011-12-01</td>\n",
              "      <td>2011</td>\n",
              "    </tr>\n",
              "    <tr>\n",
              "      <th>3</th>\n",
              "      <td>2011-12-01</td>\n",
              "      <td>2011</td>\n",
              "    </tr>\n",
              "    <tr>\n",
              "      <th>4</th>\n",
              "      <td>2011-12-01</td>\n",
              "      <td>2011</td>\n",
              "    </tr>\n",
              "  </tbody>\n",
              "</table>\n",
              "</div>"
            ],
            "text/plain": [
              "    issue_dt  issue_dt_year\n",
              "0 2011-12-01           2011\n",
              "1 2011-12-01           2011\n",
              "2 2011-12-01           2011\n",
              "3 2011-12-01           2011\n",
              "4 2011-12-01           2011"
            ]
          },
          "metadata": {
            "tags": []
          },
          "execution_count": 13
        }
      ]
    },
    {
      "cell_type": "code",
      "metadata": {
        "id": "eQkccKP1Z8ot",
        "colab_type": "code",
        "colab": {},
        "outputId": "17794371-9ee3-48d1-c52b-6671d3334b63"
      },
      "source": [
        "data['issue_dt_year'].unique()"
      ],
      "execution_count": 0,
      "outputs": [
        {
          "output_type": "execute_result",
          "data": {
            "text/plain": [
              "array([2011], dtype=int64)"
            ]
          },
          "metadata": {
            "tags": []
          },
          "execution_count": 14
        }
      ]
    },
    {
      "cell_type": "markdown",
      "metadata": {
        "id": "mNO1EcojZ8o2",
        "colab_type": "text"
      },
      "source": [
        "### Extract days, in various formats"
      ]
    },
    {
      "cell_type": "code",
      "metadata": {
        "id": "jKXXXyPGZ8o6",
        "colab_type": "code",
        "colab": {},
        "outputId": "75a0e063-5a5a-470e-dd47-55ca68f36261"
      },
      "source": [
        "# day - numeric from 1-31\n",
        "\n",
        "data['issue_dt_day'] = data['issue_dt'].dt.day\n",
        "\n",
        "data[['issue_dt', 'issue_dt_day']].head()"
      ],
      "execution_count": 0,
      "outputs": [
        {
          "output_type": "execute_result",
          "data": {
            "text/html": [
              "<div>\n",
              "<style scoped>\n",
              "    .dataframe tbody tr th:only-of-type {\n",
              "        vertical-align: middle;\n",
              "    }\n",
              "\n",
              "    .dataframe tbody tr th {\n",
              "        vertical-align: top;\n",
              "    }\n",
              "\n",
              "    .dataframe thead th {\n",
              "        text-align: right;\n",
              "    }\n",
              "</style>\n",
              "<table border=\"1\" class=\"dataframe\">\n",
              "  <thead>\n",
              "    <tr style=\"text-align: right;\">\n",
              "      <th></th>\n",
              "      <th>issue_dt</th>\n",
              "      <th>issue_dt_day</th>\n",
              "    </tr>\n",
              "  </thead>\n",
              "  <tbody>\n",
              "    <tr>\n",
              "      <th>0</th>\n",
              "      <td>2011-12-01</td>\n",
              "      <td>1</td>\n",
              "    </tr>\n",
              "    <tr>\n",
              "      <th>1</th>\n",
              "      <td>2011-12-01</td>\n",
              "      <td>1</td>\n",
              "    </tr>\n",
              "    <tr>\n",
              "      <th>2</th>\n",
              "      <td>2011-12-01</td>\n",
              "      <td>1</td>\n",
              "    </tr>\n",
              "    <tr>\n",
              "      <th>3</th>\n",
              "      <td>2011-12-01</td>\n",
              "      <td>1</td>\n",
              "    </tr>\n",
              "    <tr>\n",
              "      <th>4</th>\n",
              "      <td>2011-12-01</td>\n",
              "      <td>1</td>\n",
              "    </tr>\n",
              "  </tbody>\n",
              "</table>\n",
              "</div>"
            ],
            "text/plain": [
              "    issue_dt  issue_dt_day\n",
              "0 2011-12-01             1\n",
              "1 2011-12-01             1\n",
              "2 2011-12-01             1\n",
              "3 2011-12-01             1\n",
              "4 2011-12-01             1"
            ]
          },
          "metadata": {
            "tags": []
          },
          "execution_count": 15
        }
      ]
    },
    {
      "cell_type": "code",
      "metadata": {
        "id": "LQg9yrWMZ8pC",
        "colab_type": "code",
        "colab": {},
        "outputId": "64fccc50-4e81-43c7-a94d-3e0b2d7a795b"
      },
      "source": [
        "data['issue_dt_day'].unique()"
      ],
      "execution_count": 0,
      "outputs": [
        {
          "output_type": "execute_result",
          "data": {
            "text/plain": [
              "array([1], dtype=int64)"
            ]
          },
          "metadata": {
            "tags": []
          },
          "execution_count": 16
        }
      ]
    },
    {
      "cell_type": "code",
      "metadata": {
        "id": "RmsTxsWjZ8pM",
        "colab_type": "code",
        "colab": {},
        "outputId": "1570b426-6ffa-4114-9c29-011390d6217c"
      },
      "source": [
        "# day of the week - from 0 to 6\n",
        "\n",
        "data['issue_dt_dayofweek'] = data['issue_dt'].dt.dayofweek\n",
        "\n",
        "data[['issue_dt', 'issue_dt_dayofweek']].head()"
      ],
      "execution_count": 0,
      "outputs": [
        {
          "output_type": "execute_result",
          "data": {
            "text/html": [
              "<div>\n",
              "<style scoped>\n",
              "    .dataframe tbody tr th:only-of-type {\n",
              "        vertical-align: middle;\n",
              "    }\n",
              "\n",
              "    .dataframe tbody tr th {\n",
              "        vertical-align: top;\n",
              "    }\n",
              "\n",
              "    .dataframe thead th {\n",
              "        text-align: right;\n",
              "    }\n",
              "</style>\n",
              "<table border=\"1\" class=\"dataframe\">\n",
              "  <thead>\n",
              "    <tr style=\"text-align: right;\">\n",
              "      <th></th>\n",
              "      <th>issue_dt</th>\n",
              "      <th>issue_dt_dayofweek</th>\n",
              "    </tr>\n",
              "  </thead>\n",
              "  <tbody>\n",
              "    <tr>\n",
              "      <th>0</th>\n",
              "      <td>2011-12-01</td>\n",
              "      <td>3</td>\n",
              "    </tr>\n",
              "    <tr>\n",
              "      <th>1</th>\n",
              "      <td>2011-12-01</td>\n",
              "      <td>3</td>\n",
              "    </tr>\n",
              "    <tr>\n",
              "      <th>2</th>\n",
              "      <td>2011-12-01</td>\n",
              "      <td>3</td>\n",
              "    </tr>\n",
              "    <tr>\n",
              "      <th>3</th>\n",
              "      <td>2011-12-01</td>\n",
              "      <td>3</td>\n",
              "    </tr>\n",
              "    <tr>\n",
              "      <th>4</th>\n",
              "      <td>2011-12-01</td>\n",
              "      <td>3</td>\n",
              "    </tr>\n",
              "  </tbody>\n",
              "</table>\n",
              "</div>"
            ],
            "text/plain": [
              "    issue_dt  issue_dt_dayofweek\n",
              "0 2011-12-01                   3\n",
              "1 2011-12-01                   3\n",
              "2 2011-12-01                   3\n",
              "3 2011-12-01                   3\n",
              "4 2011-12-01                   3"
            ]
          },
          "metadata": {
            "tags": []
          },
          "execution_count": 17
        }
      ]
    },
    {
      "cell_type": "code",
      "metadata": {
        "id": "olaNpYlrZ8pT",
        "colab_type": "code",
        "colab": {},
        "outputId": "1dc8e9a4-3001-437f-9eec-3306338fdd02"
      },
      "source": [
        "data['issue_dt_dayofweek'].unique()"
      ],
      "execution_count": 0,
      "outputs": [
        {
          "output_type": "execute_result",
          "data": {
            "text/plain": [
              "array([3, 1, 5, 0], dtype=int64)"
            ]
          },
          "metadata": {
            "tags": []
          },
          "execution_count": 18
        }
      ]
    },
    {
      "cell_type": "code",
      "metadata": {
        "id": "wnGEDyQrZ8pb",
        "colab_type": "code",
        "colab": {},
        "outputId": "f3a893bb-d27a-4d7c-de03-f00a63a0335d"
      },
      "source": [
        "# day of the week - name\n",
        "\n",
        "data['issue_dt_dayofweek'] = data['issue_dt'].dt.weekday_name\n",
        "\n",
        "data[['issue_dt', 'issue_dt_dayofweek']].head()"
      ],
      "execution_count": 0,
      "outputs": [
        {
          "output_type": "execute_result",
          "data": {
            "text/html": [
              "<div>\n",
              "<style scoped>\n",
              "    .dataframe tbody tr th:only-of-type {\n",
              "        vertical-align: middle;\n",
              "    }\n",
              "\n",
              "    .dataframe tbody tr th {\n",
              "        vertical-align: top;\n",
              "    }\n",
              "\n",
              "    .dataframe thead th {\n",
              "        text-align: right;\n",
              "    }\n",
              "</style>\n",
              "<table border=\"1\" class=\"dataframe\">\n",
              "  <thead>\n",
              "    <tr style=\"text-align: right;\">\n",
              "      <th></th>\n",
              "      <th>issue_dt</th>\n",
              "      <th>issue_dt_dayofweek</th>\n",
              "    </tr>\n",
              "  </thead>\n",
              "  <tbody>\n",
              "    <tr>\n",
              "      <th>0</th>\n",
              "      <td>2011-12-01</td>\n",
              "      <td>Thursday</td>\n",
              "    </tr>\n",
              "    <tr>\n",
              "      <th>1</th>\n",
              "      <td>2011-12-01</td>\n",
              "      <td>Thursday</td>\n",
              "    </tr>\n",
              "    <tr>\n",
              "      <th>2</th>\n",
              "      <td>2011-12-01</td>\n",
              "      <td>Thursday</td>\n",
              "    </tr>\n",
              "    <tr>\n",
              "      <th>3</th>\n",
              "      <td>2011-12-01</td>\n",
              "      <td>Thursday</td>\n",
              "    </tr>\n",
              "    <tr>\n",
              "      <th>4</th>\n",
              "      <td>2011-12-01</td>\n",
              "      <td>Thursday</td>\n",
              "    </tr>\n",
              "  </tbody>\n",
              "</table>\n",
              "</div>"
            ],
            "text/plain": [
              "    issue_dt issue_dt_dayofweek\n",
              "0 2011-12-01           Thursday\n",
              "1 2011-12-01           Thursday\n",
              "2 2011-12-01           Thursday\n",
              "3 2011-12-01           Thursday\n",
              "4 2011-12-01           Thursday"
            ]
          },
          "metadata": {
            "tags": []
          },
          "execution_count": 19
        }
      ]
    },
    {
      "cell_type": "code",
      "metadata": {
        "id": "g-cy_WtLZ8pl",
        "colab_type": "code",
        "colab": {},
        "outputId": "3e38158e-4760-4ff1-b140-19467ca2f35b"
      },
      "source": [
        "data['issue_dt_dayofweek'].unique()"
      ],
      "execution_count": 0,
      "outputs": [
        {
          "output_type": "execute_result",
          "data": {
            "text/plain": [
              "array(['Thursday', 'Tuesday', 'Saturday', 'Monday'], dtype=object)"
            ]
          },
          "metadata": {
            "tags": []
          },
          "execution_count": 20
        }
      ]
    },
    {
      "cell_type": "code",
      "metadata": {
        "id": "o9zziI6XZ8pu",
        "colab_type": "code",
        "colab": {},
        "outputId": "fa059b15-a553-4900-9bd5-d6c6ed6700cf"
      },
      "source": [
        "# was the application done on the weekend?\n",
        "\n",
        "data['issue_dt_is_weekend'] = np.where(data['issue_dt_dayofweek'].isin(['Sunday', 'Saturday']), 1,0)\n",
        "\n",
        "data[['issue_dt', 'issue_dt_dayofweek','issue_dt_is_weekend']].head()"
      ],
      "execution_count": 0,
      "outputs": [
        {
          "output_type": "execute_result",
          "data": {
            "text/html": [
              "<div>\n",
              "<style scoped>\n",
              "    .dataframe tbody tr th:only-of-type {\n",
              "        vertical-align: middle;\n",
              "    }\n",
              "\n",
              "    .dataframe tbody tr th {\n",
              "        vertical-align: top;\n",
              "    }\n",
              "\n",
              "    .dataframe thead th {\n",
              "        text-align: right;\n",
              "    }\n",
              "</style>\n",
              "<table border=\"1\" class=\"dataframe\">\n",
              "  <thead>\n",
              "    <tr style=\"text-align: right;\">\n",
              "      <th></th>\n",
              "      <th>issue_dt</th>\n",
              "      <th>issue_dt_dayofweek</th>\n",
              "      <th>issue_dt_is_weekend</th>\n",
              "    </tr>\n",
              "  </thead>\n",
              "  <tbody>\n",
              "    <tr>\n",
              "      <th>0</th>\n",
              "      <td>2011-12-01</td>\n",
              "      <td>Thursday</td>\n",
              "      <td>0</td>\n",
              "    </tr>\n",
              "    <tr>\n",
              "      <th>1</th>\n",
              "      <td>2011-12-01</td>\n",
              "      <td>Thursday</td>\n",
              "      <td>0</td>\n",
              "    </tr>\n",
              "    <tr>\n",
              "      <th>2</th>\n",
              "      <td>2011-12-01</td>\n",
              "      <td>Thursday</td>\n",
              "      <td>0</td>\n",
              "    </tr>\n",
              "    <tr>\n",
              "      <th>3</th>\n",
              "      <td>2011-12-01</td>\n",
              "      <td>Thursday</td>\n",
              "      <td>0</td>\n",
              "    </tr>\n",
              "    <tr>\n",
              "      <th>4</th>\n",
              "      <td>2011-12-01</td>\n",
              "      <td>Thursday</td>\n",
              "      <td>0</td>\n",
              "    </tr>\n",
              "  </tbody>\n",
              "</table>\n",
              "</div>"
            ],
            "text/plain": [
              "    issue_dt issue_dt_dayofweek  issue_dt_is_weekend\n",
              "0 2011-12-01           Thursday                    0\n",
              "1 2011-12-01           Thursday                    0\n",
              "2 2011-12-01           Thursday                    0\n",
              "3 2011-12-01           Thursday                    0\n",
              "4 2011-12-01           Thursday                    0"
            ]
          },
          "metadata": {
            "tags": []
          },
          "execution_count": 21
        }
      ]
    },
    {
      "cell_type": "code",
      "metadata": {
        "id": "hAhlDD4cZ8p1",
        "colab_type": "code",
        "colab": {},
        "outputId": "5937734a-de21-4261-f1ba-346b6d18f38b"
      },
      "source": [
        "data['issue_dt_is_weekend'].unique()"
      ],
      "execution_count": 0,
      "outputs": [
        {
          "output_type": "execute_result",
          "data": {
            "text/plain": [
              "array([0, 1], dtype=int64)"
            ]
          },
          "metadata": {
            "tags": []
          },
          "execution_count": 22
        }
      ]
    },
    {
      "cell_type": "markdown",
      "metadata": {
        "id": "Dq20TSuwZ8p-",
        "colab_type": "text"
      },
      "source": [
        "### Extract Time elapsed between dates"
      ]
    },
    {
      "cell_type": "code",
      "metadata": {
        "scrolled": true,
        "id": "rH5P6tscZ8qC",
        "colab_type": "code",
        "colab": {},
        "outputId": "ba0fe4c2-df19-4a59-eadc-79ffde469888"
      },
      "source": [
        "# perhaps more interestingly, extract the date difference between 2 dates\n",
        "\n",
        "data['issue_dt'] - data['last_pymnt_dt']"
      ],
      "execution_count": 0,
      "outputs": [
        {
          "output_type": "execute_result",
          "data": {
            "text/plain": [
              "0      -1127 days\n",
              "1       -487 days\n",
              "2       -913 days\n",
              "3      -1127 days\n",
              "4      -1492 days\n",
              "5      -1127 days\n",
              "6      -1492 days\n",
              "7      -1127 days\n",
              "8       -122 days\n",
              "9       -336 days\n",
              "10      -548 days\n",
              "11      -640 days\n",
              "12      -213 days\n",
              "13     -1127 days\n",
              "14      -670 days\n",
              "15     -1127 days\n",
              "16     -1127 days\n",
              "17      -517 days\n",
              "18     -1158 days\n",
              "19      -213 days\n",
              "20     -1339 days\n",
              "21      -640 days\n",
              "22     -1127 days\n",
              "23      -670 days\n",
              "24      -305 days\n",
              "25      -275 days\n",
              "26            NaT\n",
              "27      -366 days\n",
              "28      -487 days\n",
              "29     -1096 days\n",
              "          ...    \n",
              "9970   -1096 days\n",
              "9971   -1188 days\n",
              "9972    -519 days\n",
              "9973    -274 days\n",
              "9974   -1096 days\n",
              "9975   -1004 days\n",
              "9976    -274 days\n",
              "9977   -1096 days\n",
              "9978   -1096 days\n",
              "9979    -762 days\n",
              "9980   -1492 days\n",
              "9981    -397 days\n",
              "9982   -1004 days\n",
              "9983     -31 days\n",
              "9984    -974 days\n",
              "9985   -1096 days\n",
              "9986   -1096 days\n",
              "9987    -731 days\n",
              "9988    -853 days\n",
              "9989    -915 days\n",
              "9990    -244 days\n",
              "9991   -1096 days\n",
              "9992   -1096 days\n",
              "9993    -458 days\n",
              "9994   -1614 days\n",
              "9995    -974 days\n",
              "9996   -1522 days\n",
              "9997   -1096 days\n",
              "9998   -1096 days\n",
              "9999    -153 days\n",
              "Length: 10000, dtype: timedelta64[ns]"
            ]
          },
          "metadata": {
            "tags": []
          },
          "execution_count": 23
        }
      ]
    },
    {
      "cell_type": "code",
      "metadata": {
        "id": "h3uarw4tZ8qK",
        "colab_type": "code",
        "colab": {},
        "outputId": "daff28b0-f573-453f-c53a-3c4d17e97241"
      },
      "source": [
        "# same as above capturing just the time difference\n",
        "\n",
        "(data['last_pymnt_dt'] - data['issue_dt']).dt.days.head()"
      ],
      "execution_count": 0,
      "outputs": [
        {
          "output_type": "execute_result",
          "data": {
            "text/plain": [
              "0    1127.0\n",
              "1     487.0\n",
              "2     913.0\n",
              "3    1127.0\n",
              "4    1492.0\n",
              "dtype: float64"
            ]
          },
          "metadata": {
            "tags": []
          },
          "execution_count": 24
        }
      ]
    },
    {
      "cell_type": "code",
      "metadata": {
        "scrolled": true,
        "id": "PzRD6RQDZ8qQ",
        "colab_type": "code",
        "colab": {},
        "outputId": "735664d2-0a65-4856-c475-accdb8e2b2ed"
      },
      "source": [
        "# calculate number of months passed between 2 dates\n",
        "\n",
        "data['months_passed'] = (data['last_pymnt_dt'] - data['issue_dt']) / np.timedelta64(1, 'M')\n",
        "data['months_passed'] = np.round(data['months_passed'],0)\n",
        "\n",
        "data[['last_pymnt_dt', 'issue_dt','months_passed']].head()"
      ],
      "execution_count": 0,
      "outputs": [
        {
          "output_type": "execute_result",
          "data": {
            "text/html": [
              "<div>\n",
              "<style scoped>\n",
              "    .dataframe tbody tr th:only-of-type {\n",
              "        vertical-align: middle;\n",
              "    }\n",
              "\n",
              "    .dataframe tbody tr th {\n",
              "        vertical-align: top;\n",
              "    }\n",
              "\n",
              "    .dataframe thead th {\n",
              "        text-align: right;\n",
              "    }\n",
              "</style>\n",
              "<table border=\"1\" class=\"dataframe\">\n",
              "  <thead>\n",
              "    <tr style=\"text-align: right;\">\n",
              "      <th></th>\n",
              "      <th>last_pymnt_dt</th>\n",
              "      <th>issue_dt</th>\n",
              "      <th>months_passed</th>\n",
              "    </tr>\n",
              "  </thead>\n",
              "  <tbody>\n",
              "    <tr>\n",
              "      <th>0</th>\n",
              "      <td>2015-01-01</td>\n",
              "      <td>2011-12-01</td>\n",
              "      <td>37.0</td>\n",
              "    </tr>\n",
              "    <tr>\n",
              "      <th>1</th>\n",
              "      <td>2013-04-01</td>\n",
              "      <td>2011-12-01</td>\n",
              "      <td>16.0</td>\n",
              "    </tr>\n",
              "    <tr>\n",
              "      <th>2</th>\n",
              "      <td>2014-06-01</td>\n",
              "      <td>2011-12-01</td>\n",
              "      <td>30.0</td>\n",
              "    </tr>\n",
              "    <tr>\n",
              "      <th>3</th>\n",
              "      <td>2015-01-01</td>\n",
              "      <td>2011-12-01</td>\n",
              "      <td>37.0</td>\n",
              "    </tr>\n",
              "    <tr>\n",
              "      <th>4</th>\n",
              "      <td>2016-01-01</td>\n",
              "      <td>2011-12-01</td>\n",
              "      <td>49.0</td>\n",
              "    </tr>\n",
              "  </tbody>\n",
              "</table>\n",
              "</div>"
            ],
            "text/plain": [
              "  last_pymnt_dt   issue_dt  months_passed\n",
              "0    2015-01-01 2011-12-01           37.0\n",
              "1    2013-04-01 2011-12-01           16.0\n",
              "2    2014-06-01 2011-12-01           30.0\n",
              "3    2015-01-01 2011-12-01           37.0\n",
              "4    2016-01-01 2011-12-01           49.0"
            ]
          },
          "metadata": {
            "tags": []
          },
          "execution_count": 42
        }
      ]
    },
    {
      "cell_type": "code",
      "metadata": {
        "id": "UCLe8_auZ8qX",
        "colab_type": "code",
        "colab": {},
        "outputId": "0286a107-2f48-4435-d3ce-330dc2368ae3"
      },
      "source": [
        "# or the time difference to today\n",
        "\n",
        "(datetime.datetime.today() - data['issue_dt']).head()"
      ],
      "execution_count": 0,
      "outputs": [
        {
          "output_type": "execute_result",
          "data": {
            "text/plain": [
              "0   2854 days 15:27:20.297171\n",
              "1   2854 days 15:27:20.297171\n",
              "2   2854 days 15:27:20.297171\n",
              "3   2854 days 15:27:20.297171\n",
              "4   2854 days 15:27:20.297171\n",
              "Name: issue_dt, dtype: timedelta64[ns]"
            ]
          },
          "metadata": {
            "tags": []
          },
          "execution_count": 25
        }
      ]
    },
    {
      "cell_type": "code",
      "metadata": {
        "id": "e9A1OFQRZ8qe",
        "colab_type": "code",
        "colab": {},
        "outputId": "f1b059b5-b914-4582-bde4-33e0f031db8a"
      },
      "source": [
        "(datetime.datetime.today() - data['issue_dt']).unique()"
      ],
      "execution_count": 0,
      "outputs": [
        {
          "output_type": "execute_result",
          "data": {
            "text/plain": [
              "array([246641263284274000, 249233263284274000, 251911663284274000,\n",
              "       254503663284274000, 257182063284274000], dtype='timedelta64[ns]')"
            ]
          },
          "metadata": {
            "tags": []
          },
          "execution_count": 27
        }
      ]
    },
    {
      "cell_type": "code",
      "metadata": {
        "id": "Qv1dvu_iZ8qm",
        "colab_type": "code",
        "colab": {}
      },
      "source": [
        ""
      ],
      "execution_count": 0,
      "outputs": []
    }
  ]
}