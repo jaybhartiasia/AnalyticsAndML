{
  "nbformat": 4,
  "nbformat_minor": 0,
  "metadata": {
    "kernelspec": {
      "display_name": "feml",
      "language": "python",
      "name": "feml"
    },
    "language_info": {
      "codemirror_mode": {
        "name": "ipython",
        "version": 3
      },
      "file_extension": ".py",
      "mimetype": "text/x-python",
      "name": "python",
      "nbconvert_exporter": "python",
      "pygments_lexer": "ipython3",
      "version": "3.7.3"
    },
    "toc": {
      "base_numbering": 1,
      "nav_menu": {},
      "number_sections": true,
      "sideBar": true,
      "skip_h1_title": false,
      "title_cell": "Table of Contents",
      "title_sidebar": "Contents",
      "toc_cell": false,
      "toc_position": {},
      "toc_section_display": "block",
      "toc_window_display": true
    },
    "colab": {
      "name": "2.8 Weight-of-Evidence.ipynb",
      "provenance": [],
      "include_colab_link": true
    }
  },
  "cells": [
    {
      "cell_type": "markdown",
      "metadata": {
        "id": "view-in-github",
        "colab_type": "text"
      },
      "source": [
        "<a href=\"https://colab.research.google.com/github/vinay10949/AnalyticsAndML/blob/master/FeatureEngineering/Categorical-Variable-Encoding/2_8_Weight_of_Evidence.ipynb\" target=\"_parent\"><img src=\"https://colab.research.google.com/assets/colab-badge.svg\" alt=\"Open In Colab\"/></a>"
      ]
    },
    {
      "cell_type": "markdown",
      "metadata": {
        "id": "f6k_7f1D64A8",
        "colab_type": "text"
      },
      "source": [
        "## Weight  of evidence\n",
        "\n",
        "Weight of Evidence (WoE) was developed primarily for the credit and financial industries to help build more predictive models to evaluate the risk of loan default. That is, to predict how likely the money lent to a person or institution is to be lost. Thus, Weight of Evidence is a measure of the \"strength” of a grouping technique to separate good and bad risk (default). \n",
        "\n",
        "- WoE will be 0 if the P(Goods) / P(Bads) = 1, that is, if the outcome is random for that group.\n",
        "- If P(Bads) > P(Goods) the odds ratio will be < 1 and,\n",
        "- WoE will be < 0 if,  P(Goods) > P(Bads).\n",
        "\n",
        "WoE is well suited for Logistic Regression, because the Logit transformation is simply the log of the odds, i.e., ln(P(Goods)/P(Bads)). Therefore, by using WoE-coded predictors in logistic regression, the predictors are all prepared and coded to the same scale, and the parameters in the linear logistic regression equation can be directly compared.\n",
        "\n",
        "The WoE transformation has three advantages:\n",
        "\n",
        "- It creates a monotonic relationship between the target and the independent variables.\n",
        "- It orders the categories on a \"logistic\" scale which is natural for logistic regression\n",
        "- The transformed variables can then be compared because they are on the same scale. Therefore, it is possible to determine which one is more predictive.\n",
        "\n",
        "The WoE also has a limitation:\n",
        "\n",
        "- Prone to cause over-fitting\n",
        "\n",
        "\n",
        "For more details follow this [link](http://documentation.statsoft.com/StatisticaHelp.aspx?path=WeightofEvidence/WeightofEvidenceWoEIntroductoryOverview)\n",
        "\n"
      ]
    },
    {
      "cell_type": "code",
      "metadata": {
        "scrolled": true,
        "id": "l8CaMPDP64BH",
        "colab_type": "code",
        "colab": {}
      },
      "source": [
        "!pip install feature_engine\n",
        "import numpy as np\n",
        "import pandas as pd\n",
        "\n",
        "import matplotlib.pyplot as plt\n",
        "\n",
        "# to split the datasets\n",
        "from sklearn.model_selection import train_test_split\n",
        "\n",
        "# for encoding using feature-engine\n",
        "from feature_engine.categorical_encoders import WoERatioCategoricalEncoder"
      ],
      "execution_count": 0,
      "outputs": []
    },
    {
      "cell_type": "code",
      "metadata": {
        "id": "SxkB_0oJ64Bn",
        "colab_type": "code",
        "colab": {
          "base_uri": "https://localhost:8080/",
          "height": 206
        },
        "outputId": "a62e7fc8-e0a7-4c44-a811-04e4a1a9734d"
      },
      "source": [
        "# load dataset\n",
        "\n",
        "data = pd.read_csv(\n",
        "    'titanic_train.csv',\n",
        "    usecols=['Cabin', 'Sex', 'Embarked', 'Survived'])\n",
        "\n",
        "data.head()"
      ],
      "execution_count": 2,
      "outputs": [
        {
          "output_type": "execute_result",
          "data": {
            "text/html": [
              "<div>\n",
              "<style scoped>\n",
              "    .dataframe tbody tr th:only-of-type {\n",
              "        vertical-align: middle;\n",
              "    }\n",
              "\n",
              "    .dataframe tbody tr th {\n",
              "        vertical-align: top;\n",
              "    }\n",
              "\n",
              "    .dataframe thead th {\n",
              "        text-align: right;\n",
              "    }\n",
              "</style>\n",
              "<table border=\"1\" class=\"dataframe\">\n",
              "  <thead>\n",
              "    <tr style=\"text-align: right;\">\n",
              "      <th></th>\n",
              "      <th>Survived</th>\n",
              "      <th>Sex</th>\n",
              "      <th>Cabin</th>\n",
              "      <th>Embarked</th>\n",
              "    </tr>\n",
              "  </thead>\n",
              "  <tbody>\n",
              "    <tr>\n",
              "      <th>0</th>\n",
              "      <td>0</td>\n",
              "      <td>male</td>\n",
              "      <td>NaN</td>\n",
              "      <td>S</td>\n",
              "    </tr>\n",
              "    <tr>\n",
              "      <th>1</th>\n",
              "      <td>1</td>\n",
              "      <td>female</td>\n",
              "      <td>C85</td>\n",
              "      <td>C</td>\n",
              "    </tr>\n",
              "    <tr>\n",
              "      <th>2</th>\n",
              "      <td>1</td>\n",
              "      <td>female</td>\n",
              "      <td>NaN</td>\n",
              "      <td>S</td>\n",
              "    </tr>\n",
              "    <tr>\n",
              "      <th>3</th>\n",
              "      <td>1</td>\n",
              "      <td>female</td>\n",
              "      <td>C123</td>\n",
              "      <td>S</td>\n",
              "    </tr>\n",
              "    <tr>\n",
              "      <th>4</th>\n",
              "      <td>0</td>\n",
              "      <td>male</td>\n",
              "      <td>NaN</td>\n",
              "      <td>S</td>\n",
              "    </tr>\n",
              "  </tbody>\n",
              "</table>\n",
              "</div>"
            ],
            "text/plain": [
              "   Survived     Sex Cabin Embarked\n",
              "0         0    male   NaN        S\n",
              "1         1  female   C85        C\n",
              "2         1  female   NaN        S\n",
              "3         1  female  C123        S\n",
              "4         0    male   NaN        S"
            ]
          },
          "metadata": {
            "tags": []
          },
          "execution_count": 2
        }
      ]
    },
    {
      "cell_type": "code",
      "metadata": {
        "id": "G7fU67o664CA",
        "colab_type": "code",
        "colab": {
          "base_uri": "https://localhost:8080/",
          "height": 34
        },
        "outputId": "65ee3aea-7d2a-411e-8202-67a59187f384"
      },
      "source": [
        "# let's remove observations with na in embarked\n",
        "\n",
        "data.dropna(subset=['Embarked'], inplace=True)\n",
        "data.shape"
      ],
      "execution_count": 3,
      "outputs": [
        {
          "output_type": "execute_result",
          "data": {
            "text/plain": [
              "(889, 4)"
            ]
          },
          "metadata": {
            "tags": []
          },
          "execution_count": 3
        }
      ]
    },
    {
      "cell_type": "code",
      "metadata": {
        "id": "1kd2dFT964CS",
        "colab_type": "code",
        "colab": {}
      },
      "source": [
        "# Now we extract the first letter of the cabin\n",
        "# to create a simpler variable for the demo\n",
        "\n",
        "data['Cabin'] = data['Cabin'].astype(str).str[0]"
      ],
      "execution_count": 0,
      "outputs": []
    },
    {
      "cell_type": "code",
      "metadata": {
        "id": "8FC_6oI964Cj",
        "colab_type": "code",
        "colab": {
          "base_uri": "https://localhost:8080/",
          "height": 34
        },
        "outputId": "7ba45a9a-f368-4f90-e827-ce5ec53d3a17"
      },
      "source": [
        "# and we remove the observations where cabin = T\n",
        "# because only few observations show T in the dataset\n",
        "\n",
        "data = data[data['Cabin']!= 'T']\n",
        "data.shape"
      ],
      "execution_count": 6,
      "outputs": [
        {
          "output_type": "execute_result",
          "data": {
            "text/plain": [
              "(888, 4)"
            ]
          },
          "metadata": {
            "tags": []
          },
          "execution_count": 6
        }
      ]
    },
    {
      "cell_type": "code",
      "metadata": {
        "id": "Aeq1mJ-i64C2",
        "colab_type": "code",
        "colab": {
          "base_uri": "https://localhost:8080/",
          "height": 86
        },
        "outputId": "dc51c9fd-a91e-42ba-b73c-b51c16767b70"
      },
      "source": [
        "# let's have a look at how many labels each variable has\n",
        "\n",
        "for col in data.columns:\n",
        "    print(col, ': ', len(data[col].unique()), ' labels')"
      ],
      "execution_count": 7,
      "outputs": [
        {
          "output_type": "stream",
          "text": [
            "Survived :  2  labels\n",
            "Sex :  2  labels\n",
            "Cabin :  8  labels\n",
            "Embarked :  3  labels\n"
          ],
          "name": "stdout"
        }
      ]
    },
    {
      "cell_type": "code",
      "metadata": {
        "id": "NV6I-H6964DC",
        "colab_type": "code",
        "colab": {
          "base_uri": "https://localhost:8080/",
          "height": 34
        },
        "outputId": "e9490b06-fa7d-481a-f869-88ab4cd7eb0c"
      },
      "source": [
        "# let's explore the unique categories\n",
        "data['Cabin'].unique()"
      ],
      "execution_count": 9,
      "outputs": [
        {
          "output_type": "execute_result",
          "data": {
            "text/plain": [
              "array(['n', 'C', 'E', 'G', 'D', 'A', 'B', 'F'], dtype=object)"
            ]
          },
          "metadata": {
            "tags": []
          },
          "execution_count": 9
        }
      ]
    },
    {
      "cell_type": "code",
      "metadata": {
        "id": "E2An-Ovm64DS",
        "colab_type": "code",
        "colab": {
          "base_uri": "https://localhost:8080/",
          "height": 34
        },
        "outputId": "b8cf87e9-ddd1-4607-c714-cf6ccd9629a8"
      },
      "source": [
        "data['Sex'].unique()"
      ],
      "execution_count": 10,
      "outputs": [
        {
          "output_type": "execute_result",
          "data": {
            "text/plain": [
              "array(['male', 'female'], dtype=object)"
            ]
          },
          "metadata": {
            "tags": []
          },
          "execution_count": 10
        }
      ]
    },
    {
      "cell_type": "code",
      "metadata": {
        "id": "dPgCaYg-64Dd",
        "colab_type": "code",
        "colab": {
          "base_uri": "https://localhost:8080/",
          "height": 34
        },
        "outputId": "ffac874e-62a7-4352-ca4a-ceb183d6c1d5"
      },
      "source": [
        "data['Embarked'].unique()"
      ],
      "execution_count": 11,
      "outputs": [
        {
          "output_type": "execute_result",
          "data": {
            "text/plain": [
              "array(['S', 'C', 'Q'], dtype=object)"
            ]
          },
          "metadata": {
            "tags": []
          },
          "execution_count": 11
        }
      ]
    },
    {
      "cell_type": "markdown",
      "metadata": {
        "id": "7VD1OYRZ64Ds",
        "colab_type": "text"
      },
      "source": [
        "### Encoding important\n",
        "\n",
        "We select calculate the woe using the train set, and then use those mappings in the test set.\n",
        "\n",
        "Note that in the pandas implementation, we need to keep the target in the training set"
      ]
    },
    {
      "cell_type": "code",
      "metadata": {
        "id": "EMr6029264Dz",
        "colab_type": "code",
        "colab": {
          "base_uri": "https://localhost:8080/",
          "height": 34
        },
        "outputId": "f52a4608-5598-4b5f-d8d7-24bc74918428"
      },
      "source": [
        "# let's separate into training and testing set\n",
        "\n",
        "X_train, X_test, y_train, y_test = train_test_split(\n",
        "    data[['Cabin', 'Sex', 'Embarked', 'Survived']],  # this time we keep the target!!\n",
        "    data['Survived'],  # target\n",
        "    test_size=0.3,  # percentage of obs in test set\n",
        "    random_state=0)  # seed to ensure reproducibility\n",
        "\n",
        "X_train.shape, X_test.shape"
      ],
      "execution_count": 12,
      "outputs": [
        {
          "output_type": "execute_result",
          "data": {
            "text/plain": [
              "((621, 4), (267, 4))"
            ]
          },
          "metadata": {
            "tags": []
          },
          "execution_count": 12
        }
      ]
    },
    {
      "cell_type": "markdown",
      "metadata": {
        "id": "WBI34Hms64ED",
        "colab_type": "text"
      },
      "source": [
        "### Explore original relationship between categorical variables and target"
      ]
    },
    {
      "cell_type": "code",
      "metadata": {
        "id": "lwaag28e64EG",
        "colab_type": "code",
        "colab": {
          "base_uri": "https://localhost:8080/",
          "height": 851
        },
        "outputId": "e29fd72c-eb50-4e7a-a950-cbb5da060896"
      },
      "source": [
        "# let's explore the relationship of the categories with the target\n",
        "\n",
        "for var in ['Cabin', 'Sex', 'Embarked']:\n",
        "    \n",
        "    fig = plt.figure()\n",
        "    fig = X_train.groupby([var])['Survived'].mean().plot()\n",
        "    fig.set_title('Relationship between {} and Survival'.format(var))\n",
        "    fig.set_ylabel('Mean Survival')\n",
        "    plt.show()"
      ],
      "execution_count": 13,
      "outputs": [
        {
          "output_type": "display_data",
          "data": {
            "image/png": "[encoded data removed]",
            "text/plain": [
              "<Figure size 432x288 with 1 Axes>"
            ]
          },
          "metadata": {
            "tags": []
          }
        },
        {
          "output_type": "display_data",
          "data": {
            "image/png": "[encoded data removed]",
            "text/plain": [
              "<Figure size 432x288 with 1 Axes>"
            ]
          },
          "metadata": {
            "tags": []
          }
        },
        {
          "output_type": "display_data",
          "data": {
            "image/png": "[encoded data removed]",
            "text/plain": [
              "<Figure size 432x288 with 1 Axes>"
            ]
          },
          "metadata": {
            "tags": []
          }
        }
      ]
    },
    {
      "cell_type": "markdown",
      "metadata": {
        "id": "32xxXTcr64EW",
        "colab_type": "text"
      },
      "source": [
        "You can see that the relationship between the target and cabin and embarked goes up and down, depending on the category.\n",
        "\n",
        "\n",
        "## Weight of Evidence with pandas\n",
        "\n",
        "\n",
        "### Advantages\n",
        "\n",
        "- quick\n",
        "- returns pandas dataframe\n",
        "\n",
        "### Limitations of pandas:\n",
        "\n",
        "- it does not preserve information from train data to propagate to test data\n",
        "\n",
        "We need to store the mappings separately if planning to use the model in production."
      ]
    },
    {
      "cell_type": "code",
      "metadata": {
        "id": "BO3HDDhl64EZ",
        "colab_type": "code",
        "colab": {
          "base_uri": "https://localhost:8080/",
          "height": 332
        },
        "outputId": "7ae03e60-f144-47a5-b967-453f15e7d470"
      },
      "source": [
        "# let's calculate the probability of survived = 1 per category\n",
        "# (probability of events or p(1))\n",
        "\n",
        "prob_df = X_train.groupby(['Cabin'])['Survived'].mean()\n",
        "\n",
        "# and capture it into a dataframe\n",
        "prob_df = pd.DataFrame(prob_df)\n",
        "prob_df"
      ],
      "execution_count": 14,
      "outputs": [
        {
          "output_type": "execute_result",
          "data": {
            "text/html": [
              "<div>\n",
              "<style scoped>\n",
              "    .dataframe tbody tr th:only-of-type {\n",
              "        vertical-align: middle;\n",
              "    }\n",
              "\n",
              "    .dataframe tbody tr th {\n",
              "        vertical-align: top;\n",
              "    }\n",
              "\n",
              "    .dataframe thead th {\n",
              "        text-align: right;\n",
              "    }\n",
              "</style>\n",
              "<table border=\"1\" class=\"dataframe\">\n",
              "  <thead>\n",
              "    <tr style=\"text-align: right;\">\n",
              "      <th></th>\n",
              "      <th>Survived</th>\n",
              "    </tr>\n",
              "    <tr>\n",
              "      <th>Cabin</th>\n",
              "      <th></th>\n",
              "    </tr>\n",
              "  </thead>\n",
              "  <tbody>\n",
              "    <tr>\n",
              "      <th>A</th>\n",
              "      <td>0.461538</td>\n",
              "    </tr>\n",
              "    <tr>\n",
              "      <th>B</th>\n",
              "      <td>0.727273</td>\n",
              "    </tr>\n",
              "    <tr>\n",
              "      <th>C</th>\n",
              "      <td>0.547619</td>\n",
              "    </tr>\n",
              "    <tr>\n",
              "      <th>D</th>\n",
              "      <td>0.750000</td>\n",
              "    </tr>\n",
              "    <tr>\n",
              "      <th>E</th>\n",
              "      <td>0.769231</td>\n",
              "    </tr>\n",
              "    <tr>\n",
              "      <th>F</th>\n",
              "      <td>0.583333</td>\n",
              "    </tr>\n",
              "    <tr>\n",
              "      <th>G</th>\n",
              "      <td>0.500000</td>\n",
              "    </tr>\n",
              "    <tr>\n",
              "      <th>n</th>\n",
              "      <td>0.308668</td>\n",
              "    </tr>\n",
              "  </tbody>\n",
              "</table>\n",
              "</div>"
            ],
            "text/plain": [
              "       Survived\n",
              "Cabin          \n",
              "A      0.461538\n",
              "B      0.727273\n",
              "C      0.547619\n",
              "D      0.750000\n",
              "E      0.769231\n",
              "F      0.583333\n",
              "G      0.500000\n",
              "n      0.308668"
            ]
          },
          "metadata": {
            "tags": []
          },
          "execution_count": 14
        }
      ]
    },
    {
      "cell_type": "code",
      "metadata": {
        "id": "hU_UySqI64Ek",
        "colab_type": "code",
        "colab": {
          "base_uri": "https://localhost:8080/",
          "height": 332
        },
        "outputId": "d86cbf32-e4fe-4212-86bb-ebd9db6ca59e"
      },
      "source": [
        "# and now the probability of survived = 0\n",
        "# (probability of non-events or p(0))\n",
        "\n",
        "prob_df['died'] = 1-prob_df['Survived']\n",
        "\n",
        "prob_df"
      ],
      "execution_count": 15,
      "outputs": [
        {
          "output_type": "execute_result",
          "data": {
            "text/html": [
              "<div>\n",
              "<style scoped>\n",
              "    .dataframe tbody tr th:only-of-type {\n",
              "        vertical-align: middle;\n",
              "    }\n",
              "\n",
              "    .dataframe tbody tr th {\n",
              "        vertical-align: top;\n",
              "    }\n",
              "\n",
              "    .dataframe thead th {\n",
              "        text-align: right;\n",
              "    }\n",
              "</style>\n",
              "<table border=\"1\" class=\"dataframe\">\n",
              "  <thead>\n",
              "    <tr style=\"text-align: right;\">\n",
              "      <th></th>\n",
              "      <th>Survived</th>\n",
              "      <th>died</th>\n",
              "    </tr>\n",
              "    <tr>\n",
              "      <th>Cabin</th>\n",
              "      <th></th>\n",
              "      <th></th>\n",
              "    </tr>\n",
              "  </thead>\n",
              "  <tbody>\n",
              "    <tr>\n",
              "      <th>A</th>\n",
              "      <td>0.461538</td>\n",
              "      <td>0.538462</td>\n",
              "    </tr>\n",
              "    <tr>\n",
              "      <th>B</th>\n",
              "      <td>0.727273</td>\n",
              "      <td>0.272727</td>\n",
              "    </tr>\n",
              "    <tr>\n",
              "      <th>C</th>\n",
              "      <td>0.547619</td>\n",
              "      <td>0.452381</td>\n",
              "    </tr>\n",
              "    <tr>\n",
              "      <th>D</th>\n",
              "      <td>0.750000</td>\n",
              "      <td>0.250000</td>\n",
              "    </tr>\n",
              "    <tr>\n",
              "      <th>E</th>\n",
              "      <td>0.769231</td>\n",
              "      <td>0.230769</td>\n",
              "    </tr>\n",
              "    <tr>\n",
              "      <th>F</th>\n",
              "      <td>0.583333</td>\n",
              "      <td>0.416667</td>\n",
              "    </tr>\n",
              "    <tr>\n",
              "      <th>G</th>\n",
              "      <td>0.500000</td>\n",
              "      <td>0.500000</td>\n",
              "    </tr>\n",
              "    <tr>\n",
              "      <th>n</th>\n",
              "      <td>0.308668</td>\n",
              "      <td>0.691332</td>\n",
              "    </tr>\n",
              "  </tbody>\n",
              "</table>\n",
              "</div>"
            ],
            "text/plain": [
              "       Survived      died\n",
              "Cabin                    \n",
              "A      0.461538  0.538462\n",
              "B      0.727273  0.272727\n",
              "C      0.547619  0.452381\n",
              "D      0.750000  0.250000\n",
              "E      0.769231  0.230769\n",
              "F      0.583333  0.416667\n",
              "G      0.500000  0.500000\n",
              "n      0.308668  0.691332"
            ]
          },
          "metadata": {
            "tags": []
          },
          "execution_count": 15
        }
      ]
    },
    {
      "cell_type": "code",
      "metadata": {
        "id": "JX7Rwh7764E1",
        "colab_type": "code",
        "colab": {
          "base_uri": "https://localhost:8080/",
          "height": 332
        },
        "outputId": "208f000b-3a6d-47fe-8dd6-e9132a4f2139"
      },
      "source": [
        "#  and now the woe\n",
        "\n",
        "prob_df['ratio'] = np.log( prob_df['Survived'] / prob_df['died'] )\n",
        "\n",
        "prob_df"
      ],
      "execution_count": 16,
      "outputs": [
        {
          "output_type": "execute_result",
          "data": {
            "text/html": [
              "<div>\n",
              "<style scoped>\n",
              "    .dataframe tbody tr th:only-of-type {\n",
              "        vertical-align: middle;\n",
              "    }\n",
              "\n",
              "    .dataframe tbody tr th {\n",
              "        vertical-align: top;\n",
              "    }\n",
              "\n",
              "    .dataframe thead th {\n",
              "        text-align: right;\n",
              "    }\n",
              "</style>\n",
              "<table border=\"1\" class=\"dataframe\">\n",
              "  <thead>\n",
              "    <tr style=\"text-align: right;\">\n",
              "      <th></th>\n",
              "      <th>Survived</th>\n",
              "      <th>died</th>\n",
              "      <th>ratio</th>\n",
              "    </tr>\n",
              "    <tr>\n",
              "      <th>Cabin</th>\n",
              "      <th></th>\n",
              "      <th></th>\n",
              "      <th></th>\n",
              "    </tr>\n",
              "  </thead>\n",
              "  <tbody>\n",
              "    <tr>\n",
              "      <th>A</th>\n",
              "      <td>0.461538</td>\n",
              "      <td>0.538462</td>\n",
              "      <td>-0.154151</td>\n",
              "    </tr>\n",
              "    <tr>\n",
              "      <th>B</th>\n",
              "      <td>0.727273</td>\n",
              "      <td>0.272727</td>\n",
              "      <td>0.980829</td>\n",
              "    </tr>\n",
              "    <tr>\n",
              "      <th>C</th>\n",
              "      <td>0.547619</td>\n",
              "      <td>0.452381</td>\n",
              "      <td>0.191055</td>\n",
              "    </tr>\n",
              "    <tr>\n",
              "      <th>D</th>\n",
              "      <td>0.750000</td>\n",
              "      <td>0.250000</td>\n",
              "      <td>1.098612</td>\n",
              "    </tr>\n",
              "    <tr>\n",
              "      <th>E</th>\n",
              "      <td>0.769231</td>\n",
              "      <td>0.230769</td>\n",
              "      <td>1.203973</td>\n",
              "    </tr>\n",
              "    <tr>\n",
              "      <th>F</th>\n",
              "      <td>0.583333</td>\n",
              "      <td>0.416667</td>\n",
              "      <td>0.336472</td>\n",
              "    </tr>\n",
              "    <tr>\n",
              "      <th>G</th>\n",
              "      <td>0.500000</td>\n",
              "      <td>0.500000</td>\n",
              "      <td>0.000000</td>\n",
              "    </tr>\n",
              "    <tr>\n",
              "      <th>n</th>\n",
              "      <td>0.308668</td>\n",
              "      <td>0.691332</td>\n",
              "      <td>-0.806354</td>\n",
              "    </tr>\n",
              "  </tbody>\n",
              "</table>\n",
              "</div>"
            ],
            "text/plain": [
              "       Survived      died     ratio\n",
              "Cabin                              \n",
              "A      0.461538  0.538462 -0.154151\n",
              "B      0.727273  0.272727  0.980829\n",
              "C      0.547619  0.452381  0.191055\n",
              "D      0.750000  0.250000  1.098612\n",
              "E      0.769231  0.230769  1.203973\n",
              "F      0.583333  0.416667  0.336472\n",
              "G      0.500000  0.500000  0.000000\n",
              "n      0.308668  0.691332 -0.806354"
            ]
          },
          "metadata": {
            "tags": []
          },
          "execution_count": 16
        }
      ]
    },
    {
      "cell_type": "code",
      "metadata": {
        "id": "neZkoAgB64E9",
        "colab_type": "code",
        "colab": {
          "base_uri": "https://localhost:8080/",
          "height": 156
        },
        "outputId": "453c885e-192c-47e2-cc56-1726a55e324e"
      },
      "source": [
        "# and now let's capture the woe in a dictionary\n",
        "\n",
        "ordered_labels = prob_df['ratio'].to_dict()\n",
        "\n",
        "ordered_labels"
      ],
      "execution_count": 17,
      "outputs": [
        {
          "output_type": "execute_result",
          "data": {
            "text/plain": [
              "{'A': -0.15415067982725822,\n",
              " 'B': 0.9808292530117263,\n",
              " 'C': 0.1910552367627094,\n",
              " 'D': 1.0986122886681098,\n",
              " 'E': 1.2039728043259361,\n",
              " 'F': 0.336472236621213,\n",
              " 'G': 0.0,\n",
              " 'n': -0.8063535491889171}"
            ]
          },
          "metadata": {
            "tags": []
          },
          "execution_count": 17
        }
      ]
    },
    {
      "cell_type": "code",
      "metadata": {
        "id": "PQuaq2E164FG",
        "colab_type": "code",
        "colab": {}
      },
      "source": [
        "# now, we replace the labels with the woe\n",
        "\n",
        "X_train['Cabin'] = X_train['Cabin'].map(ordered_labels)\n",
        "X_test['Cabin'] = X_test['Cabin'].map(ordered_labels)"
      ],
      "execution_count": 0,
      "outputs": []
    },
    {
      "cell_type": "code",
      "metadata": {
        "id": "aemEKemv64FR",
        "colab_type": "code",
        "colab": {
          "base_uri": "https://localhost:8080/",
          "height": 208
        },
        "outputId": "fe3dfe9d-887e-428d-b2a8-1aa0d0aecff9"
      },
      "source": [
        "# let's explore the result\n",
        "\n",
        "X_train['Cabin'].head(10)"
      ],
      "execution_count": 19,
      "outputs": [
        {
          "output_type": "execute_result",
          "data": {
            "text/plain": [
              "352   -0.806354\n",
              "125   -0.806354\n",
              "579   -0.806354\n",
              "424   -0.806354\n",
              "119   -0.806354\n",
              "12    -0.806354\n",
              "158   -0.806354\n",
              "128    0.336472\n",
              "426   -0.806354\n",
              "236   -0.806354\n",
              "Name: Cabin, dtype: float64"
            ]
          },
          "metadata": {
            "tags": []
          },
          "execution_count": 19
        }
      ]
    },
    {
      "cell_type": "code",
      "metadata": {
        "id": "X3RXSTNS64Fd",
        "colab_type": "code",
        "colab": {}
      },
      "source": [
        "# we can turn the previous commands into 2 functions\n",
        "\n",
        "\n",
        "def find_category_mappings(df, variable, target):\n",
        "\n",
        "    tmp = pd.DataFrame(df.groupby([variable])[target].mean())\n",
        "    \n",
        "    tmp['non-target'] = 1 - tmp[target]\n",
        "    \n",
        "    tmp['ratio'] = np.log( tmp[target] / tmp['non-target'] )\n",
        "\n",
        "    return tmp['ratio'].to_dict()\n",
        "\n",
        "\n",
        "def integer_encode(train, test, variable, ordinal_mapping):\n",
        "\n",
        "    X_train[variable] = X_train[variable].map(ordinal_mapping)\n",
        "    \n",
        "    X_test[variable] = X_test[variable].map(ordinal_mapping)"
      ],
      "execution_count": 0,
      "outputs": []
    },
    {
      "cell_type": "code",
      "metadata": {
        "id": "MMiKVbRu64Fk",
        "colab_type": "code",
        "colab": {}
      },
      "source": [
        "# and now we run a loop over the remaining categorical variables\n",
        "\n",
        "for variable in ['Sex', 'Embarked']:\n",
        "    \n",
        "    mappings = find_category_mappings(X_train, variable, 'Survived')\n",
        "    \n",
        "    integer_encode(X_train, X_test, variable, mappings)"
      ],
      "execution_count": 0,
      "outputs": []
    },
    {
      "cell_type": "code",
      "metadata": {
        "id": "M-KY5jt264Fv",
        "colab_type": "code",
        "colab": {
          "base_uri": "https://localhost:8080/",
          "height": 206
        },
        "outputId": "b336dd77-a9c3-4383-d661-1c94223c4fe8"
      },
      "source": [
        "# let's see the result\n",
        "\n",
        "X_train.head()"
      ],
      "execution_count": 22,
      "outputs": [
        {
          "output_type": "execute_result",
          "data": {
            "text/html": [
              "<div>\n",
              "<style scoped>\n",
              "    .dataframe tbody tr th:only-of-type {\n",
              "        vertical-align: middle;\n",
              "    }\n",
              "\n",
              "    .dataframe tbody tr th {\n",
              "        vertical-align: top;\n",
              "    }\n",
              "\n",
              "    .dataframe thead th {\n",
              "        text-align: right;\n",
              "    }\n",
              "</style>\n",
              "<table border=\"1\" class=\"dataframe\">\n",
              "  <thead>\n",
              "    <tr style=\"text-align: right;\">\n",
              "      <th></th>\n",
              "      <th>Cabin</th>\n",
              "      <th>Sex</th>\n",
              "      <th>Embarked</th>\n",
              "      <th>Survived</th>\n",
              "    </tr>\n",
              "  </thead>\n",
              "  <tbody>\n",
              "    <tr>\n",
              "      <th>352</th>\n",
              "      <td>-0.806354</td>\n",
              "      <td>-1.392525</td>\n",
              "      <td>0.223144</td>\n",
              "      <td>0</td>\n",
              "    </tr>\n",
              "    <tr>\n",
              "      <th>125</th>\n",
              "      <td>-0.806354</td>\n",
              "      <td>-1.392525</td>\n",
              "      <td>0.223144</td>\n",
              "      <td>1</td>\n",
              "    </tr>\n",
              "    <tr>\n",
              "      <th>579</th>\n",
              "      <td>-0.806354</td>\n",
              "      <td>-1.392525</td>\n",
              "      <td>-0.628189</td>\n",
              "      <td>1</td>\n",
              "    </tr>\n",
              "    <tr>\n",
              "      <th>424</th>\n",
              "      <td>-0.806354</td>\n",
              "      <td>-1.392525</td>\n",
              "      <td>-0.628189</td>\n",
              "      <td>0</td>\n",
              "    </tr>\n",
              "    <tr>\n",
              "      <th>119</th>\n",
              "      <td>-0.806354</td>\n",
              "      <td>1.044545</td>\n",
              "      <td>-0.628189</td>\n",
              "      <td>0</td>\n",
              "    </tr>\n",
              "  </tbody>\n",
              "</table>\n",
              "</div>"
            ],
            "text/plain": [
              "        Cabin       Sex  Embarked  Survived\n",
              "352 -0.806354 -1.392525  0.223144         0\n",
              "125 -0.806354 -1.392525  0.223144         1\n",
              "579 -0.806354 -1.392525 -0.628189         1\n",
              "424 -0.806354 -1.392525 -0.628189         0\n",
              "119 -0.806354  1.044545 -0.628189         0"
            ]
          },
          "metadata": {
            "tags": []
          },
          "execution_count": 22
        }
      ]
    },
    {
      "cell_type": "code",
      "metadata": {
        "scrolled": false,
        "id": "Bx3D6k0J64F6",
        "colab_type": "code",
        "colab": {
          "base_uri": "https://localhost:8080/",
          "height": 851
        },
        "outputId": "a6d8b206-7487-403b-c328-75e7388b4ed8"
      },
      "source": [
        "# let's inspect the newly created monotonic relationship\n",
        "# between the categorical variables and the target\n",
        "\n",
        "for var in ['Cabin', 'Sex', 'Embarked']:\n",
        "    \n",
        "    fig = plt.figure()\n",
        "    fig = X_train.groupby([var])['Survived'].mean().plot()\n",
        "    fig.set_title('Monotonic relationship between {} and Survival'.format(var))\n",
        "    fig.set_ylabel('Mean Survived')\n",
        "    plt.show()"
      ],
      "execution_count": 23,
      "outputs": [
        {
          "output_type": "display_data",
          "data": {
            "image/png": "[encoded data removed]",
            "text/plain": [
              "<Figure size 432x288 with 1 Axes>"
            ]
          },
          "metadata": {
            "tags": []
          }
        },
        {
          "output_type": "display_data",
          "data": {
            "image/png": "[encoded data removed]",
            "text/plain": [
              "<Figure size 432x288 with 1 Axes>"
            ]
          },
          "metadata": {
            "tags": []
          }
        },
        {
          "output_type": "display_data",
          "data": {
            "image/png": "[encoded data removed]",
            "text/plain": [
              "<Figure size 432x288 with 1 Axes>"
            ]
          },
          "metadata": {
            "tags": []
          }
        }
      ]
    },
    {
      "cell_type": "markdown",
      "metadata": {
        "id": "hkQGDXqJ64GC",
        "colab_type": "text"
      },
      "source": [
        "Note the monotonic relationships between the mean target and the categories.\n",
        "\n",
        "### Note\n",
        "\n",
        "Replacing categorical labels with this code and method will generate missing values for categories present in the test set that were not seen in the training set. Therefore it is extremely important to handle rare labels before-hand. I will explain how to do this, in a later notebook.\n",
        "\n",
        "**In addition, it will create NA or Inf if the probability of target = 0 is zero, as the division by zero is not defined.**"
      ]
    },
    {
      "cell_type": "markdown",
      "metadata": {
        "id": "ma5Minmk64GE",
        "colab_type": "text"
      },
      "source": [
        "## Weight of Evidence with Feature-Engine\n",
        "\n",
        "If using Feature-Engine, instead of pandas, we do not need to keep the target variable in the training dataset."
      ]
    },
    {
      "cell_type": "code",
      "metadata": {
        "id": "mRtJIVJ364GF",
        "colab_type": "code",
        "colab": {
          "base_uri": "https://localhost:8080/",
          "height": 34
        },
        "outputId": "fc865b3d-bbaa-46e7-ff44-47aedbae200e"
      },
      "source": [
        "# let's separate into training and testing set\n",
        "\n",
        "X_train, X_test, y_train, y_test = train_test_split(\n",
        "    data[['Cabin', 'Sex', 'Embarked']],  # predictors\n",
        "    data['Survived'],  # target\n",
        "    test_size=0.3,  # percentage of obs in test set\n",
        "    random_state=0)  # seed to ensure reproducibility\n",
        "\n",
        "X_train.shape, X_test.shape"
      ],
      "execution_count": 26,
      "outputs": [
        {
          "output_type": "execute_result",
          "data": {
            "text/plain": [
              "((621, 3), (267, 3))"
            ]
          },
          "metadata": {
            "tags": []
          },
          "execution_count": 26
        }
      ]
    },
    {
      "cell_type": "code",
      "metadata": {
        "id": "lb2upOIa64GN",
        "colab_type": "code",
        "colab": {}
      },
      "source": [
        "woe_enc = WoERatioCategoricalEncoder(\n",
        "    encoding_method = 'woe',\n",
        "    variables=['Cabin', 'Sex', 'Embarked'])"
      ],
      "execution_count": 0,
      "outputs": []
    },
    {
      "cell_type": "code",
      "metadata": {
        "id": "--9zLBbm64GW",
        "colab_type": "code",
        "colab": {
          "base_uri": "https://localhost:8080/",
          "height": 52
        },
        "outputId": "6431a12d-53de-446a-c2c6-f68f29236be1"
      },
      "source": [
        "# when fitting the transformer, we need to pass the target as well\n",
        "# just like with any Scikit-learn predictor class\n",
        "\n",
        "woe_enc.fit(X_train, y_train)"
      ],
      "execution_count": 27,
      "outputs": [
        {
          "output_type": "execute_result",
          "data": {
            "text/plain": [
              "WoERatioCategoricalEncoder(encoding_method='woe',\n",
              "                           variables=['Cabin', 'Sex', 'Embarked'])"
            ]
          },
          "metadata": {
            "tags": []
          },
          "execution_count": 27
        }
      ]
    },
    {
      "cell_type": "code",
      "metadata": {
        "scrolled": true,
        "id": "1Y1QKrPr64Gd",
        "colab_type": "code",
        "colab": {
          "base_uri": "https://localhost:8080/",
          "height": 225
        },
        "outputId": "4b6c4cd3-7674-4c1c-88d0-e29b469a99c9"
      },
      "source": [
        "# in the encoder dict we see the woe for each category\n",
        "# for each of the selected variables\n",
        "\n",
        "woe_enc.encoder_dict_"
      ],
      "execution_count": 28,
      "outputs": [
        {
          "output_type": "execute_result",
          "data": {
            "text/plain": [
              "{'Cabin': {'A': -0.15415067982725822,\n",
              "  'B': 0.9808292530117263,\n",
              "  'C': 0.1910552367627094,\n",
              "  'D': 1.0986122886681098,\n",
              "  'E': 1.2039728043259361,\n",
              "  'F': 0.336472236621213,\n",
              "  'G': 0.0,\n",
              "  'n': -0.8063535491889171},\n",
              " 'Embarked': {'C': 0.22314355131420993,\n",
              "  'Q': -0.3610133455373306,\n",
              "  'S': -0.6281892842851728},\n",
              " 'Sex': {'female': 1.0445450673978338, 'male': -1.3925249108705267}}"
            ]
          },
          "metadata": {
            "tags": []
          },
          "execution_count": 28
        }
      ]
    },
    {
      "cell_type": "code",
      "metadata": {
        "id": "9PvkKt1A64Gj",
        "colab_type": "code",
        "colab": {
          "base_uri": "https://localhost:8080/",
          "height": 34
        },
        "outputId": "a5d36c16-a21b-4b95-e012-0795379fab81"
      },
      "source": [
        "# this is the list of variables that the encoder will transform\n",
        "\n",
        "woe_enc.variables"
      ],
      "execution_count": 29,
      "outputs": [
        {
          "output_type": "execute_result",
          "data": {
            "text/plain": [
              "['Cabin', 'Sex', 'Embarked']"
            ]
          },
          "metadata": {
            "tags": []
          },
          "execution_count": 29
        }
      ]
    },
    {
      "cell_type": "code",
      "metadata": {
        "id": "FYeTWGNY64Go",
        "colab_type": "code",
        "colab": {
          "base_uri": "https://localhost:8080/",
          "height": 206
        },
        "outputId": "e6567630-6506-466e-b3c9-4c98bf5c7fd1"
      },
      "source": [
        "X_train = woe_enc.transform(X_train)\n",
        "X_test = woe_enc.transform(X_test)\n",
        "\n",
        "# let's explore the result\n",
        "X_train.head()"
      ],
      "execution_count": 30,
      "outputs": [
        {
          "output_type": "execute_result",
          "data": {
            "text/html": [
              "<div>\n",
              "<style scoped>\n",
              "    .dataframe tbody tr th:only-of-type {\n",
              "        vertical-align: middle;\n",
              "    }\n",
              "\n",
              "    .dataframe tbody tr th {\n",
              "        vertical-align: top;\n",
              "    }\n",
              "\n",
              "    .dataframe thead th {\n",
              "        text-align: right;\n",
              "    }\n",
              "</style>\n",
              "<table border=\"1\" class=\"dataframe\">\n",
              "  <thead>\n",
              "    <tr style=\"text-align: right;\">\n",
              "      <th></th>\n",
              "      <th>Cabin</th>\n",
              "      <th>Sex</th>\n",
              "      <th>Embarked</th>\n",
              "    </tr>\n",
              "  </thead>\n",
              "  <tbody>\n",
              "    <tr>\n",
              "      <th>352</th>\n",
              "      <td>-0.806354</td>\n",
              "      <td>-1.392525</td>\n",
              "      <td>0.223144</td>\n",
              "    </tr>\n",
              "    <tr>\n",
              "      <th>125</th>\n",
              "      <td>-0.806354</td>\n",
              "      <td>-1.392525</td>\n",
              "      <td>0.223144</td>\n",
              "    </tr>\n",
              "    <tr>\n",
              "      <th>579</th>\n",
              "      <td>-0.806354</td>\n",
              "      <td>-1.392525</td>\n",
              "      <td>-0.628189</td>\n",
              "    </tr>\n",
              "    <tr>\n",
              "      <th>424</th>\n",
              "      <td>-0.806354</td>\n",
              "      <td>-1.392525</td>\n",
              "      <td>-0.628189</td>\n",
              "    </tr>\n",
              "    <tr>\n",
              "      <th>119</th>\n",
              "      <td>-0.806354</td>\n",
              "      <td>1.044545</td>\n",
              "      <td>-0.628189</td>\n",
              "    </tr>\n",
              "  </tbody>\n",
              "</table>\n",
              "</div>"
            ],
            "text/plain": [
              "        Cabin       Sex  Embarked\n",
              "352 -0.806354 -1.392525  0.223144\n",
              "125 -0.806354 -1.392525  0.223144\n",
              "579 -0.806354 -1.392525 -0.628189\n",
              "424 -0.806354 -1.392525 -0.628189\n",
              "119 -0.806354  1.044545 -0.628189"
            ]
          },
          "metadata": {
            "tags": []
          },
          "execution_count": 30
        }
      ]
    },
    {
      "cell_type": "markdown",
      "metadata": {
        "id": "Kkxqs46k64G0",
        "colab_type": "text"
      },
      "source": [
        "**Note**\n",
        "\n",
        "If the argument variables is left to None, then the encoder will automatically identify all categorical variables. Is that not sweet?\n",
        "\n",
        "The encoder will not encode numerical variables. So if some of your numerical variables are in fact categories, you will need to re-cast them as object before using the encoder.\n",
        "\n",
        "If there is a label in the test set that was not present in the train set, the encoder will through and error, to alert you of this behaviour.\n",
        "\n",
        "Finally, if the probability of target = 0 is zero for any category, the encoder will raise an error as the division by zero is not defined."
      ]
    },
    {
      "cell_type": "code",
      "metadata": {
        "id": "IiWIqhmi64G4",
        "colab_type": "code",
        "colab": {}
      },
      "source": [
        ""
      ],
      "execution_count": 0,
      "outputs": []
    }
  ]
}