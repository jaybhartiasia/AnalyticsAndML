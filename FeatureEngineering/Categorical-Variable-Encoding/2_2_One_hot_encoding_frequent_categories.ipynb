{
  "nbformat": 4,
  "nbformat_minor": 0,
  "metadata": {
    "kernelspec": {
      "display_name": "feml",
      "language": "python",
      "name": "feml"
    },
    "language_info": {
      "codemirror_mode": {
        "name": "ipython",
        "version": 3
      },
      "file_extension": ".py",
      "mimetype": "text/x-python",
      "name": "python",
      "nbconvert_exporter": "python",
      "pygments_lexer": "ipython3",
      "version": "3.7.3"
    },
    "toc": {
      "base_numbering": 1,
      "nav_menu": {},
      "number_sections": true,
      "sideBar": true,
      "skip_h1_title": false,
      "title_cell": "Table of Contents",
      "title_sidebar": "Contents",
      "toc_cell": false,
      "toc_position": {},
      "toc_section_display": "block",
      "toc_window_display": true
    },
    "colab": {
      "name": "2.2 One-hot-encoding-frequent_categories.ipynb",
      "provenance": [],
      "include_colab_link": true
    }
  },
  "cells": [
    {
      "cell_type": "markdown",
      "metadata": {
        "id": "view-in-github",
        "colab_type": "text"
      },
      "source": [
        "<a href=\"https://colab.research.google.com/github/vinay10949/AnalyticsAndML/blob/master/FeatureEngineering/Categorical-Variable-Encoding/2_2_One_hot_encoding_frequent_categories.ipynb\" target=\"_parent\"><img src=\"https://colab.research.google.com/assets/colab-badge.svg\" alt=\"Open In Colab\"/></a>"
      ]
    },
    {
      "cell_type": "markdown",
      "metadata": {
        "id": "X7w2diF31WLB",
        "colab_type": "text"
      },
      "source": [
        "## One Hot Encoding of Frequent Categories\n",
        "\n",
        "We learned in Section 3 that high cardinality and rare labels may result in certain categories appearing only in the train set, therefore causing over-fitting, or only in the test set, and then our models wouldn't know how to score those observations.\n",
        "\n",
        "We also learned in the previous lecture on one hot encoding, that if categorical variables contain multiple labels, then by re-encoding them with dummy variables we will expand the feature space dramatically.\n",
        "\n",
        "**In order to avoid these complications, we can create dummy variables only for the most frequent categories**\n",
        "\n",
        "This procedure is also called one hot encoding of top categories.\n",
        "\n",
        "In fact, in the winning solution of the KDD 2009 cup: [\"Winning the KDD Cup Orange Challenge with Ensemble Selection\"](http://www.mtome.com/Publications/CiML/CiML-v3-book.pdf), the authors limit one hot encoding to the 10 most frequent labels of the variable. This means that they would make one binary variable for each of the 10 most frequent labels only.\n",
        "\n",
        "OHE of frequent or top categories is equivalent to grouping all the remaining categories under a new category. We will have a better look at grouping rare values into a new category in a later notebook in this section.\n",
        "\n",
        "\n",
        "### Advantages of OHE of top categories\n",
        "\n",
        "- Straightforward to implement\n",
        "- Does not require hrs of variable exploration\n",
        "- Does not expand massively the feature space\n",
        "- Suitable for linear models\n",
        "\n",
        "\n",
        "### Limitations\n",
        "\n",
        "- Does not add any information that may make the variable more predictive\n",
        "- Does not keep the information of the ignored labels\n",
        "\n",
        "\n",
        "Often, categorical variables show a few dominating categories while the remaining labels add little information. Therefore, OHE of top categories is a simple and useful technique.\n",
        "\n",
        "### Note\n",
        "\n",
        "The number of top variables is set arbitrarily. In the KDD competition the authors selected 10, but it could have been 15 or 5 as well. This number can be chosen arbitrarily or derived from data exploration.\n",
        "\n"
      ]
    },
    {
      "cell_type": "code",
      "metadata": {
        "id": "A8QmrfCo1WLO",
        "colab_type": "code",
        "colab": {
          "base_uri": "https://localhost:8080/",
          "height": 714
        },
        "outputId": "ee5780f9-f579-42fb-f6ef-772f90d76cf5"
      },
      "source": [
        "!pip install feature_engine\n",
        "import numpy as np\n",
        "import pandas as pd\n",
        "\n",
        "# to split the datasets\n",
        "from sklearn.model_selection import train_test_split\n",
        "\n",
        "# for one hot encoding with feature-engine\n",
        "from feature_engine.categorical_encoders import OneHotCategoricalEncoder"
      ],
      "execution_count": 2,
      "outputs": [
        {
          "output_type": "stream",
          "text": [
            "Collecting feature_engine\n",
            "  Downloading https://files.pythonhosted.org/packages/b3/0f/7f7f60195879fc487aeaecba343f02c6f4426bc239b378b73655d40c1d06/feature_engine-0.3.1-py3-none-any.whl\n",
            "Collecting numpydoc>=0.6.0\n",
            "  Downloading https://files.pythonhosted.org/packages/b0/70/4d8c3f9f6783a57ac9cc7a076e5610c0cc4a96af543cafc9247ac307fbfe/numpydoc-0.9.2.tar.gz\n",
            "Requirement already satisfied: numpy>=1.12.1 in /usr/local/lib/python3.6/dist-packages (from feature_engine) (1.17.5)\n",
            "Requirement already satisfied: statsmodels>=0.8.0 in /usr/local/lib/python3.6/dist-packages (from feature_engine) (0.10.2)\n",
            "Requirement already satisfied: scipy>=0.19.0 in /usr/local/lib/python3.6/dist-packages (from feature_engine) (1.4.1)\n",
            "Requirement already satisfied: scikit-learn>=0.18.1 in /usr/local/lib/python3.6/dist-packages (from feature_engine) (0.22.1)\n",
            "Requirement already satisfied: pandas>=0.23.0 in /usr/local/lib/python3.6/dist-packages (from feature_engine) (0.25.3)\n",
            "Requirement already satisfied: sphinx>=1.6.5 in /usr/local/lib/python3.6/dist-packages (from numpydoc>=0.6.0->feature_engine) (1.8.5)\n",
            "Requirement already satisfied: Jinja2>=2.3 in /usr/local/lib/python3.6/dist-packages (from numpydoc>=0.6.0->feature_engine) (2.11.1)\n",
            "Requirement already satisfied: patsy>=0.4.0 in /usr/local/lib/python3.6/dist-packages (from statsmodels>=0.8.0->feature_engine) (0.5.1)\n",
            "Requirement already satisfied: joblib>=0.11 in /usr/local/lib/python3.6/dist-packages (from scikit-learn>=0.18.1->feature_engine) (0.14.1)\n",
            "Requirement already satisfied: pytz>=2017.2 in /usr/local/lib/python3.6/dist-packages (from pandas>=0.23.0->feature_engine) (2018.9)\n",
            "Requirement already satisfied: python-dateutil>=2.6.1 in /usr/local/lib/python3.6/dist-packages (from pandas>=0.23.0->feature_engine) (2.6.1)\n",
            "Requirement already satisfied: docutils>=0.11 in /usr/local/lib/python3.6/dist-packages (from sphinx>=1.6.5->numpydoc>=0.6.0->feature_engine) (0.15.2)\n",
            "Requirement already satisfied: requests>=2.0.0 in /usr/local/lib/python3.6/dist-packages (from sphinx>=1.6.5->numpydoc>=0.6.0->feature_engine) (2.21.0)\n",
            "Requirement already satisfied: six>=1.5 in /usr/local/lib/python3.6/dist-packages (from sphinx>=1.6.5->numpydoc>=0.6.0->feature_engine) (1.12.0)\n",
            "Requirement already satisfied: snowballstemmer>=1.1 in /usr/local/lib/python3.6/dist-packages (from sphinx>=1.6.5->numpydoc>=0.6.0->feature_engine) (2.0.0)\n",
            "Requirement already satisfied: imagesize in /usr/local/lib/python3.6/dist-packages (from sphinx>=1.6.5->numpydoc>=0.6.0->feature_engine) (1.2.0)\n",
            "Requirement already satisfied: babel!=2.0,>=1.3 in /usr/local/lib/python3.6/dist-packages (from sphinx>=1.6.5->numpydoc>=0.6.0->feature_engine) (2.8.0)\n",
            "Requirement already satisfied: Pygments>=2.0 in /usr/local/lib/python3.6/dist-packages (from sphinx>=1.6.5->numpydoc>=0.6.0->feature_engine) (2.1.3)\n",
            "Requirement already satisfied: packaging in /usr/local/lib/python3.6/dist-packages (from sphinx>=1.6.5->numpydoc>=0.6.0->feature_engine) (20.1)\n",
            "Requirement already satisfied: sphinxcontrib-websupport in /usr/local/lib/python3.6/dist-packages (from sphinx>=1.6.5->numpydoc>=0.6.0->feature_engine) (1.1.2)\n",
            "Requirement already satisfied: alabaster<0.8,>=0.7 in /usr/local/lib/python3.6/dist-packages (from sphinx>=1.6.5->numpydoc>=0.6.0->feature_engine) (0.7.12)\n",
            "Requirement already satisfied: setuptools in /usr/local/lib/python3.6/dist-packages (from sphinx>=1.6.5->numpydoc>=0.6.0->feature_engine) (45.1.0)\n",
            "Requirement already satisfied: MarkupSafe>=0.23 in /usr/local/lib/python3.6/dist-packages (from Jinja2>=2.3->numpydoc>=0.6.0->feature_engine) (1.1.1)\n",
            "Requirement already satisfied: urllib3<1.25,>=1.21.1 in /usr/local/lib/python3.6/dist-packages (from requests>=2.0.0->sphinx>=1.6.5->numpydoc>=0.6.0->feature_engine) (1.24.3)\n",
            "Requirement already satisfied: certifi>=2017.4.17 in /usr/local/lib/python3.6/dist-packages (from requests>=2.0.0->sphinx>=1.6.5->numpydoc>=0.6.0->feature_engine) (2019.11.28)\n",
            "Requirement already satisfied: chardet<3.1.0,>=3.0.2 in /usr/local/lib/python3.6/dist-packages (from requests>=2.0.0->sphinx>=1.6.5->numpydoc>=0.6.0->feature_engine) (3.0.4)\n",
            "Requirement already satisfied: idna<2.9,>=2.5 in /usr/local/lib/python3.6/dist-packages (from requests>=2.0.0->sphinx>=1.6.5->numpydoc>=0.6.0->feature_engine) (2.8)\n",
            "Requirement already satisfied: pyparsing>=2.0.2 in /usr/local/lib/python3.6/dist-packages (from packaging->sphinx>=1.6.5->numpydoc>=0.6.0->feature_engine) (2.4.6)\n",
            "Building wheels for collected packages: numpydoc\n",
            "  Building wheel for numpydoc (setup.py) ... \u001b[?25l\u001b[?25hdone\n",
            "  Created wheel for numpydoc: filename=numpydoc-0.9.2-cp36-none-any.whl size=31893 sha256=bfe1e419a26a37bf654b45f1aab052e952fc6eaea0928c9b8b7592622550ce76\n",
            "  Stored in directory: /root/.cache/pip/wheels/96/f3/52/25c8e1f40637661d27feebc61dae16b84c7cdd93b8bc3d7486\n",
            "Successfully built numpydoc\n",
            "Installing collected packages: numpydoc, feature-engine\n",
            "Successfully installed feature-engine-0.3.1 numpydoc-0.9.2\n"
          ],
          "name": "stdout"
        }
      ]
    },
    {
      "cell_type": "code",
      "metadata": {
        "id": "sUd1VKMJ1WLs",
        "colab_type": "code",
        "colab": {
          "base_uri": "https://localhost:8080/",
          "height": 206
        },
        "outputId": "bb2a4a53-8698-4359-c891-32ab461826bb"
      },
      "source": [
        "# load dataset\n",
        "\n",
        "data = pd.read_csv(\n",
        "    'houseprice_train.csv',\n",
        "    usecols=['Neighborhood', 'Exterior1st', 'Exterior2nd', 'SalePrice'])\n",
        "\n",
        "data.head()"
      ],
      "execution_count": 3,
      "outputs": [
        {
          "output_type": "execute_result",
          "data": {
            "text/html": [
              "<div>\n",
              "<style scoped>\n",
              "    .dataframe tbody tr th:only-of-type {\n",
              "        vertical-align: middle;\n",
              "    }\n",
              "\n",
              "    .dataframe tbody tr th {\n",
              "        vertical-align: top;\n",
              "    }\n",
              "\n",
              "    .dataframe thead th {\n",
              "        text-align: right;\n",
              "    }\n",
              "</style>\n",
              "<table border=\"1\" class=\"dataframe\">\n",
              "  <thead>\n",
              "    <tr style=\"text-align: right;\">\n",
              "      <th></th>\n",
              "      <th>Neighborhood</th>\n",
              "      <th>Exterior1st</th>\n",
              "      <th>Exterior2nd</th>\n",
              "      <th>SalePrice</th>\n",
              "    </tr>\n",
              "  </thead>\n",
              "  <tbody>\n",
              "    <tr>\n",
              "      <th>0</th>\n",
              "      <td>CollgCr</td>\n",
              "      <td>VinylSd</td>\n",
              "      <td>VinylSd</td>\n",
              "      <td>208500</td>\n",
              "    </tr>\n",
              "    <tr>\n",
              "      <th>1</th>\n",
              "      <td>Veenker</td>\n",
              "      <td>MetalSd</td>\n",
              "      <td>MetalSd</td>\n",
              "      <td>181500</td>\n",
              "    </tr>\n",
              "    <tr>\n",
              "      <th>2</th>\n",
              "      <td>CollgCr</td>\n",
              "      <td>VinylSd</td>\n",
              "      <td>VinylSd</td>\n",
              "      <td>223500</td>\n",
              "    </tr>\n",
              "    <tr>\n",
              "      <th>3</th>\n",
              "      <td>Crawfor</td>\n",
              "      <td>Wd Sdng</td>\n",
              "      <td>Wd Shng</td>\n",
              "      <td>140000</td>\n",
              "    </tr>\n",
              "    <tr>\n",
              "      <th>4</th>\n",
              "      <td>NoRidge</td>\n",
              "      <td>VinylSd</td>\n",
              "      <td>VinylSd</td>\n",
              "      <td>250000</td>\n",
              "    </tr>\n",
              "  </tbody>\n",
              "</table>\n",
              "</div>"
            ],
            "text/plain": [
              "  Neighborhood Exterior1st Exterior2nd  SalePrice\n",
              "0      CollgCr     VinylSd     VinylSd     208500\n",
              "1      Veenker     MetalSd     MetalSd     181500\n",
              "2      CollgCr     VinylSd     VinylSd     223500\n",
              "3      Crawfor     Wd Sdng     Wd Shng     140000\n",
              "4      NoRidge     VinylSd     VinylSd     250000"
            ]
          },
          "metadata": {
            "tags": []
          },
          "execution_count": 3
        }
      ]
    },
    {
      "cell_type": "code",
      "metadata": {
        "id": "sG3BrvLp1WMC",
        "colab_type": "code",
        "colab": {
          "base_uri": "https://localhost:8080/",
          "height": 86
        },
        "outputId": "133cf912-7f67-4f5d-d35d-9cc23d15fadf"
      },
      "source": [
        "# let's have a look at how many labels each variable has\n",
        "\n",
        "for col in data.columns:\n",
        "    print(col, ': ', len(data[col].unique()), ' labels')"
      ],
      "execution_count": 4,
      "outputs": [
        {
          "output_type": "stream",
          "text": [
            "Neighborhood :  25  labels\n",
            "Exterior1st :  15  labels\n",
            "Exterior2nd :  16  labels\n",
            "SalePrice :  663  labels\n"
          ],
          "name": "stdout"
        }
      ]
    },
    {
      "cell_type": "code",
      "metadata": {
        "id": "nXHndPWz1WMQ",
        "colab_type": "code",
        "colab": {
          "base_uri": "https://localhost:8080/",
          "height": 104
        },
        "outputId": "324a895e-a5ce-4bbc-dffb-4a4f4139867f"
      },
      "source": [
        "# let's explore the unique categories\n",
        "data['Neighborhood'].unique()"
      ],
      "execution_count": 5,
      "outputs": [
        {
          "output_type": "execute_result",
          "data": {
            "text/plain": [
              "array(['CollgCr', 'Veenker', 'Crawfor', 'NoRidge', 'Mitchel', 'Somerst',\n",
              "       'NWAmes', 'OldTown', 'BrkSide', 'Sawyer', 'NridgHt', 'NAmes',\n",
              "       'SawyerW', 'IDOTRR', 'MeadowV', 'Edwards', 'Timber', 'Gilbert',\n",
              "       'StoneBr', 'ClearCr', 'NPkVill', 'Blmngtn', 'BrDale', 'SWISU',\n",
              "       'Blueste'], dtype=object)"
            ]
          },
          "metadata": {
            "tags": []
          },
          "execution_count": 5
        }
      ]
    },
    {
      "cell_type": "code",
      "metadata": {
        "id": "inHDqewh1WMt",
        "colab_type": "code",
        "colab": {
          "base_uri": "https://localhost:8080/",
          "height": 69
        },
        "outputId": "82ea3dd3-9a8e-4b86-82a0-66c98c2a8f95"
      },
      "source": [
        "data['Exterior1st'].unique()"
      ],
      "execution_count": 6,
      "outputs": [
        {
          "output_type": "execute_result",
          "data": {
            "text/plain": [
              "array(['VinylSd', 'MetalSd', 'Wd Sdng', 'HdBoard', 'BrkFace', 'WdShing',\n",
              "       'CemntBd', 'Plywood', 'AsbShng', 'Stucco', 'BrkComm', 'AsphShn',\n",
              "       'Stone', 'ImStucc', 'CBlock'], dtype=object)"
            ]
          },
          "metadata": {
            "tags": []
          },
          "execution_count": 6
        }
      ]
    },
    {
      "cell_type": "code",
      "metadata": {
        "id": "7eIFtLnF1WNJ",
        "colab_type": "code",
        "colab": {
          "base_uri": "https://localhost:8080/",
          "height": 69
        },
        "outputId": "ab4da023-721a-4b4a-c473-8b29bbc24ca8"
      },
      "source": [
        "data['Exterior2nd'].unique()"
      ],
      "execution_count": 7,
      "outputs": [
        {
          "output_type": "execute_result",
          "data": {
            "text/plain": [
              "array(['VinylSd', 'MetalSd', 'Wd Shng', 'HdBoard', 'Plywood', 'Wd Sdng',\n",
              "       'CmentBd', 'BrkFace', 'Stucco', 'AsbShng', 'Brk Cmn', 'ImStucc',\n",
              "       'AsphShn', 'Stone', 'Other', 'CBlock'], dtype=object)"
            ]
          },
          "metadata": {
            "tags": []
          },
          "execution_count": 7
        }
      ]
    },
    {
      "cell_type": "markdown",
      "metadata": {
        "id": "EdnpmehD1WNa",
        "colab_type": "text"
      },
      "source": [
        "### Encoding important\n",
        "\n",
        "It is important to select the top or most frequent categories based of the train data. Then, we will use those top categories to encode the variables in the test data as well"
      ]
    },
    {
      "cell_type": "code",
      "metadata": {
        "id": "X_rm9SzN1WNg",
        "colab_type": "code",
        "colab": {
          "base_uri": "https://localhost:8080/",
          "height": 34
        },
        "outputId": "71b40c3d-69c8-41c2-ce8f-cefb270002b2"
      },
      "source": [
        "# let's separate into training and testing set\n",
        "\n",
        "X_train, X_test, y_train, y_test = train_test_split(\n",
        "    data[['Neighborhood', 'Exterior1st', 'Exterior2nd']],  # predictors\n",
        "    data['SalePrice'],  # target\n",
        "    test_size=0.3,  # percentage of obs in test set\n",
        "    random_state=0)  # seed to ensure reproducibility\n",
        "\n",
        "X_train.shape, X_test.shape"
      ],
      "execution_count": 8,
      "outputs": [
        {
          "output_type": "execute_result",
          "data": {
            "text/plain": [
              "((1022, 3), (438, 3))"
            ]
          },
          "metadata": {
            "tags": []
          },
          "execution_count": 8
        }
      ]
    },
    {
      "cell_type": "code",
      "metadata": {
        "id": "WjlRTjgL1WN2",
        "colab_type": "code",
        "colab": {
          "base_uri": "https://localhost:8080/",
          "height": 34
        },
        "outputId": "1df8fe09-e2d5-4e12-c16e-12b055fc31bc"
      },
      "source": [
        "# let's first examine how OHE expands the feature space\n",
        "\n",
        "pd.get_dummies(X_train, drop_first=True).shape"
      ],
      "execution_count": 9,
      "outputs": [
        {
          "output_type": "execute_result",
          "data": {
            "text/plain": [
              "(1022, 53)"
            ]
          },
          "metadata": {
            "tags": []
          },
          "execution_count": 9
        }
      ]
    },
    {
      "cell_type": "markdown",
      "metadata": {
        "id": "9IHBh1KR1WOC",
        "colab_type": "text"
      },
      "source": [
        "From the initial 3 categorical variables, we end up with 53 variables. \n",
        "\n",
        "These numbers are still not huge, and in practice we could work with them relatively easily. However, in real-life datasets, categorical variables can be highly cardinal, and with OHE we can end up with datasets with thousands of columns.\n",
        "\n",
        "\n",
        "## OHE with pandas and NumPy\n",
        "\n",
        "\n",
        "### Advantages\n",
        "\n",
        "- quick\n",
        "- returns pandas dataframe\n",
        "- returns feature names for the dummy variables\n",
        "\n",
        "### Limitations:\n",
        "\n",
        "- it does not preserve information from train data to propagate to test data"
      ]
    },
    {
      "cell_type": "code",
      "metadata": {
        "id": "JvtWw1kr1WOH",
        "colab_type": "code",
        "colab": {
          "base_uri": "https://localhost:8080/",
          "height": 208
        },
        "outputId": "8e540487-0cf4-4fce-ea91-c335517ffdc9"
      },
      "source": [
        "# let's find the top 10 most frequent categories for the variable 'Neighborhood'\n",
        "\n",
        "X_train['Neighborhood'].value_counts().sort_values(ascending=False).head(10)"
      ],
      "execution_count": 10,
      "outputs": [
        {
          "output_type": "execute_result",
          "data": {
            "text/plain": [
              "NAmes      151\n",
              "CollgCr    105\n",
              "OldTown     73\n",
              "Edwards     71\n",
              "Sawyer      61\n",
              "Somerst     56\n",
              "Gilbert     55\n",
              "NridgHt     51\n",
              "NWAmes      51\n",
              "SawyerW     45\n",
              "Name: Neighborhood, dtype: int64"
            ]
          },
          "metadata": {
            "tags": []
          },
          "execution_count": 10
        }
      ]
    },
    {
      "cell_type": "code",
      "metadata": {
        "id": "c1AWIq2H1WOS",
        "colab_type": "code",
        "colab": {
          "base_uri": "https://localhost:8080/",
          "height": 191
        },
        "outputId": "177384ed-2dbe-4159-ad9c-362e86859bce"
      },
      "source": [
        "# let's make a list with the most frequent categories of the variable\n",
        "\n",
        "top_10 = [\n",
        "    x for x in X_train['Neighborhood'].value_counts().sort_values(\n",
        "        ascending=False).head(10).index\n",
        "]\n",
        "\n",
        "top_10"
      ],
      "execution_count": 11,
      "outputs": [
        {
          "output_type": "execute_result",
          "data": {
            "text/plain": [
              "['NAmes',\n",
              " 'CollgCr',\n",
              " 'OldTown',\n",
              " 'Edwards',\n",
              " 'Sawyer',\n",
              " 'Somerst',\n",
              " 'Gilbert',\n",
              " 'NridgHt',\n",
              " 'NWAmes',\n",
              " 'SawyerW']"
            ]
          },
          "metadata": {
            "tags": []
          },
          "execution_count": 11
        }
      ]
    },
    {
      "cell_type": "code",
      "metadata": {
        "id": "Do0F_HOl1WOf",
        "colab_type": "code",
        "colab": {
          "base_uri": "https://localhost:8080/",
          "height": 383
        },
        "outputId": "5b80d041-84b2-496d-dbf8-bdd2a0b5c694"
      },
      "source": [
        "# and now we make the 10 binary variables\n",
        "\n",
        "for label in top_10:\n",
        "    X_train['Neighborhood' + '_' + label] = np.where(\n",
        "        X_train['Neighborhood'] == label, 1, 0)\n",
        "    \n",
        "    X_test['Neighborhood' + '_' + label] = np.where(\n",
        "        X_test['Neighborhood'] == label, 1, 0)\n",
        "\n",
        "# let's visualise the result\n",
        "X_train[['Neighborhood'] + ['Neighborhood'+'_'+c for c in top_10]].head(10)"
      ],
      "execution_count": 12,
      "outputs": [
        {
          "output_type": "execute_result",
          "data": {
            "text/html": [
              "<div>\n",
              "<style scoped>\n",
              "    .dataframe tbody tr th:only-of-type {\n",
              "        vertical-align: middle;\n",
              "    }\n",
              "\n",
              "    .dataframe tbody tr th {\n",
              "        vertical-align: top;\n",
              "    }\n",
              "\n",
              "    .dataframe thead th {\n",
              "        text-align: right;\n",
              "    }\n",
              "</style>\n",
              "<table border=\"1\" class=\"dataframe\">\n",
              "  <thead>\n",
              "    <tr style=\"text-align: right;\">\n",
              "      <th></th>\n",
              "      <th>Neighborhood</th>\n",
              "      <th>Neighborhood_NAmes</th>\n",
              "      <th>Neighborhood_CollgCr</th>\n",
              "      <th>Neighborhood_OldTown</th>\n",
              "      <th>Neighborhood_Edwards</th>\n",
              "      <th>Neighborhood_Sawyer</th>\n",
              "      <th>Neighborhood_Somerst</th>\n",
              "      <th>Neighborhood_Gilbert</th>\n",
              "      <th>Neighborhood_NridgHt</th>\n",
              "      <th>Neighborhood_NWAmes</th>\n",
              "      <th>Neighborhood_SawyerW</th>\n",
              "    </tr>\n",
              "  </thead>\n",
              "  <tbody>\n",
              "    <tr>\n",
              "      <th>64</th>\n",
              "      <td>CollgCr</td>\n",
              "      <td>0</td>\n",
              "      <td>1</td>\n",
              "      <td>0</td>\n",
              "      <td>0</td>\n",
              "      <td>0</td>\n",
              "      <td>0</td>\n",
              "      <td>0</td>\n",
              "      <td>0</td>\n",
              "      <td>0</td>\n",
              "      <td>0</td>\n",
              "    </tr>\n",
              "    <tr>\n",
              "      <th>682</th>\n",
              "      <td>ClearCr</td>\n",
              "      <td>0</td>\n",
              "      <td>0</td>\n",
              "      <td>0</td>\n",
              "      <td>0</td>\n",
              "      <td>0</td>\n",
              "      <td>0</td>\n",
              "      <td>0</td>\n",
              "      <td>0</td>\n",
              "      <td>0</td>\n",
              "      <td>0</td>\n",
              "    </tr>\n",
              "    <tr>\n",
              "      <th>960</th>\n",
              "      <td>BrkSide</td>\n",
              "      <td>0</td>\n",
              "      <td>0</td>\n",
              "      <td>0</td>\n",
              "      <td>0</td>\n",
              "      <td>0</td>\n",
              "      <td>0</td>\n",
              "      <td>0</td>\n",
              "      <td>0</td>\n",
              "      <td>0</td>\n",
              "      <td>0</td>\n",
              "    </tr>\n",
              "    <tr>\n",
              "      <th>1384</th>\n",
              "      <td>Edwards</td>\n",
              "      <td>0</td>\n",
              "      <td>0</td>\n",
              "      <td>0</td>\n",
              "      <td>1</td>\n",
              "      <td>0</td>\n",
              "      <td>0</td>\n",
              "      <td>0</td>\n",
              "      <td>0</td>\n",
              "      <td>0</td>\n",
              "      <td>0</td>\n",
              "    </tr>\n",
              "    <tr>\n",
              "      <th>1100</th>\n",
              "      <td>SWISU</td>\n",
              "      <td>0</td>\n",
              "      <td>0</td>\n",
              "      <td>0</td>\n",
              "      <td>0</td>\n",
              "      <td>0</td>\n",
              "      <td>0</td>\n",
              "      <td>0</td>\n",
              "      <td>0</td>\n",
              "      <td>0</td>\n",
              "      <td>0</td>\n",
              "    </tr>\n",
              "    <tr>\n",
              "      <th>416</th>\n",
              "      <td>Sawyer</td>\n",
              "      <td>0</td>\n",
              "      <td>0</td>\n",
              "      <td>0</td>\n",
              "      <td>0</td>\n",
              "      <td>1</td>\n",
              "      <td>0</td>\n",
              "      <td>0</td>\n",
              "      <td>0</td>\n",
              "      <td>0</td>\n",
              "      <td>0</td>\n",
              "    </tr>\n",
              "    <tr>\n",
              "      <th>1034</th>\n",
              "      <td>Crawfor</td>\n",
              "      <td>0</td>\n",
              "      <td>0</td>\n",
              "      <td>0</td>\n",
              "      <td>0</td>\n",
              "      <td>0</td>\n",
              "      <td>0</td>\n",
              "      <td>0</td>\n",
              "      <td>0</td>\n",
              "      <td>0</td>\n",
              "      <td>0</td>\n",
              "    </tr>\n",
              "    <tr>\n",
              "      <th>853</th>\n",
              "      <td>NAmes</td>\n",
              "      <td>1</td>\n",
              "      <td>0</td>\n",
              "      <td>0</td>\n",
              "      <td>0</td>\n",
              "      <td>0</td>\n",
              "      <td>0</td>\n",
              "      <td>0</td>\n",
              "      <td>0</td>\n",
              "      <td>0</td>\n",
              "      <td>0</td>\n",
              "    </tr>\n",
              "    <tr>\n",
              "      <th>472</th>\n",
              "      <td>Edwards</td>\n",
              "      <td>0</td>\n",
              "      <td>0</td>\n",
              "      <td>0</td>\n",
              "      <td>1</td>\n",
              "      <td>0</td>\n",
              "      <td>0</td>\n",
              "      <td>0</td>\n",
              "      <td>0</td>\n",
              "      <td>0</td>\n",
              "      <td>0</td>\n",
              "    </tr>\n",
              "    <tr>\n",
              "      <th>1011</th>\n",
              "      <td>Edwards</td>\n",
              "      <td>0</td>\n",
              "      <td>0</td>\n",
              "      <td>0</td>\n",
              "      <td>1</td>\n",
              "      <td>0</td>\n",
              "      <td>0</td>\n",
              "      <td>0</td>\n",
              "      <td>0</td>\n",
              "      <td>0</td>\n",
              "      <td>0</td>\n",
              "    </tr>\n",
              "  </tbody>\n",
              "</table>\n",
              "</div>"
            ],
            "text/plain": [
              "     Neighborhood  ...  Neighborhood_SawyerW\n",
              "64        CollgCr  ...                     0\n",
              "682       ClearCr  ...                     0\n",
              "960       BrkSide  ...                     0\n",
              "1384      Edwards  ...                     0\n",
              "1100        SWISU  ...                     0\n",
              "416        Sawyer  ...                     0\n",
              "1034      Crawfor  ...                     0\n",
              "853         NAmes  ...                     0\n",
              "472       Edwards  ...                     0\n",
              "1011      Edwards  ...                     0\n",
              "\n",
              "[10 rows x 11 columns]"
            ]
          },
          "metadata": {
            "tags": []
          },
          "execution_count": 12
        }
      ]
    },
    {
      "cell_type": "code",
      "metadata": {
        "id": "iFFtuGnX1WOs",
        "colab_type": "code",
        "colab": {}
      },
      "source": [
        "# we can turn the previous commands into 2 functions\n",
        "\n",
        "\n",
        "def calculate_top_categories(df, variable, how_many=10):\n",
        "    return [\n",
        "        x for x in df[variable].value_counts().sort_values(\n",
        "            ascending=False).head(how_many).index\n",
        "    ]\n",
        "\n",
        "\n",
        "def one_hot_encode(train, test, variable, top_x_labels):\n",
        "\n",
        "    for label in top_x_labels:\n",
        "        train[variable + '_' + label] = np.where(\n",
        "            train['Neighborhood'] == label, 1, 0)\n",
        "        \n",
        "        test[variable + '_' + label] = np.where(\n",
        "            test['Neighborhood'] == label,1, 0)"
      ],
      "execution_count": 0,
      "outputs": []
    },
    {
      "cell_type": "code",
      "metadata": {
        "id": "274y6QAT1WO4",
        "colab_type": "code",
        "colab": {}
      },
      "source": [
        "# and now we run a loop over the remaining categorical variables\n",
        "\n",
        "for variable in ['Exterior1st', 'Exterior2nd']:\n",
        "    \n",
        "    top_categories = calculate_top_categories(X_train, variable, how_many=10)\n",
        "    \n",
        "    one_hot_encode(X_train, X_test, variable, top_categories)"
      ],
      "execution_count": 0,
      "outputs": []
    },
    {
      "cell_type": "code",
      "metadata": {
        "id": "pA6h79LV1WPM",
        "colab_type": "code",
        "colab": {
          "base_uri": "https://localhost:8080/",
          "height": 244
        },
        "outputId": "3cd2cb90-0e55-4e83-9086-b1a8bfeabe12"
      },
      "source": [
        "# let's see the result\n",
        "\n",
        "X_train.head()"
      ],
      "execution_count": 15,
      "outputs": [
        {
          "output_type": "execute_result",
          "data": {
            "text/html": [
              "<div>\n",
              "<style scoped>\n",
              "    .dataframe tbody tr th:only-of-type {\n",
              "        vertical-align: middle;\n",
              "    }\n",
              "\n",
              "    .dataframe tbody tr th {\n",
              "        vertical-align: top;\n",
              "    }\n",
              "\n",
              "    .dataframe thead th {\n",
              "        text-align: right;\n",
              "    }\n",
              "</style>\n",
              "<table border=\"1\" class=\"dataframe\">\n",
              "  <thead>\n",
              "    <tr style=\"text-align: right;\">\n",
              "      <th></th>\n",
              "      <th>Neighborhood</th>\n",
              "      <th>Exterior1st</th>\n",
              "      <th>Exterior2nd</th>\n",
              "      <th>Neighborhood_NAmes</th>\n",
              "      <th>Neighborhood_CollgCr</th>\n",
              "      <th>Neighborhood_OldTown</th>\n",
              "      <th>Neighborhood_Edwards</th>\n",
              "      <th>Neighborhood_Sawyer</th>\n",
              "      <th>Neighborhood_Somerst</th>\n",
              "      <th>Neighborhood_Gilbert</th>\n",
              "      <th>Neighborhood_NridgHt</th>\n",
              "      <th>Neighborhood_NWAmes</th>\n",
              "      <th>Neighborhood_SawyerW</th>\n",
              "      <th>Exterior1st_VinylSd</th>\n",
              "      <th>Exterior1st_HdBoard</th>\n",
              "      <th>Exterior1st_Wd Sdng</th>\n",
              "      <th>Exterior1st_MetalSd</th>\n",
              "      <th>Exterior1st_Plywood</th>\n",
              "      <th>Exterior1st_CemntBd</th>\n",
              "      <th>Exterior1st_BrkFace</th>\n",
              "      <th>Exterior1st_WdShing</th>\n",
              "      <th>Exterior1st_Stucco</th>\n",
              "      <th>Exterior1st_AsbShng</th>\n",
              "      <th>Exterior2nd_VinylSd</th>\n",
              "      <th>Exterior2nd_Wd Sdng</th>\n",
              "      <th>Exterior2nd_HdBoard</th>\n",
              "      <th>Exterior2nd_MetalSd</th>\n",
              "      <th>Exterior2nd_Plywood</th>\n",
              "      <th>Exterior2nd_CmentBd</th>\n",
              "      <th>Exterior2nd_Wd Shng</th>\n",
              "      <th>Exterior2nd_BrkFace</th>\n",
              "      <th>Exterior2nd_AsbShng</th>\n",
              "      <th>Exterior2nd_Stucco</th>\n",
              "    </tr>\n",
              "  </thead>\n",
              "  <tbody>\n",
              "    <tr>\n",
              "      <th>64</th>\n",
              "      <td>CollgCr</td>\n",
              "      <td>VinylSd</td>\n",
              "      <td>VinylSd</td>\n",
              "      <td>0</td>\n",
              "      <td>1</td>\n",
              "      <td>0</td>\n",
              "      <td>0</td>\n",
              "      <td>0</td>\n",
              "      <td>0</td>\n",
              "      <td>0</td>\n",
              "      <td>0</td>\n",
              "      <td>0</td>\n",
              "      <td>0</td>\n",
              "      <td>0</td>\n",
              "      <td>0</td>\n",
              "      <td>0</td>\n",
              "      <td>0</td>\n",
              "      <td>0</td>\n",
              "      <td>0</td>\n",
              "      <td>0</td>\n",
              "      <td>0</td>\n",
              "      <td>0</td>\n",
              "      <td>0</td>\n",
              "      <td>0</td>\n",
              "      <td>0</td>\n",
              "      <td>0</td>\n",
              "      <td>0</td>\n",
              "      <td>0</td>\n",
              "      <td>0</td>\n",
              "      <td>0</td>\n",
              "      <td>0</td>\n",
              "      <td>0</td>\n",
              "      <td>0</td>\n",
              "    </tr>\n",
              "    <tr>\n",
              "      <th>682</th>\n",
              "      <td>ClearCr</td>\n",
              "      <td>Wd Sdng</td>\n",
              "      <td>Wd Sdng</td>\n",
              "      <td>0</td>\n",
              "      <td>0</td>\n",
              "      <td>0</td>\n",
              "      <td>0</td>\n",
              "      <td>0</td>\n",
              "      <td>0</td>\n",
              "      <td>0</td>\n",
              "      <td>0</td>\n",
              "      <td>0</td>\n",
              "      <td>0</td>\n",
              "      <td>0</td>\n",
              "      <td>0</td>\n",
              "      <td>0</td>\n",
              "      <td>0</td>\n",
              "      <td>0</td>\n",
              "      <td>0</td>\n",
              "      <td>0</td>\n",
              "      <td>0</td>\n",
              "      <td>0</td>\n",
              "      <td>0</td>\n",
              "      <td>0</td>\n",
              "      <td>0</td>\n",
              "      <td>0</td>\n",
              "      <td>0</td>\n",
              "      <td>0</td>\n",
              "      <td>0</td>\n",
              "      <td>0</td>\n",
              "      <td>0</td>\n",
              "      <td>0</td>\n",
              "      <td>0</td>\n",
              "    </tr>\n",
              "    <tr>\n",
              "      <th>960</th>\n",
              "      <td>BrkSide</td>\n",
              "      <td>Wd Sdng</td>\n",
              "      <td>Plywood</td>\n",
              "      <td>0</td>\n",
              "      <td>0</td>\n",
              "      <td>0</td>\n",
              "      <td>0</td>\n",
              "      <td>0</td>\n",
              "      <td>0</td>\n",
              "      <td>0</td>\n",
              "      <td>0</td>\n",
              "      <td>0</td>\n",
              "      <td>0</td>\n",
              "      <td>0</td>\n",
              "      <td>0</td>\n",
              "      <td>0</td>\n",
              "      <td>0</td>\n",
              "      <td>0</td>\n",
              "      <td>0</td>\n",
              "      <td>0</td>\n",
              "      <td>0</td>\n",
              "      <td>0</td>\n",
              "      <td>0</td>\n",
              "      <td>0</td>\n",
              "      <td>0</td>\n",
              "      <td>0</td>\n",
              "      <td>0</td>\n",
              "      <td>0</td>\n",
              "      <td>0</td>\n",
              "      <td>0</td>\n",
              "      <td>0</td>\n",
              "      <td>0</td>\n",
              "      <td>0</td>\n",
              "    </tr>\n",
              "    <tr>\n",
              "      <th>1384</th>\n",
              "      <td>Edwards</td>\n",
              "      <td>WdShing</td>\n",
              "      <td>Wd Shng</td>\n",
              "      <td>0</td>\n",
              "      <td>0</td>\n",
              "      <td>0</td>\n",
              "      <td>1</td>\n",
              "      <td>0</td>\n",
              "      <td>0</td>\n",
              "      <td>0</td>\n",
              "      <td>0</td>\n",
              "      <td>0</td>\n",
              "      <td>0</td>\n",
              "      <td>0</td>\n",
              "      <td>0</td>\n",
              "      <td>0</td>\n",
              "      <td>0</td>\n",
              "      <td>0</td>\n",
              "      <td>0</td>\n",
              "      <td>0</td>\n",
              "      <td>0</td>\n",
              "      <td>0</td>\n",
              "      <td>0</td>\n",
              "      <td>0</td>\n",
              "      <td>0</td>\n",
              "      <td>0</td>\n",
              "      <td>0</td>\n",
              "      <td>0</td>\n",
              "      <td>0</td>\n",
              "      <td>0</td>\n",
              "      <td>0</td>\n",
              "      <td>0</td>\n",
              "      <td>0</td>\n",
              "    </tr>\n",
              "    <tr>\n",
              "      <th>1100</th>\n",
              "      <td>SWISU</td>\n",
              "      <td>Wd Sdng</td>\n",
              "      <td>Wd Sdng</td>\n",
              "      <td>0</td>\n",
              "      <td>0</td>\n",
              "      <td>0</td>\n",
              "      <td>0</td>\n",
              "      <td>0</td>\n",
              "      <td>0</td>\n",
              "      <td>0</td>\n",
              "      <td>0</td>\n",
              "      <td>0</td>\n",
              "      <td>0</td>\n",
              "      <td>0</td>\n",
              "      <td>0</td>\n",
              "      <td>0</td>\n",
              "      <td>0</td>\n",
              "      <td>0</td>\n",
              "      <td>0</td>\n",
              "      <td>0</td>\n",
              "      <td>0</td>\n",
              "      <td>0</td>\n",
              "      <td>0</td>\n",
              "      <td>0</td>\n",
              "      <td>0</td>\n",
              "      <td>0</td>\n",
              "      <td>0</td>\n",
              "      <td>0</td>\n",
              "      <td>0</td>\n",
              "      <td>0</td>\n",
              "      <td>0</td>\n",
              "      <td>0</td>\n",
              "      <td>0</td>\n",
              "    </tr>\n",
              "  </tbody>\n",
              "</table>\n",
              "</div>"
            ],
            "text/plain": [
              "     Neighborhood Exterior1st  ... Exterior2nd_AsbShng  Exterior2nd_Stucco\n",
              "64        CollgCr     VinylSd  ...                   0                   0\n",
              "682       ClearCr     Wd Sdng  ...                   0                   0\n",
              "960       BrkSide     Wd Sdng  ...                   0                   0\n",
              "1384      Edwards     WdShing  ...                   0                   0\n",
              "1100        SWISU     Wd Sdng  ...                   0                   0\n",
              "\n",
              "[5 rows x 33 columns]"
            ]
          },
          "metadata": {
            "tags": []
          },
          "execution_count": 15
        }
      ]
    },
    {
      "cell_type": "markdown",
      "metadata": {
        "id": "Ll9r36YQ1WPc",
        "colab_type": "text"
      },
      "source": [
        "Note how we now have 30 additional dummy variables instead of the 53 that we would have had if we had created dummies for all categories.\n",
        "\n",
        "## One hot encoding of top categories with Feature-Engine\n",
        "\n",
        "### Advantages\n",
        "\n",
        "- quick\n",
        "- creates the same number of features in train and test set\n",
        "\n",
        "### Limitations\n",
        "\n",
        "- None to my knowledge"
      ]
    },
    {
      "cell_type": "code",
      "metadata": {
        "id": "0pfJ8O051WPg",
        "colab_type": "code",
        "colab": {
          "base_uri": "https://localhost:8080/",
          "height": 34
        },
        "outputId": "d25e88dd-d902-4217-c0db-90b3e072ccb2"
      },
      "source": [
        "# let's separate into training and testing set\n",
        "\n",
        "X_train, X_test, y_train, y_test = train_test_split(\n",
        "    data[['Neighborhood', 'Exterior1st', 'Exterior2nd']],  # predictors\n",
        "    data['SalePrice'],  # target\n",
        "    test_size=0.3,  # percentage of obs in test set\n",
        "    random_state=0)  # seed to ensure reproducibility\n",
        "\n",
        "X_train.shape, X_test.shape"
      ],
      "execution_count": 16,
      "outputs": [
        {
          "output_type": "execute_result",
          "data": {
            "text/plain": [
              "((1022, 3), (438, 3))"
            ]
          },
          "metadata": {
            "tags": []
          },
          "execution_count": 16
        }
      ]
    },
    {
      "cell_type": "code",
      "metadata": {
        "id": "73wh8BnS1WPq",
        "colab_type": "code",
        "colab": {
          "base_uri": "https://localhost:8080/",
          "height": 69
        },
        "outputId": "2c8a9c1f-1561-4048-bb1d-b730f683117e"
      },
      "source": [
        "ohe_enc = OneHotCategoricalEncoder(\n",
        "    top_categories=10,  # you can change this value to select more or less variables\n",
        "    # we can select which variables to encode\n",
        "    variables=['Neighborhood', 'Exterior1st', 'Exterior2nd'],\n",
        "    drop_last=False)\n",
        "\n",
        "ohe_enc.fit(X_train)"
      ],
      "execution_count": 17,
      "outputs": [
        {
          "output_type": "execute_result",
          "data": {
            "text/plain": [
              "OneHotCategoricalEncoder(drop_last=False, top_categories=10,\n",
              "                         variables=['Neighborhood', 'Exterior1st',\n",
              "                                    'Exterior2nd'])"
            ]
          },
          "metadata": {
            "tags": []
          },
          "execution_count": 17
        }
      ]
    },
    {
      "cell_type": "code",
      "metadata": {
        "id": "YAY0DH581WP4",
        "colab_type": "code",
        "colab": {
          "base_uri": "https://localhost:8080/",
          "height": 538
        },
        "outputId": "dee2c1fd-0656-4175-d4e8-bebdf23ec6aa"
      },
      "source": [
        "# in the encoder dict we can observe each of the top categories\n",
        "# selected for each of the variables\n",
        "\n",
        "ohe_enc.encoder_dict_"
      ],
      "execution_count": 18,
      "outputs": [
        {
          "output_type": "execute_result",
          "data": {
            "text/plain": [
              "{'Exterior1st': ['VinylSd',\n",
              "  'HdBoard',\n",
              "  'Wd Sdng',\n",
              "  'MetalSd',\n",
              "  'Plywood',\n",
              "  'CemntBd',\n",
              "  'BrkFace',\n",
              "  'WdShing',\n",
              "  'Stucco',\n",
              "  'AsbShng'],\n",
              " 'Exterior2nd': ['VinylSd',\n",
              "  'Wd Sdng',\n",
              "  'HdBoard',\n",
              "  'MetalSd',\n",
              "  'Plywood',\n",
              "  'CmentBd',\n",
              "  'Wd Shng',\n",
              "  'BrkFace',\n",
              "  'AsbShng',\n",
              "  'Stucco'],\n",
              " 'Neighborhood': ['NAmes',\n",
              "  'CollgCr',\n",
              "  'OldTown',\n",
              "  'Edwards',\n",
              "  'Sawyer',\n",
              "  'Somerst',\n",
              "  'Gilbert',\n",
              "  'NridgHt',\n",
              "  'NWAmes',\n",
              "  'SawyerW']}"
            ]
          },
          "metadata": {
            "tags": []
          },
          "execution_count": 18
        }
      ]
    },
    {
      "cell_type": "code",
      "metadata": {
        "id": "4EHDgN7R1WQI",
        "colab_type": "code",
        "colab": {
          "base_uri": "https://localhost:8080/",
          "height": 34
        },
        "outputId": "ed73098e-22b9-4258-f9ea-e40dd7af38e6"
      },
      "source": [
        "# this is the list of variables that the encoder will transform\n",
        "\n",
        "ohe_enc.variables"
      ],
      "execution_count": 20,
      "outputs": [
        {
          "output_type": "execute_result",
          "data": {
            "text/plain": [
              "['Neighborhood', 'Exterior1st', 'Exterior2nd']"
            ]
          },
          "metadata": {
            "tags": []
          },
          "execution_count": 20
        }
      ]
    },
    {
      "cell_type": "code",
      "metadata": {
        "id": "hc-AxqxU1WQT",
        "colab_type": "code",
        "colab": {
          "base_uri": "https://localhost:8080/",
          "height": 244
        },
        "outputId": "5ef3bce3-5977-4907-ee35-8b184289d548"
      },
      "source": [
        "X_train = ohe_enc.transform(X_train)\n",
        "X_test = ohe_enc.transform(X_test)\n",
        "\n",
        "# let's explore the result\n",
        "X_train.head()"
      ],
      "execution_count": 19,
      "outputs": [
        {
          "output_type": "execute_result",
          "data": {
            "text/html": [
              "<div>\n",
              "<style scoped>\n",
              "    .dataframe tbody tr th:only-of-type {\n",
              "        vertical-align: middle;\n",
              "    }\n",
              "\n",
              "    .dataframe tbody tr th {\n",
              "        vertical-align: top;\n",
              "    }\n",
              "\n",
              "    .dataframe thead th {\n",
              "        text-align: right;\n",
              "    }\n",
              "</style>\n",
              "<table border=\"1\" class=\"dataframe\">\n",
              "  <thead>\n",
              "    <tr style=\"text-align: right;\">\n",
              "      <th></th>\n",
              "      <th>Neighborhood_NAmes</th>\n",
              "      <th>Neighborhood_CollgCr</th>\n",
              "      <th>Neighborhood_OldTown</th>\n",
              "      <th>Neighborhood_Edwards</th>\n",
              "      <th>Neighborhood_Sawyer</th>\n",
              "      <th>Neighborhood_Somerst</th>\n",
              "      <th>Neighborhood_Gilbert</th>\n",
              "      <th>Neighborhood_NridgHt</th>\n",
              "      <th>Neighborhood_NWAmes</th>\n",
              "      <th>Neighborhood_SawyerW</th>\n",
              "      <th>Exterior1st_VinylSd</th>\n",
              "      <th>Exterior1st_HdBoard</th>\n",
              "      <th>Exterior1st_Wd Sdng</th>\n",
              "      <th>Exterior1st_MetalSd</th>\n",
              "      <th>Exterior1st_Plywood</th>\n",
              "      <th>Exterior1st_CemntBd</th>\n",
              "      <th>Exterior1st_BrkFace</th>\n",
              "      <th>Exterior1st_WdShing</th>\n",
              "      <th>Exterior1st_Stucco</th>\n",
              "      <th>Exterior1st_AsbShng</th>\n",
              "      <th>Exterior2nd_VinylSd</th>\n",
              "      <th>Exterior2nd_Wd Sdng</th>\n",
              "      <th>Exterior2nd_HdBoard</th>\n",
              "      <th>Exterior2nd_MetalSd</th>\n",
              "      <th>Exterior2nd_Plywood</th>\n",
              "      <th>Exterior2nd_CmentBd</th>\n",
              "      <th>Exterior2nd_Wd Shng</th>\n",
              "      <th>Exterior2nd_BrkFace</th>\n",
              "      <th>Exterior2nd_AsbShng</th>\n",
              "      <th>Exterior2nd_Stucco</th>\n",
              "    </tr>\n",
              "  </thead>\n",
              "  <tbody>\n",
              "    <tr>\n",
              "      <th>64</th>\n",
              "      <td>0</td>\n",
              "      <td>1</td>\n",
              "      <td>0</td>\n",
              "      <td>0</td>\n",
              "      <td>0</td>\n",
              "      <td>0</td>\n",
              "      <td>0</td>\n",
              "      <td>0</td>\n",
              "      <td>0</td>\n",
              "      <td>0</td>\n",
              "      <td>1</td>\n",
              "      <td>0</td>\n",
              "      <td>0</td>\n",
              "      <td>0</td>\n",
              "      <td>0</td>\n",
              "      <td>0</td>\n",
              "      <td>0</td>\n",
              "      <td>0</td>\n",
              "      <td>0</td>\n",
              "      <td>0</td>\n",
              "      <td>1</td>\n",
              "      <td>0</td>\n",
              "      <td>0</td>\n",
              "      <td>0</td>\n",
              "      <td>0</td>\n",
              "      <td>0</td>\n",
              "      <td>0</td>\n",
              "      <td>0</td>\n",
              "      <td>0</td>\n",
              "      <td>0</td>\n",
              "    </tr>\n",
              "    <tr>\n",
              "      <th>682</th>\n",
              "      <td>0</td>\n",
              "      <td>0</td>\n",
              "      <td>0</td>\n",
              "      <td>0</td>\n",
              "      <td>0</td>\n",
              "      <td>0</td>\n",
              "      <td>0</td>\n",
              "      <td>0</td>\n",
              "      <td>0</td>\n",
              "      <td>0</td>\n",
              "      <td>0</td>\n",
              "      <td>0</td>\n",
              "      <td>1</td>\n",
              "      <td>0</td>\n",
              "      <td>0</td>\n",
              "      <td>0</td>\n",
              "      <td>0</td>\n",
              "      <td>0</td>\n",
              "      <td>0</td>\n",
              "      <td>0</td>\n",
              "      <td>0</td>\n",
              "      <td>1</td>\n",
              "      <td>0</td>\n",
              "      <td>0</td>\n",
              "      <td>0</td>\n",
              "      <td>0</td>\n",
              "      <td>0</td>\n",
              "      <td>0</td>\n",
              "      <td>0</td>\n",
              "      <td>0</td>\n",
              "    </tr>\n",
              "    <tr>\n",
              "      <th>960</th>\n",
              "      <td>0</td>\n",
              "      <td>0</td>\n",
              "      <td>0</td>\n",
              "      <td>0</td>\n",
              "      <td>0</td>\n",
              "      <td>0</td>\n",
              "      <td>0</td>\n",
              "      <td>0</td>\n",
              "      <td>0</td>\n",
              "      <td>0</td>\n",
              "      <td>0</td>\n",
              "      <td>0</td>\n",
              "      <td>1</td>\n",
              "      <td>0</td>\n",
              "      <td>0</td>\n",
              "      <td>0</td>\n",
              "      <td>0</td>\n",
              "      <td>0</td>\n",
              "      <td>0</td>\n",
              "      <td>0</td>\n",
              "      <td>0</td>\n",
              "      <td>0</td>\n",
              "      <td>0</td>\n",
              "      <td>0</td>\n",
              "      <td>1</td>\n",
              "      <td>0</td>\n",
              "      <td>0</td>\n",
              "      <td>0</td>\n",
              "      <td>0</td>\n",
              "      <td>0</td>\n",
              "    </tr>\n",
              "    <tr>\n",
              "      <th>1384</th>\n",
              "      <td>0</td>\n",
              "      <td>0</td>\n",
              "      <td>0</td>\n",
              "      <td>1</td>\n",
              "      <td>0</td>\n",
              "      <td>0</td>\n",
              "      <td>0</td>\n",
              "      <td>0</td>\n",
              "      <td>0</td>\n",
              "      <td>0</td>\n",
              "      <td>0</td>\n",
              "      <td>0</td>\n",
              "      <td>0</td>\n",
              "      <td>0</td>\n",
              "      <td>0</td>\n",
              "      <td>0</td>\n",
              "      <td>0</td>\n",
              "      <td>1</td>\n",
              "      <td>0</td>\n",
              "      <td>0</td>\n",
              "      <td>0</td>\n",
              "      <td>0</td>\n",
              "      <td>0</td>\n",
              "      <td>0</td>\n",
              "      <td>0</td>\n",
              "      <td>0</td>\n",
              "      <td>1</td>\n",
              "      <td>0</td>\n",
              "      <td>0</td>\n",
              "      <td>0</td>\n",
              "    </tr>\n",
              "    <tr>\n",
              "      <th>1100</th>\n",
              "      <td>0</td>\n",
              "      <td>0</td>\n",
              "      <td>0</td>\n",
              "      <td>0</td>\n",
              "      <td>0</td>\n",
              "      <td>0</td>\n",
              "      <td>0</td>\n",
              "      <td>0</td>\n",
              "      <td>0</td>\n",
              "      <td>0</td>\n",
              "      <td>0</td>\n",
              "      <td>0</td>\n",
              "      <td>1</td>\n",
              "      <td>0</td>\n",
              "      <td>0</td>\n",
              "      <td>0</td>\n",
              "      <td>0</td>\n",
              "      <td>0</td>\n",
              "      <td>0</td>\n",
              "      <td>0</td>\n",
              "      <td>0</td>\n",
              "      <td>1</td>\n",
              "      <td>0</td>\n",
              "      <td>0</td>\n",
              "      <td>0</td>\n",
              "      <td>0</td>\n",
              "      <td>0</td>\n",
              "      <td>0</td>\n",
              "      <td>0</td>\n",
              "      <td>0</td>\n",
              "    </tr>\n",
              "  </tbody>\n",
              "</table>\n",
              "</div>"
            ],
            "text/plain": [
              "      Neighborhood_NAmes  ...  Exterior2nd_Stucco\n",
              "64                     0  ...                   0\n",
              "682                    0  ...                   0\n",
              "960                    0  ...                   0\n",
              "1384                   0  ...                   0\n",
              "1100                   0  ...                   0\n",
              "\n",
              "[5 rows x 30 columns]"
            ]
          },
          "metadata": {
            "tags": []
          },
          "execution_count": 19
        }
      ]
    },
    {
      "cell_type": "markdown",
      "metadata": {
        "id": "DIhFoZ991WQi",
        "colab_type": "text"
      },
      "source": [
        "**Note**\n",
        "\n",
        "\n",
        "The encoder will not encode numerical variables. So if some of your numerical variables are in fact categories, you will need to re-cast them as object before using the encoder."
      ]
    },
    {
      "cell_type": "code",
      "metadata": {
        "id": "yGpnDJOe1WQl",
        "colab_type": "code",
        "colab": {}
      },
      "source": [
        ""
      ],
      "execution_count": 0,
      "outputs": []
    }
  ]
}