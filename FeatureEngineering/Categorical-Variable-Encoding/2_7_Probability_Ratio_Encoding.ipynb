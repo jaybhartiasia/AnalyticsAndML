{
  "nbformat": 4,
  "nbformat_minor": 0,
  "metadata": {
    "kernelspec": {
      "display_name": "feml",
      "language": "python",
      "name": "feml"
    },
    "language_info": {
      "codemirror_mode": {
        "name": "ipython",
        "version": 3
      },
      "file_extension": ".py",
      "mimetype": "text/x-python",
      "name": "python",
      "nbconvert_exporter": "python",
      "pygments_lexer": "ipython3",
      "version": "3.7.3"
    },
    "toc": {
      "base_numbering": 1,
      "nav_menu": {},
      "number_sections": true,
      "sideBar": true,
      "skip_h1_title": false,
      "title_cell": "Table of Contents",
      "title_sidebar": "Contents",
      "toc_cell": false,
      "toc_position": {},
      "toc_section_display": "block",
      "toc_window_display": true
    },
    "colab": {
      "name": "2.7 Probability-Ratio-Encoding.ipynb",
      "provenance": [],
      "include_colab_link": true
    }
  },
  "cells": [
    {
      "cell_type": "markdown",
      "metadata": {
        "id": "view-in-github",
        "colab_type": "text"
      },
      "source": [
        "<a href=\"https://colab.research.google.com/github/vinay10949/AnalyticsAndML/blob/master/FeatureEngineering/Categorical-Variable-Encoding/2_7_Probability_Ratio_Encoding.ipynb\" target=\"_parent\"><img src=\"https://colab.research.google.com/assets/colab-badge.svg\" alt=\"Open In Colab\"/></a>"
      ]
    },
    {
      "cell_type": "markdown",
      "metadata": {
        "id": "ucRgOk6O3Olo",
        "colab_type": "text"
      },
      "source": [
        "## Target guided encodings\n",
        "\n",
        "In the previous lectures in this section, we learned how to convert a label into a number, by using one hot encoding, replacing by a digit or replacing by frequency or counts of observations. These methods are simple, make (almost) no assumptions and work generally well in different scenarios.\n",
        "\n",
        "There are however methods that allow us to capture information while pre-processing the labels of categorical variables. These methods include:\n",
        "\n",
        "- Ordering the labels according to the target\n",
        "- Replacing labels by the target mean (mean encoding / target encoding)\n",
        "- Replacing the labels by the probability ratio of the target being 1 or 0\n",
        "- Weight of evidence.\n",
        "\n",
        "All of the above methods have something in common:\n",
        "\n",
        "- the encoding is **guided by the target**, and\n",
        "- they create a **monotonic relationship** between the variable and the target.\n",
        "\n",
        "\n",
        "### Monotonicity\n",
        "\n",
        "A monotonic relationship is a relationship that does one of the following:\n",
        "\n",
        "- (1) as the value of one variable increases, so does the value of the other variable; or\n",
        "- (2) as the value of one variable increases, the value of the other variable decreases.\n",
        "\n",
        "In this case, as the value of the independent variable (predictor) increases, so does the target, or conversely, as the value of the variable increases, the target value decreases.\n",
        "\n",
        "\n",
        "\n",
        "### Advantages of target guided encodings\n",
        "\n",
        "- Capture information within the category, therefore creating more predictive features\n",
        "- Create a monotonic relationship between the variable and the target, therefore suitable for linear models\n",
        "- Do not expand the feature space\n",
        "\n",
        "\n",
        "### Limitations\n",
        "\n",
        "- Prone to cause over-fitting\n",
        "- Difficult to cross-validate with current libraries\n",
        "\n",
        "\n",
        "### Note\n",
        "\n",
        "The methods discussed in this and the coming 3 lectures can be also used on numerical variables, after discretisation. This creates a monotonic relationship between the numerical variable and the target, and therefore improves the performance of linear models. I will discuss this in more detail in the section \"Discretisation\".\n",
        "\n",
        "===============================================================================\n",
        "\n",
        "## Probability Ratio Encoding\n",
        "\n",
        "These encoding is suitable for classification problems only, where the target is binary.\n",
        "\n",
        "For each category, we calculate the mean of target=1, that is the probability of the target being 1 ( P(1) ), and the probability of the target=0 ( P(0) ). And then, we calculate the ratio P(1)/P(0), and replace the categories by that ratio.\n",
        "\n"
      ]
    },
    {
      "cell_type": "code",
      "metadata": {
        "scrolled": true,
        "id": "XAx1u-DK3Olx",
        "colab_type": "code",
        "colab": {
          "base_uri": "https://localhost:8080/",
          "height": 714
        },
        "outputId": "30aae3c1-ab97-428e-958c-32dbdd466933"
      },
      "source": [
        "!pip install feature_engine\n",
        "import numpy as np\n",
        "import pandas as pd\n",
        "\n",
        "import matplotlib.pyplot as plt\n",
        "\n",
        "# to split the datasets\n",
        "from sklearn.model_selection import train_test_split\n",
        "\n",
        "# for encoding with feature-engine\n",
        "from feature_engine.categorical_encoders import WoERatioCategoricalEncoder"
      ],
      "execution_count": 2,
      "outputs": [
        {
          "output_type": "stream",
          "text": [
            "Collecting feature_engine\n",
            "  Downloading https://files.pythonhosted.org/packages/b3/0f/7f7f60195879fc487aeaecba343f02c6f4426bc239b378b73655d40c1d06/feature_engine-0.3.1-py3-none-any.whl\n",
            "Collecting numpydoc>=0.6.0\n",
            "  Downloading https://files.pythonhosted.org/packages/b0/70/4d8c3f9f6783a57ac9cc7a076e5610c0cc4a96af543cafc9247ac307fbfe/numpydoc-0.9.2.tar.gz\n",
            "Requirement already satisfied: scikit-learn>=0.18.1 in /usr/local/lib/python3.6/dist-packages (from feature_engine) (0.22.1)\n",
            "Requirement already satisfied: scipy>=0.19.0 in /usr/local/lib/python3.6/dist-packages (from feature_engine) (1.4.1)\n",
            "Requirement already satisfied: statsmodels>=0.8.0 in /usr/local/lib/python3.6/dist-packages (from feature_engine) (0.10.2)\n",
            "Requirement already satisfied: numpy>=1.12.1 in /usr/local/lib/python3.6/dist-packages (from feature_engine) (1.17.5)\n",
            "Requirement already satisfied: pandas>=0.23.0 in /usr/local/lib/python3.6/dist-packages (from feature_engine) (0.25.3)\n",
            "Requirement already satisfied: sphinx>=1.6.5 in /usr/local/lib/python3.6/dist-packages (from numpydoc>=0.6.0->feature_engine) (1.8.5)\n",
            "Requirement already satisfied: Jinja2>=2.3 in /usr/local/lib/python3.6/dist-packages (from numpydoc>=0.6.0->feature_engine) (2.11.1)\n",
            "Requirement already satisfied: joblib>=0.11 in /usr/local/lib/python3.6/dist-packages (from scikit-learn>=0.18.1->feature_engine) (0.14.1)\n",
            "Requirement already satisfied: patsy>=0.4.0 in /usr/local/lib/python3.6/dist-packages (from statsmodels>=0.8.0->feature_engine) (0.5.1)\n",
            "Requirement already satisfied: pytz>=2017.2 in /usr/local/lib/python3.6/dist-packages (from pandas>=0.23.0->feature_engine) (2018.9)\n",
            "Requirement already satisfied: python-dateutil>=2.6.1 in /usr/local/lib/python3.6/dist-packages (from pandas>=0.23.0->feature_engine) (2.6.1)\n",
            "Requirement already satisfied: imagesize in /usr/local/lib/python3.6/dist-packages (from sphinx>=1.6.5->numpydoc>=0.6.0->feature_engine) (1.2.0)\n",
            "Requirement already satisfied: setuptools in /usr/local/lib/python3.6/dist-packages (from sphinx>=1.6.5->numpydoc>=0.6.0->feature_engine) (45.1.0)\n",
            "Requirement already satisfied: docutils>=0.11 in /usr/local/lib/python3.6/dist-packages (from sphinx>=1.6.5->numpydoc>=0.6.0->feature_engine) (0.15.2)\n",
            "Requirement already satisfied: packaging in /usr/local/lib/python3.6/dist-packages (from sphinx>=1.6.5->numpydoc>=0.6.0->feature_engine) (20.1)\n",
            "Requirement already satisfied: alabaster<0.8,>=0.7 in /usr/local/lib/python3.6/dist-packages (from sphinx>=1.6.5->numpydoc>=0.6.0->feature_engine) (0.7.12)\n",
            "Requirement already satisfied: requests>=2.0.0 in /usr/local/lib/python3.6/dist-packages (from sphinx>=1.6.5->numpydoc>=0.6.0->feature_engine) (2.21.0)\n",
            "Requirement already satisfied: babel!=2.0,>=1.3 in /usr/local/lib/python3.6/dist-packages (from sphinx>=1.6.5->numpydoc>=0.6.0->feature_engine) (2.8.0)\n",
            "Requirement already satisfied: Pygments>=2.0 in /usr/local/lib/python3.6/dist-packages (from sphinx>=1.6.5->numpydoc>=0.6.0->feature_engine) (2.1.3)\n",
            "Requirement already satisfied: sphinxcontrib-websupport in /usr/local/lib/python3.6/dist-packages (from sphinx>=1.6.5->numpydoc>=0.6.0->feature_engine) (1.1.2)\n",
            "Requirement already satisfied: snowballstemmer>=1.1 in /usr/local/lib/python3.6/dist-packages (from sphinx>=1.6.5->numpydoc>=0.6.0->feature_engine) (2.0.0)\n",
            "Requirement already satisfied: six>=1.5 in /usr/local/lib/python3.6/dist-packages (from sphinx>=1.6.5->numpydoc>=0.6.0->feature_engine) (1.12.0)\n",
            "Requirement already satisfied: MarkupSafe>=0.23 in /usr/local/lib/python3.6/dist-packages (from Jinja2>=2.3->numpydoc>=0.6.0->feature_engine) (1.1.1)\n",
            "Requirement already satisfied: pyparsing>=2.0.2 in /usr/local/lib/python3.6/dist-packages (from packaging->sphinx>=1.6.5->numpydoc>=0.6.0->feature_engine) (2.4.6)\n",
            "Requirement already satisfied: idna<2.9,>=2.5 in /usr/local/lib/python3.6/dist-packages (from requests>=2.0.0->sphinx>=1.6.5->numpydoc>=0.6.0->feature_engine) (2.8)\n",
            "Requirement already satisfied: urllib3<1.25,>=1.21.1 in /usr/local/lib/python3.6/dist-packages (from requests>=2.0.0->sphinx>=1.6.5->numpydoc>=0.6.0->feature_engine) (1.24.3)\n",
            "Requirement already satisfied: chardet<3.1.0,>=3.0.2 in /usr/local/lib/python3.6/dist-packages (from requests>=2.0.0->sphinx>=1.6.5->numpydoc>=0.6.0->feature_engine) (3.0.4)\n",
            "Requirement already satisfied: certifi>=2017.4.17 in /usr/local/lib/python3.6/dist-packages (from requests>=2.0.0->sphinx>=1.6.5->numpydoc>=0.6.0->feature_engine) (2019.11.28)\n",
            "Building wheels for collected packages: numpydoc\n",
            "  Building wheel for numpydoc (setup.py) ... \u001b[?25l\u001b[?25hdone\n",
            "  Created wheel for numpydoc: filename=numpydoc-0.9.2-cp36-none-any.whl size=31893 sha256=a267f4e20e366e7d576faa5853395ad0888ce22a32e98798530cdec10a6afbd6\n",
            "  Stored in directory: /root/.cache/pip/wheels/96/f3/52/25c8e1f40637661d27feebc61dae16b84c7cdd93b8bc3d7486\n",
            "Successfully built numpydoc\n",
            "Installing collected packages: numpydoc, feature-engine\n",
            "Successfully installed feature-engine-0.3.1 numpydoc-0.9.2\n"
          ],
          "name": "stdout"
        }
      ]
    },
    {
      "cell_type": "code",
      "metadata": {
        "id": "jm0hSOgW3OmR",
        "colab_type": "code",
        "colab": {
          "base_uri": "https://localhost:8080/",
          "height": 206
        },
        "outputId": "7d236e1e-70e2-4c91-f4fa-7432ff0f7cb4"
      },
      "source": [
        "# load dataset\n",
        "\n",
        "data = pd.read_csv(\n",
        "    'titanic_train.csv',\n",
        "    usecols=['Cabin', 'Sex', 'Embarked', 'Survived'])\n",
        "\n",
        "data.head()"
      ],
      "execution_count": 4,
      "outputs": [
        {
          "output_type": "execute_result",
          "data": {
            "text/html": [
              "<div>\n",
              "<style scoped>\n",
              "    .dataframe tbody tr th:only-of-type {\n",
              "        vertical-align: middle;\n",
              "    }\n",
              "\n",
              "    .dataframe tbody tr th {\n",
              "        vertical-align: top;\n",
              "    }\n",
              "\n",
              "    .dataframe thead th {\n",
              "        text-align: right;\n",
              "    }\n",
              "</style>\n",
              "<table border=\"1\" class=\"dataframe\">\n",
              "  <thead>\n",
              "    <tr style=\"text-align: right;\">\n",
              "      <th></th>\n",
              "      <th>Survived</th>\n",
              "      <th>Sex</th>\n",
              "      <th>Cabin</th>\n",
              "      <th>Embarked</th>\n",
              "    </tr>\n",
              "  </thead>\n",
              "  <tbody>\n",
              "    <tr>\n",
              "      <th>0</th>\n",
              "      <td>0</td>\n",
              "      <td>male</td>\n",
              "      <td>NaN</td>\n",
              "      <td>S</td>\n",
              "    </tr>\n",
              "    <tr>\n",
              "      <th>1</th>\n",
              "      <td>1</td>\n",
              "      <td>female</td>\n",
              "      <td>C85</td>\n",
              "      <td>C</td>\n",
              "    </tr>\n",
              "    <tr>\n",
              "      <th>2</th>\n",
              "      <td>1</td>\n",
              "      <td>female</td>\n",
              "      <td>NaN</td>\n",
              "      <td>S</td>\n",
              "    </tr>\n",
              "    <tr>\n",
              "      <th>3</th>\n",
              "      <td>1</td>\n",
              "      <td>female</td>\n",
              "      <td>C123</td>\n",
              "      <td>S</td>\n",
              "    </tr>\n",
              "    <tr>\n",
              "      <th>4</th>\n",
              "      <td>0</td>\n",
              "      <td>male</td>\n",
              "      <td>NaN</td>\n",
              "      <td>S</td>\n",
              "    </tr>\n",
              "  </tbody>\n",
              "</table>\n",
              "</div>"
            ],
            "text/plain": [
              "   Survived     Sex Cabin Embarked\n",
              "0         0    male   NaN        S\n",
              "1         1  female   C85        C\n",
              "2         1  female   NaN        S\n",
              "3         1  female  C123        S\n",
              "4         0    male   NaN        S"
            ]
          },
          "metadata": {
            "tags": []
          },
          "execution_count": 4
        }
      ]
    },
    {
      "cell_type": "code",
      "metadata": {
        "id": "VvXtnick3Omm",
        "colab_type": "code",
        "colab": {
          "base_uri": "https://localhost:8080/",
          "height": 34
        },
        "outputId": "66b40dab-520e-40e7-ed19-b67f4b6f816b"
      },
      "source": [
        "# let's remove obserrvations with na in embarked\n",
        "\n",
        "data.dropna(subset=['Embarked'], inplace=True)\n",
        "data.shape"
      ],
      "execution_count": 5,
      "outputs": [
        {
          "output_type": "execute_result",
          "data": {
            "text/plain": [
              "(889, 4)"
            ]
          },
          "metadata": {
            "tags": []
          },
          "execution_count": 5
        }
      ]
    },
    {
      "cell_type": "code",
      "metadata": {
        "id": "PJXQT0aL3Om1",
        "colab_type": "code",
        "colab": {}
      },
      "source": [
        "# Now we extract the first letter of the cabin\n",
        "# to create a simpler variable for the demo\n",
        "\n",
        "data['Cabin'] = data['Cabin'].astype(str).str[0]"
      ],
      "execution_count": 0,
      "outputs": []
    },
    {
      "cell_type": "code",
      "metadata": {
        "id": "Edru6uhD3OnI",
        "colab_type": "code",
        "colab": {
          "base_uri": "https://localhost:8080/",
          "height": 34
        },
        "outputId": "834baee9-50d5-4493-b393-52d08c8880f4"
      },
      "source": [
        "# and we remove the observations where cabin = T\n",
        "# because they are too few\n",
        "\n",
        "data = data[data['Cabin']!= 'T']\n",
        "data.shape"
      ],
      "execution_count": 7,
      "outputs": [
        {
          "output_type": "execute_result",
          "data": {
            "text/plain": [
              "(888, 4)"
            ]
          },
          "metadata": {
            "tags": []
          },
          "execution_count": 7
        }
      ]
    },
    {
      "cell_type": "code",
      "metadata": {
        "id": "6iavUjvu3OnY",
        "colab_type": "code",
        "colab": {
          "base_uri": "https://localhost:8080/",
          "height": 86
        },
        "outputId": "480d276a-e716-4817-8182-79af40240f84"
      },
      "source": [
        "# let's have a look at how many labels each variable has\n",
        "\n",
        "for col in data.columns:\n",
        "    print(col, ': ', len(data[col].unique()), ' labels')"
      ],
      "execution_count": 8,
      "outputs": [
        {
          "output_type": "stream",
          "text": [
            "Survived :  2  labels\n",
            "Sex :  2  labels\n",
            "Cabin :  8  labels\n",
            "Embarked :  3  labels\n"
          ],
          "name": "stdout"
        }
      ]
    },
    {
      "cell_type": "code",
      "metadata": {
        "id": "ii2MDHZY3Onp",
        "colab_type": "code",
        "colab": {
          "base_uri": "https://localhost:8080/",
          "height": 34
        },
        "outputId": "986cf1a3-0604-4715-b6e5-e97cb9fdae4a"
      },
      "source": [
        "# let's explore the unique categories\n",
        "data['Cabin'].unique()"
      ],
      "execution_count": 10,
      "outputs": [
        {
          "output_type": "execute_result",
          "data": {
            "text/plain": [
              "array(['n', 'C', 'E', 'G', 'D', 'A', 'B', 'F'], dtype=object)"
            ]
          },
          "metadata": {
            "tags": []
          },
          "execution_count": 10
        }
      ]
    },
    {
      "cell_type": "code",
      "metadata": {
        "id": "nVbW7ndX3OoL",
        "colab_type": "code",
        "colab": {
          "base_uri": "https://localhost:8080/",
          "height": 34
        },
        "outputId": "52a35ac2-e97f-498c-ca64-75ac3ac17000"
      },
      "source": [
        "data['Sex'].unique()"
      ],
      "execution_count": 9,
      "outputs": [
        {
          "output_type": "execute_result",
          "data": {
            "text/plain": [
              "array(['male', 'female'], dtype=object)"
            ]
          },
          "metadata": {
            "tags": []
          },
          "execution_count": 9
        }
      ]
    },
    {
      "cell_type": "code",
      "metadata": {
        "id": "iq0QNPQQ3Ooh",
        "colab_type": "code",
        "colab": {
          "base_uri": "https://localhost:8080/",
          "height": 34
        },
        "outputId": "518e543a-7ea3-4415-b739-cb092462bed9"
      },
      "source": [
        "data['Embarked'].unique()"
      ],
      "execution_count": 11,
      "outputs": [
        {
          "output_type": "execute_result",
          "data": {
            "text/plain": [
              "array(['S', 'C', 'Q'], dtype=object)"
            ]
          },
          "metadata": {
            "tags": []
          },
          "execution_count": 11
        }
      ]
    },
    {
      "cell_type": "markdown",
      "metadata": {
        "id": "INjehU6v3Oos",
        "colab_type": "text"
      },
      "source": [
        "### Encoding important\n",
        "\n",
        "We calculate the ratio  P(1)/P(0) using the train set, and then use those mappings in the test set.\n",
        "\n",
        "Note that to implement this in pandas, we need to keep the target in the training set."
      ]
    },
    {
      "cell_type": "code",
      "metadata": {
        "id": "hPF0on2G3Ooy",
        "colab_type": "code",
        "colab": {
          "base_uri": "https://localhost:8080/",
          "height": 34
        },
        "outputId": "8d069940-f2f3-4cd4-bd3e-82a33ceb0b57"
      },
      "source": [
        "# let's separate into training and testing set\n",
        "\n",
        "X_train, X_test, y_train, y_test = train_test_split(\n",
        "    data[['Cabin', 'Sex', 'Embarked', 'Survived']],  # this time we keep the target!!\n",
        "    data['Survived'],  # target\n",
        "    test_size=0.3,  # percentage of obs in test set\n",
        "    random_state=0)  # seed to ensure reproducibility\n",
        "\n",
        "X_train.shape, X_test.shape"
      ],
      "execution_count": 12,
      "outputs": [
        {
          "output_type": "execute_result",
          "data": {
            "text/plain": [
              "((621, 4), (267, 4))"
            ]
          },
          "metadata": {
            "tags": []
          },
          "execution_count": 12
        }
      ]
    },
    {
      "cell_type": "markdown",
      "metadata": {
        "id": "OWLbbkAU3OpB",
        "colab_type": "text"
      },
      "source": [
        "### Explore original relationship between categorical variables and target"
      ]
    },
    {
      "cell_type": "code",
      "metadata": {
        "id": "ECne47rF3OpF",
        "colab_type": "code",
        "colab": {
          "base_uri": "https://localhost:8080/",
          "height": 851
        },
        "outputId": "ee8cf1c9-69a7-4f58-d33d-cf6b2bd35902"
      },
      "source": [
        "# let's explore the relationship of the categories with the target\n",
        "\n",
        "for var in ['Cabin', 'Sex', 'Embarked']:\n",
        "    \n",
        "    fig = plt.figure()\n",
        "    fig = X_train.groupby([var])['Survived'].mean().plot()\n",
        "    fig.set_title('Relationship between {} and Survival'.format(var))\n",
        "    fig.set_ylabel('Mean Survival')\n",
        "    plt.show()"
      ],
      "execution_count": 13,
      "outputs": [
        {
          "output_type": "display_data",
          "data": {
            "image/png": "[encoded data removed]",
            "text/plain": [
              "<Figure size 432x288 with 1 Axes>"
            ]
          },
          "metadata": {
            "tags": []
          }
        },
        {
          "output_type": "display_data",
          "data": {
            "image/png": "[encoded data removed]",
            "text/plain": [
              "<Figure size 432x288 with 1 Axes>"
            ]
          },
          "metadata": {
            "tags": []
          }
        },
        {
          "output_type": "display_data",
          "data": {
            "image/png": "[encoded data removed]",
            "text/plain": [
              "<Figure size 432x288 with 1 Axes>"
            ]
          },
          "metadata": {
            "tags": []
          }
        }
      ]
    },
    {
      "cell_type": "markdown",
      "metadata": {
        "id": "coJXsTcv3OpS",
        "colab_type": "text"
      },
      "source": [
        "You can see that the relationship between the target and cabin and embarked goes up and down, depending on the category.\n",
        "\n",
        "\n",
        "## Probability ratio encoding with pandas\n",
        "\n",
        "\n",
        "### Advantages\n",
        "\n",
        "- quick\n",
        "- returns pandas dataframe\n",
        "\n",
        "### Limitations of pandas:\n",
        "\n",
        "- it does not preserve information from train data to propagate to test data"
      ]
    },
    {
      "cell_type": "code",
      "metadata": {
        "id": "6OocYf6H3OpW",
        "colab_type": "code",
        "colab": {
          "base_uri": "https://localhost:8080/",
          "height": 332
        },
        "outputId": "8f111501-3cbf-49bc-dc26-e5ed860e9a99"
      },
      "source": [
        "# let's calculate the probability of survived = 1 per category\n",
        "\n",
        "prob_df = X_train.groupby(['Cabin'])['Survived'].mean()\n",
        "\n",
        "# and capture it into a dataframe\n",
        "prob_df = pd.DataFrame(prob_df)\n",
        "prob_df"
      ],
      "execution_count": 14,
      "outputs": [
        {
          "output_type": "execute_result",
          "data": {
            "text/html": [
              "<div>\n",
              "<style scoped>\n",
              "    .dataframe tbody tr th:only-of-type {\n",
              "        vertical-align: middle;\n",
              "    }\n",
              "\n",
              "    .dataframe tbody tr th {\n",
              "        vertical-align: top;\n",
              "    }\n",
              "\n",
              "    .dataframe thead th {\n",
              "        text-align: right;\n",
              "    }\n",
              "</style>\n",
              "<table border=\"1\" class=\"dataframe\">\n",
              "  <thead>\n",
              "    <tr style=\"text-align: right;\">\n",
              "      <th></th>\n",
              "      <th>Survived</th>\n",
              "    </tr>\n",
              "    <tr>\n",
              "      <th>Cabin</th>\n",
              "      <th></th>\n",
              "    </tr>\n",
              "  </thead>\n",
              "  <tbody>\n",
              "    <tr>\n",
              "      <th>A</th>\n",
              "      <td>0.461538</td>\n",
              "    </tr>\n",
              "    <tr>\n",
              "      <th>B</th>\n",
              "      <td>0.727273</td>\n",
              "    </tr>\n",
              "    <tr>\n",
              "      <th>C</th>\n",
              "      <td>0.547619</td>\n",
              "    </tr>\n",
              "    <tr>\n",
              "      <th>D</th>\n",
              "      <td>0.750000</td>\n",
              "    </tr>\n",
              "    <tr>\n",
              "      <th>E</th>\n",
              "      <td>0.769231</td>\n",
              "    </tr>\n",
              "    <tr>\n",
              "      <th>F</th>\n",
              "      <td>0.583333</td>\n",
              "    </tr>\n",
              "    <tr>\n",
              "      <th>G</th>\n",
              "      <td>0.500000</td>\n",
              "    </tr>\n",
              "    <tr>\n",
              "      <th>n</th>\n",
              "      <td>0.308668</td>\n",
              "    </tr>\n",
              "  </tbody>\n",
              "</table>\n",
              "</div>"
            ],
            "text/plain": [
              "       Survived\n",
              "Cabin          \n",
              "A      0.461538\n",
              "B      0.727273\n",
              "C      0.547619\n",
              "D      0.750000\n",
              "E      0.769231\n",
              "F      0.583333\n",
              "G      0.500000\n",
              "n      0.308668"
            ]
          },
          "metadata": {
            "tags": []
          },
          "execution_count": 14
        }
      ]
    },
    {
      "cell_type": "code",
      "metadata": {
        "id": "Z0ysrWJa3Opl",
        "colab_type": "code",
        "colab": {
          "base_uri": "https://localhost:8080/",
          "height": 332
        },
        "outputId": "fae89d5c-aa6b-4b6c-b2a1-07e1d868add3"
      },
      "source": [
        "# and now the probability of survived = 0\n",
        "\n",
        "prob_df['died'] = 1 - prob_df['Survived']\n",
        "\n",
        "prob_df"
      ],
      "execution_count": 15,
      "outputs": [
        {
          "output_type": "execute_result",
          "data": {
            "text/html": [
              "<div>\n",
              "<style scoped>\n",
              "    .dataframe tbody tr th:only-of-type {\n",
              "        vertical-align: middle;\n",
              "    }\n",
              "\n",
              "    .dataframe tbody tr th {\n",
              "        vertical-align: top;\n",
              "    }\n",
              "\n",
              "    .dataframe thead th {\n",
              "        text-align: right;\n",
              "    }\n",
              "</style>\n",
              "<table border=\"1\" class=\"dataframe\">\n",
              "  <thead>\n",
              "    <tr style=\"text-align: right;\">\n",
              "      <th></th>\n",
              "      <th>Survived</th>\n",
              "      <th>died</th>\n",
              "    </tr>\n",
              "    <tr>\n",
              "      <th>Cabin</th>\n",
              "      <th></th>\n",
              "      <th></th>\n",
              "    </tr>\n",
              "  </thead>\n",
              "  <tbody>\n",
              "    <tr>\n",
              "      <th>A</th>\n",
              "      <td>0.461538</td>\n",
              "      <td>0.538462</td>\n",
              "    </tr>\n",
              "    <tr>\n",
              "      <th>B</th>\n",
              "      <td>0.727273</td>\n",
              "      <td>0.272727</td>\n",
              "    </tr>\n",
              "    <tr>\n",
              "      <th>C</th>\n",
              "      <td>0.547619</td>\n",
              "      <td>0.452381</td>\n",
              "    </tr>\n",
              "    <tr>\n",
              "      <th>D</th>\n",
              "      <td>0.750000</td>\n",
              "      <td>0.250000</td>\n",
              "    </tr>\n",
              "    <tr>\n",
              "      <th>E</th>\n",
              "      <td>0.769231</td>\n",
              "      <td>0.230769</td>\n",
              "    </tr>\n",
              "    <tr>\n",
              "      <th>F</th>\n",
              "      <td>0.583333</td>\n",
              "      <td>0.416667</td>\n",
              "    </tr>\n",
              "    <tr>\n",
              "      <th>G</th>\n",
              "      <td>0.500000</td>\n",
              "      <td>0.500000</td>\n",
              "    </tr>\n",
              "    <tr>\n",
              "      <th>n</th>\n",
              "      <td>0.308668</td>\n",
              "      <td>0.691332</td>\n",
              "    </tr>\n",
              "  </tbody>\n",
              "</table>\n",
              "</div>"
            ],
            "text/plain": [
              "       Survived      died\n",
              "Cabin                    \n",
              "A      0.461538  0.538462\n",
              "B      0.727273  0.272727\n",
              "C      0.547619  0.452381\n",
              "D      0.750000  0.250000\n",
              "E      0.769231  0.230769\n",
              "F      0.583333  0.416667\n",
              "G      0.500000  0.500000\n",
              "n      0.308668  0.691332"
            ]
          },
          "metadata": {
            "tags": []
          },
          "execution_count": 15
        }
      ]
    },
    {
      "cell_type": "code",
      "metadata": {
        "id": "He2p-BB13Op0",
        "colab_type": "code",
        "colab": {
          "base_uri": "https://localhost:8080/",
          "height": 332
        },
        "outputId": "76076220-cd32-4757-ab49-466571a238d1"
      },
      "source": [
        "#  and now the ratio\n",
        "\n",
        "prob_df['ratio'] = prob_df['Survived'] / prob_df['died']\n",
        "\n",
        "prob_df"
      ],
      "execution_count": 16,
      "outputs": [
        {
          "output_type": "execute_result",
          "data": {
            "text/html": [
              "<div>\n",
              "<style scoped>\n",
              "    .dataframe tbody tr th:only-of-type {\n",
              "        vertical-align: middle;\n",
              "    }\n",
              "\n",
              "    .dataframe tbody tr th {\n",
              "        vertical-align: top;\n",
              "    }\n",
              "\n",
              "    .dataframe thead th {\n",
              "        text-align: right;\n",
              "    }\n",
              "</style>\n",
              "<table border=\"1\" class=\"dataframe\">\n",
              "  <thead>\n",
              "    <tr style=\"text-align: right;\">\n",
              "      <th></th>\n",
              "      <th>Survived</th>\n",
              "      <th>died</th>\n",
              "      <th>ratio</th>\n",
              "    </tr>\n",
              "    <tr>\n",
              "      <th>Cabin</th>\n",
              "      <th></th>\n",
              "      <th></th>\n",
              "      <th></th>\n",
              "    </tr>\n",
              "  </thead>\n",
              "  <tbody>\n",
              "    <tr>\n",
              "      <th>A</th>\n",
              "      <td>0.461538</td>\n",
              "      <td>0.538462</td>\n",
              "      <td>0.857143</td>\n",
              "    </tr>\n",
              "    <tr>\n",
              "      <th>B</th>\n",
              "      <td>0.727273</td>\n",
              "      <td>0.272727</td>\n",
              "      <td>2.666667</td>\n",
              "    </tr>\n",
              "    <tr>\n",
              "      <th>C</th>\n",
              "      <td>0.547619</td>\n",
              "      <td>0.452381</td>\n",
              "      <td>1.210526</td>\n",
              "    </tr>\n",
              "    <tr>\n",
              "      <th>D</th>\n",
              "      <td>0.750000</td>\n",
              "      <td>0.250000</td>\n",
              "      <td>3.000000</td>\n",
              "    </tr>\n",
              "    <tr>\n",
              "      <th>E</th>\n",
              "      <td>0.769231</td>\n",
              "      <td>0.230769</td>\n",
              "      <td>3.333333</td>\n",
              "    </tr>\n",
              "    <tr>\n",
              "      <th>F</th>\n",
              "      <td>0.583333</td>\n",
              "      <td>0.416667</td>\n",
              "      <td>1.400000</td>\n",
              "    </tr>\n",
              "    <tr>\n",
              "      <th>G</th>\n",
              "      <td>0.500000</td>\n",
              "      <td>0.500000</td>\n",
              "      <td>1.000000</td>\n",
              "    </tr>\n",
              "    <tr>\n",
              "      <th>n</th>\n",
              "      <td>0.308668</td>\n",
              "      <td>0.691332</td>\n",
              "      <td>0.446483</td>\n",
              "    </tr>\n",
              "  </tbody>\n",
              "</table>\n",
              "</div>"
            ],
            "text/plain": [
              "       Survived      died     ratio\n",
              "Cabin                              \n",
              "A      0.461538  0.538462  0.857143\n",
              "B      0.727273  0.272727  2.666667\n",
              "C      0.547619  0.452381  1.210526\n",
              "D      0.750000  0.250000  3.000000\n",
              "E      0.769231  0.230769  3.333333\n",
              "F      0.583333  0.416667  1.400000\n",
              "G      0.500000  0.500000  1.000000\n",
              "n      0.308668  0.691332  0.446483"
            ]
          },
          "metadata": {
            "tags": []
          },
          "execution_count": 16
        }
      ]
    },
    {
      "cell_type": "code",
      "metadata": {
        "id": "telCyL7N3Op-",
        "colab_type": "code",
        "colab": {
          "base_uri": "https://localhost:8080/",
          "height": 156
        },
        "outputId": "9a7a58ac-089e-4bb1-b40b-405a988af3c5"
      },
      "source": [
        "# and now let's capture the ratio in a dictionary\n",
        "\n",
        "ordered_labels = prob_df['ratio'].to_dict()\n",
        "\n",
        "ordered_labels"
      ],
      "execution_count": 17,
      "outputs": [
        {
          "output_type": "execute_result",
          "data": {
            "text/plain": [
              "{'A': 0.8571428571428572,\n",
              " 'B': 2.666666666666667,\n",
              " 'C': 1.210526315789474,\n",
              " 'D': 3.0,\n",
              " 'E': 3.333333333333334,\n",
              " 'F': 1.4000000000000001,\n",
              " 'G': 1.0,\n",
              " 'n': 0.4464831804281345}"
            ]
          },
          "metadata": {
            "tags": []
          },
          "execution_count": 17
        }
      ]
    },
    {
      "cell_type": "code",
      "metadata": {
        "id": "7V---loO3OqG",
        "colab_type": "code",
        "colab": {}
      },
      "source": [
        "# now, we replace the labels with the ratios\n",
        "\n",
        "X_train['Cabin'] = X_train['Cabin'].map(ordered_labels)\n",
        "X_test['Cabin'] = X_test['Cabin'].map(ordered_labels)"
      ],
      "execution_count": 0,
      "outputs": []
    },
    {
      "cell_type": "code",
      "metadata": {
        "id": "PBG4p_oV3OqS",
        "colab_type": "code",
        "colab": {
          "base_uri": "https://localhost:8080/",
          "height": 208
        },
        "outputId": "6ec558d6-3a61-4157-c486-3ff2e74b92ee"
      },
      "source": [
        "# let's explore the result\n",
        "\n",
        "X_train['Cabin'].head(10)"
      ],
      "execution_count": 19,
      "outputs": [
        {
          "output_type": "execute_result",
          "data": {
            "text/plain": [
              "352    0.446483\n",
              "125    0.446483\n",
              "579    0.446483\n",
              "424    0.446483\n",
              "119    0.446483\n",
              "12     0.446483\n",
              "158    0.446483\n",
              "128    1.400000\n",
              "426    0.446483\n",
              "236    0.446483\n",
              "Name: Cabin, dtype: float64"
            ]
          },
          "metadata": {
            "tags": []
          },
          "execution_count": 19
        }
      ]
    },
    {
      "cell_type": "code",
      "metadata": {
        "id": "HL6tCnvq3Oqd",
        "colab_type": "code",
        "colab": {}
      },
      "source": [
        "# we can turn the previous commands into 2 functions\n",
        "\n",
        "\n",
        "def find_category_mappings(df, variable, target):\n",
        "\n",
        "    tmp = pd.DataFrame(df.groupby([variable])[target].mean())\n",
        "    \n",
        "    tmp['non-target'] = 1 - tmp[target]\n",
        "    \n",
        "    tmp['ratio'] = tmp[target] / tmp['non-target']\n",
        "\n",
        "    return tmp['ratio'].to_dict()\n",
        "\n",
        "\n",
        "def integer_encode(train, test, variable, ordinal_mapping):\n",
        "\n",
        "    X_train[variable] = X_train[variable].map(ordinal_mapping)\n",
        "    X_test[variable] = X_test[variable].map(ordinal_mapping)"
      ],
      "execution_count": 0,
      "outputs": []
    },
    {
      "cell_type": "code",
      "metadata": {
        "id": "dfchs1r53Oqm",
        "colab_type": "code",
        "colab": {}
      },
      "source": [
        "# and now we run a loop over the remaining categorical variables\n",
        "\n",
        "for variable in ['Sex', 'Embarked']:\n",
        "    \n",
        "    mappings = find_category_mappings(X_train, variable, 'Survived')\n",
        "    \n",
        "    integer_encode(X_train, X_test, variable, mappings)"
      ],
      "execution_count": 0,
      "outputs": []
    },
    {
      "cell_type": "code",
      "metadata": {
        "id": "OgfUvA1G3Oqu",
        "colab_type": "code",
        "colab": {
          "base_uri": "https://localhost:8080/",
          "height": 206
        },
        "outputId": "ca8121fb-4a5b-4459-de39-a893bd8f76a4"
      },
      "source": [
        "# let's see the result\n",
        "\n",
        "X_train.head()"
      ],
      "execution_count": 23,
      "outputs": [
        {
          "output_type": "execute_result",
          "data": {
            "text/html": [
              "<div>\n",
              "<style scoped>\n",
              "    .dataframe tbody tr th:only-of-type {\n",
              "        vertical-align: middle;\n",
              "    }\n",
              "\n",
              "    .dataframe tbody tr th {\n",
              "        vertical-align: top;\n",
              "    }\n",
              "\n",
              "    .dataframe thead th {\n",
              "        text-align: right;\n",
              "    }\n",
              "</style>\n",
              "<table border=\"1\" class=\"dataframe\">\n",
              "  <thead>\n",
              "    <tr style=\"text-align: right;\">\n",
              "      <th></th>\n",
              "      <th>Cabin</th>\n",
              "      <th>Sex</th>\n",
              "      <th>Embarked</th>\n",
              "      <th>Survived</th>\n",
              "    </tr>\n",
              "  </thead>\n",
              "  <tbody>\n",
              "    <tr>\n",
              "      <th>352</th>\n",
              "      <td>0.446483</td>\n",
              "      <td>0.248447</td>\n",
              "      <td>1.250000</td>\n",
              "      <td>0</td>\n",
              "    </tr>\n",
              "    <tr>\n",
              "      <th>125</th>\n",
              "      <td>0.446483</td>\n",
              "      <td>0.248447</td>\n",
              "      <td>1.250000</td>\n",
              "      <td>1</td>\n",
              "    </tr>\n",
              "    <tr>\n",
              "      <th>579</th>\n",
              "      <td>0.446483</td>\n",
              "      <td>0.248447</td>\n",
              "      <td>0.533557</td>\n",
              "      <td>1</td>\n",
              "    </tr>\n",
              "    <tr>\n",
              "      <th>424</th>\n",
              "      <td>0.446483</td>\n",
              "      <td>0.248447</td>\n",
              "      <td>0.533557</td>\n",
              "      <td>0</td>\n",
              "    </tr>\n",
              "    <tr>\n",
              "      <th>119</th>\n",
              "      <td>0.446483</td>\n",
              "      <td>2.842105</td>\n",
              "      <td>0.533557</td>\n",
              "      <td>0</td>\n",
              "    </tr>\n",
              "  </tbody>\n",
              "</table>\n",
              "</div>"
            ],
            "text/plain": [
              "        Cabin       Sex  Embarked  Survived\n",
              "352  0.446483  0.248447  1.250000         0\n",
              "125  0.446483  0.248447  1.250000         1\n",
              "579  0.446483  0.248447  0.533557         1\n",
              "424  0.446483  0.248447  0.533557         0\n",
              "119  0.446483  2.842105  0.533557         0"
            ]
          },
          "metadata": {
            "tags": []
          },
          "execution_count": 23
        }
      ]
    },
    {
      "cell_type": "code",
      "metadata": {
        "scrolled": false,
        "id": "53_FBRyh3Oq6",
        "colab_type": "code",
        "colab": {
          "base_uri": "https://localhost:8080/",
          "height": 851
        },
        "outputId": "996ad6ff-f4f4-4fbf-c75f-641cc3e4e9c2"
      },
      "source": [
        "# let's inspect the newly created monotonic relationship\n",
        "# between the categorical variables and the target\n",
        "\n",
        "for var in ['Cabin', 'Sex', 'Embarked']:\n",
        "    \n",
        "    fig = plt.figure()\n",
        "    fig = X_train.groupby([var])['Survived'].mean().plot()\n",
        "    fig.set_title('Monotonic relationship between {} and Survival'.format(var))\n",
        "    fig.set_ylabel('Mean Survived')\n",
        "    plt.show()"
      ],
      "execution_count": 25,
      "outputs": [
        {
          "output_type": "display_data",
          "data": {
            "image/png": "[encoded data removed]",
            "text/plain": [
              "<Figure size 432x288 with 1 Axes>"
            ]
          },
          "metadata": {
            "tags": []
          }
        },
        {
          "output_type": "display_data",
          "data": {
            "image/png": "[encoded data removed]",
            "text/plain": [
              "<Figure size 432x288 with 1 Axes>"
            ]
          },
          "metadata": {
            "tags": []
          }
        },
        {
          "output_type": "display_data",
          "data": {
            "image/png": "[encoded data removed]",
            "text/plain": [
              "<Figure size 432x288 with 1 Axes>"
            ]
          },
          "metadata": {
            "tags": []
          }
        }
      ]
    },
    {
      "cell_type": "markdown",
      "metadata": {
        "id": "G3EGqadG3OrF",
        "colab_type": "text"
      },
      "source": [
        "Note the monotonic relationships between the mean target and the categories.\n",
        "\n",
        "### Note\n",
        "\n",
        "Replacing categorical labels with this code and method will generate missing values for categories present in the test set that were not seen in the training set. Therefore it is extremely important to handle rare labels before-hand. I will explain how to do this, in a later notebook.\n",
        "\n",
        "**In addition, it will create NA or Inf if the probability of target = 0 is zero, as the division by zero is not defined.**"
      ]
    },
    {
      "cell_type": "markdown",
      "metadata": {
        "id": "mprpCVAk3OrH",
        "colab_type": "text"
      },
      "source": [
        "## Probability Ratio Encoding with Feature-Engine\n",
        "\n",
        "If using Feature-Engine, instead of pandas, we do not need to keep the target variable in the training dataset."
      ]
    },
    {
      "cell_type": "code",
      "metadata": {
        "id": "haSibose3OrK",
        "colab_type": "code",
        "colab": {
          "base_uri": "https://localhost:8080/",
          "height": 34
        },
        "outputId": "53b7ecf4-3dec-4951-db32-b4e2cd95bdbc"
      },
      "source": [
        "# let's separate into training and testing set\n",
        "\n",
        "X_train, X_test, y_train, y_test = train_test_split(\n",
        "    data[['Cabin', 'Sex', 'Embarked']], # predictors\n",
        "    data['Survived'],  # target\n",
        "    test_size=0.3,  # percentage of obs in test set\n",
        "    random_state=0)  # seed to ensure reproducibility\n",
        "\n",
        "X_train.shape, X_test.shape"
      ],
      "execution_count": 29,
      "outputs": [
        {
          "output_type": "execute_result",
          "data": {
            "text/plain": [
              "((621, 3), (267, 3))"
            ]
          },
          "metadata": {
            "tags": []
          },
          "execution_count": 29
        }
      ]
    },
    {
      "cell_type": "code",
      "metadata": {
        "id": "NUQSQWGP3OrW",
        "colab_type": "code",
        "colab": {}
      },
      "source": [
        "ratio_enc = WoERatioCategoricalEncoder(\n",
        "    encoding_method = 'ratio',\n",
        "    variables=['Cabin', 'Sex', 'Embarked'])"
      ],
      "execution_count": 0,
      "outputs": []
    },
    {
      "cell_type": "code",
      "metadata": {
        "id": "5lcyuiLp3Orb",
        "colab_type": "code",
        "colab": {
          "base_uri": "https://localhost:8080/",
          "height": 52
        },
        "outputId": "d392febc-c0da-4515-db3b-31a2d3df785f"
      },
      "source": [
        "# when fitting the transformer, we need to pass the target as well\n",
        "# just like with any Scikit-learn predictor class\n",
        "\n",
        "ratio_enc.fit(X_train, y_train)"
      ],
      "execution_count": 31,
      "outputs": [
        {
          "output_type": "execute_result",
          "data": {
            "text/plain": [
              "WoERatioCategoricalEncoder(encoding_method='ratio',\n",
              "                           variables=['Cabin', 'Sex', 'Embarked'])"
            ]
          },
          "metadata": {
            "tags": []
          },
          "execution_count": 31
        }
      ]
    },
    {
      "cell_type": "code",
      "metadata": {
        "scrolled": true,
        "id": "xqDA_8_f3Orj",
        "colab_type": "code",
        "colab": {},
        "outputId": "9d6abfaa-1250-47cd-ac78-7ce8ac515630"
      },
      "source": [
        "# in the encoder dict we see the P(1)/P(0) for each\n",
        "# category for each of the indicated variables\n",
        "\n",
        "ratio_enc.encoder_dict_"
      ],
      "execution_count": 0,
      "outputs": [
        {
          "output_type": "execute_result",
          "data": {
            "text/plain": [
              "{'cabin': {'A': 0.7,\n",
              "  'B': 2.818181818181819,\n",
              "  'C': 1.4999999999999998,\n",
              "  'D': 2.3000000000000007,\n",
              "  'E': 2.333333333333333,\n",
              "  'F': 3.333333333333334,\n",
              "  'G': 3.0,\n",
              "  'n': 0.4128256513026052},\n",
              " 'sex': {'female': 2.788235294117647, 'male': 0.21810699588477367},\n",
              " 'embarked': {'C': 1.160919540229885,\n",
              "  'Q': 0.4333333333333333,\n",
              "  'S': 0.5094339622641509}}"
            ]
          },
          "metadata": {
            "tags": []
          },
          "execution_count": 25
        }
      ]
    },
    {
      "cell_type": "code",
      "metadata": {
        "id": "PK5ISzGi3Ors",
        "colab_type": "code",
        "colab": {
          "base_uri": "https://localhost:8080/",
          "height": 34
        },
        "outputId": "6e81add3-b840-4d3a-ed49-88838675cc7f"
      },
      "source": [
        "# this is the list of variables that the encoder will transform\n",
        "\n",
        "ratio_enc.variables"
      ],
      "execution_count": 32,
      "outputs": [
        {
          "output_type": "execute_result",
          "data": {
            "text/plain": [
              "['Cabin', 'Sex', 'Embarked']"
            ]
          },
          "metadata": {
            "tags": []
          },
          "execution_count": 32
        }
      ]
    },
    {
      "cell_type": "code",
      "metadata": {
        "id": "xldJwZtX3Orz",
        "colab_type": "code",
        "colab": {
          "base_uri": "https://localhost:8080/",
          "height": 206
        },
        "outputId": "da588ff4-54ff-436b-fefa-e10dbcb4fdd8"
      },
      "source": [
        "X_train = ratio_enc.transform(X_train)\n",
        "X_test = ratio_enc.transform(X_test)\n",
        "\n",
        "# let's explore the result\n",
        "X_train.head()"
      ],
      "execution_count": 33,
      "outputs": [
        {
          "output_type": "execute_result",
          "data": {
            "text/html": [
              "<div>\n",
              "<style scoped>\n",
              "    .dataframe tbody tr th:only-of-type {\n",
              "        vertical-align: middle;\n",
              "    }\n",
              "\n",
              "    .dataframe tbody tr th {\n",
              "        vertical-align: top;\n",
              "    }\n",
              "\n",
              "    .dataframe thead th {\n",
              "        text-align: right;\n",
              "    }\n",
              "</style>\n",
              "<table border=\"1\" class=\"dataframe\">\n",
              "  <thead>\n",
              "    <tr style=\"text-align: right;\">\n",
              "      <th></th>\n",
              "      <th>Cabin</th>\n",
              "      <th>Sex</th>\n",
              "      <th>Embarked</th>\n",
              "    </tr>\n",
              "  </thead>\n",
              "  <tbody>\n",
              "    <tr>\n",
              "      <th>352</th>\n",
              "      <td>0.446483</td>\n",
              "      <td>0.248447</td>\n",
              "      <td>1.250000</td>\n",
              "    </tr>\n",
              "    <tr>\n",
              "      <th>125</th>\n",
              "      <td>0.446483</td>\n",
              "      <td>0.248447</td>\n",
              "      <td>1.250000</td>\n",
              "    </tr>\n",
              "    <tr>\n",
              "      <th>579</th>\n",
              "      <td>0.446483</td>\n",
              "      <td>0.248447</td>\n",
              "      <td>0.533557</td>\n",
              "    </tr>\n",
              "    <tr>\n",
              "      <th>424</th>\n",
              "      <td>0.446483</td>\n",
              "      <td>0.248447</td>\n",
              "      <td>0.533557</td>\n",
              "    </tr>\n",
              "    <tr>\n",
              "      <th>119</th>\n",
              "      <td>0.446483</td>\n",
              "      <td>2.842105</td>\n",
              "      <td>0.533557</td>\n",
              "    </tr>\n",
              "  </tbody>\n",
              "</table>\n",
              "</div>"
            ],
            "text/plain": [
              "        Cabin       Sex  Embarked\n",
              "352  0.446483  0.248447  1.250000\n",
              "125  0.446483  0.248447  1.250000\n",
              "579  0.446483  0.248447  0.533557\n",
              "424  0.446483  0.248447  0.533557\n",
              "119  0.446483  2.842105  0.533557"
            ]
          },
          "metadata": {
            "tags": []
          },
          "execution_count": 33
        }
      ]
    },
    {
      "cell_type": "markdown",
      "metadata": {
        "id": "6Zbu_tj03OsA",
        "colab_type": "text"
      },
      "source": [
        "**Note**\n",
        "\n",
        "If the argument variables is left to None, then the encoder will automatically identify all categorical variables. Is that not sweet?\n",
        "\n",
        "The encoder will not encode numerical variables. So if some of your numerical variables are in fact categories, you will need to re-cast them as object before using the encoder.\n",
        "\n",
        "If there is a label in the test set that was not present in the train set, the encoder will through and error, to alert you of this behaviour.\n",
        "\n",
        "Finally, if the probability of target = 0 is zero for any category, the encoder will raise an error as the division by zero is not defined."
      ]
    },
    {
      "cell_type": "code",
      "metadata": {
        "id": "VmSBBIG73OsE",
        "colab_type": "code",
        "colab": {}
      },
      "source": [
        ""
      ],
      "execution_count": 0,
      "outputs": []
    }
  ]
}