{
  "nbformat": 4,
  "nbformat_minor": 0,
  "metadata": {
    "kernelspec": {
      "display_name": "feml",
      "language": "python",
      "name": "feml"
    },
    "language_info": {
      "codemirror_mode": {
        "name": "ipython",
        "version": 3
      },
      "file_extension": ".py",
      "mimetype": "text/x-python",
      "name": "python",
      "nbconvert_exporter": "python",
      "pygments_lexer": "ipython3",
      "version": "3.7.3"
    },
    "toc": {
      "base_numbering": 1,
      "nav_menu": {},
      "number_sections": true,
      "sideBar": true,
      "skip_h1_title": false,
      "title_cell": "Table of Contents",
      "title_sidebar": "Contents",
      "toc_cell": false,
      "toc_position": {},
      "toc_section_display": "block",
      "toc_window_display": true
    },
    "colab": {
      "name": "2.4 Count_or_frequency_encoding.ipynb",
      "provenance": [],
      "include_colab_link": true
    }
  },
  "cells": [
    {
      "cell_type": "markdown",
      "metadata": {
        "id": "view-in-github",
        "colab_type": "text"
      },
      "source": [
        "<a href=\"https://colab.research.google.com/github/vinay10949/AnalyticsAndML/blob/master/FeatureEngineering/Categorical-Variable-Encoding/2_4_Count_or_frequency_encoding.ipynb\" target=\"_parent\"><img src=\"https://colab.research.google.com/assets/colab-badge.svg\" alt=\"Open In Colab\"/></a>"
      ]
    },
    {
      "cell_type": "markdown",
      "metadata": {
        "id": "6aUyidh8tgBe",
        "colab_type": "text"
      },
      "source": [
        "## Count or frequency encoding\n",
        "\n",
        "In count encoding we replace the categories by the count of the observations that show that category in the dataset. Similarly, we can replace the category by the frequency -or percentage- of observations in the dataset. That is, if 10 of our 100 observations show the colour blue, we would replace blue by 10 if doing count encoding, or by 0.1 if replacing by the frequency. These techniques capture the representation of each label in a dataset, but the encoding may not necessarily be predictive of the outcome. These are however, very popular encoding methods in Kaggle competitions.\n",
        "\n",
        "The assumption of this technique is that the number observations shown by each variable is somewhat informative of the predictive power of the category.\n",
        "\n",
        "\n",
        "### Advantages\n",
        "\n",
        "- Simple\n",
        "- Does not expand the feature space\n",
        "\n",
        "### Disadvantages\n",
        "\n",
        "- If 2 different categories appear the same amount of times in the dataset, that is, they appear in the same number of observations, they will be replaced by the same number: may lose valuable information.\n",
        "\n",
        "For example, if there are 10 observations for the category blue and 10 observations for the category red, both will be replaced by 10, and therefore, after the encoding, will appear to be the same thing. \n",
        "\n",
        "\n",
        "Follow this [thread in Kaggle](https://www.kaggle.com/general/16927) for more information.\n",
        "\n",
        "\n"
      ]
    },
    {
      "cell_type": "code",
      "metadata": {
        "id": "bgSxlWcBtgBm",
        "colab_type": "code",
        "colab": {
          "base_uri": "https://localhost:8080/",
          "height": 558
        },
        "outputId": "0117ddd7-d0f6-478e-fa4e-72a84cf87dee"
      },
      "source": [
        "!pip install feature_engine\n",
        "import numpy as np\n",
        "import pandas as pd\n",
        "\n",
        "# to split the datasets\n",
        "from sklearn.model_selection import train_test_split\n",
        "\n",
        "# to encode with feature-engine\n",
        "from feature_engine.categorical_encoders import CountFrequencyCategoricalEncoder"
      ],
      "execution_count": 43,
      "outputs": [
        {
          "output_type": "stream",
          "text": [
            "Requirement already satisfied: feature_engine in /usr/local/lib/python3.6/dist-packages (0.3.1)\n",
            "Requirement already satisfied: numpydoc>=0.6.0 in /usr/local/lib/python3.6/dist-packages (from feature_engine) (0.9.2)\n",
            "Requirement already satisfied: scikit-learn>=0.18.1 in /usr/local/lib/python3.6/dist-packages (from feature_engine) (0.22.1)\n",
            "Requirement already satisfied: numpy>=1.12.1 in /usr/local/lib/python3.6/dist-packages (from feature_engine) (1.17.5)\n",
            "Requirement already satisfied: scipy>=0.19.0 in /usr/local/lib/python3.6/dist-packages (from feature_engine) (1.4.1)\n",
            "Requirement already satisfied: pandas>=0.23.0 in /usr/local/lib/python3.6/dist-packages (from feature_engine) (0.25.3)\n",
            "Requirement already satisfied: statsmodels>=0.8.0 in /usr/local/lib/python3.6/dist-packages (from feature_engine) (0.10.2)\n",
            "Requirement already satisfied: Jinja2>=2.3 in /usr/local/lib/python3.6/dist-packages (from numpydoc>=0.6.0->feature_engine) (2.11.1)\n",
            "Requirement already satisfied: sphinx>=1.6.5 in /usr/local/lib/python3.6/dist-packages (from numpydoc>=0.6.0->feature_engine) (1.8.5)\n",
            "Requirement already satisfied: joblib>=0.11 in /usr/local/lib/python3.6/dist-packages (from scikit-learn>=0.18.1->feature_engine) (0.14.1)\n",
            "Requirement already satisfied: python-dateutil>=2.6.1 in /usr/local/lib/python3.6/dist-packages (from pandas>=0.23.0->feature_engine) (2.6.1)\n",
            "Requirement already satisfied: pytz>=2017.2 in /usr/local/lib/python3.6/dist-packages (from pandas>=0.23.0->feature_engine) (2018.9)\n",
            "Requirement already satisfied: patsy>=0.4.0 in /usr/local/lib/python3.6/dist-packages (from statsmodels>=0.8.0->feature_engine) (0.5.1)\n",
            "Requirement already satisfied: MarkupSafe>=0.23 in /usr/local/lib/python3.6/dist-packages (from Jinja2>=2.3->numpydoc>=0.6.0->feature_engine) (1.1.1)\n",
            "Requirement already satisfied: packaging in /usr/local/lib/python3.6/dist-packages (from sphinx>=1.6.5->numpydoc>=0.6.0->feature_engine) (20.1)\n",
            "Requirement already satisfied: imagesize in /usr/local/lib/python3.6/dist-packages (from sphinx>=1.6.5->numpydoc>=0.6.0->feature_engine) (1.2.0)\n",
            "Requirement already satisfied: six>=1.5 in /usr/local/lib/python3.6/dist-packages (from sphinx>=1.6.5->numpydoc>=0.6.0->feature_engine) (1.12.0)\n",
            "Requirement already satisfied: snowballstemmer>=1.1 in /usr/local/lib/python3.6/dist-packages (from sphinx>=1.6.5->numpydoc>=0.6.0->feature_engine) (2.0.0)\n",
            "Requirement already satisfied: sphinxcontrib-websupport in /usr/local/lib/python3.6/dist-packages (from sphinx>=1.6.5->numpydoc>=0.6.0->feature_engine) (1.1.2)\n",
            "Requirement already satisfied: docutils>=0.11 in /usr/local/lib/python3.6/dist-packages (from sphinx>=1.6.5->numpydoc>=0.6.0->feature_engine) (0.15.2)\n",
            "Requirement already satisfied: setuptools in /usr/local/lib/python3.6/dist-packages (from sphinx>=1.6.5->numpydoc>=0.6.0->feature_engine) (45.1.0)\n",
            "Requirement already satisfied: babel!=2.0,>=1.3 in /usr/local/lib/python3.6/dist-packages (from sphinx>=1.6.5->numpydoc>=0.6.0->feature_engine) (2.8.0)\n",
            "Requirement already satisfied: alabaster<0.8,>=0.7 in /usr/local/lib/python3.6/dist-packages (from sphinx>=1.6.5->numpydoc>=0.6.0->feature_engine) (0.7.12)\n",
            "Requirement already satisfied: Pygments>=2.0 in /usr/local/lib/python3.6/dist-packages (from sphinx>=1.6.5->numpydoc>=0.6.0->feature_engine) (2.1.3)\n",
            "Requirement already satisfied: requests>=2.0.0 in /usr/local/lib/python3.6/dist-packages (from sphinx>=1.6.5->numpydoc>=0.6.0->feature_engine) (2.21.0)\n",
            "Requirement already satisfied: pyparsing>=2.0.2 in /usr/local/lib/python3.6/dist-packages (from packaging->sphinx>=1.6.5->numpydoc>=0.6.0->feature_engine) (2.4.6)\n",
            "Requirement already satisfied: idna<2.9,>=2.5 in /usr/local/lib/python3.6/dist-packages (from requests>=2.0.0->sphinx>=1.6.5->numpydoc>=0.6.0->feature_engine) (2.8)\n",
            "Requirement already satisfied: urllib3<1.25,>=1.21.1 in /usr/local/lib/python3.6/dist-packages (from requests>=2.0.0->sphinx>=1.6.5->numpydoc>=0.6.0->feature_engine) (1.24.3)\n",
            "Requirement already satisfied: chardet<3.1.0,>=3.0.2 in /usr/local/lib/python3.6/dist-packages (from requests>=2.0.0->sphinx>=1.6.5->numpydoc>=0.6.0->feature_engine) (3.0.4)\n",
            "Requirement already satisfied: certifi>=2017.4.17 in /usr/local/lib/python3.6/dist-packages (from requests>=2.0.0->sphinx>=1.6.5->numpydoc>=0.6.0->feature_engine) (2019.11.28)\n"
          ],
          "name": "stdout"
        }
      ]
    },
    {
      "cell_type": "code",
      "metadata": {
        "id": "Q5MDIWX5tgB8",
        "colab_type": "code",
        "colab": {
          "base_uri": "https://localhost:8080/",
          "height": 206
        },
        "outputId": "1a02bdad-fd45-4916-997c-203fe6f38a3d"
      },
      "source": [
        "# load dataset\n",
        "\n",
        "data = pd.read_csv(\n",
        "    'houseprice_train.csv',\n",
        "    usecols=['Neighborhood', 'Exterior1st', 'Exterior2nd', 'SalePrice'])\n",
        "\n",
        "data.head()"
      ],
      "execution_count": 44,
      "outputs": [
        {
          "output_type": "execute_result",
          "data": {
            "text/html": [
              "<div>\n",
              "<style scoped>\n",
              "    .dataframe tbody tr th:only-of-type {\n",
              "        vertical-align: middle;\n",
              "    }\n",
              "\n",
              "    .dataframe tbody tr th {\n",
              "        vertical-align: top;\n",
              "    }\n",
              "\n",
              "    .dataframe thead th {\n",
              "        text-align: right;\n",
              "    }\n",
              "</style>\n",
              "<table border=\"1\" class=\"dataframe\">\n",
              "  <thead>\n",
              "    <tr style=\"text-align: right;\">\n",
              "      <th></th>\n",
              "      <th>Neighborhood</th>\n",
              "      <th>Exterior1st</th>\n",
              "      <th>Exterior2nd</th>\n",
              "      <th>SalePrice</th>\n",
              "    </tr>\n",
              "  </thead>\n",
              "  <tbody>\n",
              "    <tr>\n",
              "      <th>0</th>\n",
              "      <td>CollgCr</td>\n",
              "      <td>VinylSd</td>\n",
              "      <td>VinylSd</td>\n",
              "      <td>208500</td>\n",
              "    </tr>\n",
              "    <tr>\n",
              "      <th>1</th>\n",
              "      <td>Veenker</td>\n",
              "      <td>MetalSd</td>\n",
              "      <td>MetalSd</td>\n",
              "      <td>181500</td>\n",
              "    </tr>\n",
              "    <tr>\n",
              "      <th>2</th>\n",
              "      <td>CollgCr</td>\n",
              "      <td>VinylSd</td>\n",
              "      <td>VinylSd</td>\n",
              "      <td>223500</td>\n",
              "    </tr>\n",
              "    <tr>\n",
              "      <th>3</th>\n",
              "      <td>Crawfor</td>\n",
              "      <td>Wd Sdng</td>\n",
              "      <td>Wd Shng</td>\n",
              "      <td>140000</td>\n",
              "    </tr>\n",
              "    <tr>\n",
              "      <th>4</th>\n",
              "      <td>NoRidge</td>\n",
              "      <td>VinylSd</td>\n",
              "      <td>VinylSd</td>\n",
              "      <td>250000</td>\n",
              "    </tr>\n",
              "  </tbody>\n",
              "</table>\n",
              "</div>"
            ],
            "text/plain": [
              "  Neighborhood Exterior1st Exterior2nd  SalePrice\n",
              "0      CollgCr     VinylSd     VinylSd     208500\n",
              "1      Veenker     MetalSd     MetalSd     181500\n",
              "2      CollgCr     VinylSd     VinylSd     223500\n",
              "3      Crawfor     Wd Sdng     Wd Shng     140000\n",
              "4      NoRidge     VinylSd     VinylSd     250000"
            ]
          },
          "metadata": {
            "tags": []
          },
          "execution_count": 44
        }
      ]
    },
    {
      "cell_type": "code",
      "metadata": {
        "id": "yCWsFbCJtgCJ",
        "colab_type": "code",
        "colab": {
          "base_uri": "https://localhost:8080/",
          "height": 86
        },
        "outputId": "c9c8ffc1-ccf4-42c9-8d79-24fa53440e2a"
      },
      "source": [
        "# let's have a look at how many labels each variable has\n",
        "\n",
        "for col in data.columns:\n",
        "    print(col, ': ', len(data[col].unique()), ' labels')"
      ],
      "execution_count": 45,
      "outputs": [
        {
          "output_type": "stream",
          "text": [
            "Neighborhood :  25  labels\n",
            "Exterior1st :  15  labels\n",
            "Exterior2nd :  16  labels\n",
            "SalePrice :  663  labels\n"
          ],
          "name": "stdout"
        }
      ]
    },
    {
      "cell_type": "markdown",
      "metadata": {
        "id": "VJGXf7UGtgCX",
        "colab_type": "text"
      },
      "source": [
        "### Important\n",
        "\n",
        "When doing count transformation of categorical variables, it is important to calculate the count (or frequency = count / total observations) **over the training set**, and then use those numbers to replace the labels in the test set."
      ]
    },
    {
      "cell_type": "code",
      "metadata": {
        "id": "d_PLnkbItgCa",
        "colab_type": "code",
        "colab": {
          "base_uri": "https://localhost:8080/",
          "height": 34
        },
        "outputId": "06304a22-1394-4db5-d1f8-8f4d60f4f822"
      },
      "source": [
        "# let's separate into training and testing set\n",
        "\n",
        "X_train, X_test, y_train, y_test = train_test_split(\n",
        "    data[['Neighborhood', 'Exterior1st', 'Exterior2nd']], # predictors\n",
        "    data['SalePrice'],  # target\n",
        "    test_size=0.3,  # percentage of obs in test set\n",
        "    random_state=0)  # seed to ensure reproducibility\n",
        "\n",
        "X_train.shape, X_test.shape"
      ],
      "execution_count": 46,
      "outputs": [
        {
          "output_type": "execute_result",
          "data": {
            "text/plain": [
              "((1022, 3), (438, 3))"
            ]
          },
          "metadata": {
            "tags": []
          },
          "execution_count": 46
        }
      ]
    },
    {
      "cell_type": "markdown",
      "metadata": {
        "id": "wCE2ow9ptgCm",
        "colab_type": "text"
      },
      "source": [
        "## Count and Frequency encoding with pandas"
      ]
    },
    {
      "cell_type": "code",
      "metadata": {
        "scrolled": true,
        "id": "KiDSAzwbtgCp",
        "colab_type": "code",
        "colab": {
          "base_uri": "https://localhost:8080/",
          "height": 451
        },
        "outputId": "8d4899d1-269b-47b9-9a04-e953cc7ab4f8"
      },
      "source": [
        "# let's obtain the counts for each one of the labels\n",
        "# in the variable Neigbourhood\n",
        "\n",
        "count_map = X_train['Neighborhood'].value_counts().to_dict()\n",
        "\n",
        "count_map"
      ],
      "execution_count": 47,
      "outputs": [
        {
          "output_type": "execute_result",
          "data": {
            "text/plain": [
              "{'Blmngtn': 12,\n",
              " 'Blueste': 2,\n",
              " 'BrDale': 10,\n",
              " 'BrkSide': 41,\n",
              " 'ClearCr': 24,\n",
              " 'CollgCr': 105,\n",
              " 'Crawfor': 35,\n",
              " 'Edwards': 71,\n",
              " 'Gilbert': 55,\n",
              " 'IDOTRR': 24,\n",
              " 'MeadowV': 12,\n",
              " 'Mitchel': 36,\n",
              " 'NAmes': 151,\n",
              " 'NPkVill': 7,\n",
              " 'NWAmes': 51,\n",
              " 'NoRidge': 30,\n",
              " 'NridgHt': 51,\n",
              " 'OldTown': 73,\n",
              " 'SWISU': 18,\n",
              " 'Sawyer': 61,\n",
              " 'SawyerW': 45,\n",
              " 'Somerst': 56,\n",
              " 'StoneBr': 16,\n",
              " 'Timber': 30,\n",
              " 'Veenker': 6}"
            ]
          },
          "metadata": {
            "tags": []
          },
          "execution_count": 47
        }
      ]
    },
    {
      "cell_type": "markdown",
      "metadata": {
        "id": "UC_tianUtgC2",
        "colab_type": "text"
      },
      "source": [
        "The dictionary contains the number of observations per category in Neighbourhood."
      ]
    },
    {
      "cell_type": "code",
      "metadata": {
        "id": "2j0HYABAtgC5",
        "colab_type": "code",
        "colab": {}
      },
      "source": [
        "# replace the labels with the counts\n",
        "\n",
        "X_train['Neighborhood'] = X_train['Neighborhood'].map(count_map)\n",
        "X_test['Neighborhood'] = X_test['Neighborhood'].map(count_map)"
      ],
      "execution_count": 0,
      "outputs": []
    },
    {
      "cell_type": "code",
      "metadata": {
        "id": "QYNnEvs0tgDD",
        "colab_type": "code",
        "colab": {
          "base_uri": "https://localhost:8080/",
          "height": 208
        },
        "outputId": "5e4ed95b-4e8b-4c78-e033-8c52a8e6b82b"
      },
      "source": [
        "# let's explore the result\n",
        "\n",
        "X_train['Neighborhood'].head(10)"
      ],
      "execution_count": 49,
      "outputs": [
        {
          "output_type": "execute_result",
          "data": {
            "text/plain": [
              "64      105\n",
              "682      24\n",
              "960      41\n",
              "1384     71\n",
              "1100     18\n",
              "416      61\n",
              "1034     35\n",
              "853     151\n",
              "472      71\n",
              "1011     71\n",
              "Name: Neighborhood, dtype: int64"
            ]
          },
          "metadata": {
            "tags": []
          },
          "execution_count": 49
        }
      ]
    },
    {
      "cell_type": "code",
      "metadata": {
        "id": "s_4DYc6NtgDP",
        "colab_type": "code",
        "colab": {
          "base_uri": "https://localhost:8080/",
          "height": 278
        },
        "outputId": "cd117b23-0ba0-437b-a3f4-b38489ef1eb3"
      },
      "source": [
        "# if instead of the count we would like the frequency\n",
        "# we need only divide the count by the total number of observations:\n",
        "\n",
        "frequency_map = (X_train['Exterior1st'].value_counts() / len(X_train) ).to_dict()\n",
        "frequency_map"
      ],
      "execution_count": 50,
      "outputs": [
        {
          "output_type": "execute_result",
          "data": {
            "text/plain": [
              "{'AsbShng': 0.014677103718199608,\n",
              " 'AsphShn': 0.0009784735812133072,\n",
              " 'BrkComm': 0.0009784735812133072,\n",
              " 'BrkFace': 0.03424657534246575,\n",
              " 'CBlock': 0.0009784735812133072,\n",
              " 'CemntBd': 0.03816046966731898,\n",
              " 'HdBoard': 0.149706457925636,\n",
              " 'ImStucc': 0.0009784735812133072,\n",
              " 'MetalSd': 0.1350293542074364,\n",
              " 'Plywood': 0.08414872798434442,\n",
              " 'Stone': 0.0019569471624266144,\n",
              " 'Stucco': 0.016634050880626222,\n",
              " 'VinylSd': 0.3561643835616438,\n",
              " 'Wd Sdng': 0.14481409001956946,\n",
              " 'WdShing': 0.02054794520547945}"
            ]
          },
          "metadata": {
            "tags": []
          },
          "execution_count": 50
        }
      ]
    },
    {
      "cell_type": "code",
      "metadata": {
        "id": "jsloySqCtgDa",
        "colab_type": "code",
        "colab": {}
      },
      "source": [
        "# replace the labels with the frequencies\n",
        "\n",
        "X_train['Exterior1st'] = X_train['Exterior1st'].map(frequency_map)\n",
        "X_test['Exterior1st'] = X_test['Exterior1st'].map(frequency_map)"
      ],
      "execution_count": 0,
      "outputs": []
    },
    {
      "cell_type": "markdown",
      "metadata": {
        "id": "u7ziWbGYtgDm",
        "colab_type": "text"
      },
      "source": [
        "We can then put these commands into 2 functions as we did in the previous 3 notebooks, and loop over all the categorical variables. If you don't know how to do this, please check any of the previous notebooks.\n",
        "\n",
        "## Count or Frequency Encoding with Feature-Engine"
      ]
    },
    {
      "cell_type": "code",
      "metadata": {
        "id": "EqAozP9htgDr",
        "colab_type": "code",
        "colab": {
          "base_uri": "https://localhost:8080/",
          "height": 34
        },
        "outputId": "f96dcba2-1965-4990-86d9-8e009f47484e"
      },
      "source": [
        "# let's separate into training and testing set\n",
        "\n",
        "X_train, X_test, y_train, y_test = train_test_split(\n",
        "    data[['Neighborhood', 'Exterior1st', 'Exterior2nd']], # predictors\n",
        "    data['SalePrice'],  # target\n",
        "    test_size=0.3,  # percentage of obs in test set\n",
        "    random_state=0)  # seed to ensure reproducibility\n",
        "\n",
        "X_train.shape, X_test.shape"
      ],
      "execution_count": 52,
      "outputs": [
        {
          "output_type": "execute_result",
          "data": {
            "text/plain": [
              "((1022, 3), (438, 3))"
            ]
          },
          "metadata": {
            "tags": []
          },
          "execution_count": 52
        }
      ]
    },
    {
      "cell_type": "code",
      "metadata": {
        "id": "2713qh2otgD0",
        "colab_type": "code",
        "colab": {
          "base_uri": "https://localhost:8080/",
          "height": 69
        },
        "outputId": "fb6f22fb-ac3d-4426-de19-96ae71d3d3bd"
      },
      "source": [
        "count_enc = CountFrequencyCategoricalEncoder(\n",
        "    encoding_method='count', # to do frequency ==> encoding_method='frequency'\n",
        "    variables=['Neighborhood', 'Exterior1st', 'Exterior2nd'])\n",
        "\n",
        "count_enc.fit(X_train)"
      ],
      "execution_count": 53,
      "outputs": [
        {
          "output_type": "execute_result",
          "data": {
            "text/plain": [
              "CountFrequencyCategoricalEncoder(encoding_method='count',\n",
              "                                 variables=['Neighborhood', 'Exterior1st',\n",
              "                                            'Exterior2nd'])"
            ]
          },
          "metadata": {
            "tags": []
          },
          "execution_count": 53
        }
      ]
    },
    {
      "cell_type": "code",
      "metadata": {
        "scrolled": true,
        "id": "SzI-zKjHtgD-",
        "colab_type": "code",
        "colab": {
          "base_uri": "https://localhost:8080/",
          "height": 990
        },
        "outputId": "6c7327c0-0eeb-457d-972c-5d9386835c7f"
      },
      "source": [
        "# in the encoder dict we can observe the number of \n",
        "# observations per category for each variable\n",
        "\n",
        "count_enc.encoder_dict_"
      ],
      "execution_count": 54,
      "outputs": [
        {
          "output_type": "execute_result",
          "data": {
            "text/plain": [
              "{'Exterior1st': {'AsbShng': 15,\n",
              "  'AsphShn': 1,\n",
              "  'BrkComm': 1,\n",
              "  'BrkFace': 35,\n",
              "  'CBlock': 1,\n",
              "  'CemntBd': 39,\n",
              "  'HdBoard': 153,\n",
              "  'ImStucc': 1,\n",
              "  'MetalSd': 138,\n",
              "  'Plywood': 86,\n",
              "  'Stone': 2,\n",
              "  'Stucco': 17,\n",
              "  'VinylSd': 364,\n",
              "  'Wd Sdng': 148,\n",
              "  'WdShing': 21},\n",
              " 'Exterior2nd': {'AsbShng': 17,\n",
              "  'AsphShn': 1,\n",
              "  'Brk Cmn': 4,\n",
              "  'BrkFace': 18,\n",
              "  'CBlock': 1,\n",
              "  'CmentBd': 39,\n",
              "  'HdBoard': 141,\n",
              "  'ImStucc': 8,\n",
              "  'MetalSd': 136,\n",
              "  'Other': 1,\n",
              "  'Plywood': 112,\n",
              "  'Stone': 4,\n",
              "  'Stucco': 16,\n",
              "  'VinylSd': 353,\n",
              "  'Wd Sdng': 142,\n",
              "  'Wd Shng': 29},\n",
              " 'Neighborhood': {'Blmngtn': 12,\n",
              "  'Blueste': 2,\n",
              "  'BrDale': 10,\n",
              "  'BrkSide': 41,\n",
              "  'ClearCr': 24,\n",
              "  'CollgCr': 105,\n",
              "  'Crawfor': 35,\n",
              "  'Edwards': 71,\n",
              "  'Gilbert': 55,\n",
              "  'IDOTRR': 24,\n",
              "  'MeadowV': 12,\n",
              "  'Mitchel': 36,\n",
              "  'NAmes': 151,\n",
              "  'NPkVill': 7,\n",
              "  'NWAmes': 51,\n",
              "  'NoRidge': 30,\n",
              "  'NridgHt': 51,\n",
              "  'OldTown': 73,\n",
              "  'SWISU': 18,\n",
              "  'Sawyer': 61,\n",
              "  'SawyerW': 45,\n",
              "  'Somerst': 56,\n",
              "  'StoneBr': 16,\n",
              "  'Timber': 30,\n",
              "  'Veenker': 6}}"
            ]
          },
          "metadata": {
            "tags": []
          },
          "execution_count": 54
        }
      ]
    },
    {
      "cell_type": "code",
      "metadata": {
        "id": "VpAJ1wXRtgEG",
        "colab_type": "code",
        "colab": {
          "base_uri": "https://localhost:8080/",
          "height": 206
        },
        "outputId": "1faee7a9-f968-479c-801f-a0ef105accba"
      },
      "source": [
        "X_train = count_enc.transform(X_train)\n",
        "X_test = count_enc.transform(X_test)\n",
        "\n",
        "# let's explore the result\n",
        "X_train.head()"
      ],
      "execution_count": 55,
      "outputs": [
        {
          "output_type": "execute_result",
          "data": {
            "text/html": [
              "<div>\n",
              "<style scoped>\n",
              "    .dataframe tbody tr th:only-of-type {\n",
              "        vertical-align: middle;\n",
              "    }\n",
              "\n",
              "    .dataframe tbody tr th {\n",
              "        vertical-align: top;\n",
              "    }\n",
              "\n",
              "    .dataframe thead th {\n",
              "        text-align: right;\n",
              "    }\n",
              "</style>\n",
              "<table border=\"1\" class=\"dataframe\">\n",
              "  <thead>\n",
              "    <tr style=\"text-align: right;\">\n",
              "      <th></th>\n",
              "      <th>Neighborhood</th>\n",
              "      <th>Exterior1st</th>\n",
              "      <th>Exterior2nd</th>\n",
              "    </tr>\n",
              "  </thead>\n",
              "  <tbody>\n",
              "    <tr>\n",
              "      <th>64</th>\n",
              "      <td>105</td>\n",
              "      <td>364</td>\n",
              "      <td>353</td>\n",
              "    </tr>\n",
              "    <tr>\n",
              "      <th>682</th>\n",
              "      <td>24</td>\n",
              "      <td>148</td>\n",
              "      <td>142</td>\n",
              "    </tr>\n",
              "    <tr>\n",
              "      <th>960</th>\n",
              "      <td>41</td>\n",
              "      <td>148</td>\n",
              "      <td>112</td>\n",
              "    </tr>\n",
              "    <tr>\n",
              "      <th>1384</th>\n",
              "      <td>71</td>\n",
              "      <td>21</td>\n",
              "      <td>29</td>\n",
              "    </tr>\n",
              "    <tr>\n",
              "      <th>1100</th>\n",
              "      <td>18</td>\n",
              "      <td>148</td>\n",
              "      <td>142</td>\n",
              "    </tr>\n",
              "  </tbody>\n",
              "</table>\n",
              "</div>"
            ],
            "text/plain": [
              "      Neighborhood  Exterior1st  Exterior2nd\n",
              "64             105          364          353\n",
              "682             24          148          142\n",
              "960             41          148          112\n",
              "1384            71           21           29\n",
              "1100            18          148          142"
            ]
          },
          "metadata": {
            "tags": []
          },
          "execution_count": 55
        }
      ]
    },
    {
      "cell_type": "markdown",
      "metadata": {
        "id": "4KA3gzmhtgEP",
        "colab_type": "text"
      },
      "source": [
        "**Note**\n",
        "\n",
        "If the argument variables is left to None, then the encoder will automatically identify all categorical variables. Is that not sweet?\n",
        "\n",
        "The encoder will not encode numerical variables. So if some of your numerical variables are in fact categories, you will need to re-cast them as object before using the encoder.\n",
        "\n",
        "Note, if there is a variable in the test set, for which the encoder doesn't have a number to assigned (the category was not seen in the train set), the encoder will return an error."
      ]
    },
    {
      "cell_type": "code",
      "metadata": {
        "id": "PdRzqdYYtgES",
        "colab_type": "code",
        "colab": {}
      },
      "source": [
        ""
      ],
      "execution_count": 0,
      "outputs": []
    }
  ]
}