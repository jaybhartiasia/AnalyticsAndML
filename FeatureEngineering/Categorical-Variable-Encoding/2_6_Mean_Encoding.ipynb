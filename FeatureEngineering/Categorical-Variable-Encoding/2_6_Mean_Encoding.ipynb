{
  "nbformat": 4,
  "nbformat_minor": 0,
  "metadata": {
    "kernelspec": {
      "display_name": "feml",
      "language": "python",
      "name": "feml"
    },
    "language_info": {
      "codemirror_mode": {
        "name": "ipython",
        "version": 3
      },
      "file_extension": ".py",
      "mimetype": "text/x-python",
      "name": "python",
      "nbconvert_exporter": "python",
      "pygments_lexer": "ipython3",
      "version": "3.7.3"
    },
    "toc": {
      "base_numbering": 1,
      "nav_menu": {},
      "number_sections": true,
      "sideBar": true,
      "skip_h1_title": false,
      "title_cell": "Table of Contents",
      "title_sidebar": "Contents",
      "toc_cell": false,
      "toc_position": {},
      "toc_section_display": "block",
      "toc_window_display": true
    },
    "colab": {
      "name": "2.6 Mean-Encoding.ipynb",
      "provenance": [],
      "toc_visible": true,
      "include_colab_link": true
    }
  },
  "cells": [
    {
      "cell_type": "markdown",
      "metadata": {
        "id": "view-in-github",
        "colab_type": "text"
      },
      "source": [
        "<a href=\"https://colab.research.google.com/github/vinay10949/AnalyticsAndML/blob/master/FeatureEngineering/Categorical-Variable-Encoding/2_6_Mean_Encoding.ipynb\" target=\"_parent\"><img src=\"https://colab.research.google.com/assets/colab-badge.svg\" alt=\"Open In Colab\"/></a>"
      ]
    },
    {
      "cell_type": "markdown",
      "metadata": {
        "id": "9L7gEB4qeBLq",
        "colab_type": "text"
      },
      "source": [
        "## Target guided encodings\n",
        "\n",
        "In the previous lectures in this section, we learned how to convert a label into a number, by using one hot encoding, replacing by a digit or replacing by frequency or counts of observations. These methods are simple, make (almost) no assumptions and work generally well in different scenarios.\n",
        "\n",
        "There are however methods that allow us to capture information while pre-processing the labels of categorical variables. These methods include:\n",
        "\n",
        "- Ordering the labels according to the target\n",
        "- Replacing labels by the target mean (mean encoding / target encoding)\n",
        "- Replacing the labels by the probability ratio of the target being 1 or 0\n",
        "- Weight of evidence.\n",
        "\n",
        "All of the above methods have something in common:\n",
        "\n",
        "- the encoding is **guided by the target**, and\n",
        "- they create a **monotonic relationship** between the variable and the target.\n",
        "\n",
        "\n",
        "### Monotonicity\n",
        "\n",
        "A monotonic relationship is a relationship that does one of the following:\n",
        "\n",
        "- (1) as the value of one variable increases, so does the value of the other variable; or\n",
        "- (2) as the value of one variable increases, the value of the other variable decreases.\n",
        "\n",
        "In this case, as the value of the independent variable (predictor) increases, so does the target, or conversely, as the value of the variable increases, the target value decreases.\n",
        "\n",
        "\n",
        "\n",
        "### Advantages of target guided encodings\n",
        "\n",
        "- Capture information within the category, therefore creating more predictive features\n",
        "- Create a monotonic relationship between the variable and the target, therefore suitable for linear models\n",
        "- Do not expand the feature space\n",
        "\n",
        "\n",
        "### Limitations\n",
        "\n",
        "- Prone to cause over-fitting\n",
        "- Difficult to cross-validate with current libraries\n",
        "\n",
        "\n",
        "### Note\n",
        "\n",
        "The methods discussed in this and the coming 3 lectures can be also used on numerical variables, after discretisation. This creates a monotonic relationship between the numerical variable and the target, and therefore improves the performance of linear models. I will discuss this in more detail in the section \"Discretisation\".\n",
        "\n",
        "===============================================================================\n",
        "\n",
        "## Mean Encoding or Target Encoding\n",
        "\n",
        "Mean encoding implies replacing the category by the average target value for that category. For example, if we have the variable city, with categories London, Manchester and Bristol, and we want to predict the default rate, if the default rate for London is 30% we replace London by 0.3, if the default rate for Manchester is 20% we replace Manchester by 0.2 and so on.\n",
        "\n"
      ]
    },
    {
      "cell_type": "code",
      "metadata": {
        "id": "HvtIDo8seBLz",
        "colab_type": "code",
        "colab": {
          "base_uri": "https://localhost:8080/",
          "height": 714
        },
        "outputId": "4227a581-7369-4f35-f1ab-6b8eb0edf0de"
      },
      "source": [
        "!pip install feature_engine\n",
        "import numpy as np\n",
        "import pandas as pd\n",
        "\n",
        "import matplotlib.pyplot as plt\n",
        "\n",
        "# to split the datasets\n",
        "from sklearn.model_selection import train_test_split\n",
        "\n",
        "# for encoding with feature-engine\n",
        "from feature_engine.categorical_encoders import MeanCategoricalEncoder"
      ],
      "execution_count": 1,
      "outputs": [
        {
          "output_type": "stream",
          "text": [
            "Collecting feature_engine\n",
            "  Downloading https://files.pythonhosted.org/packages/b3/0f/7f7f60195879fc487aeaecba343f02c6f4426bc239b378b73655d40c1d06/feature_engine-0.3.1-py3-none-any.whl\n",
            "Requirement already satisfied: pandas>=0.23.0 in /usr/local/lib/python3.6/dist-packages (from feature_engine) (0.25.3)\n",
            "Requirement already satisfied: statsmodels>=0.8.0 in /usr/local/lib/python3.6/dist-packages (from feature_engine) (0.10.2)\n",
            "Requirement already satisfied: numpy>=1.12.1 in /usr/local/lib/python3.6/dist-packages (from feature_engine) (1.17.5)\n",
            "Collecting numpydoc>=0.6.0\n",
            "  Downloading https://files.pythonhosted.org/packages/b0/70/4d8c3f9f6783a57ac9cc7a076e5610c0cc4a96af543cafc9247ac307fbfe/numpydoc-0.9.2.tar.gz\n",
            "Requirement already satisfied: scipy>=0.19.0 in /usr/local/lib/python3.6/dist-packages (from feature_engine) (1.4.1)\n",
            "Requirement already satisfied: scikit-learn>=0.18.1 in /usr/local/lib/python3.6/dist-packages (from feature_engine) (0.22.1)\n",
            "Requirement already satisfied: python-dateutil>=2.6.1 in /usr/local/lib/python3.6/dist-packages (from pandas>=0.23.0->feature_engine) (2.6.1)\n",
            "Requirement already satisfied: pytz>=2017.2 in /usr/local/lib/python3.6/dist-packages (from pandas>=0.23.0->feature_engine) (2018.9)\n",
            "Requirement already satisfied: patsy>=0.4.0 in /usr/local/lib/python3.6/dist-packages (from statsmodels>=0.8.0->feature_engine) (0.5.1)\n",
            "Requirement already satisfied: sphinx>=1.6.5 in /usr/local/lib/python3.6/dist-packages (from numpydoc>=0.6.0->feature_engine) (1.8.5)\n",
            "Requirement already satisfied: Jinja2>=2.3 in /usr/local/lib/python3.6/dist-packages (from numpydoc>=0.6.0->feature_engine) (2.11.1)\n",
            "Requirement already satisfied: joblib>=0.11 in /usr/local/lib/python3.6/dist-packages (from scikit-learn>=0.18.1->feature_engine) (0.14.1)\n",
            "Requirement already satisfied: six>=1.5 in /usr/local/lib/python3.6/dist-packages (from python-dateutil>=2.6.1->pandas>=0.23.0->feature_engine) (1.12.0)\n",
            "Requirement already satisfied: requests>=2.0.0 in /usr/local/lib/python3.6/dist-packages (from sphinx>=1.6.5->numpydoc>=0.6.0->feature_engine) (2.21.0)\n",
            "Requirement already satisfied: docutils>=0.11 in /usr/local/lib/python3.6/dist-packages (from sphinx>=1.6.5->numpydoc>=0.6.0->feature_engine) (0.15.2)\n",
            "Requirement already satisfied: alabaster<0.8,>=0.7 in /usr/local/lib/python3.6/dist-packages (from sphinx>=1.6.5->numpydoc>=0.6.0->feature_engine) (0.7.12)\n",
            "Requirement already satisfied: setuptools in /usr/local/lib/python3.6/dist-packages (from sphinx>=1.6.5->numpydoc>=0.6.0->feature_engine) (45.1.0)\n",
            "Requirement already satisfied: packaging in /usr/local/lib/python3.6/dist-packages (from sphinx>=1.6.5->numpydoc>=0.6.0->feature_engine) (20.1)\n",
            "Requirement already satisfied: sphinxcontrib-websupport in /usr/local/lib/python3.6/dist-packages (from sphinx>=1.6.5->numpydoc>=0.6.0->feature_engine) (1.1.2)\n",
            "Requirement already satisfied: babel!=2.0,>=1.3 in /usr/local/lib/python3.6/dist-packages (from sphinx>=1.6.5->numpydoc>=0.6.0->feature_engine) (2.8.0)\n",
            "Requirement already satisfied: imagesize in /usr/local/lib/python3.6/dist-packages (from sphinx>=1.6.5->numpydoc>=0.6.0->feature_engine) (1.2.0)\n",
            "Requirement already satisfied: snowballstemmer>=1.1 in /usr/local/lib/python3.6/dist-packages (from sphinx>=1.6.5->numpydoc>=0.6.0->feature_engine) (2.0.0)\n",
            "Requirement already satisfied: Pygments>=2.0 in /usr/local/lib/python3.6/dist-packages (from sphinx>=1.6.5->numpydoc>=0.6.0->feature_engine) (2.1.3)\n",
            "Requirement already satisfied: MarkupSafe>=0.23 in /usr/local/lib/python3.6/dist-packages (from Jinja2>=2.3->numpydoc>=0.6.0->feature_engine) (1.1.1)\n",
            "Requirement already satisfied: idna<2.9,>=2.5 in /usr/local/lib/python3.6/dist-packages (from requests>=2.0.0->sphinx>=1.6.5->numpydoc>=0.6.0->feature_engine) (2.8)\n",
            "Requirement already satisfied: certifi>=2017.4.17 in /usr/local/lib/python3.6/dist-packages (from requests>=2.0.0->sphinx>=1.6.5->numpydoc>=0.6.0->feature_engine) (2019.11.28)\n",
            "Requirement already satisfied: urllib3<1.25,>=1.21.1 in /usr/local/lib/python3.6/dist-packages (from requests>=2.0.0->sphinx>=1.6.5->numpydoc>=0.6.0->feature_engine) (1.24.3)\n",
            "Requirement already satisfied: chardet<3.1.0,>=3.0.2 in /usr/local/lib/python3.6/dist-packages (from requests>=2.0.0->sphinx>=1.6.5->numpydoc>=0.6.0->feature_engine) (3.0.4)\n",
            "Requirement already satisfied: pyparsing>=2.0.2 in /usr/local/lib/python3.6/dist-packages (from packaging->sphinx>=1.6.5->numpydoc>=0.6.0->feature_engine) (2.4.6)\n",
            "Building wheels for collected packages: numpydoc\n",
            "  Building wheel for numpydoc (setup.py) ... \u001b[?25l\u001b[?25hdone\n",
            "  Created wheel for numpydoc: filename=numpydoc-0.9.2-cp36-none-any.whl size=31893 sha256=c2bf935b47617e4d098706325a613058440f3158e32958ec7505d86045cf6ab8\n",
            "  Stored in directory: /root/.cache/pip/wheels/96/f3/52/25c8e1f40637661d27feebc61dae16b84c7cdd93b8bc3d7486\n",
            "Successfully built numpydoc\n",
            "Installing collected packages: numpydoc, feature-engine\n",
            "Successfully installed feature-engine-0.3.1 numpydoc-0.9.2\n"
          ],
          "name": "stdout"
        }
      ]
    },
    {
      "cell_type": "code",
      "metadata": {
        "id": "NYtBiBFMeBMK",
        "colab_type": "code",
        "colab": {
          "base_uri": "https://localhost:8080/",
          "height": 206
        },
        "outputId": "e5c397bb-39ad-45c3-f4b4-ccd77a87d7b8"
      },
      "source": [
        "# load dataset\n",
        "\n",
        "data = pd.read_csv(\n",
        "    'titanic_train.csv',\n",
        "    usecols=['Cabin', 'Sex', 'Embarked', 'Survived'])\n",
        "\n",
        "data.head()"
      ],
      "execution_count": 2,
      "outputs": [
        {
          "output_type": "execute_result",
          "data": {
            "text/html": [
              "<div>\n",
              "<style scoped>\n",
              "    .dataframe tbody tr th:only-of-type {\n",
              "        vertical-align: middle;\n",
              "    }\n",
              "\n",
              "    .dataframe tbody tr th {\n",
              "        vertical-align: top;\n",
              "    }\n",
              "\n",
              "    .dataframe thead th {\n",
              "        text-align: right;\n",
              "    }\n",
              "</style>\n",
              "<table border=\"1\" class=\"dataframe\">\n",
              "  <thead>\n",
              "    <tr style=\"text-align: right;\">\n",
              "      <th></th>\n",
              "      <th>Survived</th>\n",
              "      <th>Sex</th>\n",
              "      <th>Cabin</th>\n",
              "      <th>Embarked</th>\n",
              "    </tr>\n",
              "  </thead>\n",
              "  <tbody>\n",
              "    <tr>\n",
              "      <th>0</th>\n",
              "      <td>0</td>\n",
              "      <td>male</td>\n",
              "      <td>NaN</td>\n",
              "      <td>S</td>\n",
              "    </tr>\n",
              "    <tr>\n",
              "      <th>1</th>\n",
              "      <td>1</td>\n",
              "      <td>female</td>\n",
              "      <td>C85</td>\n",
              "      <td>C</td>\n",
              "    </tr>\n",
              "    <tr>\n",
              "      <th>2</th>\n",
              "      <td>1</td>\n",
              "      <td>female</td>\n",
              "      <td>NaN</td>\n",
              "      <td>S</td>\n",
              "    </tr>\n",
              "    <tr>\n",
              "      <th>3</th>\n",
              "      <td>1</td>\n",
              "      <td>female</td>\n",
              "      <td>C123</td>\n",
              "      <td>S</td>\n",
              "    </tr>\n",
              "    <tr>\n",
              "      <th>4</th>\n",
              "      <td>0</td>\n",
              "      <td>male</td>\n",
              "      <td>NaN</td>\n",
              "      <td>S</td>\n",
              "    </tr>\n",
              "  </tbody>\n",
              "</table>\n",
              "</div>"
            ],
            "text/plain": [
              "   Survived     Sex Cabin Embarked\n",
              "0         0    male   NaN        S\n",
              "1         1  female   C85        C\n",
              "2         1  female   NaN        S\n",
              "3         1  female  C123        S\n",
              "4         0    male   NaN        S"
            ]
          },
          "metadata": {
            "tags": []
          },
          "execution_count": 2
        }
      ]
    },
    {
      "cell_type": "code",
      "metadata": {
        "id": "kRr26hR8eBMa",
        "colab_type": "code",
        "colab": {}
      },
      "source": [
        "# let's fill na in embarked\n",
        "\n",
        "data['Embarked'].fillna('Missing', inplace=True)"
      ],
      "execution_count": 0,
      "outputs": []
    },
    {
      "cell_type": "code",
      "metadata": {
        "id": "6lf9SUVOeBMt",
        "colab_type": "code",
        "colab": {}
      },
      "source": [
        "# Now we extract the first letter of the cabin\n",
        "# to create a simpler variable for the demo\n",
        "\n",
        "data['Cabin'] = data['Cabin'].astype(str).str[0]"
      ],
      "execution_count": 0,
      "outputs": []
    },
    {
      "cell_type": "code",
      "metadata": {
        "id": "l-74hcsJeBM9",
        "colab_type": "code",
        "colab": {
          "base_uri": "https://localhost:8080/",
          "height": 86
        },
        "outputId": "139238df-4987-437d-c683-0b4e3d51ef3b"
      },
      "source": [
        "# let's have a look at how many labels each variable has\n",
        "\n",
        "for col in data.columns:\n",
        "    print(col, ': ', len(data[col].unique()), ' labels')"
      ],
      "execution_count": 5,
      "outputs": [
        {
          "output_type": "stream",
          "text": [
            "Survived :  2  labels\n",
            "Sex :  2  labels\n",
            "Cabin :  9  labels\n",
            "Embarked :  4  labels\n"
          ],
          "name": "stdout"
        }
      ]
    },
    {
      "cell_type": "code",
      "metadata": {
        "id": "NEPw77veeBNN",
        "colab_type": "code",
        "colab": {
          "base_uri": "https://localhost:8080/",
          "height": 34
        },
        "outputId": "14f11f37-17ae-4231-f4c7-278b5a2a090a"
      },
      "source": [
        "# let's explore the unique categories\n",
        "\n",
        "data['Cabin'].unique()"
      ],
      "execution_count": 6,
      "outputs": [
        {
          "output_type": "execute_result",
          "data": {
            "text/plain": [
              "array(['n', 'C', 'E', 'G', 'D', 'A', 'B', 'F', 'T'], dtype=object)"
            ]
          },
          "metadata": {
            "tags": []
          },
          "execution_count": 6
        }
      ]
    },
    {
      "cell_type": "code",
      "metadata": {
        "id": "4kg8KYgleBNX",
        "colab_type": "code",
        "colab": {
          "base_uri": "https://localhost:8080/",
          "height": 34
        },
        "outputId": "3f2d3ebe-104e-47e8-9592-7156015bad2c"
      },
      "source": [
        "data['Sex'].unique()"
      ],
      "execution_count": 7,
      "outputs": [
        {
          "output_type": "execute_result",
          "data": {
            "text/plain": [
              "array(['male', 'female'], dtype=object)"
            ]
          },
          "metadata": {
            "tags": []
          },
          "execution_count": 7
        }
      ]
    },
    {
      "cell_type": "code",
      "metadata": {
        "id": "ra9Z5gkmeBNi",
        "colab_type": "code",
        "colab": {
          "base_uri": "https://localhost:8080/",
          "height": 34
        },
        "outputId": "8e55432c-a9e0-4830-9002-3792865f2128"
      },
      "source": [
        "data['Embarked'].unique()"
      ],
      "execution_count": 8,
      "outputs": [
        {
          "output_type": "execute_result",
          "data": {
            "text/plain": [
              "array(['S', 'C', 'Q', 'Missing'], dtype=object)"
            ]
          },
          "metadata": {
            "tags": []
          },
          "execution_count": 8
        }
      ]
    },
    {
      "cell_type": "markdown",
      "metadata": {
        "id": "Yu_dpZIdeBNy",
        "colab_type": "text"
      },
      "source": [
        "### Encoding important\n",
        "\n",
        "We calculate the target mean per category using the train set, and then use those mappings in the test set.\n",
        "\n",
        "Note that for the pandas implementation we need to keep the target in the training set:"
      ]
    },
    {
      "cell_type": "code",
      "metadata": {
        "id": "xobFRXpBeBN2",
        "colab_type": "code",
        "colab": {
          "base_uri": "https://localhost:8080/",
          "height": 34
        },
        "outputId": "143d6410-424d-4eeb-e060-efa3de42a831"
      },
      "source": [
        "# let's separate into training and testing set\n",
        "\n",
        "X_train, X_test, y_train, y_test = train_test_split(\n",
        "    data[['Cabin', 'Sex', 'Embarked', 'Survived']],  # this time we keep the target!!\n",
        "    data['Survived'],  # target\n",
        "    test_size=0.3,  # percentage of obs in test set\n",
        "    random_state=0)  # seed to ensure reproducibility\n",
        "\n",
        "X_train.shape, X_test.shape"
      ],
      "execution_count": 9,
      "outputs": [
        {
          "output_type": "execute_result",
          "data": {
            "text/plain": [
              "((623, 4), (268, 4))"
            ]
          },
          "metadata": {
            "tags": []
          },
          "execution_count": 9
        }
      ]
    },
    {
      "cell_type": "markdown",
      "metadata": {
        "id": "Lcyd_1FOeBOD",
        "colab_type": "text"
      },
      "source": [
        "### Explore original relationship between categorical variables and target"
      ]
    },
    {
      "cell_type": "code",
      "metadata": {
        "id": "RZttrL84eBOH",
        "colab_type": "code",
        "colab": {
          "base_uri": "https://localhost:8080/",
          "height": 851
        },
        "outputId": "b3a372cf-5868-4f3e-9c93-8f0ebcdb9c5c"
      },
      "source": [
        "# let's explore the relationship of the categories with the target\n",
        "\n",
        "for var in ['Cabin', 'Sex', 'Embarked']:\n",
        "    \n",
        "    fig = plt.figure()\n",
        "    fig = X_train.groupby([var])['Survived'].mean().plot()\n",
        "    fig.set_title('Relationship between {} and Survival'.format(var))\n",
        "    fig.set_ylabel('Mean Survival')\n",
        "    plt.show()"
      ],
      "execution_count": 11,
      "outputs": [
        {
          "output_type": "display_data",
          "data": {
            "image/png": "[encoded data removed]",
            "text/plain": [
              "<Figure size 432x288 with 1 Axes>"
            ]
          },
          "metadata": {
            "tags": []
          }
        },
        {
          "output_type": "display_data",
          "data": {
            "image/png": "[encoded data removed]",
            "text/plain": [
              "<Figure size 432x288 with 1 Axes>"
            ]
          },
          "metadata": {
            "tags": []
          }
        },
        {
          "output_type": "display_data",
          "data": {
            "image/png": "[encoded data removed]",
            "text/plain": [
              "<Figure size 432x288 with 1 Axes>"
            ]
          },
          "metadata": {
            "tags": []
          }
        }
      ]
    },
    {
      "cell_type": "markdown",
      "metadata": {
        "id": "Zf2IC1SjeBOV",
        "colab_type": "text"
      },
      "source": [
        "You can see that the relationship between the target and cabin and embarked goes up and down, depending on the category.\n",
        "\n",
        "\n",
        "## Mean encoding with pandas\n",
        "\n",
        "\n",
        "### Advantages\n",
        "\n",
        "- quick\n",
        "- returns pandas dataframe\n",
        "\n",
        "### Limitations of pandas:\n",
        "\n",
        "- it does not preserve information from train data to propagate to test data\n",
        "\n",
        "We need to store the mappings separately if planning to use the model in production."
      ]
    },
    {
      "cell_type": "code",
      "metadata": {
        "id": "tz-3urr6eBOa",
        "colab_type": "code",
        "colab": {
          "base_uri": "https://localhost:8080/",
          "height": 208
        },
        "outputId": "c5f56840-81f0-42c5-ded3-0f98d37068a7"
      },
      "source": [
        "# let's calculate the mean target value per category for cabin\n",
        "\n",
        "X_train.groupby(['Cabin'])['Survived'].mean()"
      ],
      "execution_count": 12,
      "outputs": [
        {
          "output_type": "execute_result",
          "data": {
            "text/plain": [
              "Cabin\n",
              "A    0.428571\n",
              "B    0.774194\n",
              "C    0.571429\n",
              "D    0.692308\n",
              "E    0.740741\n",
              "F    0.666667\n",
              "G    0.500000\n",
              "T    0.000000\n",
              "n    0.303609\n",
              "Name: Survived, dtype: float64"
            ]
          },
          "metadata": {
            "tags": []
          },
          "execution_count": 12
        }
      ]
    },
    {
      "cell_type": "code",
      "metadata": {
        "id": "g_WpPp2FeBOl",
        "colab_type": "code",
        "colab": {
          "base_uri": "https://localhost:8080/",
          "height": 173
        },
        "outputId": "29fc86b6-fd35-4101-fd64-0352e218e1c4"
      },
      "source": [
        "# and now let's do the same but capturing the result in a dictionary\n",
        "\n",
        "ordered_labels = X_train.groupby(['Cabin'])['Survived'].mean().to_dict()\n",
        "\n",
        "ordered_labels"
      ],
      "execution_count": 14,
      "outputs": [
        {
          "output_type": "execute_result",
          "data": {
            "text/plain": [
              "{'A': 0.42857142857142855,\n",
              " 'B': 0.7741935483870968,\n",
              " 'C': 0.5714285714285714,\n",
              " 'D': 0.6923076923076923,\n",
              " 'E': 0.7407407407407407,\n",
              " 'F': 0.6666666666666666,\n",
              " 'G': 0.5,\n",
              " 'T': 0.0,\n",
              " 'n': 0.3036093418259023}"
            ]
          },
          "metadata": {
            "tags": []
          },
          "execution_count": 14
        }
      ]
    },
    {
      "cell_type": "code",
      "metadata": {
        "id": "6rXCpA07eBOw",
        "colab_type": "code",
        "colab": {}
      },
      "source": [
        "# now, we replace the labels with the target means\n",
        "\n",
        "X_train['Cabin'] = X_train['Cabin'].map(ordered_labels)\n",
        "X_test['Cabin'] = X_test['Cabin'].map(ordered_labels)"
      ],
      "execution_count": 0,
      "outputs": []
    },
    {
      "cell_type": "code",
      "metadata": {
        "id": "0DNVwUH8eBO7",
        "colab_type": "code",
        "colab": {
          "base_uri": "https://localhost:8080/",
          "height": 208
        },
        "outputId": "4c0d436d-4a53-46d7-b259-7fd410180edb"
      },
      "source": [
        "# let's explore the result\n",
        "\n",
        "X_train['Cabin'].head(10)"
      ],
      "execution_count": 16,
      "outputs": [
        {
          "output_type": "execute_result",
          "data": {
            "text/plain": [
              "857    0.740741\n",
              "52     0.692308\n",
              "386    0.303609\n",
              "124    0.692308\n",
              "578    0.303609\n",
              "549    0.303609\n",
              "118    0.774194\n",
              "12     0.303609\n",
              "157    0.303609\n",
              "127    0.303609\n",
              "Name: Cabin, dtype: float64"
            ]
          },
          "metadata": {
            "tags": []
          },
          "execution_count": 16
        }
      ]
    },
    {
      "cell_type": "code",
      "metadata": {
        "id": "5-acBqMceBPL",
        "colab_type": "code",
        "colab": {}
      },
      "source": [
        "# we can turn the previous commands into 2 functions\n",
        "\n",
        "\n",
        "def find_category_mappings(df, variable, target):\n",
        "    return df.groupby([variable])[target].mean().to_dict()\n",
        "\n",
        "\n",
        "def integer_encode(train, test, variable, ordinal_mapping):\n",
        "\n",
        "    X_train[variable] = X_train[variable].map(ordinal_mapping)\n",
        "    X_test[variable] = X_test[variable].map(ordinal_mapping)"
      ],
      "execution_count": 0,
      "outputs": []
    },
    {
      "cell_type": "code",
      "metadata": {
        "id": "fmP3zEZZeBPR",
        "colab_type": "code",
        "colab": {}
      },
      "source": [
        "# and now we run a loop over the remaining categorical variables\n",
        "\n",
        "for variable in ['Sex', 'Embarked']:\n",
        "    mappings = find_category_mappings(X_train, variable, 'Survived')\n",
        "    integer_encode(X_train, X_test, variable, mappings)"
      ],
      "execution_count": 0,
      "outputs": []
    },
    {
      "cell_type": "code",
      "metadata": {
        "id": "oi5I_WpAeBPc",
        "colab_type": "code",
        "colab": {
          "base_uri": "https://localhost:8080/",
          "height": 206
        },
        "outputId": "a29f227b-7065-4ca5-832c-3787285ac825"
      },
      "source": [
        "# let's see the result\n",
        "\n",
        "X_train.head()"
      ],
      "execution_count": 19,
      "outputs": [
        {
          "output_type": "execute_result",
          "data": {
            "text/html": [
              "<div>\n",
              "<style scoped>\n",
              "    .dataframe tbody tr th:only-of-type {\n",
              "        vertical-align: middle;\n",
              "    }\n",
              "\n",
              "    .dataframe tbody tr th {\n",
              "        vertical-align: top;\n",
              "    }\n",
              "\n",
              "    .dataframe thead th {\n",
              "        text-align: right;\n",
              "    }\n",
              "</style>\n",
              "<table border=\"1\" class=\"dataframe\">\n",
              "  <thead>\n",
              "    <tr style=\"text-align: right;\">\n",
              "      <th></th>\n",
              "      <th>Cabin</th>\n",
              "      <th>Sex</th>\n",
              "      <th>Embarked</th>\n",
              "      <th>Survived</th>\n",
              "    </tr>\n",
              "  </thead>\n",
              "  <tbody>\n",
              "    <tr>\n",
              "      <th>857</th>\n",
              "      <td>0.740741</td>\n",
              "      <td>0.196078</td>\n",
              "      <td>0.341357</td>\n",
              "      <td>1</td>\n",
              "    </tr>\n",
              "    <tr>\n",
              "      <th>52</th>\n",
              "      <td>0.692308</td>\n",
              "      <td>0.753488</td>\n",
              "      <td>0.564815</td>\n",
              "      <td>1</td>\n",
              "    </tr>\n",
              "    <tr>\n",
              "      <th>386</th>\n",
              "      <td>0.303609</td>\n",
              "      <td>0.196078</td>\n",
              "      <td>0.341357</td>\n",
              "      <td>0</td>\n",
              "    </tr>\n",
              "    <tr>\n",
              "      <th>124</th>\n",
              "      <td>0.692308</td>\n",
              "      <td>0.196078</td>\n",
              "      <td>0.341357</td>\n",
              "      <td>0</td>\n",
              "    </tr>\n",
              "    <tr>\n",
              "      <th>578</th>\n",
              "      <td>0.303609</td>\n",
              "      <td>0.753488</td>\n",
              "      <td>0.564815</td>\n",
              "      <td>0</td>\n",
              "    </tr>\n",
              "  </tbody>\n",
              "</table>\n",
              "</div>"
            ],
            "text/plain": [
              "        Cabin       Sex  Embarked  Survived\n",
              "857  0.740741  0.196078  0.341357         1\n",
              "52   0.692308  0.753488  0.564815         1\n",
              "386  0.303609  0.196078  0.341357         0\n",
              "124  0.692308  0.196078  0.341357         0\n",
              "578  0.303609  0.753488  0.564815         0"
            ]
          },
          "metadata": {
            "tags": []
          },
          "execution_count": 19
        }
      ]
    },
    {
      "cell_type": "code",
      "metadata": {
        "id": "w70q-S4zeBPn",
        "colab_type": "code",
        "colab": {
          "base_uri": "https://localhost:8080/",
          "height": 851
        },
        "outputId": "3b4710b6-ce07-4c2b-9edc-237049b13610"
      },
      "source": [
        "# let's inspect the newly created monotonic relationship\n",
        "# between the variables and the target\n",
        "\n",
        "for var in ['Cabin', 'Sex', 'Embarked']:\n",
        "    \n",
        "    fig = plt.figure()\n",
        "    fig = X_train.groupby([var])['Survived'].mean().plot()\n",
        "    fig.set_title('Monotonic relationship between {} and Survival'.format(var))\n",
        "    fig.set_ylabel('Mean Survived')\n",
        "    plt.show()"
      ],
      "execution_count": 20,
      "outputs": [
        {
          "output_type": "display_data",
          "data": {
            "image/png": "[encoded data removed]",
            "text/plain": [
              "<Figure size 432x288 with 1 Axes>"
            ]
          },
          "metadata": {
            "tags": []
          }
        },
        {
          "output_type": "display_data",
          "data": {
            "image/png": "[encoded data removed]",
            "text/plain": [
              "<Figure size 432x288 with 1 Axes>"
            ]
          },
          "metadata": {
            "tags": []
          }
        },
        {
          "output_type": "display_data",
          "data": {
            "image/png": "[encoded data removed]",
            "text/plain": [
              "<Figure size 432x288 with 1 Axes>"
            ]
          },
          "metadata": {
            "tags": []
          }
        }
      ]
    },
    {
      "cell_type": "markdown",
      "metadata": {
        "id": "f3M_ltdjeBPw",
        "colab_type": "text"
      },
      "source": [
        "Mean Encoding creates linear relationships between the mean target and the categories.\n",
        "\n",
        "### Note\n",
        "\n",
        "Replacing categorical labels with this code and method will generate missing values for categories present in the test set that were not seen in the training set. Therefore it is extremely important to handle rare labels before-hand. I will explain how to do this, in a later notebook."
      ]
    },
    {
      "cell_type": "markdown",
      "metadata": {
        "id": "mXz_My0FeBPz",
        "colab_type": "text"
      },
      "source": [
        "## Mean Encoding with Feature-Engine\n",
        "\n",
        "If using Feature-Engine, instead of pandas, we do not need to keep the target variable in the training dataset."
      ]
    },
    {
      "cell_type": "code",
      "metadata": {
        "id": "96yIYsRMeBP1",
        "colab_type": "code",
        "colab": {
          "base_uri": "https://localhost:8080/",
          "height": 34
        },
        "outputId": "e3870d2a-f0d5-40b6-9079-fb6081eb2bec"
      },
      "source": [
        "# let's separate into training and testing set\n",
        "\n",
        "X_train, X_test, y_train, y_test = train_test_split(\n",
        "    data[['Cabin', 'Sex', 'Embarked']],  # predictors\n",
        "    data['Survived'],  # target\n",
        "    test_size=0.3,  # percentage of obs in test set\n",
        "    random_state=0)  # seed to ensure reproducibility\n",
        "\n",
        "X_train.shape, X_test.shape"
      ],
      "execution_count": 21,
      "outputs": [
        {
          "output_type": "execute_result",
          "data": {
            "text/plain": [
              "((623, 3), (268, 3))"
            ]
          },
          "metadata": {
            "tags": []
          },
          "execution_count": 21
        }
      ]
    },
    {
      "cell_type": "code",
      "metadata": {
        "id": "SMyngy-OeBP-",
        "colab_type": "code",
        "colab": {}
      },
      "source": [
        "mean_enc = MeanCategoricalEncoder(\n",
        "    variables=['Cabin', 'Sex', 'Embarked'])"
      ],
      "execution_count": 0,
      "outputs": []
    },
    {
      "cell_type": "code",
      "metadata": {
        "id": "8-sfiI5deBQH",
        "colab_type": "code",
        "colab": {
          "base_uri": "https://localhost:8080/",
          "height": 34
        },
        "outputId": "e6cf9891-aa3c-4793-c9c7-dd9e515954eb"
      },
      "source": [
        "# when fitting the transformer, we need to pass the target as well\n",
        "# just like with any Scikit-learn predictor class\n",
        "\n",
        "mean_enc.fit(X_train, y_train)"
      ],
      "execution_count": 23,
      "outputs": [
        {
          "output_type": "execute_result",
          "data": {
            "text/plain": [
              "MeanCategoricalEncoder(variables=['Cabin', 'Sex', 'Embarked'])"
            ]
          },
          "metadata": {
            "tags": []
          },
          "execution_count": 23
        }
      ]
    },
    {
      "cell_type": "code",
      "metadata": {
        "scrolled": true,
        "id": "bS386YdneBQP",
        "colab_type": "code",
        "colab": {
          "base_uri": "https://localhost:8080/",
          "height": 260
        },
        "outputId": "41a671fc-3930-4608-d962-a74c55efd312"
      },
      "source": [
        "# in the encoder dict we see the target mean assigned to each\n",
        "# category for each of the selected variables\n",
        "\n",
        "mean_enc.encoder_dict_"
      ],
      "execution_count": 24,
      "outputs": [
        {
          "output_type": "execute_result",
          "data": {
            "text/plain": [
              "{'Cabin': {'A': 0.42857142857142855,\n",
              "  'B': 0.7741935483870968,\n",
              "  'C': 0.5714285714285714,\n",
              "  'D': 0.6923076923076923,\n",
              "  'E': 0.7407407407407407,\n",
              "  'F': 0.6666666666666666,\n",
              "  'G': 0.5,\n",
              "  'T': 0.0,\n",
              "  'n': 0.3036093418259023},\n",
              " 'Embarked': {'C': 0.5648148148148148,\n",
              "  'Missing': 1.0,\n",
              "  'Q': 0.4107142857142857,\n",
              "  'S': 0.3413566739606127},\n",
              " 'Sex': {'female': 0.7534883720930232, 'male': 0.19607843137254902}}"
            ]
          },
          "metadata": {
            "tags": []
          },
          "execution_count": 24
        }
      ]
    },
    {
      "cell_type": "code",
      "metadata": {
        "id": "h1hs0BFGeBQW",
        "colab_type": "code",
        "colab": {
          "base_uri": "https://localhost:8080/",
          "height": 34
        },
        "outputId": "1a1fd964-82f2-41dd-8472-d6a237e60560"
      },
      "source": [
        "# this is the list of variables that the encoder will transform\n",
        "\n",
        "mean_enc.variables"
      ],
      "execution_count": 25,
      "outputs": [
        {
          "output_type": "execute_result",
          "data": {
            "text/plain": [
              "['Cabin', 'Sex', 'Embarked']"
            ]
          },
          "metadata": {
            "tags": []
          },
          "execution_count": 25
        }
      ]
    },
    {
      "cell_type": "code",
      "metadata": {
        "id": "GV32dyAfeBQe",
        "colab_type": "code",
        "colab": {
          "base_uri": "https://localhost:8080/",
          "height": 206
        },
        "outputId": "36433ae2-26fd-47b9-a97e-dc2ee672159f"
      },
      "source": [
        "X_train = mean_enc.transform(X_train)\n",
        "X_test = mean_enc.transform(X_test)\n",
        "\n",
        "# let's explore the result\n",
        "X_train.head()"
      ],
      "execution_count": 26,
      "outputs": [
        {
          "output_type": "execute_result",
          "data": {
            "text/html": [
              "<div>\n",
              "<style scoped>\n",
              "    .dataframe tbody tr th:only-of-type {\n",
              "        vertical-align: middle;\n",
              "    }\n",
              "\n",
              "    .dataframe tbody tr th {\n",
              "        vertical-align: top;\n",
              "    }\n",
              "\n",
              "    .dataframe thead th {\n",
              "        text-align: right;\n",
              "    }\n",
              "</style>\n",
              "<table border=\"1\" class=\"dataframe\">\n",
              "  <thead>\n",
              "    <tr style=\"text-align: right;\">\n",
              "      <th></th>\n",
              "      <th>Cabin</th>\n",
              "      <th>Sex</th>\n",
              "      <th>Embarked</th>\n",
              "    </tr>\n",
              "  </thead>\n",
              "  <tbody>\n",
              "    <tr>\n",
              "      <th>857</th>\n",
              "      <td>0.740741</td>\n",
              "      <td>0.196078</td>\n",
              "      <td>0.341357</td>\n",
              "    </tr>\n",
              "    <tr>\n",
              "      <th>52</th>\n",
              "      <td>0.692308</td>\n",
              "      <td>0.753488</td>\n",
              "      <td>0.564815</td>\n",
              "    </tr>\n",
              "    <tr>\n",
              "      <th>386</th>\n",
              "      <td>0.303609</td>\n",
              "      <td>0.196078</td>\n",
              "      <td>0.341357</td>\n",
              "    </tr>\n",
              "    <tr>\n",
              "      <th>124</th>\n",
              "      <td>0.692308</td>\n",
              "      <td>0.196078</td>\n",
              "      <td>0.341357</td>\n",
              "    </tr>\n",
              "    <tr>\n",
              "      <th>578</th>\n",
              "      <td>0.303609</td>\n",
              "      <td>0.753488</td>\n",
              "      <td>0.564815</td>\n",
              "    </tr>\n",
              "  </tbody>\n",
              "</table>\n",
              "</div>"
            ],
            "text/plain": [
              "        Cabin       Sex  Embarked\n",
              "857  0.740741  0.196078  0.341357\n",
              "52   0.692308  0.753488  0.564815\n",
              "386  0.303609  0.196078  0.341357\n",
              "124  0.692308  0.196078  0.341357\n",
              "578  0.303609  0.753488  0.564815"
            ]
          },
          "metadata": {
            "tags": []
          },
          "execution_count": 26
        }
      ]
    },
    {
      "cell_type": "markdown",
      "metadata": {
        "id": "_vLILbgVeBQk",
        "colab_type": "text"
      },
      "source": [
        "**Note**\n",
        "\n",
        "If the argument variables is left to None, then the encoder will automatically identify all categorical variables. Is that not sweet?\n",
        "\n",
        "The encoder will not encode numerical variables. So if some of your numerical variables are in fact categories, you will need to re-cast them as object before using the encoder.\n",
        "\n",
        "Finally, if there is a label in the test set that was not present in the train set, the encoder will through and error, to alert you of this behaviour."
      ]
    }
  ]
}