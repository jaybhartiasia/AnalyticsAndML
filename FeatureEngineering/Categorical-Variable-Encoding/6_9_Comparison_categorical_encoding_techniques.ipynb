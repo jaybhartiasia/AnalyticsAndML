{
  "nbformat": 4,
  "nbformat_minor": 0,
  "metadata": {
    "kernelspec": {
      "display_name": "Python 3",
      "language": "python",
      "name": "python3"
    },
    "language_info": {
      "codemirror_mode": {
        "name": "ipython",
        "version": 3
      },
      "file_extension": ".py",
      "mimetype": "text/x-python",
      "name": "python",
      "nbconvert_exporter": "python",
      "pygments_lexer": "ipython3",
      "version": "3.7.3"
    },
    "toc": {
      "base_numbering": 1,
      "nav_menu": {},
      "number_sections": true,
      "sideBar": true,
      "skip_h1_title": false,
      "title_cell": "Table of Contents",
      "title_sidebar": "Contents",
      "toc_cell": false,
      "toc_position": {},
      "toc_section_display": "block",
      "toc_window_display": true
    },
    "colab": {
      "name": "6.9 Comparison-categorical-encoding-techniques.ipynb",
      "provenance": [],
      "include_colab_link": true
    }
  },
  "cells": [
    {
      "cell_type": "markdown",
      "metadata": {
        "id": "view-in-github",
        "colab_type": "text"
      },
      "source": [
        "<a href=\"https://colab.research.google.com/github/vinay10949/AnalyticsAndML/blob/master/FeatureEngineering/Categorical-Variable-Encoding/6_9_Comparison_categorical_encoding_techniques.ipynb\" target=\"_parent\"><img src=\"https://colab.research.google.com/assets/colab-badge.svg\" alt=\"Open In Colab\"/></a>"
      ]
    },
    {
      "cell_type": "markdown",
      "metadata": {
        "id": "_d2eGeFg99Ky",
        "colab_type": "text"
      },
      "source": [
        "## Comparison of Categorical Variable Encodings\n",
        "\n",
        "In this lecture, we will compare the performance of the different feature categorical encoding techniques we learned so far.\n",
        "\n",
        "We will compare:\n",
        "\n",
        "- One hot encoding\n",
        "- Replacing labels by the count\n",
        "- Ordering labels according to target\n",
        "- Mean Encoding\n",
        "- WoE\n"
      ]
    },
    {
      "cell_type": "code",
      "metadata": {
        "id": "wVB6W09n99K9",
        "colab_type": "code",
        "colab": {}
      },
      "source": [
        "import pandas as pd\n",
        "import numpy as np\n",
        "\n",
        "from sklearn.model_selection import train_test_split\n",
        "\n",
        "from sklearn.linear_model import LogisticRegression\n",
        "from sklearn.ensemble import RandomForestClassifier\n",
        "\n",
        "from sklearn.metrics import roc_auc_score"
      ],
      "execution_count": 0,
      "outputs": []
    },
    {
      "cell_type": "code",
      "metadata": {
        "id": "ok1bnP6N99LV",
        "colab_type": "code",
        "colab": {
          "base_uri": "https://localhost:8080/",
          "height": 206
        },
        "outputId": "29162eee-04fe-43d5-e6c6-24ab48ee5d1a"
      },
      "source": [
        "# let's load the titanic dataset\n",
        "\n",
        "# we will only use these columns in the demo\n",
        "cols = ['Pclass', 'Age', 'SibSp', 'Parch', 'Fare',\n",
        "        'Sex', 'Cabin', 'Embarked', 'Survived']\n",
        "\n",
        "data = pd.read_csv('titanic_train.csv', usecols=cols)\n",
        "\n",
        "data.head()"
      ],
      "execution_count": 65,
      "outputs": [
        {
          "output_type": "execute_result",
          "data": {
            "text/html": [
              "<div>\n",
              "<style scoped>\n",
              "    .dataframe tbody tr th:only-of-type {\n",
              "        vertical-align: middle;\n",
              "    }\n",
              "\n",
              "    .dataframe tbody tr th {\n",
              "        vertical-align: top;\n",
              "    }\n",
              "\n",
              "    .dataframe thead th {\n",
              "        text-align: right;\n",
              "    }\n",
              "</style>\n",
              "<table border=\"1\" class=\"dataframe\">\n",
              "  <thead>\n",
              "    <tr style=\"text-align: right;\">\n",
              "      <th></th>\n",
              "      <th>Survived</th>\n",
              "      <th>Pclass</th>\n",
              "      <th>Sex</th>\n",
              "      <th>Age</th>\n",
              "      <th>SibSp</th>\n",
              "      <th>Parch</th>\n",
              "      <th>Fare</th>\n",
              "      <th>Cabin</th>\n",
              "      <th>Embarked</th>\n",
              "    </tr>\n",
              "  </thead>\n",
              "  <tbody>\n",
              "    <tr>\n",
              "      <th>0</th>\n",
              "      <td>0</td>\n",
              "      <td>3</td>\n",
              "      <td>male</td>\n",
              "      <td>22.0</td>\n",
              "      <td>1</td>\n",
              "      <td>0</td>\n",
              "      <td>7.2500</td>\n",
              "      <td>NaN</td>\n",
              "      <td>S</td>\n",
              "    </tr>\n",
              "    <tr>\n",
              "      <th>1</th>\n",
              "      <td>1</td>\n",
              "      <td>1</td>\n",
              "      <td>female</td>\n",
              "      <td>38.0</td>\n",
              "      <td>1</td>\n",
              "      <td>0</td>\n",
              "      <td>71.2833</td>\n",
              "      <td>C85</td>\n",
              "      <td>C</td>\n",
              "    </tr>\n",
              "    <tr>\n",
              "      <th>2</th>\n",
              "      <td>1</td>\n",
              "      <td>3</td>\n",
              "      <td>female</td>\n",
              "      <td>26.0</td>\n",
              "      <td>0</td>\n",
              "      <td>0</td>\n",
              "      <td>7.9250</td>\n",
              "      <td>NaN</td>\n",
              "      <td>S</td>\n",
              "    </tr>\n",
              "    <tr>\n",
              "      <th>3</th>\n",
              "      <td>1</td>\n",
              "      <td>1</td>\n",
              "      <td>female</td>\n",
              "      <td>35.0</td>\n",
              "      <td>1</td>\n",
              "      <td>0</td>\n",
              "      <td>53.1000</td>\n",
              "      <td>C123</td>\n",
              "      <td>S</td>\n",
              "    </tr>\n",
              "    <tr>\n",
              "      <th>4</th>\n",
              "      <td>0</td>\n",
              "      <td>3</td>\n",
              "      <td>male</td>\n",
              "      <td>35.0</td>\n",
              "      <td>0</td>\n",
              "      <td>0</td>\n",
              "      <td>8.0500</td>\n",
              "      <td>NaN</td>\n",
              "      <td>S</td>\n",
              "    </tr>\n",
              "  </tbody>\n",
              "</table>\n",
              "</div>"
            ],
            "text/plain": [
              "   Survived  Pclass     Sex   Age  SibSp  Parch     Fare Cabin Embarked\n",
              "0         0       3    male  22.0      1      0   7.2500   NaN        S\n",
              "1         1       1  female  38.0      1      0  71.2833   C85        C\n",
              "2         1       3  female  26.0      0      0   7.9250   NaN        S\n",
              "3         1       1  female  35.0      1      0  53.1000  C123        S\n",
              "4         0       3    male  35.0      0      0   8.0500   NaN        S"
            ]
          },
          "metadata": {
            "tags": []
          },
          "execution_count": 65
        }
      ]
    },
    {
      "cell_type": "code",
      "metadata": {
        "id": "xhsxYd-f99Lo",
        "colab_type": "code",
        "colab": {
          "base_uri": "https://localhost:8080/",
          "height": 191
        },
        "outputId": "f005cecf-0acc-4d45-ceee-feff1a105b44"
      },
      "source": [
        "# let's check for missing data\n",
        "\n",
        "data.isnull().sum()"
      ],
      "execution_count": 66,
      "outputs": [
        {
          "output_type": "execute_result",
          "data": {
            "text/plain": [
              "Survived      0\n",
              "Pclass        0\n",
              "Sex           0\n",
              "Age         177\n",
              "SibSp         0\n",
              "Parch         0\n",
              "Fare          0\n",
              "Cabin       687\n",
              "Embarked      2\n",
              "dtype: int64"
            ]
          },
          "metadata": {
            "tags": []
          },
          "execution_count": 66
        }
      ]
    },
    {
      "cell_type": "code",
      "metadata": {
        "id": "HGyOPBIF99L4",
        "colab_type": "code",
        "colab": {}
      },
      "source": [
        "# Drop observations with NA in Fare and embarked\n",
        "\n",
        "data.dropna(subset=['Fare', 'Embarked'], inplace=True)"
      ],
      "execution_count": 0,
      "outputs": []
    },
    {
      "cell_type": "code",
      "metadata": {
        "id": "_yc6AS8b99MI",
        "colab_type": "code",
        "colab": {
          "base_uri": "https://localhost:8080/",
          "height": 206
        },
        "outputId": "2915df75-a5e1-40bc-d6b0-c2460ee949fd"
      },
      "source": [
        "# Now we extract the first letter of the cabin\n",
        "\n",
        "data['Cabin'] = data['Cabin'].astype(str).str[0]\n",
        "\n",
        "data.head()"
      ],
      "execution_count": 68,
      "outputs": [
        {
          "output_type": "execute_result",
          "data": {
            "text/html": [
              "<div>\n",
              "<style scoped>\n",
              "    .dataframe tbody tr th:only-of-type {\n",
              "        vertical-align: middle;\n",
              "    }\n",
              "\n",
              "    .dataframe tbody tr th {\n",
              "        vertical-align: top;\n",
              "    }\n",
              "\n",
              "    .dataframe thead th {\n",
              "        text-align: right;\n",
              "    }\n",
              "</style>\n",
              "<table border=\"1\" class=\"dataframe\">\n",
              "  <thead>\n",
              "    <tr style=\"text-align: right;\">\n",
              "      <th></th>\n",
              "      <th>Survived</th>\n",
              "      <th>Pclass</th>\n",
              "      <th>Sex</th>\n",
              "      <th>Age</th>\n",
              "      <th>SibSp</th>\n",
              "      <th>Parch</th>\n",
              "      <th>Fare</th>\n",
              "      <th>Cabin</th>\n",
              "      <th>Embarked</th>\n",
              "    </tr>\n",
              "  </thead>\n",
              "  <tbody>\n",
              "    <tr>\n",
              "      <th>0</th>\n",
              "      <td>0</td>\n",
              "      <td>3</td>\n",
              "      <td>male</td>\n",
              "      <td>22.0</td>\n",
              "      <td>1</td>\n",
              "      <td>0</td>\n",
              "      <td>7.2500</td>\n",
              "      <td>n</td>\n",
              "      <td>S</td>\n",
              "    </tr>\n",
              "    <tr>\n",
              "      <th>1</th>\n",
              "      <td>1</td>\n",
              "      <td>1</td>\n",
              "      <td>female</td>\n",
              "      <td>38.0</td>\n",
              "      <td>1</td>\n",
              "      <td>0</td>\n",
              "      <td>71.2833</td>\n",
              "      <td>C</td>\n",
              "      <td>C</td>\n",
              "    </tr>\n",
              "    <tr>\n",
              "      <th>2</th>\n",
              "      <td>1</td>\n",
              "      <td>3</td>\n",
              "      <td>female</td>\n",
              "      <td>26.0</td>\n",
              "      <td>0</td>\n",
              "      <td>0</td>\n",
              "      <td>7.9250</td>\n",
              "      <td>n</td>\n",
              "      <td>S</td>\n",
              "    </tr>\n",
              "    <tr>\n",
              "      <th>3</th>\n",
              "      <td>1</td>\n",
              "      <td>1</td>\n",
              "      <td>female</td>\n",
              "      <td>35.0</td>\n",
              "      <td>1</td>\n",
              "      <td>0</td>\n",
              "      <td>53.1000</td>\n",
              "      <td>C</td>\n",
              "      <td>S</td>\n",
              "    </tr>\n",
              "    <tr>\n",
              "      <th>4</th>\n",
              "      <td>0</td>\n",
              "      <td>3</td>\n",
              "      <td>male</td>\n",
              "      <td>35.0</td>\n",
              "      <td>0</td>\n",
              "      <td>0</td>\n",
              "      <td>8.0500</td>\n",
              "      <td>n</td>\n",
              "      <td>S</td>\n",
              "    </tr>\n",
              "  </tbody>\n",
              "</table>\n",
              "</div>"
            ],
            "text/plain": [
              "   Survived  Pclass     Sex   Age  SibSp  Parch     Fare Cabin Embarked\n",
              "0         0       3    male  22.0      1      0   7.2500     n        S\n",
              "1         1       1  female  38.0      1      0  71.2833     C        C\n",
              "2         1       3  female  26.0      0      0   7.9250     n        S\n",
              "3         1       1  female  35.0      1      0  53.1000     C        S\n",
              "4         0       3    male  35.0      0      0   8.0500     n        S"
            ]
          },
          "metadata": {
            "tags": []
          },
          "execution_count": 68
        }
      ]
    },
    {
      "cell_type": "code",
      "metadata": {
        "id": "KO41CQ0S99MX",
        "colab_type": "code",
        "colab": {}
      },
      "source": [
        "# drop observations with cabin = T, they are too few\n",
        "\n",
        "data = data[data['Cabin'] != 'T']"
      ],
      "execution_count": 0,
      "outputs": []
    },
    {
      "cell_type": "code",
      "metadata": {
        "id": "hGY5JllH99Mk",
        "colab_type": "code",
        "colab": {
          "base_uri": "https://localhost:8080/",
          "height": 424
        },
        "outputId": "cab6eceb-9777-4f8c-d522-75872aabd114"
      },
      "source": [
        "# Let's divide into train and test set\n",
        "\n",
        "X_train, X_test, y_train, y_test = train_test_split(\n",
        "   data.drop(labels='Survived', axis=1),  # predictors\n",
        "    data['Survived'],  # target\n",
        "    test_size=0.3,\n",
        "    random_state=0)\n",
        "\n",
        "X_train.shape, X_test.shape\n"
      ],
      "execution_count": 74,
      "outputs": [
        {
          "output_type": "execute_result",
          "data": {
            "text/html": [
              "<div>\n",
              "<style scoped>\n",
              "    .dataframe tbody tr th:only-of-type {\n",
              "        vertical-align: middle;\n",
              "    }\n",
              "\n",
              "    .dataframe tbody tr th {\n",
              "        vertical-align: top;\n",
              "    }\n",
              "\n",
              "    .dataframe thead th {\n",
              "        text-align: right;\n",
              "    }\n",
              "</style>\n",
              "<table border=\"1\" class=\"dataframe\">\n",
              "  <thead>\n",
              "    <tr style=\"text-align: right;\">\n",
              "      <th></th>\n",
              "      <th>Pclass</th>\n",
              "      <th>Sex</th>\n",
              "      <th>Age</th>\n",
              "      <th>SibSp</th>\n",
              "      <th>Parch</th>\n",
              "      <th>Fare</th>\n",
              "      <th>Cabin</th>\n",
              "      <th>Embarked</th>\n",
              "    </tr>\n",
              "  </thead>\n",
              "  <tbody>\n",
              "    <tr>\n",
              "      <th>352</th>\n",
              "      <td>3</td>\n",
              "      <td>male</td>\n",
              "      <td>15.0</td>\n",
              "      <td>1</td>\n",
              "      <td>1</td>\n",
              "      <td>7.2292</td>\n",
              "      <td>n</td>\n",
              "      <td>C</td>\n",
              "    </tr>\n",
              "    <tr>\n",
              "      <th>125</th>\n",
              "      <td>3</td>\n",
              "      <td>male</td>\n",
              "      <td>12.0</td>\n",
              "      <td>1</td>\n",
              "      <td>0</td>\n",
              "      <td>11.2417</td>\n",
              "      <td>n</td>\n",
              "      <td>C</td>\n",
              "    </tr>\n",
              "    <tr>\n",
              "      <th>579</th>\n",
              "      <td>3</td>\n",
              "      <td>male</td>\n",
              "      <td>32.0</td>\n",
              "      <td>0</td>\n",
              "      <td>0</td>\n",
              "      <td>7.9250</td>\n",
              "      <td>n</td>\n",
              "      <td>S</td>\n",
              "    </tr>\n",
              "    <tr>\n",
              "      <th>424</th>\n",
              "      <td>3</td>\n",
              "      <td>male</td>\n",
              "      <td>18.0</td>\n",
              "      <td>1</td>\n",
              "      <td>1</td>\n",
              "      <td>20.2125</td>\n",
              "      <td>n</td>\n",
              "      <td>S</td>\n",
              "    </tr>\n",
              "    <tr>\n",
              "      <th>119</th>\n",
              "      <td>3</td>\n",
              "      <td>female</td>\n",
              "      <td>2.0</td>\n",
              "      <td>4</td>\n",
              "      <td>2</td>\n",
              "      <td>31.2750</td>\n",
              "      <td>n</td>\n",
              "      <td>S</td>\n",
              "    </tr>\n",
              "    <tr>\n",
              "      <th>...</th>\n",
              "      <td>...</td>\n",
              "      <td>...</td>\n",
              "      <td>...</td>\n",
              "      <td>...</td>\n",
              "      <td>...</td>\n",
              "      <td>...</td>\n",
              "      <td>...</td>\n",
              "      <td>...</td>\n",
              "    </tr>\n",
              "    <tr>\n",
              "      <th>838</th>\n",
              "      <td>3</td>\n",
              "      <td>male</td>\n",
              "      <td>32.0</td>\n",
              "      <td>0</td>\n",
              "      <td>0</td>\n",
              "      <td>56.4958</td>\n",
              "      <td>n</td>\n",
              "      <td>S</td>\n",
              "    </tr>\n",
              "    <tr>\n",
              "      <th>193</th>\n",
              "      <td>2</td>\n",
              "      <td>male</td>\n",
              "      <td>3.0</td>\n",
              "      <td>1</td>\n",
              "      <td>1</td>\n",
              "      <td>26.0000</td>\n",
              "      <td>F</td>\n",
              "      <td>S</td>\n",
              "    </tr>\n",
              "    <tr>\n",
              "      <th>631</th>\n",
              "      <td>3</td>\n",
              "      <td>male</td>\n",
              "      <td>51.0</td>\n",
              "      <td>0</td>\n",
              "      <td>0</td>\n",
              "      <td>7.0542</td>\n",
              "      <td>n</td>\n",
              "      <td>S</td>\n",
              "    </tr>\n",
              "    <tr>\n",
              "      <th>561</th>\n",
              "      <td>3</td>\n",
              "      <td>male</td>\n",
              "      <td>40.0</td>\n",
              "      <td>0</td>\n",
              "      <td>0</td>\n",
              "      <td>7.8958</td>\n",
              "      <td>n</td>\n",
              "      <td>S</td>\n",
              "    </tr>\n",
              "    <tr>\n",
              "      <th>686</th>\n",
              "      <td>3</td>\n",
              "      <td>male</td>\n",
              "      <td>14.0</td>\n",
              "      <td>4</td>\n",
              "      <td>1</td>\n",
              "      <td>39.6875</td>\n",
              "      <td>n</td>\n",
              "      <td>S</td>\n",
              "    </tr>\n",
              "  </tbody>\n",
              "</table>\n",
              "<p>621 rows × 8 columns</p>\n",
              "</div>"
            ],
            "text/plain": [
              "     Pclass     Sex   Age  SibSp  Parch     Fare Cabin Embarked\n",
              "352       3    male  15.0      1      1   7.2292     n        C\n",
              "125       3    male  12.0      1      0  11.2417     n        C\n",
              "579       3    male  32.0      0      0   7.9250     n        S\n",
              "424       3    male  18.0      1      1  20.2125     n        S\n",
              "119       3  female   2.0      4      2  31.2750     n        S\n",
              "..      ...     ...   ...    ...    ...      ...   ...      ...\n",
              "838       3    male  32.0      0      0  56.4958     n        S\n",
              "193       2    male   3.0      1      1  26.0000     F        S\n",
              "631       3    male  51.0      0      0   7.0542     n        S\n",
              "561       3    male  40.0      0      0   7.8958     n        S\n",
              "686       3    male  14.0      4      1  39.6875     n        S\n",
              "\n",
              "[621 rows x 8 columns]"
            ]
          },
          "metadata": {
            "tags": []
          },
          "execution_count": 74
        }
      ]
    },
    {
      "cell_type": "code",
      "metadata": {
        "id": "xvPVhv6z99Mt",
        "colab_type": "code",
        "colab": {}
      },
      "source": [
        "# Let's replace null values in numerical variables by the mean\n",
        "\n",
        "\n",
        "def impute_na(df, variable, value):\n",
        "    df[variable].fillna(value, inplace=True)\n",
        "\n",
        "\n",
        "impute_na(X_test, 'Age', X_train['Age'].mean())\n",
        "impute_na(X_train, 'Age',  X_train['Age'].mean())\n",
        "# note how I impute first the test set, this way the value of\n",
        "# the median used will be the same for both train and test"
      ],
      "execution_count": 0,
      "outputs": []
    },
    {
      "cell_type": "code",
      "metadata": {
        "id": "LD-RyiNQ99M5",
        "colab_type": "code",
        "colab": {}
      },
      "source": [
        "X_train.head()"
      ],
      "execution_count": 0,
      "outputs": []
    },
    {
      "cell_type": "code",
      "metadata": {
        "id": "LEdhkekf99NG",
        "colab_type": "code",
        "colab": {}
      },
      "source": [
        "# let's check that we have no missing data after NA imputation\n",
        "\n",
        "X_train.isnull().sum(), X_test.isnull().sum()"
      ],
      "execution_count": 0,
      "outputs": []
    },
    {
      "cell_type": "markdown",
      "metadata": {
        "id": "lSaacGaA99NY",
        "colab_type": "text"
      },
      "source": [
        "### One Hot Encoding"
      ]
    },
    {
      "cell_type": "code",
      "metadata": {
        "id": "luF2SC5X99Nh",
        "colab_type": "code",
        "colab": {}
      },
      "source": [
        "def get_OHE(df):\n",
        "\n",
        "    df_OHE = pd.concat(\n",
        "        [df[['Pclass', 'Age', 'SibSp', 'Parch', 'Fare']],\n",
        "         pd.get_dummies(df[['Sex', 'Cabin', 'Embarked']], drop_first=True)],\n",
        "        axis=1)\n",
        "\n",
        "    return df_OHE\n",
        "\n",
        "\n",
        "X_train_OHE = get_OHE(X_train)\n",
        "X_test_OHE = get_OHE(X_test)\n",
        "\n",
        "X_train_OHE.head()"
      ],
      "execution_count": 0,
      "outputs": []
    },
    {
      "cell_type": "code",
      "metadata": {
        "id": "uSuWz25999Nu",
        "colab_type": "code",
        "colab": {}
      },
      "source": [
        "X_test_OHE.head()"
      ],
      "execution_count": 0,
      "outputs": []
    },
    {
      "cell_type": "markdown",
      "metadata": {
        "id": "_JvmESok99N8",
        "colab_type": "text"
      },
      "source": [
        "### Count encoding"
      ]
    },
    {
      "cell_type": "code",
      "metadata": {
        "id": "lmo14XZz99N_",
        "colab_type": "code",
        "colab": {}
      },
      "source": [
        "def categorical_to_counts(df_train, df_test):\n",
        "\n",
        "    # make a temporary copy of the original dataframes\n",
        "    df_train_temp = df_train.copy()\n",
        "    df_test_temp = df_test.copy()\n",
        "\n",
        "    for col in ['Sex', 'Cabin', 'Embarked']:\n",
        "\n",
        "        # make dictionary mapping category to counts\n",
        "        counts_map = df_train_temp[col].value_counts().to_dict()\n",
        "\n",
        "        # remap the labels to their counts\n",
        "        df_train_temp[col] = df_train_temp[col].map(counts_map)\n",
        "        df_test_temp[col] = df_test_temp[col].map(counts_map)\n",
        "\n",
        "    return df_train_temp, df_test_temp\n",
        "\n",
        "\n",
        "X_train_count, X_test_count = categorical_to_counts(X_train, X_test)\n",
        "\n",
        "X_train_count.head()"
      ],
      "execution_count": 0,
      "outputs": []
    },
    {
      "cell_type": "markdown",
      "metadata": {
        "id": "waNSQnJH99OJ",
        "colab_type": "text"
      },
      "source": [
        "### Ordered Integer Encoding"
      ]
    },
    {
      "cell_type": "code",
      "metadata": {
        "id": "fDoXOFdn99OM",
        "colab_type": "code",
        "colab": {}
      },
      "source": [
        "def categories_to_ordered(df_train, df_test, y_train, y_test):\n",
        "\n",
        "    # make a temporary copy of the datasets\n",
        "    df_train_temp = pd.concat([df_train, y_train], axis=1).copy()\n",
        "    df_test_temp = pd.concat([df_test, y_test], axis=1).copy()\n",
        "\n",
        "    for col in ['Sex', 'Cabin', 'Embarked']:\n",
        "\n",
        "        # order categories according to target mean\n",
        "        ordered_labels = df_train_temp.groupby(\n",
        "            [col])['Survived'].mean().sort_values().index\n",
        "\n",
        "        # create the dictionary to map the ordered labels to an ordinal number\n",
        "        ordinal_label = {k: i for i, k in enumerate(ordered_labels, 0)}\n",
        "\n",
        "        # remap the categories  to these ordinal numbers\n",
        "        df_train_temp[col] = df_train[col].map(ordinal_label)\n",
        "        df_test_temp[col] = df_test[col].map(ordinal_label)\n",
        "\n",
        "    # remove the target\n",
        "    df_train_temp.drop(['Survived'], axis=1, inplace=True)\n",
        "    df_test_temp.drop(['Survived'], axis=1, inplace=True)\n",
        "\n",
        "    return df_train_temp, df_test_temp\n",
        "\n",
        "\n",
        "X_train_ordered, X_test_ordered = categories_to_ordered(\n",
        "    X_train, X_test, y_train, y_test)\n",
        "\n",
        "X_train_ordered.head()"
      ],
      "execution_count": 0,
      "outputs": []
    },
    {
      "cell_type": "markdown",
      "metadata": {
        "id": "aA7Cc-EC99OU",
        "colab_type": "text"
      },
      "source": [
        "### Mean Encoding"
      ]
    },
    {
      "cell_type": "code",
      "metadata": {
        "id": "NNesMK_w99OW",
        "colab_type": "code",
        "colab": {
          "base_uri": "https://localhost:8080/",
          "height": 206
        },
        "outputId": "5e52e69e-2a05-4ce1-9a03-cdbb78aa596d"
      },
      "source": [
        "def categories_to_mean(df_train, df_test, y_train, y_test):\n",
        "\n",
        "    # make a temporary copy of the datasets\n",
        "    df_train_temp = pd.concat([df_train, y_train], axis=1).copy()\n",
        "    df_test_temp = pd.concat([df_test, y_test], axis=1).copy()\n",
        "\n",
        "    for col in ['Sex', 'Cabin', 'Embarked']:\n",
        "\n",
        "        # calculate mean target per category\n",
        "        ordered_labels = df_train_temp.groupby(\n",
        "            [col])['Survived'].mean().to_dict()\n",
        "\n",
        "        # remap the categories to target mean\n",
        "        df_train_temp[col] = df_train[col].map(ordered_labels)\n",
        "        df_test_temp[col] = df_test[col].map(ordered_labels)\n",
        "\n",
        "    # remove the target\n",
        "    df_train_temp.drop(['Survived'], axis=1, inplace=True)\n",
        "    df_test_temp.drop(['Survived'], axis=1, inplace=True)\n",
        "\n",
        "    return df_train_temp, df_test_temp\n",
        "\n",
        "\n",
        "X_train_mean, X_test_mean = categories_to_mean(\n",
        "    X_train, X_test, y_train, y_test)\n",
        "\n",
        "X_train_mean.head()"
      ],
      "execution_count": 76,
      "outputs": [
        {
          "output_type": "execute_result",
          "data": {
            "text/html": [
              "<div>\n",
              "<style scoped>\n",
              "    .dataframe tbody tr th:only-of-type {\n",
              "        vertical-align: middle;\n",
              "    }\n",
              "\n",
              "    .dataframe tbody tr th {\n",
              "        vertical-align: top;\n",
              "    }\n",
              "\n",
              "    .dataframe thead th {\n",
              "        text-align: right;\n",
              "    }\n",
              "</style>\n",
              "<table border=\"1\" class=\"dataframe\">\n",
              "  <thead>\n",
              "    <tr style=\"text-align: right;\">\n",
              "      <th></th>\n",
              "      <th>Pclass</th>\n",
              "      <th>Sex</th>\n",
              "      <th>Age</th>\n",
              "      <th>SibSp</th>\n",
              "      <th>Parch</th>\n",
              "      <th>Fare</th>\n",
              "      <th>Cabin</th>\n",
              "      <th>Embarked</th>\n",
              "    </tr>\n",
              "  </thead>\n",
              "  <tbody>\n",
              "    <tr>\n",
              "      <th>352</th>\n",
              "      <td>3</td>\n",
              "      <td>0.199005</td>\n",
              "      <td>15.0</td>\n",
              "      <td>1</td>\n",
              "      <td>1</td>\n",
              "      <td>7.2292</td>\n",
              "      <td>0.308668</td>\n",
              "      <td>0.555556</td>\n",
              "    </tr>\n",
              "    <tr>\n",
              "      <th>125</th>\n",
              "      <td>3</td>\n",
              "      <td>0.199005</td>\n",
              "      <td>12.0</td>\n",
              "      <td>1</td>\n",
              "      <td>0</td>\n",
              "      <td>11.2417</td>\n",
              "      <td>0.308668</td>\n",
              "      <td>0.555556</td>\n",
              "    </tr>\n",
              "    <tr>\n",
              "      <th>579</th>\n",
              "      <td>3</td>\n",
              "      <td>0.199005</td>\n",
              "      <td>32.0</td>\n",
              "      <td>0</td>\n",
              "      <td>0</td>\n",
              "      <td>7.9250</td>\n",
              "      <td>0.308668</td>\n",
              "      <td>0.347921</td>\n",
              "    </tr>\n",
              "    <tr>\n",
              "      <th>424</th>\n",
              "      <td>3</td>\n",
              "      <td>0.199005</td>\n",
              "      <td>18.0</td>\n",
              "      <td>1</td>\n",
              "      <td>1</td>\n",
              "      <td>20.2125</td>\n",
              "      <td>0.308668</td>\n",
              "      <td>0.347921</td>\n",
              "    </tr>\n",
              "    <tr>\n",
              "      <th>119</th>\n",
              "      <td>3</td>\n",
              "      <td>0.739726</td>\n",
              "      <td>2.0</td>\n",
              "      <td>4</td>\n",
              "      <td>2</td>\n",
              "      <td>31.2750</td>\n",
              "      <td>0.308668</td>\n",
              "      <td>0.347921</td>\n",
              "    </tr>\n",
              "  </tbody>\n",
              "</table>\n",
              "</div>"
            ],
            "text/plain": [
              "     Pclass       Sex   Age  SibSp  Parch     Fare     Cabin  Embarked\n",
              "352       3  0.199005  15.0      1      1   7.2292  0.308668  0.555556\n",
              "125       3  0.199005  12.0      1      0  11.2417  0.308668  0.555556\n",
              "579       3  0.199005  32.0      0      0   7.9250  0.308668  0.347921\n",
              "424       3  0.199005  18.0      1      1  20.2125  0.308668  0.347921\n",
              "119       3  0.739726   2.0      4      2  31.2750  0.308668  0.347921"
            ]
          },
          "metadata": {
            "tags": []
          },
          "execution_count": 76
        }
      ]
    },
    {
      "cell_type": "markdown",
      "metadata": {
        "id": "jfq9kzFZ99Oh",
        "colab_type": "text"
      },
      "source": [
        "### WoE"
      ]
    },
    {
      "cell_type": "code",
      "metadata": {
        "id": "PaFUyOSU99Om",
        "colab_type": "code",
        "colab": {}
      },
      "source": [
        "def categories_to_woe(df_train, df_test, y_train, y_test):\n",
        "    # make a temporary copy of the datasets\n",
        "    df_train_temp = pd.concat([df_train, y_train], axis=1).copy()\n",
        "    df_test_temp = pd.concat([df_test, y_test], axis=1).copy()\n",
        "    #print(df_train_temp.columns)\n",
        "    #print(df_train_temp['Survived'].mean())\n",
        "    for col in ['Sex', 'Cabin', 'Embarked']:\n",
        "        # create df containing the different parts of the WoE equation\n",
        "        # prob survived =1\n",
        "        prob_df = pd.DataFrame(df_train_temp.groupby([col])['Survived'].mean())\n",
        "        # prob survived = 0\n",
        "        prob_df['died'] = 1-prob_df.survived\n",
        "        # calculate WoE\n",
        "        prob_df['WoE'] = np.log(prob_df.survived/prob_df.died)\n",
        "        # capture woe in dictionary\n",
        "        woe = prob_df['WoE'].to_dict()\n",
        "        # re-map the labels to WoE\n",
        "        df_train_temp[col] = df_train[col].map(woe)\n",
        "        df_test_temp[col] = df_test[col].map(woe)\n",
        "\n",
        "    # drop the target\n",
        "    df_train_temp.drop(['Survived'], axis=1, inplace=True)\n",
        "    df_test_temp.drop(['Survived'], axis=1, inplace=True)\n",
        "\n",
        "    return df_train_temp, df_test_temp\n",
        "\n",
        "\n",
        "X_train_woe, X_test_woe = categories_to_woe(X_train, X_test, y_train, y_test)\n",
        "\n",
        "X_train_woe.head()"
      ],
      "execution_count": 0,
      "outputs": []
    },
    {
      "cell_type": "markdown",
      "metadata": {
        "id": "pYKKpTJe99Ot",
        "colab_type": "text"
      },
      "source": [
        "### Random Forest Performance"
      ]
    },
    {
      "cell_type": "code",
      "metadata": {
        "id": "p3tJ0INJ99Ow",
        "colab_type": "code",
        "colab": {}
      },
      "source": [
        "# create a function to build random forests and compare performance in train and test set\n",
        "\n",
        "\n",
        "def run_randomForests(X_train, X_test, y_train, y_test):\n",
        "\n",
        "    rf = RandomForestClassifier(n_estimators=50, random_state=39, max_depth=3)\n",
        "    rf.fit(X_train, y_train)\n",
        "\n",
        "    print('Train set')\n",
        "    pred = rf.predict_proba(X_train)\n",
        "    print(\n",
        "        'Random Forests roc-auc: {}'.format(roc_auc_score(y_train, pred[:, 1])))\n",
        "\n",
        "    print('Test set')\n",
        "    pred = rf.predict_proba(X_test)\n",
        "    print(\n",
        "        'Random Forests roc-auc: {}'.format(roc_auc_score(y_test, pred[:, 1])))"
      ],
      "execution_count": 0,
      "outputs": []
    },
    {
      "cell_type": "code",
      "metadata": {
        "id": "a3QOz32B99O4",
        "colab_type": "code",
        "colab": {}
      },
      "source": [
        "# OHE\n",
        "run_randomForests(X_train_OHE, X_test_OHE, y_train, y_test)"
      ],
      "execution_count": 0,
      "outputs": []
    },
    {
      "cell_type": "code",
      "metadata": {
        "id": "UTAnAe3q99PB",
        "colab_type": "code",
        "colab": {}
      },
      "source": [
        "# counts\n",
        "run_randomForests(X_train_count, X_test_count, y_train, y_test)"
      ],
      "execution_count": 0,
      "outputs": []
    },
    {
      "cell_type": "code",
      "metadata": {
        "id": "oatqURqo99PL",
        "colab_type": "code",
        "colab": {}
      },
      "source": [
        "# ordered labels\n",
        "run_randomForests(X_train_ordered, X_test_ordered, y_train, y_test)"
      ],
      "execution_count": 0,
      "outputs": []
    },
    {
      "cell_type": "code",
      "metadata": {
        "id": "KDwaKbKf99PS",
        "colab_type": "code",
        "colab": {}
      },
      "source": [
        "# mean encoding\n",
        "run_randomForests(X_train_mean, X_test_mean, y_train, y_test)"
      ],
      "execution_count": 0,
      "outputs": []
    },
    {
      "cell_type": "code",
      "metadata": {
        "id": "0V6Y34Xu99Pb",
        "colab_type": "code",
        "colab": {}
      },
      "source": [
        "# woe\n",
        "run_randomForests(X_train_woe, X_test_woe, y_train, y_test)"
      ],
      "execution_count": 0,
      "outputs": []
    },
    {
      "cell_type": "markdown",
      "metadata": {
        "id": "hks8-Sat99Pk",
        "colab_type": "text"
      },
      "source": [
        "Comparing the roc_auc values on the test sets, we can see that one hot encoding has the worse performance. This makes sense because trees do not perform well in datasets with big feature spaces.\n",
        "\n",
        "The remaining encodings returned similar performances. This also makes sense, because trees are non-linear models, so target guided encodings may not necessarily improve the model performance\n",
        "\n",
        "### Logistic Regression Performance"
      ]
    },
    {
      "cell_type": "code",
      "metadata": {
        "id": "22r_UuCn99Pn",
        "colab_type": "code",
        "colab": {}
      },
      "source": [
        "def run_logistic(X_train, X_test, y_train, y_test):\n",
        "\n",
        "    # function to train and test the performance of logistic regression\n",
        "    logit = LogisticRegression(random_state=44, C=0.01)\n",
        "    logit.fit(X_train, y_train)\n",
        "\n",
        "    print('Train set')\n",
        "    pred = logit.predict_proba(X_train)\n",
        "    print(\n",
        "        'Logistic Regression roc-auc: {}'.format(roc_auc_score(y_train, pred[:, 1])))\n",
        "\n",
        "    print('Test set')\n",
        "    pred = logit.predict_proba(X_test)\n",
        "    print(\n",
        "        'Logistic Regression roc-auc: {}'.format(roc_auc_score(y_test, pred[:, 1])))"
      ],
      "execution_count": 0,
      "outputs": []
    },
    {
      "cell_type": "code",
      "metadata": {
        "id": "Mi6nnnn599Ps",
        "colab_type": "code",
        "colab": {}
      },
      "source": [
        "# OHE\n",
        "run_logistic(X_train_OHE, X_test_OHE, y_train, y_test)"
      ],
      "execution_count": 0,
      "outputs": []
    },
    {
      "cell_type": "code",
      "metadata": {
        "id": "Ey5hpg4G99Pz",
        "colab_type": "code",
        "colab": {}
      },
      "source": [
        "# counts\n",
        "run_logistic(X_train_count, X_test_count, y_train, y_test)"
      ],
      "execution_count": 0,
      "outputs": []
    },
    {
      "cell_type": "code",
      "metadata": {
        "id": "bYkDiPQr99P5",
        "colab_type": "code",
        "colab": {}
      },
      "source": [
        "# ordered labels\n",
        "run_logistic(X_train_ordered, X_test_ordered, y_train, y_test)"
      ],
      "execution_count": 0,
      "outputs": []
    },
    {
      "cell_type": "code",
      "metadata": {
        "id": "1xTDaEVi99QD",
        "colab_type": "code",
        "colab": {}
      },
      "source": [
        "# mean encoding\n",
        "run_logistic(X_train_mean, X_test_mean, y_train, y_test)"
      ],
      "execution_count": 0,
      "outputs": []
    },
    {
      "cell_type": "code",
      "metadata": {
        "id": "U7VnErPd99QN",
        "colab_type": "code",
        "colab": {}
      },
      "source": [
        "# woe\n",
        "run_logistic(X_train_woe, X_test_woe, y_train, y_test)"
      ],
      "execution_count": 0,
      "outputs": []
    },
    {
      "cell_type": "markdown",
      "metadata": {
        "id": "05uWZ6uY99QS",
        "colab_type": "text"
      },
      "source": [
        "For Logistic regression, the best performances are obtained with one hot encoding, as it preserves linear relationships with variables and target, and also with weight of evidence, and ordered encoding.\n",
        "\n",
        "Note however how count encoding, returns the worse performance as it does not create a monotonic relationship between variables and target, and in this case, mean target encoding is probably causing over-fitting."
      ]
    }
  ]
}