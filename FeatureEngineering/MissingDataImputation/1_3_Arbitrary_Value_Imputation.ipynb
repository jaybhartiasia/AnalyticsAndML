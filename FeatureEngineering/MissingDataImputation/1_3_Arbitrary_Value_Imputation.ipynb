{
  "nbformat": 4,
  "nbformat_minor": 0,
  "metadata": {
    "kernelspec": {
      "display_name": "Python 3",
      "language": "python",
      "name": "python3"
    },
    "language_info": {
      "codemirror_mode": {
        "name": "ipython",
        "version": 3
      },
      "file_extension": ".py",
      "mimetype": "text/x-python",
      "name": "python",
      "nbconvert_exporter": "python",
      "pygments_lexer": "ipython3",
      "version": "3.7.3"
    },
    "toc": {
      "nav_menu": {},
      "number_sections": true,
      "sideBar": true,
      "skip_h1_title": false,
      "toc_cell": false,
      "toc_position": {},
      "toc_section_display": "block",
      "toc_window_display": true
    },
    "colab": {
      "name": "1.3 Arbitrary-Value-Imputation.ipynb",
      "provenance": [],
      "collapsed_sections": [],
      "include_colab_link": true
    }
  },
  "cells": [
    {
      "cell_type": "markdown",
      "metadata": {
        "id": "view-in-github",
        "colab_type": "text"
      },
      "source": [
        "<a href=\"https://colab.research.google.com/github/vinay10949/AnalyticsAndML/blob/master/1_3_Arbitrary_Value_Imputation.ipynb\" target=\"_parent\"><img src=\"https://colab.research.google.com/assets/colab-badge.svg\" alt=\"Open In Colab\"/></a>"
      ]
    },
    {
      "cell_type": "markdown",
      "metadata": {
        "id": "7f3wdsvUEcy3",
        "colab_type": "text"
      },
      "source": [
        "## Arbitrary value imputation\n",
        "\n",
        "Imputation is the act of replacing missing data with statistical estimates of the missing values. The goal of any imputation technique is to produce a **complete dataset** that can be used to train machine learning models.\n",
        "\n",
        "Arbitrary value imputation consists of replacing all occurrences of missing values (NA) within a variable by an arbitrary value. Typically used arbitrary values are 0, 999, -999 (or other combinations of 9s) or -1 (if the distribution is positive).\n",
        "\n",
        "\n",
        "### Which variables can I impute with an arbitrary value?\n",
        "\n",
        "Both categorical and numerical variables can be imputed by arbitrary values. \n",
        "\n",
        "For categorical variables, this is the equivalent of replacing all instances of NA by an additional label, which is very common practice, so I will treat it separately in a future notebook.\n",
        "\n",
        "### Assumptions\n",
        "\n",
        "- Data is not missing at random.\n",
        "\n",
        "If this is the case, we want to flag the missing values with a different (arbitrary) value, instead of replacing those occurrences with the mean or the median, which represent the most common value.\n",
        "\n",
        "\n",
        "### Advantages\n",
        "\n",
        "- Easy to implement\n",
        "- Fast way of obtaining complete datasets\n",
        "- Can be integrated in production (during model deployment)\n",
        "- Captures the importance of \"missingness\" if there is one\n",
        "\n",
        "\n",
        "### Limitations\n",
        "\n",
        "- Distortion of the original variable distribution\n",
        "- Distortion of the original variance\n",
        "- Distortion of the covariance with the remaining variables of the dataset\n",
        "- If the arbitrary value is at the end of the distribution it may mask or create outliers\n",
        "- Need to be careful not to chose an arbitrary value too similar to the mean or median (or any other common value of the variable distribution)\n",
        "\n",
        "\n",
        "### When to use arbitrary value imputation\n",
        "\n",
        "Replacing the NA by arbitrary values should be used when there are reasons to believe that the NA are not missing at random. In situations like this, we would not like to replace with the median or the mean, and therefore make the NA look like the majority of our observations. Instead, we want to flag the fact that the observation is missing.\n",
        "\n",
        "This approach is used widely both in organisations and in Kaggle competitions. It consists of replacing the NA by an arbitrary value. Any of your creation, but ideally different from the median/mean/mode, and not within the normal values of the variable.\n",
        "\n",
        "The problem consists in deciding which arbitrary value to choose.\n",
        "\n",
        "### Final note\n",
        "\n",
        "When variables are captured by third parties, like credit agencies, they place arbitrary numbers already to signal the fact that the value for that observation is missing. So arbitrary value imputation is also common practice in real life data collections.\n"
      ]
    },
    {
      "cell_type": "code",
      "metadata": {
        "id": "FYaorZnDEczA",
        "colab_type": "code",
        "colab": {}
      },
      "source": [
        "import pandas as pd\n",
        "import numpy as np\n",
        "\n",
        "import matplotlib.pyplot as plt\n",
        "\n",
        "# to split the datasets\n",
        "from sklearn.model_selection import train_test_split"
      ],
      "execution_count": 0,
      "outputs": []
    },
    {
      "cell_type": "code",
      "metadata": {
        "id": "_Z1vvJ-OEczh",
        "colab_type": "code",
        "colab": {
          "base_uri": "https://localhost:8080/",
          "height": 206
        },
        "outputId": "5dbe677f-0bce-45eb-b5f8-2eecbf578902"
      },
      "source": [
        "# load the Titanic Dataset with a few variables for demonstration\n",
        "\n",
        "data = pd.read_csv('titanic_train.csv', usecols=['Age', 'Fare', 'Survived'])\n",
        "data.head()"
      ],
      "execution_count": 2,
      "outputs": [
        {
          "output_type": "execute_result",
          "data": {
            "text/html": [
              "<div>\n",
              "<style scoped>\n",
              "    .dataframe tbody tr th:only-of-type {\n",
              "        vertical-align: middle;\n",
              "    }\n",
              "\n",
              "    .dataframe tbody tr th {\n",
              "        vertical-align: top;\n",
              "    }\n",
              "\n",
              "    .dataframe thead th {\n",
              "        text-align: right;\n",
              "    }\n",
              "</style>\n",
              "<table border=\"1\" class=\"dataframe\">\n",
              "  <thead>\n",
              "    <tr style=\"text-align: right;\">\n",
              "      <th></th>\n",
              "      <th>Survived</th>\n",
              "      <th>Age</th>\n",
              "      <th>Fare</th>\n",
              "    </tr>\n",
              "  </thead>\n",
              "  <tbody>\n",
              "    <tr>\n",
              "      <th>0</th>\n",
              "      <td>0</td>\n",
              "      <td>22.0</td>\n",
              "      <td>7.2500</td>\n",
              "    </tr>\n",
              "    <tr>\n",
              "      <th>1</th>\n",
              "      <td>1</td>\n",
              "      <td>38.0</td>\n",
              "      <td>71.2833</td>\n",
              "    </tr>\n",
              "    <tr>\n",
              "      <th>2</th>\n",
              "      <td>1</td>\n",
              "      <td>26.0</td>\n",
              "      <td>7.9250</td>\n",
              "    </tr>\n",
              "    <tr>\n",
              "      <th>3</th>\n",
              "      <td>1</td>\n",
              "      <td>35.0</td>\n",
              "      <td>53.1000</td>\n",
              "    </tr>\n",
              "    <tr>\n",
              "      <th>4</th>\n",
              "      <td>0</td>\n",
              "      <td>35.0</td>\n",
              "      <td>8.0500</td>\n",
              "    </tr>\n",
              "  </tbody>\n",
              "</table>\n",
              "</div>"
            ],
            "text/plain": [
              "   Survived   Age     Fare\n",
              "0         0  22.0   7.2500\n",
              "1         1  38.0  71.2833\n",
              "2         1  26.0   7.9250\n",
              "3         1  35.0  53.1000\n",
              "4         0  35.0   8.0500"
            ]
          },
          "metadata": {
            "tags": []
          },
          "execution_count": 2
        }
      ]
    },
    {
      "cell_type": "code",
      "metadata": {
        "id": "tB5j7gOlEczw",
        "colab_type": "code",
        "colab": {
          "base_uri": "https://localhost:8080/",
          "height": 86
        },
        "outputId": "ca43e08f-d9fe-4ee6-a50f-eb4ec072ad0c"
      },
      "source": [
        "# let's look at the percentage of NA\n",
        "\n",
        "data.isnull().mean()"
      ],
      "execution_count": 3,
      "outputs": [
        {
          "output_type": "execute_result",
          "data": {
            "text/plain": [
              "Survived    0.000000\n",
              "Age         0.198653\n",
              "Fare        0.000000\n",
              "dtype: float64"
            ]
          },
          "metadata": {
            "tags": []
          },
          "execution_count": 3
        }
      ]
    },
    {
      "cell_type": "markdown",
      "metadata": {
        "id": "aYufDeBoEc0A",
        "colab_type": "text"
      },
      "source": [
        "The only variable with missing data is Age, with ~20% of missing observations.\n",
        "\n",
        "### Imputation important\n",
        "\n",
        "Imputation should be done over the training set, and then propagated to the test set. For arbitrary value imputation this is not so important, because we chose the value arbitrarily, however it is good to adhere to this practice and select the arbitrary value by looking only at the distribution of the variables in the train set."
      ]
    },
    {
      "cell_type": "code",
      "metadata": {
        "id": "ozf5aPm7Ec0F",
        "colab_type": "code",
        "colab": {
          "base_uri": "https://localhost:8080/",
          "height": 34
        },
        "outputId": "b4e8356d-44c6-46bf-b80f-5b90cb205d35"
      },
      "source": [
        "# let's separate into training and testing set\n",
        "\n",
        "X_train, X_test, y_train, y_test = train_test_split(\n",
        "    data[['Age', 'Fare']],  # predictors\n",
        "    data['Survived'],  # target\n",
        "    test_size=0.3,  # percentage of obs in test set\n",
        "    random_state=0)  # seed to ensure reproducibility\n",
        "\n",
        "X_train.shape, X_test.shape"
      ],
      "execution_count": 6,
      "outputs": [
        {
          "output_type": "execute_result",
          "data": {
            "text/plain": [
              "((623, 2), (268, 2))"
            ]
          },
          "metadata": {
            "tags": []
          },
          "execution_count": 6
        }
      ]
    },
    {
      "cell_type": "code",
      "metadata": {
        "id": "td8silgXEc0T",
        "colab_type": "code",
        "colab": {},
        "outputId": "b424c321-09a9-4caf-fcfa-45de0e180a8e"
      },
      "source": [
        "# Let's explore the missing data in the train set\n",
        "# the percentages should be fairly similar to those\n",
        "# of the whole dataset\n",
        "\n",
        "X_train.isnull().mean()    "
      ],
      "execution_count": 0,
      "outputs": [
        {
          "output_type": "execute_result",
          "data": {
            "text/plain": [
              "age     0.191048\n",
              "fare    0.000000\n",
              "dtype: float64"
            ]
          },
          "metadata": {
            "tags": []
          },
          "execution_count": 5
        }
      ]
    },
    {
      "cell_type": "code",
      "metadata": {
        "id": "1G9zShAaEc0g",
        "colab_type": "code",
        "colab": {}
      },
      "source": [
        "# let's make a function to fill missing values with an arbitrary value:\n",
        "# the variable takes the dataframe, the variable, and the value to replace na\n",
        "\n",
        "# and returns the variable with the filled na\n",
        "\n",
        "\n",
        "def impute_na(df, variable, value):\n",
        "\n",
        "    return df[variable].fillna(value)"
      ],
      "execution_count": 0,
      "outputs": []
    },
    {
      "cell_type": "code",
      "metadata": {
        "id": "hnqwFwetEc0p",
        "colab_type": "code",
        "colab": {
          "base_uri": "https://localhost:8080/",
          "height": 281
        },
        "outputId": "bf3301b5-ea68-436e-a59e-e17ce1a878ea"
      },
      "source": [
        "# let's explore the distribution of the variables\n",
        "# to decide which arbitrary value to use\n",
        "\n",
        "X_train.hist(bins=50)\n",
        "plt.show()"
      ],
      "execution_count": 8,
      "outputs": [
        {
          "output_type": "display_data",
          "data": {
            "image/png": "[encoded data removed]",
            "text/plain": [
              "<Figure size 432x288 with 2 Axes>"
            ]
          },
          "metadata": {
            "tags": []
          }
        }
      ]
    },
    {
      "cell_type": "code",
      "metadata": {
        "id": "Ka_PCHcEEc02",
        "colab_type": "code",
        "colab": {
          "base_uri": "https://localhost:8080/",
          "height": 520
        },
        "outputId": "09b27787-1dcb-4167-c17c-72bbeca87fd3"
      },
      "source": [
        "# For this demo I will replace NA by 2 different arbitrary values\n",
        "# one at the far right end of the distribution ==> 99\n",
        "# and alternatively by -1, taking advantage that Age takes only positive values\n",
        "\n",
        "# first replace with 99\n",
        "X_train['Age_99'] = impute_na(X_train, 'Age', 99)\n",
        "\n",
        "# now replace with -1\n",
        "X_train['Age_minus1'] = impute_na(X_train, 'Age', -1)\n",
        "\n",
        "X_train.head(15)"
      ],
      "execution_count": 9,
      "outputs": [
        {
          "output_type": "execute_result",
          "data": {
            "text/html": [
              "<div>\n",
              "<style scoped>\n",
              "    .dataframe tbody tr th:only-of-type {\n",
              "        vertical-align: middle;\n",
              "    }\n",
              "\n",
              "    .dataframe tbody tr th {\n",
              "        vertical-align: top;\n",
              "    }\n",
              "\n",
              "    .dataframe thead th {\n",
              "        text-align: right;\n",
              "    }\n",
              "</style>\n",
              "<table border=\"1\" class=\"dataframe\">\n",
              "  <thead>\n",
              "    <tr style=\"text-align: right;\">\n",
              "      <th></th>\n",
              "      <th>Age</th>\n",
              "      <th>Fare</th>\n",
              "      <th>Age_99</th>\n",
              "      <th>Age_minus1</th>\n",
              "    </tr>\n",
              "  </thead>\n",
              "  <tbody>\n",
              "    <tr>\n",
              "      <th>857</th>\n",
              "      <td>51.0</td>\n",
              "      <td>26.5500</td>\n",
              "      <td>51.0</td>\n",
              "      <td>51.0</td>\n",
              "    </tr>\n",
              "    <tr>\n",
              "      <th>52</th>\n",
              "      <td>49.0</td>\n",
              "      <td>76.7292</td>\n",
              "      <td>49.0</td>\n",
              "      <td>49.0</td>\n",
              "    </tr>\n",
              "    <tr>\n",
              "      <th>386</th>\n",
              "      <td>1.0</td>\n",
              "      <td>46.9000</td>\n",
              "      <td>1.0</td>\n",
              "      <td>1.0</td>\n",
              "    </tr>\n",
              "    <tr>\n",
              "      <th>124</th>\n",
              "      <td>54.0</td>\n",
              "      <td>77.2875</td>\n",
              "      <td>54.0</td>\n",
              "      <td>54.0</td>\n",
              "    </tr>\n",
              "    <tr>\n",
              "      <th>578</th>\n",
              "      <td>NaN</td>\n",
              "      <td>14.4583</td>\n",
              "      <td>99.0</td>\n",
              "      <td>-1.0</td>\n",
              "    </tr>\n",
              "    <tr>\n",
              "      <th>549</th>\n",
              "      <td>8.0</td>\n",
              "      <td>36.7500</td>\n",
              "      <td>8.0</td>\n",
              "      <td>8.0</td>\n",
              "    </tr>\n",
              "    <tr>\n",
              "      <th>118</th>\n",
              "      <td>24.0</td>\n",
              "      <td>247.5208</td>\n",
              "      <td>24.0</td>\n",
              "      <td>24.0</td>\n",
              "    </tr>\n",
              "    <tr>\n",
              "      <th>12</th>\n",
              "      <td>20.0</td>\n",
              "      <td>8.0500</td>\n",
              "      <td>20.0</td>\n",
              "      <td>20.0</td>\n",
              "    </tr>\n",
              "    <tr>\n",
              "      <th>157</th>\n",
              "      <td>30.0</td>\n",
              "      <td>8.0500</td>\n",
              "      <td>30.0</td>\n",
              "      <td>30.0</td>\n",
              "    </tr>\n",
              "    <tr>\n",
              "      <th>127</th>\n",
              "      <td>24.0</td>\n",
              "      <td>7.1417</td>\n",
              "      <td>24.0</td>\n",
              "      <td>24.0</td>\n",
              "    </tr>\n",
              "    <tr>\n",
              "      <th>653</th>\n",
              "      <td>NaN</td>\n",
              "      <td>7.8292</td>\n",
              "      <td>99.0</td>\n",
              "      <td>-1.0</td>\n",
              "    </tr>\n",
              "    <tr>\n",
              "      <th>235</th>\n",
              "      <td>NaN</td>\n",
              "      <td>7.5500</td>\n",
              "      <td>99.0</td>\n",
              "      <td>-1.0</td>\n",
              "    </tr>\n",
              "    <tr>\n",
              "      <th>785</th>\n",
              "      <td>25.0</td>\n",
              "      <td>7.2500</td>\n",
              "      <td>25.0</td>\n",
              "      <td>25.0</td>\n",
              "    </tr>\n",
              "    <tr>\n",
              "      <th>241</th>\n",
              "      <td>NaN</td>\n",
              "      <td>15.5000</td>\n",
              "      <td>99.0</td>\n",
              "      <td>-1.0</td>\n",
              "    </tr>\n",
              "    <tr>\n",
              "      <th>351</th>\n",
              "      <td>NaN</td>\n",
              "      <td>35.0000</td>\n",
              "      <td>99.0</td>\n",
              "      <td>-1.0</td>\n",
              "    </tr>\n",
              "  </tbody>\n",
              "</table>\n",
              "</div>"
            ],
            "text/plain": [
              "      Age      Fare  Age_99  Age_minus1\n",
              "857  51.0   26.5500    51.0        51.0\n",
              "52   49.0   76.7292    49.0        49.0\n",
              "386   1.0   46.9000     1.0         1.0\n",
              "124  54.0   77.2875    54.0        54.0\n",
              "578   NaN   14.4583    99.0        -1.0\n",
              "549   8.0   36.7500     8.0         8.0\n",
              "118  24.0  247.5208    24.0        24.0\n",
              "12   20.0    8.0500    20.0        20.0\n",
              "157  30.0    8.0500    30.0        30.0\n",
              "127  24.0    7.1417    24.0        24.0\n",
              "653   NaN    7.8292    99.0        -1.0\n",
              "235   NaN    7.5500    99.0        -1.0\n",
              "785  25.0    7.2500    25.0        25.0\n",
              "241   NaN   15.5000    99.0        -1.0\n",
              "351   NaN   35.0000    99.0        -1.0"
            ]
          },
          "metadata": {
            "tags": []
          },
          "execution_count": 9
        }
      ]
    },
    {
      "cell_type": "markdown",
      "metadata": {
        "id": "VKcMtehNEc1F",
        "colab_type": "text"
      },
      "source": [
        "Look at the rows with missing data (NaN) in Age, and see how in the new variables those were replaced by either 99 or -1."
      ]
    },
    {
      "cell_type": "code",
      "metadata": {
        "id": "vP5yS8C3Ec1K",
        "colab_type": "code",
        "colab": {
          "base_uri": "https://localhost:8080/",
          "height": 69
        },
        "outputId": "0d41b8a9-5e69-401c-b3c6-21cb34c79de3"
      },
      "source": [
        "# we can see a change in the variance after arbitrary value imputation\n",
        "# this is expected, because the percentage of missing data is quite\n",
        "# high in Age ~20%\n",
        "\n",
        "print('Original variable variance: ', X_train['Age'].var())\n",
        "print('Variance after 99 imputation: ', X_train['Age_99'].var())\n",
        "print('Variance after -1 imputation: ', X_train['Age_minus1'].var())"
      ],
      "execution_count": 11,
      "outputs": [
        {
          "output_type": "stream",
          "text": [
            "Original variable variance:  210.45286924636747\n",
            "Variance after 99 imputation:  917.6372579490387\n",
            "Variance after -1 imputation:  319.3288446599532\n"
          ],
          "name": "stdout"
        }
      ]
    },
    {
      "cell_type": "markdown",
      "metadata": {
        "id": "z3m6hd5DEc1a",
        "colab_type": "text"
      },
      "source": [
        "In fact, the effect on the variance will also be driven by the magnitude of the arbitrary value selected for the imputation, compare 99 with -1."
      ]
    },
    {
      "cell_type": "code",
      "metadata": {
        "id": "0zfLlqFqEc1g",
        "colab_type": "code",
        "colab": {
          "base_uri": "https://localhost:8080/",
          "height": 282
        },
        "outputId": "e08f6f5b-7541-438e-9a95-0ba4e6728c1c"
      },
      "source": [
        "# we can see that the distribution has changed \n",
        "# with now more values accumulating towards the arbitrary values\n",
        "\n",
        "fig = plt.figure()\n",
        "ax = fig.add_subplot(111)\n",
        "\n",
        "# original variable distribution\n",
        "X_train['Age'].plot(kind='kde', ax=ax)\n",
        "\n",
        "# variable imputed with 99\n",
        "X_train['Age_99'].plot(kind='kde', ax=ax, color='red')\n",
        "\n",
        "# variable imputed with -1\n",
        "X_train['Age_minus1'].plot(kind='kde', ax=ax, color='green')\n",
        "\n",
        "# add legends\n",
        "lines, labels = ax.get_legend_handles_labels()\n",
        "ax.legend(lines, labels, loc='best')"
      ],
      "execution_count": 12,
      "outputs": [
        {
          "output_type": "execute_result",
          "data": {
            "text/plain": [
              "<matplotlib.legend.Legend at 0x7f915a18f940>"
            ]
          },
          "metadata": {
            "tags": []
          },
          "execution_count": 12
        },
        {
          "output_type": "display_data",
          "data": {
            "image/png": "[encoded data removed]",
            "text/plain": [
              "<Figure size 432x288 with 1 Axes>"
            ]
          },
          "metadata": {
            "tags": []
          }
        }
      ]
    },
    {
      "cell_type": "markdown",
      "metadata": {
        "id": "--IzGR2pEc10",
        "colab_type": "text"
      },
      "source": [
        "As mentioned above, arbitrary value imputation distorts the original distribution of the variable Age. The transformed variable shows more values around arbitrary values.\n",
        "\n",
        "**Is this important?**\n",
        "\n",
        "It depends on the machine learning model you want to build. Linear models assume that the variables are normally distributed. Arbitrary value imputation may distort the original normal distribution if the % of missing data is high. Therefore the final imputed variable will no longer be normally distributed, which in turn may affect the linear model performance.\n",
        "\n",
        "On the other hand, this technique works quite well with tree based algorithms."
      ]
    },
    {
      "cell_type": "code",
      "metadata": {
        "id": "A2_CAXJqEc15",
        "colab_type": "code",
        "colab": {
          "base_uri": "https://localhost:8080/",
          "height": 175
        },
        "outputId": "79f234ff-1542-43c4-d6cc-9e35378c37a2"
      },
      "source": [
        "# we also said that arbitrary value imputation may affect the relationship \n",
        "# with the other variables in the dataset, let's have a look\n",
        "\n",
        "X_train[['Fare', 'Age', 'Age_99', 'Age_minus1']].cov()"
      ],
      "execution_count": 13,
      "outputs": [
        {
          "output_type": "execute_result",
          "data": {
            "text/html": [
              "<div>\n",
              "<style scoped>\n",
              "    .dataframe tbody tr th:only-of-type {\n",
              "        vertical-align: middle;\n",
              "    }\n",
              "\n",
              "    .dataframe tbody tr th {\n",
              "        vertical-align: top;\n",
              "    }\n",
              "\n",
              "    .dataframe thead th {\n",
              "        text-align: right;\n",
              "    }\n",
              "</style>\n",
              "<table border=\"1\" class=\"dataframe\">\n",
              "  <thead>\n",
              "    <tr style=\"text-align: right;\">\n",
              "      <th></th>\n",
              "      <th>Fare</th>\n",
              "      <th>Age</th>\n",
              "      <th>Age_99</th>\n",
              "      <th>Age_minus1</th>\n",
              "    </tr>\n",
              "  </thead>\n",
              "  <tbody>\n",
              "    <tr>\n",
              "      <th>Fare</th>\n",
              "      <td>2328.801583</td>\n",
              "      <td>78.468894</td>\n",
              "      <td>-48.531540</td>\n",
              "      <td>113.205643</td>\n",
              "    </tr>\n",
              "    <tr>\n",
              "      <th>Age</th>\n",
              "      <td>78.468894</td>\n",
              "      <td>210.452869</td>\n",
              "      <td>210.452869</td>\n",
              "      <td>210.452869</td>\n",
              "    </tr>\n",
              "    <tr>\n",
              "      <th>Age_99</th>\n",
              "      <td>-48.531540</td>\n",
              "      <td>210.452869</td>\n",
              "      <td>917.637258</td>\n",
              "      <td>-165.272555</td>\n",
              "    </tr>\n",
              "    <tr>\n",
              "      <th>Age_minus1</th>\n",
              "      <td>113.205643</td>\n",
              "      <td>210.452869</td>\n",
              "      <td>-165.272555</td>\n",
              "      <td>319.328845</td>\n",
              "    </tr>\n",
              "  </tbody>\n",
              "</table>\n",
              "</div>"
            ],
            "text/plain": [
              "                   Fare         Age      Age_99  Age_minus1\n",
              "Fare        2328.801583   78.468894  -48.531540  113.205643\n",
              "Age           78.468894  210.452869  210.452869  210.452869\n",
              "Age_99       -48.531540  210.452869  917.637258 -165.272555\n",
              "Age_minus1   113.205643  210.452869 -165.272555  319.328845"
            ]
          },
          "metadata": {
            "tags": []
          },
          "execution_count": 13
        }
      ]
    },
    {
      "cell_type": "markdown",
      "metadata": {
        "id": "tRBZbwE4Ec2N",
        "colab_type": "text"
      },
      "source": [
        "We see indeed that the covariance between Age and Fare is changed after the arbitrary value imputation."
      ]
    },
    {
      "cell_type": "code",
      "metadata": {
        "id": "m3D2xY1FEc2Q",
        "colab_type": "code",
        "colab": {
          "base_uri": "https://localhost:8080/",
          "height": 283
        },
        "outputId": "3c593183-90b7-4a1d-993d-3f687207adc3"
      },
      "source": [
        "# Finally, I mentioned that arbitrary value imputation may\n",
        "# affect the perception of outliers\n",
        "\n",
        "# Let's find out using a boxplot\n",
        "X_train[['Age', 'Age_99', 'Age_minus1']].boxplot()"
      ],
      "execution_count": 14,
      "outputs": [
        {
          "output_type": "execute_result",
          "data": {
            "text/plain": [
              "<matplotlib.axes._subplots.AxesSubplot at 0x7f915a7c7b70>"
            ]
          },
          "metadata": {
            "tags": []
          },
          "execution_count": 14
        },
        {
          "output_type": "display_data",
          "data": {
            "image/png": "[encoded data removed]",
            "text/plain": [
              "<Figure size 432x288 with 1 Axes>"
            ]
          },
          "metadata": {
            "tags": []
          }
        }
      ]
    },
    {
      "cell_type": "markdown",
      "metadata": {
        "id": "HQzBiQCkEc2c",
        "colab_type": "text"
      },
      "source": [
        "We can see that adding values at the end of the distribution mask entirely values that were outliers in the original distribution."
      ]
    },
    {
      "cell_type": "markdown",
      "metadata": {
        "id": "t3gBYu8EEc2g",
        "colab_type": "text"
      },
      "source": [
        "## House Prices Dataset\n",
        "\n",
        "Let's repeat the exercise in the House Prices dataset. In this dataset, there are variables with a lot or few missing data. Therefore we can compare the effect of arbitrary value imputation in both scenarios."
      ]
    },
    {
      "cell_type": "code",
      "metadata": {
        "id": "M_bMQTq0Ec2k",
        "colab_type": "code",
        "colab": {}
      },
      "source": [
        "# we are going to use only the following variables,\n",
        "# 3 of which contain NA\n",
        "\n",
        "cols_to_use = [\n",
        "    'OverallQual', 'TotalBsmtSF', '1stFlrSF', 'GrLivArea', 'WoodDeckSF',\n",
        "    'BsmtUnfSF', 'LotFrontage', 'MasVnrArea', 'GarageYrBlt', 'SalePrice'\n",
        "]"
      ],
      "execution_count": 0,
      "outputs": []
    },
    {
      "cell_type": "code",
      "metadata": {
        "id": "_ZGt7V9NEc25",
        "colab_type": "code",
        "colab": {
          "base_uri": "https://localhost:8080/",
          "height": 244
        },
        "outputId": "3e46c4e4-ddf6-4db5-f57b-5dfffbf46e49"
      },
      "source": [
        "# let's load the House Prices dataset\n",
        "\n",
        "data = pd.read_csv('houseprice_train.csv', usecols=cols_to_use)\n",
        "print(data.shape)\n",
        "data.head()"
      ],
      "execution_count": 18,
      "outputs": [
        {
          "output_type": "stream",
          "text": [
            "(1460, 10)\n"
          ],
          "name": "stdout"
        },
        {
          "output_type": "execute_result",
          "data": {
            "text/html": [
              "<div>\n",
              "<style scoped>\n",
              "    .dataframe tbody tr th:only-of-type {\n",
              "        vertical-align: middle;\n",
              "    }\n",
              "\n",
              "    .dataframe tbody tr th {\n",
              "        vertical-align: top;\n",
              "    }\n",
              "\n",
              "    .dataframe thead th {\n",
              "        text-align: right;\n",
              "    }\n",
              "</style>\n",
              "<table border=\"1\" class=\"dataframe\">\n",
              "  <thead>\n",
              "    <tr style=\"text-align: right;\">\n",
              "      <th></th>\n",
              "      <th>LotFrontage</th>\n",
              "      <th>OverallQual</th>\n",
              "      <th>MasVnrArea</th>\n",
              "      <th>BsmtUnfSF</th>\n",
              "      <th>TotalBsmtSF</th>\n",
              "      <th>1stFlrSF</th>\n",
              "      <th>GrLivArea</th>\n",
              "      <th>GarageYrBlt</th>\n",
              "      <th>WoodDeckSF</th>\n",
              "      <th>SalePrice</th>\n",
              "    </tr>\n",
              "  </thead>\n",
              "  <tbody>\n",
              "    <tr>\n",
              "      <th>0</th>\n",
              "      <td>65.0</td>\n",
              "      <td>7</td>\n",
              "      <td>196.0</td>\n",
              "      <td>150</td>\n",
              "      <td>856</td>\n",
              "      <td>856</td>\n",
              "      <td>1710</td>\n",
              "      <td>2003.0</td>\n",
              "      <td>0</td>\n",
              "      <td>208500</td>\n",
              "    </tr>\n",
              "    <tr>\n",
              "      <th>1</th>\n",
              "      <td>80.0</td>\n",
              "      <td>6</td>\n",
              "      <td>0.0</td>\n",
              "      <td>284</td>\n",
              "      <td>1262</td>\n",
              "      <td>1262</td>\n",
              "      <td>1262</td>\n",
              "      <td>1976.0</td>\n",
              "      <td>298</td>\n",
              "      <td>181500</td>\n",
              "    </tr>\n",
              "    <tr>\n",
              "      <th>2</th>\n",
              "      <td>68.0</td>\n",
              "      <td>7</td>\n",
              "      <td>162.0</td>\n",
              "      <td>434</td>\n",
              "      <td>920</td>\n",
              "      <td>920</td>\n",
              "      <td>1786</td>\n",
              "      <td>2001.0</td>\n",
              "      <td>0</td>\n",
              "      <td>223500</td>\n",
              "    </tr>\n",
              "    <tr>\n",
              "      <th>3</th>\n",
              "      <td>60.0</td>\n",
              "      <td>7</td>\n",
              "      <td>0.0</td>\n",
              "      <td>540</td>\n",
              "      <td>756</td>\n",
              "      <td>961</td>\n",
              "      <td>1717</td>\n",
              "      <td>1998.0</td>\n",
              "      <td>0</td>\n",
              "      <td>140000</td>\n",
              "    </tr>\n",
              "    <tr>\n",
              "      <th>4</th>\n",
              "      <td>84.0</td>\n",
              "      <td>8</td>\n",
              "      <td>350.0</td>\n",
              "      <td>490</td>\n",
              "      <td>1145</td>\n",
              "      <td>1145</td>\n",
              "      <td>2198</td>\n",
              "      <td>2000.0</td>\n",
              "      <td>192</td>\n",
              "      <td>250000</td>\n",
              "    </tr>\n",
              "  </tbody>\n",
              "</table>\n",
              "</div>"
            ],
            "text/plain": [
              "   LotFrontage  OverallQual  MasVnrArea  ...  GarageYrBlt  WoodDeckSF  SalePrice\n",
              "0         65.0            7       196.0  ...       2003.0           0     208500\n",
              "1         80.0            6         0.0  ...       1976.0         298     181500\n",
              "2         68.0            7       162.0  ...       2001.0           0     223500\n",
              "3         60.0            7         0.0  ...       1998.0           0     140000\n",
              "4         84.0            8       350.0  ...       2000.0         192     250000\n",
              "\n",
              "[5 rows x 10 columns]"
            ]
          },
          "metadata": {
            "tags": []
          },
          "execution_count": 18
        }
      ]
    },
    {
      "cell_type": "code",
      "metadata": {
        "id": "MOEcIeQHEc3N",
        "colab_type": "code",
        "colab": {
          "base_uri": "https://localhost:8080/",
          "height": 34
        },
        "outputId": "37e4a8bd-6996-47e1-c006-962c98e9ce85"
      },
      "source": [
        "# print the variables that contain missing data\n",
        "\n",
        "# in the next list comprehension, I loop over all the columns \n",
        "# of the dataset and select those that contain missing data\n",
        "\n",
        "[var for var in data.columns if data[var].isnull().sum()>0]"
      ],
      "execution_count": 19,
      "outputs": [
        {
          "output_type": "execute_result",
          "data": {
            "text/plain": [
              "['LotFrontage', 'MasVnrArea', 'GarageYrBlt']"
            ]
          },
          "metadata": {
            "tags": []
          },
          "execution_count": 19
        }
      ]
    },
    {
      "cell_type": "code",
      "metadata": {
        "id": "Gmt3okTzEc3e",
        "colab_type": "code",
        "colab": {
          "base_uri": "https://localhost:8080/",
          "height": 86
        },
        "outputId": "58858cd5-ee89-4aa8-a82c-1ee4b639d01a"
      },
      "source": [
        "# find the percentage of missing data within those variables\n",
        "# same code as we learnt in section 3 on variable characteristics\n",
        "\n",
        "data[['LotFrontage', 'MasVnrArea', 'GarageYrBlt']].isnull().mean()"
      ],
      "execution_count": 20,
      "outputs": [
        {
          "output_type": "execute_result",
          "data": {
            "text/plain": [
              "LotFrontage    0.177397\n",
              "MasVnrArea     0.005479\n",
              "GarageYrBlt    0.055479\n",
              "dtype: float64"
            ]
          },
          "metadata": {
            "tags": []
          },
          "execution_count": 20
        }
      ]
    },
    {
      "cell_type": "markdown",
      "metadata": {
        "id": "k3OmYwbaEc3t",
        "colab_type": "text"
      },
      "source": [
        "First, I separate into train and test."
      ]
    },
    {
      "cell_type": "code",
      "metadata": {
        "id": "UaZpaOY4Ec3x",
        "colab_type": "code",
        "colab": {
          "base_uri": "https://localhost:8080/",
          "height": 34
        },
        "outputId": "6fe51e86-b7ee-441f-9796-d4c6c07961da"
      },
      "source": [
        "# let's separate into training and testing set\n",
        "\n",
        "X_train, X_test, y_train, y_test = train_test_split(data,\n",
        "                                                    data['SalePrice'],\n",
        "                                                    test_size=0.3,\n",
        "                                                    random_state=0)\n",
        "X_train.shape, X_test.shape"
      ],
      "execution_count": 21,
      "outputs": [
        {
          "output_type": "execute_result",
          "data": {
            "text/plain": [
              "((1022, 10), (438, 10))"
            ]
          },
          "metadata": {
            "tags": []
          },
          "execution_count": 21
        }
      ]
    },
    {
      "cell_type": "code",
      "metadata": {
        "id": "N98Ppkf-Ec4A",
        "colab_type": "code",
        "colab": {
          "base_uri": "https://localhost:8080/",
          "height": 607
        },
        "outputId": "f69aeced-eeb6-4854-c148-654c5bbd61ae"
      },
      "source": [
        "# let's plot the distributions of the variables\n",
        "# we learnt this code in section 3 on variable characteristics\n",
        "\n",
        "X_train.hist(bins=50, figsize=(10,10))\n",
        "plt.show()"
      ],
      "execution_count": 22,
      "outputs": [
        {
          "output_type": "display_data",
          "data": {
            "image/png": "[encoded data removed]",
            "text/plain": [
              "<Figure size 720x720 with 12 Axes>"
            ]
          },
          "metadata": {
            "tags": []
          }
        }
      ]
    },
    {
      "cell_type": "code",
      "metadata": {
        "id": "aduhLGScEc4N",
        "colab_type": "code",
        "colab": {
          "base_uri": "https://localhost:8080/",
          "height": 245
        },
        "outputId": "c9a573d2-6780-4472-ce97-4fd2460d8ba7"
      },
      "source": [
        "# Let's work with the variable LotFrontage first\n",
        "\n",
        "# I create a new variable with the missing values replaced\n",
        "# by 999 using the function we created above\n",
        "\n",
        "# in this case I chose 999 to place the value at the far right end of the\n",
        "# distribution. As we can see from the hist above, LotFrontAge takes values\n",
        "# up to 300\n",
        "\n",
        "X_train.loc[:,'LotFrontage_imputed'] = impute_na(X_train, 'LotFrontage', 999)\n",
        "X_test.loc[:,'LotFrontage_imputed'] = impute_na(X_test, 'LotFrontage', 999)"
      ],
      "execution_count": 23,
      "outputs": [
        {
          "output_type": "stream",
          "text": [
            "/usr/local/lib/python3.6/dist-packages/pandas/core/indexing.py:376: SettingWithCopyWarning: \n",
            "A value is trying to be set on a copy of a slice from a DataFrame.\n",
            "Try using .loc[row_indexer,col_indexer] = value instead\n",
            "\n",
            "See the caveats in the documentation: http://pandas.pydata.org/pandas-docs/stable/user_guide/indexing.html#returning-a-view-versus-a-copy\n",
            "  self.obj[key] = _infer_fill_value(value)\n",
            "/usr/local/lib/python3.6/dist-packages/pandas/core/indexing.py:494: SettingWithCopyWarning: \n",
            "A value is trying to be set on a copy of a slice from a DataFrame.\n",
            "Try using .loc[row_indexer,col_indexer] = value instead\n",
            "\n",
            "See the caveats in the documentation: http://pandas.pydata.org/pandas-docs/stable/user_guide/indexing.html#returning-a-view-versus-a-copy\n",
            "  self.obj[item] = s\n"
          ],
          "name": "stderr"
        }
      ]
    },
    {
      "cell_type": "code",
      "metadata": {
        "id": "MWTKxdwVEc4b",
        "colab_type": "code",
        "colab": {
          "base_uri": "https://localhost:8080/",
          "height": 245
        },
        "outputId": "386248f4-c757-4bfe-f435-f21e5f8e7498"
      },
      "source": [
        "# MasVnrArea takes values up to 1500, therefore, 999 will not\n",
        "# work for this variable, as it is a normal value, I need to chose\n",
        "# a bigger value: 2999\n",
        "\n",
        "X_train.loc[:,'MasVnrArea_imputed'] = impute_na(X_train, 'MasVnrArea', 2999)\n",
        "X_test.loc[:,'MasVnrArea_imputed'] = impute_na(X_test, 'MasVnrArea', 2999)"
      ],
      "execution_count": 25,
      "outputs": [
        {
          "output_type": "stream",
          "text": [
            "/usr/local/lib/python3.6/dist-packages/pandas/core/indexing.py:376: SettingWithCopyWarning: \n",
            "A value is trying to be set on a copy of a slice from a DataFrame.\n",
            "Try using .loc[row_indexer,col_indexer] = value instead\n",
            "\n",
            "See the caveats in the documentation: http://pandas.pydata.org/pandas-docs/stable/user_guide/indexing.html#returning-a-view-versus-a-copy\n",
            "  self.obj[key] = _infer_fill_value(value)\n",
            "/usr/local/lib/python3.6/dist-packages/pandas/core/indexing.py:494: SettingWithCopyWarning: \n",
            "A value is trying to be set on a copy of a slice from a DataFrame.\n",
            "Try using .loc[row_indexer,col_indexer] = value instead\n",
            "\n",
            "See the caveats in the documentation: http://pandas.pydata.org/pandas-docs/stable/user_guide/indexing.html#returning-a-view-versus-a-copy\n",
            "  self.obj[item] = s\n"
          ],
          "name": "stderr"
        }
      ]
    },
    {
      "cell_type": "code",
      "metadata": {
        "id": "XxdRm0zcEc4j",
        "colab_type": "code",
        "colab": {
          "base_uri": "https://localhost:8080/",
          "height": 282
        },
        "outputId": "56a15d23-44e1-4057-fedd-4bb1ae821fe6"
      },
      "source": [
        "# let's evaluate the effect of arbitrary imputation on the distribution\n",
        "\n",
        "# we can see that the distribution has changed for LotFrontAge\n",
        "# with now more values accumulating towards 999\n",
        "\n",
        "fig = plt.figure()\n",
        "ax = fig.add_subplot(111)\n",
        "\n",
        "# original variable distribution\n",
        "X_train['LotFrontage'].plot(kind='kde', ax=ax)\n",
        "\n",
        "# variable imputed with the 999\n",
        "X_train['LotFrontage_imputed'].plot(kind='kde', ax=ax, color='red')\n",
        "\n",
        "# add legends\n",
        "lines, labels = ax.get_legend_handles_labels()\n",
        "ax.legend(lines, labels, loc='best')"
      ],
      "execution_count": 24,
      "outputs": [
        {
          "output_type": "execute_result",
          "data": {
            "text/plain": [
              "<matplotlib.legend.Legend at 0x7f9159a3c0b8>"
            ]
          },
          "metadata": {
            "tags": []
          },
          "execution_count": 24
        },
        {
          "output_type": "display_data",
          "data": {
            "image/png": "[encoded data removed]",
            "text/plain": [
              "<Figure size 432x288 with 1 Axes>"
            ]
          },
          "metadata": {
            "tags": []
          }
        }
      ]
    },
    {
      "cell_type": "code",
      "metadata": {
        "id": "adci8fMaEc4y",
        "colab_type": "code",
        "colab": {
          "base_uri": "https://localhost:8080/",
          "height": 282
        },
        "outputId": "275fd37f-bbd6-4886-c955-7a3f6c71b4e9"
      },
      "source": [
        "# For MasVnrArea, because the percentage of missing data\n",
        "# was low, the change in the distribution is smaller\n",
        "\n",
        "fig = plt.figure()\n",
        "ax = fig.add_subplot(111)\n",
        "\n",
        "# original variable distribution\n",
        "X_train['MasVnrArea'].plot(kind='kde', ax=ax)\n",
        "\n",
        "# variable imputed with 2999\n",
        "X_train['MasVnrArea_imputed'].plot(kind='kde', ax=ax, color='red')\n",
        "\n",
        "# add legends\n",
        "lines, labels = ax.get_legend_handles_labels()\n",
        "ax.legend(lines, labels, loc='best')"
      ],
      "execution_count": 26,
      "outputs": [
        {
          "output_type": "execute_result",
          "data": {
            "text/plain": [
              "<matplotlib.legend.Legend at 0x7f9159b49eb8>"
            ]
          },
          "metadata": {
            "tags": []
          },
          "execution_count": 26
        },
        {
          "output_type": "display_data",
          "data": {
            "image/png": "[encoded data removed]",
            "text/plain": [
              "<Figure size 432x288 with 1 Axes>"
            ]
          },
          "metadata": {
            "tags": []
          }
        }
      ]
    },
    {
      "cell_type": "markdown",
      "metadata": {
        "id": "A6zfJW9rEc47",
        "colab_type": "text"
      },
      "source": [
        "From the above plots we can see that the distribution of LotFrontAge is changed quite dramatically, but not so much the distribution of MasVnrArea. This is because the % of missing values in the second variable is quite small. However, depending on the arbitrary value you choose to replace the NA, the distribution will be more or less affected.\n"
      ]
    },
    {
      "cell_type": "code",
      "metadata": {
        "id": "5nSqRILpEc49",
        "colab_type": "code",
        "colab": {
          "base_uri": "https://localhost:8080/",
          "height": 52
        },
        "outputId": "2a857c3e-d5a6-4854-8ee2-1bcd12c37aec"
      },
      "source": [
        "# similarly we can explore the effect of the imputation technique on \n",
        "# the variance\n",
        "\n",
        "# we can see a change in the variance after imputation for LotFrontAge\n",
        "# this is expected, because the percentage of missing data is quite\n",
        "# high ~20%\n",
        "\n",
        "# in fact the effect is quite dramatic\n",
        "\n",
        "print('Original Variance: ', X_train['LotFrontage'].var())\n",
        "print('Variance after imputation: ', X_train['LotFrontage_imputed'].var())"
      ],
      "execution_count": 27,
      "outputs": [
        {
          "output_type": "stream",
          "text": [
            "Original Variance:  532.5872021885676\n",
            "Variance after imputation:  130742.07296576179\n"
          ],
          "name": "stdout"
        }
      ]
    },
    {
      "cell_type": "code",
      "metadata": {
        "id": "wYjswQwSEc5E",
        "colab_type": "code",
        "colab": {
          "base_uri": "https://localhost:8080/",
          "height": 52
        },
        "outputId": "deb4bb8f-c30e-41a8-dff8-df79a07b87a7"
      },
      "source": [
        "# the same for MasnVnrArea, even though the % of NA is small, the\n",
        "# arbitrary value is much bigger, which in turn affects the variance\n",
        "# quite a bit\n",
        "\n",
        "print('Original Variance: ', X_train['MasVnrArea'].var())\n",
        "print('Variance after imputation: ', X_train['MasVnrArea_imputed'].var())"
      ],
      "execution_count": 28,
      "outputs": [
        {
          "output_type": "stream",
          "text": [
            "Original Variance:  32983.538710039466\n",
            "Variance after imputation:  73677.02879932376\n"
          ],
          "name": "stdout"
        }
      ]
    },
    {
      "cell_type": "code",
      "metadata": {
        "id": "WRus2A5UEc5O",
        "colab_type": "code",
        "colab": {
          "base_uri": "https://localhost:8080/",
          "height": 446
        },
        "outputId": "c23ab667-50b0-463c-d01e-c0355f5b7c67"
      },
      "source": [
        "# finally, let's explore the covariance:\n",
        "# take your time to compare the values in the table below.\n",
        "\n",
        "X_train.cov()"
      ],
      "execution_count": 29,
      "outputs": [
        {
          "output_type": "execute_result",
          "data": {
            "text/html": [
              "<div>\n",
              "<style scoped>\n",
              "    .dataframe tbody tr th:only-of-type {\n",
              "        vertical-align: middle;\n",
              "    }\n",
              "\n",
              "    .dataframe tbody tr th {\n",
              "        vertical-align: top;\n",
              "    }\n",
              "\n",
              "    .dataframe thead th {\n",
              "        text-align: right;\n",
              "    }\n",
              "</style>\n",
              "<table border=\"1\" class=\"dataframe\">\n",
              "  <thead>\n",
              "    <tr style=\"text-align: right;\">\n",
              "      <th></th>\n",
              "      <th>LotFrontage</th>\n",
              "      <th>OverallQual</th>\n",
              "      <th>MasVnrArea</th>\n",
              "      <th>BsmtUnfSF</th>\n",
              "      <th>TotalBsmtSF</th>\n",
              "      <th>1stFlrSF</th>\n",
              "      <th>GrLivArea</th>\n",
              "      <th>GarageYrBlt</th>\n",
              "      <th>WoodDeckSF</th>\n",
              "      <th>SalePrice</th>\n",
              "      <th>LotFrontage_imputed</th>\n",
              "      <th>MasVnrArea_imputed</th>\n",
              "    </tr>\n",
              "  </thead>\n",
              "  <tbody>\n",
              "    <tr>\n",
              "      <th>LotFrontage</th>\n",
              "      <td>532.587202</td>\n",
              "      <td>6.587119</td>\n",
              "      <td>6.805603e+02</td>\n",
              "      <td>9.496573e+02</td>\n",
              "      <td>2.908856e+03</td>\n",
              "      <td>3.379794e+03</td>\n",
              "      <td>3.919952e+03</td>\n",
              "      <td>30.611717</td>\n",
              "      <td>1.347414e+02</td>\n",
              "      <td>6.689645e+05</td>\n",
              "      <td>532.587202</td>\n",
              "      <td>7.585010e+02</td>\n",
              "    </tr>\n",
              "    <tr>\n",
              "      <th>OverallQual</th>\n",
              "      <td>6.587119</td>\n",
              "      <td>1.843859</td>\n",
              "      <td>1.014970e+02</td>\n",
              "      <td>1.746147e+02</td>\n",
              "      <td>2.886241e+02</td>\n",
              "      <td>2.242973e+02</td>\n",
              "      <td>4.091242e+02</td>\n",
              "      <td>17.902809</td>\n",
              "      <td>3.168557e+01</td>\n",
              "      <td>8.320132e+04</td>\n",
              "      <td>-18.279174</td>\n",
              "      <td>1.140556e+02</td>\n",
              "    </tr>\n",
              "    <tr>\n",
              "      <th>MasVnrArea</th>\n",
              "      <td>680.560330</td>\n",
              "      <td>101.496976</td>\n",
              "      <td>3.298354e+04</td>\n",
              "      <td>7.540788e+03</td>\n",
              "      <td>2.478877e+04</td>\n",
              "      <td>2.086595e+04</td>\n",
              "      <td>3.520785e+04</td>\n",
              "      <td>1203.583792</td>\n",
              "      <td>3.208924e+03</td>\n",
              "      <td>6.836439e+06</td>\n",
              "      <td>1582.711167</td>\n",
              "      <td>3.298354e+04</td>\n",
              "    </tr>\n",
              "    <tr>\n",
              "      <th>BsmtUnfSF</th>\n",
              "      <td>949.657293</td>\n",
              "      <td>174.614725</td>\n",
              "      <td>7.540788e+03</td>\n",
              "      <td>1.875241e+05</td>\n",
              "      <td>7.513307e+04</td>\n",
              "      <td>4.987449e+04</td>\n",
              "      <td>5.203392e+04</td>\n",
              "      <td>1823.065167</td>\n",
              "      <td>-1.833201e+03</td>\n",
              "      <td>6.833028e+06</td>\n",
              "      <td>-19005.620715</td>\n",
              "      <td>8.391605e+03</td>\n",
              "    </tr>\n",
              "    <tr>\n",
              "      <th>TotalBsmtSF</th>\n",
              "      <td>2908.855504</td>\n",
              "      <td>288.624075</td>\n",
              "      <td>2.478877e+04</td>\n",
              "      <td>7.513307e+04</td>\n",
              "      <td>1.682931e+05</td>\n",
              "      <td>1.212079e+05</td>\n",
              "      <td>8.615192e+04</td>\n",
              "      <td>3173.042442</td>\n",
              "      <td>1.227966e+04</td>\n",
              "      <td>2.003928e+07</td>\n",
              "      <td>1620.452017</td>\n",
              "      <td>2.503117e+04</td>\n",
              "    </tr>\n",
              "    <tr>\n",
              "      <th>1stFlrSF</th>\n",
              "      <td>3379.793504</td>\n",
              "      <td>224.297266</td>\n",
              "      <td>2.086595e+04</td>\n",
              "      <td>4.987449e+04</td>\n",
              "      <td>1.212079e+05</td>\n",
              "      <td>1.398656e+05</td>\n",
              "      <td>1.044401e+05</td>\n",
              "      <td>2009.195552</td>\n",
              "      <td>1.109406e+04</td>\n",
              "      <td>1.783631e+07</td>\n",
              "      <td>7485.021442</td>\n",
              "      <td>1.971276e+04</td>\n",
              "    </tr>\n",
              "    <tr>\n",
              "      <th>GrLivArea</th>\n",
              "      <td>3919.951834</td>\n",
              "      <td>409.124216</td>\n",
              "      <td>3.520785e+04</td>\n",
              "      <td>5.203392e+04</td>\n",
              "      <td>8.615192e+04</td>\n",
              "      <td>1.044401e+05</td>\n",
              "      <td>2.681277e+05</td>\n",
              "      <td>2738.982988</td>\n",
              "      <td>1.558395e+04</td>\n",
              "      <td>2.934477e+07</td>\n",
              "      <td>9634.034363</td>\n",
              "      <td>3.694487e+04</td>\n",
              "    </tr>\n",
              "    <tr>\n",
              "      <th>GarageYrBlt</th>\n",
              "      <td>30.611717</td>\n",
              "      <td>17.902809</td>\n",
              "      <td>1.203584e+03</td>\n",
              "      <td>1.823065e+03</td>\n",
              "      <td>3.173042e+03</td>\n",
              "      <td>2.009196e+03</td>\n",
              "      <td>2.738983e+03</td>\n",
              "      <td>624.305948</td>\n",
              "      <td>6.658911e+02</td>\n",
              "      <td>9.309355e+05</td>\n",
              "      <td>45.643154</td>\n",
              "      <td>1.588757e+03</td>\n",
              "    </tr>\n",
              "    <tr>\n",
              "      <th>WoodDeckSF</th>\n",
              "      <td>134.741376</td>\n",
              "      <td>31.685571</td>\n",
              "      <td>3.208924e+03</td>\n",
              "      <td>-1.833201e+03</td>\n",
              "      <td>1.227966e+04</td>\n",
              "      <td>1.109406e+04</td>\n",
              "      <td>1.558395e+04</td>\n",
              "      <td>665.891118</td>\n",
              "      <td>1.648582e+04</td>\n",
              "      <td>3.029981e+06</td>\n",
              "      <td>5377.154974</td>\n",
              "      <td>2.664993e+03</td>\n",
              "    </tr>\n",
              "    <tr>\n",
              "      <th>SalePrice</th>\n",
              "      <td>668964.454191</td>\n",
              "      <td>83201.317781</td>\n",
              "      <td>6.836439e+06</td>\n",
              "      <td>6.833028e+06</td>\n",
              "      <td>2.003928e+07</td>\n",
              "      <td>1.783631e+07</td>\n",
              "      <td>2.934477e+07</td>\n",
              "      <td>930935.489321</td>\n",
              "      <td>3.029981e+06</td>\n",
              "      <td>6.105731e+09</td>\n",
              "      <td>950743.964420</td>\n",
              "      <td>7.152962e+06</td>\n",
              "    </tr>\n",
              "    <tr>\n",
              "      <th>LotFrontage_imputed</th>\n",
              "      <td>532.587202</td>\n",
              "      <td>-18.279174</td>\n",
              "      <td>1.582711e+03</td>\n",
              "      <td>-1.900562e+04</td>\n",
              "      <td>1.620452e+03</td>\n",
              "      <td>7.485021e+03</td>\n",
              "      <td>9.634034e+03</td>\n",
              "      <td>45.643154</td>\n",
              "      <td>5.377155e+03</td>\n",
              "      <td>9.507440e+05</td>\n",
              "      <td>130742.072966</td>\n",
              "      <td>1.839672e+03</td>\n",
              "    </tr>\n",
              "    <tr>\n",
              "      <th>MasVnrArea_imputed</th>\n",
              "      <td>758.500985</td>\n",
              "      <td>114.055579</td>\n",
              "      <td>3.298354e+04</td>\n",
              "      <td>8.391605e+03</td>\n",
              "      <td>2.503117e+04</td>\n",
              "      <td>1.971276e+04</td>\n",
              "      <td>3.694487e+04</td>\n",
              "      <td>1588.757215</td>\n",
              "      <td>2.664993e+03</td>\n",
              "      <td>7.152962e+06</td>\n",
              "      <td>1839.672367</td>\n",
              "      <td>7.367703e+04</td>\n",
              "    </tr>\n",
              "  </tbody>\n",
              "</table>\n",
              "</div>"
            ],
            "text/plain": [
              "                       LotFrontage  ...  MasVnrArea_imputed\n",
              "LotFrontage             532.587202  ...        7.585010e+02\n",
              "OverallQual               6.587119  ...        1.140556e+02\n",
              "MasVnrArea              680.560330  ...        3.298354e+04\n",
              "BsmtUnfSF               949.657293  ...        8.391605e+03\n",
              "TotalBsmtSF            2908.855504  ...        2.503117e+04\n",
              "1stFlrSF               3379.793504  ...        1.971276e+04\n",
              "GrLivArea              3919.951834  ...        3.694487e+04\n",
              "GarageYrBlt              30.611717  ...        1.588757e+03\n",
              "WoodDeckSF              134.741376  ...        2.664993e+03\n",
              "SalePrice            668964.454191  ...        7.152962e+06\n",
              "LotFrontage_imputed     532.587202  ...        1.839672e+03\n",
              "MasVnrArea_imputed      758.500985  ...        7.367703e+04\n",
              "\n",
              "[12 rows x 12 columns]"
            ]
          },
          "metadata": {
            "tags": []
          },
          "execution_count": 29
        }
      ]
    },
    {
      "cell_type": "code",
      "metadata": {
        "id": "iBzuWANDEc5c",
        "colab_type": "code",
        "colab": {}
      },
      "source": [
        ""
      ],
      "execution_count": 0,
      "outputs": []
    }
  ]
}
