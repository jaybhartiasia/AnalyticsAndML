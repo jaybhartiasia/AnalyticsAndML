{
  "nbformat": 4,
  "nbformat_minor": 0,
  "metadata": {
    "kernelspec": {
      "display_name": "Python 3",
      "language": "python",
      "name": "python3"
    },
    "language_info": {
      "codemirror_mode": {
        "name": "ipython",
        "version": 3
      },
      "file_extension": ".py",
      "mimetype": "text/x-python",
      "name": "python",
      "nbconvert_exporter": "python",
      "pygments_lexer": "ipython3",
      "version": "3.7.3"
    },
    "toc": {
      "nav_menu": {},
      "number_sections": true,
      "sideBar": true,
      "skip_h1_title": false,
      "toc_cell": false,
      "toc_position": {},
      "toc_section_display": "block",
      "toc_window_display": true
    },
    "colab": {
      "name": "1.5Frequent-Category-Imputation.ipynb",
      "provenance": [],
      "collapsed_sections": [],
      "include_colab_link": true
    }
  },
  "cells": [
    {
      "cell_type": "markdown",
      "metadata": {
        "id": "view-in-github",
        "colab_type": "text"
      },
      "source": [
        "<a href=\"https://colab.research.google.com/github/vinay10949/AnalyticsAndML/blob/master/1_5Frequent_Category_Imputation.ipynb\" target=\"_parent\"><img src=\"https://colab.research.google.com/assets/colab-badge.svg\" alt=\"Open In Colab\"/></a>"
      ]
    },
    {
      "cell_type": "markdown",
      "metadata": {
        "id": "F9QvTAWs29fw",
        "colab_type": "text"
      },
      "source": [
        "## Frequent category imputation | Mode imputation\n",
        "\n",
        "Imputation is the act of replacing missing data with statistical estimates of the missing values. The goal of any imputation technique is to produce a **complete dataset** that can be used to train machine learning models.\n",
        "\n",
        "Mode imputation consists of replacing all occurrences of missing values (NA) within a variable by the mode, which in other words refers to the **most frequent value** or **most frequent category**.\n",
        "\n",
        "\n",
        "### Which variables can I impute with most frequent / mode Imputation?\n",
        "\n",
        "Although the mode, or most frequent value can be calculated for both numerical and categorical variables, in practice, we only use this technique on categorical variables. The reason is that for numerical variables, the mean or the median tend to better represent the average value of the population.\n",
        "\n",
        "\n",
        "### Assumptions\n",
        "\n",
        "- Data is missing completely at random (MCAR)\n",
        "- The missing observations, most likely look like the majority of the observations in the variable (aka, the mode)\n",
        "\n",
        "The rationale is that the value that should have been seen for the missing observation is most likely the most frequent value or category of the variable.\n",
        "\n",
        "\n",
        "### Advantages\n",
        "\n",
        "- Easy to implement\n",
        "- Fast way of obtaining complete datasets\n",
        "- Can be integrated in production (during model deployment)\n",
        "\n",
        "\n",
        "### Limitations\n",
        "\n",
        "- Distortion the relation of the most frequent label with other variables within the dataset\n",
        "- May lead to an over-representation of the most frequent label if there is a big number of NA\n",
        "\n",
        "\n",
        "### When to use mode / most frequent category imputation?\n",
        "\n",
        "- Data is missing completely at random\n",
        "- No more than 5% of the variable contains missing data\n",
        "\n"
      ]
    },
    {
      "cell_type": "code",
      "metadata": {
        "id": "l4HFMqX-29f8",
        "colab_type": "code",
        "colab": {}
      },
      "source": [
        "import pandas as pd\n",
        "import numpy as np\n",
        "\n",
        "import matplotlib.pyplot as plt\n",
        "\n",
        "# to split the datasets\n",
        "from sklearn.model_selection import train_test_split"
      ],
      "execution_count": 0,
      "outputs": []
    },
    {
      "cell_type": "markdown",
      "metadata": {
        "id": "ZUKZIam029gj",
        "colab_type": "text"
      },
      "source": [
        "### House Price dataset"
      ]
    },
    {
      "cell_type": "code",
      "metadata": {
        "id": "QoDldbCl29gm",
        "colab_type": "code",
        "colab": {
          "base_uri": "https://localhost:8080/",
          "height": 206
        },
        "outputId": "fb2c1699-737c-4d7e-d4e7-1a9bf810ca68"
      },
      "source": [
        "# let's load the dataset with a few columns for the demonstration\n",
        "\n",
        "# these are categorical columns and the target SalePrice\n",
        "cols_to_use = ['BsmtQual', 'FireplaceQu', 'SalePrice']\n",
        "\n",
        "data = pd.read_csv('houseprice_train.csv', usecols=cols_to_use)\n",
        "data.head()"
      ],
      "execution_count": 2,
      "outputs": [
        {
          "output_type": "execute_result",
          "data": {
            "text/html": [
              "<div>\n",
              "<style scoped>\n",
              "    .dataframe tbody tr th:only-of-type {\n",
              "        vertical-align: middle;\n",
              "    }\n",
              "\n",
              "    .dataframe tbody tr th {\n",
              "        vertical-align: top;\n",
              "    }\n",
              "\n",
              "    .dataframe thead th {\n",
              "        text-align: right;\n",
              "    }\n",
              "</style>\n",
              "<table border=\"1\" class=\"dataframe\">\n",
              "  <thead>\n",
              "    <tr style=\"text-align: right;\">\n",
              "      <th></th>\n",
              "      <th>BsmtQual</th>\n",
              "      <th>FireplaceQu</th>\n",
              "      <th>SalePrice</th>\n",
              "    </tr>\n",
              "  </thead>\n",
              "  <tbody>\n",
              "    <tr>\n",
              "      <th>0</th>\n",
              "      <td>Gd</td>\n",
              "      <td>NaN</td>\n",
              "      <td>208500</td>\n",
              "    </tr>\n",
              "    <tr>\n",
              "      <th>1</th>\n",
              "      <td>Gd</td>\n",
              "      <td>TA</td>\n",
              "      <td>181500</td>\n",
              "    </tr>\n",
              "    <tr>\n",
              "      <th>2</th>\n",
              "      <td>Gd</td>\n",
              "      <td>TA</td>\n",
              "      <td>223500</td>\n",
              "    </tr>\n",
              "    <tr>\n",
              "      <th>3</th>\n",
              "      <td>TA</td>\n",
              "      <td>Gd</td>\n",
              "      <td>140000</td>\n",
              "    </tr>\n",
              "    <tr>\n",
              "      <th>4</th>\n",
              "      <td>Gd</td>\n",
              "      <td>TA</td>\n",
              "      <td>250000</td>\n",
              "    </tr>\n",
              "  </tbody>\n",
              "</table>\n",
              "</div>"
            ],
            "text/plain": [
              "  BsmtQual FireplaceQu  SalePrice\n",
              "0       Gd         NaN     208500\n",
              "1       Gd          TA     181500\n",
              "2       Gd          TA     223500\n",
              "3       TA          Gd     140000\n",
              "4       Gd          TA     250000"
            ]
          },
          "metadata": {
            "tags": []
          },
          "execution_count": 2
        }
      ]
    },
    {
      "cell_type": "code",
      "metadata": {
        "id": "ayKT4GBf29g6",
        "colab_type": "code",
        "colab": {
          "base_uri": "https://localhost:8080/",
          "height": 86
        },
        "outputId": "7eaca465-9a2f-42be-f679-c0302539f316"
      },
      "source": [
        "# let's inspect the percentage of missing values in each variable\n",
        "\n",
        "data.isnull().mean()"
      ],
      "execution_count": 3,
      "outputs": [
        {
          "output_type": "execute_result",
          "data": {
            "text/plain": [
              "BsmtQual       0.025342\n",
              "FireplaceQu    0.472603\n",
              "SalePrice      0.000000\n",
              "dtype: float64"
            ]
          },
          "metadata": {
            "tags": []
          },
          "execution_count": 3
        }
      ]
    },
    {
      "cell_type": "markdown",
      "metadata": {
        "id": "BiPEqBmY29hL",
        "colab_type": "text"
      },
      "source": [
        "The variable BsmtQual contains only a few observations with NA (2.5), therefore, replacing those observations with the value of the most frequent category is a good approach.\n",
        "\n",
        "On the other hand, the variable FireplaceQu, contains missing data in almost half of the observations. Therefore, replacing those with the most frequent category is most likely going to distort the relationship of the most frequent category with the sale price. \n",
        "\n",
        "In addition, if so many observations in FireplaceQu are missing, it could be for a reason and not just at random, so we could be better off capturing that somehow with a different imputation technique. We will see how in the next notebook. For now, let's explore the effect of replacing NA by the most frequent categories when missing data is few or a lot."
      ]
    },
    {
      "cell_type": "markdown",
      "metadata": {
        "id": "RXFqg24729hR",
        "colab_type": "text"
      },
      "source": [
        "### Imputation important\n",
        "\n",
        "Imputation should be done over the training set, and then propagated to the test set. This means that the most frequent category has to be selected from the training set, and used to replace NA both in train and test sets."
      ]
    },
    {
      "cell_type": "code",
      "metadata": {
        "id": "GY7cyQNb29hV",
        "colab_type": "code",
        "colab": {
          "base_uri": "https://localhost:8080/",
          "height": 34
        },
        "outputId": "d80d0497-eddc-442f-ffb2-3a6ac85d74dc"
      },
      "source": [
        "# let's separate into training and testing set\n",
        "\n",
        "X_train, X_test, y_train, y_test = train_test_split(\n",
        "    data,\n",
        "    data['SalePrice'], # target\n",
        "    test_size=0.3, # percentage of observations in the test set\n",
        "    random_state=0) # seed for reproducibility\n",
        "\n",
        "X_train.shape, X_test.shape"
      ],
      "execution_count": 17,
      "outputs": [
        {
          "output_type": "execute_result",
          "data": {
            "text/plain": [
              "((1022, 3), (438, 3))"
            ]
          },
          "metadata": {
            "tags": []
          },
          "execution_count": 17
        }
      ]
    },
    {
      "cell_type": "markdown",
      "metadata": {
        "id": "fw8EggWi29hs",
        "colab_type": "text"
      },
      "source": [
        "#### BsmtQual"
      ]
    },
    {
      "cell_type": "code",
      "metadata": {
        "id": "bZBRT9Xg29hw",
        "colab_type": "code",
        "colab": {
          "base_uri": "https://localhost:8080/",
          "height": 34
        },
        "outputId": "4affb96d-5b5a-4d0f-fe7b-79ee4620b888"
      },
      "source": [
        "# let's remind ourselves of the % of missing values\n",
        "X_train['BsmtQual'].isnull().mean()"
      ],
      "execution_count": 18,
      "outputs": [
        {
          "output_type": "execute_result",
          "data": {
            "text/plain": [
              "0.023483365949119372"
            ]
          },
          "metadata": {
            "tags": []
          },
          "execution_count": 18
        }
      ]
    },
    {
      "cell_type": "code",
      "metadata": {
        "id": "sYGElOjv29iI",
        "colab_type": "code",
        "colab": {
          "base_uri": "https://localhost:8080/",
          "height": 300
        },
        "outputId": "5ba5fc6c-b722-4b9f-f69b-2c90b34d1a53"
      },
      "source": [
        "# let's inspect the number of observations per category in BsmtQual\n",
        "\n",
        "# we used this line of code in section 3 on variable characteristics\n",
        "\n",
        "# value_counts() counts the amount of houses that show each of the labels\n",
        "# in the variable indicated below\n",
        "\n",
        "X_train['BsmtQual'].value_counts().sort_values(ascending=False).plot.bar()\n",
        "plt.xlabel('BsmtQual')\n",
        "plt.ylabel('Number of houses')"
      ],
      "execution_count": 19,
      "outputs": [
        {
          "output_type": "execute_result",
          "data": {
            "text/plain": [
              "Text(0, 0.5, 'Number of houses')"
            ]
          },
          "metadata": {
            "tags": []
          },
          "execution_count": 19
        },
        {
          "output_type": "display_data",
          "data": {
            "image/png": "[encoded data removed]",
            "text/plain": [
              "<Figure size 432x288 with 1 Axes>"
            ]
          },
          "metadata": {
            "tags": []
          }
        }
      ]
    },
    {
      "cell_type": "code",
      "metadata": {
        "id": "GoQ3eh0B29if",
        "colab_type": "code",
        "colab": {
          "base_uri": "https://localhost:8080/",
          "height": 52
        },
        "outputId": "84ebbb03-75aa-44cc-c5fa-d347d88b9ed4"
      },
      "source": [
        "# Let's find the most frequent category for BsmtQual\n",
        "\n",
        "X_train['BsmtQual'].mode()"
      ],
      "execution_count": 12,
      "outputs": [
        {
          "output_type": "execute_result",
          "data": {
            "text/plain": [
              "0    TA\n",
              "dtype: object"
            ]
          },
          "metadata": {
            "tags": []
          },
          "execution_count": 12
        }
      ]
    },
    {
      "cell_type": "code",
      "metadata": {
        "id": "hODnLfdn29i1",
        "colab_type": "code",
        "colab": {
          "base_uri": "https://localhost:8080/",
          "height": 298
        },
        "outputId": "81bf24f6-249b-4d38-ab57-a428df62272f"
      },
      "source": [
        "# let's plot the distribution of the target for the houses that:\n",
        "\n",
        "# * show the most frequent category or\n",
        "# * those that show missing data\n",
        "\n",
        "fig = plt.figure()\n",
        "ax = fig.add_subplot(111)\n",
        "\n",
        "# select and plot houses with the most frequent label\n",
        "X_train[X_train['BsmtQual']=='TA']['SalePrice'].plot(kind='kde', ax=ax)\n",
        "\n",
        "# select and plot houses with missing data in the variable\n",
        "X_train[X_train['BsmtQual'].isnull()]['SalePrice'].plot(kind='kde', ax=ax, color='red')\n",
        "\n",
        "# add the legend\n",
        "lines, labels = ax.get_legend_handles_labels()\n",
        "labels = ['Houses with TA', 'Houses with NA']\n",
        "ax.legend(lines, labels, loc='best')\n",
        "\n",
        "# add figure title\n",
        "plt.title('BsmtQual')"
      ],
      "execution_count": 20,
      "outputs": [
        {
          "output_type": "execute_result",
          "data": {
            "text/plain": [
              "Text(0.5, 1.0, 'BsmtQual')"
            ]
          },
          "metadata": {
            "tags": []
          },
          "execution_count": 20
        },
        {
          "output_type": "display_data",
          "data": {
            "image/png": "[encoded data removed]",
            "text/plain": [
              "<Figure size 432x288 with 1 Axes>"
            ]
          },
          "metadata": {
            "tags": []
          }
        }
      ]
    },
    {
      "cell_type": "markdown",
      "metadata": {
        "id": "zKYUvvUJ29jK",
        "colab_type": "text"
      },
      "source": [
        "The plot above indicates that the houses with missing data cost overall less than those with the label TA. Therefore, replacing missing values by TA, could affect the overall distribution, if there were a lot of NA."
      ]
    },
    {
      "cell_type": "code",
      "metadata": {
        "id": "CnVnIU0429jS",
        "colab_type": "code",
        "colab": {}
      },
      "source": [
        "# I keep the original distribution of SalePrice for the most\n",
        "# frequent category for later\n",
        "\n",
        "# the use of tmp is common to name temporal variables\n",
        "\n",
        "tmp = X_train[X_train['BsmtQual']=='TA']['SalePrice']"
      ],
      "execution_count": 0,
      "outputs": []
    },
    {
      "cell_type": "code",
      "metadata": {
        "id": "gQmUe_rc29jp",
        "colab_type": "code",
        "colab": {
          "base_uri": "https://localhost:8080/",
          "height": 124
        },
        "outputId": "de7b55b7-6bde-4a0e-beaf-f973974a9912"
      },
      "source": [
        "# Let's fill na in both train and test\n",
        "\n",
        "# I use the fillna() method from pandas\n",
        "\n",
        "# with the argument inplace=True, I indicate to pandas\n",
        "# that I want the values replaced in the same dataset\n",
        "\n",
        "X_train['BsmtQual'].fillna('TA', inplace=True)\n",
        "X_test['BsmtQual'].fillna('TA', inplace=True)"
      ],
      "execution_count": 22,
      "outputs": [
        {
          "output_type": "stream",
          "text": [
            "/usr/local/lib/python3.6/dist-packages/pandas/core/generic.py:6287: SettingWithCopyWarning: \n",
            "A value is trying to be set on a copy of a slice from a DataFrame\n",
            "\n",
            "See the caveats in the documentation: http://pandas.pydata.org/pandas-docs/stable/user_guide/indexing.html#returning-a-view-versus-a-copy\n",
            "  self._update_inplace(new_data)\n"
          ],
          "name": "stderr"
        }
      ]
    },
    {
      "cell_type": "code",
      "metadata": {
        "id": "cArU6qdW29j5",
        "colab_type": "code",
        "colab": {
          "base_uri": "https://localhost:8080/",
          "height": 34
        },
        "outputId": "1f7ac331-5af5-4ee9-8037-55ff03836617"
      },
      "source": [
        "# check that NA have been filled\n",
        "\n",
        "X_train['BsmtQual'].isnull().sum()"
      ],
      "execution_count": 23,
      "outputs": [
        {
          "output_type": "execute_result",
          "data": {
            "text/plain": [
              "0"
            ]
          },
          "metadata": {
            "tags": []
          },
          "execution_count": 23
        }
      ]
    },
    {
      "cell_type": "code",
      "metadata": {
        "id": "D5I1eh-b29kP",
        "colab_type": "code",
        "colab": {
          "base_uri": "https://localhost:8080/",
          "height": 300
        },
        "outputId": "72cfb07f-f98a-4b86-85f1-5f310e0805c2"
      },
      "source": [
        "# evaluate effect on distribution of categories\n",
        "\n",
        "X_train['BsmtQual'].value_counts().sort_values(ascending=False).plot.bar()\n",
        "plt.xlabel('BsmtQual')\n",
        "plt.ylabel('Number of houses')"
      ],
      "execution_count": 24,
      "outputs": [
        {
          "output_type": "execute_result",
          "data": {
            "text/plain": [
              "Text(0, 0.5, 'Number of houses')"
            ]
          },
          "metadata": {
            "tags": []
          },
          "execution_count": 24
        },
        {
          "output_type": "display_data",
          "data": {
            "image/png": "[encoded data removed]",
            "text/plain": [
              "<Figure size 432x288 with 1 Axes>"
            ]
          },
          "metadata": {
            "tags": []
          }
        }
      ]
    },
    {
      "cell_type": "markdown",
      "metadata": {
        "id": "EnyfxcMh29kf",
        "colab_type": "text"
      },
      "source": [
        "From the above plot, we see that now there are a few more houses with the label TA, which are those that before contained NA, but the overall effect on the distribution is not dramatic. The plot looks almost identical to that one before the imputation."
      ]
    },
    {
      "cell_type": "code",
      "metadata": {
        "id": "vSIV9tHW29kl",
        "colab_type": "code",
        "colab": {
          "base_uri": "https://localhost:8080/",
          "height": 298
        },
        "outputId": "90cf0d3c-314e-4359-bbbb-dcfcc404943b"
      },
      "source": [
        "# did the distribution of SalePrice for the most frequent category change?\n",
        "# let's have a look\n",
        "\n",
        "fig = plt.figure()\n",
        "ax = fig.add_subplot(111)\n",
        "\n",
        "# original distribution of salePrice for houses with most frequent label\n",
        "# remember I captured this a few cells up in the notebook\n",
        "tmp.plot(kind='kde', ax=ax)\n",
        "\n",
        "# distribution of the variable after imputation\n",
        "X_train[X_train['BsmtQual'] == 'TA']['SalePrice'].plot(\n",
        "    kind='kde', ax=ax, color='red')\n",
        "\n",
        "# add the legend\n",
        "lines, labels = ax.get_legend_handles_labels()\n",
        "labels = ['Original variable', 'Imputed variable']\n",
        "ax.legend(lines, labels, loc='best')\n",
        "\n",
        "# add title\n",
        "plt.title('BsmtQual')"
      ],
      "execution_count": 25,
      "outputs": [
        {
          "output_type": "execute_result",
          "data": {
            "text/plain": [
              "Text(0.5, 1.0, 'BsmtQual')"
            ]
          },
          "metadata": {
            "tags": []
          },
          "execution_count": 25
        },
        {
          "output_type": "display_data",
          "data": {
            "image/png": "[encoded data removed]",
            "text/plain": [
              "<Figure size 432x288 with 1 Axes>"
            ]
          },
          "metadata": {
            "tags": []
          }
        }
      ]
    },
    {
      "cell_type": "markdown",
      "metadata": {
        "id": "H7OASYAH29kz",
        "colab_type": "text"
      },
      "source": [
        "The distribution of house prices between the original and imputed variable is quite similar, because the number of missing data was small. We expected this behaviour.\n",
        "\n",
        "Let's explore the effect of mode imputation when the percentage of missing data is high.\n",
        "\n",
        "#### FirePlaceQu"
      ]
    },
    {
      "cell_type": "code",
      "metadata": {
        "id": "Fpz9_yoT29k3",
        "colab_type": "code",
        "colab": {
          "base_uri": "https://localhost:8080/",
          "height": 34
        },
        "outputId": "5cdbe636-254f-4ca4-bc12-315b0865c4bc"
      },
      "source": [
        "# let's remind ourselves of the % of missing values\n",
        "X_train['FireplaceQu'].isnull().mean()"
      ],
      "execution_count": 26,
      "outputs": [
        {
          "output_type": "execute_result",
          "data": {
            "text/plain": [
              "0.46771037181996084"
            ]
          },
          "metadata": {
            "tags": []
          },
          "execution_count": 26
        }
      ]
    },
    {
      "cell_type": "code",
      "metadata": {
        "id": "d1XrC99G29k-",
        "colab_type": "code",
        "colab": {
          "base_uri": "https://localhost:8080/",
          "height": 300
        },
        "outputId": "4fd9c811-4f2e-4d00-ac8c-f5c34b366303"
      },
      "source": [
        "# let's inspect the number of observations per category\n",
        "\n",
        "X_train['FireplaceQu'].value_counts().sort_values(ascending=False).plot.bar()\n",
        "plt.xlabel('FireplaceQu')\n",
        "plt.ylabel('Number of houses')"
      ],
      "execution_count": 27,
      "outputs": [
        {
          "output_type": "execute_result",
          "data": {
            "text/plain": [
              "Text(0, 0.5, 'Number of houses')"
            ]
          },
          "metadata": {
            "tags": []
          },
          "execution_count": 27
        },
        {
          "output_type": "display_data",
          "data": {
            "image/png": "[encoded data removed]",
            "text/plain": [
              "<Figure size 432x288 with 1 Axes>"
            ]
          },
          "metadata": {
            "tags": []
          }
        }
      ]
    },
    {
      "cell_type": "code",
      "metadata": {
        "id": "Md1J7rsm29lI",
        "colab_type": "code",
        "colab": {
          "base_uri": "https://localhost:8080/",
          "height": 52
        },
        "outputId": "037d38c2-e510-43bf-a14b-2a76291fb314"
      },
      "source": [
        "# Let's find the most frequent category for FirePlaceQu\n",
        "\n",
        "X_train['FireplaceQu'].mode()"
      ],
      "execution_count": 28,
      "outputs": [
        {
          "output_type": "execute_result",
          "data": {
            "text/plain": [
              "0    Gd\n",
              "dtype: object"
            ]
          },
          "metadata": {
            "tags": []
          },
          "execution_count": 28
        }
      ]
    },
    {
      "cell_type": "code",
      "metadata": {
        "id": "Jc5ifmqU29lR",
        "colab_type": "code",
        "colab": {
          "base_uri": "https://localhost:8080/",
          "height": 298
        },
        "outputId": "054817e1-6702-4541-feb5-be2422d639ca"
      },
      "source": [
        "# let's plot the distribution of the target for the houses that\n",
        "# show the most frequent category and those that show missing data\n",
        "\n",
        "fig = plt.figure()\n",
        "ax = fig.add_subplot(111)\n",
        "\n",
        "# houses with the most frequent label for FirePlaceQu\n",
        "X_train[X_train['FireplaceQu']=='Gd']['SalePrice'].plot(kind='kde', ax=ax)\n",
        "\n",
        "# houses with missing data in FirePlaceQu\n",
        "X_train[X_train['FireplaceQu'].isnull()]['SalePrice'].plot(kind='kde', ax=ax, color='red')\n",
        "\n",
        "# add the legend\n",
        "lines, labels = ax.get_legend_handles_labels()\n",
        "labels = ['Houses with Gd', 'Houses with NA']\n",
        "ax.legend(lines, labels, loc='best')\n",
        "\n",
        "plt.title('FirePlaceQu')"
      ],
      "execution_count": 30,
      "outputs": [
        {
          "output_type": "execute_result",
          "data": {
            "text/plain": [
              "Text(0.5, 1.0, 'FirePlaceQu')"
            ]
          },
          "metadata": {
            "tags": []
          },
          "execution_count": 30
        },
        {
          "output_type": "display_data",
          "data": {
            "image/png": "[encoded data removed]",
            "text/plain": [
              "<Figure size 432x288 with 1 Axes>"
            ]
          },
          "metadata": {
            "tags": []
          }
        }
      ]
    },
    {
      "cell_type": "markdown",
      "metadata": {
        "id": "4Ugrvh5C29lZ",
        "colab_type": "text"
      },
      "source": [
        "The distributions are quite different, houses with missing data cost overall less than those with the label Gd."
      ]
    },
    {
      "cell_type": "code",
      "metadata": {
        "id": "J2R_zEM629lb",
        "colab_type": "code",
        "colab": {}
      },
      "source": [
        "# I keep the original distribution of SalePrice for houses\n",
        "# that show Gd in FirePlaceQu, for later.\n",
        "\n",
        "tmp = X_train[X_train['FireplaceQu']=='Gd']['SalePrice']"
      ],
      "execution_count": 0,
      "outputs": []
    },
    {
      "cell_type": "code",
      "metadata": {
        "id": "3b0RiYWO29li",
        "colab_type": "code",
        "colab": {
          "base_uri": "https://localhost:8080/",
          "height": 124
        },
        "outputId": "11df41b1-e81b-4b8f-9438-d8801a7b3d20"
      },
      "source": [
        "# Let's fill na in both train and test\n",
        "\n",
        "X_train['FireplaceQu'].fillna('Gd', inplace=True)\n",
        "X_test['FireplaceQu'].fillna('Gd', inplace=True)"
      ],
      "execution_count": 32,
      "outputs": [
        {
          "output_type": "stream",
          "text": [
            "/usr/local/lib/python3.6/dist-packages/pandas/core/generic.py:6287: SettingWithCopyWarning: \n",
            "A value is trying to be set on a copy of a slice from a DataFrame\n",
            "\n",
            "See the caveats in the documentation: http://pandas.pydata.org/pandas-docs/stable/user_guide/indexing.html#returning-a-view-versus-a-copy\n",
            "  self._update_inplace(new_data)\n"
          ],
          "name": "stderr"
        }
      ]
    },
    {
      "cell_type": "code",
      "metadata": {
        "id": "op32MG4729lr",
        "colab_type": "code",
        "colab": {
          "base_uri": "https://localhost:8080/",
          "height": 300
        },
        "outputId": "93ca49e8-ce58-44a5-89dc-ed694ed57ec7"
      },
      "source": [
        "# let's inspect the number of observations per category\n",
        "\n",
        "X_train['FireplaceQu'].value_counts().sort_values(ascending=False).plot.bar()\n",
        "plt.xlabel('FireplaceQu')\n",
        "plt.ylabel('Number of houses')"
      ],
      "execution_count": 33,
      "outputs": [
        {
          "output_type": "execute_result",
          "data": {
            "text/plain": [
              "Text(0, 0.5, 'Number of houses')"
            ]
          },
          "metadata": {
            "tags": []
          },
          "execution_count": 33
        },
        {
          "output_type": "display_data",
          "data": {
            "image/png": "[encoded data removed]",
            "text/plain": [
              "<Figure size 432x288 with 1 Axes>"
            ]
          },
          "metadata": {
            "tags": []
          }
        }
      ]
    },
    {
      "cell_type": "markdown",
      "metadata": {
        "id": "x_9amd7U29ly",
        "colab_type": "text"
      },
      "source": [
        "In this case, we see a big distortion in the original distribution of the variable. Now we have a lot more houses that contain the variable Gd, respect to the houses that show the other variables. Originally, half of the observartions in FirePlaceQu were missing. Now, all of those values contain Gd. That is why, we observe a big increase in Gd in the bar plot. "
      ]
    },
    {
      "cell_type": "code",
      "metadata": {
        "id": "wfTlGOvB29l2",
        "colab_type": "code",
        "colab": {
          "base_uri": "https://localhost:8080/",
          "height": 298
        },
        "outputId": "7d927a86-57b3-49ff-823f-232506feb508"
      },
      "source": [
        "# let's plot the distribution of the target for the original variable\n",
        "# fand the imputed variable\n",
        "\n",
        "fig = plt.figure()\n",
        "ax = fig.add_subplot(111)\n",
        "\n",
        "# original distribution of the variable\n",
        "# remember I captured this a few cells up in the notebook\n",
        "tmp.plot(kind='kde', ax=ax)\n",
        "\n",
        "# distribution of the variable after imputation\n",
        "X_train[X_train['FireplaceQu'] == 'Gd']['SalePrice'].plot(\n",
        "    kind='kde', ax=ax, color='red')\n",
        "\n",
        "# add the legend\n",
        "lines, labels = ax.get_legend_handles_labels()\n",
        "labels = ['Original variable', 'Imputed variable']\n",
        "ax.legend(lines, labels, loc='best')\n",
        "\n",
        "plt.title('FirePlaceQu')"
      ],
      "execution_count": 35,
      "outputs": [
        {
          "output_type": "execute_result",
          "data": {
            "text/plain": [
              "Text(0.5, 1.0, 'FirePlaceQu')"
            ]
          },
          "metadata": {
            "tags": []
          },
          "execution_count": 35
        },
        {
          "output_type": "display_data",
          "data": {
            "image/png": "[encoded data removed]",
            "text/plain": [
              "<Figure size 432x288 with 1 Axes>"
            ]
          },
          "metadata": {
            "tags": []
          }
        }
      ]
    },
    {
      "cell_type": "markdown",
      "metadata": {
        "id": "UY1iVH6M29l-",
        "colab_type": "text"
      },
      "source": [
        "The average House value for the most frequent category has decreased quite dramatically after adding the house values of the NA, following re-categorisation of NA as the most frequent label.\n",
        "\n",
        "Thus, the importance of this particular label for prediction of house price, is masked or changed by the addition of missing values. \n",
        "\n",
        "In cases like this, when the percentage of missing values is so high (~50%) we are better off creating a new category to enclose the observations with NA. I will show this in the next lecture."
      ]
    },
    {
      "cell_type": "code",
      "metadata": {
        "id": "lpRzvzze29mC",
        "colab_type": "code",
        "colab": {}
      },
      "source": [
        ""
      ],
      "execution_count": 0,
      "outputs": []
    }
  ]
}
