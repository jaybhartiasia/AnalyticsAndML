{
  "nbformat": 4,
  "nbformat_minor": 0,
  "metadata": {
    "kernelspec": {
      "display_name": "Python 3",
      "language": "python",
      "name": "python3"
    },
    "language_info": {
      "codemirror_mode": {
        "name": "ipython",
        "version": 3
      },
      "file_extension": ".py",
      "mimetype": "text/x-python",
      "name": "python",
      "nbconvert_exporter": "python",
      "pygments_lexer": "ipython3",
      "version": "3.7.3"
    },
    "toc": {
      "base_numbering": 1,
      "nav_menu": {},
      "number_sections": true,
      "sideBar": true,
      "skip_h1_title": false,
      "title_cell": "Table of Contents",
      "title_sidebar": "Contents",
      "toc_cell": false,
      "toc_position": {},
      "toc_section_display": "block",
      "toc_window_display": true
    },
    "colab": {
      "name": "1.4End-Distribution-Imputation.ipynb",
      "provenance": [],
      "include_colab_link": true
    }
  },
  "cells": [
    {
      "cell_type": "markdown",
      "metadata": {
        "id": "view-in-github",
        "colab_type": "text"
      },
      "source": [
        "<a href=\"https://colab.research.google.com/github/vinay10949/AnalyticsAndML/blob/master/1_4End_Distribution_Imputation.ipynb\" target=\"_parent\"><img src=\"https://colab.research.google.com/assets/colab-badge.svg\" alt=\"Open In Colab\"/></a>"
      ]
    },
    {
      "cell_type": "markdown",
      "metadata": {
        "id": "RDoAny-gCNUT",
        "colab_type": "text"
      },
      "source": [
        "## End of distribution imputation\n",
        "\n",
        "#### How do we select the value at the end?\n",
        "\n",
        "- If the variable is normally distributed, we can use the mean plus or minus 3 times the standard deviation\n",
        "- If the variable is skewed, we can use the IQR proximity rule\n",
        "- We can also select the min / max value and multiply it by a certain amount of times, like 2 or 3.\n",
        "\n",
        "\n",
        "### Which variables can I impute with an arbitrary value?\n",
        "\n",
        "This method is suitable for numerical variables.\n",
        "\n",
        "### Assumptions\n",
        "\n",
        "- MNAR - values are not missing at random\n",
        "\n",
        "If the value is not missing at random, we don't want to replace it for the mean / median and therefore make that observation look like the majority of our observations. Instead, we want to flag that observation as different, and therefore we assign a value that is at the tail of the distribution, where observations are rarely represented in the population.\n",
        "\n",
        "\n",
        "### Advantages\n",
        "\n",
        "- Easy to implement\n",
        "- Fast way of obtaining complete datasets\n",
        "- Can be integrated in production (during model deployment)\n",
        "- Captures the importance of \"missingess\" if there is one\n",
        "\n",
        "### Disadvantages\n",
        "\n",
        "- Distortion of the original variable distribution\n",
        "- Distortion of the original variance\n",
        "- Distortion of the covariance with the remaining variables of the dataset\n",
        "- This technique may mask true outliers in the distribution\n"
      ]
    },
    {
      "cell_type": "code",
      "metadata": {
        "id": "EYuqKRBECNUc",
        "colab_type": "code",
        "colab": {}
      },
      "source": [
        "import pandas as pd\n",
        "import numpy as np\n",
        "\n",
        "import matplotlib.pyplot as plt\n",
        "import seaborn as sns\n",
        "\n",
        "# to split the datasets\n",
        "from sklearn.model_selection import train_test_split"
      ],
      "execution_count": 0,
      "outputs": []
    },
    {
      "cell_type": "code",
      "metadata": {
        "id": "h9jf55g0CNUw",
        "colab_type": "code",
        "colab": {
          "base_uri": "https://localhost:8080/",
          "height": 206
        },
        "outputId": "39a75fcc-cc69-42aa-ddf1-6aa12a56f485"
      },
      "source": [
        "# load the Titanic Dataset with a few variables for demonstration\n",
        "\n",
        "data = pd.read_csv('titanic_train.csv', usecols=['Age', 'Fare', 'Survived'])\n",
        "data.head()"
      ],
      "execution_count": 2,
      "outputs": [
        {
          "output_type": "execute_result",
          "data": {
            "text/html": [
              "<div>\n",
              "<style scoped>\n",
              "    .dataframe tbody tr th:only-of-type {\n",
              "        vertical-align: middle;\n",
              "    }\n",
              "\n",
              "    .dataframe tbody tr th {\n",
              "        vertical-align: top;\n",
              "    }\n",
              "\n",
              "    .dataframe thead th {\n",
              "        text-align: right;\n",
              "    }\n",
              "</style>\n",
              "<table border=\"1\" class=\"dataframe\">\n",
              "  <thead>\n",
              "    <tr style=\"text-align: right;\">\n",
              "      <th></th>\n",
              "      <th>Survived</th>\n",
              "      <th>Age</th>\n",
              "      <th>Fare</th>\n",
              "    </tr>\n",
              "  </thead>\n",
              "  <tbody>\n",
              "    <tr>\n",
              "      <th>0</th>\n",
              "      <td>0</td>\n",
              "      <td>22.0</td>\n",
              "      <td>7.2500</td>\n",
              "    </tr>\n",
              "    <tr>\n",
              "      <th>1</th>\n",
              "      <td>1</td>\n",
              "      <td>38.0</td>\n",
              "      <td>71.2833</td>\n",
              "    </tr>\n",
              "    <tr>\n",
              "      <th>2</th>\n",
              "      <td>1</td>\n",
              "      <td>26.0</td>\n",
              "      <td>7.9250</td>\n",
              "    </tr>\n",
              "    <tr>\n",
              "      <th>3</th>\n",
              "      <td>1</td>\n",
              "      <td>35.0</td>\n",
              "      <td>53.1000</td>\n",
              "    </tr>\n",
              "    <tr>\n",
              "      <th>4</th>\n",
              "      <td>0</td>\n",
              "      <td>35.0</td>\n",
              "      <td>8.0500</td>\n",
              "    </tr>\n",
              "  </tbody>\n",
              "</table>\n",
              "</div>"
            ],
            "text/plain": [
              "   Survived   Age     Fare\n",
              "0         0  22.0   7.2500\n",
              "1         1  38.0  71.2833\n",
              "2         1  26.0   7.9250\n",
              "3         1  35.0  53.1000\n",
              "4         0  35.0   8.0500"
            ]
          },
          "metadata": {
            "tags": []
          },
          "execution_count": 2
        }
      ]
    },
    {
      "cell_type": "code",
      "metadata": {
        "id": "E_wkRNROCNVA",
        "colab_type": "code",
        "colab": {
          "base_uri": "https://localhost:8080/",
          "height": 86
        },
        "outputId": "d408ca01-aaf8-4a66-ffd3-561fa5594837"
      },
      "source": [
        "# let's look at the percentage of NA\n",
        "\n",
        "data.isnull().mean()"
      ],
      "execution_count": 3,
      "outputs": [
        {
          "output_type": "execute_result",
          "data": {
            "text/plain": [
              "Survived    0.000000\n",
              "Age         0.198653\n",
              "Fare        0.000000\n",
              "dtype: float64"
            ]
          },
          "metadata": {
            "tags": []
          },
          "execution_count": 3
        }
      ]
    },
    {
      "cell_type": "markdown",
      "metadata": {
        "id": "eSeZz7hSCNVT",
        "colab_type": "text"
      },
      "source": [
        "### Imputation important\n",
        "\n",
        "Imputation has to be done over the training set, and then propagated to the test set. For this imputation technique, this means that when selecting the value with which we will replace the NA, we need to do so only by looking at the distribution of the variables in the training set. Then we use the selected value to replace NA both in the train and test set."
      ]
    },
    {
      "cell_type": "code",
      "metadata": {
        "id": "VvLJf53CCNVY",
        "colab_type": "code",
        "colab": {
          "base_uri": "https://localhost:8080/",
          "height": 34
        },
        "outputId": "40e6150c-e240-4d76-dec5-a55abd260c5c"
      },
      "source": [
        "# let's separate into training and testing set\n",
        "\n",
        "X_train, X_test, y_train, y_test = train_test_split(\n",
        "    data[['Age', 'Fare']],  # predictors\n",
        "    data['Survived'],  # target\n",
        "    test_size=0.3,  # percentage of obs in test set\n",
        "    random_state=0)  # seed to ensure reproducibility\n",
        "\n",
        "X_train.shape, X_test.shape"
      ],
      "execution_count": 4,
      "outputs": [
        {
          "output_type": "execute_result",
          "data": {
            "text/plain": [
              "((623, 2), (268, 2))"
            ]
          },
          "metadata": {
            "tags": []
          },
          "execution_count": 4
        }
      ]
    },
    {
      "cell_type": "code",
      "metadata": {
        "id": "6UjOjEanCNVo",
        "colab_type": "code",
        "colab": {
          "base_uri": "https://localhost:8080/",
          "height": 282
        },
        "outputId": "2205047e-5e21-4e02-efad-b295520b0a69"
      },
      "source": [
        "# let's have a look at the distribution of Ages\n",
        "X_train.Age.hist(bins=50)"
      ],
      "execution_count": 6,
      "outputs": [
        {
          "output_type": "execute_result",
          "data": {
            "text/plain": [
              "<matplotlib.axes._subplots.AxesSubplot at 0x7f14e8c8f048>"
            ]
          },
          "metadata": {
            "tags": []
          },
          "execution_count": 6
        },
        {
          "output_type": "display_data",
          "data": {
            "image/png": "[encoded data removed]",
            "text/plain": [
              "<Figure size 432x288 with 1 Axes>"
            ]
          },
          "metadata": {
            "tags": []
          }
        }
      ]
    },
    {
      "cell_type": "code",
      "metadata": {
        "id": "f_g6w97_CNV8",
        "colab_type": "code",
        "colab": {}
      },
      "source": [
        "# let's make a function to fill missing values with an extreme value:\n",
        "# the variable takes the dataframe, the variable, and the value to replace na\n",
        "\n",
        "# and returns the variable with the filled na\n",
        "\n",
        "def impute_na(df, variable, value):\n",
        "\n",
        "    return df[variable].fillna(value)"
      ],
      "execution_count": 0,
      "outputs": []
    },
    {
      "cell_type": "code",
      "metadata": {
        "id": "B5hCSnJcCNWF",
        "colab_type": "code",
        "colab": {
          "base_uri": "https://localhost:8080/",
          "height": 34
        },
        "outputId": "a3ca0b2c-2c12-4e08-dbd9-79772ce461a9"
      },
      "source": [
        "# far end of the distribution:\n",
        "\n",
        "# Because Age looks approximately Gaussian, I use the\n",
        "# mean and std to calculate the replacement value\n",
        "\n",
        "X_train.Age.mean() + 3 * X_train.Age.std()"
      ],
      "execution_count": 8,
      "outputs": [
        {
          "output_type": "execute_result",
          "data": {
            "text/plain": [
              "73.43632005918366"
            ]
          },
          "metadata": {
            "tags": []
          },
          "execution_count": 8
        }
      ]
    },
    {
      "cell_type": "code",
      "metadata": {
        "id": "aVyJE5hGCNWR",
        "colab_type": "code",
        "colab": {
          "base_uri": "https://localhost:8080/",
          "height": 520
        },
        "outputId": "bbb79925-978e-416a-ea90-907f76a52ece"
      },
      "source": [
        "# replace NA with the value calculated above\n",
        "\n",
        "X_train['Age_imputed'] = impute_na(X_train, 'Age',\n",
        "                                   X_train.Age.mean() + 3 * X_train.Age.std())\n",
        "\n",
        "X_train.head(15)"
      ],
      "execution_count": 12,
      "outputs": [
        {
          "output_type": "execute_result",
          "data": {
            "text/html": [
              "<div>\n",
              "<style scoped>\n",
              "    .dataframe tbody tr th:only-of-type {\n",
              "        vertical-align: middle;\n",
              "    }\n",
              "\n",
              "    .dataframe tbody tr th {\n",
              "        vertical-align: top;\n",
              "    }\n",
              "\n",
              "    .dataframe thead th {\n",
              "        text-align: right;\n",
              "    }\n",
              "</style>\n",
              "<table border=\"1\" class=\"dataframe\">\n",
              "  <thead>\n",
              "    <tr style=\"text-align: right;\">\n",
              "      <th></th>\n",
              "      <th>Age</th>\n",
              "      <th>Fare</th>\n",
              "      <th>Age_imputed</th>\n",
              "    </tr>\n",
              "  </thead>\n",
              "  <tbody>\n",
              "    <tr>\n",
              "      <th>857</th>\n",
              "      <td>51.0</td>\n",
              "      <td>26.5500</td>\n",
              "      <td>51.00000</td>\n",
              "    </tr>\n",
              "    <tr>\n",
              "      <th>52</th>\n",
              "      <td>49.0</td>\n",
              "      <td>76.7292</td>\n",
              "      <td>49.00000</td>\n",
              "    </tr>\n",
              "    <tr>\n",
              "      <th>386</th>\n",
              "      <td>1.0</td>\n",
              "      <td>46.9000</td>\n",
              "      <td>1.00000</td>\n",
              "    </tr>\n",
              "    <tr>\n",
              "      <th>124</th>\n",
              "      <td>54.0</td>\n",
              "      <td>77.2875</td>\n",
              "      <td>54.00000</td>\n",
              "    </tr>\n",
              "    <tr>\n",
              "      <th>578</th>\n",
              "      <td>NaN</td>\n",
              "      <td>14.4583</td>\n",
              "      <td>73.43632</td>\n",
              "    </tr>\n",
              "    <tr>\n",
              "      <th>549</th>\n",
              "      <td>8.0</td>\n",
              "      <td>36.7500</td>\n",
              "      <td>8.00000</td>\n",
              "    </tr>\n",
              "    <tr>\n",
              "      <th>118</th>\n",
              "      <td>24.0</td>\n",
              "      <td>247.5208</td>\n",
              "      <td>24.00000</td>\n",
              "    </tr>\n",
              "    <tr>\n",
              "      <th>12</th>\n",
              "      <td>20.0</td>\n",
              "      <td>8.0500</td>\n",
              "      <td>20.00000</td>\n",
              "    </tr>\n",
              "    <tr>\n",
              "      <th>157</th>\n",
              "      <td>30.0</td>\n",
              "      <td>8.0500</td>\n",
              "      <td>30.00000</td>\n",
              "    </tr>\n",
              "    <tr>\n",
              "      <th>127</th>\n",
              "      <td>24.0</td>\n",
              "      <td>7.1417</td>\n",
              "      <td>24.00000</td>\n",
              "    </tr>\n",
              "    <tr>\n",
              "      <th>653</th>\n",
              "      <td>NaN</td>\n",
              "      <td>7.8292</td>\n",
              "      <td>73.43632</td>\n",
              "    </tr>\n",
              "    <tr>\n",
              "      <th>235</th>\n",
              "      <td>NaN</td>\n",
              "      <td>7.5500</td>\n",
              "      <td>73.43632</td>\n",
              "    </tr>\n",
              "    <tr>\n",
              "      <th>785</th>\n",
              "      <td>25.0</td>\n",
              "      <td>7.2500</td>\n",
              "      <td>25.00000</td>\n",
              "    </tr>\n",
              "    <tr>\n",
              "      <th>241</th>\n",
              "      <td>NaN</td>\n",
              "      <td>15.5000</td>\n",
              "      <td>73.43632</td>\n",
              "    </tr>\n",
              "    <tr>\n",
              "      <th>351</th>\n",
              "      <td>NaN</td>\n",
              "      <td>35.0000</td>\n",
              "      <td>73.43632</td>\n",
              "    </tr>\n",
              "  </tbody>\n",
              "</table>\n",
              "</div>"
            ],
            "text/plain": [
              "      Age      Fare  Age_imputed\n",
              "857  51.0   26.5500     51.00000\n",
              "52   49.0   76.7292     49.00000\n",
              "386   1.0   46.9000      1.00000\n",
              "124  54.0   77.2875     54.00000\n",
              "578   NaN   14.4583     73.43632\n",
              "549   8.0   36.7500      8.00000\n",
              "118  24.0  247.5208     24.00000\n",
              "12   20.0    8.0500     20.00000\n",
              "157  30.0    8.0500     30.00000\n",
              "127  24.0    7.1417     24.00000\n",
              "653   NaN    7.8292     73.43632\n",
              "235   NaN    7.5500     73.43632\n",
              "785  25.0    7.2500     25.00000\n",
              "241   NaN   15.5000     73.43632\n",
              "351   NaN   35.0000     73.43632"
            ]
          },
          "metadata": {
            "tags": []
          },
          "execution_count": 12
        }
      ]
    },
    {
      "cell_type": "markdown",
      "metadata": {
        "id": "0BYY2PI7CNWb",
        "colab_type": "text"
      },
      "source": [
        "Look at the rows with missing data (NaN) in Age, and see how in the new variable they were replaced by 73.436."
      ]
    },
    {
      "cell_type": "code",
      "metadata": {
        "id": "cZS1uDhLCNWf",
        "colab_type": "code",
        "colab": {
          "base_uri": "https://localhost:8080/",
          "height": 52
        },
        "outputId": "5cfedfaa-8bb9-42a3-e8ce-0410c883db1e"
      },
      "source": [
        "# we can see a change in the variance after end of tail imputation\n",
        "# this is expected, because the percentage of missing data is quite\n",
        "# high in Age ~20%\n",
        "\n",
        "print('Original variable variance: ', X_train['Age'].var())\n",
        "print('Variance after 99 imputation: ', X_train['Age_imputed'].var())"
      ],
      "execution_count": 13,
      "outputs": [
        {
          "output_type": "stream",
          "text": [
            "Original variable variance:  210.45286924636747\n",
            "Variance after 99 imputation:  466.4111899213168\n"
          ],
          "name": "stdout"
        }
      ]
    },
    {
      "cell_type": "code",
      "metadata": {
        "id": "iZZRHioGCNWp",
        "colab_type": "code",
        "colab": {
          "base_uri": "https://localhost:8080/",
          "height": 282
        },
        "outputId": "d4ec0516-7502-465a-ccca-4b9042784e30"
      },
      "source": [
        "# we can see that the distribution has changed \n",
        "# with now more values accumulating towards the tail\n",
        "\n",
        "fig = plt.figure()\n",
        "ax = fig.add_subplot(111)\n",
        "\n",
        "# original variable distribution\n",
        "X_train['Age'].plot(kind='kde', ax=ax)\n",
        "\n",
        "# imputed variable\n",
        "X_train['Age_imputed'].plot(kind='kde', ax=ax, color='red')\n",
        "\n",
        "# add legends\n",
        "lines, labels = ax.get_legend_handles_labels()\n",
        "ax.legend(lines, labels, loc='best')"
      ],
      "execution_count": 14,
      "outputs": [
        {
          "output_type": "execute_result",
          "data": {
            "text/plain": [
              "<matplotlib.legend.Legend at 0x7f14e86d6c50>"
            ]
          },
          "metadata": {
            "tags": []
          },
          "execution_count": 14
        },
        {
          "output_type": "display_data",
          "data": {
            "image/png": "[encoded data removed]",
            "text/plain": [
              "<Figure size 432x288 with 1 Axes>"
            ]
          },
          "metadata": {
            "tags": []
          }
        }
      ]
    },
    {
      "cell_type": "markdown",
      "metadata": {
        "id": "ndFm4_tTCNW2",
        "colab_type": "text"
      },
      "source": [
        "As mentioned above, similarly to arbitrary value imputation, end of tail imputation distorts the original distribution of the variable Age. The transformed variable shows more values around selected tail value.\n",
        "\n",
        "**Is this important?**\n",
        "\n",
        "It depends on the machine learning model you want to build. Linear models assume that the variables are normally distributed. End of tail imputation may distort the original normal distribution if the % of missing data is high. Therefore the final imputed variable will no longer be normally distributed, which in turn may affect the linear model performance.\n",
        "\n",
        "On the other hand, this technique works quite well with tree based algorithms."
      ]
    },
    {
      "cell_type": "code",
      "metadata": {
        "id": "hv8923-TCNW5",
        "colab_type": "code",
        "colab": {
          "base_uri": "https://localhost:8080/",
          "height": 143
        },
        "outputId": "b674b19c-6216-4e6a-d352-c3a4825da9f4"
      },
      "source": [
        "# we also said end of tail imputation may affect the relationship \n",
        "# with the other variables in the dataset, let's have a look\n",
        "\n",
        "X_train[['Fare', 'Age', 'Age_imputed']].cov()"
      ],
      "execution_count": 16,
      "outputs": [
        {
          "output_type": "execute_result",
          "data": {
            "text/html": [
              "<div>\n",
              "<style scoped>\n",
              "    .dataframe tbody tr th:only-of-type {\n",
              "        vertical-align: middle;\n",
              "    }\n",
              "\n",
              "    .dataframe tbody tr th {\n",
              "        vertical-align: top;\n",
              "    }\n",
              "\n",
              "    .dataframe thead th {\n",
              "        text-align: right;\n",
              "    }\n",
              "</style>\n",
              "<table border=\"1\" class=\"dataframe\">\n",
              "  <thead>\n",
              "    <tr style=\"text-align: right;\">\n",
              "      <th></th>\n",
              "      <th>Fare</th>\n",
              "      <th>Age</th>\n",
              "      <th>Age_imputed</th>\n",
              "    </tr>\n",
              "  </thead>\n",
              "  <tbody>\n",
              "    <tr>\n",
              "      <th>Fare</th>\n",
              "      <td>2328.801583</td>\n",
              "      <td>78.468894</td>\n",
              "      <td>-7.185565</td>\n",
              "    </tr>\n",
              "    <tr>\n",
              "      <th>Age</th>\n",
              "      <td>78.468894</td>\n",
              "      <td>210.452869</td>\n",
              "      <td>210.452869</td>\n",
              "    </tr>\n",
              "    <tr>\n",
              "      <th>Age_imputed</th>\n",
              "      <td>-7.185565</td>\n",
              "      <td>210.452869</td>\n",
              "      <td>466.411190</td>\n",
              "    </tr>\n",
              "  </tbody>\n",
              "</table>\n",
              "</div>"
            ],
            "text/plain": [
              "                    Fare         Age  Age_imputed\n",
              "Fare         2328.801583   78.468894    -7.185565\n",
              "Age            78.468894  210.452869   210.452869\n",
              "Age_imputed    -7.185565  210.452869   466.411190"
            ]
          },
          "metadata": {
            "tags": []
          },
          "execution_count": 16
        }
      ]
    },
    {
      "cell_type": "markdown",
      "metadata": {
        "id": "JEPJlQQUCNXD",
        "colab_type": "text"
      },
      "source": [
        "We see indeed that the covariance between Age and Fare is changed after the arbitrary value imputation."
      ]
    },
    {
      "cell_type": "code",
      "metadata": {
        "id": "TCZg9vwxCNXH",
        "colab_type": "code",
        "colab": {
          "base_uri": "https://localhost:8080/",
          "height": 283
        },
        "outputId": "b22b56c6-98b7-4532-fcd1-51f51c9dea93"
      },
      "source": [
        "# Finally, I mentioned that end tail imputation may\n",
        "# affect the perception of outliers\n",
        "\n",
        "# Let's find out using a boxplot\n",
        "X_train[['Age', 'Age_imputed']].boxplot()"
      ],
      "execution_count": 17,
      "outputs": [
        {
          "output_type": "execute_result",
          "data": {
            "text/plain": [
              "<matplotlib.axes._subplots.AxesSubplot at 0x7f14e8634cc0>"
            ]
          },
          "metadata": {
            "tags": []
          },
          "execution_count": 17
        },
        {
          "output_type": "display_data",
          "data": {
            "image/png": "[encoded data removed]",
            "text/plain": [
              "<Figure size 432x288 with 1 Axes>"
            ]
          },
          "metadata": {
            "tags": []
          }
        }
      ]
    },
    {
      "cell_type": "markdown",
      "metadata": {
        "id": "GHZtRNEJCNXQ",
        "colab_type": "text"
      },
      "source": [
        "Masks the outliers!!"
      ]
    },
    {
      "cell_type": "markdown",
      "metadata": {
        "id": "pKCqWlVUCNXS",
        "colab_type": "text"
      },
      "source": [
        "## House Prices Dataset\n",
        "\n",
        "Let's repeat the exercise in the House Prices dataset. In this dataset, there are variables with a lot or few missing data. Therefore we can compare the effect of end tail imputation in both scenarios."
      ]
    },
    {
      "cell_type": "code",
      "metadata": {
        "id": "0cAzQ-iGCNXW",
        "colab_type": "code",
        "colab": {}
      },
      "source": [
        "# we are going to use only the following variables,\n",
        "# 3 of which contain NA\n",
        "\n",
        "cols_to_use = [\n",
        "    'OverallQual', 'TotalBsmtSF', '1stFlrSF', 'GrLivArea', 'WoodDeckSF',\n",
        "    'BsmtUnfSF', 'LotFrontage', 'MasVnrArea', 'GarageYrBlt', 'SalePrice'\n",
        "]"
      ],
      "execution_count": 0,
      "outputs": []
    },
    {
      "cell_type": "code",
      "metadata": {
        "id": "-VwKpcIMCNXf",
        "colab_type": "code",
        "colab": {
          "base_uri": "https://localhost:8080/",
          "height": 244
        },
        "outputId": "68e65d05-6c49-47ff-a009-1706b656a5bd"
      },
      "source": [
        "# let's load the House Prices dataset\n",
        "\n",
        "data = pd.read_csv('houseprice_train.csv', usecols=cols_to_use)\n",
        "print(data.shape)\n",
        "data.head()"
      ],
      "execution_count": 20,
      "outputs": [
        {
          "output_type": "stream",
          "text": [
            "(1460, 10)\n"
          ],
          "name": "stdout"
        },
        {
          "output_type": "execute_result",
          "data": {
            "text/html": [
              "<div>\n",
              "<style scoped>\n",
              "    .dataframe tbody tr th:only-of-type {\n",
              "        vertical-align: middle;\n",
              "    }\n",
              "\n",
              "    .dataframe tbody tr th {\n",
              "        vertical-align: top;\n",
              "    }\n",
              "\n",
              "    .dataframe thead th {\n",
              "        text-align: right;\n",
              "    }\n",
              "</style>\n",
              "<table border=\"1\" class=\"dataframe\">\n",
              "  <thead>\n",
              "    <tr style=\"text-align: right;\">\n",
              "      <th></th>\n",
              "      <th>LotFrontage</th>\n",
              "      <th>OverallQual</th>\n",
              "      <th>MasVnrArea</th>\n",
              "      <th>BsmtUnfSF</th>\n",
              "      <th>TotalBsmtSF</th>\n",
              "      <th>1stFlrSF</th>\n",
              "      <th>GrLivArea</th>\n",
              "      <th>GarageYrBlt</th>\n",
              "      <th>WoodDeckSF</th>\n",
              "      <th>SalePrice</th>\n",
              "    </tr>\n",
              "  </thead>\n",
              "  <tbody>\n",
              "    <tr>\n",
              "      <th>0</th>\n",
              "      <td>65.0</td>\n",
              "      <td>7</td>\n",
              "      <td>196.0</td>\n",
              "      <td>150</td>\n",
              "      <td>856</td>\n",
              "      <td>856</td>\n",
              "      <td>1710</td>\n",
              "      <td>2003.0</td>\n",
              "      <td>0</td>\n",
              "      <td>208500</td>\n",
              "    </tr>\n",
              "    <tr>\n",
              "      <th>1</th>\n",
              "      <td>80.0</td>\n",
              "      <td>6</td>\n",
              "      <td>0.0</td>\n",
              "      <td>284</td>\n",
              "      <td>1262</td>\n",
              "      <td>1262</td>\n",
              "      <td>1262</td>\n",
              "      <td>1976.0</td>\n",
              "      <td>298</td>\n",
              "      <td>181500</td>\n",
              "    </tr>\n",
              "    <tr>\n",
              "      <th>2</th>\n",
              "      <td>68.0</td>\n",
              "      <td>7</td>\n",
              "      <td>162.0</td>\n",
              "      <td>434</td>\n",
              "      <td>920</td>\n",
              "      <td>920</td>\n",
              "      <td>1786</td>\n",
              "      <td>2001.0</td>\n",
              "      <td>0</td>\n",
              "      <td>223500</td>\n",
              "    </tr>\n",
              "    <tr>\n",
              "      <th>3</th>\n",
              "      <td>60.0</td>\n",
              "      <td>7</td>\n",
              "      <td>0.0</td>\n",
              "      <td>540</td>\n",
              "      <td>756</td>\n",
              "      <td>961</td>\n",
              "      <td>1717</td>\n",
              "      <td>1998.0</td>\n",
              "      <td>0</td>\n",
              "      <td>140000</td>\n",
              "    </tr>\n",
              "    <tr>\n",
              "      <th>4</th>\n",
              "      <td>84.0</td>\n",
              "      <td>8</td>\n",
              "      <td>350.0</td>\n",
              "      <td>490</td>\n",
              "      <td>1145</td>\n",
              "      <td>1145</td>\n",
              "      <td>2198</td>\n",
              "      <td>2000.0</td>\n",
              "      <td>192</td>\n",
              "      <td>250000</td>\n",
              "    </tr>\n",
              "  </tbody>\n",
              "</table>\n",
              "</div>"
            ],
            "text/plain": [
              "   LotFrontage  OverallQual  MasVnrArea  ...  GarageYrBlt  WoodDeckSF  SalePrice\n",
              "0         65.0            7       196.0  ...       2003.0           0     208500\n",
              "1         80.0            6         0.0  ...       1976.0         298     181500\n",
              "2         68.0            7       162.0  ...       2001.0           0     223500\n",
              "3         60.0            7         0.0  ...       1998.0           0     140000\n",
              "4         84.0            8       350.0  ...       2000.0         192     250000\n",
              "\n",
              "[5 rows x 10 columns]"
            ]
          },
          "metadata": {
            "tags": []
          },
          "execution_count": 20
        }
      ]
    },
    {
      "cell_type": "code",
      "metadata": {
        "id": "lKIOglmkCNXo",
        "colab_type": "code",
        "colab": {
          "base_uri": "https://localhost:8080/",
          "height": 34
        },
        "outputId": "e675f421-e3ec-44a4-9842-5e4d42fedc7f"
      },
      "source": [
        "# in the next list comprehension, I loop over all the columns \n",
        "# of the dataset and select those that contain missing data\n",
        "\n",
        "[var for var in data.columns if data[var].isnull().sum()>0]"
      ],
      "execution_count": 21,
      "outputs": [
        {
          "output_type": "execute_result",
          "data": {
            "text/plain": [
              "['LotFrontage', 'MasVnrArea', 'GarageYrBlt']"
            ]
          },
          "metadata": {
            "tags": []
          },
          "execution_count": 21
        }
      ]
    },
    {
      "cell_type": "code",
      "metadata": {
        "id": "UWYTBrxCCNXx",
        "colab_type": "code",
        "colab": {
          "base_uri": "https://localhost:8080/",
          "height": 86
        },
        "outputId": "49989b9e-37ac-4add-8794-761c0e139242"
      },
      "source": [
        "# find the percentage of missing data within those variables\n",
        "# same code as we learnt in section 3 on variable characteristics\n",
        "\n",
        "data[['LotFrontage', 'MasVnrArea', 'GarageYrBlt']].isnull().mean()"
      ],
      "execution_count": 22,
      "outputs": [
        {
          "output_type": "execute_result",
          "data": {
            "text/plain": [
              "LotFrontage    0.177397\n",
              "MasVnrArea     0.005479\n",
              "GarageYrBlt    0.055479\n",
              "dtype: float64"
            ]
          },
          "metadata": {
            "tags": []
          },
          "execution_count": 22
        }
      ]
    },
    {
      "cell_type": "code",
      "metadata": {
        "scrolled": false,
        "id": "4SIaLX2HCNX3",
        "colab_type": "code",
        "colab": {
          "base_uri": "https://localhost:8080/",
          "height": 34
        },
        "outputId": "7730f041-14d8-4a88-c90d-bc0a6dd20817"
      },
      "source": [
        "# let's separate into training and testing set\n",
        "\n",
        "X_train, X_test, y_train, y_test = train_test_split(data,\n",
        "                                                    data['SalePrice'],\n",
        "                                                    test_size=0.3,\n",
        "                                                    random_state=0)\n",
        "X_train.shape, X_test.shape"
      ],
      "execution_count": 23,
      "outputs": [
        {
          "output_type": "execute_result",
          "data": {
            "text/plain": [
              "((1022, 10), (438, 10))"
            ]
          },
          "metadata": {
            "tags": []
          },
          "execution_count": 23
        }
      ]
    },
    {
      "cell_type": "code",
      "metadata": {
        "id": "TaTlvnSqCNX_",
        "colab_type": "code",
        "colab": {
          "base_uri": "https://localhost:8080/",
          "height": 608
        },
        "outputId": "31c2f401-495e-455f-ca09-f1e94b7e10d2"
      },
      "source": [
        "# let's plot the distributions of the variables\n",
        "# we learnt this code in section 3 on variable characteristics\n",
        "\n",
        "X_train[['LotFrontage', 'MasVnrArea', 'GarageYrBlt']].hist(bins=50, figsize=(10,10))\n",
        "plt.show()"
      ],
      "execution_count": 24,
      "outputs": [
        {
          "output_type": "display_data",
          "data": {
            "image/png": "[encoded data removed]",
            "text/plain": [
              "<Figure size 720x720 with 4 Axes>"
            ]
          },
          "metadata": {
            "tags": []
          }
        }
      ]
    },
    {
      "cell_type": "code",
      "metadata": {
        "id": "hUDR-UHACNYH",
        "colab_type": "code",
        "colab": {
          "base_uri": "https://localhost:8080/",
          "height": 34
        },
        "outputId": "439dbabd-77e8-4b8a-840d-8b5a38537a3f"
      },
      "source": [
        "# the variables are not normally distributed\n",
        "\n",
        "# let's impute the NA using the IQR proximity rule, which we learnt\n",
        "# in the lecture on outliers in section 3\n",
        "\n",
        "# calulate the IQR\n",
        "IQR = X_train['LotFrontage'].quantile(0.75) - X_train['LotFrontage'].quantile(\n",
        "    0.25)\n",
        "\n",
        "# calculate the upper boundary\n",
        "extreme_value = X_train['LotFrontage'].quantile(0.75) + 3 * IQR\n",
        "\n",
        "extreme_value"
      ],
      "execution_count": 25,
      "outputs": [
        {
          "output_type": "execute_result",
          "data": {
            "text/plain": [
              "146.0"
            ]
          },
          "metadata": {
            "tags": []
          },
          "execution_count": 25
        }
      ]
    },
    {
      "cell_type": "code",
      "metadata": {
        "id": "xqOm2Bz0CNYQ",
        "colab_type": "code",
        "colab": {
          "base_uri": "https://localhost:8080/",
          "height": 245
        },
        "outputId": "09f8871e-9ce4-48c6-a347-1fddf6397a4b"
      },
      "source": [
        "# let's impute the NA with the extreme value\n",
        "\n",
        "X_train.loc[:,'LotFrontage_imputed'] = impute_na(X_train, 'LotFrontage', extreme_value)\n",
        "X_test.loc[:,'LotFrontage_imputed'] = impute_na(X_test, 'LotFrontage', extreme_value)"
      ],
      "execution_count": 26,
      "outputs": [
        {
          "output_type": "stream",
          "text": [
            "/usr/local/lib/python3.6/dist-packages/pandas/core/indexing.py:376: SettingWithCopyWarning: \n",
            "A value is trying to be set on a copy of a slice from a DataFrame.\n",
            "Try using .loc[row_indexer,col_indexer] = value instead\n",
            "\n",
            "See the caveats in the documentation: http://pandas.pydata.org/pandas-docs/stable/user_guide/indexing.html#returning-a-view-versus-a-copy\n",
            "  self.obj[key] = _infer_fill_value(value)\n",
            "/usr/local/lib/python3.6/dist-packages/pandas/core/indexing.py:494: SettingWithCopyWarning: \n",
            "A value is trying to be set on a copy of a slice from a DataFrame.\n",
            "Try using .loc[row_indexer,col_indexer] = value instead\n",
            "\n",
            "See the caveats in the documentation: http://pandas.pydata.org/pandas-docs/stable/user_guide/indexing.html#returning-a-view-versus-a-copy\n",
            "  self.obj[item] = s\n"
          ],
          "name": "stderr"
        }
      ]
    },
    {
      "cell_type": "code",
      "metadata": {
        "id": "RAkEnE2eCNYX",
        "colab_type": "code",
        "colab": {
          "base_uri": "https://localhost:8080/",
          "height": 34
        },
        "outputId": "3809dec6-b80c-4d62-8d7d-57d4e8be075b"
      },
      "source": [
        "# let's do the same for MasVnrArea\n",
        "\n",
        "# calculate the IQR\n",
        "IQR = X_train['MasVnrArea'].quantile(0.75) - X_train['MasVnrArea'].quantile(\n",
        "    0.25)\n",
        "\n",
        "# calculate the upper boundary\n",
        "extreme_value = X_train['MasVnrArea'].quantile(0.75) + 3 * IQR\n",
        "\n",
        "extreme_value"
      ],
      "execution_count": 27,
      "outputs": [
        {
          "output_type": "execute_result",
          "data": {
            "text/plain": [
              "680.0"
            ]
          },
          "metadata": {
            "tags": []
          },
          "execution_count": 27
        }
      ]
    },
    {
      "cell_type": "code",
      "metadata": {
        "id": "YIp_7HhuCNYg",
        "colab_type": "code",
        "colab": {
          "base_uri": "https://localhost:8080/",
          "height": 245
        },
        "outputId": "c518348d-2ecc-4ea4-d9cc-f10dde39baeb"
      },
      "source": [
        "# let's impute the NA with the extreme value\n",
        "\n",
        "X_train.loc[:,'MasVnrArea_imputed'] = impute_na(X_train, 'MasVnrArea', extreme_value)\n",
        "X_test.loc[:,'MasVnrArea_imputed'] = impute_na(X_test, 'MasVnrArea', extreme_value)"
      ],
      "execution_count": 34,
      "outputs": [
        {
          "output_type": "stream",
          "text": [
            "/usr/local/lib/python3.6/dist-packages/pandas/core/indexing.py:376: SettingWithCopyWarning: \n",
            "A value is trying to be set on a copy of a slice from a DataFrame.\n",
            "Try using .loc[row_indexer,col_indexer] = value instead\n",
            "\n",
            "See the caveats in the documentation: http://pandas.pydata.org/pandas-docs/stable/user_guide/indexing.html#returning-a-view-versus-a-copy\n",
            "  self.obj[key] = _infer_fill_value(value)\n",
            "/usr/local/lib/python3.6/dist-packages/pandas/core/indexing.py:494: SettingWithCopyWarning: \n",
            "A value is trying to be set on a copy of a slice from a DataFrame.\n",
            "Try using .loc[row_indexer,col_indexer] = value instead\n",
            "\n",
            "See the caveats in the documentation: http://pandas.pydata.org/pandas-docs/stable/user_guide/indexing.html#returning-a-view-versus-a-copy\n",
            "  self.obj[item] = s\n"
          ],
          "name": "stderr"
        }
      ]
    },
    {
      "cell_type": "code",
      "metadata": {
        "id": "ehzUTAwyCNYm",
        "colab_type": "code",
        "colab": {
          "base_uri": "https://localhost:8080/",
          "height": 282
        },
        "outputId": "3184c488-7209-4de8-d6f7-0442835a73f3"
      },
      "source": [
        "# let's evaluate the effect of end tail imputation on the distribution\n",
        "\n",
        "# we can see that the distribution has changed for LotFrontAge\n",
        "# with now more values accumulating towards the extreme value\n",
        "\n",
        "fig = plt.figure()\n",
        "ax = fig.add_subplot(111)\n",
        "\n",
        "# original variable distribution\n",
        "X_train['LotFrontage'].plot(kind='kde', ax=ax)\n",
        "\n",
        "# imputed variable\n",
        "X_train['LotFrontage_imputed'].plot(kind='kde', ax=ax, color='red')\n",
        "\n",
        "# add legends\n",
        "lines, labels = ax.get_legend_handles_labels()\n",
        "ax.legend(lines, labels, loc='best')"
      ],
      "execution_count": 30,
      "outputs": [
        {
          "output_type": "execute_result",
          "data": {
            "text/plain": [
              "<matplotlib.legend.Legend at 0x7f14e7fffb38>"
            ]
          },
          "metadata": {
            "tags": []
          },
          "execution_count": 30
        },
        {
          "output_type": "display_data",
          "data": {
            "image/png": "[encoded data removed]",
            "text/plain": [
              "<Figure size 432x288 with 1 Axes>"
            ]
          },
          "metadata": {
            "tags": []
          }
        }
      ]
    },
    {
      "cell_type": "code",
      "metadata": {
        "id": "gwhR4oMhCNYs",
        "colab_type": "code",
        "colab": {
          "base_uri": "https://localhost:8080/",
          "height": 282
        },
        "outputId": "a7a18a5b-9098-4ee6-eb18-89c8ce7832f6"
      },
      "source": [
        "# let's evaluate the effect of arbitrary imputation on the distribution\n",
        "\n",
        "# MasVnrArea had only few outliers, so the change in the distribution is\n",
        "# not so dramatic. Less than when using an arbitrary value of 2999 as\n",
        "# we did in the previous notebook\n",
        "\n",
        "fig = plt.figure()\n",
        "ax = fig.add_subplot(111)\n",
        "\n",
        "# original variable distribution\n",
        "X_train['MasVnrArea'].plot(kind='kde', ax=ax)\n",
        "\n",
        "# imputed variable\n",
        "X_train['MasVnrArea_imputed'].plot(kind='kde', ax=ax, color='red')\n",
        "\n",
        "# add legends\n",
        "lines, labels = ax.get_legend_handles_labels()\n",
        "ax.legend(lines, labels, loc='best')"
      ],
      "execution_count": 36,
      "outputs": [
        {
          "output_type": "execute_result",
          "data": {
            "text/plain": [
              "<matplotlib.legend.Legend at 0x7f14e8744ba8>"
            ]
          },
          "metadata": {
            "tags": []
          },
          "execution_count": 36
        },
        {
          "output_type": "display_data",
          "data": {
            "image/png": "[encoded data removed]",
            "text/plain": [
              "<Figure size 432x288 with 1 Axes>"
            ]
          },
          "metadata": {
            "tags": []
          }
        }
      ]
    },
    {
      "cell_type": "markdown",
      "metadata": {
        "collapsed": true,
        "id": "SpnwPHVTCNYz",
        "colab_type": "text"
      },
      "source": [
        "From the above plots we can see that the distribution of LotFrontAge is changed quite dramatically, but not so much the distribution of MasVnrArea. This is because the % of missing values in the second variable is quite small."
      ]
    },
    {
      "cell_type": "code",
      "metadata": {
        "id": "kCJeizU9CNY0",
        "colab_type": "code",
        "colab": {
          "base_uri": "https://localhost:8080/",
          "height": 283
        },
        "outputId": "c72964b1-edd9-414d-8393-80e4d18362a5"
      },
      "source": [
        "# we see that there are a fewer outliers as well after the imputation\n",
        "\n",
        "X_train[['LotFrontage', 'LotFrontage_imputed']].boxplot()"
      ],
      "execution_count": 32,
      "outputs": [
        {
          "output_type": "execute_result",
          "data": {
            "text/plain": [
              "<matplotlib.axes._subplots.AxesSubplot at 0x7f14e7f3c668>"
            ]
          },
          "metadata": {
            "tags": []
          },
          "execution_count": 32
        },
        {
          "output_type": "display_data",
          "data": {
            "image/png": "[encoded data removed]",
            "text/plain": [
              "<Figure size 432x288 with 1 Axes>"
            ]
          },
          "metadata": {
            "tags": []
          }
        }
      ]
    },
    {
      "cell_type": "code",
      "metadata": {
        "id": "Ing5j3BvCNY8",
        "colab_type": "code",
        "colab": {
          "base_uri": "https://localhost:8080/",
          "height": 283
        },
        "outputId": "a55f2b3b-d504-4bc0-d63d-ae9138092644"
      },
      "source": [
        "# however, the outliers are not so affected for MasVnrArea\n",
        "\n",
        "X_train[['MasVnrArea', 'MasVnrArea_imputed']].boxplot()"
      ],
      "execution_count": 37,
      "outputs": [
        {
          "output_type": "execute_result",
          "data": {
            "text/plain": [
              "<matplotlib.axes._subplots.AxesSubplot at 0x7f14e81d5588>"
            ]
          },
          "metadata": {
            "tags": []
          },
          "execution_count": 37
        },
        {
          "output_type": "display_data",
          "data": {
            "image/png": "[encoded data removed]",
            "text/plain": [
              "<Figure size 432x288 with 1 Axes>"
            ]
          },
          "metadata": {
            "tags": []
          }
        }
      ]
    },
    {
      "cell_type": "code",
      "metadata": {
        "id": "68C7gvNBCNZF",
        "colab_type": "code",
        "colab": {
          "base_uri": "https://localhost:8080/",
          "height": 52
        },
        "outputId": "ef4bba10-1a8c-40d2-dfca-f4f1d75c31fe"
      },
      "source": [
        "# similarly we can explore the effect of the imputation technique on \n",
        "# the variance\n",
        "\n",
        "# we can see a change in the variance after imputation for LotFrontAge\n",
        "# this is expected, because the percentage of missing data is quite\n",
        "# high ~20%\n",
        "\n",
        "print('Original Variance: ', X_train['LotFrontage'].var())\n",
        "print('Variance after imputation: ', X_train['LotFrontage_imputed'].var())"
      ],
      "execution_count": 39,
      "outputs": [
        {
          "output_type": "stream",
          "text": [
            "Original Variance:  532.5872021885676\n",
            "Variance after imputation:  1313.0936747097685\n"
          ],
          "name": "stdout"
        }
      ]
    },
    {
      "cell_type": "code",
      "metadata": {
        "id": "uMd-6yYcCNZM",
        "colab_type": "code",
        "colab": {
          "base_uri": "https://localhost:8080/",
          "height": 52
        },
        "outputId": "2500283f-3035-4ad5-eaf5-febe20e3510b"
      },
      "source": [
        "# the same for MasnVnrArea is not so big\n",
        "# Note particularly, that this effect is smaller than the one we observed\n",
        "# when imputing by 2999 in the previous notebook!!!\n",
        "\n",
        "print('Original Variance: ', X_train['MasVnrArea'].var())\n",
        "print('Variance after imputation: ', X_train['MasVnrArea_imputed'].var())"
      ],
      "execution_count": 38,
      "outputs": [
        {
          "output_type": "stream",
          "text": [
            "Original Variance:  32983.538710039466\n",
            "Variance after imputation:  34441.33126074531\n"
          ],
          "name": "stdout"
        }
      ]
    },
    {
      "cell_type": "code",
      "metadata": {
        "id": "WhSebL1SCNZR",
        "colab_type": "code",
        "colab": {
          "base_uri": "https://localhost:8080/",
          "height": 446
        },
        "outputId": "4bd3abc1-f781-4868-eaa5-495803df5731"
      },
      "source": [
        "# finally, let's explore the covariance:\n",
        "# take your time to compare the values in the table below.\n",
        "\n",
        "X_train.cov()"
      ],
      "execution_count": 40,
      "outputs": [
        {
          "output_type": "execute_result",
          "data": {
            "text/html": [
              "<div>\n",
              "<style scoped>\n",
              "    .dataframe tbody tr th:only-of-type {\n",
              "        vertical-align: middle;\n",
              "    }\n",
              "\n",
              "    .dataframe tbody tr th {\n",
              "        vertical-align: top;\n",
              "    }\n",
              "\n",
              "    .dataframe thead th {\n",
              "        text-align: right;\n",
              "    }\n",
              "</style>\n",
              "<table border=\"1\" class=\"dataframe\">\n",
              "  <thead>\n",
              "    <tr style=\"text-align: right;\">\n",
              "      <th></th>\n",
              "      <th>LotFrontage</th>\n",
              "      <th>OverallQual</th>\n",
              "      <th>MasVnrArea</th>\n",
              "      <th>BsmtUnfSF</th>\n",
              "      <th>TotalBsmtSF</th>\n",
              "      <th>1stFlrSF</th>\n",
              "      <th>GrLivArea</th>\n",
              "      <th>GarageYrBlt</th>\n",
              "      <th>WoodDeckSF</th>\n",
              "      <th>SalePrice</th>\n",
              "      <th>LotFrontage_imputed</th>\n",
              "      <th>MasVnrArea_imputed</th>\n",
              "    </tr>\n",
              "  </thead>\n",
              "  <tbody>\n",
              "    <tr>\n",
              "      <th>LotFrontage</th>\n",
              "      <td>532.587202</td>\n",
              "      <td>6.587119</td>\n",
              "      <td>6.805603e+02</td>\n",
              "      <td>9.496573e+02</td>\n",
              "      <td>2.908856e+03</td>\n",
              "      <td>3.379794e+03</td>\n",
              "      <td>3.919952e+03</td>\n",
              "      <td>30.611717</td>\n",
              "      <td>1.347414e+02</td>\n",
              "      <td>6.689645e+05</td>\n",
              "      <td>532.587202</td>\n",
              "      <td>6.934872e+02</td>\n",
              "    </tr>\n",
              "    <tr>\n",
              "      <th>OverallQual</th>\n",
              "      <td>6.587119</td>\n",
              "      <td>1.843859</td>\n",
              "      <td>1.014970e+02</td>\n",
              "      <td>1.746147e+02</td>\n",
              "      <td>2.886241e+02</td>\n",
              "      <td>2.242973e+02</td>\n",
              "      <td>4.091242e+02</td>\n",
              "      <td>17.902809</td>\n",
              "      <td>3.168557e+01</td>\n",
              "      <td>8.320132e+04</td>\n",
              "      <td>3.425501</td>\n",
              "      <td>1.035991e+02</td>\n",
              "    </tr>\n",
              "    <tr>\n",
              "      <th>MasVnrArea</th>\n",
              "      <td>680.560330</td>\n",
              "      <td>101.496976</td>\n",
              "      <td>3.298354e+04</td>\n",
              "      <td>7.540788e+03</td>\n",
              "      <td>2.478877e+04</td>\n",
              "      <td>2.086595e+04</td>\n",
              "      <td>3.520785e+04</td>\n",
              "      <td>1203.583792</td>\n",
              "      <td>3.208924e+03</td>\n",
              "      <td>6.836439e+06</td>\n",
              "      <td>639.100679</td>\n",
              "      <td>3.298354e+04</td>\n",
              "    </tr>\n",
              "    <tr>\n",
              "      <th>BsmtUnfSF</th>\n",
              "      <td>949.657293</td>\n",
              "      <td>174.614725</td>\n",
              "      <td>7.540788e+03</td>\n",
              "      <td>1.875241e+05</td>\n",
              "      <td>7.513307e+04</td>\n",
              "      <td>4.987449e+04</td>\n",
              "      <td>5.203392e+04</td>\n",
              "      <td>1823.065167</td>\n",
              "      <td>-1.833201e+03</td>\n",
              "      <td>6.833028e+06</td>\n",
              "      <td>-850.739199</td>\n",
              "      <td>7.680598e+03</td>\n",
              "    </tr>\n",
              "    <tr>\n",
              "      <th>TotalBsmtSF</th>\n",
              "      <td>2908.855504</td>\n",
              "      <td>288.624075</td>\n",
              "      <td>2.478877e+04</td>\n",
              "      <td>7.513307e+04</td>\n",
              "      <td>1.682931e+05</td>\n",
              "      <td>1.212079e+05</td>\n",
              "      <td>8.615192e+04</td>\n",
              "      <td>3173.042442</td>\n",
              "      <td>1.227966e+04</td>\n",
              "      <td>2.003928e+07</td>\n",
              "      <td>2308.792907</td>\n",
              "      <td>2.473980e+04</td>\n",
              "    </tr>\n",
              "    <tr>\n",
              "      <th>1stFlrSF</th>\n",
              "      <td>3379.793504</td>\n",
              "      <td>224.297266</td>\n",
              "      <td>2.086595e+04</td>\n",
              "      <td>4.987449e+04</td>\n",
              "      <td>1.212079e+05</td>\n",
              "      <td>1.398656e+05</td>\n",
              "      <td>1.044401e+05</td>\n",
              "      <td>2009.195552</td>\n",
              "      <td>1.109406e+04</td>\n",
              "      <td>1.783631e+07</td>\n",
              "      <td>3142.724647</td>\n",
              "      <td>2.055453e+04</td>\n",
              "    </tr>\n",
              "    <tr>\n",
              "      <th>GrLivArea</th>\n",
              "      <td>3919.951834</td>\n",
              "      <td>409.124216</td>\n",
              "      <td>3.520785e+04</td>\n",
              "      <td>5.203392e+04</td>\n",
              "      <td>8.615192e+04</td>\n",
              "      <td>1.044401e+05</td>\n",
              "      <td>2.681277e+05</td>\n",
              "      <td>2738.982988</td>\n",
              "      <td>1.558395e+04</td>\n",
              "      <td>2.934477e+07</td>\n",
              "      <td>3723.250100</td>\n",
              "      <td>3.541558e+04</td>\n",
              "    </tr>\n",
              "    <tr>\n",
              "      <th>GarageYrBlt</th>\n",
              "      <td>30.611717</td>\n",
              "      <td>17.902809</td>\n",
              "      <td>1.203584e+03</td>\n",
              "      <td>1.823065e+03</td>\n",
              "      <td>3.173042e+03</td>\n",
              "      <td>2.009196e+03</td>\n",
              "      <td>2.738983e+03</td>\n",
              "      <td>624.305948</td>\n",
              "      <td>6.658911e+02</td>\n",
              "      <td>9.309355e+05</td>\n",
              "      <td>26.484608</td>\n",
              "      <td>1.274750e+03</td>\n",
              "    </tr>\n",
              "    <tr>\n",
              "      <th>WoodDeckSF</th>\n",
              "      <td>134.741376</td>\n",
              "      <td>31.685571</td>\n",
              "      <td>3.208924e+03</td>\n",
              "      <td>-1.833201e+03</td>\n",
              "      <td>1.227966e+04</td>\n",
              "      <td>1.109406e+04</td>\n",
              "      <td>1.558395e+04</td>\n",
              "      <td>665.891118</td>\n",
              "      <td>1.648582e+04</td>\n",
              "      <td>3.029981e+06</td>\n",
              "      <td>542.437312</td>\n",
              "      <td>3.088048e+03</td>\n",
              "    </tr>\n",
              "    <tr>\n",
              "      <th>SalePrice</th>\n",
              "      <td>668964.454191</td>\n",
              "      <td>83201.317781</td>\n",
              "      <td>6.836439e+06</td>\n",
              "      <td>6.833028e+06</td>\n",
              "      <td>2.003928e+07</td>\n",
              "      <td>1.783631e+07</td>\n",
              "      <td>2.934477e+07</td>\n",
              "      <td>930935.489321</td>\n",
              "      <td>3.029981e+06</td>\n",
              "      <td>6.105731e+09</td>\n",
              "      <td>578446.035624</td>\n",
              "      <td>6.872641e+06</td>\n",
              "    </tr>\n",
              "    <tr>\n",
              "      <th>LotFrontage_imputed</th>\n",
              "      <td>532.587202</td>\n",
              "      <td>3.425501</td>\n",
              "      <td>6.391007e+02</td>\n",
              "      <td>-8.507392e+02</td>\n",
              "      <td>2.308793e+03</td>\n",
              "      <td>3.142725e+03</td>\n",
              "      <td>3.723250e+03</td>\n",
              "      <td>26.484608</td>\n",
              "      <td>5.424373e+02</td>\n",
              "      <td>5.784460e+05</td>\n",
              "      <td>1313.093675</td>\n",
              "      <td>6.523871e+02</td>\n",
              "    </tr>\n",
              "    <tr>\n",
              "      <th>MasVnrArea_imputed</th>\n",
              "      <td>693.487235</td>\n",
              "      <td>103.599142</td>\n",
              "      <td>3.298354e+04</td>\n",
              "      <td>7.680598e+03</td>\n",
              "      <td>2.473980e+04</td>\n",
              "      <td>2.055453e+04</td>\n",
              "      <td>3.541558e+04</td>\n",
              "      <td>1274.749707</td>\n",
              "      <td>3.088048e+03</td>\n",
              "      <td>6.872641e+06</td>\n",
              "      <td>652.387102</td>\n",
              "      <td>3.444133e+04</td>\n",
              "    </tr>\n",
              "  </tbody>\n",
              "</table>\n",
              "</div>"
            ],
            "text/plain": [
              "                       LotFrontage  ...  MasVnrArea_imputed\n",
              "LotFrontage             532.587202  ...        6.934872e+02\n",
              "OverallQual               6.587119  ...        1.035991e+02\n",
              "MasVnrArea              680.560330  ...        3.298354e+04\n",
              "BsmtUnfSF               949.657293  ...        7.680598e+03\n",
              "TotalBsmtSF            2908.855504  ...        2.473980e+04\n",
              "1stFlrSF               3379.793504  ...        2.055453e+04\n",
              "GrLivArea              3919.951834  ...        3.541558e+04\n",
              "GarageYrBlt              30.611717  ...        1.274750e+03\n",
              "WoodDeckSF              134.741376  ...        3.088048e+03\n",
              "SalePrice            668964.454191  ...        6.872641e+06\n",
              "LotFrontage_imputed     532.587202  ...        6.523871e+02\n",
              "MasVnrArea_imputed      693.487235  ...        3.444133e+04\n",
              "\n",
              "[12 rows x 12 columns]"
            ]
          },
          "metadata": {
            "tags": []
          },
          "execution_count": 40
        }
      ]
    }
  ]
}
