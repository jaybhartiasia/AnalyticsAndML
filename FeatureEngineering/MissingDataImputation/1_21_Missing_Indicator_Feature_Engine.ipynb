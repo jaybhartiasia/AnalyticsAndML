{
  "nbformat": 4,
  "nbformat_minor": 0,
  "metadata": {
    "kernelspec": {
      "display_name": "feml",
      "language": "python",
      "name": "feml"
    },
    "language_info": {
      "codemirror_mode": {
        "name": "ipython",
        "version": 3
      },
      "file_extension": ".py",
      "mimetype": "text/x-python",
      "name": "python",
      "nbconvert_exporter": "python",
      "pygments_lexer": "ipython3",
      "version": "3.7.3"
    },
    "toc": {
      "nav_menu": {},
      "number_sections": true,
      "sideBar": true,
      "skip_h1_title": false,
      "toc_cell": false,
      "toc_position": {},
      "toc_section_display": "block",
      "toc_window_display": true
    },
    "colab": {
      "name": "1.21 Missing-Indicator-Feature-Engine.ipynb",
      "provenance": [],
      "include_colab_link": true
    }
  },
  "cells": [
    {
      "cell_type": "markdown",
      "metadata": {
        "id": "view-in-github",
        "colab_type": "text"
      },
      "source": [
        "<a href=\"https://colab.research.google.com/github/vinay10949/AnalyticsAndML/blob/master/1_21_Missing_Indicator_Feature_Engine.ipynb\" target=\"_parent\"><img src=\"https://colab.research.google.com/assets/colab-badge.svg\" alt=\"Open In Colab\"/></a>"
      ]
    },
    {
      "cell_type": "markdown",
      "metadata": {
        "id": "ewKls9yXb6Th",
        "colab_type": "text"
      },
      "source": [
        "## Missing Indicator ==> Feature-Engine\n",
        "\n",
        "\n",
        "### What is Feature-Engine\n",
        "\n",
        "Feature-Engine is an open source python package that I created at the back of this course. \n",
        "\n",
        "- Feature-Engine includes all the feature engineering techniques described in the course\n",
        "- Feature-Engine works like to Scikit-learn, so it is easy to learn\n",
        "- Feature-Engine allows you to implement specific engineering steps to specific feature subsets\n",
        "- Feature-Engine can be integrated with the Scikit-learn pipeline allowing for smooth model building\n",
        "- \n",
        "**Feature-Engine allows you to design and store a feature engineering pipeline with bespoke procedures for different variable groups.**\n",
        "\n",
        "-------------------------------------------------------------------\n",
        "Feature-Engine can be installed via pip ==> pip install feature-engine\n",
        "\n",
        "- Make sure you have installed feature-engine before running this notebook\n"
      ]
    },
    {
      "cell_type": "code",
      "metadata": {
        "id": "Ws5RtEJZb6Tw",
        "colab_type": "code",
        "colab": {}
      },
      "source": [
        "import pandas as pd\n",
        "import numpy as np\n",
        "\n",
        "import matplotlib.pyplot as plt\n",
        "\n",
        "# to split the datasets\n",
        "from sklearn.model_selection import train_test_split\n",
        "from sklearn.pipeline import Pipeline\n",
        "\n",
        "# from feature-engine\n",
        "from feature_engine import missing_data_imputers as mdi"
      ],
      "execution_count": 0,
      "outputs": []
    },
    {
      "cell_type": "code",
      "metadata": {
        "id": "m1AAMAbkb6UW",
        "colab_type": "code",
        "colab": {},
        "outputId": "8e1c83b2-8900-4425-feba-8f298e3c5a05"
      },
      "source": [
        "# let's load the dataset with a selected group of variables\n",
        "\n",
        "cols_to_use = [\n",
        "    'BsmtQual', 'FireplaceQu', 'LotFrontage', 'MasVnrArea', 'GarageYrBlt',\n",
        "    'SalePrice'\n",
        "]\n",
        "\n",
        "data = pd.read_csv('../houseprice.csv', usecols=cols_to_use)\n",
        "data.head()"
      ],
      "execution_count": 0,
      "outputs": [
        {
          "output_type": "execute_result",
          "data": {
            "text/html": [
              "<div>\n",
              "<style scoped>\n",
              "    .dataframe tbody tr th:only-of-type {\n",
              "        vertical-align: middle;\n",
              "    }\n",
              "\n",
              "    .dataframe tbody tr th {\n",
              "        vertical-align: top;\n",
              "    }\n",
              "\n",
              "    .dataframe thead th {\n",
              "        text-align: right;\n",
              "    }\n",
              "</style>\n",
              "<table border=\"1\" class=\"dataframe\">\n",
              "  <thead>\n",
              "    <tr style=\"text-align: right;\">\n",
              "      <th></th>\n",
              "      <th>LotFrontage</th>\n",
              "      <th>MasVnrArea</th>\n",
              "      <th>BsmtQual</th>\n",
              "      <th>FireplaceQu</th>\n",
              "      <th>GarageYrBlt</th>\n",
              "      <th>SalePrice</th>\n",
              "    </tr>\n",
              "  </thead>\n",
              "  <tbody>\n",
              "    <tr>\n",
              "      <th>0</th>\n",
              "      <td>65.0</td>\n",
              "      <td>196.0</td>\n",
              "      <td>Gd</td>\n",
              "      <td>NaN</td>\n",
              "      <td>2003.0</td>\n",
              "      <td>208500</td>\n",
              "    </tr>\n",
              "    <tr>\n",
              "      <th>1</th>\n",
              "      <td>80.0</td>\n",
              "      <td>0.0</td>\n",
              "      <td>Gd</td>\n",
              "      <td>TA</td>\n",
              "      <td>1976.0</td>\n",
              "      <td>181500</td>\n",
              "    </tr>\n",
              "    <tr>\n",
              "      <th>2</th>\n",
              "      <td>68.0</td>\n",
              "      <td>162.0</td>\n",
              "      <td>Gd</td>\n",
              "      <td>TA</td>\n",
              "      <td>2001.0</td>\n",
              "      <td>223500</td>\n",
              "    </tr>\n",
              "    <tr>\n",
              "      <th>3</th>\n",
              "      <td>60.0</td>\n",
              "      <td>0.0</td>\n",
              "      <td>TA</td>\n",
              "      <td>Gd</td>\n",
              "      <td>1998.0</td>\n",
              "      <td>140000</td>\n",
              "    </tr>\n",
              "    <tr>\n",
              "      <th>4</th>\n",
              "      <td>84.0</td>\n",
              "      <td>350.0</td>\n",
              "      <td>Gd</td>\n",
              "      <td>TA</td>\n",
              "      <td>2000.0</td>\n",
              "      <td>250000</td>\n",
              "    </tr>\n",
              "  </tbody>\n",
              "</table>\n",
              "</div>"
            ],
            "text/plain": [
              "   LotFrontage  MasVnrArea BsmtQual FireplaceQu  GarageYrBlt  SalePrice\n",
              "0         65.0       196.0       Gd         NaN       2003.0     208500\n",
              "1         80.0         0.0       Gd          TA       1976.0     181500\n",
              "2         68.0       162.0       Gd          TA       2001.0     223500\n",
              "3         60.0         0.0       TA          Gd       1998.0     140000\n",
              "4         84.0       350.0       Gd          TA       2000.0     250000"
            ]
          },
          "metadata": {
            "tags": []
          },
          "execution_count": 2
        }
      ]
    },
    {
      "cell_type": "code",
      "metadata": {
        "id": "yIQbEJWrb6Up",
        "colab_type": "code",
        "colab": {},
        "outputId": "067bedfa-fcdb-430c-a1e5-9746667dd35c"
      },
      "source": [
        "data.isnull().mean()"
      ],
      "execution_count": 0,
      "outputs": [
        {
          "output_type": "execute_result",
          "data": {
            "text/plain": [
              "LotFrontage    0.177397\n",
              "MasVnrArea     0.005479\n",
              "BsmtQual       0.025342\n",
              "FireplaceQu    0.472603\n",
              "GarageYrBlt    0.055479\n",
              "SalePrice      0.000000\n",
              "dtype: float64"
            ]
          },
          "metadata": {
            "tags": []
          },
          "execution_count": 3
        }
      ]
    },
    {
      "cell_type": "code",
      "metadata": {
        "id": "5y_EickYb6U5",
        "colab_type": "code",
        "colab": {},
        "outputId": "05054fa9-d767-46ff-8ef6-4afa538bdea4"
      },
      "source": [
        "# let's separate into training and testing set\n",
        "\n",
        "# first drop the target from the feature list\n",
        "cols_to_use.remove('SalePrice')\n",
        "\n",
        "X_train, X_test, y_train, y_test = train_test_split(data[cols_to_use],\n",
        "                                                    data['SalePrice'],\n",
        "                                                    test_size=0.3,\n",
        "                                                    random_state=0)\n",
        "X_train.shape, X_test.shape"
      ],
      "execution_count": 0,
      "outputs": [
        {
          "output_type": "execute_result",
          "data": {
            "text/plain": [
              "((1022, 5), (438, 5))"
            ]
          },
          "metadata": {
            "tags": []
          },
          "execution_count": 4
        }
      ]
    },
    {
      "cell_type": "markdown",
      "metadata": {
        "id": "mcgiHs-7b6VJ",
        "colab_type": "text"
      },
      "source": [
        "### Feature-Engine's missing indicator selects all variables by default"
      ]
    },
    {
      "cell_type": "code",
      "metadata": {
        "id": "-_senxOHb6VN",
        "colab_type": "code",
        "colab": {}
      },
      "source": [
        "# we call the imputer from feature-engine\n",
        "# we don't need to specify anything \n",
        "\n",
        "imputer = mdi.AddNaNBinaryImputer()"
      ],
      "execution_count": 0,
      "outputs": []
    },
    {
      "cell_type": "code",
      "metadata": {
        "id": "FZOoIM_ab6Ve",
        "colab_type": "code",
        "colab": {},
        "outputId": "13c0c15d-87d1-4292-8750-c05981772934"
      },
      "source": [
        "# we fit the imputer\n",
        "\n",
        "imputer.fit(X_train)"
      ],
      "execution_count": 0,
      "outputs": [
        {
          "output_type": "execute_result",
          "data": {
            "text/plain": [
              "AddNaNBinaryImputer(variables=['BsmtQual', 'FireplaceQu', 'LotFrontage',\n",
              "                               'MasVnrArea', 'GarageYrBlt'])"
            ]
          },
          "metadata": {
            "tags": []
          },
          "execution_count": 10
        }
      ]
    },
    {
      "cell_type": "code",
      "metadata": {
        "id": "kGI5huRkb6Vo",
        "colab_type": "code",
        "colab": {},
        "outputId": "1b2a2e3c-fba7-4d17-fc99-7382597af9fc"
      },
      "source": [
        "# we see that the imputer selected all the variables numerical\n",
        "# and categorical\n",
        "\n",
        "imputer.variables"
      ],
      "execution_count": 0,
      "outputs": [
        {
          "output_type": "execute_result",
          "data": {
            "text/plain": [
              "['BsmtQual', 'FireplaceQu', 'LotFrontage', 'MasVnrArea', 'GarageYrBlt']"
            ]
          },
          "metadata": {
            "tags": []
          },
          "execution_count": 11
        }
      ]
    },
    {
      "cell_type": "code",
      "metadata": {
        "id": "W-vSqi4hb6Vz",
        "colab_type": "code",
        "colab": {},
        "outputId": "11c33109-7343-4ce6-c071-b2e4747dddf0"
      },
      "source": [
        "# feature-engine returns a dataframe\n",
        "# with the additional features\n",
        "\n",
        "# no need to contatenate!!\n",
        "\n",
        "tmp = imputer.transform(X_train)\n",
        "tmp.head()"
      ],
      "execution_count": 0,
      "outputs": [
        {
          "output_type": "execute_result",
          "data": {
            "text/html": [
              "<div>\n",
              "<style scoped>\n",
              "    .dataframe tbody tr th:only-of-type {\n",
              "        vertical-align: middle;\n",
              "    }\n",
              "\n",
              "    .dataframe tbody tr th {\n",
              "        vertical-align: top;\n",
              "    }\n",
              "\n",
              "    .dataframe thead th {\n",
              "        text-align: right;\n",
              "    }\n",
              "</style>\n",
              "<table border=\"1\" class=\"dataframe\">\n",
              "  <thead>\n",
              "    <tr style=\"text-align: right;\">\n",
              "      <th></th>\n",
              "      <th>BsmtQual</th>\n",
              "      <th>FireplaceQu</th>\n",
              "      <th>LotFrontage</th>\n",
              "      <th>MasVnrArea</th>\n",
              "      <th>GarageYrBlt</th>\n",
              "      <th>BsmtQual_na</th>\n",
              "      <th>FireplaceQu_na</th>\n",
              "      <th>LotFrontage_na</th>\n",
              "      <th>MasVnrArea_na</th>\n",
              "      <th>GarageYrBlt_na</th>\n",
              "    </tr>\n",
              "  </thead>\n",
              "  <tbody>\n",
              "    <tr>\n",
              "      <th>64</th>\n",
              "      <td>Gd</td>\n",
              "      <td>NaN</td>\n",
              "      <td>NaN</td>\n",
              "      <td>573.0</td>\n",
              "      <td>1998.0</td>\n",
              "      <td>0</td>\n",
              "      <td>1</td>\n",
              "      <td>1</td>\n",
              "      <td>0</td>\n",
              "      <td>0</td>\n",
              "    </tr>\n",
              "    <tr>\n",
              "      <th>682</th>\n",
              "      <td>Gd</td>\n",
              "      <td>Gd</td>\n",
              "      <td>NaN</td>\n",
              "      <td>0.0</td>\n",
              "      <td>1996.0</td>\n",
              "      <td>0</td>\n",
              "      <td>0</td>\n",
              "      <td>1</td>\n",
              "      <td>0</td>\n",
              "      <td>0</td>\n",
              "    </tr>\n",
              "    <tr>\n",
              "      <th>960</th>\n",
              "      <td>TA</td>\n",
              "      <td>NaN</td>\n",
              "      <td>50.0</td>\n",
              "      <td>0.0</td>\n",
              "      <td>NaN</td>\n",
              "      <td>0</td>\n",
              "      <td>1</td>\n",
              "      <td>0</td>\n",
              "      <td>0</td>\n",
              "      <td>1</td>\n",
              "    </tr>\n",
              "    <tr>\n",
              "      <th>1384</th>\n",
              "      <td>TA</td>\n",
              "      <td>NaN</td>\n",
              "      <td>60.0</td>\n",
              "      <td>0.0</td>\n",
              "      <td>1939.0</td>\n",
              "      <td>0</td>\n",
              "      <td>1</td>\n",
              "      <td>0</td>\n",
              "      <td>0</td>\n",
              "      <td>0</td>\n",
              "    </tr>\n",
              "    <tr>\n",
              "      <th>1100</th>\n",
              "      <td>TA</td>\n",
              "      <td>NaN</td>\n",
              "      <td>60.0</td>\n",
              "      <td>0.0</td>\n",
              "      <td>1930.0</td>\n",
              "      <td>0</td>\n",
              "      <td>1</td>\n",
              "      <td>0</td>\n",
              "      <td>0</td>\n",
              "      <td>0</td>\n",
              "    </tr>\n",
              "  </tbody>\n",
              "</table>\n",
              "</div>"
            ],
            "text/plain": [
              "     BsmtQual FireplaceQu  LotFrontage  MasVnrArea  GarageYrBlt  BsmtQual_na  \\\n",
              "64         Gd         NaN          NaN       573.0       1998.0            0   \n",
              "682        Gd          Gd          NaN         0.0       1996.0            0   \n",
              "960        TA         NaN         50.0         0.0          NaN            0   \n",
              "1384       TA         NaN         60.0         0.0       1939.0            0   \n",
              "1100       TA         NaN         60.0         0.0       1930.0            0   \n",
              "\n",
              "      FireplaceQu_na  LotFrontage_na  MasVnrArea_na  GarageYrBlt_na  \n",
              "64                 1               1              0               0  \n",
              "682                0               1              0               0  \n",
              "960                1               0              0               1  \n",
              "1384               1               0              0               0  \n",
              "1100               1               0              0               0  "
            ]
          },
          "metadata": {
            "tags": []
          },
          "execution_count": 12
        }
      ]
    },
    {
      "cell_type": "code",
      "metadata": {
        "id": "p4E0fYfGb6WC",
        "colab_type": "code",
        "colab": {},
        "outputId": "3262fb70-08f3-4667-c27d-b17e5b0089d2"
      },
      "source": [
        "# let's check NA\n",
        "\n",
        "tmp.isnull().mean()"
      ],
      "execution_count": 0,
      "outputs": [
        {
          "output_type": "execute_result",
          "data": {
            "text/plain": [
              "BsmtQual          0.023483\n",
              "FireplaceQu       0.467710\n",
              "LotFrontage       0.184932\n",
              "MasVnrArea        0.004892\n",
              "GarageYrBlt       0.052838\n",
              "BsmtQual_na       0.000000\n",
              "FireplaceQu_na    0.000000\n",
              "LotFrontage_na    0.000000\n",
              "MasVnrArea_na     0.000000\n",
              "GarageYrBlt_na    0.000000\n",
              "dtype: float64"
            ]
          },
          "metadata": {
            "tags": []
          },
          "execution_count": 13
        }
      ]
    },
    {
      "cell_type": "markdown",
      "metadata": {
        "id": "0BveqoYyb6We",
        "colab_type": "text"
      },
      "source": [
        "## Feature-engine allows you to specify variable groups easily"
      ]
    },
    {
      "cell_type": "code",
      "metadata": {
        "id": "C1mwrONbb6Wi",
        "colab_type": "code",
        "colab": {},
        "outputId": "1c118426-e2f8-49c5-aa08-a0fda1cfec04"
      },
      "source": [
        "# let's do it imputation but this time\n",
        "# and let's select a few variables\n",
        "\n",
        "imputer = mdi.AddNaNBinaryImputer(variables=['BsmtQual', 'FireplaceQu', 'LotFrontage'])\n",
        "\n",
        "imputer.fit(X_train)"
      ],
      "execution_count": 0,
      "outputs": [
        {
          "output_type": "execute_result",
          "data": {
            "text/plain": [
              "AddNaNBinaryImputer(variables=['BsmtQual', 'FireplaceQu', 'LotFrontage'])"
            ]
          },
          "metadata": {
            "tags": []
          },
          "execution_count": 14
        }
      ]
    },
    {
      "cell_type": "code",
      "metadata": {
        "id": "t2SmIoTsb6Wv",
        "colab_type": "code",
        "colab": {},
        "outputId": "b1814307-530e-4ca9-ad5e-088bea3e629b"
      },
      "source": [
        "# now the imputer uses only the variables we indicated\n",
        "\n",
        "imputer.variables"
      ],
      "execution_count": 0,
      "outputs": [
        {
          "output_type": "execute_result",
          "data": {
            "text/plain": [
              "['BsmtQual', 'FireplaceQu', 'LotFrontage']"
            ]
          },
          "metadata": {
            "tags": []
          },
          "execution_count": 15
        }
      ]
    },
    {
      "cell_type": "code",
      "metadata": {
        "id": "Zk5tJiPjb6W8",
        "colab_type": "code",
        "colab": {},
        "outputId": "a458197d-ae69-4214-baaf-02f9f019dc8a"
      },
      "source": [
        "# feature-engine returns a dataframe\n",
        "# with the additional features\n",
        "\n",
        "# no need to contatenate!!\n",
        "\n",
        "tmp = imputer.transform(X_train)\n",
        "\n",
        "tmp.head()"
      ],
      "execution_count": 0,
      "outputs": [
        {
          "output_type": "execute_result",
          "data": {
            "text/html": [
              "<div>\n",
              "<style scoped>\n",
              "    .dataframe tbody tr th:only-of-type {\n",
              "        vertical-align: middle;\n",
              "    }\n",
              "\n",
              "    .dataframe tbody tr th {\n",
              "        vertical-align: top;\n",
              "    }\n",
              "\n",
              "    .dataframe thead th {\n",
              "        text-align: right;\n",
              "    }\n",
              "</style>\n",
              "<table border=\"1\" class=\"dataframe\">\n",
              "  <thead>\n",
              "    <tr style=\"text-align: right;\">\n",
              "      <th></th>\n",
              "      <th>BsmtQual</th>\n",
              "      <th>FireplaceQu</th>\n",
              "      <th>LotFrontage</th>\n",
              "      <th>MasVnrArea</th>\n",
              "      <th>GarageYrBlt</th>\n",
              "      <th>BsmtQual_na</th>\n",
              "      <th>FireplaceQu_na</th>\n",
              "      <th>LotFrontage_na</th>\n",
              "    </tr>\n",
              "  </thead>\n",
              "  <tbody>\n",
              "    <tr>\n",
              "      <th>64</th>\n",
              "      <td>Gd</td>\n",
              "      <td>NaN</td>\n",
              "      <td>NaN</td>\n",
              "      <td>573.0</td>\n",
              "      <td>1998.0</td>\n",
              "      <td>0</td>\n",
              "      <td>1</td>\n",
              "      <td>1</td>\n",
              "    </tr>\n",
              "    <tr>\n",
              "      <th>682</th>\n",
              "      <td>Gd</td>\n",
              "      <td>Gd</td>\n",
              "      <td>NaN</td>\n",
              "      <td>0.0</td>\n",
              "      <td>1996.0</td>\n",
              "      <td>0</td>\n",
              "      <td>0</td>\n",
              "      <td>1</td>\n",
              "    </tr>\n",
              "    <tr>\n",
              "      <th>960</th>\n",
              "      <td>TA</td>\n",
              "      <td>NaN</td>\n",
              "      <td>50.0</td>\n",
              "      <td>0.0</td>\n",
              "      <td>NaN</td>\n",
              "      <td>0</td>\n",
              "      <td>1</td>\n",
              "      <td>0</td>\n",
              "    </tr>\n",
              "    <tr>\n",
              "      <th>1384</th>\n",
              "      <td>TA</td>\n",
              "      <td>NaN</td>\n",
              "      <td>60.0</td>\n",
              "      <td>0.0</td>\n",
              "      <td>1939.0</td>\n",
              "      <td>0</td>\n",
              "      <td>1</td>\n",
              "      <td>0</td>\n",
              "    </tr>\n",
              "    <tr>\n",
              "      <th>1100</th>\n",
              "      <td>TA</td>\n",
              "      <td>NaN</td>\n",
              "      <td>60.0</td>\n",
              "      <td>0.0</td>\n",
              "      <td>1930.0</td>\n",
              "      <td>0</td>\n",
              "      <td>1</td>\n",
              "      <td>0</td>\n",
              "    </tr>\n",
              "  </tbody>\n",
              "</table>\n",
              "</div>"
            ],
            "text/plain": [
              "     BsmtQual FireplaceQu  LotFrontage  MasVnrArea  GarageYrBlt  BsmtQual_na  \\\n",
              "64         Gd         NaN          NaN       573.0       1998.0            0   \n",
              "682        Gd          Gd          NaN         0.0       1996.0            0   \n",
              "960        TA         NaN         50.0         0.0          NaN            0   \n",
              "1384       TA         NaN         60.0         0.0       1939.0            0   \n",
              "1100       TA         NaN         60.0         0.0       1930.0            0   \n",
              "\n",
              "      FireplaceQu_na  LotFrontage_na  \n",
              "64                 1               1  \n",
              "682                0               1  \n",
              "960                1               0  \n",
              "1384               1               0  \n",
              "1100               1               0  "
            ]
          },
          "metadata": {
            "tags": []
          },
          "execution_count": 16
        }
      ]
    },
    {
      "cell_type": "markdown",
      "metadata": {
        "scrolled": true,
        "id": "Ry4NsFecb6XG",
        "colab_type": "text"
      },
      "source": [
        "## Feature-engine can be used with the Scikit-learn pipeline"
      ]
    },
    {
      "cell_type": "code",
      "metadata": {
        "id": "uYojceggb6XM",
        "colab_type": "code",
        "colab": {},
        "outputId": "f3e165f6-fb7f-4437-de36-b4333dff211d"
      },
      "source": [
        "# let's check the percentage of NA in each variable\n",
        "\n",
        "X_train.isnull().mean()"
      ],
      "execution_count": 0,
      "outputs": [
        {
          "output_type": "execute_result",
          "data": {
            "text/plain": [
              "BsmtQual       0.023483\n",
              "FireplaceQu    0.467710\n",
              "LotFrontage    0.184932\n",
              "MasVnrArea     0.004892\n",
              "GarageYrBlt    0.052838\n",
              "dtype: float64"
            ]
          },
          "metadata": {
            "tags": []
          },
          "execution_count": 17
        }
      ]
    },
    {
      "cell_type": "code",
      "metadata": {
        "id": "0W2-7KVVb6XX",
        "colab_type": "code",
        "colab": {},
        "outputId": "82b68ba5-48a0-4294-db13-7e5a78276bea"
      },
      "source": [
        "X_train.head()"
      ],
      "execution_count": 0,
      "outputs": [
        {
          "output_type": "execute_result",
          "data": {
            "text/html": [
              "<div>\n",
              "<style scoped>\n",
              "    .dataframe tbody tr th:only-of-type {\n",
              "        vertical-align: middle;\n",
              "    }\n",
              "\n",
              "    .dataframe tbody tr th {\n",
              "        vertical-align: top;\n",
              "    }\n",
              "\n",
              "    .dataframe thead th {\n",
              "        text-align: right;\n",
              "    }\n",
              "</style>\n",
              "<table border=\"1\" class=\"dataframe\">\n",
              "  <thead>\n",
              "    <tr style=\"text-align: right;\">\n",
              "      <th></th>\n",
              "      <th>BsmtQual</th>\n",
              "      <th>FireplaceQu</th>\n",
              "      <th>LotFrontage</th>\n",
              "      <th>MasVnrArea</th>\n",
              "      <th>GarageYrBlt</th>\n",
              "    </tr>\n",
              "  </thead>\n",
              "  <tbody>\n",
              "    <tr>\n",
              "      <th>64</th>\n",
              "      <td>Gd</td>\n",
              "      <td>NaN</td>\n",
              "      <td>NaN</td>\n",
              "      <td>573.0</td>\n",
              "      <td>1998.0</td>\n",
              "    </tr>\n",
              "    <tr>\n",
              "      <th>682</th>\n",
              "      <td>Gd</td>\n",
              "      <td>Gd</td>\n",
              "      <td>NaN</td>\n",
              "      <td>0.0</td>\n",
              "      <td>1996.0</td>\n",
              "    </tr>\n",
              "    <tr>\n",
              "      <th>960</th>\n",
              "      <td>TA</td>\n",
              "      <td>NaN</td>\n",
              "      <td>50.0</td>\n",
              "      <td>0.0</td>\n",
              "      <td>NaN</td>\n",
              "    </tr>\n",
              "    <tr>\n",
              "      <th>1384</th>\n",
              "      <td>TA</td>\n",
              "      <td>NaN</td>\n",
              "      <td>60.0</td>\n",
              "      <td>0.0</td>\n",
              "      <td>1939.0</td>\n",
              "    </tr>\n",
              "    <tr>\n",
              "      <th>1100</th>\n",
              "      <td>TA</td>\n",
              "      <td>NaN</td>\n",
              "      <td>60.0</td>\n",
              "      <td>0.0</td>\n",
              "      <td>1930.0</td>\n",
              "    </tr>\n",
              "  </tbody>\n",
              "</table>\n",
              "</div>"
            ],
            "text/plain": [
              "     BsmtQual FireplaceQu  LotFrontage  MasVnrArea  GarageYrBlt\n",
              "64         Gd         NaN          NaN       573.0       1998.0\n",
              "682        Gd          Gd          NaN         0.0       1996.0\n",
              "960        TA         NaN         50.0         0.0          NaN\n",
              "1384       TA         NaN         60.0         0.0       1939.0\n",
              "1100       TA         NaN         60.0         0.0       1930.0"
            ]
          },
          "metadata": {
            "tags": []
          },
          "execution_count": 18
        }
      ]
    },
    {
      "cell_type": "markdown",
      "metadata": {
        "id": "HGBykaXJb6Xh",
        "colab_type": "text"
      },
      "source": [
        "These are the steps we will concatenate\n",
        "\n",
        "- Add Missing Indicator to all variables\n",
        "- Median Imputation to numerical variables\n",
        "- Missing category imputation to categorical variables"
      ]
    },
    {
      "cell_type": "code",
      "metadata": {
        "id": "lLmBqk_hb6Xk",
        "colab_type": "code",
        "colab": {}
      },
      "source": [
        "pipe = Pipeline([\n",
        "    ('missing_ind', mdi.AddNaNBinaryImputer()),\n",
        "    ('imputer_mode', mdi.FrequentCategoryImputer(variables=['FireplaceQu', 'BsmtQual'])),\n",
        "    ('imputer_median', mdi.MeanMedianImputer(imputation_method = 'median',\n",
        "                                             variables=['LotFrontage', 'MasVnrArea', 'GarageYrBlt'])),\n",
        "])"
      ],
      "execution_count": 0,
      "outputs": []
    },
    {
      "cell_type": "code",
      "metadata": {
        "id": "U6Pbe2eub6Xu",
        "colab_type": "code",
        "colab": {},
        "outputId": "cbf55997-ea6a-4ab0-ffb9-cb9971da2fda"
      },
      "source": [
        "# fit the pipe\n",
        "pipe.fit(X_train)"
      ],
      "execution_count": 0,
      "outputs": [
        {
          "output_type": "execute_result",
          "data": {
            "text/plain": [
              "Pipeline(memory=None,\n",
              "         steps=[('missing_ind',\n",
              "                 AddNaNBinaryImputer(variables=['BsmtQual', 'FireplaceQu',\n",
              "                                                'LotFrontage', 'MasVnrArea',\n",
              "                                                'GarageYrBlt'])),\n",
              "                ('imputer_mode',\n",
              "                 FrequentCategoryImputer(variables=['FireplaceQu',\n",
              "                                                    'BsmtQual'])),\n",
              "                ('imputer_median',\n",
              "                 MeanMedianImputer(imputation_method='median',\n",
              "                                   variables=['LotFrontage', 'MasVnrArea',\n",
              "                                              'GarageYrBlt']))],\n",
              "         verbose=False)"
            ]
          },
          "metadata": {
            "tags": []
          },
          "execution_count": 20
        }
      ]
    },
    {
      "cell_type": "code",
      "metadata": {
        "id": "UMAB4hHOb6X9",
        "colab_type": "code",
        "colab": {},
        "outputId": "b8a88e07-3563-4c87-b366-72408258255a"
      },
      "source": [
        "# inspect the separate steps\n",
        "pipe.named_steps['missing_ind'].variables"
      ],
      "execution_count": 0,
      "outputs": [
        {
          "output_type": "execute_result",
          "data": {
            "text/plain": [
              "['BsmtQual', 'FireplaceQu', 'LotFrontage', 'MasVnrArea', 'GarageYrBlt']"
            ]
          },
          "metadata": {
            "tags": []
          },
          "execution_count": 21
        }
      ]
    },
    {
      "cell_type": "code",
      "metadata": {
        "id": "GufX3ipPb6YG",
        "colab_type": "code",
        "colab": {},
        "outputId": "3ad8a820-dab1-4dcf-d5bb-5a9b260b4bfc"
      },
      "source": [
        "pipe.named_steps['imputer_mode'].imputer_dict_"
      ],
      "execution_count": 0,
      "outputs": [
        {
          "output_type": "execute_result",
          "data": {
            "text/plain": [
              "{'FireplaceQu': 'Gd', 'BsmtQual': 'TA'}"
            ]
          },
          "metadata": {
            "tags": []
          },
          "execution_count": 22
        }
      ]
    },
    {
      "cell_type": "code",
      "metadata": {
        "id": "tEfuprnLb6YQ",
        "colab_type": "code",
        "colab": {},
        "outputId": "904e0cd7-41b5-464d-c7cb-2e939ed5e151"
      },
      "source": [
        "pipe.named_steps['imputer_median'].imputer_dict_"
      ],
      "execution_count": 0,
      "outputs": [
        {
          "output_type": "execute_result",
          "data": {
            "text/plain": [
              "{'LotFrontage': 69.0, 'MasVnrArea': 0.0, 'GarageYrBlt': 1979.0}"
            ]
          },
          "metadata": {
            "tags": []
          },
          "execution_count": 23
        }
      ]
    },
    {
      "cell_type": "code",
      "metadata": {
        "id": "43_Fetrsb6YZ",
        "colab_type": "code",
        "colab": {},
        "outputId": "c98b3333-8cb7-4567-c0e1-2685b0fb36e6"
      },
      "source": [
        "# let's transform the data with the pipeline\n",
        "\n",
        "# this pipeline will:\n",
        "#- add the missing indicators\n",
        "#- fill na in the original variables\n",
        "# leaving the dataset ready to use for ML\n",
        "\n",
        "tmp = pipe.transform(X_train)\n",
        "\n",
        "# let's check null values are gone\n",
        "tmp.isnull().mean()"
      ],
      "execution_count": 0,
      "outputs": [
        {
          "output_type": "execute_result",
          "data": {
            "text/plain": [
              "BsmtQual          0.0\n",
              "FireplaceQu       0.0\n",
              "LotFrontage       0.0\n",
              "MasVnrArea        0.0\n",
              "GarageYrBlt       0.0\n",
              "BsmtQual_na       0.0\n",
              "FireplaceQu_na    0.0\n",
              "LotFrontage_na    0.0\n",
              "MasVnrArea_na     0.0\n",
              "GarageYrBlt_na    0.0\n",
              "dtype: float64"
            ]
          },
          "metadata": {
            "tags": []
          },
          "execution_count": 24
        }
      ]
    },
    {
      "cell_type": "code",
      "metadata": {
        "id": "2nedJ20Db6Yl",
        "colab_type": "code",
        "colab": {},
        "outputId": "27059d08-ee7d-40a2-ccab-3c13b5632dc6"
      },
      "source": [
        "tmp.shape"
      ],
      "execution_count": 0,
      "outputs": [
        {
          "output_type": "execute_result",
          "data": {
            "text/plain": [
              "(1022, 10)"
            ]
          },
          "metadata": {
            "tags": []
          },
          "execution_count": 25
        }
      ]
    },
    {
      "cell_type": "code",
      "metadata": {
        "id": "dK9rDsABb6Yx",
        "colab_type": "code",
        "colab": {}
      },
      "source": [
        ""
      ],
      "execution_count": 0,
      "outputs": []
    }
  ]
}
