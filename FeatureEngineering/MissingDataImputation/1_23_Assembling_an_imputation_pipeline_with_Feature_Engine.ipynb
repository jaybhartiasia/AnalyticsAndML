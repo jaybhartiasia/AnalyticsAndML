{
  "nbformat": 4,
  "nbformat_minor": 0,
  "metadata": {
    "kernelspec": {
      "display_name": "feml",
      "language": "python",
      "name": "feml"
    },
    "language_info": {
      "codemirror_mode": {
        "name": "ipython",
        "version": 3
      },
      "file_extension": ".py",
      "mimetype": "text/x-python",
      "name": "python",
      "nbconvert_exporter": "python",
      "pygments_lexer": "ipython3",
      "version": "3.7.3"
    },
    "toc": {
      "nav_menu": {},
      "number_sections": true,
      "sideBar": true,
      "skip_h1_title": false,
      "toc_cell": false,
      "toc_position": {},
      "toc_section_display": true,
      "toc_window_display": true
    },
    "colab": {
      "name": "1.23 Assembling-an-imputation-pipeline-with-Feature-Engine.ipynb",
      "provenance": [],
      "include_colab_link": true
    }
  },
  "cells": [
    {
      "cell_type": "markdown",
      "metadata": {
        "id": "view-in-github",
        "colab_type": "text"
      },
      "source": [
        "<a href=\"https://colab.research.google.com/github/vinay10949/AnalyticsAndML/blob/master/FeatureEngineering/MissingDataImputation/1_23_Assembling_an_imputation_pipeline_with_Feature_Engine.ipynb\" target=\"_parent\"><img src=\"https://colab.research.google.com/assets/colab-badge.svg\" alt=\"Open In Colab\"/></a>"
      ]
    },
    {
      "cell_type": "markdown",
      "metadata": {
        "id": "AFlf6zFq6l4q",
        "colab_type": "text"
      },
      "source": [
        "## Replacing missing values by a value at the end of the distribution\n",
        "\n",
        "In this recipe, we will replace missing values by a value at the end of the distribution, estimated with the Gaussian approximation or the inter-quantal range proximity rule, using pandas and Feature-Engine, all open source Python libraries."
      ]
    },
    {
      "cell_type": "code",
      "metadata": {
        "id": "mafznFJz6l4s",
        "colab_type": "code",
        "colab": {}
      },
      "source": [
        "import pandas as pd\n",
        "\n",
        "from sklearn.model_selection import train_test_split\n",
        "from sklearn.pipeline import Pipeline\n",
        "import feature_engine.missing_data_imputers as mdi"
      ],
      "execution_count": 0,
      "outputs": []
    },
    {
      "cell_type": "code",
      "metadata": {
        "id": "mqruh3ks6l49",
        "colab_type": "code",
        "colab": {},
        "outputId": "f8f8e287-6cb2-4e52-ef55-c0dccd5d3673"
      },
      "source": [
        "# load data\n",
        "data = pd.read_csv('creditApprovalUCI.csv')\n",
        "data.head()"
      ],
      "execution_count": 0,
      "outputs": [
        {
          "output_type": "execute_result",
          "data": {
            "text/html": [
              "<div>\n",
              "<style scoped>\n",
              "    .dataframe tbody tr th:only-of-type {\n",
              "        vertical-align: middle;\n",
              "    }\n",
              "\n",
              "    .dataframe tbody tr th {\n",
              "        vertical-align: top;\n",
              "    }\n",
              "\n",
              "    .dataframe thead th {\n",
              "        text-align: right;\n",
              "    }\n",
              "</style>\n",
              "<table border=\"1\" class=\"dataframe\">\n",
              "  <thead>\n",
              "    <tr style=\"text-align: right;\">\n",
              "      <th></th>\n",
              "      <th>A1</th>\n",
              "      <th>A2</th>\n",
              "      <th>A3</th>\n",
              "      <th>A4</th>\n",
              "      <th>A5</th>\n",
              "      <th>A6</th>\n",
              "      <th>A7</th>\n",
              "      <th>A8</th>\n",
              "      <th>A9</th>\n",
              "      <th>A10</th>\n",
              "      <th>A11</th>\n",
              "      <th>A12</th>\n",
              "      <th>A13</th>\n",
              "      <th>A14</th>\n",
              "      <th>A15</th>\n",
              "      <th>A16</th>\n",
              "    </tr>\n",
              "  </thead>\n",
              "  <tbody>\n",
              "    <tr>\n",
              "      <td>0</td>\n",
              "      <td>b</td>\n",
              "      <td>30.83</td>\n",
              "      <td>0.000</td>\n",
              "      <td>u</td>\n",
              "      <td>g</td>\n",
              "      <td>w</td>\n",
              "      <td>v</td>\n",
              "      <td>1.25</td>\n",
              "      <td>t</td>\n",
              "      <td>t</td>\n",
              "      <td>1</td>\n",
              "      <td>f</td>\n",
              "      <td>g</td>\n",
              "      <td>202.0</td>\n",
              "      <td>0</td>\n",
              "      <td>1</td>\n",
              "    </tr>\n",
              "    <tr>\n",
              "      <td>1</td>\n",
              "      <td>a</td>\n",
              "      <td>58.67</td>\n",
              "      <td>4.460</td>\n",
              "      <td>u</td>\n",
              "      <td>g</td>\n",
              "      <td>q</td>\n",
              "      <td>h</td>\n",
              "      <td>3.04</td>\n",
              "      <td>t</td>\n",
              "      <td>t</td>\n",
              "      <td>6</td>\n",
              "      <td>f</td>\n",
              "      <td>g</td>\n",
              "      <td>43.0</td>\n",
              "      <td>560</td>\n",
              "      <td>1</td>\n",
              "    </tr>\n",
              "    <tr>\n",
              "      <td>2</td>\n",
              "      <td>a</td>\n",
              "      <td>24.50</td>\n",
              "      <td>NaN</td>\n",
              "      <td>u</td>\n",
              "      <td>g</td>\n",
              "      <td>q</td>\n",
              "      <td>h</td>\n",
              "      <td>NaN</td>\n",
              "      <td>NaN</td>\n",
              "      <td>NaN</td>\n",
              "      <td>0</td>\n",
              "      <td>f</td>\n",
              "      <td>g</td>\n",
              "      <td>280.0</td>\n",
              "      <td>824</td>\n",
              "      <td>1</td>\n",
              "    </tr>\n",
              "    <tr>\n",
              "      <td>3</td>\n",
              "      <td>b</td>\n",
              "      <td>27.83</td>\n",
              "      <td>1.540</td>\n",
              "      <td>u</td>\n",
              "      <td>g</td>\n",
              "      <td>w</td>\n",
              "      <td>v</td>\n",
              "      <td>3.75</td>\n",
              "      <td>t</td>\n",
              "      <td>t</td>\n",
              "      <td>5</td>\n",
              "      <td>t</td>\n",
              "      <td>g</td>\n",
              "      <td>100.0</td>\n",
              "      <td>3</td>\n",
              "      <td>1</td>\n",
              "    </tr>\n",
              "    <tr>\n",
              "      <td>4</td>\n",
              "      <td>b</td>\n",
              "      <td>20.17</td>\n",
              "      <td>5.625</td>\n",
              "      <td>u</td>\n",
              "      <td>g</td>\n",
              "      <td>w</td>\n",
              "      <td>v</td>\n",
              "      <td>1.71</td>\n",
              "      <td>t</td>\n",
              "      <td>f</td>\n",
              "      <td>0</td>\n",
              "      <td>f</td>\n",
              "      <td>s</td>\n",
              "      <td>120.0</td>\n",
              "      <td>0</td>\n",
              "      <td>1</td>\n",
              "    </tr>\n",
              "  </tbody>\n",
              "</table>\n",
              "</div>"
            ],
            "text/plain": [
              "  A1     A2     A3 A4 A5 A6 A7    A8   A9  A10  A11 A12 A13    A14  A15  A16\n",
              "0  b  30.83  0.000  u  g  w  v  1.25    t    t    1   f   g  202.0    0    1\n",
              "1  a  58.67  4.460  u  g  q  h  3.04    t    t    6   f   g   43.0  560    1\n",
              "2  a  24.50    NaN  u  g  q  h   NaN  NaN  NaN    0   f   g  280.0  824    1\n",
              "3  b  27.83  1.540  u  g  w  v  3.75    t    t    5   t   g  100.0    3    1\n",
              "4  b  20.17  5.625  u  g  w  v  1.71    t    f    0   f   s  120.0    0    1"
            ]
          },
          "metadata": {
            "tags": []
          },
          "execution_count": 2
        }
      ]
    },
    {
      "cell_type": "code",
      "metadata": {
        "id": "sObkSVPs6l5R",
        "colab_type": "code",
        "colab": {},
        "outputId": "b233bec2-305e-4b7a-ae3b-643060808a43"
      },
      "source": [
        "# let's separate into training and testing set\n",
        "\n",
        "X_train, X_test, y_train, y_test = train_test_split(\n",
        "    data.drop('A16', axis=1), data['A16'], test_size=0.3, random_state=0)\n",
        "\n",
        "X_train.shape, X_test.shape"
      ],
      "execution_count": 0,
      "outputs": [
        {
          "output_type": "execute_result",
          "data": {
            "text/plain": [
              "((483, 15), (207, 15))"
            ]
          },
          "metadata": {
            "tags": []
          },
          "execution_count": 3
        }
      ]
    },
    {
      "cell_type": "code",
      "metadata": {
        "id": "2LcwUA_F6l5d",
        "colab_type": "code",
        "colab": {},
        "outputId": "5bf9355b-5139-45af-9a00-5e4d27e4d8d1"
      },
      "source": [
        "# find categorical variables\n",
        "cat_cols = [c for c in data.columns if data[c].dtypes=='O']\n",
        "data[cat_cols].isnull().mean().sort_values()"
      ],
      "execution_count": 0,
      "outputs": [
        {
          "output_type": "execute_result",
          "data": {
            "text/plain": [
              "A12    0.000000\n",
              "A13    0.000000\n",
              "A4     0.008696\n",
              "A5     0.008696\n",
              "A6     0.013043\n",
              "A7     0.013043\n",
              "A1     0.017391\n",
              "A9     0.133333\n",
              "A10    0.133333\n",
              "dtype: float64"
            ]
          },
          "metadata": {
            "tags": []
          },
          "execution_count": 4
        }
      ]
    },
    {
      "cell_type": "code",
      "metadata": {
        "id": "ori1Xp0G6l5m",
        "colab_type": "code",
        "colab": {},
        "outputId": "09da3e11-08a3-447f-fe50-906f27b73803"
      },
      "source": [
        "# find numerical variables\n",
        "num_cols = [c for c in data.columns if data[c].dtypes!='O']\n",
        "data[num_cols].isnull().mean().sort_values()"
      ],
      "execution_count": 0,
      "outputs": [
        {
          "output_type": "execute_result",
          "data": {
            "text/plain": [
              "A11    0.000000\n",
              "A15    0.000000\n",
              "A16    0.000000\n",
              "A2     0.017391\n",
              "A14    0.018841\n",
              "A3     0.133333\n",
              "A8     0.133333\n",
              "dtype: float64"
            ]
          },
          "metadata": {
            "tags": []
          },
          "execution_count": 5
        }
      ]
    },
    {
      "cell_type": "code",
      "metadata": {
        "id": "rayNG1q56l5x",
        "colab_type": "code",
        "colab": {}
      },
      "source": [
        "# # find the percentage of missing data within those variables\n",
        "\n",
        "# X_train.isnull().mean()"
      ],
      "execution_count": 0,
      "outputs": []
    },
    {
      "cell_type": "code",
      "metadata": {
        "id": "IIGEdFjU6l58",
        "colab_type": "code",
        "colab": {}
      },
      "source": [
        "# first we need to make a list with the numerical vars\n",
        "features_num_arbitrary = ['A3', 'A8']\n",
        "features_num_median = ['A2', 'A14']\n",
        "\n",
        "features_cat_frequent = ['A4', 'A5', 'A6', 'A7']\n",
        "features_cat_missing = ['A1', 'A9', 'A10']"
      ],
      "execution_count": 0,
      "outputs": []
    },
    {
      "cell_type": "code",
      "metadata": {
        "id": "25nXsy6j6l6D",
        "colab_type": "code",
        "colab": {}
      },
      "source": [
        "# we instantiate each imputer within a pipeline\n",
        "\n",
        "pipe = Pipeline(steps=[\n",
        "    ('imp_num_arbitrary', mdi.ArbitraryNumberImputer(variables = features_num_arbitrary)),\n",
        "    ('imp_num_median', mdi.MeanMedianImputer(imputation_method = 'median', variables=features_num_median)),\n",
        "    ('imp_cat_frequent', mdi.FrequentCategoryImputer(variables = features_cat_frequent)),\n",
        "    ('imp_cat_missing', mdi.CategoricalVariableImputer(variables=features_cat_missing))\n",
        "])"
      ],
      "execution_count": 0,
      "outputs": []
    },
    {
      "cell_type": "code",
      "metadata": {
        "scrolled": true,
        "id": "YTwXBmyT6l6J",
        "colab_type": "code",
        "colab": {},
        "outputId": "6ab3f2c4-1662-4368-d6a8-88c43234a391"
      },
      "source": [
        "# now we fit the preprocessor\n",
        "pipe.fit(X_train)"
      ],
      "execution_count": 0,
      "outputs": [
        {
          "output_type": "stream",
          "text": [
            "C:\\Users\\Sole\\Anaconda3\\envs\\feml\\lib\\site-packages\\sklearn\\utils\\validation.py:933: FutureWarning: Passing attributes to check_is_fitted is deprecated and will be removed in 0.23. The attributes argument is ignored.\n",
            "  \"argument is ignored.\", FutureWarning)\n"
          ],
          "name": "stderr"
        },
        {
          "output_type": "execute_result",
          "data": {
            "text/plain": [
              "Pipeline(memory=None,\n",
              "         steps=[('imp_num_arbitrary',\n",
              "                 ArbitraryNumberImputer(arbitrary_number=-999,\n",
              "                                        variables=['A3', 'A8'])),\n",
              "                ('imp_num_median',\n",
              "                 MeanMedianImputer(imputation_method='median',\n",
              "                                   variables=['A2', 'A14'])),\n",
              "                ('imp_cat_frequent',\n",
              "                 FrequentCategoryImputer(variables=['A4', 'A5', 'A6', 'A7'])),\n",
              "                ('imp_cat_missing',\n",
              "                 CategoricalVariableImputer(variables=['A1', 'A9', 'A10']))],\n",
              "         verbose=False)"
            ]
          },
          "metadata": {
            "tags": []
          },
          "execution_count": 9
        }
      ]
    },
    {
      "cell_type": "code",
      "metadata": {
        "id": "m01rYclW6l6S",
        "colab_type": "code",
        "colab": {}
      },
      "source": [
        "# and now we impute the data\n",
        "X_train = pipe.transform(X_train)\n",
        "X_test = pipe.transform(X_test)"
      ],
      "execution_count": 0,
      "outputs": []
    },
    {
      "cell_type": "code",
      "metadata": {
        "id": "n96_ieCO6l6a",
        "colab_type": "code",
        "colab": {},
        "outputId": "a7589aee-76c3-4070-aa91-0e4a5728a8e7"
      },
      "source": [
        "X_train.isnull().sum()"
      ],
      "execution_count": 0,
      "outputs": [
        {
          "output_type": "execute_result",
          "data": {
            "text/plain": [
              "A1     0\n",
              "A2     0\n",
              "A3     0\n",
              "A4     0\n",
              "A5     0\n",
              "A6     0\n",
              "A7     0\n",
              "A8     0\n",
              "A9     0\n",
              "A10    0\n",
              "A11    0\n",
              "A12    0\n",
              "A13    0\n",
              "A14    0\n",
              "A15    0\n",
              "dtype: int64"
            ]
          },
          "metadata": {
            "tags": []
          },
          "execution_count": 11
        }
      ]
    },
    {
      "cell_type": "code",
      "metadata": {
        "id": "u8wlTzIR6l6j",
        "colab_type": "code",
        "colab": {},
        "outputId": "d9768204-9e97-4653-9be9-3479a57f43d0"
      },
      "source": [
        "X_test.isnull().sum()"
      ],
      "execution_count": 0,
      "outputs": [
        {
          "output_type": "execute_result",
          "data": {
            "text/plain": [
              "A1     0\n",
              "A2     0\n",
              "A3     0\n",
              "A4     0\n",
              "A5     0\n",
              "A6     0\n",
              "A7     0\n",
              "A8     0\n",
              "A9     0\n",
              "A10    0\n",
              "A11    0\n",
              "A12    0\n",
              "A13    0\n",
              "A14    0\n",
              "A15    0\n",
              "dtype: int64"
            ]
          },
          "metadata": {
            "tags": []
          },
          "execution_count": 12
        }
      ]
    },
    {
      "cell_type": "code",
      "metadata": {
        "id": "z6a9GnqA6l6s",
        "colab_type": "code",
        "colab": {}
      },
      "source": [
        ""
      ],
      "execution_count": 0,
      "outputs": []
    }
  ]
}