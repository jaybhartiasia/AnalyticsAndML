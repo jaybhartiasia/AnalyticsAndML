{
  "nbformat": 4,
  "nbformat_minor": 0,
  "metadata": {
    "kernelspec": {
      "display_name": "Python 3",
      "language": "python",
      "name": "python3"
    },
    "language_info": {
      "codemirror_mode": {
        "name": "ipython",
        "version": 3
      },
      "file_extension": ".py",
      "mimetype": "text/x-python",
      "name": "python",
      "nbconvert_exporter": "python",
      "pygments_lexer": "ipython3",
      "version": "3.7.3"
    },
    "toc": {
      "nav_menu": {},
      "number_sections": true,
      "sideBar": true,
      "skip_h1_title": false,
      "toc_cell": false,
      "toc_position": {},
      "toc_section_display": "block",
      "toc_window_display": true
    },
    "colab": {
      "name": "1.19 Missing-Category-Imputation-Feature-Engine.ipynb",
      "provenance": [],
      "include_colab_link": true
    }
  },
  "cells": [
    {
      "cell_type": "markdown",
      "metadata": {
        "id": "view-in-github",
        "colab_type": "text"
      },
      "source": [
        "<a href=\"https://colab.research.google.com/github/vinay10949/AnalyticsAndML/blob/master/1_19_Missing_Category_Imputation_Feature_Engine.ipynb\" target=\"_parent\"><img src=\"https://colab.research.google.com/assets/colab-badge.svg\" alt=\"Open In Colab\"/></a>"
      ]
    },
    {
      "cell_type": "markdown",
      "metadata": {
        "id": "NqB6N051avzS",
        "colab_type": "text"
      },
      "source": [
        "## Missing Category Imputation ==> Feature-Engine\n",
        "\n",
        "\n",
        "### What is Feature-Engine\n",
        "\n",
        "Feature-Engine is an open source python package that I created at the back of this course. \n",
        "\n",
        "- Feature-Engine includes all the feature engineering techniques described in the course\n",
        "- Feature-Engine works like to Scikit-learn, so it is easy to learn\n",
        "- Feature-Engine allows you to implement specific engineering steps to specific feature subsets\n",
        "- Feature-Engine can be integrated with the Scikit-learn pipeline allowing for smooth model building\n",
        "- \n",
        "**Feature-Engine allows you to design and store a feature engineering pipeline with bespoke procedures for different variable groups.**\n",
        "\n",
        "-------------------------------------------------------------------\n",
        "Feature-Engine can be installed via pip ==> pip install feature-engine\n",
        "\n",
        "- Make sure you have installed feature-engine before running this notebook\n"
      ]
    },
    {
      "cell_type": "code",
      "metadata": {
        "id": "NunPzamiavze",
        "colab_type": "code",
        "colab": {}
      },
      "source": [
        "import pandas as pd\n",
        "import numpy as np\n",
        "\n",
        "import matplotlib.pyplot as plt\n",
        "\n",
        "# to split the datasets\n",
        "from sklearn.model_selection import train_test_split\n",
        "from sklearn.pipeline import Pipeline\n",
        "\n",
        "# from feature-engine\n",
        "from feature_engine import missing_data_imputers as mdi"
      ],
      "execution_count": 0,
      "outputs": []
    },
    {
      "cell_type": "code",
      "metadata": {
        "id": "qgVARbdIavz8",
        "colab_type": "code",
        "colab": {},
        "outputId": "07f4bfdf-a2fa-420e-8304-d777c83af7ab"
      },
      "source": [
        "# let's load the dataset with a selected group of variables\n",
        "\n",
        "cols_to_use = [\n",
        "    'BsmtQual', 'FireplaceQu', 'LotFrontage', 'MasVnrArea', 'GarageYrBlt',\n",
        "    'SalePrice'\n",
        "]\n",
        "\n",
        "data = pd.read_csv('../houseprice.csv', usecols=cols_to_use)\n",
        "data.head()"
      ],
      "execution_count": 0,
      "outputs": [
        {
          "output_type": "execute_result",
          "data": {
            "text/html": [
              "<div>\n",
              "<style scoped>\n",
              "    .dataframe tbody tr th:only-of-type {\n",
              "        vertical-align: middle;\n",
              "    }\n",
              "\n",
              "    .dataframe tbody tr th {\n",
              "        vertical-align: top;\n",
              "    }\n",
              "\n",
              "    .dataframe thead th {\n",
              "        text-align: right;\n",
              "    }\n",
              "</style>\n",
              "<table border=\"1\" class=\"dataframe\">\n",
              "  <thead>\n",
              "    <tr style=\"text-align: right;\">\n",
              "      <th></th>\n",
              "      <th>LotFrontage</th>\n",
              "      <th>MasVnrArea</th>\n",
              "      <th>BsmtQual</th>\n",
              "      <th>FireplaceQu</th>\n",
              "      <th>GarageYrBlt</th>\n",
              "      <th>SalePrice</th>\n",
              "    </tr>\n",
              "  </thead>\n",
              "  <tbody>\n",
              "    <tr>\n",
              "      <th>0</th>\n",
              "      <td>65.0</td>\n",
              "      <td>196.0</td>\n",
              "      <td>Gd</td>\n",
              "      <td>NaN</td>\n",
              "      <td>2003.0</td>\n",
              "      <td>208500</td>\n",
              "    </tr>\n",
              "    <tr>\n",
              "      <th>1</th>\n",
              "      <td>80.0</td>\n",
              "      <td>0.0</td>\n",
              "      <td>Gd</td>\n",
              "      <td>TA</td>\n",
              "      <td>1976.0</td>\n",
              "      <td>181500</td>\n",
              "    </tr>\n",
              "    <tr>\n",
              "      <th>2</th>\n",
              "      <td>68.0</td>\n",
              "      <td>162.0</td>\n",
              "      <td>Gd</td>\n",
              "      <td>TA</td>\n",
              "      <td>2001.0</td>\n",
              "      <td>223500</td>\n",
              "    </tr>\n",
              "    <tr>\n",
              "      <th>3</th>\n",
              "      <td>60.0</td>\n",
              "      <td>0.0</td>\n",
              "      <td>TA</td>\n",
              "      <td>Gd</td>\n",
              "      <td>1998.0</td>\n",
              "      <td>140000</td>\n",
              "    </tr>\n",
              "    <tr>\n",
              "      <th>4</th>\n",
              "      <td>84.0</td>\n",
              "      <td>350.0</td>\n",
              "      <td>Gd</td>\n",
              "      <td>TA</td>\n",
              "      <td>2000.0</td>\n",
              "      <td>250000</td>\n",
              "    </tr>\n",
              "  </tbody>\n",
              "</table>\n",
              "</div>"
            ],
            "text/plain": [
              "   LotFrontage  MasVnrArea BsmtQual FireplaceQu  GarageYrBlt  SalePrice\n",
              "0         65.0       196.0       Gd         NaN       2003.0     208500\n",
              "1         80.0         0.0       Gd          TA       1976.0     181500\n",
              "2         68.0       162.0       Gd          TA       2001.0     223500\n",
              "3         60.0         0.0       TA          Gd       1998.0     140000\n",
              "4         84.0       350.0       Gd          TA       2000.0     250000"
            ]
          },
          "metadata": {
            "tags": []
          },
          "execution_count": 2
        }
      ]
    },
    {
      "cell_type": "code",
      "metadata": {
        "id": "Na5MUOzwav0T",
        "colab_type": "code",
        "colab": {},
        "outputId": "6968b9c4-3956-4d94-b79f-161ba8c11f1c"
      },
      "source": [
        "data.isnull().mean()"
      ],
      "execution_count": 0,
      "outputs": [
        {
          "output_type": "execute_result",
          "data": {
            "text/plain": [
              "LotFrontage    0.177397\n",
              "MasVnrArea     0.005479\n",
              "BsmtQual       0.025342\n",
              "FireplaceQu    0.472603\n",
              "GarageYrBlt    0.055479\n",
              "SalePrice      0.000000\n",
              "dtype: float64"
            ]
          },
          "metadata": {
            "tags": []
          },
          "execution_count": 3
        }
      ]
    },
    {
      "cell_type": "code",
      "metadata": {
        "id": "CEqUol61av01",
        "colab_type": "code",
        "colab": {},
        "outputId": "5693f6c0-9916-4b02-d41b-ff7fc0439cea"
      },
      "source": [
        "# let's separate into training and testing set\n",
        "\n",
        "# first drop the target from the feature list\n",
        "cols_to_use.remove('SalePrice')\n",
        "\n",
        "X_train, X_test, y_train, y_test = train_test_split(data[cols_to_use],\n",
        "                                                    data['SalePrice'],\n",
        "                                                    test_size=0.3,\n",
        "                                                    random_state=0)\n",
        "X_train.shape, X_test.shape"
      ],
      "execution_count": 0,
      "outputs": [
        {
          "output_type": "execute_result",
          "data": {
            "text/plain": [
              "((1022, 5), (438, 5))"
            ]
          },
          "metadata": {
            "tags": []
          },
          "execution_count": 4
        }
      ]
    },
    {
      "cell_type": "markdown",
      "metadata": {
        "id": "F5MSjlVJav1G",
        "colab_type": "text"
      },
      "source": [
        "### Feature-Engine captures the categorical variables automatically"
      ]
    },
    {
      "cell_type": "code",
      "metadata": {
        "id": "GRhMVotgav1M",
        "colab_type": "code",
        "colab": {}
      },
      "source": [
        "# we call the imputer from featur- engine\n",
        "# we don't need to specify anything \n",
        "\n",
        "imputer = mdi.CategoricalVariableImputer()"
      ],
      "execution_count": 0,
      "outputs": []
    },
    {
      "cell_type": "code",
      "metadata": {
        "id": "vMQpIQh0av1g",
        "colab_type": "code",
        "colab": {},
        "outputId": "ca10e38c-5839-4f97-c658-72c23f1f8687"
      },
      "source": [
        "# we fit the imputer\n",
        "\n",
        "imputer.fit(X_train)"
      ],
      "execution_count": 0,
      "outputs": [
        {
          "output_type": "execute_result",
          "data": {
            "text/plain": [
              "CategoricalVariableImputer(variables=['BsmtQual', 'FireplaceQu'])"
            ]
          },
          "metadata": {
            "tags": []
          },
          "execution_count": 6
        }
      ]
    },
    {
      "cell_type": "code",
      "metadata": {
        "id": "knV7xdVPav1r",
        "colab_type": "code",
        "colab": {},
        "outputId": "c314e04f-c49d-4694-d757-c659325f026c"
      },
      "source": [
        "# we see that the imputer found the categorical variables to\n",
        "# impute with the frequent category\n",
        "\n",
        "imputer.variables"
      ],
      "execution_count": 0,
      "outputs": [
        {
          "output_type": "execute_result",
          "data": {
            "text/plain": [
              "['BsmtQual', 'FireplaceQu']"
            ]
          },
          "metadata": {
            "tags": []
          },
          "execution_count": 7
        }
      ]
    },
    {
      "cell_type": "markdown",
      "metadata": {
        "id": "xkiiU3Hqav19",
        "colab_type": "text"
      },
      "source": [
        "**This imputer will replace missing data in categorical variables by 'Missing'**"
      ]
    },
    {
      "cell_type": "code",
      "metadata": {
        "id": "8HqFdVxZav2F",
        "colab_type": "code",
        "colab": {},
        "outputId": "925556cb-a5cd-4b43-a56b-e901e8b8a132"
      },
      "source": [
        "# feature-engine returns a dataframe\n",
        "\n",
        "tmp = imputer.transform(X_train)\n",
        "tmp.head()"
      ],
      "execution_count": 0,
      "outputs": [
        {
          "output_type": "execute_result",
          "data": {
            "text/html": [
              "<div>\n",
              "<style scoped>\n",
              "    .dataframe tbody tr th:only-of-type {\n",
              "        vertical-align: middle;\n",
              "    }\n",
              "\n",
              "    .dataframe tbody tr th {\n",
              "        vertical-align: top;\n",
              "    }\n",
              "\n",
              "    .dataframe thead th {\n",
              "        text-align: right;\n",
              "    }\n",
              "</style>\n",
              "<table border=\"1\" class=\"dataframe\">\n",
              "  <thead>\n",
              "    <tr style=\"text-align: right;\">\n",
              "      <th></th>\n",
              "      <th>BsmtQual</th>\n",
              "      <th>FireplaceQu</th>\n",
              "      <th>LotFrontage</th>\n",
              "      <th>MasVnrArea</th>\n",
              "      <th>GarageYrBlt</th>\n",
              "    </tr>\n",
              "  </thead>\n",
              "  <tbody>\n",
              "    <tr>\n",
              "      <th>64</th>\n",
              "      <td>Gd</td>\n",
              "      <td>Missing</td>\n",
              "      <td>NaN</td>\n",
              "      <td>573.0</td>\n",
              "      <td>1998.0</td>\n",
              "    </tr>\n",
              "    <tr>\n",
              "      <th>682</th>\n",
              "      <td>Gd</td>\n",
              "      <td>Gd</td>\n",
              "      <td>NaN</td>\n",
              "      <td>0.0</td>\n",
              "      <td>1996.0</td>\n",
              "    </tr>\n",
              "    <tr>\n",
              "      <th>960</th>\n",
              "      <td>TA</td>\n",
              "      <td>Missing</td>\n",
              "      <td>50.0</td>\n",
              "      <td>0.0</td>\n",
              "      <td>NaN</td>\n",
              "    </tr>\n",
              "    <tr>\n",
              "      <th>1384</th>\n",
              "      <td>TA</td>\n",
              "      <td>Missing</td>\n",
              "      <td>60.0</td>\n",
              "      <td>0.0</td>\n",
              "      <td>1939.0</td>\n",
              "    </tr>\n",
              "    <tr>\n",
              "      <th>1100</th>\n",
              "      <td>TA</td>\n",
              "      <td>Missing</td>\n",
              "      <td>60.0</td>\n",
              "      <td>0.0</td>\n",
              "      <td>1930.0</td>\n",
              "    </tr>\n",
              "  </tbody>\n",
              "</table>\n",
              "</div>"
            ],
            "text/plain": [
              "     BsmtQual FireplaceQu  LotFrontage  MasVnrArea  GarageYrBlt\n",
              "64         Gd     Missing          NaN       573.0       1998.0\n",
              "682        Gd          Gd          NaN         0.0       1996.0\n",
              "960        TA     Missing         50.0         0.0          NaN\n",
              "1384       TA     Missing         60.0         0.0       1939.0\n",
              "1100       TA     Missing         60.0         0.0       1930.0"
            ]
          },
          "metadata": {
            "tags": []
          },
          "execution_count": 8
        }
      ]
    },
    {
      "cell_type": "code",
      "metadata": {
        "id": "HKwPsE2Dav2V",
        "colab_type": "code",
        "colab": {},
        "outputId": "2689d312-fd9e-4b4b-8d83-a8cc3903b9a1"
      },
      "source": [
        "# let's check that the numerical variables don't\n",
        "# contain NA any more\n",
        "\n",
        "tmp[imputer.variables].isnull().mean()"
      ],
      "execution_count": 0,
      "outputs": [
        {
          "output_type": "execute_result",
          "data": {
            "text/plain": [
              "BsmtQual       0.0\n",
              "FireplaceQu    0.0\n",
              "dtype: float64"
            ]
          },
          "metadata": {
            "tags": []
          },
          "execution_count": 9
        }
      ]
    },
    {
      "cell_type": "markdown",
      "metadata": {
        "id": "n40gu9Q3av2k",
        "colab_type": "text"
      },
      "source": [
        "## Feature-engine allows you to specify variable groups easily"
      ]
    },
    {
      "cell_type": "code",
      "metadata": {
        "id": "33k7tMYQav2o",
        "colab_type": "code",
        "colab": {},
        "outputId": "eb529630-a2fa-4c86-d1c2-761067d0d455"
      },
      "source": [
        "# let's do it imputation but this time\n",
        "# and let's do it over 1 of the 2 categorical variables\n",
        "\n",
        "imputer = mdi.CategoricalVariableImputer(variables=['BsmtQual'])\n",
        "\n",
        "imputer.fit(X_train)"
      ],
      "execution_count": 0,
      "outputs": [
        {
          "output_type": "execute_result",
          "data": {
            "text/plain": [
              "CategoricalVariableImputer(variables=['BsmtQual'])"
            ]
          },
          "metadata": {
            "tags": []
          },
          "execution_count": 10
        }
      ]
    },
    {
      "cell_type": "code",
      "metadata": {
        "id": "eOJhdwdTav25",
        "colab_type": "code",
        "colab": {},
        "outputId": "961cf2ef-c88e-4aea-e2ef-5aa5437985db"
      },
      "source": [
        "# now the imputer uses only the variables we indicated\n",
        "\n",
        "imputer.variables"
      ],
      "execution_count": 0,
      "outputs": [
        {
          "output_type": "execute_result",
          "data": {
            "text/plain": [
              "['BsmtQual']"
            ]
          },
          "metadata": {
            "tags": []
          },
          "execution_count": 11
        }
      ]
    },
    {
      "cell_type": "code",
      "metadata": {
        "id": "yWNoLTeJav3J",
        "colab_type": "code",
        "colab": {},
        "outputId": "71e28cf7-6297-4902-8ad7-67f3ba5982ab"
      },
      "source": [
        "# now the imputer uses only the variables we indicated\n",
        "\n",
        "imputer.variables"
      ],
      "execution_count": 0,
      "outputs": [
        {
          "output_type": "execute_result",
          "data": {
            "text/plain": [
              "['BsmtQual']"
            ]
          },
          "metadata": {
            "tags": []
          },
          "execution_count": 12
        }
      ]
    },
    {
      "cell_type": "markdown",
      "metadata": {
        "scrolled": true,
        "id": "HxAX5UGJav3Y",
        "colab_type": "text"
      },
      "source": [
        "## Feature-engine can be used with the Scikit-learn pipeline"
      ]
    },
    {
      "cell_type": "code",
      "metadata": {
        "id": "evsDXAg8av3d",
        "colab_type": "code",
        "colab": {},
        "outputId": "c818ee62-a772-4984-e69e-1147a864e1fe"
      },
      "source": [
        "# let's check the percentage of NA in each categorical variable\n",
        "\n",
        "X_train.isnull().mean()"
      ],
      "execution_count": 0,
      "outputs": [
        {
          "output_type": "execute_result",
          "data": {
            "text/plain": [
              "BsmtQual       0.023483\n",
              "FireplaceQu    0.467710\n",
              "LotFrontage    0.184932\n",
              "MasVnrArea     0.004892\n",
              "GarageYrBlt    0.052838\n",
              "dtype: float64"
            ]
          },
          "metadata": {
            "tags": []
          },
          "execution_count": 13
        }
      ]
    },
    {
      "cell_type": "markdown",
      "metadata": {
        "id": "eB9bFPDHav3p",
        "colab_type": "text"
      },
      "source": [
        "- BsmtQual: 0.023 ==> frequent category imputation\n",
        "- FirePlaceQu: 0.46 ==> missing category imputation"
      ]
    },
    {
      "cell_type": "code",
      "metadata": {
        "id": "1Ppyv72Uav3t",
        "colab_type": "code",
        "colab": {}
      },
      "source": [
        "pipe = Pipeline([\n",
        "    ('imputer_mode', mdi.FrequentCategoryImputer(variables=['BsmtQual'])),\n",
        "    ('imputer_missing', mdi.CategoricalVariableImputer(variables=['FireplaceQu'])),\n",
        "])"
      ],
      "execution_count": 0,
      "outputs": []
    },
    {
      "cell_type": "code",
      "metadata": {
        "id": "WHCC50qtav35",
        "colab_type": "code",
        "colab": {},
        "outputId": "ce35ed82-3397-452d-e6e3-a4ef389d955e"
      },
      "source": [
        "pipe.fit(X_train)"
      ],
      "execution_count": 0,
      "outputs": [
        {
          "output_type": "execute_result",
          "data": {
            "text/plain": [
              "Pipeline(memory=None,\n",
              "     steps=[('imputer_mode', FrequentCategoryImputer(variables=['BsmtQual'])), ('imputer_missing', CategoricalVariableImputer(variables=['FireplaceQu']))])"
            ]
          },
          "metadata": {
            "tags": []
          },
          "execution_count": 15
        }
      ]
    },
    {
      "cell_type": "code",
      "metadata": {
        "id": "LSSo-h20av4H",
        "colab_type": "code",
        "colab": {},
        "outputId": "511f6e31-b737-4177-f959-8cc30d7507b7"
      },
      "source": [
        "pipe.named_steps['imputer_mode'].variables"
      ],
      "execution_count": 0,
      "outputs": [
        {
          "output_type": "execute_result",
          "data": {
            "text/plain": [
              "['BsmtQual']"
            ]
          },
          "metadata": {
            "tags": []
          },
          "execution_count": 16
        }
      ]
    },
    {
      "cell_type": "code",
      "metadata": {
        "id": "T_avvuXJav4O",
        "colab_type": "code",
        "colab": {},
        "outputId": "9404e8fd-dba7-4660-dab4-32206d857438"
      },
      "source": [
        "pipe.named_steps['imputer_missing'].variables"
      ],
      "execution_count": 0,
      "outputs": [
        {
          "output_type": "execute_result",
          "data": {
            "text/plain": [
              "['FireplaceQu']"
            ]
          },
          "metadata": {
            "tags": []
          },
          "execution_count": 17
        }
      ]
    },
    {
      "cell_type": "code",
      "metadata": {
        "id": "icX9o85Aav4c",
        "colab_type": "code",
        "colab": {},
        "outputId": "495874d3-9b27-443e-e966-13717c405b65"
      },
      "source": [
        "# let's transform the data with the pipeline\n",
        "tmp = pipe.transform(X_train)\n",
        "\n",
        "# let's check null values are gone\n",
        "tmp.isnull().mean()"
      ],
      "execution_count": 0,
      "outputs": [
        {
          "output_type": "execute_result",
          "data": {
            "text/plain": [
              "BsmtQual       0.000000\n",
              "FireplaceQu    0.000000\n",
              "LotFrontage    0.184932\n",
              "MasVnrArea     0.004892\n",
              "GarageYrBlt    0.052838\n",
              "dtype: float64"
            ]
          },
          "metadata": {
            "tags": []
          },
          "execution_count": 18
        }
      ]
    }
  ]
}
