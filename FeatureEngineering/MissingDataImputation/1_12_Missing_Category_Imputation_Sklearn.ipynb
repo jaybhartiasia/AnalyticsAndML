{
  "nbformat": 4,
  "nbformat_minor": 0,
  "metadata": {
    "kernelspec": {
      "display_name": "feml",
      "language": "python",
      "name": "feml"
    },
    "language_info": {
      "codemirror_mode": {
        "name": "ipython",
        "version": 3
      },
      "file_extension": ".py",
      "mimetype": "text/x-python",
      "name": "python",
      "nbconvert_exporter": "python",
      "pygments_lexer": "ipython3",
      "version": "3.7.3"
    },
    "toc": {
      "base_numbering": 1,
      "nav_menu": {},
      "number_sections": true,
      "sideBar": true,
      "skip_h1_title": false,
      "title_cell": "Table of Contents",
      "title_sidebar": "Contents",
      "toc_cell": false,
      "toc_position": {},
      "toc_section_display": true,
      "toc_window_display": true
    },
    "colab": {
      "name": "1.12Missing-Category-Imputation-Sklearn.ipynb",
      "provenance": [],
      "include_colab_link": true
    }
  },
  "cells": [
    {
      "cell_type": "markdown",
      "metadata": {
        "id": "view-in-github",
        "colab_type": "text"
      },
      "source": [
        "<a href=\"https://colab.research.google.com/github/vinay10949/AnalyticsAndML/blob/master/1_12Missing_Category_Imputation_Sklearn.ipynb\" target=\"_parent\"><img src=\"https://colab.research.google.com/assets/colab-badge.svg\" alt=\"Open In Colab\"/></a>"
      ]
    },
    {
      "cell_type": "markdown",
      "metadata": {
        "id": "VWP99EA6941H",
        "colab_type": "text"
      },
      "source": [
        "## Missing Category imputation with Scikit-learn: SimpleImputer\n",
        "\n",
        "Scikit-learn provides a class to make most of the most common data imputation techniques.\n",
        "\n",
        "The **SimpleImputer** class provides basic strategies for imputing missing values, including:\n",
        "\n",
        "- Mean and median imputation for numerical variables\n",
        "- Most frequent category imputation for categorical variables\n",
        "- Arbitrary value imputation for both categorical and numerical variables\n",
        "\n",
        "### Advantages\n",
        "\n",
        "- Simple to use if applied to the entire dataframe\n",
        "- Maintained by the scikit-learn developers: good quality code\n",
        "- Fast computation (it uses numpy for calculations)\n",
        "- Allows for grid search over the various imputation techniques\n",
        "- Allows for different missing values encodings (you can indicate if the missing values are np.nan, or zeroes, etc)\n",
        "\n",
        "### Limitations\n",
        "\n",
        "- Returns a numpy array instead of a pandas dataframe, inconvenient for data analysis\n",
        "- Needs to use additional classes to select which features to impute  ==>\n",
        "    - requires more lines of code\n",
        "    - additional classes still in beta (may change without warning)\n",
        "    - not so straightforward to use anymore.\n",
        "\n",
        "### More details about the transformers\n",
        "\n",
        "- [SimpleImputer](https://scikit-learn.org/stable/modules/generated/sklearn.impute.SimpleImputer.html#sklearn.impute.SimpleImputer)\n",
        "- [ColumnTransformer](https://scikit-learn.org/stable/modules/generated/sklearn.compose.ColumnTransformer.html)\n",
        "- [Stackoverflow](https://stackoverflow.com/questions/54160370/how-to-use-sklearn-column-transformer)\n",
        "\n"
      ]
    },
    {
      "cell_type": "code",
      "metadata": {
        "id": "TX0068dF941Q",
        "colab_type": "code",
        "colab": {}
      },
      "source": [
        "import pandas as pd\n",
        "import numpy as np\n",
        "\n",
        "import matplotlib.pyplot as plt\n",
        "\n",
        "# these are the objects we need to impute missing data\n",
        "# with sklearn\n",
        "from sklearn.compose import ColumnTransformer\n",
        "from sklearn.pipeline import Pipeline\n",
        "from sklearn.impute import SimpleImputer\n",
        "\n",
        "# to split the datasets\n",
        "from sklearn.model_selection import train_test_split"
      ],
      "execution_count": 0,
      "outputs": []
    },
    {
      "cell_type": "code",
      "metadata": {
        "id": "6_-axJsa941n",
        "colab_type": "code",
        "colab": {},
        "outputId": "636bf454-d6bd-4bdb-ad4b-38b259e3f73f"
      },
      "source": [
        "# let's load the dataset with a few categorical columns\n",
        "\n",
        "# these are categorical columns and the target SalePrice\n",
        "cols_to_use = ['BsmtQual', 'FireplaceQu', 'SalePrice']\n",
        "\n",
        "data = pd.read_csv('houseprice_train.csv', usecols=cols_to_use)\n",
        "data.head()"
      ],
      "execution_count": 0,
      "outputs": [
        {
          "output_type": "execute_result",
          "data": {
            "text/html": [
              "<div>\n",
              "<style scoped>\n",
              "    .dataframe tbody tr th:only-of-type {\n",
              "        vertical-align: middle;\n",
              "    }\n",
              "\n",
              "    .dataframe tbody tr th {\n",
              "        vertical-align: top;\n",
              "    }\n",
              "\n",
              "    .dataframe thead th {\n",
              "        text-align: right;\n",
              "    }\n",
              "</style>\n",
              "<table border=\"1\" class=\"dataframe\">\n",
              "  <thead>\n",
              "    <tr style=\"text-align: right;\">\n",
              "      <th></th>\n",
              "      <th>BsmtQual</th>\n",
              "      <th>FireplaceQu</th>\n",
              "      <th>SalePrice</th>\n",
              "    </tr>\n",
              "  </thead>\n",
              "  <tbody>\n",
              "    <tr>\n",
              "      <th>0</th>\n",
              "      <td>Gd</td>\n",
              "      <td>NaN</td>\n",
              "      <td>208500</td>\n",
              "    </tr>\n",
              "    <tr>\n",
              "      <th>1</th>\n",
              "      <td>Gd</td>\n",
              "      <td>TA</td>\n",
              "      <td>181500</td>\n",
              "    </tr>\n",
              "    <tr>\n",
              "      <th>2</th>\n",
              "      <td>Gd</td>\n",
              "      <td>TA</td>\n",
              "      <td>223500</td>\n",
              "    </tr>\n",
              "    <tr>\n",
              "      <th>3</th>\n",
              "      <td>TA</td>\n",
              "      <td>Gd</td>\n",
              "      <td>140000</td>\n",
              "    </tr>\n",
              "    <tr>\n",
              "      <th>4</th>\n",
              "      <td>Gd</td>\n",
              "      <td>TA</td>\n",
              "      <td>250000</td>\n",
              "    </tr>\n",
              "  </tbody>\n",
              "</table>\n",
              "</div>"
            ],
            "text/plain": [
              "  BsmtQual FireplaceQu  SalePrice\n",
              "0       Gd         NaN     208500\n",
              "1       Gd          TA     181500\n",
              "2       Gd          TA     223500\n",
              "3       TA          Gd     140000\n",
              "4       Gd          TA     250000"
            ]
          },
          "metadata": {
            "tags": []
          },
          "execution_count": 2
        }
      ]
    },
    {
      "cell_type": "code",
      "metadata": {
        "id": "0VzZZ50c9413",
        "colab_type": "code",
        "colab": {},
        "outputId": "d7422da6-b0f4-4391-ca00-7d10213baead"
      },
      "source": [
        "# let's inspect the percentage of missing values in each variable\n",
        "\n",
        "data.isnull().mean()"
      ],
      "execution_count": 0,
      "outputs": [
        {
          "output_type": "execute_result",
          "data": {
            "text/plain": [
              "BsmtQual       0.025342\n",
              "FireplaceQu    0.472603\n",
              "SalePrice      0.000000\n",
              "dtype: float64"
            ]
          },
          "metadata": {
            "tags": []
          },
          "execution_count": 3
        }
      ]
    },
    {
      "cell_type": "markdown",
      "metadata": {
        "id": "9jJHpcxt942I",
        "colab_type": "text"
      },
      "source": [
        "The variables LotFrontage, MasVnrArea and GarageYrBlt contain missing data."
      ]
    },
    {
      "cell_type": "code",
      "metadata": {
        "id": "nuHQ44a2942N",
        "colab_type": "code",
        "colab": {},
        "outputId": "d0853f16-958c-4c5c-f5bf-024c78c583b4"
      },
      "source": [
        "# let's separate into training and testing set\n",
        "\n",
        "# first let's remove the target from the features\n",
        "cols_to_use.remove('SalePrice')\n",
        "\n",
        "X_train, X_test, y_train, y_test = train_test_split(\n",
        "    data[cols_to_use],  # just the features\n",
        "    data['SalePrice'],  # the target\n",
        "    test_size=0.3,  # the percentage of obs in the test set\n",
        "    random_state=0)  # for reproducibility\n",
        "\n",
        "X_train.shape, X_test.shape"
      ],
      "execution_count": 0,
      "outputs": [
        {
          "output_type": "execute_result",
          "data": {
            "text/plain": [
              "((1022, 2), (438, 2))"
            ]
          },
          "metadata": {
            "tags": []
          },
          "execution_count": 4
        }
      ]
    },
    {
      "cell_type": "code",
      "metadata": {
        "id": "nj2WpT57942d",
        "colab_type": "code",
        "colab": {},
        "outputId": "b72022a4-4260-49ae-b154-ede40bf6fb22"
      },
      "source": [
        "# let's check the misssing data again\n",
        "X_train.isnull().mean()"
      ],
      "execution_count": 0,
      "outputs": [
        {
          "output_type": "execute_result",
          "data": {
            "text/plain": [
              "BsmtQual       0.023483\n",
              "FireplaceQu    0.467710\n",
              "dtype: float64"
            ]
          },
          "metadata": {
            "tags": []
          },
          "execution_count": 5
        }
      ]
    },
    {
      "cell_type": "code",
      "metadata": {
        "id": "AAjmq2y8942t",
        "colab_type": "code",
        "colab": {},
        "outputId": "7edc5312-584d-4101-b7e0-3f5e52d5dbe0"
      },
      "source": [
        "# let's inspect the values of the categorical variable\n",
        "X_train['BsmtQual'].unique()"
      ],
      "execution_count": 0,
      "outputs": [
        {
          "output_type": "execute_result",
          "data": {
            "text/plain": [
              "array(['Gd', 'TA', 'Fa', nan, 'Ex'], dtype=object)"
            ]
          },
          "metadata": {
            "tags": []
          },
          "execution_count": 6
        }
      ]
    },
    {
      "cell_type": "code",
      "metadata": {
        "id": "WOsrZALY9426",
        "colab_type": "code",
        "colab": {},
        "outputId": "baafa485-a21e-4d88-951c-2e7d9cacd52d"
      },
      "source": [
        "# let's inspect the values of the categorical variable\n",
        "X_train['FireplaceQu'].unique()"
      ],
      "execution_count": 0,
      "outputs": [
        {
          "output_type": "execute_result",
          "data": {
            "text/plain": [
              "array([nan, 'Gd', 'TA', 'Fa', 'Po', 'Ex'], dtype=object)"
            ]
          },
          "metadata": {
            "tags": []
          },
          "execution_count": 7
        }
      ]
    },
    {
      "cell_type": "code",
      "metadata": {
        "id": "6Hmj-2il943J",
        "colab_type": "code",
        "colab": {},
        "outputId": "3bfa04ff-c52c-4085-b54f-5f074c7c197f"
      },
      "source": [
        "# Now we impute the missing values with SimpleImputer\n",
        "\n",
        "# create an instance of the simple imputer\n",
        "# we indicate that we want to impute by replacing NA\n",
        "# with 'Missing'\n",
        "\n",
        "imputer = SimpleImputer(strategy='constant', \n",
        "                       fill_value = 'Missing')\n",
        "\n",
        "# we fit the imputer to the train set\n",
        "# the imputer will learn the median of all variables\n",
        "imputer.fit(X_train)"
      ],
      "execution_count": 0,
      "outputs": [
        {
          "output_type": "execute_result",
          "data": {
            "text/plain": [
              "SimpleImputer(copy=True, fill_value='Missing', missing_values=nan,\n",
              "       strategy='constant', verbose=0)"
            ]
          },
          "metadata": {
            "tags": []
          },
          "execution_count": 8
        }
      ]
    },
    {
      "cell_type": "code",
      "metadata": {
        "id": "J_poMoZ7943a",
        "colab_type": "code",
        "colab": {},
        "outputId": "bc6c200f-6374-475b-a869-c0ad3b49c23d"
      },
      "source": [
        "# we can look at the learnt modes like this:\n",
        "imputer.statistics_"
      ],
      "execution_count": 0,
      "outputs": [
        {
          "output_type": "execute_result",
          "data": {
            "text/plain": [
              "array(['Missing', 'Missing'], dtype=object)"
            ]
          },
          "metadata": {
            "tags": []
          },
          "execution_count": 9
        }
      ]
    },
    {
      "cell_type": "code",
      "metadata": {
        "id": "sqCb5Ja-943v",
        "colab_type": "code",
        "colab": {},
        "outputId": "dc00d518-d892-4b8d-98e1-082040860510"
      },
      "source": [
        "# and now we impute the train and test set\n",
        "\n",
        "# NOTE: the data is returned as a numpy array!!!\n",
        "X_train = imputer.transform(X_train)\n",
        "X_test = imputer.transform(X_test)\n",
        "\n",
        "X_train"
      ],
      "execution_count": 0,
      "outputs": [
        {
          "output_type": "execute_result",
          "data": {
            "text/plain": [
              "array([['Gd', 'Missing'],\n",
              "       ['Gd', 'Gd'],\n",
              "       ['TA', 'Missing'],\n",
              "       ...,\n",
              "       ['Missing', 'Missing'],\n",
              "       ['Gd', 'TA'],\n",
              "       ['Gd', 'Missing']], dtype=object)"
            ]
          },
          "metadata": {
            "tags": []
          },
          "execution_count": 10
        }
      ]
    },
    {
      "cell_type": "code",
      "metadata": {
        "id": "qSLlkPhA944C",
        "colab_type": "code",
        "colab": {},
        "outputId": "2e544506-750c-414e-911f-44721e72c9ad"
      },
      "source": [
        "# encode the train set back to a dataframe:\n",
        "\n",
        "X_train = pd.DataFrame(X_train, columns=cols_to_use)\n",
        "X_train.head()"
      ],
      "execution_count": 0,
      "outputs": [
        {
          "output_type": "execute_result",
          "data": {
            "text/html": [
              "<div>\n",
              "<style scoped>\n",
              "    .dataframe tbody tr th:only-of-type {\n",
              "        vertical-align: middle;\n",
              "    }\n",
              "\n",
              "    .dataframe tbody tr th {\n",
              "        vertical-align: top;\n",
              "    }\n",
              "\n",
              "    .dataframe thead th {\n",
              "        text-align: right;\n",
              "    }\n",
              "</style>\n",
              "<table border=\"1\" class=\"dataframe\">\n",
              "  <thead>\n",
              "    <tr style=\"text-align: right;\">\n",
              "      <th></th>\n",
              "      <th>BsmtQual</th>\n",
              "      <th>FireplaceQu</th>\n",
              "    </tr>\n",
              "  </thead>\n",
              "  <tbody>\n",
              "    <tr>\n",
              "      <th>0</th>\n",
              "      <td>Gd</td>\n",
              "      <td>Missing</td>\n",
              "    </tr>\n",
              "    <tr>\n",
              "      <th>1</th>\n",
              "      <td>Gd</td>\n",
              "      <td>Gd</td>\n",
              "    </tr>\n",
              "    <tr>\n",
              "      <th>2</th>\n",
              "      <td>TA</td>\n",
              "      <td>Missing</td>\n",
              "    </tr>\n",
              "    <tr>\n",
              "      <th>3</th>\n",
              "      <td>TA</td>\n",
              "      <td>Missing</td>\n",
              "    </tr>\n",
              "    <tr>\n",
              "      <th>4</th>\n",
              "      <td>TA</td>\n",
              "      <td>Missing</td>\n",
              "    </tr>\n",
              "  </tbody>\n",
              "</table>\n",
              "</div>"
            ],
            "text/plain": [
              "  BsmtQual FireplaceQu\n",
              "0       Gd     Missing\n",
              "1       Gd          Gd\n",
              "2       TA     Missing\n",
              "3       TA     Missing\n",
              "4       TA     Missing"
            ]
          },
          "metadata": {
            "tags": []
          },
          "execution_count": 11
        }
      ]
    },
    {
      "cell_type": "code",
      "metadata": {
        "id": "XXLo7rQr944X",
        "colab_type": "code",
        "colab": {},
        "outputId": "9fb1ad9d-683f-4c00-a43a-af6a006e2487"
      },
      "source": [
        "X_train['BsmtQual'].unique()"
      ],
      "execution_count": 0,
      "outputs": [
        {
          "output_type": "execute_result",
          "data": {
            "text/plain": [
              "array(['Gd', 'TA', 'Fa', 'Missing', 'Ex'], dtype=object)"
            ]
          },
          "metadata": {
            "tags": []
          },
          "execution_count": 12
        }
      ]
    },
    {
      "cell_type": "code",
      "metadata": {
        "id": "a0xoGBva944u",
        "colab_type": "code",
        "colab": {},
        "outputId": "70d4ebaa-05b8-4e10-cf25-49502eddb456"
      },
      "source": [
        "X_train.isnull().mean()"
      ],
      "execution_count": 0,
      "outputs": [
        {
          "output_type": "execute_result",
          "data": {
            "text/plain": [
              "BsmtQual       0.0\n",
              "FireplaceQu    0.0\n",
              "dtype: float64"
            ]
          },
          "metadata": {
            "tags": []
          },
          "execution_count": 13
        }
      ]
    },
    {
      "cell_type": "markdown",
      "metadata": {
        "id": "XCzD5PBX945N",
        "colab_type": "text"
      },
      "source": [
        "**A MASSIVE NOTE OF CAUTION**:\n",
        "\n",
        "Note that when using SimpleImputer and setting the parameters to:\n",
        "- strategy='constant'\n",
        "- fill_value = 'Missing'\n",
        "\n",
        "If your dataframe contains variables that are numerical and categorical, NA in both will be replaced by 'Missing\" therefore converting your numerical variables into categorical, which is probably not what you are after.\n",
        "\n",
        "Most datasets contain both numerical and categorical variables, so very likely you will have to use a column transformer as shown in previous notebooks and as I also show below again."
      ]
    },
    {
      "cell_type": "code",
      "metadata": {
        "id": "SNAiT7Vg945R",
        "colab_type": "code",
        "colab": {},
        "outputId": "ab45e61f-899d-49ee-f93a-76e137535f0f"
      },
      "source": [
        "# let's load the dataset with both numerical and categorical variables\n",
        "\n",
        "cols_to_use = [\n",
        "    'BsmtQual', 'FireplaceQu', 'LotFrontage', 'MasVnrArea', 'GarageYrBlt',\n",
        "    'SalePrice'\n",
        "]\n",
        "\n",
        "data = pd.read_csv('../houseprice.csv', usecols=cols_to_use)\n",
        "data.head()"
      ],
      "execution_count": 0,
      "outputs": [
        {
          "output_type": "execute_result",
          "data": {
            "text/html": [
              "<div>\n",
              "<style scoped>\n",
              "    .dataframe tbody tr th:only-of-type {\n",
              "        vertical-align: middle;\n",
              "    }\n",
              "\n",
              "    .dataframe tbody tr th {\n",
              "        vertical-align: top;\n",
              "    }\n",
              "\n",
              "    .dataframe thead th {\n",
              "        text-align: right;\n",
              "    }\n",
              "</style>\n",
              "<table border=\"1\" class=\"dataframe\">\n",
              "  <thead>\n",
              "    <tr style=\"text-align: right;\">\n",
              "      <th></th>\n",
              "      <th>LotFrontage</th>\n",
              "      <th>MasVnrArea</th>\n",
              "      <th>BsmtQual</th>\n",
              "      <th>FireplaceQu</th>\n",
              "      <th>GarageYrBlt</th>\n",
              "      <th>SalePrice</th>\n",
              "    </tr>\n",
              "  </thead>\n",
              "  <tbody>\n",
              "    <tr>\n",
              "      <th>0</th>\n",
              "      <td>65.0</td>\n",
              "      <td>196.0</td>\n",
              "      <td>Gd</td>\n",
              "      <td>NaN</td>\n",
              "      <td>2003.0</td>\n",
              "      <td>208500</td>\n",
              "    </tr>\n",
              "    <tr>\n",
              "      <th>1</th>\n",
              "      <td>80.0</td>\n",
              "      <td>0.0</td>\n",
              "      <td>Gd</td>\n",
              "      <td>TA</td>\n",
              "      <td>1976.0</td>\n",
              "      <td>181500</td>\n",
              "    </tr>\n",
              "    <tr>\n",
              "      <th>2</th>\n",
              "      <td>68.0</td>\n",
              "      <td>162.0</td>\n",
              "      <td>Gd</td>\n",
              "      <td>TA</td>\n",
              "      <td>2001.0</td>\n",
              "      <td>223500</td>\n",
              "    </tr>\n",
              "    <tr>\n",
              "      <th>3</th>\n",
              "      <td>60.0</td>\n",
              "      <td>0.0</td>\n",
              "      <td>TA</td>\n",
              "      <td>Gd</td>\n",
              "      <td>1998.0</td>\n",
              "      <td>140000</td>\n",
              "    </tr>\n",
              "    <tr>\n",
              "      <th>4</th>\n",
              "      <td>84.0</td>\n",
              "      <td>350.0</td>\n",
              "      <td>Gd</td>\n",
              "      <td>TA</td>\n",
              "      <td>2000.0</td>\n",
              "      <td>250000</td>\n",
              "    </tr>\n",
              "  </tbody>\n",
              "</table>\n",
              "</div>"
            ],
            "text/plain": [
              "   LotFrontage  MasVnrArea BsmtQual FireplaceQu  GarageYrBlt  SalePrice\n",
              "0         65.0       196.0       Gd         NaN       2003.0     208500\n",
              "1         80.0         0.0       Gd          TA       1976.0     181500\n",
              "2         68.0       162.0       Gd          TA       2001.0     223500\n",
              "3         60.0         0.0       TA          Gd       1998.0     140000\n",
              "4         84.0       350.0       Gd          TA       2000.0     250000"
            ]
          },
          "metadata": {
            "tags": []
          },
          "execution_count": 14
        }
      ]
    },
    {
      "cell_type": "code",
      "metadata": {
        "id": "4sJtquyL945b",
        "colab_type": "code",
        "colab": {},
        "outputId": "7d2c66dd-45e1-46a9-f62b-a42685a45555"
      },
      "source": [
        "# let's separate into training and testing set\n",
        "\n",
        "# first drop the target from the feature list\n",
        "cols_to_use.remove('SalePrice')\n",
        "\n",
        "X_train, X_test, y_train, y_test = train_test_split(data[cols_to_use],\n",
        "                                                    data['SalePrice'],\n",
        "                                                    test_size=0.3,\n",
        "                                                    random_state=0)\n",
        "X_train.shape, X_test.shape"
      ],
      "execution_count": 0,
      "outputs": [
        {
          "output_type": "execute_result",
          "data": {
            "text/plain": [
              "((1022, 5), (438, 5))"
            ]
          },
          "metadata": {
            "tags": []
          },
          "execution_count": 15
        }
      ]
    },
    {
      "cell_type": "code",
      "metadata": {
        "id": "nb6A7pYV945u",
        "colab_type": "code",
        "colab": {},
        "outputId": "38a11f3e-9f1b-4b8f-ce55-f8cf7417e97f"
      },
      "source": [
        "# let's look at the missing values\n",
        "\n",
        "X_train.isnull().mean()"
      ],
      "execution_count": 0,
      "outputs": [
        {
          "output_type": "execute_result",
          "data": {
            "text/plain": [
              "BsmtQual       0.023483\n",
              "FireplaceQu    0.467710\n",
              "LotFrontage    0.184932\n",
              "MasVnrArea     0.004892\n",
              "GarageYrBlt    0.052838\n",
              "dtype: float64"
            ]
          },
          "metadata": {
            "tags": []
          },
          "execution_count": 16
        }
      ]
    },
    {
      "cell_type": "markdown",
      "metadata": {
        "id": "bGCorz5g9454",
        "colab_type": "text"
      },
      "source": [
        "For this demo, I will impute the numerical variables by the mean, and the categorical variables by the most frequent category."
      ]
    },
    {
      "cell_type": "code",
      "metadata": {
        "id": "7vnPtXAm946A",
        "colab_type": "code",
        "colab": {}
      },
      "source": [
        "# first we need to make lists, indicating which features\n",
        "# will be imputed with each method\n",
        "\n",
        "features_numeric = ['LotFrontage', 'MasVnrArea', 'GarageYrBlt']\n",
        "features_categoric = ['BsmtQual', 'FireplaceQu']\n",
        "\n",
        "# then we instantiate the imputers, within a pipeline\n",
        "# we create one imputer for numerical and one imputer\n",
        "# for categorical\n",
        "\n",
        "imputer_numeric = Pipeline(steps=[\n",
        "    ('imputer', SimpleImputer(strategy='mean')),\n",
        "])\n",
        "\n",
        "imputer_categoric = Pipeline(\n",
        "    steps=[('imputer',\n",
        "            SimpleImputer(strategy='constant', fill_value='Missing'))])\n",
        "\n",
        "# then we put the features list and the transformers together\n",
        "# using the column transformer\n",
        "\n",
        "preprocessor = ColumnTransformer(transformers=[('imputer_numeric',\n",
        "                                                imputer_numeric,\n",
        "                                                features_numeric),\n",
        "                                               ('imputer_categoric',\n",
        "                                                imputer_categoric,\n",
        "                                                features_categoric)])"
      ],
      "execution_count": 0,
      "outputs": []
    },
    {
      "cell_type": "code",
      "metadata": {
        "id": "ge0xlAVm946R",
        "colab_type": "code",
        "colab": {},
        "outputId": "fdfe6523-b355-4828-921e-0360db95fac6"
      },
      "source": [
        "# now we fit the preprocessor\n",
        "preprocessor.fit(X_train)"
      ],
      "execution_count": 0,
      "outputs": [
        {
          "output_type": "execute_result",
          "data": {
            "text/plain": [
              "ColumnTransformer(n_jobs=None, remainder='drop', sparse_threshold=0.3,\n",
              "         transformer_weights=None,\n",
              "         transformers=[('imputer_numeric', Pipeline(memory=None,\n",
              "     steps=[('imputer', SimpleImputer(copy=True, fill_value=None, missing_values=nan, strategy='mean',\n",
              "       verbose=0))]), ['LotFrontage', 'MasVnrArea', 'GarageYrBlt']), ('imputer_categoric', Pipeline(memory=None,\n",
              "     steps=[('imputer', SimpleImputer(copy=True, fill_value='Missing', missing_values=nan,\n",
              "       strategy='constant', verbose=0))]), ['BsmtQual', 'FireplaceQu'])])"
            ]
          },
          "metadata": {
            "tags": []
          },
          "execution_count": 18
        }
      ]
    },
    {
      "cell_type": "code",
      "metadata": {
        "id": "EaMMDGqD946f",
        "colab_type": "code",
        "colab": {},
        "outputId": "d31da387-8374-4ac1-fa53-0edf842f3a3b"
      },
      "source": [
        "# we can explore the transformers like this:\n",
        "preprocessor.transformers"
      ],
      "execution_count": 0,
      "outputs": [
        {
          "output_type": "execute_result",
          "data": {
            "text/plain": [
              "[('imputer_numeric', Pipeline(memory=None,\n",
              "       steps=[('imputer', SimpleImputer(copy=True, fill_value=None, missing_values=nan, strategy='mean',\n",
              "         verbose=0))]), ['LotFrontage', 'MasVnrArea', 'GarageYrBlt']),\n",
              " ('imputer_categoric', Pipeline(memory=None,\n",
              "       steps=[('imputer', SimpleImputer(copy=True, fill_value='Missing', missing_values=nan,\n",
              "         strategy='constant', verbose=0))]), ['BsmtQual', 'FireplaceQu'])]"
            ]
          },
          "metadata": {
            "tags": []
          },
          "execution_count": 19
        }
      ]
    },
    {
      "cell_type": "code",
      "metadata": {
        "id": "R4VU0Mx5946n",
        "colab_type": "code",
        "colab": {},
        "outputId": "c4e45b66-612c-417f-f5b4-fd757cb86462"
      },
      "source": [
        "# and we can look at the parameters learnt like this:\n",
        "\n",
        "# for the numerical imputer\n",
        "preprocessor.named_transformers_['imputer_numeric'].named_steps['imputer'].statistics_"
      ],
      "execution_count": 0,
      "outputs": [
        {
          "output_type": "execute_result",
          "data": {
            "text/plain": [
              "array([  69.66866747,  103.55358899, 1978.01239669])"
            ]
          },
          "metadata": {
            "tags": []
          },
          "execution_count": 20
        }
      ]
    },
    {
      "cell_type": "code",
      "metadata": {
        "id": "gEIJCkbY946z",
        "colab_type": "code",
        "colab": {},
        "outputId": "a59e9979-8044-4541-a592-8857ec2a6af6"
      },
      "source": [
        "# for the categorical imputer\n",
        "preprocessor.named_transformers_['imputer_categoric'].named_steps['imputer'].statistics_"
      ],
      "execution_count": 0,
      "outputs": [
        {
          "output_type": "execute_result",
          "data": {
            "text/plain": [
              "array(['Missing', 'Missing'], dtype=object)"
            ]
          },
          "metadata": {
            "tags": []
          },
          "execution_count": 21
        }
      ]
    },
    {
      "cell_type": "code",
      "metadata": {
        "id": "TBBJXdCi947C",
        "colab_type": "code",
        "colab": {}
      },
      "source": [
        "# and now we can impute the data\n",
        "# remember it returs a numpy array\n",
        "\n",
        "X_train = preprocessor.transform(X_train)\n",
        "X_test = preprocessor.transform(X_test)"
      ],
      "execution_count": 0,
      "outputs": []
    },
    {
      "cell_type": "code",
      "metadata": {
        "id": "PHK5DYnm947K",
        "colab_type": "code",
        "colab": {},
        "outputId": "039c569f-303a-4414-a8fb-01948277df90"
      },
      "source": [
        "# now we convert the result into a dataframe\n",
        "pd.DataFrame(X_train,\n",
        "             columns=features_numeric+features_categoric).head()"
      ],
      "execution_count": 0,
      "outputs": [
        {
          "output_type": "execute_result",
          "data": {
            "text/html": [
              "<div>\n",
              "<style scoped>\n",
              "    .dataframe tbody tr th:only-of-type {\n",
              "        vertical-align: middle;\n",
              "    }\n",
              "\n",
              "    .dataframe tbody tr th {\n",
              "        vertical-align: top;\n",
              "    }\n",
              "\n",
              "    .dataframe thead th {\n",
              "        text-align: right;\n",
              "    }\n",
              "</style>\n",
              "<table border=\"1\" class=\"dataframe\">\n",
              "  <thead>\n",
              "    <tr style=\"text-align: right;\">\n",
              "      <th></th>\n",
              "      <th>LotFrontage</th>\n",
              "      <th>MasVnrArea</th>\n",
              "      <th>GarageYrBlt</th>\n",
              "      <th>BsmtQual</th>\n",
              "      <th>FireplaceQu</th>\n",
              "    </tr>\n",
              "  </thead>\n",
              "  <tbody>\n",
              "    <tr>\n",
              "      <th>0</th>\n",
              "      <td>69.6687</td>\n",
              "      <td>573</td>\n",
              "      <td>1998</td>\n",
              "      <td>Gd</td>\n",
              "      <td>Missing</td>\n",
              "    </tr>\n",
              "    <tr>\n",
              "      <th>1</th>\n",
              "      <td>69.6687</td>\n",
              "      <td>0</td>\n",
              "      <td>1996</td>\n",
              "      <td>Gd</td>\n",
              "      <td>Gd</td>\n",
              "    </tr>\n",
              "    <tr>\n",
              "      <th>2</th>\n",
              "      <td>50</td>\n",
              "      <td>0</td>\n",
              "      <td>1978.01</td>\n",
              "      <td>TA</td>\n",
              "      <td>Missing</td>\n",
              "    </tr>\n",
              "    <tr>\n",
              "      <th>3</th>\n",
              "      <td>60</td>\n",
              "      <td>0</td>\n",
              "      <td>1939</td>\n",
              "      <td>TA</td>\n",
              "      <td>Missing</td>\n",
              "    </tr>\n",
              "    <tr>\n",
              "      <th>4</th>\n",
              "      <td>60</td>\n",
              "      <td>0</td>\n",
              "      <td>1930</td>\n",
              "      <td>TA</td>\n",
              "      <td>Missing</td>\n",
              "    </tr>\n",
              "  </tbody>\n",
              "</table>\n",
              "</div>"
            ],
            "text/plain": [
              "  LotFrontage MasVnrArea GarageYrBlt BsmtQual FireplaceQu\n",
              "0     69.6687        573        1998       Gd     Missing\n",
              "1     69.6687          0        1996       Gd          Gd\n",
              "2          50          0     1978.01       TA     Missing\n",
              "3          60          0        1939       TA     Missing\n",
              "4          60          0        1930       TA     Missing"
            ]
          },
          "metadata": {
            "tags": []
          },
          "execution_count": 23
        }
      ]
    },
    {
      "cell_type": "code",
      "metadata": {
        "id": "98lBT6OG947Y",
        "colab_type": "code",
        "colab": {},
        "outputId": "acd590db-17c9-41cb-ee75-34cefa7c8d66"
      },
      "source": [
        "# now we convert the result into a dataframe\n",
        "# and explore the missing values\n",
        "# there should be none\n",
        "\n",
        "X_train = pd.DataFrame(X_train,\n",
        "             columns=features_numeric+features_categoric)\n",
        "\n",
        "X_train.isnull().mean()"
      ],
      "execution_count": 0,
      "outputs": [
        {
          "output_type": "execute_result",
          "data": {
            "text/plain": [
              "LotFrontage    0.0\n",
              "MasVnrArea     0.0\n",
              "GarageYrBlt    0.0\n",
              "BsmtQual       0.0\n",
              "FireplaceQu    0.0\n",
              "dtype: float64"
            ]
          },
          "metadata": {
            "tags": []
          },
          "execution_count": 24
        }
      ]
    },
    {
      "cell_type": "code",
      "metadata": {
        "id": "e2RMmSNn947l",
        "colab_type": "code",
        "colab": {}
      },
      "source": [
        ""
      ],
      "execution_count": 0,
      "outputs": []
    }
  ]
}
