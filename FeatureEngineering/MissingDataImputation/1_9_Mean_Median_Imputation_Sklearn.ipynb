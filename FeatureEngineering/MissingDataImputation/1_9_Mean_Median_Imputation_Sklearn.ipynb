{
  "nbformat": 4,
  "nbformat_minor": 0,
  "metadata": {
    "kernelspec": {
      "display_name": "feml",
      "language": "python",
      "name": "feml"
    },
    "language_info": {
      "codemirror_mode": {
        "name": "ipython",
        "version": 3
      },
      "file_extension": ".py",
      "mimetype": "text/x-python",
      "name": "python",
      "nbconvert_exporter": "python",
      "pygments_lexer": "ipython3",
      "version": "3.7.3"
    },
    "toc": {
      "base_numbering": 1,
      "nav_menu": {},
      "number_sections": true,
      "sideBar": true,
      "skip_h1_title": false,
      "title_cell": "Table of Contents",
      "title_sidebar": "Contents",
      "toc_cell": false,
      "toc_position": {},
      "toc_section_display": true,
      "toc_window_display": true
    },
    "colab": {
      "name": "1.9Mean-Median-Imputation-Sklearn.ipynb",
      "provenance": [],
      "include_colab_link": true
    }
  },
  "cells": [
    {
      "cell_type": "markdown",
      "metadata": {
        "id": "view-in-github",
        "colab_type": "text"
      },
      "source": [
        "<a href=\"https://colab.research.google.com/github/vinay10949/AnalyticsAndML/blob/master/1_9Mean_Median_Imputation_Sklearn.ipynb\" target=\"_parent\"><img src=\"https://colab.research.google.com/assets/colab-badge.svg\" alt=\"Open In Colab\"/></a>"
      ]
    },
    {
      "cell_type": "markdown",
      "metadata": {
        "id": "mWnaUcdg4OFi",
        "colab_type": "text"
      },
      "source": [
        "## Mean / median imputation with Scikit-learn ==> SimpleImputer\n",
        "\n",
        "Scikit-learn provides a class to make most of the most common data imputation techniques.\n",
        "\n",
        "The **SimpleImputer** class provides basic strategies for imputing missing values, including:\n",
        "\n",
        "- Mean and median imputation for numerical variables\n",
        "- Most frequent category imputation for categorical variables\n",
        "- Arbitrary value imputation for both categorical and numerical variables\n",
        "\n",
        "### Advantages\n",
        "\n",
        "- Simple to use if applied to the entire dataframe\n",
        "- Maintained by the Scikit-learn developers: good quality code\n",
        "- Fast computation (it uses numpy for calculations)\n",
        "- Allows for grid search over the various imputation techniques\n",
        "- Allows for different missing values encodings (you can indicate if the missing values are np.nan, or zeroes, etc)\n",
        "\n",
        "### Limitations\n",
        "\n",
        "- Returns a numpy array instead of a pandas dataframe, inconvenient for data analysis\n",
        "- Needs to use additional classes to select which features to impute  ==>\n",
        "    - requires more lines of code\n",
        "    - additional classes still in beta (may change without warning)\n",
        "    - not so straightforward to use anymore.\n",
        "\n",
        "### More details about the transformers\n",
        "\n",
        "- [SimpleImputer](https://scikit-learn.org/stable/modules/generated/sklearn.impute.SimpleImputer.html#sklearn.impute.SimpleImputer)\n",
        "- [ColumnTransformer](https://scikit-learn.org/stable/modules/generated/sklearn.compose.ColumnTransformer.html)\n",
        "- [Stackoverflow](https://stackoverflow.com/questions/54160370/how-to-use-sklearn-column-transformer)\n"
      ]
    },
    {
      "cell_type": "code",
      "metadata": {
        "id": "4e5f-UgO4OFr",
        "colab_type": "code",
        "colab": {}
      },
      "source": [
        "import pandas as pd\n",
        "import numpy as np\n",
        "\n",
        "import matplotlib.pyplot as plt\n",
        "\n",
        "# these are the objects we need to impute missing data\n",
        "# with sklearn\n",
        "from sklearn.impute import SimpleImputer\n",
        "from sklearn.compose import ColumnTransformer\n",
        "from sklearn.pipeline import Pipeline\n",
        "\n",
        "# to split the datasets\n",
        "from sklearn.model_selection import train_test_split"
      ],
      "execution_count": 0,
      "outputs": []
    },
    {
      "cell_type": "code",
      "metadata": {
        "id": "0DgSjYjw4OGD",
        "colab_type": "code",
        "colab": {}
      },
      "source": [
        "# we use only the following variables for the demo:\n",
        "# 3 of which contain NA\n",
        "\n",
        "cols_to_use = [\n",
        "    'OverallQual', 'TotalBsmtSF', '1stFlrSF', 'GrLivArea', 'WoodDeckSF',\n",
        "    'BsmtUnfSF', 'LotFrontage', 'MasVnrArea', 'GarageYrBlt', 'SalePrice'\n",
        "]"
      ],
      "execution_count": 0,
      "outputs": []
    },
    {
      "cell_type": "code",
      "metadata": {
        "id": "XI7J86ey4OGP",
        "colab_type": "code",
        "colab": {
          "base_uri": "https://localhost:8080/",
          "height": 244
        },
        "outputId": "a8225b61-ca50-4a20-bbfa-c990ce3cb828"
      },
      "source": [
        "# let's load the House Prices dataset\n",
        "\n",
        "data = pd.read_csv('houseprice_train.csv', usecols=cols_to_use)\n",
        "print(data.shape)\n",
        "data.head()"
      ],
      "execution_count": 7,
      "outputs": [
        {
          "output_type": "stream",
          "text": [
            "(1460, 10)\n"
          ],
          "name": "stdout"
        },
        {
          "output_type": "execute_result",
          "data": {
            "text/html": [
              "<div>\n",
              "<style scoped>\n",
              "    .dataframe tbody tr th:only-of-type {\n",
              "        vertical-align: middle;\n",
              "    }\n",
              "\n",
              "    .dataframe tbody tr th {\n",
              "        vertical-align: top;\n",
              "    }\n",
              "\n",
              "    .dataframe thead th {\n",
              "        text-align: right;\n",
              "    }\n",
              "</style>\n",
              "<table border=\"1\" class=\"dataframe\">\n",
              "  <thead>\n",
              "    <tr style=\"text-align: right;\">\n",
              "      <th></th>\n",
              "      <th>LotFrontage</th>\n",
              "      <th>OverallQual</th>\n",
              "      <th>MasVnrArea</th>\n",
              "      <th>BsmtUnfSF</th>\n",
              "      <th>TotalBsmtSF</th>\n",
              "      <th>1stFlrSF</th>\n",
              "      <th>GrLivArea</th>\n",
              "      <th>GarageYrBlt</th>\n",
              "      <th>WoodDeckSF</th>\n",
              "      <th>SalePrice</th>\n",
              "    </tr>\n",
              "  </thead>\n",
              "  <tbody>\n",
              "    <tr>\n",
              "      <th>0</th>\n",
              "      <td>65.0</td>\n",
              "      <td>7</td>\n",
              "      <td>196.0</td>\n",
              "      <td>150</td>\n",
              "      <td>856</td>\n",
              "      <td>856</td>\n",
              "      <td>1710</td>\n",
              "      <td>2003.0</td>\n",
              "      <td>0</td>\n",
              "      <td>208500</td>\n",
              "    </tr>\n",
              "    <tr>\n",
              "      <th>1</th>\n",
              "      <td>80.0</td>\n",
              "      <td>6</td>\n",
              "      <td>0.0</td>\n",
              "      <td>284</td>\n",
              "      <td>1262</td>\n",
              "      <td>1262</td>\n",
              "      <td>1262</td>\n",
              "      <td>1976.0</td>\n",
              "      <td>298</td>\n",
              "      <td>181500</td>\n",
              "    </tr>\n",
              "    <tr>\n",
              "      <th>2</th>\n",
              "      <td>68.0</td>\n",
              "      <td>7</td>\n",
              "      <td>162.0</td>\n",
              "      <td>434</td>\n",
              "      <td>920</td>\n",
              "      <td>920</td>\n",
              "      <td>1786</td>\n",
              "      <td>2001.0</td>\n",
              "      <td>0</td>\n",
              "      <td>223500</td>\n",
              "    </tr>\n",
              "    <tr>\n",
              "      <th>3</th>\n",
              "      <td>60.0</td>\n",
              "      <td>7</td>\n",
              "      <td>0.0</td>\n",
              "      <td>540</td>\n",
              "      <td>756</td>\n",
              "      <td>961</td>\n",
              "      <td>1717</td>\n",
              "      <td>1998.0</td>\n",
              "      <td>0</td>\n",
              "      <td>140000</td>\n",
              "    </tr>\n",
              "    <tr>\n",
              "      <th>4</th>\n",
              "      <td>84.0</td>\n",
              "      <td>8</td>\n",
              "      <td>350.0</td>\n",
              "      <td>490</td>\n",
              "      <td>1145</td>\n",
              "      <td>1145</td>\n",
              "      <td>2198</td>\n",
              "      <td>2000.0</td>\n",
              "      <td>192</td>\n",
              "      <td>250000</td>\n",
              "    </tr>\n",
              "  </tbody>\n",
              "</table>\n",
              "</div>"
            ],
            "text/plain": [
              "   LotFrontage  OverallQual  MasVnrArea  ...  GarageYrBlt  WoodDeckSF  SalePrice\n",
              "0         65.0            7       196.0  ...       2003.0           0     208500\n",
              "1         80.0            6         0.0  ...       1976.0         298     181500\n",
              "2         68.0            7       162.0  ...       2001.0           0     223500\n",
              "3         60.0            7         0.0  ...       1998.0           0     140000\n",
              "4         84.0            8       350.0  ...       2000.0         192     250000\n",
              "\n",
              "[5 rows x 10 columns]"
            ]
          },
          "metadata": {
            "tags": []
          },
          "execution_count": 7
        }
      ]
    },
    {
      "cell_type": "code",
      "metadata": {
        "id": "m8IOGVRw4OGf",
        "colab_type": "code",
        "colab": {
          "base_uri": "https://localhost:8080/",
          "height": 208
        },
        "outputId": "678d6f26-ce97-48ca-b164-7b26e2118504"
      },
      "source": [
        "# let's check the null values\n",
        "data.isnull().mean()"
      ],
      "execution_count": 8,
      "outputs": [
        {
          "output_type": "execute_result",
          "data": {
            "text/plain": [
              "LotFrontage    0.177397\n",
              "OverallQual    0.000000\n",
              "MasVnrArea     0.005479\n",
              "BsmtUnfSF      0.000000\n",
              "TotalBsmtSF    0.000000\n",
              "1stFlrSF       0.000000\n",
              "GrLivArea      0.000000\n",
              "GarageYrBlt    0.055479\n",
              "WoodDeckSF     0.000000\n",
              "SalePrice      0.000000\n",
              "dtype: float64"
            ]
          },
          "metadata": {
            "tags": []
          },
          "execution_count": 8
        }
      ]
    },
    {
      "cell_type": "markdown",
      "metadata": {
        "id": "oeIamvwk4OGt",
        "colab_type": "text"
      },
      "source": [
        "The variables LotFrontage, MasVnrArea and GarageYrBlt contain missing data."
      ]
    },
    {
      "cell_type": "code",
      "metadata": {
        "id": "ijbjs6Jx4OGx",
        "colab_type": "code",
        "colab": {
          "base_uri": "https://localhost:8080/",
          "height": 34
        },
        "outputId": "2d026a15-507d-43d5-e79e-665c532964d4"
      },
      "source": [
        "# let's separate into training and testing set\n",
        "\n",
        "# first let's remove the target from the features\n",
        "cols_to_use.remove('SalePrice')\n",
        "\n",
        "X_train, X_test, y_train, y_test = train_test_split(data[cols_to_use], # just the features\n",
        "                                                    data['SalePrice'], # the target\n",
        "                                                    test_size=0.3, # the percentage of obs in the test set\n",
        "                                                    random_state=0) # for reproducibility\n",
        "X_train.shape, X_test.shape"
      ],
      "execution_count": 9,
      "outputs": [
        {
          "output_type": "execute_result",
          "data": {
            "text/plain": [
              "((1022, 9), (438, 9))"
            ]
          },
          "metadata": {
            "tags": []
          },
          "execution_count": 9
        }
      ]
    },
    {
      "cell_type": "code",
      "metadata": {
        "id": "gPmNWBRw4OG-",
        "colab_type": "code",
        "colab": {
          "base_uri": "https://localhost:8080/",
          "height": 191
        },
        "outputId": "433581c3-3973-4690-dfa6-ffa7bd002004"
      },
      "source": [
        "# let's check the misssing data again\n",
        "X_train.isnull().mean()"
      ],
      "execution_count": 10,
      "outputs": [
        {
          "output_type": "execute_result",
          "data": {
            "text/plain": [
              "OverallQual    0.000000\n",
              "TotalBsmtSF    0.000000\n",
              "1stFlrSF       0.000000\n",
              "GrLivArea      0.000000\n",
              "WoodDeckSF     0.000000\n",
              "BsmtUnfSF      0.000000\n",
              "LotFrontage    0.184932\n",
              "MasVnrArea     0.004892\n",
              "GarageYrBlt    0.052838\n",
              "dtype: float64"
            ]
          },
          "metadata": {
            "tags": []
          },
          "execution_count": 10
        }
      ]
    },
    {
      "cell_type": "markdown",
      "metadata": {
        "id": "e10Uk97Z4OHH",
        "colab_type": "text"
      },
      "source": [
        "### SimpleImputer on the entire dataset"
      ]
    },
    {
      "cell_type": "code",
      "metadata": {
        "id": "LoS7t2Wk4OHK",
        "colab_type": "code",
        "colab": {
          "base_uri": "https://localhost:8080/",
          "height": 52
        },
        "outputId": "6a44dabd-3bd5-43d9-8ef3-a2c5540ba9bc"
      },
      "source": [
        "# Now we impute the missing values with SimpleImputer\n",
        "\n",
        "# create an instance of the simple imputer\n",
        "# we indicate that we want to impute with the median\n",
        "imputer = SimpleImputer(strategy='median')\n",
        "\n",
        "# we fit the imputer to the train set\n",
        "# the imputer will learn the median of all variables\n",
        "imputer.fit(X_train[cols_to_use])"
      ],
      "execution_count": 11,
      "outputs": [
        {
          "output_type": "execute_result",
          "data": {
            "text/plain": [
              "SimpleImputer(add_indicator=False, copy=True, fill_value=None,\n",
              "              missing_values=nan, strategy='median', verbose=0)"
            ]
          },
          "metadata": {
            "tags": []
          },
          "execution_count": 11
        }
      ]
    },
    {
      "cell_type": "markdown",
      "metadata": {
        "id": "bgITnNF44OHY",
        "colab_type": "text"
      },
      "source": [
        "**Note, if you want to do mean imputation instead of median, pass the argument 'mean' to 'strategy'**"
      ]
    },
    {
      "cell_type": "code",
      "metadata": {
        "id": "pMrTDb6I4OHd",
        "colab_type": "code",
        "colab": {
          "base_uri": "https://localhost:8080/",
          "height": 52
        },
        "outputId": "51a5a631-d51b-4ef2-9f29-2a2d8ea3ca4c"
      },
      "source": [
        "# we can look at the learnt medians like this:\n",
        "imputer.statistics_"
      ],
      "execution_count": 12,
      "outputs": [
        {
          "output_type": "execute_result",
          "data": {
            "text/plain": [
              "array([   6. ,  992. , 1095. , 1479. ,    0. ,  486.5,   69. ,    0. ,\n",
              "       1979. ])"
            ]
          },
          "metadata": {
            "tags": []
          },
          "execution_count": 12
        }
      ]
    },
    {
      "cell_type": "code",
      "metadata": {
        "id": "uWLFLzXJ4OHl",
        "colab_type": "code",
        "colab": {
          "base_uri": "https://localhost:8080/",
          "height": 191
        },
        "outputId": "a55b1330-d1b2-4532-9fe4-201b783f55b8"
      },
      "source": [
        "# and we can investigate the medians directly to corroborate\n",
        "# the imputer did a good job\n",
        "X_train[cols_to_use].median()"
      ],
      "execution_count": 13,
      "outputs": [
        {
          "output_type": "execute_result",
          "data": {
            "text/plain": [
              "OverallQual       6.0\n",
              "TotalBsmtSF     992.0\n",
              "1stFlrSF       1095.0\n",
              "GrLivArea      1479.0\n",
              "WoodDeckSF        0.0\n",
              "BsmtUnfSF       486.5\n",
              "LotFrontage      69.0\n",
              "MasVnrArea        0.0\n",
              "GarageYrBlt    1979.0\n",
              "dtype: float64"
            ]
          },
          "metadata": {
            "tags": []
          },
          "execution_count": 13
        }
      ]
    },
    {
      "cell_type": "markdown",
      "metadata": {
        "id": "vNJVQF7K4OH0",
        "colab_type": "text"
      },
      "source": [
        "**Note** that SimpleImputer learns the medians of ALL the variables in the dataset, those with NA and those without NA."
      ]
    },
    {
      "cell_type": "code",
      "metadata": {
        "id": "gus8A-_64OH6",
        "colab_type": "code",
        "colab": {
          "base_uri": "https://localhost:8080/",
          "height": 139
        },
        "outputId": "df1bc764-f825-4184-8b5e-3e24bf45a17d"
      },
      "source": [
        "# and now we impute the train and test set\n",
        "\n",
        "# NOTE: the data is returned as a numpy array!!!\n",
        "X_train = imputer.transform(X_train)\n",
        "X_test = imputer.transform(X_test)\n",
        "\n",
        "X_train"
      ],
      "execution_count": 14,
      "outputs": [
        {
          "output_type": "execute_result",
          "data": {
            "text/plain": [
              "array([[   7., 1057., 1057., ...,   69.,  573., 1998.],\n",
              "       [   6., 1291., 1291., ...,   69.,    0., 1996.],\n",
              "       [   5.,  858.,  858., ...,   50.,    0., 1979.],\n",
              "       ...,\n",
              "       [   6.,    0., 1318., ...,   68.,    0., 1978.],\n",
              "       [   7., 1374., 1557., ...,   69.,   18., 2003.],\n",
              "       [   7., 1195., 1195., ...,   58.,   30., 1998.]])"
            ]
          },
          "metadata": {
            "tags": []
          },
          "execution_count": 14
        }
      ]
    },
    {
      "cell_type": "code",
      "metadata": {
        "id": "5bIRXCit4OIG",
        "colab_type": "code",
        "colab": {
          "base_uri": "https://localhost:8080/",
          "height": 206
        },
        "outputId": "80847820-f1fc-48dc-825a-64732a67d75d"
      },
      "source": [
        "# if we wanted to continue our data analysis, we would have to\n",
        "# encode the train set back to a dataframe:\n",
        "\n",
        "pd.DataFrame(X_train, columns=cols_to_use).head()"
      ],
      "execution_count": 16,
      "outputs": [
        {
          "output_type": "execute_result",
          "data": {
            "text/html": [
              "<div>\n",
              "<style scoped>\n",
              "    .dataframe tbody tr th:only-of-type {\n",
              "        vertical-align: middle;\n",
              "    }\n",
              "\n",
              "    .dataframe tbody tr th {\n",
              "        vertical-align: top;\n",
              "    }\n",
              "\n",
              "    .dataframe thead th {\n",
              "        text-align: right;\n",
              "    }\n",
              "</style>\n",
              "<table border=\"1\" class=\"dataframe\">\n",
              "  <thead>\n",
              "    <tr style=\"text-align: right;\">\n",
              "      <th></th>\n",
              "      <th>OverallQual</th>\n",
              "      <th>TotalBsmtSF</th>\n",
              "      <th>1stFlrSF</th>\n",
              "      <th>GrLivArea</th>\n",
              "      <th>WoodDeckSF</th>\n",
              "      <th>BsmtUnfSF</th>\n",
              "      <th>LotFrontage</th>\n",
              "      <th>MasVnrArea</th>\n",
              "      <th>GarageYrBlt</th>\n",
              "    </tr>\n",
              "  </thead>\n",
              "  <tbody>\n",
              "    <tr>\n",
              "      <th>0</th>\n",
              "      <td>7.0</td>\n",
              "      <td>1057.0</td>\n",
              "      <td>1057.0</td>\n",
              "      <td>2034.0</td>\n",
              "      <td>576.0</td>\n",
              "      <td>318.0</td>\n",
              "      <td>69.0</td>\n",
              "      <td>573.0</td>\n",
              "      <td>1998.0</td>\n",
              "    </tr>\n",
              "    <tr>\n",
              "      <th>1</th>\n",
              "      <td>6.0</td>\n",
              "      <td>1291.0</td>\n",
              "      <td>1291.0</td>\n",
              "      <td>1291.0</td>\n",
              "      <td>307.0</td>\n",
              "      <td>288.0</td>\n",
              "      <td>69.0</td>\n",
              "      <td>0.0</td>\n",
              "      <td>1996.0</td>\n",
              "    </tr>\n",
              "    <tr>\n",
              "      <th>2</th>\n",
              "      <td>5.0</td>\n",
              "      <td>858.0</td>\n",
              "      <td>858.0</td>\n",
              "      <td>858.0</td>\n",
              "      <td>117.0</td>\n",
              "      <td>162.0</td>\n",
              "      <td>50.0</td>\n",
              "      <td>0.0</td>\n",
              "      <td>1979.0</td>\n",
              "    </tr>\n",
              "    <tr>\n",
              "      <th>3</th>\n",
              "      <td>6.0</td>\n",
              "      <td>560.0</td>\n",
              "      <td>698.0</td>\n",
              "      <td>1258.0</td>\n",
              "      <td>0.0</td>\n",
              "      <td>356.0</td>\n",
              "      <td>60.0</td>\n",
              "      <td>0.0</td>\n",
              "      <td>1939.0</td>\n",
              "    </tr>\n",
              "    <tr>\n",
              "      <th>4</th>\n",
              "      <td>2.0</td>\n",
              "      <td>290.0</td>\n",
              "      <td>438.0</td>\n",
              "      <td>438.0</td>\n",
              "      <td>0.0</td>\n",
              "      <td>0.0</td>\n",
              "      <td>60.0</td>\n",
              "      <td>0.0</td>\n",
              "      <td>1930.0</td>\n",
              "    </tr>\n",
              "  </tbody>\n",
              "</table>\n",
              "</div>"
            ],
            "text/plain": [
              "   OverallQual  TotalBsmtSF  1stFlrSF  ...  LotFrontage  MasVnrArea  GarageYrBlt\n",
              "0          7.0       1057.0    1057.0  ...         69.0       573.0       1998.0\n",
              "1          6.0       1291.0    1291.0  ...         69.0         0.0       1996.0\n",
              "2          5.0        858.0     858.0  ...         50.0         0.0       1979.0\n",
              "3          6.0        560.0     698.0  ...         60.0         0.0       1939.0\n",
              "4          2.0        290.0     438.0  ...         60.0         0.0       1930.0\n",
              "\n",
              "[5 rows x 9 columns]"
            ]
          },
          "metadata": {
            "tags": []
          },
          "execution_count": 16
        }
      ]
    },
    {
      "cell_type": "code",
      "metadata": {
        "id": "MFlFXdGH4OIY",
        "colab_type": "code",
        "colab": {
          "base_uri": "https://localhost:8080/",
          "height": 607
        },
        "outputId": "2714531b-4820-4632-f3f7-2788dad2106d"
      },
      "source": [
        "# Let's explore the change in the distributions after the median imputation\n",
        "\n",
        "X_train = pd.DataFrame(X_train, columns=cols_to_use)\n",
        "X_train.hist(bins=50, figsize=(10,10))\n",
        "plt.show()"
      ],
      "execution_count": 17,
      "outputs": [
        {
          "output_type": "display_data",
          "data": {
            "image/png": "[encoded data removed]",
            "text/plain": [
              "<Figure size 720x720 with 9 Axes>"
            ]
          },
          "metadata": {
            "tags": []
          }
        }
      ]
    },
    {
      "cell_type": "markdown",
      "metadata": {
        "id": "Y5IGp4ox4OIg",
        "colab_type": "text"
      },
      "source": [
        "Note in the variable LotFrontAge the tall bar at the value of the median in the histogram, which appears after the data imputation.\n",
        "\n",
        "**A MASSIVE NOTE OF CAUTION**: when encoding the returned numpy arrays from Scikit-learn back to a dataframe, there is the potential risk of messing the order of the features and therefore MISS-REPRESENTING the data!!\n",
        "\n",
        "You need to be extremely careful to pass the columns to the pd.DataFrame command in the same order in which they were in the X_train BEFORE the transformation!.\n",
        "\n",
        "\n",
        "### SimpleImputer: different procedures on different features\n",
        "\n",
        "On occasions, we want to implement different imputation techniques to different features, how can we do this using the SimpleImputer from Scikit-learn?\n",
        "\n",
        "We need to use another class called ColumnTransformer. \n",
        "\n",
        "**Note** ColumnTransformer has been recently released by Scikit-learn and it is therefore in beta version. This means that the developers can change the way it is used, or remove it altogether any time. The implication is that the code you write today, may not be useful after new releases from Scikit-learn. That is usually what happens with any open-source package when the developers are trying new functionality.\n",
        "\n",
        "More details about the ColumnTransformer in the [Sklearn website](https://scikit-learn.org/stable/modules/generated/sklearn.compose.ColumnTransformer.html)"
      ]
    },
    {
      "cell_type": "code",
      "metadata": {
        "id": "peWimTS34OIj",
        "colab_type": "code",
        "colab": {
          "base_uri": "https://localhost:8080/",
          "height": 34
        },
        "outputId": "7d4d6d7a-a876-4602-a40b-22738056ae6e"
      },
      "source": [
        "# let's separate into training and testing set\n",
        "\n",
        "X_train, X_test, y_train, y_test = train_test_split(data[cols_to_use],# predictors only\n",
        "                                                    data['SalePrice'],\n",
        "                                                    test_size=0.3,\n",
        "                                                    random_state=0)\n",
        "X_train.shape, X_test.shape"
      ],
      "execution_count": 18,
      "outputs": [
        {
          "output_type": "execute_result",
          "data": {
            "text/plain": [
              "((1022, 9), (438, 9))"
            ]
          },
          "metadata": {
            "tags": []
          },
          "execution_count": 18
        }
      ]
    },
    {
      "cell_type": "code",
      "metadata": {
        "id": "rqIKhLst4OIv",
        "colab_type": "code",
        "colab": {
          "base_uri": "https://localhost:8080/",
          "height": 191
        },
        "outputId": "a76db67b-3f24-4e55-e6a9-5f80e2de2bad"
      },
      "source": [
        "# let's look at the missing values\n",
        "X_train.isnull().mean()"
      ],
      "execution_count": 19,
      "outputs": [
        {
          "output_type": "execute_result",
          "data": {
            "text/plain": [
              "OverallQual    0.000000\n",
              "TotalBsmtSF    0.000000\n",
              "1stFlrSF       0.000000\n",
              "GrLivArea      0.000000\n",
              "WoodDeckSF     0.000000\n",
              "BsmtUnfSF      0.000000\n",
              "LotFrontage    0.184932\n",
              "MasVnrArea     0.004892\n",
              "GarageYrBlt    0.052838\n",
              "dtype: float64"
            ]
          },
          "metadata": {
            "tags": []
          },
          "execution_count": 19
        }
      ]
    },
    {
      "cell_type": "code",
      "metadata": {
        "id": "7bUDgLwn4OI5",
        "colab_type": "code",
        "colab": {
          "base_uri": "https://localhost:8080/",
          "height": 607
        },
        "outputId": "cdc64e5b-f38c-46d6-8417-df664035898f"
      },
      "source": [
        "# let's look at the distributions of the variables to decide\n",
        "# whether we use the mean or the median\n",
        "\n",
        "X_train.hist(bins=50, figsize=(10,10))\n",
        "plt.show()"
      ],
      "execution_count": 20,
      "outputs": [
        {
          "output_type": "display_data",
          "data": {
            "image/png": "[encoded data removed]",
            "text/plain": [
              "<Figure size 720x720 with 9 Axes>"
            ]
          },
          "metadata": {
            "tags": []
          }
        }
      ]
    },
    {
      "cell_type": "markdown",
      "metadata": {
        "id": "ZNzC1syb4OJF",
        "colab_type": "text"
      },
      "source": [
        "For this demo, I will impute LotFrontage with the mean, and MasVnrArea and GarageYrBlt with the median, as those variables are quite skewed."
      ]
    },
    {
      "cell_type": "code",
      "metadata": {
        "id": "4qd9j_Di4OJI",
        "colab_type": "code",
        "colab": {}
      },
      "source": [
        "# first we need to make lists, indicating which features\n",
        "# will be imputed with each method\n",
        "\n",
        "numeric_features_mean = ['LotFrontage']\n",
        "numeric_features_median = ['MasVnrArea', 'GarageYrBlt']\n",
        "\n",
        "# then we instantiate the imputers, within a pipeline\n",
        "# we create one mean imputer and one median imputer\n",
        "# by changing the parameter in the strategy\n",
        "\n",
        "numeric_mean_imputer = Pipeline(steps=[\n",
        "    ('imputer', SimpleImputer(strategy='mean')),\n",
        "])\n",
        "\n",
        "numeric_median_imputer = Pipeline(steps=[\n",
        "    ('imputer', SimpleImputer(strategy='median')),\n",
        "])\n",
        "\n",
        "# then we put the features list and the transformers together\n",
        "# using the column transformer\n",
        "\n",
        "# we need to add remainder = True to indicate what we want\n",
        "# ALL the columns returned at the end of the transformation\n",
        "# and not just the engineered ones, which is the default\n",
        "# behaviour of ColumnTransformer. \n",
        "\n",
        "preprocessor = ColumnTransformer(transformers=[\n",
        "    ('mean_imputer', numeric_mean_imputer, numeric_features_mean),\n",
        "    ('median_imputer', numeric_median_imputer, numeric_features_median)\n",
        "], remainder='passthrough')\n",
        "\n",
        "\n",
        "# parameters of the ColumnTransformer\n",
        "# remainder = 'passthrough' indicates that we want to retain ALL the columns in the dataset\n",
        "            # otherwise only those specified in the imputing steps will be kept\n",
        "    \n",
        "# for more details follow the sklearn page:\n",
        "# https://scikit-learn.org/stable/modules/generated/sklearn.compose.ColumnTransformer.html"
      ],
      "execution_count": 0,
      "outputs": []
    },
    {
      "cell_type": "code",
      "metadata": {
        "id": "Oaq3LKDM4OJP",
        "colab_type": "code",
        "colab": {
          "base_uri": "https://localhost:8080/",
          "height": 451
        },
        "outputId": "f98335e1-86b5-458d-f072-6778d7bf75c6"
      },
      "source": [
        "# now we fit the preprocessor\n",
        "preprocessor.fit(X_train)"
      ],
      "execution_count": 23,
      "outputs": [
        {
          "output_type": "execute_result",
          "data": {
            "text/plain": [
              "ColumnTransformer(n_jobs=None, remainder='passthrough', sparse_threshold=0.3,\n",
              "                  transformer_weights=None,\n",
              "                  transformers=[('mean_imputer',\n",
              "                                 Pipeline(memory=None,\n",
              "                                          steps=[('imputer',\n",
              "                                                  SimpleImputer(add_indicator=False,\n",
              "                                                                copy=True,\n",
              "                                                                fill_value=None,\n",
              "                                                                missing_values=nan,\n",
              "                                                                strategy='mean',\n",
              "                                                                verbose=0))],\n",
              "                                          verbose=False),\n",
              "                                 ['LotFrontage']),\n",
              "                                ('median_imputer',\n",
              "                                 Pipeline(memory=None,\n",
              "                                          steps=[('imputer',\n",
              "                                                  SimpleImputer(add_indicator=False,\n",
              "                                                                copy=True,\n",
              "                                                                fill_value=None,\n",
              "                                                                missing_values=nan,\n",
              "                                                                strategy='median',\n",
              "                                                                verbose=0))],\n",
              "                                          verbose=False),\n",
              "                                 ['MasVnrArea', 'GarageYrBlt'])],\n",
              "                  verbose=False)"
            ]
          },
          "metadata": {
            "tags": []
          },
          "execution_count": 23
        }
      ]
    },
    {
      "cell_type": "code",
      "metadata": {
        "id": "a9YOswgt4OJX",
        "colab_type": "code",
        "colab": {
          "base_uri": "https://localhost:8080/",
          "height": 225
        },
        "outputId": "b00691b8-2c8a-4fa7-c4a7-f564f1afc0e9"
      },
      "source": [
        "# we can explore the transformers like this:\n",
        "\n",
        "preprocessor.transformers"
      ],
      "execution_count": 24,
      "outputs": [
        {
          "output_type": "execute_result",
          "data": {
            "text/plain": [
              "[('mean_imputer', Pipeline(memory=None,\n",
              "           steps=[('imputer',\n",
              "                   SimpleImputer(add_indicator=False, copy=True, fill_value=None,\n",
              "                                 missing_values=nan, strategy='mean',\n",
              "                                 verbose=0))],\n",
              "           verbose=False), ['LotFrontage']),\n",
              " ('median_imputer', Pipeline(memory=None,\n",
              "           steps=[('imputer',\n",
              "                   SimpleImputer(add_indicator=False, copy=True, fill_value=None,\n",
              "                                 missing_values=nan, strategy='median',\n",
              "                                 verbose=0))],\n",
              "           verbose=False), ['MasVnrArea', 'GarageYrBlt'])]"
            ]
          },
          "metadata": {
            "tags": []
          },
          "execution_count": 24
        }
      ]
    },
    {
      "cell_type": "code",
      "metadata": {
        "id": "wr2_5GS-4OJi",
        "colab_type": "code",
        "colab": {
          "base_uri": "https://localhost:8080/",
          "height": 34
        },
        "outputId": "50427b2e-047d-4a83-91b4-1a0c63a426af"
      },
      "source": [
        "# and we can look at the parameters learnt like this:\n",
        "\n",
        "# for the mean imputer\n",
        "preprocessor.named_transformers_['mean_imputer'].named_steps['imputer'].statistics_"
      ],
      "execution_count": 25,
      "outputs": [
        {
          "output_type": "execute_result",
          "data": {
            "text/plain": [
              "array([69.66866747])"
            ]
          },
          "metadata": {
            "tags": []
          },
          "execution_count": 25
        }
      ]
    },
    {
      "cell_type": "code",
      "metadata": {
        "id": "DVnw6X8Q4OJs",
        "colab_type": "code",
        "colab": {
          "base_uri": "https://localhost:8080/",
          "height": 52
        },
        "outputId": "0734935d-e73c-41b7-b91e-4147f41c6966"
      },
      "source": [
        "# and we can corroborate the value with that one in\n",
        "# the train set\n",
        "X_train[numeric_features_mean].mean()"
      ],
      "execution_count": 26,
      "outputs": [
        {
          "output_type": "execute_result",
          "data": {
            "text/plain": [
              "LotFrontage    69.668667\n",
              "dtype: float64"
            ]
          },
          "metadata": {
            "tags": []
          },
          "execution_count": 26
        }
      ]
    },
    {
      "cell_type": "code",
      "metadata": {
        "id": "bqeG64Pt4OJ3",
        "colab_type": "code",
        "colab": {
          "base_uri": "https://localhost:8080/",
          "height": 34
        },
        "outputId": "6f700c0f-807e-4269-8f9b-e0af0c63d131"
      },
      "source": [
        "# for the median imputerthere are 2 values learnt\n",
        "# because we want to impute 2 different variables\n",
        "\n",
        "preprocessor.named_transformers_['median_imputer'].named_steps['imputer'].statistics_"
      ],
      "execution_count": 27,
      "outputs": [
        {
          "output_type": "execute_result",
          "data": {
            "text/plain": [
              "array([   0., 1979.])"
            ]
          },
          "metadata": {
            "tags": []
          },
          "execution_count": 27
        }
      ]
    },
    {
      "cell_type": "code",
      "metadata": {
        "id": "_ACAdBvY4OKD",
        "colab_type": "code",
        "colab": {
          "base_uri": "https://localhost:8080/",
          "height": 69
        },
        "outputId": "55937a81-eeab-4d55-9a84-8f2f192b6295"
      },
      "source": [
        "# and we corroborate those values in the train set\n",
        "X_train[numeric_features_median].median()"
      ],
      "execution_count": 28,
      "outputs": [
        {
          "output_type": "execute_result",
          "data": {
            "text/plain": [
              "MasVnrArea        0.0\n",
              "GarageYrBlt    1979.0\n",
              "dtype: float64"
            ]
          },
          "metadata": {
            "tags": []
          },
          "execution_count": 28
        }
      ]
    },
    {
      "cell_type": "code",
      "metadata": {
        "id": "jryzwMfH4OKK",
        "colab_type": "code",
        "colab": {},
        "outputId": "4f5fb890-6095-496a-d3a8-4d35c54c3ab7"
      },
      "source": [
        "# and now we can impute the data\n",
        "X_train = preprocessor.transform(X_train)\n",
        "\n",
        "# and check it worked\n",
        "np.mean(np.isnan(X_train))"
      ],
      "execution_count": 0,
      "outputs": [
        {
          "output_type": "execute_result",
          "data": {
            "text/plain": [
              "0.0"
            ]
          },
          "metadata": {
            "tags": []
          },
          "execution_count": 23
        }
      ]
    },
    {
      "cell_type": "code",
      "metadata": {
        "id": "8QkyzOgj4OKQ",
        "colab_type": "code",
        "colab": {
          "base_uri": "https://localhost:8080/",
          "height": 34
        },
        "outputId": "2536a11e-0c8c-4956-a365-a4dd84120c3e"
      },
      "source": [
        "# and now we can impute the test data\n",
        "X_test = preprocessor.transform(X_test)\n",
        "\n",
        "# and check it worked\n",
        "np.mean(np.isnan(X_test))"
      ],
      "execution_count": 29,
      "outputs": [
        {
          "output_type": "execute_result",
          "data": {
            "text/plain": [
              "0.0"
            ]
          },
          "metadata": {
            "tags": []
          },
          "execution_count": 29
        }
      ]
    },
    {
      "cell_type": "code",
      "metadata": {
        "id": "_yK18o0H4OKY",
        "colab_type": "code",
        "colab": {
          "base_uri": "https://localhost:8080/",
          "height": 444
        },
        "outputId": "1a58d734-067f-403e-f815-7a2d25b29caf"
      },
      "source": [
        "# remember that the returned object  is a NumPy array\n",
        "X_train"
      ],
      "execution_count": 30,
      "outputs": [
        {
          "output_type": "execute_result",
          "data": {
            "text/html": [
              "<div>\n",
              "<style scoped>\n",
              "    .dataframe tbody tr th:only-of-type {\n",
              "        vertical-align: middle;\n",
              "    }\n",
              "\n",
              "    .dataframe tbody tr th {\n",
              "        vertical-align: top;\n",
              "    }\n",
              "\n",
              "    .dataframe thead th {\n",
              "        text-align: right;\n",
              "    }\n",
              "</style>\n",
              "<table border=\"1\" class=\"dataframe\">\n",
              "  <thead>\n",
              "    <tr style=\"text-align: right;\">\n",
              "      <th></th>\n",
              "      <th>OverallQual</th>\n",
              "      <th>TotalBsmtSF</th>\n",
              "      <th>1stFlrSF</th>\n",
              "      <th>GrLivArea</th>\n",
              "      <th>WoodDeckSF</th>\n",
              "      <th>BsmtUnfSF</th>\n",
              "      <th>LotFrontage</th>\n",
              "      <th>MasVnrArea</th>\n",
              "      <th>GarageYrBlt</th>\n",
              "    </tr>\n",
              "  </thead>\n",
              "  <tbody>\n",
              "    <tr>\n",
              "      <th>64</th>\n",
              "      <td>7</td>\n",
              "      <td>1057</td>\n",
              "      <td>1057</td>\n",
              "      <td>2034</td>\n",
              "      <td>576</td>\n",
              "      <td>318</td>\n",
              "      <td>NaN</td>\n",
              "      <td>573.0</td>\n",
              "      <td>1998.0</td>\n",
              "    </tr>\n",
              "    <tr>\n",
              "      <th>682</th>\n",
              "      <td>6</td>\n",
              "      <td>1291</td>\n",
              "      <td>1291</td>\n",
              "      <td>1291</td>\n",
              "      <td>307</td>\n",
              "      <td>288</td>\n",
              "      <td>NaN</td>\n",
              "      <td>0.0</td>\n",
              "      <td>1996.0</td>\n",
              "    </tr>\n",
              "    <tr>\n",
              "      <th>960</th>\n",
              "      <td>5</td>\n",
              "      <td>858</td>\n",
              "      <td>858</td>\n",
              "      <td>858</td>\n",
              "      <td>117</td>\n",
              "      <td>162</td>\n",
              "      <td>50.0</td>\n",
              "      <td>0.0</td>\n",
              "      <td>NaN</td>\n",
              "    </tr>\n",
              "    <tr>\n",
              "      <th>1384</th>\n",
              "      <td>6</td>\n",
              "      <td>560</td>\n",
              "      <td>698</td>\n",
              "      <td>1258</td>\n",
              "      <td>0</td>\n",
              "      <td>356</td>\n",
              "      <td>60.0</td>\n",
              "      <td>0.0</td>\n",
              "      <td>1939.0</td>\n",
              "    </tr>\n",
              "    <tr>\n",
              "      <th>1100</th>\n",
              "      <td>2</td>\n",
              "      <td>290</td>\n",
              "      <td>438</td>\n",
              "      <td>438</td>\n",
              "      <td>0</td>\n",
              "      <td>0</td>\n",
              "      <td>60.0</td>\n",
              "      <td>0.0</td>\n",
              "      <td>1930.0</td>\n",
              "    </tr>\n",
              "    <tr>\n",
              "      <th>...</th>\n",
              "      <td>...</td>\n",
              "      <td>...</td>\n",
              "      <td>...</td>\n",
              "      <td>...</td>\n",
              "      <td>...</td>\n",
              "      <td>...</td>\n",
              "      <td>...</td>\n",
              "      <td>...</td>\n",
              "      <td>...</td>\n",
              "    </tr>\n",
              "    <tr>\n",
              "      <th>763</th>\n",
              "      <td>8</td>\n",
              "      <td>1252</td>\n",
              "      <td>1268</td>\n",
              "      <td>2365</td>\n",
              "      <td>0</td>\n",
              "      <td>89</td>\n",
              "      <td>82.0</td>\n",
              "      <td>673.0</td>\n",
              "      <td>1999.0</td>\n",
              "    </tr>\n",
              "    <tr>\n",
              "      <th>835</th>\n",
              "      <td>4</td>\n",
              "      <td>1067</td>\n",
              "      <td>1067</td>\n",
              "      <td>1067</td>\n",
              "      <td>290</td>\n",
              "      <td>625</td>\n",
              "      <td>60.0</td>\n",
              "      <td>0.0</td>\n",
              "      <td>1996.0</td>\n",
              "    </tr>\n",
              "    <tr>\n",
              "      <th>1216</th>\n",
              "      <td>6</td>\n",
              "      <td>0</td>\n",
              "      <td>1318</td>\n",
              "      <td>1902</td>\n",
              "      <td>0</td>\n",
              "      <td>0</td>\n",
              "      <td>68.0</td>\n",
              "      <td>0.0</td>\n",
              "      <td>1978.0</td>\n",
              "    </tr>\n",
              "    <tr>\n",
              "      <th>559</th>\n",
              "      <td>7</td>\n",
              "      <td>1374</td>\n",
              "      <td>1557</td>\n",
              "      <td>1557</td>\n",
              "      <td>143</td>\n",
              "      <td>1374</td>\n",
              "      <td>NaN</td>\n",
              "      <td>18.0</td>\n",
              "      <td>2003.0</td>\n",
              "    </tr>\n",
              "    <tr>\n",
              "      <th>684</th>\n",
              "      <td>7</td>\n",
              "      <td>1195</td>\n",
              "      <td>1195</td>\n",
              "      <td>1839</td>\n",
              "      <td>0</td>\n",
              "      <td>1195</td>\n",
              "      <td>58.0</td>\n",
              "      <td>30.0</td>\n",
              "      <td>1998.0</td>\n",
              "    </tr>\n",
              "  </tbody>\n",
              "</table>\n",
              "<p>1022 rows × 9 columns</p>\n",
              "</div>"
            ],
            "text/plain": [
              "      OverallQual  TotalBsmtSF  1stFlrSF  ...  LotFrontage  MasVnrArea  GarageYrBlt\n",
              "64              7         1057      1057  ...          NaN       573.0       1998.0\n",
              "682             6         1291      1291  ...          NaN         0.0       1996.0\n",
              "960             5          858       858  ...         50.0         0.0          NaN\n",
              "1384            6          560       698  ...         60.0         0.0       1939.0\n",
              "1100            2          290       438  ...         60.0         0.0       1930.0\n",
              "...           ...          ...       ...  ...          ...         ...          ...\n",
              "763             8         1252      1268  ...         82.0       673.0       1999.0\n",
              "835             4         1067      1067  ...         60.0         0.0       1996.0\n",
              "1216            6            0      1318  ...         68.0         0.0       1978.0\n",
              "559             7         1374      1557  ...          NaN        18.0       2003.0\n",
              "684             7         1195      1195  ...         58.0        30.0       1998.0\n",
              "\n",
              "[1022 rows x 9 columns]"
            ]
          },
          "metadata": {
            "tags": []
          },
          "execution_count": 30
        }
      ]
    },
    {
      "cell_type": "code",
      "metadata": {
        "id": "dJYKV0oI4OKe",
        "colab_type": "code",
        "colab": {
          "base_uri": "https://localhost:8080/",
          "height": 243
        },
        "outputId": "1f3eb55b-75d7-484b-fa0e-a7ac12498268"
      },
      "source": [
        "# if we want to put the array back into a dataframe, we need\n",
        "# to be careful with the column order\n",
        "\n",
        "# like this, we can explore the features used in each transformer\n",
        "# including those in the remainder (the ones that were not transformed)\n",
        "preprocessor.transformers_"
      ],
      "execution_count": 31,
      "outputs": [
        {
          "output_type": "execute_result",
          "data": {
            "text/plain": [
              "[('mean_imputer', Pipeline(memory=None,\n",
              "           steps=[('imputer',\n",
              "                   SimpleImputer(add_indicator=False, copy=True, fill_value=None,\n",
              "                                 missing_values=nan, strategy='mean',\n",
              "                                 verbose=0))],\n",
              "           verbose=False), ['LotFrontage']),\n",
              " ('median_imputer', Pipeline(memory=None,\n",
              "           steps=[('imputer',\n",
              "                   SimpleImputer(add_indicator=False, copy=True, fill_value=None,\n",
              "                                 missing_values=nan, strategy='median',\n",
              "                                 verbose=0))],\n",
              "           verbose=False), ['MasVnrArea', 'GarageYrBlt']),\n",
              " ('remainder', 'passthrough', [0, 1, 2, 3, 4, 5])]"
            ]
          },
          "metadata": {
            "tags": []
          },
          "execution_count": 31
        }
      ]
    },
    {
      "cell_type": "markdown",
      "metadata": {
        "id": "NQxlzut64OKj",
        "colab_type": "text"
      },
      "source": [
        "'remainder', 'passthrough', [0, 1, 2, 3, 4, 5]\n",
        "\n",
        "the code above tells us that the remainder columns are those in position 0, 1, 2, 3, 4, 5 of the X_train"
      ]
    },
    {
      "cell_type": "code",
      "metadata": {
        "id": "4qgDwIRZ4OKo",
        "colab_type": "code",
        "colab": {
          "base_uri": "https://localhost:8080/",
          "height": 121
        },
        "outputId": "66ef9616-6aa6-48f2-bb49-b66928cb845b"
      },
      "source": [
        "# let's capture the columns in a list\n",
        "\n",
        "remainder_cols = [cols_to_use[c] for c in [0, 1, 2, 3, 4, 5]]\n",
        "remainder_cols"
      ],
      "execution_count": 33,
      "outputs": [
        {
          "output_type": "execute_result",
          "data": {
            "text/plain": [
              "['OverallQual',\n",
              " 'TotalBsmtSF',\n",
              " '1stFlrSF',\n",
              " 'GrLivArea',\n",
              " 'WoodDeckSF',\n",
              " 'BsmtUnfSF']"
            ]
          },
          "metadata": {
            "tags": []
          },
          "execution_count": 33
        }
      ]
    },
    {
      "cell_type": "code",
      "metadata": {
        "id": "dc4t6CJy4OKw",
        "colab_type": "code",
        "colab": {
          "base_uri": "https://localhost:8080/",
          "height": 226
        },
        "outputId": "cf107d39-a501-4f95-8d3d-11863102fb2f"
      },
      "source": [
        "# capture the data back in a dataframe\n",
        "pd.DataFrame(X_train,\n",
        "             columns = numeric_features_mean+numeric_features_median+remainder_cols).head()"
      ],
      "execution_count": 34,
      "outputs": [
        {
          "output_type": "execute_result",
          "data": {
            "text/html": [
              "<div>\n",
              "<style scoped>\n",
              "    .dataframe tbody tr th:only-of-type {\n",
              "        vertical-align: middle;\n",
              "    }\n",
              "\n",
              "    .dataframe tbody tr th {\n",
              "        vertical-align: top;\n",
              "    }\n",
              "\n",
              "    .dataframe thead th {\n",
              "        text-align: right;\n",
              "    }\n",
              "</style>\n",
              "<table border=\"1\" class=\"dataframe\">\n",
              "  <thead>\n",
              "    <tr style=\"text-align: right;\">\n",
              "      <th></th>\n",
              "      <th>LotFrontage</th>\n",
              "      <th>MasVnrArea</th>\n",
              "      <th>GarageYrBlt</th>\n",
              "      <th>OverallQual</th>\n",
              "      <th>TotalBsmtSF</th>\n",
              "      <th>1stFlrSF</th>\n",
              "      <th>GrLivArea</th>\n",
              "      <th>WoodDeckSF</th>\n",
              "      <th>BsmtUnfSF</th>\n",
              "    </tr>\n",
              "  </thead>\n",
              "  <tbody>\n",
              "    <tr>\n",
              "      <th>64</th>\n",
              "      <td>NaN</td>\n",
              "      <td>573.0</td>\n",
              "      <td>1998.0</td>\n",
              "      <td>7</td>\n",
              "      <td>1057</td>\n",
              "      <td>1057</td>\n",
              "      <td>2034</td>\n",
              "      <td>576</td>\n",
              "      <td>318</td>\n",
              "    </tr>\n",
              "    <tr>\n",
              "      <th>682</th>\n",
              "      <td>NaN</td>\n",
              "      <td>0.0</td>\n",
              "      <td>1996.0</td>\n",
              "      <td>6</td>\n",
              "      <td>1291</td>\n",
              "      <td>1291</td>\n",
              "      <td>1291</td>\n",
              "      <td>307</td>\n",
              "      <td>288</td>\n",
              "    </tr>\n",
              "    <tr>\n",
              "      <th>960</th>\n",
              "      <td>50.0</td>\n",
              "      <td>0.0</td>\n",
              "      <td>NaN</td>\n",
              "      <td>5</td>\n",
              "      <td>858</td>\n",
              "      <td>858</td>\n",
              "      <td>858</td>\n",
              "      <td>117</td>\n",
              "      <td>162</td>\n",
              "    </tr>\n",
              "    <tr>\n",
              "      <th>1384</th>\n",
              "      <td>60.0</td>\n",
              "      <td>0.0</td>\n",
              "      <td>1939.0</td>\n",
              "      <td>6</td>\n",
              "      <td>560</td>\n",
              "      <td>698</td>\n",
              "      <td>1258</td>\n",
              "      <td>0</td>\n",
              "      <td>356</td>\n",
              "    </tr>\n",
              "    <tr>\n",
              "      <th>1100</th>\n",
              "      <td>60.0</td>\n",
              "      <td>0.0</td>\n",
              "      <td>1930.0</td>\n",
              "      <td>2</td>\n",
              "      <td>290</td>\n",
              "      <td>438</td>\n",
              "      <td>438</td>\n",
              "      <td>0</td>\n",
              "      <td>0</td>\n",
              "    </tr>\n",
              "  </tbody>\n",
              "</table>\n",
              "</div>"
            ],
            "text/plain": [
              "      LotFrontage  MasVnrArea  GarageYrBlt  ...  GrLivArea  WoodDeckSF  BsmtUnfSF\n",
              "64            NaN       573.0       1998.0  ...       2034         576        318\n",
              "682           NaN         0.0       1996.0  ...       1291         307        288\n",
              "960          50.0         0.0          NaN  ...        858         117        162\n",
              "1384         60.0         0.0       1939.0  ...       1258           0        356\n",
              "1100         60.0         0.0       1930.0  ...        438           0          0\n",
              "\n",
              "[5 rows x 9 columns]"
            ]
          },
          "metadata": {
            "tags": []
          },
          "execution_count": 34
        }
      ]
    },
    {
      "cell_type": "markdown",
      "metadata": {
        "id": "G9027byQ4OK3",
        "colab_type": "text"
      },
      "source": [
        "**ANOTHER NOTE OF CAUTION**\n",
        "\n",
        "ColumnTransformer is in essence just slicing the dataframe in the required features. Then the SimpleImputer operates on the sliced dataframe. If different features are required by the different imputation methods, it will slice the dataframe on the required features for each imputation, and then concatenate them to produce the final output.\n",
        "\n",
        "For our specific example, what happens is the following:\n",
        "\n",
        "- ColumnTransformer first creates a single column dataframe with the first feature, LotFrontage\n",
        "- ColumnTransformer creates a 2 column dataframe with the features MasVnrArea and GarageBlt\n",
        "- ColumnTransformer creates an additional dataframe with the remaining features in the train set\n",
        "- The SimpleImputers learn the parameters in their respective sliced dataframes\n",
        "- ColunmnTransformer contatenates back all the dataframes into the final result"
      ]
    },
    {
      "cell_type": "code",
      "metadata": {
        "id": "_yDpe8Qt4OK4",
        "colab_type": "code",
        "colab": {}
      },
      "source": [
        ""
      ],
      "execution_count": 0,
      "outputs": []
    }
  ]
}
