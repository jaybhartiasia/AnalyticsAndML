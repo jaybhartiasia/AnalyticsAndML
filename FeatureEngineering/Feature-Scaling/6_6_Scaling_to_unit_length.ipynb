{
  "nbformat": 4,
  "nbformat_minor": 0,
  "metadata": {
    "kernelspec": {
      "display_name": "feml",
      "language": "python",
      "name": "feml"
    },
    "language_info": {
      "codemirror_mode": {
        "name": "ipython",
        "version": 3
      },
      "file_extension": ".py",
      "mimetype": "text/x-python",
      "name": "python",
      "nbconvert_exporter": "python",
      "pygments_lexer": "ipython3",
      "version": "3.7.3"
    },
    "toc": {
      "nav_menu": {},
      "number_sections": true,
      "sideBar": true,
      "skip_h1_title": false,
      "toc_cell": false,
      "toc_position": {},
      "toc_section_display": "block",
      "toc_window_display": true
    },
    "colab": {
      "name": "6.6 Scaling-to-unit-length.ipynb",
      "provenance": [],
      "include_colab_link": true
    }
  },
  "cells": [
    {
      "cell_type": "markdown",
      "metadata": {
        "id": "view-in-github",
        "colab_type": "text"
      },
      "source": [
        "<a href=\"https://colab.research.google.com/github/vinay10949/AnalyticsAndML/blob/master/FeatureEngineering/Feature-Scaling/6_6_Scaling_to_unit_length.ipynb\" target=\"_parent\"><img src=\"https://colab.research.google.com/assets/colab-badge.svg\" alt=\"Open In Colab\"/></a>"
      ]
    },
    {
      "cell_type": "markdown",
      "metadata": {
        "id": "-cWTg5rbeapJ",
        "colab_type": "text"
      },
      "source": [
        "## Feature Scaling\n",
        "\n",
        "We discussed previously that the scale of the features is an important consideration when building machine learning models. Briefly:\n",
        "\n",
        "\n",
        "### Feature magnitude matters because:\n",
        "\n",
        "- The regression coefficients of linear models are directly influenced by the scale of the variable.\n",
        "- Variables with bigger magnitude / larger value range dominate over those with smaller magnitude / value range\n",
        "- Gradient descent converges faster when features are on similar scales\n",
        "- Feature scaling helps decrease the time to find support vectors for SVMs\n",
        "- Euclidean distances are sensitive to feature magnitude.\n",
        "- Some algorithms, like PCA require the features to be centered at 0.\n",
        "\n",
        "\n",
        "### The machine learning models affected by the feature scale are:\n",
        "\n",
        "- Linear and Logistic Regression\n",
        "- Neural Networks\n",
        "- Support Vector Machines\n",
        "- KNN\n",
        "- K-means clustering\n",
        "- Linear Discriminant Analysis (LDA)\n",
        "- Principal Component Analysis (PCA)\n",
        "\n",
        "\n",
        "### Feature Scaling\n",
        "\n",
        "**Feature scaling** refers to the methods or techniques used to normalize the range of independent variables in our data, or in other words, the methods to set the feature value range within a similar scale. Feature scaling is generally the last step in the data preprocessing pipeline, performed **just before training the machine learning algorithms**.\n",
        "\n",
        "There are several Feature Scaling techniques, which we will discuss throughout this section:\n",
        "\n",
        "- Standardisation\n",
        "- Mean normalisation\n",
        "- Scaling to minimum and maximum values - MinMaxScaling\n",
        "- Scaling to maximum value - MaxAbsScaling\n",
        "- Scaling to quantiles and median - RobustScaling\n",
        "- Normalization to vector unit length\n",
        "\n",
        "In this notebook, we will discuss **Scaling to vector unit  length**.\n",
        "\n",
        "=================================================================\n",
        "\n",
        "## Scaling to vector unit  length / unit norm\n",
        "\n",
        "In this procedure we scale the components of a feature vector such that the complete vector has a length of 1 or, in other words a norm of 1. **Note** that this normalisation procedure normalises the **feature** vector, and not the **observation** vector. So we divide by the norm of the feature vector, observation per observation, across the different variables, and not by the norm of the **observation** vector, across observations for the same feature.\n",
        "\n",
        "First, let me give you the formulas, and then I illustrate with an example.\n",
        "\n",
        "### Scaling to unit norm, formulas\n",
        "\n",
        "Scaling to unit norm is achieved by dividing each feature vector by either the Manhattan distance (l1 norm) or the Euclidean distance of the vector (l2 norm):\n",
        "\n",
        "X_scaled_l1 = X / l1(X)\n",
        "\n",
        "X_scaled_l2 X / l2(X)\n",
        "\n",
        "\n",
        "The **Manhattan distance** is given by the sum of the absolute components of the vector:\n",
        "\n",
        "l1(X) = |x1| + |x2| + ... + |xn|\n",
        "\n",
        "\n",
        "Whereas the **Euclidean distance** is given by the square root of the square sum of the component of the vector:\n",
        "\n",
        "l2(X) = sqr( x1^2 + x2^2 + ... + xn^2 )\n",
        "\n",
        "\n",
        "In the above example, x1 is variable 1, x2 variable 2, and xn variable n, and X is the data for 1 observation across variables (a row in other words).\n",
        "\n",
        "**Note** as well that as the euclidean distance squares the values of the feature vector components, outliers have a heavier weight. With outliers, we may prefer to use l1 normalisation.\n",
        "\n",
        "\n",
        "### Scaling to unit norm, examples\n",
        "\n",
        "For example, if our data has 1 observations (1 row) and 3 variables:\n",
        "\n",
        "- number of pets\n",
        "- number of children\n",
        "- age\n",
        "\n",
        "The values for each variable for that single observation are 10, 15 and 20. Our vector X = [10, 15, 20]. Then:\n",
        "\n",
        "l1(X) = 10 + 15 + 20 = 45\n",
        "\n",
        "l2(X) = sqr( 10^2 + 15^2 + 20^2) = sqr( 100 + 225 + 400) = **26.9**\n",
        "\n",
        "The euclidean distance is always smaller than the manhattan distance.\n",
        "\n",
        "\n",
        "The normalised vector values are therefore:\n",
        "\n",
        "X_scaled_l1 = [ 10/45, 15/45, 20/45 ]      =  [0.22, 0.33, 0.44]\n",
        "\n",
        "X_scaled_l2 = [10/26.9, 15/26.9, 20/26.9 ] =  [0.37, 0.55, 0.74]\n",
        "\n",
        "\n",
        "Scikit-learn recommends this scaling procedures for text classification or clustering. For example, they quote the dot product of two l2-normalized TF-IDF vectors is the cosine similarity of the vectors and is the base similarity metric for the Vector Space Model commonly used by the Information Retrieval community.\n"
      ]
    },
    {
      "cell_type": "code",
      "metadata": {
        "id": "FDB7IY4qeapS",
        "colab_type": "code",
        "colab": {}
      },
      "source": [
        "import pandas as pd\n",
        "import matplotlib.pyplot as plt\n",
        "import numpy as np\n",
        "import seaborn as sns\n",
        "\n",
        "# dataset for the demo\n",
        "from sklearn.datasets import load_boston\n",
        "from sklearn.model_selection import train_test_split\n",
        "\n",
        "# the scaler - for robust scaling\n",
        "from sklearn.preprocessing import Normalizer"
      ],
      "execution_count": 0,
      "outputs": []
    },
    {
      "cell_type": "code",
      "metadata": {
        "id": "vbSzQIC3eapr",
        "colab_type": "code",
        "colab": {
          "base_uri": "https://localhost:8080/",
          "height": 206
        },
        "outputId": "3035cc89-f5bc-4668-b952-e9b095e712fc"
      },
      "source": [
        "# load the the Boston House price data\n",
        "\n",
        "# this is how we load the boston dataset from sklearn\n",
        "boston_dataset = load_boston()\n",
        "\n",
        "# create a dataframe with the independent variables\n",
        "data = pd.DataFrame(boston_dataset.data,\n",
        "                      columns=boston_dataset.feature_names)\n",
        "\n",
        "# add target\n",
        "data['MEDV'] = boston_dataset.target\n",
        "\n",
        "data.head()"
      ],
      "execution_count": 7,
      "outputs": [
        {
          "output_type": "execute_result",
          "data": {
            "text/html": [
              "<div>\n",
              "<style scoped>\n",
              "    .dataframe tbody tr th:only-of-type {\n",
              "        vertical-align: middle;\n",
              "    }\n",
              "\n",
              "    .dataframe tbody tr th {\n",
              "        vertical-align: top;\n",
              "    }\n",
              "\n",
              "    .dataframe thead th {\n",
              "        text-align: right;\n",
              "    }\n",
              "</style>\n",
              "<table border=\"1\" class=\"dataframe\">\n",
              "  <thead>\n",
              "    <tr style=\"text-align: right;\">\n",
              "      <th></th>\n",
              "      <th>CRIM</th>\n",
              "      <th>ZN</th>\n",
              "      <th>INDUS</th>\n",
              "      <th>CHAS</th>\n",
              "      <th>NOX</th>\n",
              "      <th>RM</th>\n",
              "      <th>AGE</th>\n",
              "      <th>DIS</th>\n",
              "      <th>RAD</th>\n",
              "      <th>TAX</th>\n",
              "      <th>PTRATIO</th>\n",
              "      <th>B</th>\n",
              "      <th>LSTAT</th>\n",
              "      <th>MEDV</th>\n",
              "    </tr>\n",
              "  </thead>\n",
              "  <tbody>\n",
              "    <tr>\n",
              "      <th>0</th>\n",
              "      <td>0.00632</td>\n",
              "      <td>18.0</td>\n",
              "      <td>2.31</td>\n",
              "      <td>0.0</td>\n",
              "      <td>0.538</td>\n",
              "      <td>6.575</td>\n",
              "      <td>65.2</td>\n",
              "      <td>4.0900</td>\n",
              "      <td>1.0</td>\n",
              "      <td>296.0</td>\n",
              "      <td>15.3</td>\n",
              "      <td>396.90</td>\n",
              "      <td>4.98</td>\n",
              "      <td>24.0</td>\n",
              "    </tr>\n",
              "    <tr>\n",
              "      <th>1</th>\n",
              "      <td>0.02731</td>\n",
              "      <td>0.0</td>\n",
              "      <td>7.07</td>\n",
              "      <td>0.0</td>\n",
              "      <td>0.469</td>\n",
              "      <td>6.421</td>\n",
              "      <td>78.9</td>\n",
              "      <td>4.9671</td>\n",
              "      <td>2.0</td>\n",
              "      <td>242.0</td>\n",
              "      <td>17.8</td>\n",
              "      <td>396.90</td>\n",
              "      <td>9.14</td>\n",
              "      <td>21.6</td>\n",
              "    </tr>\n",
              "    <tr>\n",
              "      <th>2</th>\n",
              "      <td>0.02729</td>\n",
              "      <td>0.0</td>\n",
              "      <td>7.07</td>\n",
              "      <td>0.0</td>\n",
              "      <td>0.469</td>\n",
              "      <td>7.185</td>\n",
              "      <td>61.1</td>\n",
              "      <td>4.9671</td>\n",
              "      <td>2.0</td>\n",
              "      <td>242.0</td>\n",
              "      <td>17.8</td>\n",
              "      <td>392.83</td>\n",
              "      <td>4.03</td>\n",
              "      <td>34.7</td>\n",
              "    </tr>\n",
              "    <tr>\n",
              "      <th>3</th>\n",
              "      <td>0.03237</td>\n",
              "      <td>0.0</td>\n",
              "      <td>2.18</td>\n",
              "      <td>0.0</td>\n",
              "      <td>0.458</td>\n",
              "      <td>6.998</td>\n",
              "      <td>45.8</td>\n",
              "      <td>6.0622</td>\n",
              "      <td>3.0</td>\n",
              "      <td>222.0</td>\n",
              "      <td>18.7</td>\n",
              "      <td>394.63</td>\n",
              "      <td>2.94</td>\n",
              "      <td>33.4</td>\n",
              "    </tr>\n",
              "    <tr>\n",
              "      <th>4</th>\n",
              "      <td>0.06905</td>\n",
              "      <td>0.0</td>\n",
              "      <td>2.18</td>\n",
              "      <td>0.0</td>\n",
              "      <td>0.458</td>\n",
              "      <td>7.147</td>\n",
              "      <td>54.2</td>\n",
              "      <td>6.0622</td>\n",
              "      <td>3.0</td>\n",
              "      <td>222.0</td>\n",
              "      <td>18.7</td>\n",
              "      <td>396.90</td>\n",
              "      <td>5.33</td>\n",
              "      <td>36.2</td>\n",
              "    </tr>\n",
              "  </tbody>\n",
              "</table>\n",
              "</div>"
            ],
            "text/plain": [
              "      CRIM    ZN  INDUS  CHAS    NOX  ...    TAX  PTRATIO       B  LSTAT  MEDV\n",
              "0  0.00632  18.0   2.31   0.0  0.538  ...  296.0     15.3  396.90   4.98  24.0\n",
              "1  0.02731   0.0   7.07   0.0  0.469  ...  242.0     17.8  396.90   9.14  21.6\n",
              "2  0.02729   0.0   7.07   0.0  0.469  ...  242.0     17.8  392.83   4.03  34.7\n",
              "3  0.03237   0.0   2.18   0.0  0.458  ...  222.0     18.7  394.63   2.94  33.4\n",
              "4  0.06905   0.0   2.18   0.0  0.458  ...  222.0     18.7  396.90   5.33  36.2\n",
              "\n",
              "[5 rows x 14 columns]"
            ]
          },
          "metadata": {
            "tags": []
          },
          "execution_count": 7
        }
      ]
    },
    {
      "cell_type": "code",
      "metadata": {
        "id": "pFzbVTQAeaqA",
        "colab_type": "code",
        "colab": {}
      },
      "source": [
        "# Information about the boston house prince dataset\n",
        "# you will find details about the different variables\n",
        "\n",
        "# the aim is to predict the \"Median value of the houses\"\n",
        "# MEDV column in this dataset\n",
        "\n",
        "# and there are variables with characteristics about\n",
        "# the homes and the neighborhoods\n",
        "\n",
        "# print the dataset description\n",
        "print(boston_dataset.DESCR)"
      ],
      "execution_count": 0,
      "outputs": []
    },
    {
      "cell_type": "markdown",
      "metadata": {
        "id": "86KGg6XHeaqN",
        "colab_type": "text"
      },
      "source": [
        "When scaling to unit length, as we do it across the variables and observation per observation, the distance does vary for each observation. Therefore, we do not need to learn parameters and store them. The scaling occurs on an observation per observation level. Therefore, in essence, we do not need to divide into train and test.\n",
        "\n",
        "However, you probably did this to implement other feature engineering steps, so let's continue doing so here as well."
      ]
    },
    {
      "cell_type": "code",
      "metadata": {
        "id": "2jfEWKWAeaqQ",
        "colab_type": "code",
        "colab": {
          "base_uri": "https://localhost:8080/",
          "height": 34
        },
        "outputId": "4f78ca8e-9ce5-43d5-b447-498c90da750b"
      },
      "source": [
        "# let's separate into training and testing set\n",
        "X_train, X_test, y_train, y_test = train_test_split(data.drop('MEDV', axis=1),\n",
        "                                                    data['MEDV'],\n",
        "                                                    test_size=0.3,\n",
        "                                                    random_state=0)\n",
        "\n",
        "X_train.shape, X_test.shape"
      ],
      "execution_count": 8,
      "outputs": [
        {
          "output_type": "execute_result",
          "data": {
            "text/plain": [
              "((354, 13), (152, 13))"
            ]
          },
          "metadata": {
            "tags": []
          },
          "execution_count": 8
        }
      ]
    },
    {
      "cell_type": "markdown",
      "metadata": {
        "id": "UG-8WY4Zeaqi",
        "colab_type": "text"
      },
      "source": [
        "### Scaling to l1"
      ]
    },
    {
      "cell_type": "code",
      "metadata": {
        "id": "0-N6H4NBeaqm",
        "colab_type": "code",
        "colab": {}
      },
      "source": [
        "# set up the scaler\n",
        "scaler = Normalizer(norm='l1')\n",
        "\n",
        "# fit the scaler, this procedure does NOTHING\n",
        "scaler.fit(X_train)\n",
        "\n",
        "# transform train and test sets\n",
        "X_train_scaled = scaler.transform(X_train)\n",
        "X_test_scaled = scaler.transform(X_test)"
      ],
      "execution_count": 0,
      "outputs": []
    },
    {
      "cell_type": "code",
      "metadata": {
        "scrolled": true,
        "id": "GxgQCTvPeaqw",
        "colab_type": "code",
        "colab": {
          "base_uri": "https://localhost:8080/",
          "height": 799
        },
        "outputId": "2c6df70c-8631-4a56-e175-588f84ef63bd"
      },
      "source": [
        "# let's calculate the norm for each observation (feature vector)\n",
        "# original data\n",
        "\n",
        "np.round( np.linalg.norm(X_train, ord=1, axis=1), 1)"
      ],
      "execution_count": 12,
      "outputs": [
        {
          "output_type": "execute_result",
          "data": {
            "text/plain": [
              "array([1024.1,  744. , 1003.5,  858. ,  732.4,  859.3,  845.9,  847. ,\n",
              "        888.1,  826.7,  705.9,  808.9,  734. ,  784.6,  785.1,  819.6,\n",
              "       1212.9, 1258. ,  757.6, 1223. , 1236.1,  890.2, 1166.8, 1270. ,\n",
              "        919. ,  925.9, 1197. ,  770.3, 1118. ,  886.7,  719. ,  952. ,\n",
              "        933.4,  745. ,  805.6,  825.1,  678.5,  947.7,  910. ,  816. ,\n",
              "        769.1,  832.4,  763.5,  777. ,  850.4, 1137.7,  802.1,  703.4,\n",
              "        802.6,  688. ,  801.8,  877.3,  753.8,  912.4,  936.7,  813.6,\n",
              "       1194. ,  771.9,  739.5,  825.9,  890.8,  891.6,  844.4,  927.1,\n",
              "        998.6,  903.3, 1250.3,  739.5, 1095.3,  857.7,  834.8,  738.4,\n",
              "        855.1, 1238.4,  828.6,  958.4,  775. ,  923.4,  859.6,  830.7,\n",
              "        782.3,  796.8,  953.2,  857.9, 1249.9,  716.7,  803.9,  978.8,\n",
              "       1186.9,  904. , 1238.2,  981.6,  884.9,  924.9,  694.1,  725.2,\n",
              "        832.4,  717.7,  917. , 1263.9,  836.7,  813.5,  992.5,  823.4,\n",
              "       1224.3,  712.1,  841.2,  950.3,  702.6,  791.9,  830.4,  742.1,\n",
              "        793.8, 1110.5,  832.1, 1188.5,  837.4,  846.7,  809.5,  764.6,\n",
              "       1189. ,  770.4,  651.4,  717.8, 1265.8, 1004. ,  782.1,  922.7,\n",
              "        871.4,  860. ,  860.1,  766.5, 1259.6,  920.1,  708.2,  779.3,\n",
              "        785.7,  815. ,  825. ,  856.5,  784.2,  834.9, 1003.2,  963.2,\n",
              "        924.1, 1141.8, 1192.2,  777.5,  767.7, 1197.4,  887.2,  839.3,\n",
              "        819.9,  818.9,  822.7, 1006.2,  926.2,  748.9,  920.8,  790.7,\n",
              "        810.2, 1235.9,  889. ,  921.2,  895.3,  774.9,  924.8,  926. ,\n",
              "       1248.6, 1006.3,  817.5,  800.7, 1227.4,  831.4,  787.4, 1312. ,\n",
              "        832.1,  769.5, 1252.1,  822.7,  884. ,  787.2,  749.4,  827.8,\n",
              "        962.2,  702.8,  745.4,  731.7,  727.8,  743.7,  888.3,  720.2,\n",
              "       1332.3, 1185.2,  776.4,  784.6, 1255.2,  717.8, 1239. ,  782.1,\n",
              "        767.9,  807.6,  857.5, 1265.4,  737.9,  800. ,  769.3, 1231.7,\n",
              "        783.1,  667. ,  726.4,  758.5,  841.3, 1243.1, 1268.4, 1174.9,\n",
              "        736. ,  828.9,  827.5, 1270. , 1000.2,  919.4,  866. ,  681.7,\n",
              "       1249. ,  810.9,  901.7, 1218.9,  928.7,  744.7,  843.4,  736.1,\n",
              "        897.6,  804.6, 1219.5,  794.5,  830.4, 1241.1,  732. , 1211.2,\n",
              "        890.6,  838.1,  753.5,  795.8,  801.3, 1277.8, 1256. ,  801.3,\n",
              "        704.7,  808.2,  931.3,  977.4,  702.4,  713.7, 1240.1, 1001.4,\n",
              "        867.2,  806. ,  802.1,  774.1,  783.6,  739.2,  719.6, 1276.7,\n",
              "       1264.7,  865.4, 1104.8, 1162.6,  778.9,  781.8,  776.8,  945.3,\n",
              "       1234.4,  794.1,  830.3,  880.1,  788.6,  799.5, 1231.8, 1236.9,\n",
              "        669.1,  934.3, 1253.3, 1239.6,  734.5,  855.2,  753.4, 1260.9,\n",
              "        730.5, 1182.1, 1253. , 1004.4,  793.7,  847.5,  724.4, 1237.2,\n",
              "        941.6,  906.5,  859.6,  877.7,  842. ,  694.3,  997.8,  695.3,\n",
              "       1251.1, 1167. ,  837.6,  855. , 1301.8, 1238.6,  968.8,  822.6,\n",
              "       1216.7,  807.1,  775.9,  707.8, 1260.5,  943.2,  706.4,  839.5,\n",
              "        759.2, 1221.5,  923.8, 1219.9,  780.6,  755.1,  701.2,  757.2,\n",
              "        797.2,  731.4, 1237.1,  802.4, 1265.4,  785.5,  766.3,  839.7,\n",
              "       1255.2,  792.9, 1224.5,  748.3,  743.8,  790.3,  808.3,  760.4,\n",
              "        828.9,  854.6, 1226.7,  797. ,  788. ,  807.4,  900.5,  962.7,\n",
              "        770.2,  830.6])"
            ]
          },
          "metadata": {
            "tags": []
          },
          "execution_count": 12
        }
      ]
    },
    {
      "cell_type": "code",
      "metadata": {
        "id": "OZMBiNFZeaq9",
        "colab_type": "code",
        "colab": {
          "base_uri": "https://localhost:8080/",
          "height": 382
        },
        "outputId": "cfef88f5-daa5-4669-e164-282c073d6857"
      },
      "source": [
        "# let's calculate the norm for each observation (feature vector)\n",
        "# scaled data\n",
        "\n",
        "np.round( np.linalg.norm(X_train_scaled, ord=1, axis=1), 1)"
      ],
      "execution_count": 11,
      "outputs": [
        {
          "output_type": "execute_result",
          "data": {
            "text/plain": [
              "array([1., 1., 1., 1., 1., 1., 1., 1., 1., 1., 1., 1., 1., 1., 1., 1., 1.,\n",
              "       1., 1., 1., 1., 1., 1., 1., 1., 1., 1., 1., 1., 1., 1., 1., 1., 1.,\n",
              "       1., 1., 1., 1., 1., 1., 1., 1., 1., 1., 1., 1., 1., 1., 1., 1., 1.,\n",
              "       1., 1., 1., 1., 1., 1., 1., 1., 1., 1., 1., 1., 1., 1., 1., 1., 1.,\n",
              "       1., 1., 1., 1., 1., 1., 1., 1., 1., 1., 1., 1., 1., 1., 1., 1., 1.,\n",
              "       1., 1., 1., 1., 1., 1., 1., 1., 1., 1., 1., 1., 1., 1., 1., 1., 1.,\n",
              "       1., 1., 1., 1., 1., 1., 1., 1., 1., 1., 1., 1., 1., 1., 1., 1., 1.,\n",
              "       1., 1., 1., 1., 1., 1., 1., 1., 1., 1., 1., 1., 1., 1., 1., 1., 1.,\n",
              "       1., 1., 1., 1., 1., 1., 1., 1., 1., 1., 1., 1., 1., 1., 1., 1., 1.,\n",
              "       1., 1., 1., 1., 1., 1., 1., 1., 1., 1., 1., 1., 1., 1., 1., 1., 1.,\n",
              "       1., 1., 1., 1., 1., 1., 1., 1., 1., 1., 1., 1., 1., 1., 1., 1., 1.,\n",
              "       1., 1., 1., 1., 1., 1., 1., 1., 1., 1., 1., 1., 1., 1., 1., 1., 1.,\n",
              "       1., 1., 1., 1., 1., 1., 1., 1., 1., 1., 1., 1., 1., 1., 1., 1., 1.,\n",
              "       1., 1., 1., 1., 1., 1., 1., 1., 1., 1., 1., 1., 1., 1., 1., 1., 1.,\n",
              "       1., 1., 1., 1., 1., 1., 1., 1., 1., 1., 1., 1., 1., 1., 1., 1., 1.,\n",
              "       1., 1., 1., 1., 1., 1., 1., 1., 1., 1., 1., 1., 1., 1., 1., 1., 1.,\n",
              "       1., 1., 1., 1., 1., 1., 1., 1., 1., 1., 1., 1., 1., 1., 1., 1., 1.,\n",
              "       1., 1., 1., 1., 1., 1., 1., 1., 1., 1., 1., 1., 1., 1., 1., 1., 1.,\n",
              "       1., 1., 1., 1., 1., 1., 1., 1., 1., 1., 1., 1., 1., 1., 1., 1., 1.,\n",
              "       1., 1., 1., 1., 1., 1., 1., 1., 1., 1., 1., 1., 1., 1., 1., 1., 1.,\n",
              "       1., 1., 1., 1., 1., 1., 1., 1., 1., 1., 1., 1., 1., 1.])"
            ]
          },
          "metadata": {
            "tags": []
          },
          "execution_count": 11
        }
      ]
    },
    {
      "cell_type": "markdown",
      "metadata": {
        "id": "XS4uTJX5earJ",
        "colab_type": "text"
      },
      "source": [
        "Now, each feature vector has a l1 norm of 1."
      ]
    },
    {
      "cell_type": "code",
      "metadata": {
        "id": "mnbHG7ByearN",
        "colab_type": "code",
        "colab": {}
      },
      "source": [
        "# let's transform the returned NumPy arrays to dataframes for the rest of\n",
        "# the demo\n",
        "\n",
        "X_train_scaled = pd.DataFrame(X_train_scaled, columns=X_train.columns)\n",
        "X_test_scaled = pd.DataFrame(X_test_scaled, columns=X_test.columns)"
      ],
      "execution_count": 0,
      "outputs": []
    },
    {
      "cell_type": "code",
      "metadata": {
        "id": "OXeCe9cDearW",
        "colab_type": "code",
        "colab": {
          "base_uri": "https://localhost:8080/",
          "height": 320
        },
        "outputId": "4929d63f-8a8a-48f5-c6bd-ebfbfd4a354c"
      },
      "source": [
        "# let's look at the individual values of the variables in the original data\n",
        "X_train.describe()"
      ],
      "execution_count": 15,
      "outputs": [
        {
          "output_type": "execute_result",
          "data": {
            "text/html": [
              "<div>\n",
              "<style scoped>\n",
              "    .dataframe tbody tr th:only-of-type {\n",
              "        vertical-align: middle;\n",
              "    }\n",
              "\n",
              "    .dataframe tbody tr th {\n",
              "        vertical-align: top;\n",
              "    }\n",
              "\n",
              "    .dataframe thead th {\n",
              "        text-align: right;\n",
              "    }\n",
              "</style>\n",
              "<table border=\"1\" class=\"dataframe\">\n",
              "  <thead>\n",
              "    <tr style=\"text-align: right;\">\n",
              "      <th></th>\n",
              "      <th>CRIM</th>\n",
              "      <th>ZN</th>\n",
              "      <th>INDUS</th>\n",
              "      <th>CHAS</th>\n",
              "      <th>NOX</th>\n",
              "      <th>RM</th>\n",
              "      <th>AGE</th>\n",
              "      <th>DIS</th>\n",
              "      <th>RAD</th>\n",
              "      <th>TAX</th>\n",
              "      <th>PTRATIO</th>\n",
              "      <th>B</th>\n",
              "      <th>LSTAT</th>\n",
              "    </tr>\n",
              "  </thead>\n",
              "  <tbody>\n",
              "    <tr>\n",
              "      <th>count</th>\n",
              "      <td>354.000000</td>\n",
              "      <td>354.000000</td>\n",
              "      <td>354.000000</td>\n",
              "      <td>354.000000</td>\n",
              "      <td>354.000000</td>\n",
              "      <td>354.000000</td>\n",
              "      <td>354.000000</td>\n",
              "      <td>354.000000</td>\n",
              "      <td>354.000000</td>\n",
              "      <td>354.000000</td>\n",
              "      <td>354.000000</td>\n",
              "      <td>354.000000</td>\n",
              "      <td>354.000000</td>\n",
              "    </tr>\n",
              "    <tr>\n",
              "      <th>mean</th>\n",
              "      <td>3.358284</td>\n",
              "      <td>11.809322</td>\n",
              "      <td>11.078757</td>\n",
              "      <td>0.064972</td>\n",
              "      <td>0.556098</td>\n",
              "      <td>6.308427</td>\n",
              "      <td>68.994068</td>\n",
              "      <td>3.762459</td>\n",
              "      <td>9.353107</td>\n",
              "      <td>401.782486</td>\n",
              "      <td>18.473446</td>\n",
              "      <td>360.601186</td>\n",
              "      <td>12.440650</td>\n",
              "    </tr>\n",
              "    <tr>\n",
              "      <th>std</th>\n",
              "      <td>8.353223</td>\n",
              "      <td>23.653056</td>\n",
              "      <td>6.993821</td>\n",
              "      <td>0.246825</td>\n",
              "      <td>0.115601</td>\n",
              "      <td>0.702009</td>\n",
              "      <td>28.038429</td>\n",
              "      <td>2.067661</td>\n",
              "      <td>8.671999</td>\n",
              "      <td>170.592404</td>\n",
              "      <td>2.224809</td>\n",
              "      <td>85.621945</td>\n",
              "      <td>7.078485</td>\n",
              "    </tr>\n",
              "    <tr>\n",
              "      <th>min</th>\n",
              "      <td>0.006320</td>\n",
              "      <td>0.000000</td>\n",
              "      <td>0.460000</td>\n",
              "      <td>0.000000</td>\n",
              "      <td>0.385000</td>\n",
              "      <td>3.561000</td>\n",
              "      <td>2.900000</td>\n",
              "      <td>1.174200</td>\n",
              "      <td>1.000000</td>\n",
              "      <td>187.000000</td>\n",
              "      <td>12.600000</td>\n",
              "      <td>0.320000</td>\n",
              "      <td>1.730000</td>\n",
              "    </tr>\n",
              "    <tr>\n",
              "      <th>25%</th>\n",
              "      <td>0.073425</td>\n",
              "      <td>0.000000</td>\n",
              "      <td>4.950000</td>\n",
              "      <td>0.000000</td>\n",
              "      <td>0.450000</td>\n",
              "      <td>5.895250</td>\n",
              "      <td>45.175000</td>\n",
              "      <td>2.107650</td>\n",
              "      <td>4.000000</td>\n",
              "      <td>276.000000</td>\n",
              "      <td>17.400000</td>\n",
              "      <td>376.057500</td>\n",
              "      <td>6.735000</td>\n",
              "    </tr>\n",
              "    <tr>\n",
              "      <th>50%</th>\n",
              "      <td>0.262660</td>\n",
              "      <td>0.000000</td>\n",
              "      <td>8.560000</td>\n",
              "      <td>0.000000</td>\n",
              "      <td>0.538000</td>\n",
              "      <td>6.215500</td>\n",
              "      <td>79.450000</td>\n",
              "      <td>3.215700</td>\n",
              "      <td>5.000000</td>\n",
              "      <td>311.000000</td>\n",
              "      <td>19.100000</td>\n",
              "      <td>391.605000</td>\n",
              "      <td>11.160000</td>\n",
              "    </tr>\n",
              "    <tr>\n",
              "      <th>75%</th>\n",
              "      <td>3.103700</td>\n",
              "      <td>20.000000</td>\n",
              "      <td>18.100000</td>\n",
              "      <td>0.000000</td>\n",
              "      <td>0.629250</td>\n",
              "      <td>6.647250</td>\n",
              "      <td>93.750000</td>\n",
              "      <td>5.079300</td>\n",
              "      <td>24.000000</td>\n",
              "      <td>666.000000</td>\n",
              "      <td>20.200000</td>\n",
              "      <td>395.690000</td>\n",
              "      <td>16.717500</td>\n",
              "    </tr>\n",
              "    <tr>\n",
              "      <th>max</th>\n",
              "      <td>88.976200</td>\n",
              "      <td>100.000000</td>\n",
              "      <td>27.740000</td>\n",
              "      <td>1.000000</td>\n",
              "      <td>0.871000</td>\n",
              "      <td>8.780000</td>\n",
              "      <td>100.000000</td>\n",
              "      <td>12.126500</td>\n",
              "      <td>24.000000</td>\n",
              "      <td>711.000000</td>\n",
              "      <td>22.000000</td>\n",
              "      <td>396.900000</td>\n",
              "      <td>36.980000</td>\n",
              "    </tr>\n",
              "  </tbody>\n",
              "</table>\n",
              "</div>"
            ],
            "text/plain": [
              "             CRIM          ZN       INDUS  ...     PTRATIO           B       LSTAT\n",
              "count  354.000000  354.000000  354.000000  ...  354.000000  354.000000  354.000000\n",
              "mean     3.358284   11.809322   11.078757  ...   18.473446  360.601186   12.440650\n",
              "std      8.353223   23.653056    6.993821  ...    2.224809   85.621945    7.078485\n",
              "min      0.006320    0.000000    0.460000  ...   12.600000    0.320000    1.730000\n",
              "25%      0.073425    0.000000    4.950000  ...   17.400000  376.057500    6.735000\n",
              "50%      0.262660    0.000000    8.560000  ...   19.100000  391.605000   11.160000\n",
              "75%      3.103700   20.000000   18.100000  ...   20.200000  395.690000   16.717500\n",
              "max     88.976200  100.000000   27.740000  ...   22.000000  396.900000   36.980000\n",
              "\n",
              "[8 rows x 13 columns]"
            ]
          },
          "metadata": {
            "tags": []
          },
          "execution_count": 15
        }
      ]
    },
    {
      "cell_type": "code",
      "metadata": {
        "id": "s7BbXksWearh",
        "colab_type": "code",
        "colab": {
          "base_uri": "https://localhost:8080/",
          "height": 320
        },
        "outputId": "be14d12c-febb-42f8-928d-830e6cb82364"
      },
      "source": [
        "# let's look at the individual values of the variables in the original data\n",
        "\n",
        "X_train_scaled.describe()"
      ],
      "execution_count": 14,
      "outputs": [
        {
          "output_type": "execute_result",
          "data": {
            "text/html": [
              "<div>\n",
              "<style scoped>\n",
              "    .dataframe tbody tr th:only-of-type {\n",
              "        vertical-align: middle;\n",
              "    }\n",
              "\n",
              "    .dataframe tbody tr th {\n",
              "        vertical-align: top;\n",
              "    }\n",
              "\n",
              "    .dataframe thead th {\n",
              "        text-align: right;\n",
              "    }\n",
              "</style>\n",
              "<table border=\"1\" class=\"dataframe\">\n",
              "  <thead>\n",
              "    <tr style=\"text-align: right;\">\n",
              "      <th></th>\n",
              "      <th>CRIM</th>\n",
              "      <th>ZN</th>\n",
              "      <th>INDUS</th>\n",
              "      <th>CHAS</th>\n",
              "      <th>NOX</th>\n",
              "      <th>RM</th>\n",
              "      <th>AGE</th>\n",
              "      <th>DIS</th>\n",
              "      <th>RAD</th>\n",
              "      <th>TAX</th>\n",
              "      <th>PTRATIO</th>\n",
              "      <th>B</th>\n",
              "      <th>LSTAT</th>\n",
              "    </tr>\n",
              "  </thead>\n",
              "  <tbody>\n",
              "    <tr>\n",
              "      <th>count</th>\n",
              "      <td>354.000000</td>\n",
              "      <td>354.000000</td>\n",
              "      <td>354.000000</td>\n",
              "      <td>354.000000</td>\n",
              "      <td>354.000000</td>\n",
              "      <td>354.000000</td>\n",
              "      <td>354.000000</td>\n",
              "      <td>354.000000</td>\n",
              "      <td>354.000000</td>\n",
              "      <td>354.000000</td>\n",
              "      <td>354.000000</td>\n",
              "      <td>354.000000</td>\n",
              "      <td>354.000000</td>\n",
              "    </tr>\n",
              "    <tr>\n",
              "      <th>mean</th>\n",
              "      <td>0.003022</td>\n",
              "      <td>0.014491</td>\n",
              "      <td>0.011731</td>\n",
              "      <td>0.000073</td>\n",
              "      <td>0.000620</td>\n",
              "      <td>0.007221</td>\n",
              "      <td>0.075687</td>\n",
              "      <td>0.004479</td>\n",
              "      <td>0.009336</td>\n",
              "      <td>0.427642</td>\n",
              "      <td>0.020880</td>\n",
              "      <td>0.411273</td>\n",
              "      <td>0.013544</td>\n",
              "    </tr>\n",
              "    <tr>\n",
              "      <th>std</th>\n",
              "      <td>0.007018</td>\n",
              "      <td>0.028764</td>\n",
              "      <td>0.006854</td>\n",
              "      <td>0.000283</td>\n",
              "      <td>0.000115</td>\n",
              "      <td>0.001620</td>\n",
              "      <td>0.029466</td>\n",
              "      <td>0.002780</td>\n",
              "      <td>0.007262</td>\n",
              "      <td>0.114922</td>\n",
              "      <td>0.003751</td>\n",
              "      <td>0.124328</td>\n",
              "      <td>0.007204</td>\n",
              "    </tr>\n",
              "    <tr>\n",
              "      <th>min</th>\n",
              "      <td>0.000008</td>\n",
              "      <td>0.000000</td>\n",
              "      <td>0.000577</td>\n",
              "      <td>0.000000</td>\n",
              "      <td>0.000424</td>\n",
              "      <td>0.002996</td>\n",
              "      <td>0.004348</td>\n",
              "      <td>0.000919</td>\n",
              "      <td>0.001163</td>\n",
              "      <td>0.250885</td>\n",
              "      <td>0.014363</td>\n",
              "      <td>0.000374</td>\n",
              "      <td>0.001879</td>\n",
              "    </tr>\n",
              "    <tr>\n",
              "      <th>25%</th>\n",
              "      <td>0.000093</td>\n",
              "      <td>0.000000</td>\n",
              "      <td>0.006243</td>\n",
              "      <td>0.000000</td>\n",
              "      <td>0.000545</td>\n",
              "      <td>0.006061</td>\n",
              "      <td>0.055411</td>\n",
              "      <td>0.002206</td>\n",
              "      <td>0.004740</td>\n",
              "      <td>0.346035</td>\n",
              "      <td>0.016876</td>\n",
              "      <td>0.318534</td>\n",
              "      <td>0.008473</td>\n",
              "    </tr>\n",
              "    <tr>\n",
              "      <th>50%</th>\n",
              "      <td>0.000311</td>\n",
              "      <td>0.000000</td>\n",
              "      <td>0.010421</td>\n",
              "      <td>0.000000</td>\n",
              "      <td>0.000611</td>\n",
              "      <td>0.007376</td>\n",
              "      <td>0.078917</td>\n",
              "      <td>0.003923</td>\n",
              "      <td>0.006021</td>\n",
              "      <td>0.393483</td>\n",
              "      <td>0.021129</td>\n",
              "      <td>0.456271</td>\n",
              "      <td>0.012262</td>\n",
              "    </tr>\n",
              "    <tr>\n",
              "      <th>75%</th>\n",
              "      <td>0.002983</td>\n",
              "      <td>0.024709</td>\n",
              "      <td>0.015120</td>\n",
              "      <td>0.000000</td>\n",
              "      <td>0.000657</td>\n",
              "      <td>0.008358</td>\n",
              "      <td>0.098186</td>\n",
              "      <td>0.006456</td>\n",
              "      <td>0.018223</td>\n",
              "      <td>0.526258</td>\n",
              "      <td>0.024014</td>\n",
              "      <td>0.498519</td>\n",
              "      <td>0.017204</td>\n",
              "    </tr>\n",
              "    <tr>\n",
              "      <th>max</th>\n",
              "      <td>0.066782</td>\n",
              "      <td>0.121905</td>\n",
              "      <td>0.035787</td>\n",
              "      <td>0.001422</td>\n",
              "      <td>0.001337</td>\n",
              "      <td>0.011541</td>\n",
              "      <td>0.144310</td>\n",
              "      <td>0.016269</td>\n",
              "      <td>0.028684</td>\n",
              "      <td>0.795970</td>\n",
              "      <td>0.030523</td>\n",
              "      <td>0.578661</td>\n",
              "      <td>0.041723</td>\n",
              "    </tr>\n",
              "  </tbody>\n",
              "</table>\n",
              "</div>"
            ],
            "text/plain": [
              "             CRIM          ZN       INDUS  ...     PTRATIO           B       LSTAT\n",
              "count  354.000000  354.000000  354.000000  ...  354.000000  354.000000  354.000000\n",
              "mean     0.003022    0.014491    0.011731  ...    0.020880    0.411273    0.013544\n",
              "std      0.007018    0.028764    0.006854  ...    0.003751    0.124328    0.007204\n",
              "min      0.000008    0.000000    0.000577  ...    0.014363    0.000374    0.001879\n",
              "25%      0.000093    0.000000    0.006243  ...    0.016876    0.318534    0.008473\n",
              "50%      0.000311    0.000000    0.010421  ...    0.021129    0.456271    0.012262\n",
              "75%      0.002983    0.024709    0.015120  ...    0.024014    0.498519    0.017204\n",
              "max      0.066782    0.121905    0.035787  ...    0.030523    0.578661    0.041723\n",
              "\n",
              "[8 rows x 13 columns]"
            ]
          },
          "metadata": {
            "tags": []
          },
          "execution_count": 14
        }
      ]
    },
    {
      "cell_type": "markdown",
      "metadata": {
        "id": "zPKHoGtEearx",
        "colab_type": "text"
      },
      "source": [
        "The values have been squeezed in a smaller value range."
      ]
    },
    {
      "cell_type": "code",
      "metadata": {
        "id": "OmKoGlA6earz",
        "colab_type": "code",
        "colab": {
          "base_uri": "https://localhost:8080/",
          "height": 336
        },
        "outputId": "99ac627d-8e37-4635-8cbe-2edf4fcc12e3"
      },
      "source": [
        "# let's compare the variable distributions before and after scaling\n",
        "\n",
        "fig, (ax1, ax2) = plt.subplots(ncols=2, figsize=(12, 5))\n",
        "\n",
        "# before scaling\n",
        "ax1.set_title('Before Scaling')\n",
        "sns.kdeplot(X_train['RM'], ax=ax1)\n",
        "sns.kdeplot(X_train['LSTAT'], ax=ax1)\n",
        "sns.kdeplot(X_train['CRIM'], ax=ax1)\n",
        "\n",
        "# after scaling\n",
        "ax2.set_title('After Unit Norm Scaling')\n",
        "sns.kdeplot(X_train_scaled['RM'], ax=ax2)\n",
        "sns.kdeplot(X_train_scaled['LSTAT'], ax=ax2)\n",
        "sns.kdeplot(X_train_scaled['CRIM'], ax=ax2)\n",
        "plt.show()"
      ],
      "execution_count": 16,
      "outputs": [
        {
          "output_type": "display_data",
          "data": {
            "image/png": "[encoded data removed]",
            "text/plain": [
              "<Figure size 864x360 with 2 Axes>"
            ]
          },
          "metadata": {
            "tags": []
          }
        }
      ]
    },
    {
      "cell_type": "markdown",
      "metadata": {
        "id": "cETQUNvOeasD",
        "colab_type": "text"
      },
      "source": [
        ""
      ]
    },
    {
      "cell_type": "code",
      "metadata": {
        "id": "iK4zoTUkeasF",
        "colab_type": "code",
        "colab": {
          "base_uri": "https://localhost:8080/",
          "height": 336
        },
        "outputId": "29d7bc23-73a1-4ead-e939-0a0add413083"
      },
      "source": [
        "# let's compare the variable distributions before and after scaling\n",
        "fig, (ax1, ax2) = plt.subplots(ncols=2, figsize=(12, 5))\n",
        "\n",
        "# before scaling\n",
        "ax1.set_title('Before Scaling')\n",
        "#sns.kdeplot(X_train['AGE'], ax=ax1)\n",
        "#sns.kdeplot(X_train['DIS'], ax=ax1)\n",
        "sns.kdeplot(X_train['NOX'], ax=ax1)\n",
        "\n",
        "# after scaling\n",
        "ax2.set_title('After Unit Norm Scaling')\n",
        "#sns.kdeplot(X_train_scaled['AGE'], ax=ax2)\n",
        "#sns.kdeplot(X_train_scaled['DIS'], ax=ax2)\n",
        "sns.kdeplot(X_train_scaled['NOX'], ax=ax2)\n",
        "plt.show()"
      ],
      "execution_count": 17,
      "outputs": [
        {
          "output_type": "display_data",
          "data": {
            "image/png": "[encoded data removed]",
            "text/plain": [
              "<Figure size 864x360 with 2 Axes>"
            ]
          },
          "metadata": {
            "tags": []
          }
        }
      ]
    },
    {
      "cell_type": "markdown",
      "metadata": {
        "id": "amUTX659easM",
        "colab_type": "text"
      },
      "source": [
        "See how this normalisation changes the distribution of the original variable quite dramatically. Go ahead and comment in an out the different variables to have a better look."
      ]
    },
    {
      "cell_type": "markdown",
      "metadata": {
        "id": "pC7yycHneasP",
        "colab_type": "text"
      },
      "source": [
        "### Scaling to l2"
      ]
    },
    {
      "cell_type": "code",
      "metadata": {
        "id": "-ORdtvU6easS",
        "colab_type": "code",
        "colab": {}
      },
      "source": [
        "# set up the scaler\n",
        "scaler = Normalizer(norm='l2')\n",
        "\n",
        "# fit the scaler, this procedure does NOTHING\n",
        "scaler.fit(X_train)\n",
        "\n",
        "# transform train and test sets\n",
        "X_train_scaled = scaler.transform(X_train)\n",
        "X_test_scaled = scaler.transform(X_test)"
      ],
      "execution_count": 0,
      "outputs": []
    },
    {
      "cell_type": "code",
      "metadata": {
        "scrolled": true,
        "id": "MC8tkQMDeasc",
        "colab_type": "code",
        "colab": {}
      },
      "source": [
        "# let's calculate the norm for each observation (feature vector)\n",
        "# original data\n",
        "\n",
        "np.round( np.linalg.norm(X_train, ord=2, axis=1), 1)"
      ],
      "execution_count": 0,
      "outputs": []
    },
    {
      "cell_type": "code",
      "metadata": {
        "id": "fIO7NFW0easl",
        "colab_type": "code",
        "colab": {
          "base_uri": "https://localhost:8080/",
          "height": 382
        },
        "outputId": "d61b6649-000f-4136-80f7-ac1d6c394f36"
      },
      "source": [
        "# let's calculate the norm for each observation (feature vector)\n",
        "# scaledl data\n",
        "\n",
        "np.round( np.linalg.norm(X_train_scaled, ord=2, axis=1), 1)"
      ],
      "execution_count": 20,
      "outputs": [
        {
          "output_type": "execute_result",
          "data": {
            "text/plain": [
              "array([1., 1., 1., 1., 1., 1., 1., 1., 1., 1., 1., 1., 1., 1., 1., 1., 1.,\n",
              "       1., 1., 1., 1., 1., 1., 1., 1., 1., 1., 1., 1., 1., 1., 1., 1., 1.,\n",
              "       1., 1., 1., 1., 1., 1., 1., 1., 1., 1., 1., 1., 1., 1., 1., 1., 1.,\n",
              "       1., 1., 1., 1., 1., 1., 1., 1., 1., 1., 1., 1., 1., 1., 1., 1., 1.,\n",
              "       1., 1., 1., 1., 1., 1., 1., 1., 1., 1., 1., 1., 1., 1., 1., 1., 1.,\n",
              "       1., 1., 1., 1., 1., 1., 1., 1., 1., 1., 1., 1., 1., 1., 1., 1., 1.,\n",
              "       1., 1., 1., 1., 1., 1., 1., 1., 1., 1., 1., 1., 1., 1., 1., 1., 1.,\n",
              "       1., 1., 1., 1., 1., 1., 1., 1., 1., 1., 1., 1., 1., 1., 1., 1., 1.,\n",
              "       1., 1., 1., 1., 1., 1., 1., 1., 1., 1., 1., 1., 1., 1., 1., 1., 1.,\n",
              "       1., 1., 1., 1., 1., 1., 1., 1., 1., 1., 1., 1., 1., 1., 1., 1., 1.,\n",
              "       1., 1., 1., 1., 1., 1., 1., 1., 1., 1., 1., 1., 1., 1., 1., 1., 1.,\n",
              "       1., 1., 1., 1., 1., 1., 1., 1., 1., 1., 1., 1., 1., 1., 1., 1., 1.,\n",
              "       1., 1., 1., 1., 1., 1., 1., 1., 1., 1., 1., 1., 1., 1., 1., 1., 1.,\n",
              "       1., 1., 1., 1., 1., 1., 1., 1., 1., 1., 1., 1., 1., 1., 1., 1., 1.,\n",
              "       1., 1., 1., 1., 1., 1., 1., 1., 1., 1., 1., 1., 1., 1., 1., 1., 1.,\n",
              "       1., 1., 1., 1., 1., 1., 1., 1., 1., 1., 1., 1., 1., 1., 1., 1., 1.,\n",
              "       1., 1., 1., 1., 1., 1., 1., 1., 1., 1., 1., 1., 1., 1., 1., 1., 1.,\n",
              "       1., 1., 1., 1., 1., 1., 1., 1., 1., 1., 1., 1., 1., 1., 1., 1., 1.,\n",
              "       1., 1., 1., 1., 1., 1., 1., 1., 1., 1., 1., 1., 1., 1., 1., 1., 1.,\n",
              "       1., 1., 1., 1., 1., 1., 1., 1., 1., 1., 1., 1., 1., 1., 1., 1., 1.,\n",
              "       1., 1., 1., 1., 1., 1., 1., 1., 1., 1., 1., 1., 1., 1.])"
            ]
          },
          "metadata": {
            "tags": []
          },
          "execution_count": 20
        }
      ]
    },
    {
      "cell_type": "code",
      "metadata": {
        "id": "UMo1kPaeeasy",
        "colab_type": "code",
        "colab": {}
      },
      "source": [
        "# let's transform the returned NumPy arrays to dataframes for the rest of\n",
        "# the demo\n",
        "\n",
        "X_train_scaled = pd.DataFrame(X_train_scaled, columns=X_train.columns)\n",
        "X_test_scaled = pd.DataFrame(X_test_scaled, columns=X_test.columns)"
      ],
      "execution_count": 0,
      "outputs": []
    },
    {
      "cell_type": "code",
      "metadata": {
        "id": "hGcg8Z36eas5",
        "colab_type": "code",
        "colab": {
          "base_uri": "https://localhost:8080/",
          "height": 320
        },
        "outputId": "7ea12bf6-2a77-46a7-e41a-a3dc37dd5c0b"
      },
      "source": [
        "X_train.describe()"
      ],
      "execution_count": 22,
      "outputs": [
        {
          "output_type": "execute_result",
          "data": {
            "text/html": [
              "<div>\n",
              "<style scoped>\n",
              "    .dataframe tbody tr th:only-of-type {\n",
              "        vertical-align: middle;\n",
              "    }\n",
              "\n",
              "    .dataframe tbody tr th {\n",
              "        vertical-align: top;\n",
              "    }\n",
              "\n",
              "    .dataframe thead th {\n",
              "        text-align: right;\n",
              "    }\n",
              "</style>\n",
              "<table border=\"1\" class=\"dataframe\">\n",
              "  <thead>\n",
              "    <tr style=\"text-align: right;\">\n",
              "      <th></th>\n",
              "      <th>CRIM</th>\n",
              "      <th>ZN</th>\n",
              "      <th>INDUS</th>\n",
              "      <th>CHAS</th>\n",
              "      <th>NOX</th>\n",
              "      <th>RM</th>\n",
              "      <th>AGE</th>\n",
              "      <th>DIS</th>\n",
              "      <th>RAD</th>\n",
              "      <th>TAX</th>\n",
              "      <th>PTRATIO</th>\n",
              "      <th>B</th>\n",
              "      <th>LSTAT</th>\n",
              "    </tr>\n",
              "  </thead>\n",
              "  <tbody>\n",
              "    <tr>\n",
              "      <th>count</th>\n",
              "      <td>354.000000</td>\n",
              "      <td>354.000000</td>\n",
              "      <td>354.000000</td>\n",
              "      <td>354.000000</td>\n",
              "      <td>354.000000</td>\n",
              "      <td>354.000000</td>\n",
              "      <td>354.000000</td>\n",
              "      <td>354.000000</td>\n",
              "      <td>354.000000</td>\n",
              "      <td>354.000000</td>\n",
              "      <td>354.000000</td>\n",
              "      <td>354.000000</td>\n",
              "      <td>354.000000</td>\n",
              "    </tr>\n",
              "    <tr>\n",
              "      <th>mean</th>\n",
              "      <td>3.358284</td>\n",
              "      <td>11.809322</td>\n",
              "      <td>11.078757</td>\n",
              "      <td>0.064972</td>\n",
              "      <td>0.556098</td>\n",
              "      <td>6.308427</td>\n",
              "      <td>68.994068</td>\n",
              "      <td>3.762459</td>\n",
              "      <td>9.353107</td>\n",
              "      <td>401.782486</td>\n",
              "      <td>18.473446</td>\n",
              "      <td>360.601186</td>\n",
              "      <td>12.440650</td>\n",
              "    </tr>\n",
              "    <tr>\n",
              "      <th>std</th>\n",
              "      <td>8.353223</td>\n",
              "      <td>23.653056</td>\n",
              "      <td>6.993821</td>\n",
              "      <td>0.246825</td>\n",
              "      <td>0.115601</td>\n",
              "      <td>0.702009</td>\n",
              "      <td>28.038429</td>\n",
              "      <td>2.067661</td>\n",
              "      <td>8.671999</td>\n",
              "      <td>170.592404</td>\n",
              "      <td>2.224809</td>\n",
              "      <td>85.621945</td>\n",
              "      <td>7.078485</td>\n",
              "    </tr>\n",
              "    <tr>\n",
              "      <th>min</th>\n",
              "      <td>0.006320</td>\n",
              "      <td>0.000000</td>\n",
              "      <td>0.460000</td>\n",
              "      <td>0.000000</td>\n",
              "      <td>0.385000</td>\n",
              "      <td>3.561000</td>\n",
              "      <td>2.900000</td>\n",
              "      <td>1.174200</td>\n",
              "      <td>1.000000</td>\n",
              "      <td>187.000000</td>\n",
              "      <td>12.600000</td>\n",
              "      <td>0.320000</td>\n",
              "      <td>1.730000</td>\n",
              "    </tr>\n",
              "    <tr>\n",
              "      <th>25%</th>\n",
              "      <td>0.073425</td>\n",
              "      <td>0.000000</td>\n",
              "      <td>4.950000</td>\n",
              "      <td>0.000000</td>\n",
              "      <td>0.450000</td>\n",
              "      <td>5.895250</td>\n",
              "      <td>45.175000</td>\n",
              "      <td>2.107650</td>\n",
              "      <td>4.000000</td>\n",
              "      <td>276.000000</td>\n",
              "      <td>17.400000</td>\n",
              "      <td>376.057500</td>\n",
              "      <td>6.735000</td>\n",
              "    </tr>\n",
              "    <tr>\n",
              "      <th>50%</th>\n",
              "      <td>0.262660</td>\n",
              "      <td>0.000000</td>\n",
              "      <td>8.560000</td>\n",
              "      <td>0.000000</td>\n",
              "      <td>0.538000</td>\n",
              "      <td>6.215500</td>\n",
              "      <td>79.450000</td>\n",
              "      <td>3.215700</td>\n",
              "      <td>5.000000</td>\n",
              "      <td>311.000000</td>\n",
              "      <td>19.100000</td>\n",
              "      <td>391.605000</td>\n",
              "      <td>11.160000</td>\n",
              "    </tr>\n",
              "    <tr>\n",
              "      <th>75%</th>\n",
              "      <td>3.103700</td>\n",
              "      <td>20.000000</td>\n",
              "      <td>18.100000</td>\n",
              "      <td>0.000000</td>\n",
              "      <td>0.629250</td>\n",
              "      <td>6.647250</td>\n",
              "      <td>93.750000</td>\n",
              "      <td>5.079300</td>\n",
              "      <td>24.000000</td>\n",
              "      <td>666.000000</td>\n",
              "      <td>20.200000</td>\n",
              "      <td>395.690000</td>\n",
              "      <td>16.717500</td>\n",
              "    </tr>\n",
              "    <tr>\n",
              "      <th>max</th>\n",
              "      <td>88.976200</td>\n",
              "      <td>100.000000</td>\n",
              "      <td>27.740000</td>\n",
              "      <td>1.000000</td>\n",
              "      <td>0.871000</td>\n",
              "      <td>8.780000</td>\n",
              "      <td>100.000000</td>\n",
              "      <td>12.126500</td>\n",
              "      <td>24.000000</td>\n",
              "      <td>711.000000</td>\n",
              "      <td>22.000000</td>\n",
              "      <td>396.900000</td>\n",
              "      <td>36.980000</td>\n",
              "    </tr>\n",
              "  </tbody>\n",
              "</table>\n",
              "</div>"
            ],
            "text/plain": [
              "             CRIM          ZN       INDUS  ...     PTRATIO           B       LSTAT\n",
              "count  354.000000  354.000000  354.000000  ...  354.000000  354.000000  354.000000\n",
              "mean     3.358284   11.809322   11.078757  ...   18.473446  360.601186   12.440650\n",
              "std      8.353223   23.653056    6.993821  ...    2.224809   85.621945    7.078485\n",
              "min      0.006320    0.000000    0.460000  ...   12.600000    0.320000    1.730000\n",
              "25%      0.073425    0.000000    4.950000  ...   17.400000  376.057500    6.735000\n",
              "50%      0.262660    0.000000    8.560000  ...   19.100000  391.605000   11.160000\n",
              "75%      3.103700   20.000000   18.100000  ...   20.200000  395.690000   16.717500\n",
              "max     88.976200  100.000000   27.740000  ...   22.000000  396.900000   36.980000\n",
              "\n",
              "[8 rows x 13 columns]"
            ]
          },
          "metadata": {
            "tags": []
          },
          "execution_count": 22
        }
      ]
    },
    {
      "cell_type": "code",
      "metadata": {
        "id": "hz3Uhq90eatG",
        "colab_type": "code",
        "colab": {
          "base_uri": "https://localhost:8080/",
          "height": 320
        },
        "outputId": "45a2dea1-7353-4fbc-84dc-52d4bcd90d40"
      },
      "source": [
        "X_train_scaled.describe()"
      ],
      "execution_count": 23,
      "outputs": [
        {
          "output_type": "execute_result",
          "data": {
            "text/html": [
              "<div>\n",
              "<style scoped>\n",
              "    .dataframe tbody tr th:only-of-type {\n",
              "        vertical-align: middle;\n",
              "    }\n",
              "\n",
              "    .dataframe tbody tr th {\n",
              "        vertical-align: top;\n",
              "    }\n",
              "\n",
              "    .dataframe thead th {\n",
              "        text-align: right;\n",
              "    }\n",
              "</style>\n",
              "<table border=\"1\" class=\"dataframe\">\n",
              "  <thead>\n",
              "    <tr style=\"text-align: right;\">\n",
              "      <th></th>\n",
              "      <th>CRIM</th>\n",
              "      <th>ZN</th>\n",
              "      <th>INDUS</th>\n",
              "      <th>CHAS</th>\n",
              "      <th>NOX</th>\n",
              "      <th>RM</th>\n",
              "      <th>AGE</th>\n",
              "      <th>DIS</th>\n",
              "      <th>RAD</th>\n",
              "      <th>TAX</th>\n",
              "      <th>PTRATIO</th>\n",
              "      <th>B</th>\n",
              "      <th>LSTAT</th>\n",
              "    </tr>\n",
              "  </thead>\n",
              "  <tbody>\n",
              "    <tr>\n",
              "      <th>count</th>\n",
              "      <td>354.000000</td>\n",
              "      <td>354.000000</td>\n",
              "      <td>354.000000</td>\n",
              "      <td>354.000000</td>\n",
              "      <td>354.000000</td>\n",
              "      <td>354.000000</td>\n",
              "      <td>354.000000</td>\n",
              "      <td>354.000000</td>\n",
              "      <td>354.000000</td>\n",
              "      <td>354.000000</td>\n",
              "      <td>354.000000</td>\n",
              "      <td>354.000000</td>\n",
              "      <td>354.000000</td>\n",
              "    </tr>\n",
              "    <tr>\n",
              "      <th>mean</th>\n",
              "      <td>0.004688</td>\n",
              "      <td>0.024027</td>\n",
              "      <td>0.018758</td>\n",
              "      <td>0.000120</td>\n",
              "      <td>0.000997</td>\n",
              "      <td>0.011640</td>\n",
              "      <td>0.122166</td>\n",
              "      <td>0.007251</td>\n",
              "      <td>0.014647</td>\n",
              "      <td>0.682156</td>\n",
              "      <td>0.033589</td>\n",
              "      <td>0.668592</td>\n",
              "      <td>0.021765</td>\n",
              "    </tr>\n",
              "    <tr>\n",
              "      <th>std</th>\n",
              "      <td>0.011049</td>\n",
              "      <td>0.048105</td>\n",
              "      <td>0.010982</td>\n",
              "      <td>0.000463</td>\n",
              "      <td>0.000187</td>\n",
              "      <td>0.002718</td>\n",
              "      <td>0.048931</td>\n",
              "      <td>0.004588</td>\n",
              "      <td>0.010624</td>\n",
              "      <td>0.152037</td>\n",
              "      <td>0.006168</td>\n",
              "      <td>0.203917</td>\n",
              "      <td>0.011661</td>\n",
              "    </tr>\n",
              "    <tr>\n",
              "      <th>min</th>\n",
              "      <td>0.000013</td>\n",
              "      <td>0.000000</td>\n",
              "      <td>0.000963</td>\n",
              "      <td>0.000000</td>\n",
              "      <td>0.000681</td>\n",
              "      <td>0.004682</td>\n",
              "      <td>0.006431</td>\n",
              "      <td>0.001499</td>\n",
              "      <td>0.001911</td>\n",
              "      <td>0.425977</td>\n",
              "      <td>0.024238</td>\n",
              "      <td>0.000475</td>\n",
              "      <td>0.003099</td>\n",
              "    </tr>\n",
              "    <tr>\n",
              "      <th>25%</th>\n",
              "      <td>0.000148</td>\n",
              "      <td>0.000000</td>\n",
              "      <td>0.010430</td>\n",
              "      <td>0.000000</td>\n",
              "      <td>0.000883</td>\n",
              "      <td>0.009432</td>\n",
              "      <td>0.088582</td>\n",
              "      <td>0.003363</td>\n",
              "      <td>0.007875</td>\n",
              "      <td>0.565434</td>\n",
              "      <td>0.027163</td>\n",
              "      <td>0.507064</td>\n",
              "      <td>0.013486</td>\n",
              "    </tr>\n",
              "    <tr>\n",
              "      <th>50%</th>\n",
              "      <td>0.000515</td>\n",
              "      <td>0.000000</td>\n",
              "      <td>0.016919</td>\n",
              "      <td>0.000000</td>\n",
              "      <td>0.000979</td>\n",
              "      <td>0.012099</td>\n",
              "      <td>0.126282</td>\n",
              "      <td>0.006399</td>\n",
              "      <td>0.010027</td>\n",
              "      <td>0.639890</td>\n",
              "      <td>0.033567</td>\n",
              "      <td>0.753246</td>\n",
              "      <td>0.019929</td>\n",
              "    </tr>\n",
              "    <tr>\n",
              "      <th>75%</th>\n",
              "      <td>0.004750</td>\n",
              "      <td>0.041516</td>\n",
              "      <td>0.023812</td>\n",
              "      <td>0.000000</td>\n",
              "      <td>0.001060</td>\n",
              "      <td>0.013580</td>\n",
              "      <td>0.158637</td>\n",
              "      <td>0.010516</td>\n",
              "      <td>0.030581</td>\n",
              "      <td>0.850914</td>\n",
              "      <td>0.038620</td>\n",
              "      <td>0.809355</td>\n",
              "      <td>0.027524</td>\n",
              "    </tr>\n",
              "    <tr>\n",
              "      <th>max</th>\n",
              "      <td>0.113081</td>\n",
              "      <td>0.207644</td>\n",
              "      <td>0.061249</td>\n",
              "      <td>0.002282</td>\n",
              "      <td>0.002053</td>\n",
              "      <td>0.018156</td>\n",
              "      <td>0.237626</td>\n",
              "      <td>0.027624</td>\n",
              "      <td>0.035766</td>\n",
              "      <td>0.992514</td>\n",
              "      <td>0.053097</td>\n",
              "      <td>0.889808</td>\n",
              "      <td>0.070063</td>\n",
              "    </tr>\n",
              "  </tbody>\n",
              "</table>\n",
              "</div>"
            ],
            "text/plain": [
              "             CRIM          ZN       INDUS  ...     PTRATIO           B       LSTAT\n",
              "count  354.000000  354.000000  354.000000  ...  354.000000  354.000000  354.000000\n",
              "mean     0.004688    0.024027    0.018758  ...    0.033589    0.668592    0.021765\n",
              "std      0.011049    0.048105    0.010982  ...    0.006168    0.203917    0.011661\n",
              "min      0.000013    0.000000    0.000963  ...    0.024238    0.000475    0.003099\n",
              "25%      0.000148    0.000000    0.010430  ...    0.027163    0.507064    0.013486\n",
              "50%      0.000515    0.000000    0.016919  ...    0.033567    0.753246    0.019929\n",
              "75%      0.004750    0.041516    0.023812  ...    0.038620    0.809355    0.027524\n",
              "max      0.113081    0.207644    0.061249  ...    0.053097    0.889808    0.070063\n",
              "\n",
              "[8 rows x 13 columns]"
            ]
          },
          "metadata": {
            "tags": []
          },
          "execution_count": 23
        }
      ]
    },
    {
      "cell_type": "code",
      "metadata": {
        "id": "t6KkY-reeatQ",
        "colab_type": "code",
        "colab": {
          "base_uri": "https://localhost:8080/",
          "height": 336
        },
        "outputId": "b37628c4-c7d2-4a5b-8582-cfdfca1b60db"
      },
      "source": [
        "# let's compare the variable distributions before and after scaling\n",
        "\n",
        "fig, (ax1, ax2) = plt.subplots(ncols=2, figsize=(12, 5))\n",
        "\n",
        "# before scaling\n",
        "ax1.set_title('Before Scaling')\n",
        "sns.kdeplot(X_train['RM'], ax=ax1)\n",
        "sns.kdeplot(X_train['LSTAT'], ax=ax1)\n",
        "sns.kdeplot(X_train['CRIM'], ax=ax1)\n",
        "\n",
        "# after scaling\n",
        "ax2.set_title('After Unit Norm Scaling')\n",
        "sns.kdeplot(X_train_scaled['RM'], ax=ax2)\n",
        "sns.kdeplot(X_train_scaled['LSTAT'], ax=ax2)\n",
        "sns.kdeplot(X_train_scaled['CRIM'], ax=ax2)\n",
        "plt.show()"
      ],
      "execution_count": 24,
      "outputs": [
        {
          "output_type": "display_data",
          "data": {
            "image/png": "[encoded data removed]",
            "text/plain": [
              "<Figure size 864x360 with 2 Axes>"
            ]
          },
          "metadata": {
            "tags": []
          }
        }
      ]
    },
    {
      "cell_type": "code",
      "metadata": {
        "id": "kh864pzweatb",
        "colab_type": "code",
        "colab": {
          "base_uri": "https://localhost:8080/",
          "height": 336
        },
        "outputId": "768958c8-5c52-4d97-c016-0f763d148af6"
      },
      "source": [
        "fig, (ax1, ax2) = plt.subplots(ncols=2, figsize=(12, 5))\n",
        "\n",
        "# before scaling\n",
        "ax1.set_title('Before Scaling')\n",
        "#sns.kdeplot(X_train['AGE'], ax=ax1)\n",
        "#sns.kdeplot(X_train['DIS'], ax=ax1)\n",
        "sns.kdeplot(X_train['NOX'], ax=ax1)\n",
        "\n",
        "# after scaling\n",
        "ax2.set_title('After Unit Norm Scaling')\n",
        "#sns.kdeplot(X_train_scaled['AGE'], ax=ax2)\n",
        "#sns.kdeplot(X_train_scaled['DIS'], ax=ax2)\n",
        "sns.kdeplot(X_train_scaled['NOX'], ax=ax2)\n",
        "plt.show()"
      ],
      "execution_count": 25,
      "outputs": [
        {
          "output_type": "display_data",
          "data": {
            "image/png": "[encoded data removed]",
            "text/plain": [
              "<Figure size 864x360 with 2 Axes>"
            ]
          },
          "metadata": {
            "tags": []
          }
        }
      ]
    },
    {
      "cell_type": "code",
      "metadata": {
        "id": "Wu8nGgKReatm",
        "colab_type": "code",
        "colab": {}
      },
      "source": [
        ""
      ],
      "execution_count": 0,
      "outputs": []
    }
  ]
}