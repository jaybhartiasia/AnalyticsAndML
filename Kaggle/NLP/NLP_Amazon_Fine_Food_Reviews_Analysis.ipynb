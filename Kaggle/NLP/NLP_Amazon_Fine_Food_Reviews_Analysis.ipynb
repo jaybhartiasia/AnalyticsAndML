{
  "nbformat": 4,
  "nbformat_minor": 0,
  "metadata": {
    "colab": {
      "name": "NLP-Amazon Fine Food Reviews Analysis.ipynb",
      "provenance": [],
      "collapsed_sections": [],
      "toc_visible": true,
      "include_colab_link": true
    },
    "kernelspec": {
      "name": "python3",
      "display_name": "Python 3"
    },
    "accelerator": "GPU"
  },
  "cells": [
    {
      "cell_type": "markdown",
      "metadata": {
        "id": "view-in-github",
        "colab_type": "text"
      },
      "source": [
        "<a href=\"https://colab.research.google.com/github/vinay10949/AnalyticsAndML/blob/master/Kaggle/NLP/NLP_Amazon_Fine_Food_Reviews_Analysis.ipynb\" target=\"_parent\"><img src=\"https://colab.research.google.com/assets/colab-badge.svg\" alt=\"Open In Colab\"/></a>"
      ]
    },
    {
      "cell_type": "code",
      "metadata": {
        "id": "szXRAVucYg95",
        "colab_type": "code",
        "outputId": "f5cbb1d9-15de-4077-90e9-53d9daaf8943",
        "colab": {
          "base_uri": "https://localhost:8080/",
          "height": 124
        }
      },
      "source": [
        "from google.colab import drive\n",
        "drive.mount('/content/drive')"
      ],
      "execution_count": 1,
      "outputs": [
        {
          "output_type": "stream",
          "text": [
            "Go to this URL in a browser: https://accounts.google.com/o/oauth2/auth?client_id=947318989803-6bn6qk8qdgf4n4g3pfee6491hc0brc4i.apps.googleusercontent.com&redirect_uri=urn%3aietf%3awg%3aoauth%3a2.0%3aoob&response_type=code&scope=email%20https%3a%2f%2fwww.googleapis.com%2fauth%2fdocs.test%20https%3a%2f%2fwww.googleapis.com%2fauth%2fdrive%20https%3a%2f%2fwww.googleapis.com%2fauth%2fdrive.photos.readonly%20https%3a%2f%2fwww.googleapis.com%2fauth%2fpeopleapi.readonly\n",
            "\n",
            "Enter your authorization code:\n",
            "··········\n",
            "Mounted at /content/drive\n"
          ],
          "name": "stdout"
        }
      ]
    },
    {
      "cell_type": "code",
      "metadata": {
        "id": "22GbwuxRYf5a",
        "colab_type": "code",
        "colab": {}
      },
      "source": [
        "!cp /content/drive/My\\ Drive/datasets/database.sqlite ."
      ],
      "execution_count": 0,
      "outputs": []
    },
    {
      "cell_type": "code",
      "metadata": {
        "id": "G4GAFELrZW0R",
        "colab_type": "code",
        "colab": {
          "base_uri": "https://localhost:8080/",
          "height": 1000
        },
        "outputId": "17827417-23ff-414b-b1f6-a54cf9f80589"
      },
      "source": [
        "# Install RAPIDS\n",
        "!git clone https://github.com/rapidsai/rapidsai-csp-utils.git\n",
        "!bash rapidsai-csp-utils/colab/rapids-colab.sh stable\n",
        "\n",
        "import sys, os\n",
        "\n",
        "dist_package_index = sys.path.index('/usr/local/lib/python3.6/dist-packages')\n",
        "sys.path = sys.path[:dist_package_index] + ['/usr/local/lib/python3.6/site-packages'] + sys.path[dist_package_index:]\n",
        "sys.path\n",
        "exec(open('rapidsai-csp-utils/colab/update_modules.py').read(), globals())"
      ],
      "execution_count": 3,
      "outputs": [
        {
          "output_type": "stream",
          "text": [
            "Cloning into 'rapidsai-csp-utils'...\n",
            "remote: Enumerating objects: 89, done.\u001b[K\n",
            "remote: Counting objects: 100% (89/89), done.\u001b[K\n",
            "remote: Compressing objects: 100% (88/88), done.\u001b[K\n",
            "remote: Total 89 (delta 19), reused 9 (delta 0), pack-reused 0\u001b[K\n",
            "Unpacking objects: 100% (89/89), done.\n",
            "PLEASE READ\n",
            "********************************************************************************************************\n",
            "Changes:\n",
            "1. Now that most people have migrated, we have rem0ved the migration notice.\n",
            "2. default stable version is now 0.13.  Nightly is now 0.14\n",
            "3. You can now declare your RAPIDS version as a CLI option and skip the user prompts (ex: '0.13' or '0.14', between 0.11 to 0.14, without the quotes): \n",
            "        \"!bash rapidsai-csp-utils/colab/rapids-colab.sh <version/label>\"\n",
            "        Examples: '!bash rapidsai-csp-utils/colab/rapids-colab.sh 0.13', or '!bash rapidsai-csp-utils/colab/rapids-colab.sh stable', or '!bash rapidsai-csp-utils/colab/rapids-colab.sh s'\n",
            "                  '!bash rapidsai-csp-utils/colab/rapids-colab.sh 0.14, or '!bash rapidsai-csp-utils/colab/rapids-colab.sh nightly', or '!bash rapidsai-csp-utils/colab/rapids-colab.sh n'\n",
            "Enjoy using RAPIDS!\n",
            "Starting to prep Colab for install RAPIDS Version 0.13 stable\n",
            "Checking for GPU type:\n",
            "***********************************************************************\n",
            "Woo! Your instance has the right kind of GPU, a 'Tesla T4'!\n",
            "***********************************************************************\n",
            "\n",
            "Removing conflicting packages, will replace with RAPIDS compatible versions\n",
            "Uninstalling xgboost-0.90:\n",
            "  Successfully uninstalled xgboost-0.90\n",
            "Uninstalling dask-2.12.0:\n",
            "  Successfully uninstalled dask-2.12.0\n",
            "Uninstalling distributed-1.25.3:\n",
            "  Successfully uninstalled distributed-1.25.3\n",
            "Installing conda\n",
            "--2020-04-10 09:28:05--  https://repo.continuum.io/miniconda/Miniconda3-4.5.4-Linux-x86_64.sh\n",
            "Resolving repo.continuum.io (repo.continuum.io)... 104.18.200.79, 104.18.201.79, 2606:4700::6812:c84f, ...\n",
            "Connecting to repo.continuum.io (repo.continuum.io)|104.18.200.79|:443... connected.\n",
            "HTTP request sent, awaiting response... 301 Moved Permanently\n",
            "Location: https://repo.anaconda.com/miniconda/Miniconda3-4.5.4-Linux-x86_64.sh [following]\n",
            "--2020-04-10 09:28:05--  https://repo.anaconda.com/miniconda/Miniconda3-4.5.4-Linux-x86_64.sh\n",
            "Resolving repo.anaconda.com (repo.anaconda.com)... 104.16.130.3, 104.16.131.3, 2606:4700::6810:8303, ...\n",
            "Connecting to repo.anaconda.com (repo.anaconda.com)|104.16.130.3|:443... connected.\n",
            "HTTP request sent, awaiting response... 200 OK\n",
            "Length: 58468498 (56M) [application/x-sh]\n",
            "Saving to: ‘Miniconda3-4.5.4-Linux-x86_64.sh’\n",
            "\n",
            "Miniconda3-4.5.4-Li 100%[===================>]  55.76M   180MB/s    in 0.3s    \n",
            "\n",
            "2020-04-10 09:28:06 (180 MB/s) - ‘Miniconda3-4.5.4-Linux-x86_64.sh’ saved [58468498/58468498]\n",
            "\n",
            "PREFIX=/usr/local\n",
            "installing: python-3.6.5-hc3d631a_2 ...\n",
            "Python 3.6.5 :: Anaconda, Inc.\n",
            "installing: ca-certificates-2018.03.07-0 ...\n",
            "installing: conda-env-2.6.0-h36134e3_1 ...\n",
            "installing: libgcc-ng-7.2.0-hdf63c60_3 ...\n",
            "installing: libstdcxx-ng-7.2.0-hdf63c60_3 ...\n",
            "installing: libffi-3.2.1-hd88cf55_4 ...\n",
            "installing: ncurses-6.1-hf484d3e_0 ...\n",
            "installing: openssl-1.0.2o-h20670df_0 ...\n",
            "installing: tk-8.6.7-hc745277_3 ...\n",
            "installing: xz-5.2.4-h14c3975_4 ...\n",
            "installing: yaml-0.1.7-had09818_2 ...\n",
            "installing: zlib-1.2.11-ha838bed_2 ...\n",
            "installing: libedit-3.1.20170329-h6b74fdf_2 ...\n",
            "installing: readline-7.0-ha6073c6_4 ...\n",
            "installing: sqlite-3.23.1-he433501_0 ...\n",
            "installing: asn1crypto-0.24.0-py36_0 ...\n",
            "installing: certifi-2018.4.16-py36_0 ...\n",
            "installing: chardet-3.0.4-py36h0f667ec_1 ...\n",
            "installing: idna-2.6-py36h82fb2a8_1 ...\n",
            "installing: pycosat-0.6.3-py36h0a5515d_0 ...\n",
            "installing: pycparser-2.18-py36hf9f622e_1 ...\n",
            "installing: pysocks-1.6.8-py36_0 ...\n",
            "installing: ruamel_yaml-0.15.37-py36h14c3975_2 ...\n",
            "installing: six-1.11.0-py36h372c433_1 ...\n",
            "installing: cffi-1.11.5-py36h9745a5d_0 ...\n",
            "installing: setuptools-39.2.0-py36_0 ...\n",
            "installing: cryptography-2.2.2-py36h14c3975_0 ...\n",
            "installing: wheel-0.31.1-py36_0 ...\n",
            "installing: pip-10.0.1-py36_0 ...\n",
            "installing: pyopenssl-18.0.0-py36_0 ...\n",
            "installing: urllib3-1.22-py36hbe7ace6_0 ...\n",
            "installing: requests-2.18.4-py36he2e5f8d_1 ...\n",
            "installing: conda-4.5.4-py36_0 ...\n",
            "installation finished.\n",
            "WARNING:\n",
            "    You currently have a PYTHONPATH environment variable set. This may cause\n",
            "    unexpected behavior when running the Python interpreter in Miniconda3.\n",
            "    For best results, please verify that your PYTHONPATH only points to\n",
            "    directories of packages that are compatible with the Python interpreter\n",
            "    in Miniconda3: /usr/local\n",
            "Solving environment: - \b\b\\ \b\b| \b\b/ \b\b- \b\b\\ \b\b| \b\b/ \b\b- \b\b\\ \b\b| \b\b/ \b\b- \b\b\\ \b\b| \b\b/ \b\b- \b\b\\ \b\b| \b\b/ \b\b- \b\b\\ \b\b| \b\b/ \b\b- \b\b\\ \b\b| \b\b/ \b\b- \b\b\\ \b\b| \b\b/ \b\b- \b\b\\ \b\b| \b\b/ \b\b- \b\b\\ \b\b| \b\b/ \b\b- \b\b\\ \b\b| \b\b/ \b\b- \b\b\\ \b\b| \b\b/ \b\b- \b\b\\ \b\b| \b\b/ \b\b- \b\b\\ \b\b| \b\b/ \b\b- \b\b\\ \b\b| \b\b/ \b\b- \b\b\\ \b\b| \b\b/ \b\b- \b\b\\ \b\b| \b\b/ \b\b- \b\b\\ \b\b| \b\b/ \b\b- \b\b\\ \b\b| \b\b/ \b\b- \b\b\\ \b\b| \b\b/ \b\b- \b\b\\ \b\b| \b\b/ \b\b- \b\b\\ \b\b| \b\b/ \b\b- \b\b\\ \b\b| \b\b/ \b\b- \b\b\\ \b\b| \b\b/ \b\b- \b\b\\ \b\b| \b\b/ \b\b- \b\b\\ \b\b| \b\b/ \b\b- \b\b\\ \b\b| \b\b/ \b\b- \b\b\\ \b\b| \b\b/ \b\b- \b\b\\ \b\b| \b\b/ \b\b- \b\b\\ \b\b| \b\b/ \b\b- \b\b\\ \b\b| \b\b/ \b\b- \b\b\\ \b\b| \b\b/ \b\b- \b\b\\ \b\b| \b\b/ \b\b- \b\b\\ \b\b| \b\b/ \b\b- \b\b\\ \b\b| \b\b/ \b\b- \b\b\\ \b\b| \b\b/ \b\b- \b\b\\ \b\b| \b\b/ \b\b- \b\b\\ \b\b| \b\b/ \b\b- \b\b\\ \b\b| \b\b/ \b\b- \b\b\\ \b\b| \b\b/ \b\b- \b\b\\ \b\b| \b\b/ \b\b- \b\b\\ \b\b| \b\b/ \b\b- \b\b\\ \b\b| \b\b/ \b\b- \b\b\\ \b\b| \b\b/ \b\b- \b\b\\ \b\b| \b\b/ \b\b- \b\b\\ \b\b| \b\b/ \b\b- \b\b\\ \b\b| \b\b/ \b\b- \b\b\\ \b\b| \b\b/ \b\b- \b\b\\ \b\b| \b\b/ \b\b- \b\b\\ \b\b| \b\b/ \b\b- \b\b\\ \b\b| \b\b/ \b\b- \b\b\\ \b\b| \b\b/ \b\b- \b\b\\ \b\b| \b\b/ \b\b- \b\b\\ \b\b| \b\b/ \b\b- \b\b\\ \b\b| \b\b/ \b\b- \b\b\\ \b\b| \b\b/ \b\b- \b\b\\ \b\b| \b\b/ \b\b- \b\b\\ \b\b| \b\b/ \b\b- \b\b\\ \b\b| \b\b/ \b\b- \b\b\\ \b\b| \b\b/ \b\b- \b\b\\ \b\b| \b\b/ \b\b- \b\b\\ \b\b| \b\b/ \b\b- \b\b\\ \b\b| \b\b/ \b\b- \b\b\\ \b\b| \b\b/ \b\b- \b\b\\ \b\b| \b\b/ \b\b- \b\b\\ \b\b| \b\b/ \b\b- \b\b\\ \b\b| \b\b/ \b\b- \b\b\\ \b\b| \b\b/ \b\b- \b\b\\ \b\b| \b\b/ \b\b- \b\b\\ \b\b| \b\b/ \b\b- \b\b\\ \b\bdone\n",
            "\n",
            "\n",
            "==> WARNING: A newer version of conda exists. <==\n",
            "  current version: 4.5.4\n",
            "  latest version: 4.8.3\n",
            "\n",
            "Please update conda by running\n",
            "\n",
            "    $ conda update -n base conda\n",
            "\n",
            "\n",
            "\n",
            "## Package Plan ##\n",
            "\n",
            "  environment location: /usr/local\n",
            "\n",
            "  added / updated specs: \n",
            "    - openssl\n",
            "    - python=3.6\n",
            "\n",
            "\n",
            "The following packages will be downloaded:\n",
            "\n",
            "    package                    |            build\n",
            "    ---------------------------|-----------------\n",
            "    python_abi-3.6             |          1_cp36m           4 KB  conda-forge\n",
            "    readline-8.0               |       hf8c457e_0         441 KB  conda-forge\n",
            "    xz-5.2.5                   |       h516909a_0         430 KB  conda-forge\n",
            "    libstdcxx-ng-9.2.0         |       hdf63c60_2         4.5 MB  conda-forge\n",
            "    _libgcc_mutex-0.1          |      conda_forge           3 KB  conda-forge\n",
            "    libgomp-9.2.0              |       h24d8f2e_2         816 KB  conda-forge\n",
            "    ca-certificates-2020.4.5.1 |       hecc5488_0         146 KB  conda-forge\n",
            "    zlib-1.2.11                |    h516909a_1006         105 KB  conda-forge\n",
            "    setuptools-46.1.3          |   py36h9f0ad1d_0         653 KB  conda-forge\n",
            "    libffi-3.2.1               |    he1b5a44_1007          47 KB  conda-forge\n",
            "    sqlite-3.30.1              |       hcee41ef_0         2.0 MB  conda-forge\n",
            "    openssl-1.1.1f             |       h516909a_0         2.1 MB  conda-forge\n",
            "    ld_impl_linux-64-2.34      |       h53a641e_0         616 KB  conda-forge\n",
            "    tk-8.6.10                  |       hed695b0_0         3.2 MB  conda-forge\n",
            "    _openmp_mutex-4.5          |            0_gnu         435 KB  conda-forge\n",
            "    certifi-2020.4.5.1         |   py36h9f0ad1d_0         151 KB  conda-forge\n",
            "    python-3.6.10              |h8356626_1010_cpython        34.1 MB  conda-forge\n",
            "    wheel-0.34.2               |             py_1          24 KB  conda-forge\n",
            "    libgcc-ng-9.2.0            |       h24d8f2e_2         8.2 MB  conda-forge\n",
            "    pip-20.0.2                 |             py_2         1.0 MB  conda-forge\n",
            "    ncurses-6.1                |    hf484d3e_1002         1.3 MB  conda-forge\n",
            "    ------------------------------------------------------------\n",
            "                                           Total:        60.2 MB\n",
            "\n",
            "The following NEW packages will be INSTALLED:\n",
            "\n",
            "    _libgcc_mutex:    0.1-conda_forge   conda-forge\n",
            "    _openmp_mutex:    4.5-0_gnu         conda-forge\n",
            "    ld_impl_linux-64: 2.34-h53a641e_0   conda-forge\n",
            "    libgomp:          9.2.0-h24d8f2e_2  conda-forge\n",
            "    python_abi:       3.6-1_cp36m       conda-forge\n",
            "\n",
            "The following packages will be UPDATED:\n",
            "\n",
            "    ca-certificates:  2018.03.07-0                  --> 2020.4.5.1-hecc5488_0        conda-forge\n",
            "    certifi:          2018.4.16-py36_0              --> 2020.4.5.1-py36h9f0ad1d_0    conda-forge\n",
            "    libffi:           3.2.1-hd88cf55_4              --> 3.2.1-he1b5a44_1007          conda-forge\n",
            "    libgcc-ng:        7.2.0-hdf63c60_3              --> 9.2.0-h24d8f2e_2             conda-forge\n",
            "    libstdcxx-ng:     7.2.0-hdf63c60_3              --> 9.2.0-hdf63c60_2             conda-forge\n",
            "    ncurses:          6.1-hf484d3e_0                --> 6.1-hf484d3e_1002            conda-forge\n",
            "    openssl:          1.0.2o-h20670df_0             --> 1.1.1f-h516909a_0            conda-forge\n",
            "    pip:              10.0.1-py36_0                 --> 20.0.2-py_2                  conda-forge\n",
            "    python:           3.6.5-hc3d631a_2              --> 3.6.10-h8356626_1010_cpython conda-forge\n",
            "    readline:         7.0-ha6073c6_4                --> 8.0-hf8c457e_0               conda-forge\n",
            "    setuptools:       39.2.0-py36_0                 --> 46.1.3-py36h9f0ad1d_0        conda-forge\n",
            "    sqlite:           3.23.1-he433501_0             --> 3.30.1-hcee41ef_0            conda-forge\n",
            "    tk:               8.6.7-hc745277_3              --> 8.6.10-hed695b0_0            conda-forge\n",
            "    wheel:            0.31.1-py36_0                 --> 0.34.2-py_1                  conda-forge\n",
            "    xz:               5.2.4-h14c3975_4              --> 5.2.5-h516909a_0             conda-forge\n",
            "    zlib:             1.2.11-ha838bed_2             --> 1.2.11-h516909a_1006         conda-forge\n",
            "\n",
            "\n",
            "Downloading and Extracting Packages\n",
            "python_abi-3.6       |    4 KB | : 100% 1.0/1 [00:00<00:00, 26.06it/s]\n",
            "readline-8.0         |  441 KB | : 100% 1.0/1 [00:00<00:00,  8.19it/s]\n",
            "xz-5.2.5             |  430 KB | : 100% 1.0/1 [00:00<00:00,  8.16it/s]               \n",
            "libstdcxx-ng-9.2.0   |  4.5 MB | : 100% 1.0/1 [00:00<00:00,  1.52it/s]              \n",
            "_libgcc_mutex-0.1    |    3 KB | : 100% 1.0/1 [00:00<00:00, 27.83it/s]\n",
            "libgomp-9.2.0        |  816 KB | : 100% 1.0/1 [00:00<00:00,  2.68it/s]                 \n",
            "ca-certificates-2020 |  146 KB | : 100% 1.0/1 [00:00<00:00, 18.41it/s]\n",
            "zlib-1.2.11          |  105 KB | : 100% 1.0/1 [00:00<00:00, 19.81it/s]\n",
            "setuptools-46.1.3    |  653 KB | : 100% 1.0/1 [00:00<00:00,  5.11it/s]               \n",
            "libffi-3.2.1         |   47 KB | : 100% 1.0/1 [00:00<00:00, 22.23it/s]\n",
            "sqlite-3.30.1        |  2.0 MB | : 100% 1.0/1 [00:00<00:00,  3.20it/s]               \n",
            "openssl-1.1.1f       |  2.1 MB | : 100% 1.0/1 [00:00<00:00,  2.87it/s]               \n",
            "ld_impl_linux-64-2.3 |  616 KB | : 100% 1.0/1 [00:00<00:00,  6.63it/s]               \n",
            "tk-8.6.10            |  3.2 MB | : 100% 1.0/1 [00:00<00:00,  1.56it/s]               \n",
            "_openmp_mutex-4.5    |  435 KB | : 100% 1.0/1 [00:00<00:00, 14.29it/s]\n",
            "certifi-2020.4.5.1   |  151 KB | : 100% 1.0/1 [00:00<00:00, 16.73it/s]\n",
            "python-3.6.10        | 34.1 MB | : 100% 1.0/1 [00:04<00:00,  4.69s/it]               \n",
            "wheel-0.34.2         |   24 KB | : 100% 1.0/1 [00:00<00:00, 29.29it/s]\n",
            "libgcc-ng-9.2.0      |  8.2 MB | : 100% 1.0/1 [00:01<00:00,  1.21s/it]               \n",
            "pip-20.0.2           |  1.0 MB | : 100% 1.0/1 [00:00<00:00,  2.76it/s]               \n",
            "ncurses-6.1          |  1.3 MB | : 100% 1.0/1 [00:00<00:00,  1.14it/s]               \n",
            "Preparing transaction: / \b\b- \b\b\\ \b\bdone\n",
            "Verifying transaction: / \b\b- \b\b\\ \b\b| \b\b/ \b\b- \b\b\\ \b\b| \b\b/ \b\b- \b\b\\ \b\b| \b\b/ \b\b- \b\b\\ \b\b| \b\bdone\n",
            "Executing transaction: - \b\b\\ \b\b| \b\b/ \b\b- \b\b\\ \b\b| \b\b/ \b\b- \b\b\\ \b\b| \b\b/ \b\b- \b\b\\ \b\b| \b\b/ \b\b- \b\b\\ \b\b| \b\b/ \b\b- \b\b\\ \b\b| \b\b/ \b\b- \b\b\\ \b\b| \b\b/ \b\b- \b\b\\ \b\b| \b\b/ \b\b- \b\b\\ \b\b| \b\b/ \b\b- \b\b\\ \b\b| \b\b/ \b\b- \b\b\\ \b\b| \b\b/ \b\b- \b\b\\ \b\b| \b\b/ \b\b- \b\b\\ \b\b| \b\b/ \b\b- \b\b\\ \b\b| \b\b/ \b\b- \b\b\\ \b\b| \b\b/ \b\b- \b\b\\ \b\b| \b\b/ \b\b- \b\b\\ \b\b| \b\b/ \b\b- \b\b\\ \b\b| \b\b/ \b\b- \b\b\\ \b\b| \b\b/ \b\b- \b\b\\ \b\b| \b\b/ \b\b- \b\b\\ \b\b| \b\b/ \b\b- \b\b\\ \b\b| \b\b/ \b\b- \b\b\\ \b\b| \b\b/ \b\b- \b\b\\ \b\b| \b\b/ \b\b- \b\b\\ \b\b| \b\b/ \b\b- \b\b\\ \b\b| \b\b/ \b\b- \b\b\\ \b\b| \b\b/ \b\b- \b\b\\ \b\b| \b\b/ \b\b- \b\b\\ \b\b| \b\b/ \b\b- \b\b\\ \b\b| \b\b/ \b\b- \b\b\\ \b\b| \b\b/ \b\b- \b\b\\ \b\b| \b\b/ \b\b- \b\b\\ \b\b| \b\b/ \b\b- \b\b\\ \b\b| \b\b/ \b\b- \b\b\\ \b\b| \b\b/ \b\b- \b\b\\ \b\b| \b\b/ \b\b- \b\b\\ \b\b| \b\b/ \b\b- \b\b\\ \b\b| \b\b/ \b\b- \b\b\\ \b\b| \b\b/ \b\b- \b\b\\ \b\b| \b\b/ \b\b- \b\b\\ \b\b| \b\b/ \b\b- \b\b\\ \b\b| \b\b/ \b\b- \b\b\\ \b\b| \b\b/ \b\b- \b\b\\ \b\bdone\n",
            "Installing RAPIDS 0.13 packages from the stable release channel\n",
            "Please standby, this will take a few minutes...\n",
            "Solving environment: - \b\b\\ \b\b| \b\b/ \b\b- \b\b\\ \b\b| \b\b/ \b\b- \b\b\\ \b\b| \b\b/ \b\b- \b\b\\ \b\b| \b\b/ \b\b- \b\b\\ \b\b| \b\b/ \b\b- \b\b\\ \b\b| \b\b/ \b\b- \b\b\\ \b\b| \b\b/ \b\b- \b\b\\ \b\b| \b\b/ \b\b- \b\b\\ \b\b| \b\b/ \b\b- \b\b\\ \b\b| \b\b/ \b\b- \b\b\\ \b\b| \b\b/ \b\b- \b\b\\ \b\b| \b\b/ \b\b- \b\b\\ \b\b| \b\b/ \b\b- \b\b\\ \b\b| \b\b/ \b\b- \b\b\\ \b\b| \b\b/ \b\b- \b\b\\ \b\b| \b\b/ \b\b- \b\b\\ \b\b| \b\b/ \b\b- \b\b\\ \b\b| \b\b/ \b\b- \b\b\\ \b\b| \b\b/ \b\b- \b\b\\ \b\b| \b\b/ \b\b- \b\b\\ \b\b| \b\b/ \b\b- \b\b\\ \b\b| \b\b/ \b\b- \b\b\\ \b\b| \b\b/ \b\b- \b\b\\ \b\b| \b\b/ \b\b- \b\b\\ \b\b| \b\b/ \b\b- \b\b\\ \b\b| \b\b/ \b\b- \b\b\\ \b\b| \b\b/ \b\b- \b\b\\ \b\b| \b\b/ \b\b- \b\b\\ \b\b| \b\b/ \b\b- \b\b\\ \b\b| \b\b/ \b\b- \b\b\\ \b\b| \b\b/ \b\b- \b\b\\ \b\b| \b\b/ \b\b- \b\b\\ \b\b| \b\b/ \b\b- \b\b\\ \b\b| \b\b/ \b\b- \b\b\\ \b\b| \b\b/ \b\b- \b\b\\ \b\b| \b\b/ \b\b- \b\b\\ \b\b| \b\b/ \b\b- \b\b\\ \b\b| \b\b/ \b\b- \b\b\\ \b\b| \b\b/ \b\b- \b\b\\ \b\b| \b\b/ \b\b- \b\b\\ \b\b| \b\b/ \b\b- \b\b\\ \b\b| \b\b/ \b\b- \b\b\\ \b\b| \b\b/ \b\b- \b\b\\ \b\b| \b\b/ \b\b- \b\b\\ \b\b| \b\b/ \b\b- \b\b\\ \b\b| \b\b/ \b\b- \b\b\\ \b\b| \b\b/ \b\b- \b\b\\ \b\b| \b\b/ \b\b- \b\b\\ \b\b| \b\b/ \b\b- \b\b\\ \b\b| \b\b/ \b\b- \b\b\\ \b\b| \b\b/ \b\b- \b\b\\ \b\b| \b\b/ \b\b- \b\b\\ \b\b| \b\b/ \b\b- \b\b\\ \b\b| \b\b/ \b\b- \b\b\\ \b\b| \b\b/ \b\b- \b\b\\ \b\b| \b\b/ \b\b- \b\b\\ \b\b| \b\b/ \b\b- \b\b\\ \b\b| \b\b/ \b\b- \b\b\\ \b\b| \b\b/ \b\b- \b\b\\ \b\b| \b\b/ \b\b- \b\b\\ \b\b| \b\b/ \b\b- \b\b\\ \b\b| \b\b/ \b\b- \b\b\\ \b\b| \b\b/ \b\b- \b\b\\ \b\b| \b\b/ \b\b- \b\b\\ \b\b| \b\b/ \b\b- \b\b\\ \b\b| \b\b/ \b\b- \b\b\\ \b\b| \b\b/ \b\b- \b\b\\ \b\b| \b\b/ \b\b- \b\b\\ \b\b| \b\b/ \b\b- \b\b\\ \b\b| \b\b/ \b\b- \b\b\\ \b\b| \b\b/ \b\b- \b\b\\ \b\b| \b\b/ \b\b- \b\b\\ \b\b| \b\b/ \b\b- \b\b\\ \b\b| \b\b/ \b\b- \b\b\\ \b\b| \b\b/ \b\b- \b\b\\ \b\b| \b\b/ \b\b- \b\b\\ \b\b| \b\b/ \b\b- \b\b\\ \b\b| \b\b/ \b\b- \b\b\\ \b\b| \b\b/ \b\b- \b\b\\ \b\b| \b\b/ \b\b- \b\b\\ \b\b| \b\b/ \b\b- \b\b\\ \b\b| \b\b/ \b\b- \b\b\\ \b\b| \b\b/ \b\b- \b\b\\ \b\b| \b\b/ \b\b- \b\b\\ \b\b| \b\b/ \b\b- \b\b\\ \b\b| \b\b/ \b\b- \b\b\\ \b\b| \b\b/ \b\b- \b\b\\ \b\b| \b\b/ \b\b- \b\b\\ \b\b| \b\b/ \b\b- \b\b\\ \b\b| \b\b/ \b\b- \b\b\\ \b\b| \b\b/ \b\b- \b\b\\ \b\b| \b\b/ \b\b- \b\b\\ \b\b| \b\b/ \b\b- \b\b\\ \b\b| \b\b/ \b\b- \b\b\\ \b\b| \b\b/ \b\b- \b\b\\ \b\b| \b\b/ \b\b- \b\b\\ \b\b| \b\b/ \b\b- \b\b\\ \b\b| \b\b/ \b\b- \b\b\\ \b\b| \b\b/ \b\b- \b\b\\ \b\b| \b\b/ \b\b- \b\b\\ \b\b| \b\b/ \b\b- \b\b\\ \b\b| \b\b/ \b\b- \b\b\\ \b\b| \b\b/ \b\b- \b\b\\ \b\b| \b\b/ \b\b- \b\b\\ \b\b| \b\b/ \b\b- \b\b\\ \b\b| \b\b/ \b\b- \b\b\\ \b\b| \b\b/ \b\b- \b\b\\ \b\b| \b\b/ \b\b- \b\b\\ \b\b| \b\b/ \b\b- \b\b\\ \b\b| \b\b/ \b\b- \b\b\\ \b\b| \b\b/ \b\b- \b\b\\ \b\b| \b\b/ \b\b- \b\b\\ \b\b| \b\b/ \b\b- \b\b\\ \b\b| \b\b/ \b\b- \b\b\\ \b\b| \b\b/ \b\b- \b\b\\ \b\b| \b\b/ \b\b- \b\b\\ \b\b| \b\b/ \b\b- \b\b\\ \b\b| \b\b/ \b\b- \b\b\\ \b\b| \b\b/ \b\b- \b\b\\ \b\b| \b\b/ \b\b- \b\b\\ \b\b| \b\b/ \b\b- \b\b\\ \b\b| \b\b/ \b\b- \b\b\\ \b\b| \b\b/ \b\b- \b\b\\ \b\b| \b\b/ \b\b- \b\b\\ \b\b| \b\b/ \b\b- \b\b\\ \b\b| \b\b/ \b\b- \b\b\\ \b\b| \b\b/ \b\b- \b\b\\ \b\b| \b\b/ \b\b- \b\b\\ \b\b| \b\b/ \b\b- \b\b\\ \b\b| \b\b/ \b\b- \b\b\\ \b\b| \b\b/ \b\b- \b\b\\ \b\b| \b\b/ \b\b- \b\b\\ \b\b| \b\b/ \b\b- \b\b\\ \b\b| \b\b/ \b\b- \b\b\\ \b\b| \b\b/ \b\b- \b\b\\ \b\b| \b\b/ \b\b- \b\b\\ \b\b| \b\b/ \b\b- \b\b\\ \b\b| \b\b/ \b\b- \b\b\\ \b\b| \b\b/ \b\b- \b\b\\ \b\b| \b\b/ \b\b- \b\b\\ \b\b| \b\b/ \b\b- \b\b\\ \b\b| \b\b/ \b\b- \b\b\\ \b\b| \b\b/ \b\b- \b\b\\ \b\b| \b\b/ \b\b- \b\b\\ \b\b| \b\b/ \b\b- \b\b\\ \b\b| \b\b/ \b\b- \b\b\\ \b\b| \b\b/ \b\b- \b\b\\ \b\b| \b\b/ \b\b- \b\b\\ \b\b| \b\b/ \b\b- \b\b\\ \b\b| \b\b/ \b\b- \b\b\\ \b\b| \b\b/ \b\b- \b\b\\ \b\b| \b\b/ \b\b- \b\b\\ \b\b| \b\b/ \b\b- \b\b\\ \b\b| \b\b/ \b\b- \b\b\\ \b\b| \b\b/ \b\b- \b\b\\ \b\b| \b\b/ \b\b- \b\b\\ \b\b| \b\b/ \b\b- \b\b\\ \b\b| \b\b/ \b\b- \b\b\\ \b\b| \b\b/ \b\b- \b\b\\ \b\b| \b\b/ \b\b- \b\b\\ \b\b| \b\b/ \b\b- \b\b\\ \b\b| \b\b/ \b\b- \b\b\\ \b\b| \b\b/ \b\b- \b\b\\ \b\b| \b\b/ \b\b- \b\b\\ \b\b| \b\b/ \b\b- \b\b\\ \b\b| \b\b/ \b\b- \b\b\\ \b\b| \b\b/ \b\b- \b\b\\ \b\b| \b\b/ \b\b- \b\b\\ \b\b| \b\b/ \b\b- \b\b\\ \b\b| \b\b/ \b\b- \b\b\\ \b\b| \b\b/ \b\b- \b\b\\ \b\b| \b\b/ \b\b- \b\b\\ \b\b| \b\b/ \b\b- \b\b\\ \b\b| \b\b/ \b\b- \b\b\\ \b\b| \b\b/ \b\b- \b\b\\ \b\b| \b\b/ \b\b- \b\b\\ \b\b| \b\b/ \b\b- \b\b\\ \b\b| \b\b/ \b\b- \b\b\\ \b\b| \b\b/ \b\b- \b\b\\ \b\b| \b\b/ \b\b- \b\b\\ \b\b| \b\b/ \b\b- \b\b\\ \b\b| \b\b/ \b\b- \b\b\\ \b\b| \b\b/ \b\b- \b\b\\ \b\b| \b\b/ \b\b- \b\b\\ \b\b| \b\b/ \b\b- \b\b\\ \b\b| \b\b/ \b\b- \b\b\\ \b\b| \b\b/ \b\b- \b\b\\ \b\b| \b\b/ \b\b- \b\b\\ \b\b| \b\b/ \b\b- \b\b\\ \b\b| \b\b/ \b\b- \b\b\\ \b\b| \b\b/ \b\b- \b\b\\ \b\b| \b\b/ \b\b- \b\b\\ \b\b| \b\b/ \b\b- \b\b\\ \b\b| \b\b/ \b\b- \b\b\\ \b\b| \b\b/ \b\b- \b\b\\ \b\b| \b\b/ \b\b- \b\b\\ \b\b| \b\b/ \b\b- \b\b\\ \b\b| \b\b/ \b\b- \b\b\\ \b\b| \b\b/ \b\b- \b\b\\ \b\b| \b\b/ \b\b- \b\b\\ \b\b| \b\b/ \b\b- \b\b\\ \b\b| \b\b/ \b\b- \b\b\\ \b\b| \b\b/ \b\b- \b\b\\ \b\b| \b\b/ \b\b- \b\b\\ \b\b| \b\b/ \b\b- \b\b\\ \b\b| \b\b/ \b\b- \b\b\\ \b\b| \b\b/ \b\b- \b\b\\ \b\b| \b\b/ \b\b- \b\b\\ \b\b| \b\b/ \b\b- \b\b\\ \b\b| \b\b/ \b\b- \b\b\\ \b\b| \b\b/ \b\b- \b\b\\ \b\b| \b\b/ \b\b- \b\b\\ \b\b| \b\b/ \b\b- \b\b\\ \b\b| \b\b/ \b\b- \b\b\\ \b\b| \b\b/ \b\b- \b\b\\ \b\b| \b\b/ \b\b- \b\b\\ \b\b| \b\b/ \b\b- \b\b\\ \b\b| \b\b/ \b\b- \b\b\\ \b\b| \b\b/ \b\b- \b\b\\ \b\b| \b\b/ \b\b- \b\b\\ \b\b| \b\b/ \b\b- \b\b\\ \b\b| \b\b/ \b\b- \b\b\\ \b\b| \b\b/ \b\b- \b\b\\ \b\b| \b\b/ \b\b- \b\b\\ \b\b| \b\b/ \b\b- \b\b\\ \b\b| \b\b/ \b\b- \b\b\\ \b\b| \b\b/ \b\b- \b\b\\ \b\b| \b\b/ \b\b- \b\b\\ \b\b| \b\b/ \b\b- \b\b\\ \b\b| \b\b/ \b\b- \b\b\\ \b\b| \b\b/ \b\b- \b\b\\ \b\b| \b\b/ \b\b- \b\b\\ \b\b| \b\b/ \b\b- \b\b\\ \b\b| \b\b/ \b\b- \b\b\\ \b\b| \b\b/ \b\b- \b\b\\ \b\b| \b\b/ \b\b- \b\b\\ \b\b| \b\b/ \b\b- \b\b\\ \b\b| \b\b/ \b\b- \b\b\\ \b\b| \b\b/ \b\b- \b\b\\ \b\b| \b\b/ \b\b- \b\b\\ \b\b| \b\b/ \b\b- \b\b\\ \b\b| \b\b/ \b\b- \b\b\\ \b\b| \b\b/ \b\b- \b\b\\ \b\b| \b\b/ \b\b- \b\b\\ \b\b| \b\b/ \b\b- \b\b\\ \b\b| \b\b/ \b\b- \b\b\\ \b\b| \b\b/ \b\b- \b\b\\ \b\b| \b\b/ \b\b- \b\b\\ \b\b| \b\b/ \b\b- \b\b\\ \b\b| \b\b/ \b\b- \b\b\\ \b\b| \b\b/ \b\b- \b\b\\ \b\b| \b\b/ \b\b- \b\b\\ \b\b| \b\b/ \b\b- \b\b\\ \b\b| \b\b/ \b\b- \b\b\\ \b\b| \b\b/ \b\b- \b\b\\ \b\b| \b\b/ \b\b- \b\b\\ \b\b| \b\b/ \b\b- \b\b\\ \b\b| \b\b/ \b\b- \b\b\\ \b\b| \b\b/ \b\b- \b\b\\ \b\b| \b\b/ \b\b- \b\b\\ \b\b| \b\b/ \b\b- \b\b\\ \b\b| \b\b/ \b\b- \b\b\\ \b\b| \b\b/ \b\b- \b\b\\ \b\b| \b\b/ \b\b- \b\b\\ \b\b| \b\b/ \b\b- \b\b\\ \b\b| \b\b/ \b\b- \b\b\\ \b\b| \b\b/ \b\b- \b\b\\ \b\b| \b\b/ \b\b- \b\b\\ \b\b| \b\b/ \b\b- \b\b\\ \b\b| \b\b/ \b\b- \b\b\\ \b\b| \b\b/ \b\b- \b\b\\ \b\b| \b\b/ \b\b- \b\b\\ \b\b| \b\b/ \b\b- \b\b\\ \b\b| \b\b/ \b\b- \b\b\\ \b\b| \b\b/ \b\b- \b\b\\ \b\b| \b\b/ \b\b- \b\b\\ \b\b| \b\b/ \b\b- \b\b\\ \b\b| \b\b/ \b\b- \b\b\\ \b\b| \b\b/ \b\b- \b\b\\ \b\b| \b\b/ \b\b- \b\b\\ \b\b| \b\b/ \b\b- \b\b\\ \b\b| \b\b/ \b\b- \b\b\\ \b\b| \b\b/ \b\b- \b\b\\ \b\b| \b\b/ \b\b- \b\b\\ \b\b| \b\b/ \b\b- \b\b\\ \b\b| \b\b/ \b\b- \b\b\\ \b\b| \b\b/ \b\b- \b\b\\ \b\b| \b\b/ \b\b- \b\b\\ \b\b| \b\b/ \b\b- \b\b\\ \b\b| \b\b/ \b\b- \b\b\\ \b\b| \b\b/ \b\b- \b\b\\ \b\b| \b\b/ \b\b- \b\b\\ \b\b| \b\b/ \b\b- \b\b\\ \b\b| \b\b/ \b\b- \b\b\\ \b\b| \b\b/ \b\b- \b\b\\ \b\b| \b\b/ \b\b- \b\b\\ \b\b| \b\b/ \b\b- \b\b\\ \b\b| \b\b/ \b\b- \b\b\\ \b\b| \b\b/ \b\b- \b\b\\ \b\b| \b\b/ \b\b- \b\b\\ \b\b| \b\b/ \b\b- \b\b\\ \b\b| \b\b/ \b\b- \b\b\\ \b\b| \b\b/ \b\b- \b\b\\ \b\b| \b\b/ \b\b- \b\b\\ \b\b| \b\b/ \b\b- \b\b\\ \b\b| \b\b/ \b\b- \b\b\\ \b\b| \b\b/ \b\b- \b\b\\ \b\b| \b\b/ \b\b- \b\b\\ \b\b| \b\b/ \b\b- \b\b\\ \b\b| \b\b/ \b\b- \b\b\\ \b\b| \b\b/ \b\b- \b\b\\ \b\b| \b\b/ \b\b- \b\b\\ \b\b| \b\b/ \b\b- \b\b\\ \b\b| \b\b/ \b\b- \b\b\\ \b\b| \b\b/ \b\b- \b\b\\ \b\b| \b\b/ \b\b- \b\b\\ \b\b| \b\b/ \b\b- \b\b\\ \b\b| \b\b/ \b\b- \b\b\\ \b\b| \b\b/ \b\b- \b\b\\ \b\b| \b\b/ \b\b- \b\b\\ \b\b| \b\b/ \b\b- \b\b\\ \b\b| \b\b/ \b\b- \b\b\\ \b\b| \b\b/ \b\b- \b\b\\ \b\b| \b\b/ \b\b- \b\b\\ \b\b| \b\b/ \b\b- \b\b\\ \b\b| \b\b/ \b\b- \b\b\\ \b\b| \b\b/ \b\b- \b\b\\ \b\b| \b\b/ \b\b- \b\b\\ \b\b| \b\b/ \b\b- \b\b\\ \b\b| \b\b/ \b\b- \b\b\\ \b\b| \b\b/ \b\b- \b\b\\ \b\b| \b\b/ \b\b- \b\b\\ \b\b| \b\b/ \b\b- \b\b\\ \b\b| \b\b/ \b\b- \b\b\\ \b\b| \b\b/ \b\b- \b\b\\ \b\b| \b\b/ \b\b- \b\b\\ \b\b| \b\b/ \b\b- \b\b\\ \b\b| \b\b/ \b\b- \b\b\\ \b\b| \b\b/ \b\b- \b\b\\ \b\b| \b\b/ \b\b- \b\b\\ \b\b| \b\b/ \b\b- \b\b\\ \b\b| \b\b/ \b\b- \b\b\\ \b\b| \b\b/ \b\b- \b\b\\ \b\b| \b\b/ \b\b- \b\b\\ \b\b| \b\b/ \b\b- \b\b\\ \b\b| \b\b/ \b\b- \b\b\\ \b\b| \b\b/ \b\b- \b\b\\ \b\b| \b\b/ \b\b- \b\b\\ \b\b| \b\b/ \b\b- \b\b\\ \b\b| \b\b/ \b\b- \b\b\\ \b\b| \b\b/ \b\b- \b\b\\ \b\b| \b\b/ \b\b- \b\b\\ \b\b| \b\b/ \b\b- \b\b\\ \b\b| \b\b/ \b\b- \b\b\\ \b\b| \b\b/ \b\b- \b\b\\ \b\b| \b\b/ \b\b- \b\b\\ \b\b| \b\b/ \b\b- \b\b\\ \b\b| \b\b/ \b\b- \b\b\\ \b\b| \b\b/ \b\b- \b\b\\ \b\b| \b\b/ \b\b- \b\b\\ \b\b| \b\b/ \b\b- \b\b\\ \b\b| \b\b/ \b\b- \b\b\\ \b\b| \b\b/ \b\b- \b\b\\ \b\b| \b\b/ \b\b- \b\b\\ \b\b| \b\b/ \b\b- \b\b\\ \b\b| \b\b/ \b\b- \b\b\\ \b\b| \b\b/ \b\b- \b\b\\ \b\b| \b\b/ \b\b- \b\b\\ \b\b| \b\b/ \b\b- \b\b\\ \b\b| \b\b/ \b\b- \b\b\\ \b\b| \b\b/ \b\b- \b\b\\ \b\b| \b\b/ \b\b- \b\b\\ \b\b| \b\b/ \b\b- \b\b\\ \b\b| \b\b/ \b\b- \b\b\\ \b\b| \b\b/ \b\b- \b\b\\ \b\b| \b\b/ \b\b- \b\b\\ \b\b| \b\b/ \b\b- \b\b\\ \b\b| \b\b/ \b\b- \b\b\\ \b\b| \b\b/ \b\b- \b\b\\ \b\b| \b\b/ \b\b- \b\b\\ \b\b| \b\b/ \b\b- \b\b\\ \b\b| \b\b/ \b\b- \b\b\\ \b\b| \b\b/ \b\b- \b\b\\ \b\b| \b\b/ \b\b- \b\b\\ \b\b| \b\b/ \b\b- \b\b\\ \b\b| \b\b/ \b\b- \b\b\\ \b\b| \b\b/ \b\b- \b\b\\ \b\b| \b\b/ \b\b- \b\b\\ \b\b| \b\b/ \b\b- \b\b\\ \b\b| \b\b/ \b\b- \b\b\\ \b\b| \b\b/ \b\b- \b\b\\ \b\b| \b\b/ \b\b- \b\b\\ \b\b| \b\b/ \b\b- \b\b\\ \b\b| \b\b/ \b\b- \b\b\\ \b\b| \b\b/ \b\b- \b\b\\ \b\b| \b\b/ \b\b- \b\b\\ \b\b| \b\b/ \b\b- \b\b\\ \b\b| \b\b/ \b\b- \b\b\\ \b\b| \b\b/ \b\b- \b\b\\ \b\b| \b\b/ \b\b- \b\b\\ \b\b| \b\b/ \b\b- \b\b\\ \b\b| \b\b/ \b\b- \b\b\\ \b\b| \b\b/ \b\b- \b\b\\ \b\b| \b\b/ \b\b- \b\b\\ \b\b| \b\b/ \b\b- \b\b\\ \b\b| \b\b/ \b\b- \b\b\\ \b\b| \b\b/ \b\b- \b\b\\ \b\b| \b\b/ \b\b- \b\b\\ \b\b| \b\b/ \b\b- \b\b\\ \b\b| \b\b/ \b\b- \b\b\\ \b\b| \b\b/ \b\b- \b\b\\ \b\b| \b\b/ \b\b- \b\b\\ \b\b| \b\b/ \b\b- \b\b\\ \b\b| \b\b/ \b\b- \b\b\\ \b\b| \b\b/ \b\b- \b\b\\ \b\b| \b\b/ \b\b- \b\b\\ \b\b| \b\b/ \b\b- \b\b\\ \b\b| \b\b/ \b\b- \b\b\\ \b\b| \b\b/ \b\b- \b\b\\ \b\b| \b\b/ \b\b- \b\b\\ \b\b| \b\b/ \b\b- \b\b\\ \b\b| \b\b/ \b\b- \b\b\\ \b\b| \b\b/ \b\b- \b\b\\ \b\b| \b\b/ \b\b- \b\b\\ \b\b| \b\b/ \b\b- \b\b\\ \b\b| \b\b/ \b\b- \b\b\\ \b\b| \b\b/ \b\b- \b\b\\ \b\b| \b\b/ \b\b- \b\b\\ \b\b| \b\b/ \b\b- \b\b\\ \b\b| \b\b/ \b\b- \b\b\\ \b\b| \b\b/ \b\b- \b\b\\ \b\b| \b\b/ \b\b- \b\b\\ \b\b| \b\b/ \b\b- \b\b\\ \b\b| \b\b/ \b\b- \b\b\\ \b\b| \b\b/ \b\b- \b\b\\ \b\b| \b\b/ \b\b- \b\b\\ \b\b| \b\b/ \b\b- \b\b\\ \b\b| \b\b/ \b\b- \b\b\\ \b\b| \b\b/ \b\b- \b\b\\ \b\b| \b\b/ \b\b- \b\b\\ \b\b| \b\b/ \b\b- \b\b\\ \b\b| \b\b/ \b\b- \b\b\\ \b\b| \b\b/ \b\b- \b\b\\ \b\b| \b\b/ \b\b- \b\b\\ \b\b| \b\b/ \b\b- \b\b\\ \b\b| \b\b/ \b\b- \b\b\\ \b\b| \b\b/ \b\b- \b\b\\ \b\b| \b\b/ \b\b- \b\b\\ \b\b| \b\b/ \b\b- \b\b\\ \b\b| \b\b/ \b\b- \b\b\\ \b\b| \b\b/ \b\b- \b\b\\ \b\b| \b\b/ \b\b- \b\b\\ \b\b| \b\b/ \b\b- \b\b\\ \b\b| \b\b/ \b\b- \b\b\\ \b\b| \b\b/ \b\b- \b\b\\ \b\b| \b\b/ \b\b- \b\b\\ \b\b| \b\b/ \b\b- \b\b\\ \b\b| \b\b/ \b\b- \b\b\\ \b\b| \b\b/ \b\b- \b\b\\ \b\b| \b\b/ \b\b- \b\b\\ \b\b| \b\b/ \b\b- \b\b\\ \b\b| \b\b/ \b\b- \b\b\\ \b\b| \b\b/ \b\b- \b\b\\ \b\b| \b\b/ \b\b- \b\b\\ \b\b| \b\b/ \b\b- \b\b\\ \b\b| \b\b/ \b\b- \b\b\\ \b\b| \b\b/ \b\b- \b\b\\ \b\b| \b\b/ \b\b- \b\b\\ \b\b| \b\b/ \b\b- \b\b\\ \b\b| \b\b/ \b\b- \b\b\\ \b\b| \b\b/ \b\b- \b\b\\ \b\b| \b\b/ \b\b- \b\b\\ \b\b| \b\b/ \b\b- \b\b\\ \b\b| \b\b/ \b\b- \b\b\\ \b\b| \b\b/ \b\b- \b\b\\ \b\b| \b\b/ \b\b- \b\b\\ \b\b| \b\b/ \b\b- \b\b\\ \b\b| \b\b/ \b\b- \b\b\\ \b\b| \b\b/ \b\b- \b\b\\ \b\b| \b\b/ \b\b- \b\b\\ \b\b| \b\b/ \b\b- \b\b\\ \b\b| \b\b/ \b\b- \b\b\\ \b\b| \b\b/ \b\b- \b\b\\ \b\b| \b\b/ \b\b- \b\b\\ \b\b| \b\b/ \b\b- \b\b\\ \b\b| \b\b/ \b\b- \b\b\\ \b\b| \b\b/ \b\b- \b\b\\ \b\b| \b\b/ \b\b- \b\b\\ \b\b| \b\b/ \b\b- \b\b\\ \b\b| \b\b/ \b\b- \b\b\\ \b\b| \b\b/ \b\b- \b\b\\ \b\b| \b\b/ \b\b- \b\b\\ \b\b| \b\b/ \b\b- \b\b\\ \b\b| \b\b/ \b\b- \b\b\\ \b\b| \b\b/ \b\b- \b\b\\ \b\b| \b\b/ \b\b- \b\b\\ \b\b| \b\b/ \b\b- \b\b\\ \b\b| \b\b/ \b\b- \b\b\\ \b\b| \b\b/ \b\b- \b\b\\ \b\b| \b\b/ \b\b- \b\b\\ \b\b| \b\b/ \b\b- \b\b\\ \b\b| \b\b/ \b\b- \b\b\\ \b\b| \b\b/ \b\b- \b\b\\ \b\b| \b\b/ \b\b- \b\b\\ \b\b| \b\b/ \b\b- \b\b\\ \b\b| \b\b/ \b\b- \b\b\\ \b\b| \b\b/ \b\b- \b\b\\ \b\b| \b\b/ \b\b- \b\b\\ \b\b| \b\b/ \b\b- \b\b\\ \b\b| \b\b/ \b\b- \b\b\\ \b\b| \b\b/ \b\b- \b\b\\ \b\b| \b\b/ \b\b- \b\b\\ \b\b| \b\b/ \b\b- \b\b\\ \b\b| \b\b/ \b\b- \b\b\\ \b\b| \b\b/ \b\b- \b\b\\ \b\b| \b\b/ \b\b- \b\b\\ \b\b| \b\b/ \b\b- \b\b\\ \b\b| \b\b/ \b\b- \b\b\\ \b\b| \b\b/ \b\b- \b\b\\ \b\b| \b\b/ \b\b- \b\b\\ \b\b| \b\b/ \b\b- \b\b\\ \b\b| \b\b/ \b\b- \b\b\\ \b\b| \b\b/ \b\b- \b\b\\ \b\b| \b\b/ \b\b- \b\b\\ \b\b| \b\b/ \b\b- \b\b\\ \b\b| \b\b/ \b\b- \b\b\\ \b\b| \b\b/ \b\b- \b\b\\ \b\b| \b\b/ \b\b- \b\b\\ \b\b| \b\b/ \b\b- \b\b\\ \b\b| \b\b/ \b\b- \b\b\\ \b\b| \b\b/ \b\b- \b\b\\ \b\b| \b\b/ \b\b- \b\b\\ \b\b| \b\b/ \b\b- \b\b\\ \b\b| \b\b/ \b\b- \b\b\\ \b\b| \b\b/ \b\b- \b\b\\ \b\b| \b\b/ \b\b- \b\b\\ \b\b| \b\b/ \b\b- \b\b\\ \b\b| \b\b/ \b\b- \b\b\\ \b\b| \b\b/ \b\b- \b\b\\ \b\b| \b\b/ \b\b- \b\b\\ \b\b| \b\b/ \b\b- \b\b\\ \b\b| \b\b/ \b\b- \b\b\\ \b\b| \b\b/ \b\b- \b\b\\ \b\b| \b\b/ \b\b- \b\b\\ \b\b| \b\b/ \b\b- \b\b\\ \b\b| \b\b/ \b\b- \b\b\\ \b\b| \b\b/ \b\b- \b\b\\ \b\b| \b\b/ \b\b- \b\b\\ \b\b| \b\b/ \b\b- \b\b\\ \b\b| \b\b/ \b\b- \b\b\\ \b\b| \b\b/ \b\b- \b\b\\ \b\b| \b\b/ \b\b- \b\b\\ \b\b| \b\b/ \b\b- \b\b\\ \b\b| \b\b/ \b\b- \b\b\\ \b\b| \b\b/ \b\b- \b\b\\ \b\b| \b\b/ \b\b- \b\b\\ \b\b| \b\b/ \b\b- \b\b\\ \b\b| \b\b/ \b\b- \b\b\\ \b\b| \b\b/ \b\b- \b\b\\ \b\b| \b\b/ \b\b- \b\b\\ \b\b| \b\b/ \b\b- \b\b\\ \b\b| \b\b/ \b\b- \b\b\\ \b\b| \b\b/ \b\b- \b\b\\ \b\b| \b\b/ \b\b- \b\b\\ \b\b| \b\b/ \b\b- \b\b\\ \b\b| \b\b/ \b\b- \b\b\\ \b\b| \b\b/ \b\b- \b\b\\ \b\b| \b\b/ \b\b- \b\b\\ \b\b| \b\b/ \b\b- \b\b\\ \b\b| \b\b/ \b\b- \b\b\\ \b\b| \b\b/ \b\b- \b\b\\ \b\b| \b\b/ \b\b- \b\b\\ \b\b| \b\b/ \b\b- \b\b\\ \b\b| \b\b/ \b\b- \b\b\\ \b\b| \b\b/ \b\b- \b\b\\ \b\b| \b\b/ \b\b- \b\b\\ \b\b| \b\b/ \b\b- \b\b\\ \b\b| \b\b/ \b\b- \b\b\\ \b\b| \b\b/ \b\b- \b\b\\ \b\b| \b\b/ \b\b- \b\b\\ \b\b| \b\b/ \b\b- \b\b\\ \b\b| \b\b/ \b\b- \b\b\\ \b\b| \b\b/ \b\b- \b\b\\ \b\b| \b\b/ \b\b- \b\b\\ \b\b| \b\b/ \b\b- \b\b\\ \b\b| \b\b/ \b\b- \b\b\\ \b\b| \b\b/ \b\b- \b\b\\ \b\b| \b\b/ \b\b- \b\b\\ \b\b| \b\b/ \b\b- \b\b\\ \b\b| \b\b/ \b\b- \b\b\\ \b\b| \b\b/ \b\b- \b\b\\ \b\b| \b\b/ \b\b- \b\b\\ \b\b| \b\b/ \b\b- \b\b\\ \b\b| \b\b/ \b\b- \b\b\\ \b\b| \b\b/ \b\b- \b\b\\ \b\b| \b\b/ \b\b- \b\b\\ \b\b| \b\b/ \b\b- \b\b\\ \b\b| \b\b/ \b\b- \b\b\\ \b\b| \b\b/ \b\b- \b\b\\ \b\b| \b\b/ \b\b- \b\b\\ \b\b| \b\b/ \b\b- \b\b\\ \b\b| \b\b/ \b\b- \b\b\\ \b\b| \b\b/ \b\b- \b\b\\ \b\b| \b\b/ \b\b- \b\b\\ \b\b| \b\b/ \b\b- \b\b\\ \b\b| \b\b/ \b\b- \b\b\\ \b\b| \b\b/ \b\b- \b\b\\ \b\b| \b\b/ \b\b- \b\b\\ \b\b| \b\b/ \b\b- \b\b\\ \b\b| \b\b/ \b\b- \b\b\\ \b\b| \b\b/ \b\b- \b\b\\ \b\b| \b\b/ \b\b- \b\b\\ \b\b| \b\b/ \b\b- \b\b\\ \b\b| \b\b/ \b\b- \b\b\\ \b\b| \b\b/ \b\b- \b\b\\ \b\b| \b\b/ \b\b- \b\b\\ \b\b| \b\b/ \b\b- \b\b\\ \b\b| \b\b/ \b\b- \b\b\\ \b\b| \b\b/ \b\b- \b\b\\ \b\b| \b\b/ \b\b- \b\b\\ \b\b| \b\b/ \b\b- \b\b\\ \b\b| \b\b/ \b\b- \b\b\\ \b\b| \b\b/ \b\b- \b\b\\ \b\b| \b\b/ \b\b- \b\b\\ \b\b| \b\b/ \b\b- \b\b\\ \b\b| \b\b/ \b\b- \b\b\\ \b\b| \b\b/ \b\b- \b\b\\ \b\b| \b\b/ \b\b- \b\b\\ \b\b| \b\b/ \b\b- \b\b\\ \b\b| \b\b/ \b\b- \b\b\\ \b\b| \b\b/ \b\b- \b\b\\ \b\b| \b\b/ \b\b- \b\b\\ \b\b| \b\b/ \b\b- \b\b\\ \b\b| \b\b/ \b\b- \b\b\\ \b\b| \b\b/ \b\b- \b\b\\ \b\b| \b\b/ \b\b- \b\b\\ \b\b| \b\b/ \b\b- \b\b\\ \b\b| \b\b/ \b\b- \b\b\\ \b\b| \b\b/ \b\b- \b\b\\ \b\b| \b\b/ \b\b- \b\b\\ \b\b| \b\b/ \b\b- \b\b\\ \b\b| \b\b/ \b\b- \b\b\\ \b\b| \b\b/ \b\b- \b\b\\ \b\b| \b\b/ \b\b- \b\b\\ \b\b| \b\b/ \b\b- \b\b\\ \b\b| \b\b/ \b\b- \b\b\\ \b\b| \b\b/ \b\b- \b\b\\ \b\b| \b\b/ \b\b- \b\b\\ \b\b| \b\b/ \b\b- \b\b\\ \b\b| \b\b/ \b\b- \b\b\\ \b\b| \b\b/ \b\b- \b\b\\ \b\b| \b\b/ \b\b- \b\b\\ \b\b| \b\b/ \b\b- \b\b\\ \b\b| \b\b/ \b\b- \b\b\\ \b\b| \b\b/ \b\b- \b\b\\ \b\b| \b\b/ \b\b- \b\b\\ \b\b| \b\b/ \b\b- \b\b\\ \b\b| \b\b/ \b\b- \b\b\\ \b\b| \b\b/ \b\b- \b\b\\ \b\b| \b\b/ \b\b- \b\b\\ \b\b| \b\b/ \b\b- \b\b\\ \b\b| \b\b/ \b\b- \b\b\\ \b\b| \b\b/ \b\b- \b\b\\ \b\b| \b\b/ \b\b- \b\b\\ \b\b| \b\b/ \b\b- \b\b\\ \b\b| \b\b/ \b\b- \b\b\\ \b\b| \b\b/ \b\b- \b\b\\ \b\b| \b\b/ \b\b- \b\b\\ \b\b| \b\b/ \b\b- \b\b\\ \b\b| \b\b/ \b\b- \b\b\\ \b\b| \b\b/ \b\b- \b\b\\ \b\b| \b\b/ \b\b- \b\b\\ \b\b| \b\b/ \b\b- \b\b\\ \b\b| \b\b/ \b\b- \b\b\\ \b\b| \b\b/ \b\b- \b\b\\ \b\b| \b\b/ \b\b- \b\b\\ \b\b| \b\b/ \b\b- \b\b\\ \b\b| \b\b/ \b\b- \b\b\\ \b\b| \b\b/ \b\b- \b\b\\ \b\b| \b\b/ \b\b- \b\b\\ \b\b| \b\b/ \b\b- \b\b\\ \b\b| \b\b/ \b\b- \b\b\\ \b\b| \b\b/ \b\b- \b\b\\ \b\b| \b\b/ \b\b- \b\b\\ \b\b| \b\b/ \b\b- \b\b\\ \b\b| \b\b/ \b\b- \b\b\\ \b\b| \b\b/ \b\b- \b\b\\ \b\b| \b\b/ \b\b- \b\b\\ \b\b| \b\b/ \b\b- \b\b\\ \b\b| \b\b/ \b\b- \b\b\\ \b\b| \b\b/ \b\b- \b\b\\ \b\b| \b\b/ \b\b- \b\b\\ \b\b| \b\b/ \b\b- \b\b\\ \b\b| \b\b/ \b\b- \b\b\\ \b\b| \b\b/ \b\b- \b\b\\ \b\b| \b\b/ \b\b- \b\b\\ \b\b| \b\b/ \b\b- \b\b\\ \b\b| \b\b/ \b\b- \b\b\\ \b\b| \b\b/ \b\b- \b\b\\ \b\b| \b\b/ \b\b- \b\b\\ \b\b| \b\b/ \b\b- \b\b\\ \b\b| \b\b/ \b\b- \b\b\\ \b\b| \b\b/ \b\b- \b\b\\ \b\b| \b\b/ \b\b- \b\b\\ \b\b| \b\b/ \b\b- \b\b\\ \b\b| \b\b/ \b\b- \b\b\\ \b\b| \b\b/ \b\b- \b\b\\ \b\b| \b\b/ \b\b- \b\b\\ \b\b| \b\b/ \b\b- \b\b\\ \b\b| \b\b/ \b\b- \b\b\\ \b\b| \b\b/ \b\b- \b\b\\ \b\b| \b\b/ \b\b- \b\b\\ \b\b| \b\b/ \b\b- \b\b\\ \b\b| \b\b/ \b\b- \b\b\\ \b\b| \b\b/ \b\b- \b\b\\ \b\b| \b\b/ \b\b- \b\b\\ \b\b| \b\b/ \b\b- \b\b\\ \b\b| \b\b/ \b\b- \b\b\\ \b\b| \b\b/ \b\b- \b\b\\ \b\b| \b\b/ \b\b- \b\b\\ \b\b| \b\b/ \b\b- \b\b\\ \b\b| \b\b/ \b\b- \b\b\\ \b\b| \b\b/ \b\b- \b\b\\ \b\b| \b\b/ \b\b- \b\b\\ \b\b| \b\b/ \b\b- \b\b\\ \b\b| \b\b/ \b\b- \b\b\\ \b\b| \b\b/ \b\b- \b\b\\ \b\b| \b\b/ \b\b- \b\b\\ \b\b| \b\b/ \b\b- \b\b\\ \b\b| \b\b/ \b\b- \b\b\\ \b\b| \b\b/ \b\b- \b\b\\ \b\b| \b\b/ \b\b- \b\b\\ \b\b| \b\b/ \b\b- \b\b\\ \b\b| \b\b/ \b\b- \b\b\\ \b\b| \b\b/ \b\b- \b\b\\ \b\b| \b\b/ \b\b- \b\b\\ \b\b| \b\b/ \b\b- \b\b\\ \b\b| \b\b/ \b\b- \b\b\\ \b\b| \b\b/ \b\b- \b\b\\ \b\b| \b\b/ \b\b- \b\b\\ \b\b| \b\b/ \b\b- \b\b\\ \b\b| \b\b/ \b\b- \b\b\\ \b\b| \b\b/ \b\b- \b\b\\ \b\b| \b\b/ \b\b- \b\b\\ \b\b| \b\b/ \b\b- \b\b\\ \b\b| \b\b/ \b\b- \b\b\\ \b\b| \b\b/ \b\b- \b\b\\ \b\b| \b\b/ \b\b- \b\b\\ \b\b| \b\b/ \b\b- \b\b\\ \b\b| \b\b/ \b\b- \b\b\\ \b\b| \b\b/ \b\b- \b\b\\ \b\b| \b\b/ \b\b- \b\b\\ \b\b| \b\b/ \b\b- \b\b\\ \b\b| \b\b/ \b\b- \b\b\\ \b\b| \b\b/ \b\b- \b\b\\ \b\b| \b\b/ \b\b- \b\b\\ \b\b| \b\b/ \b\b- \b\b\\ \b\b| \b\b/ \b\b- \b\b\\ \b\b| \b\b/ \b\b- \b\b\\ \b\b| \b\b/ \b\b- \b\b\\ \b\b| \b\b/ \b\b- \b\b\\ \b\b| \b\b/ \b\b- \b\b\\ \b\b| \b\b/ \b\b- \b\b\\ \b\b| \b\b/ \b\b- \b\b\\ \b\b| \b\b/ \b\b- \b\b\\ \b\b| \b\b/ \b\b- \b\b\\ \b\b| \b\b/ \b\b- \b\b\\ \b\b| \b\b/ \b\b- \b\b\\ \b\b| \b\b/ \b\b- \b\b\\ \b\b| \b\b/ \b\b- \b\b\\ \b\b| \b\b/ \b\b- \b\b\\ \b\b| \b\b/ \b\b- \b\b\\ \b\bdone\n",
            "\n",
            "\n",
            "==> WARNING: A newer version of conda exists. <==\n",
            "  current version: 4.5.4\n",
            "  latest version: 4.8.3\n",
            "\n",
            "Please update conda by running\n",
            "\n",
            "    $ conda update -n base conda\n",
            "\n",
            "\n",
            "\n",
            "## Package Plan ##\n",
            "\n",
            "  environment location: /usr/local\n",
            "\n",
            "  added / updated specs: \n",
            "    - cudatoolkit=10.0\n",
            "    - cudf=0.13\n",
            "    - cugraph\n",
            "    - cuml\n",
            "    - cuspatial\n",
            "    - dask-cudf\n",
            "    - gcsfs\n",
            "    - pynvml\n",
            "    - python=3.6\n",
            "    - xgboost=1.0.2dev.rapidsai0.13\n",
            "\n",
            "\n",
            "The following packages will be downloaded:\n",
            "\n",
            "    package                    |            build\n",
            "    ---------------------------|-----------------\n",
            "    grpc-cpp-1.23.0            |       h18db393_0         4.5 MB  conda-forge\n",
            "    packaging-20.1             |             py_0          31 KB  conda-forge\n",
            "    gettext-0.19.8.1           |    hc5be6a0_1002         3.6 MB  conda-forge\n",
            "    pyyaml-5.1.2               |   py36h516909a_0         184 KB  conda-forge\n",
            "    xorg-kbproto-1.0.7         |    h14c3975_1002          26 KB  conda-forge\n",
            "    snappy-1.1.8               |       he1b5a44_1          39 KB  conda-forge\n",
            "    cupy-7.3.0                 |   py36h273e724_0        15.2 MB  conda-forge\n",
            "    google-auth-oauthlib-0.4.1 |             py_2          18 KB  conda-forge\n",
            "    llvmlite-0.31.0            |   py36hfa65bc7_1         325 KB  conda-forge\n",
            "    icu-64.2                   |       he1b5a44_1        12.6 MB  conda-forge\n",
            "    double-conversion-3.1.5    |       he1b5a44_2          85 KB  conda-forge\n",
            "    glog-0.4.0                 |       he1b5a44_1         104 KB  conda-forge\n",
            "    arrow-cpp-0.15.0           |   py36h090bef1_2        18.1 MB  conda-forge\n",
            "    cairo-1.16.0               |    hcf35c78_1003         1.5 MB  conda-forge\n",
            "    libprotobuf-3.8.0          |       h8b12597_0         4.7 MB  conda-forge\n",
            "    dask-2.14.0                |             py_0           4 KB  conda-forge\n",
            "    libspatialite-4.3.0a       |    ha48a99a_1034         3.1 MB  conda-forge\n",
            "    thrift-cpp-0.12.0          |    hf3afdfd_1004         2.4 MB  conda-forge\n",
            "    cuml-0.13.0                |  cuda10.0_py36_0         9.2 MB  rapidsai/label/main\n",
            "    libpq-12.2                 |       h5513abc_1         2.6 MB  conda-forge\n",
            "    requests-2.23.0            |     pyh8c360ce_2          47 KB  conda-forge\n",
            "    hdf4-4.2.13                |    hf30be14_1003         964 KB  conda-forge\n",
            "    lz4-c-1.8.3                |    he1b5a44_1001         187 KB  conda-forge\n",
            "    jinja2-2.11.1              |             py_0          94 KB  conda-forge\n",
            "    libkml-1.3.0               |    h4fcabce_1010         643 KB  conda-forge\n",
            "    nvstrings-0.13.0           |           py36_0         129 KB  rapidsai/label/main\n",
            "    bzip2-1.0.8                |       h516909a_2         396 KB  conda-forge\n",
            "    c-ares-1.15.0              |    h516909a_1001         100 KB  conda-forge\n",
            "    toolz-0.10.0               |             py_0          46 KB  conda-forge\n",
            "    geos-3.8.0                 |       he1b5a44_1         1.0 MB  conda-forge\n",
            "    uriparser-0.9.3            |       he1b5a44_1          49 KB  conda-forge\n",
            "    libxml2-2.9.10             |       hee79883_0         1.3 MB  conda-forge\n",
            "    dask-core-2.14.0           |             py_0         599 KB  conda-forge\n",
            "    partd-1.1.0                |             py_0          17 KB  conda-forge\n",
            "    geotiff-1.5.1              |       h38872f0_8         279 KB  conda-forge\n",
            "    brotli-1.0.7               |    he1b5a44_1001         1.0 MB  conda-forge\n",
            "    cryptography-2.8           |   py36h45558ae_2         628 KB  conda-forge\n",
            "    cudnn-7.6.0                |       cuda10.0_0       216.6 MB  nvidia\n",
            "    fsspec-0.6.3               |             py_0          48 KB  conda-forge\n",
            "    xorg-libxau-1.0.9          |       h14c3975_0          13 KB  conda-forge\n",
            "    librmm-0.13.0              |       cuda10.0_0          70 KB  rapidsai/label/main\n",
            "    cfitsio-3.470              |       hb60a0a2_2         1.4 MB  conda-forge\n",
            "    liblapack-3.8.0            |      14_openblas          10 KB  conda-forge\n",
            "    xgboost-1.0.2dev.rapidsai0.13|   cuda10.0py36_6          12 KB  rapidsai/label/main\n",
            "    markupsafe-1.1.1           |   py36h8c4c3a4_1          26 KB  conda-forge\n",
            "    pyparsing-2.4.7            |     pyh9f0ad1d_0          60 KB  conda-forge\n",
            "    cudatoolkit-10.0.130       |                0       380.0 MB  nvidia\n",
            "    libdap4-3.20.4             |       hd3bb157_0        18.5 MB  conda-forge\n",
            "    xorg-libx11-1.6.9          |       h516909a_0         918 KB  conda-forge\n",
            "    kealib-1.4.13              |       hec59c27_0         172 KB  conda-forge\n",
            "    xorg-renderproto-0.11.1    |    h14c3975_1002           8 KB  conda-forge\n",
            "    libcuspatial-0.13.0        |       cuda10.0_0         1.7 MB  rapidsai/label/main\n",
            "    gdal-2.4.4                 |   py36h5f563d9_0         1.4 MB  conda-forge\n",
            "    hdf5-1.10.5                |nompi_h3c11f04_1104         3.1 MB  conda-forge\n",
            "    pyopenssl-19.1.0           |             py_1          47 KB  conda-forge\n",
            "    pandas-0.25.3              |   py36hb3f55d8_0        11.4 MB  conda-forge\n",
            "    psutil-5.7.0               |   py36h8c4c3a4_1         324 KB  conda-forge\n",
            "    gflags-2.2.2               |    he1b5a44_1002         175 KB  conda-forge\n",
            "    cytoolz-0.10.1             |   py36h516909a_0         431 KB  conda-forge\n",
            "    pyasn1-modules-0.2.7       |             py_0          60 KB  conda-forge\n",
            "    giflib-5.1.7               |       h516909a_1         455 KB  conda-forge\n",
            "    fastavro-0.23.1            |   py36h8c4c3a4_0         422 KB  conda-forge\n",
            "    heapdict-1.0.1             |             py_0           7 KB  conda-forge\n",
            "    olefile-0.46               |             py_0          31 KB  conda-forge\n",
            "    rmm-0.13.0                 |           py36_0         687 KB  rapidsai/label/main\n",
            "    libblas-3.8.0              |      14_openblas          10 KB  conda-forge\n",
            "    krb5-1.17.1                |       h2fd8d38_0         1.5 MB  conda-forge\n",
            "    postgresql-12.2            |       h8573dbc_1         5.0 MB  conda-forge\n",
            "    rsa-4.0                    |             py_0          27 KB  conda-forge\n",
            "    pyasn1-0.4.8               |             py_0          53 KB  conda-forge\n",
            "    libnetcdf-4.7.3            |nompi_h9f9fd6a_101         1.3 MB  conda-forge\n",
            "    expat-2.2.9                |       he1b5a44_2         191 KB  conda-forge\n",
            "    xorg-xproto-7.0.31         |    h14c3975_1007          72 KB  conda-forge\n",
            "    libpng-1.6.37              |       hed695b0_1         308 KB  conda-forge\n",
            "    libcblas-3.8.0             |      14_openblas          10 KB  conda-forge\n",
            "    scipy-1.4.1                |   py36h2d22cac_2        18.9 MB  conda-forge\n",
            "    xerces-c-3.2.2             |    h8412b87_1004         1.7 MB  conda-forge\n",
            "    joblib-0.14.1              |             py_0         198 KB  conda-forge\n",
            "    requests-oauthlib-1.2.0    |             py_0          19 KB  conda-forge\n",
            "    re2-2020.04.01             |       he1b5a44_0         438 KB  conda-forge\n",
            "    libopenblas-0.3.7          |       h5ec1e0e_6         7.6 MB  conda-forge\n",
            "    libuuid-2.32.1             |    h14c3975_1000          26 KB  conda-forge\n",
            "    pthread-stubs-0.4          |    h14c3975_1001           5 KB  conda-forge\n",
            "    locket-0.2.0               |             py_2           6 KB  conda-forge\n",
            "    xorg-libice-1.0.10         |       h516909a_0          57 KB  conda-forge\n",
            "    pillow-7.1.1               |   py36h8328e55_0         654 KB  conda-forge\n",
            "    cloudpickle-1.3.0          |             py_0          24 KB  conda-forge\n",
            "    tzcode-2019a               |    h516909a_1002         429 KB  conda-forge\n",
            "    fontconfig-2.13.1          |    h86ecdb6_1001         340 KB  conda-forge\n",
            "    blinker-1.4                |             py_1          13 KB  conda-forge\n",
            "    libxgboost-1.0.2dev.rapidsai0.13|       cuda10.0_6        21.9 MB  rapidsai/label/main\n",
            "    xorg-libxrender-0.9.10     |    h516909a_1002          31 KB  conda-forge\n",
            "    cachetools-3.1.1           |             py_0          11 KB  conda-forge\n",
            "    proj-6.3.0                 |       hc80f0dc_0        10.3 MB  conda-forge\n",
            "    dlpack-0.2                 |       he1b5a44_1          13 KB  conda-forge\n",
            "    xorg-libxext-1.3.4         |       h516909a_0          51 KB  conda-forge\n",
            "    numba-0.48.0               |   py36hb3f55d8_0         3.4 MB  conda-forge\n",
            "    xorg-libxdmcp-1.1.3        |       h516909a_0          18 KB  conda-forge\n",
            "    libcugraph-0.13.0          |       cuda10.0_0        40.0 MB  rapidsai/label/main\n",
            "    glib-2.58.3                |py36hd3ed26a_1004         3.3 MB  conda-forge\n",
            "    libcuml-0.13.0             |       cuda10.0_0        51.6 MB  rapidsai/label/main\n",
            "    xorg-libsm-1.2.3           |    h84519dc_1000          25 KB  conda-forge\n",
            "    openjpeg-2.3.1             |       h981e76c_3         475 KB  conda-forge\n",
            "    libllvm8-8.0.1             |       hc9558a2_0        23.2 MB  conda-forge\n",
            "    pytz-2019.3                |             py_0         237 KB  conda-forge\n",
            "    freexl-1.0.5               |    h14c3975_1002          43 KB  conda-forge\n",
            "    boost-cpp-1.70.0           |       h8e57a91_2        21.1 MB  conda-forge\n",
            "    libiconv-1.15              |    h516909a_1006         2.0 MB  conda-forge\n",
            "    google-auth-1.13.1         |     pyh9f0ad1d_0          53 KB  conda-forge\n",
            "    pcre-8.44                  |       he1b5a44_0         261 KB  conda-forge\n",
            "    zict-2.0.0                 |             py_0          10 KB  conda-forge\n",
            "    poppler-0.67.0             |       h14e79db_8         8.9 MB  conda-forge\n",
            "    freetype-2.10.1            |       he06d7ca_0         877 KB  conda-forge\n",
            "    fastrlock-0.4              |py36h831f99a_1001          32 KB  conda-forge\n",
            "    nccl-2.5.7.1               |       hd6f8bf8_0        96.6 MB  conda-forge\n",
            "    jpeg-9c                    |    h14c3975_1001         251 KB  conda-forge\n",
            "    zstd-1.4.3                 |       h3b9ef0a_0         935 KB  conda-forge\n",
            "    libnvstrings-0.13.0        |       cuda10.0_0        29.6 MB  rapidsai/label/main\n",
            "    pynvml-8.0.4               |             py_0          31 KB  conda-forge\n",
            "    typing_extensions-3.7.4.1  |   py36h9f0ad1d_3          38 KB  conda-forge\n",
            "    libcurl-7.69.1             |       hf7181ac_0         573 KB  conda-forge\n",
            "    distributed-2.14.0         |   py36h9f0ad1d_0        1007 KB  conda-forge\n",
            "    cugraph-0.13.0             |           py36_0         7.2 MB  rapidsai/label/main\n",
            "    pyjwt-1.7.1                |             py_0          17 KB  conda-forge\n",
            "    oauthlib-3.0.1             |             py_0          82 KB  conda-forge\n",
            "    libssh2-1.8.2              |       h22169c7_2         257 KB  conda-forge\n",
            "    cudf-0.13.0                |           py36_0        32.7 MB  rapidsai/label/main\n",
            "    libcumlprims-0.13.0        |       cuda10.0_0         3.3 MB  nvidia\n",
            "    decorator-4.4.2            |             py_0          11 KB  conda-forge\n",
            "    ucx-py-0.13.0+g9d06c3a     |           py36_0         287 KB  rapidsai/label/main\n",
            "    libevent-2.1.10            |       h72c5cf5_0         1.3 MB  conda-forge\n",
            "    msgpack-python-1.0.0       |   py36hdb11119_1          91 KB  conda-forge\n",
            "    libhwloc-2.1.0             |       h3c4fd83_0         2.7 MB  conda-forge\n",
            "    parquet-cpp-1.5.1          |                2           3 KB  conda-forge\n",
            "    curl-7.69.1                |       h33f0ec9_0         137 KB  conda-forge\n",
            "    numpy-1.18.1               |   py36h7314795_1         5.2 MB  conda-forge\n",
            "    tornado-6.0.4              |   py36h8c4c3a4_1         639 KB  conda-forge\n",
            "    click-7.1.1                |     pyh8c360ce_0          64 KB  conda-forge\n",
            "    pyarrow-0.15.0             |   py36h8b68381_1         3.2 MB  conda-forge\n",
            "    poppler-data-0.4.9         |                1         3.4 MB  conda-forge\n",
            "    json-c-0.13.1              |    h14c3975_1001          71 KB  conda-forge\n",
            "    ucx-1.7.0+g9d06c3a         |       cuda10.0_0         8.2 MB  rapidsai/label/main\n",
            "    bokeh-2.0.1                |   py36h9f0ad1d_0         6.8 MB  conda-forge\n",
            "    pixman-0.38.0              |    h516909a_1003         594 KB  conda-forge\n",
            "    libcudf-0.13.0             |       cuda10.0_0       136.8 MB  rapidsai/label/main\n",
            "    py-xgboost-1.0.2dev.rapidsai0.13|   cuda10.0py36_6         100 KB  rapidsai/label/main\n",
            "    scikit-learn-0.22.2.post1  |   py36hcdab131_0         7.1 MB  conda-forge\n",
            "    libxcb-1.13                |    h14c3975_1002         396 KB  conda-forge\n",
            "    gcsfs-0.6.1                |             py_0          19 KB  conda-forge\n",
            "    python-dateutil-2.8.1      |             py_0         220 KB  conda-forge\n",
            "    urllib3-1.25.7             |   py36h9f0ad1d_1         160 KB  conda-forge\n",
            "    sortedcontainers-2.1.0     |             py_0          25 KB  conda-forge\n",
            "    dask-cudf-0.13.0           |           py36_0          76 KB  rapidsai/label/main\n",
            "    libtiff-4.1.0              |       hfc65ed5_0         595 KB  conda-forge\n",
            "    libgfortran-ng-7.3.0       |       hdf63c60_5         1.7 MB  conda-forge\n",
            "    libgdal-2.4.4              |       h2b6fda6_0        18.7 MB  conda-forge\n",
            "    xorg-xextproto-7.3.0       |    h14c3975_1002          27 KB  conda-forge\n",
            "    tblib-1.6.0                |             py_0          14 KB  conda-forge\n",
            "    cuspatial-0.13.0           |           py36_0         1.7 MB  rapidsai/label/main\n",
            "    ------------------------------------------------------------\n",
            "                                           Total:        1.29 GB\n",
            "\n",
            "The following NEW packages will be INSTALLED:\n",
            "\n",
            "    arrow-cpp:            0.15.0-py36h090bef1_2                conda-forge        \n",
            "    blinker:              1.4-py_1                             conda-forge        \n",
            "    bokeh:                2.0.1-py36h9f0ad1d_0                 conda-forge        \n",
            "    boost-cpp:            1.70.0-h8e57a91_2                    conda-forge        \n",
            "    brotli:               1.0.7-he1b5a44_1001                  conda-forge        \n",
            "    bzip2:                1.0.8-h516909a_2                     conda-forge        \n",
            "    c-ares:               1.15.0-h516909a_1001                 conda-forge        \n",
            "    cachetools:           3.1.1-py_0                           conda-forge        \n",
            "    cairo:                1.16.0-hcf35c78_1003                 conda-forge        \n",
            "    cfitsio:              3.470-hb60a0a2_2                     conda-forge        \n",
            "    click:                7.1.1-pyh8c360ce_0                   conda-forge        \n",
            "    cloudpickle:          1.3.0-py_0                           conda-forge        \n",
            "    cudatoolkit:          10.0.130-0                           nvidia             \n",
            "    cudf:                 0.13.0-py36_0                        rapidsai/label/main\n",
            "    cudnn:                7.6.0-cuda10.0_0                     nvidia             \n",
            "    cugraph:              0.13.0-py36_0                        rapidsai/label/main\n",
            "    cuml:                 0.13.0-cuda10.0_py36_0               rapidsai/label/main\n",
            "    cupy:                 7.3.0-py36h273e724_0                 conda-forge        \n",
            "    curl:                 7.69.1-h33f0ec9_0                    conda-forge        \n",
            "    cuspatial:            0.13.0-py36_0                        rapidsai/label/main\n",
            "    cytoolz:              0.10.1-py36h516909a_0                conda-forge        \n",
            "    dask:                 2.14.0-py_0                          conda-forge        \n",
            "    dask-core:            2.14.0-py_0                          conda-forge        \n",
            "    dask-cudf:            0.13.0-py36_0                        rapidsai/label/main\n",
            "    decorator:            4.4.2-py_0                           conda-forge        \n",
            "    distributed:          2.14.0-py36h9f0ad1d_0                conda-forge        \n",
            "    dlpack:               0.2-he1b5a44_1                       conda-forge        \n",
            "    double-conversion:    3.1.5-he1b5a44_2                     conda-forge        \n",
            "    expat:                2.2.9-he1b5a44_2                     conda-forge        \n",
            "    fastavro:             0.23.1-py36h8c4c3a4_0                conda-forge        \n",
            "    fastrlock:            0.4-py36h831f99a_1001                conda-forge        \n",
            "    fontconfig:           2.13.1-h86ecdb6_1001                 conda-forge        \n",
            "    freetype:             2.10.1-he06d7ca_0                    conda-forge        \n",
            "    freexl:               1.0.5-h14c3975_1002                  conda-forge        \n",
            "    fsspec:               0.6.3-py_0                           conda-forge        \n",
            "    gcsfs:                0.6.1-py_0                           conda-forge        \n",
            "    gdal:                 2.4.4-py36h5f563d9_0                 conda-forge        \n",
            "    geos:                 3.8.0-he1b5a44_1                     conda-forge        \n",
            "    geotiff:              1.5.1-h38872f0_8                     conda-forge        \n",
            "    gettext:              0.19.8.1-hc5be6a0_1002               conda-forge        \n",
            "    gflags:               2.2.2-he1b5a44_1002                  conda-forge        \n",
            "    giflib:               5.1.7-h516909a_1                     conda-forge        \n",
            "    glib:                 2.58.3-py36hd3ed26a_1004             conda-forge        \n",
            "    glog:                 0.4.0-he1b5a44_1                     conda-forge        \n",
            "    google-auth:          1.13.1-pyh9f0ad1d_0                  conda-forge        \n",
            "    google-auth-oauthlib: 0.4.1-py_2                           conda-forge        \n",
            "    grpc-cpp:             1.23.0-h18db393_0                    conda-forge        \n",
            "    hdf4:                 4.2.13-hf30be14_1003                 conda-forge        \n",
            "    hdf5:                 1.10.5-nompi_h3c11f04_1104           conda-forge        \n",
            "    heapdict:             1.0.1-py_0                           conda-forge        \n",
            "    icu:                  64.2-he1b5a44_1                      conda-forge        \n",
            "    jinja2:               2.11.1-py_0                          conda-forge        \n",
            "    joblib:               0.14.1-py_0                          conda-forge        \n",
            "    jpeg:                 9c-h14c3975_1001                     conda-forge        \n",
            "    json-c:               0.13.1-h14c3975_1001                 conda-forge        \n",
            "    kealib:               1.4.13-hec59c27_0                    conda-forge        \n",
            "    krb5:                 1.17.1-h2fd8d38_0                    conda-forge        \n",
            "    libblas:              3.8.0-14_openblas                    conda-forge        \n",
            "    libcblas:             3.8.0-14_openblas                    conda-forge        \n",
            "    libcudf:              0.13.0-cuda10.0_0                    rapidsai/label/main\n",
            "    libcugraph:           0.13.0-cuda10.0_0                    rapidsai/label/main\n",
            "    libcuml:              0.13.0-cuda10.0_0                    rapidsai/label/main\n",
            "    libcumlprims:         0.13.0-cuda10.0_0                    nvidia             \n",
            "    libcurl:              7.69.1-hf7181ac_0                    conda-forge        \n",
            "    libcuspatial:         0.13.0-cuda10.0_0                    rapidsai/label/main\n",
            "    libdap4:              3.20.4-hd3bb157_0                    conda-forge        \n",
            "    libevent:             2.1.10-h72c5cf5_0                    conda-forge        \n",
            "    libgdal:              2.4.4-h2b6fda6_0                     conda-forge        \n",
            "    libgfortran-ng:       7.3.0-hdf63c60_5                     conda-forge        \n",
            "    libhwloc:             2.1.0-h3c4fd83_0                     conda-forge        \n",
            "    libiconv:             1.15-h516909a_1006                   conda-forge        \n",
            "    libkml:               1.3.0-h4fcabce_1010                  conda-forge        \n",
            "    liblapack:            3.8.0-14_openblas                    conda-forge        \n",
            "    libllvm8:             8.0.1-hc9558a2_0                     conda-forge        \n",
            "    libnetcdf:            4.7.3-nompi_h9f9fd6a_101             conda-forge        \n",
            "    libnvstrings:         0.13.0-cuda10.0_0                    rapidsai/label/main\n",
            "    libopenblas:          0.3.7-h5ec1e0e_6                     conda-forge        \n",
            "    libpng:               1.6.37-hed695b0_1                    conda-forge        \n",
            "    libpq:                12.2-h5513abc_1                      conda-forge        \n",
            "    libprotobuf:          3.8.0-h8b12597_0                     conda-forge        \n",
            "    librmm:               0.13.0-cuda10.0_0                    rapidsai/label/main\n",
            "    libspatialite:        4.3.0a-ha48a99a_1034                 conda-forge        \n",
            "    libssh2:              1.8.2-h22169c7_2                     conda-forge        \n",
            "    libtiff:              4.1.0-hfc65ed5_0                     conda-forge        \n",
            "    libuuid:              2.32.1-h14c3975_1000                 conda-forge        \n",
            "    libxcb:               1.13-h14c3975_1002                   conda-forge        \n",
            "    libxgboost:           1.0.2dev.rapidsai0.13-cuda10.0_6     rapidsai/label/main\n",
            "    libxml2:              2.9.10-hee79883_0                    conda-forge        \n",
            "    llvmlite:             0.31.0-py36hfa65bc7_1                conda-forge        \n",
            "    locket:               0.2.0-py_2                           conda-forge        \n",
            "    lz4-c:                1.8.3-he1b5a44_1001                  conda-forge        \n",
            "    markupsafe:           1.1.1-py36h8c4c3a4_1                 conda-forge        \n",
            "    msgpack-python:       1.0.0-py36hdb11119_1                 conda-forge        \n",
            "    nccl:                 2.5.7.1-hd6f8bf8_0                   conda-forge        \n",
            "    numba:                0.48.0-py36hb3f55d8_0                conda-forge        \n",
            "    numpy:                1.18.1-py36h7314795_1                conda-forge        \n",
            "    nvstrings:            0.13.0-py36_0                        rapidsai/label/main\n",
            "    oauthlib:             3.0.1-py_0                           conda-forge        \n",
            "    olefile:              0.46-py_0                            conda-forge        \n",
            "    openjpeg:             2.3.1-h981e76c_3                     conda-forge        \n",
            "    packaging:            20.1-py_0                            conda-forge        \n",
            "    pandas:               0.25.3-py36hb3f55d8_0                conda-forge        \n",
            "    parquet-cpp:          1.5.1-2                              conda-forge        \n",
            "    partd:                1.1.0-py_0                           conda-forge        \n",
            "    pcre:                 8.44-he1b5a44_0                      conda-forge        \n",
            "    pillow:               7.1.1-py36h8328e55_0                 conda-forge        \n",
            "    pixman:               0.38.0-h516909a_1003                 conda-forge        \n",
            "    poppler:              0.67.0-h14e79db_8                    conda-forge        \n",
            "    poppler-data:         0.4.9-1                              conda-forge        \n",
            "    postgresql:           12.2-h8573dbc_1                      conda-forge        \n",
            "    proj:                 6.3.0-hc80f0dc_0                     conda-forge        \n",
            "    psutil:               5.7.0-py36h8c4c3a4_1                 conda-forge        \n",
            "    pthread-stubs:        0.4-h14c3975_1001                    conda-forge        \n",
            "    py-xgboost:           1.0.2dev.rapidsai0.13-cuda10.0py36_6 rapidsai/label/main\n",
            "    pyarrow:              0.15.0-py36h8b68381_1                conda-forge        \n",
            "    pyasn1:               0.4.8-py_0                           conda-forge        \n",
            "    pyasn1-modules:       0.2.7-py_0                           conda-forge        \n",
            "    pyjwt:                1.7.1-py_0                           conda-forge        \n",
            "    pynvml:               8.0.4-py_0                           conda-forge        \n",
            "    pyparsing:            2.4.7-pyh9f0ad1d_0                   conda-forge        \n",
            "    python-dateutil:      2.8.1-py_0                           conda-forge        \n",
            "    pytz:                 2019.3-py_0                          conda-forge        \n",
            "    pyyaml:               5.1.2-py36h516909a_0                 conda-forge        \n",
            "    re2:                  2020.04.01-he1b5a44_0                conda-forge        \n",
            "    requests-oauthlib:    1.2.0-py_0                           conda-forge        \n",
            "    rmm:                  0.13.0-py36_0                        rapidsai/label/main\n",
            "    rsa:                  4.0-py_0                             conda-forge        \n",
            "    scikit-learn:         0.22.2.post1-py36hcdab131_0          conda-forge        \n",
            "    scipy:                1.4.1-py36h2d22cac_2                 conda-forge        \n",
            "    snappy:               1.1.8-he1b5a44_1                     conda-forge        \n",
            "    sortedcontainers:     2.1.0-py_0                           conda-forge        \n",
            "    tblib:                1.6.0-py_0                           conda-forge        \n",
            "    thrift-cpp:           0.12.0-hf3afdfd_1004                 conda-forge        \n",
            "    toolz:                0.10.0-py_0                          conda-forge        \n",
            "    tornado:              6.0.4-py36h8c4c3a4_1                 conda-forge        \n",
            "    typing_extensions:    3.7.4.1-py36h9f0ad1d_3               conda-forge        \n",
            "    tzcode:               2019a-h516909a_1002                  conda-forge        \n",
            "    ucx:                  1.7.0+g9d06c3a-cuda10.0_0            rapidsai/label/main\n",
            "    ucx-py:               0.13.0+g9d06c3a-py36_0               rapidsai/label/main\n",
            "    uriparser:            0.9.3-he1b5a44_1                     conda-forge        \n",
            "    xerces-c:             3.2.2-h8412b87_1004                  conda-forge        \n",
            "    xgboost:              1.0.2dev.rapidsai0.13-cuda10.0py36_6 rapidsai/label/main\n",
            "    xorg-kbproto:         1.0.7-h14c3975_1002                  conda-forge        \n",
            "    xorg-libice:          1.0.10-h516909a_0                    conda-forge        \n",
            "    xorg-libsm:           1.2.3-h84519dc_1000                  conda-forge        \n",
            "    xorg-libx11:          1.6.9-h516909a_0                     conda-forge        \n",
            "    xorg-libxau:          1.0.9-h14c3975_0                     conda-forge        \n",
            "    xorg-libxdmcp:        1.1.3-h516909a_0                     conda-forge        \n",
            "    xorg-libxext:         1.3.4-h516909a_0                     conda-forge        \n",
            "    xorg-libxrender:      0.9.10-h516909a_1002                 conda-forge        \n",
            "    xorg-renderproto:     0.11.1-h14c3975_1002                 conda-forge        \n",
            "    xorg-xextproto:       7.3.0-h14c3975_1002                  conda-forge        \n",
            "    xorg-xproto:          7.0.31-h14c3975_1007                 conda-forge        \n",
            "    zict:                 2.0.0-py_0                           conda-forge        \n",
            "    zstd:                 1.4.3-h3b9ef0a_0                     conda-forge        \n",
            "\n",
            "The following packages will be UPDATED:\n",
            "\n",
            "    cryptography:         2.2.2-py36h14c3975_0                                     --> 2.8-py36h45558ae_2    conda-forge\n",
            "    pyopenssl:            18.0.0-py36_0                                            --> 19.1.0-py_1           conda-forge\n",
            "    requests:             2.18.4-py36he2e5f8d_1                                    --> 2.23.0-pyh8c360ce_2   conda-forge\n",
            "    urllib3:              1.22-py36hbe7ace6_0                                      --> 1.25.7-py36h9f0ad1d_1 conda-forge\n",
            "\n",
            "\n",
            "Downloading and Extracting Packages\n",
            "grpc-cpp-1.23.0      |  4.5 MB | : 100% 1.0/1 [00:00<00:00,  1.04it/s]               \n",
            "packaging-20.1       |   31 KB | : 100% 1.0/1 [00:00<00:00, 22.99it/s]\n",
            "gettext-0.19.8.1     |  3.6 MB | : 100% 1.0/1 [00:01<00:00,  1.12s/it]               \n",
            "pyyaml-5.1.2         |  184 KB | : 100% 1.0/1 [00:00<00:00, 11.98it/s]\n",
            "xorg-kbproto-1.0.7   |   26 KB | : 100% 1.0/1 [00:00<00:00, 28.07it/s]\n",
            "snappy-1.1.8         |   39 KB | : 100% 1.0/1 [00:00<00:00, 14.88it/s]\n",
            "cupy-7.3.0           | 15.2 MB | : 100% 1.0/1 [00:02<00:00,  2.75s/it]               \n",
            "google-auth-oauthlib |   18 KB | : 100% 1.0/1 [00:00<00:00, 30.38it/s]\n",
            "llvmlite-0.31.0      |  325 KB | : 100% 1.0/1 [00:00<00:00,  9.31it/s]\n",
            "icu-64.2             | 12.6 MB | : 100% 1.0/1 [00:01<00:00,  1.91s/it]               \n",
            "double-conversion-3. |   85 KB | : 100% 1.0/1 [00:00<00:00, 18.80it/s]\n",
            "glog-0.4.0           |  104 KB | : 100% 1.0/1 [00:00<00:00, 19.79it/s]\n",
            "arrow-cpp-0.15.0     | 18.1 MB | : 100% 1.0/1 [00:03<00:00,  3.05s/it]               \n",
            "cairo-1.16.0         |  1.5 MB | : 100% 1.0/1 [00:00<00:00,  3.20it/s]               \n",
            "libprotobuf-3.8.0    |  4.7 MB | : 100% 1.0/1 [00:00<00:00,  1.07it/s]               \n",
            "dask-2.14.0          |    4 KB | : 100% 1.0/1 [00:00<00:00, 36.74it/s]\n",
            "libspatialite-4.3.0a |  3.1 MB | : 100% 1.0/1 [00:00<00:00,  1.85it/s]               \n",
            "thrift-cpp-0.12.0    |  2.4 MB | : 100% 1.0/1 [00:00<00:00,  2.28it/s]               \n",
            "cuml-0.13.0          |  9.2 MB | : 100% 1.0/1 [00:05<00:00,  5.51s/it]               \n",
            "libpq-12.2           |  2.6 MB | : 100% 1.0/1 [00:00<00:00,  1.53it/s]               \n",
            "requests-2.23.0      |   47 KB | : 100% 1.0/1 [00:00<00:00, 24.47it/s]\n",
            "hdf4-4.2.13          |  964 KB | : 100% 1.0/1 [00:00<00:00,  5.10it/s]              \n",
            "lz4-c-1.8.3          |  187 KB | : 100% 1.0/1 [00:00<00:00, 15.25it/s]\n",
            "jinja2-2.11.1        |   94 KB | : 100% 1.0/1 [00:00<00:00, 13.61it/s]\n",
            "libkml-1.3.0         |  643 KB | : 100% 1.0/1 [00:00<00:00,  5.74it/s]               \n",
            "nvstrings-0.13.0     |  129 KB | : 100% 1.0/1 [00:01<00:00,  1.28s/it]                \n",
            "bzip2-1.0.8          |  396 KB | : 100% 1.0/1 [00:00<00:00,  9.14it/s]\n",
            "c-ares-1.15.0        |  100 KB | : 100% 1.0/1 [00:00<00:00, 23.75it/s]\n",
            "toolz-0.10.0         |   46 KB | : 100% 1.0/1 [00:00<00:00, 26.35it/s]\n",
            "geos-3.8.0           |  1.0 MB | : 100% 1.0/1 [00:00<00:00,  3.11it/s]               \n",
            "uriparser-0.9.3      |   49 KB | : 100% 1.0/1 [00:00<00:00, 23.96it/s]\n",
            "libxml2-2.9.10       |  1.3 MB | : 100% 1.0/1 [00:00<00:00,  2.73it/s]               \n",
            "dask-core-2.14.0     |  599 KB | : 100% 1.0/1 [00:00<00:00,  4.64it/s]               \n",
            "partd-1.1.0          |   17 KB | : 100% 1.0/1 [00:00<00:00, 32.58it/s]\n",
            "geotiff-1.5.1        |  279 KB | : 100% 1.0/1 [00:00<00:00,  8.34it/s]\n",
            "brotli-1.0.7         |  1.0 MB | : 100% 1.0/1 [00:00<00:00,  5.70it/s]             \n",
            "cryptography-2.8     |  628 KB | : 100% 1.0/1 [00:00<00:00,  4.31it/s]               \n",
            "cudnn-7.6.0          | 216.6 MB | : 100% 1.0/1 [00:42<00:00, 42.89s/it]                \n",
            "fsspec-0.6.3         |   48 KB | : 100% 1.0/1 [00:00<00:00, 12.57it/s]\n",
            "xorg-libxau-1.0.9    |   13 KB | : 100% 1.0/1 [00:00<00:00, 34.69it/s]\n",
            "librmm-0.13.0        |   70 KB | : 100% 1.0/1 [00:01<00:00,  1.67s/it]              \n",
            "cfitsio-3.470        |  1.4 MB | : 100% 1.0/1 [00:00<00:00,  3.88it/s]               \n",
            "liblapack-3.8.0      |   10 KB | : 100% 1.0/1 [00:00<00:00, 21.57it/s]\n",
            "xgboost-1.0.2dev.rap |   12 KB | : 100% 1.0/1 [00:01<00:00,  1.27s/it] \n",
            "markupsafe-1.1.1     |   26 KB | : 100% 1.0/1 [00:00<00:00, 28.37it/s]\n",
            "pyparsing-2.4.7      |   60 KB | : 100% 1.0/1 [00:00<00:00, 22.25it/s]\n",
            "cudatoolkit-10.0.130 | 380.0 MB | : 100% 1.0/1 [01:15<00:00, 75.55s/it]                \n",
            "libdap4-3.20.4       | 18.5 MB | : 100% 1.0/1 [00:02<00:00,  2.48s/it]               \n",
            "xorg-libx11-1.6.9    |  918 KB | : 100% 1.0/1 [00:00<00:00,  4.45it/s]               \n",
            "kealib-1.4.13        |  172 KB | : 100% 1.0/1 [00:00<00:00, 17.10it/s]\n",
            "xorg-renderproto-0.1 |    8 KB | : 100% 1.0/1 [00:00<00:00, 30.33it/s]\n",
            "libcuspatial-0.13.0  |  1.7 MB | : 100% 1.0/1 [00:03<00:00,  3.72s/it]               \n",
            "gdal-2.4.4           |  1.4 MB | : 100% 1.0/1 [00:00<00:00,  3.74it/s]               \n",
            "hdf5-1.10.5          |  3.1 MB | : 100% 1.0/1 [00:00<00:00,  1.92it/s]               \n",
            "pyopenssl-19.1.0     |   47 KB | : 100% 1.0/1 [00:00<00:00, 16.61it/s]\n",
            "pandas-0.25.3        | 11.4 MB | : 100% 1.0/1 [00:02<00:00,  2.47s/it]               \n",
            "psutil-5.7.0         |  324 KB | : 100% 1.0/1 [00:00<00:00,  9.20it/s]\n",
            "gflags-2.2.2         |  175 KB | : 100% 1.0/1 [00:00<00:00, 12.24it/s]\n",
            "cytoolz-0.10.1       |  431 KB | : 100% 1.0/1 [00:00<00:00,  8.48it/s]\n",
            "pyasn1-modules-0.2.7 |   60 KB | : 100% 1.0/1 [00:00<00:00, 14.95it/s]\n",
            "giflib-5.1.7         |  455 KB | : 100% 1.0/1 [00:00<00:00,  8.48it/s]\n",
            "fastavro-0.23.1      |  422 KB | : 100% 1.0/1 [00:00<00:00,  8.54it/s]               \n",
            "heapdict-1.0.1       |    7 KB | : 100% 1.0/1 [00:00<00:00, 35.96it/s]\n",
            "olefile-0.46         |   31 KB | : 100% 1.0/1 [00:00<00:00, 30.48it/s]\n",
            "rmm-0.13.0           |  687 KB | : 100% 1.0/1 [00:01<00:00,  1.37s/it]               \n",
            "libblas-3.8.0        |   10 KB | : 100% 1.0/1 [00:00<00:00, 23.26it/s]\n",
            "krb5-1.17.1          |  1.5 MB | : 100% 1.0/1 [00:00<00:00,  3.57it/s]               \n",
            "postgresql-12.2      |  5.0 MB | : 100% 1.0/1 [00:00<00:00,  1.17it/s]               \n",
            "rsa-4.0              |   27 KB | : 100% 1.0/1 [00:00<00:00, 20.01it/s]\n",
            "pyasn1-0.4.8         |   53 KB | : 100% 1.0/1 [00:00<00:00, 14.88it/s]\n",
            "libnetcdf-4.7.3      |  1.3 MB | : 100% 1.0/1 [00:00<00:00,  4.31it/s]               \n",
            "expat-2.2.9          |  191 KB | : 100% 1.0/1 [00:00<00:00, 14.70it/s]\n",
            "xorg-xproto-7.0.31   |   72 KB | : 100% 1.0/1 [00:00<00:00, 17.07it/s]\n",
            "libpng-1.6.37        |  308 KB | : 100% 1.0/1 [00:00<00:00, 10.72it/s]\n",
            "libcblas-3.8.0       |   10 KB | : 100% 1.0/1 [00:00<00:00, 25.29it/s]\n",
            "scipy-1.4.1          | 18.9 MB | : 100% 1.0/1 [00:03<00:00,  3.34s/it]               \n",
            "xerces-c-3.2.2       |  1.7 MB | : 100% 1.0/1 [00:00<00:00,  2.03it/s]               \n",
            "joblib-0.14.1        |  198 KB | : 100% 1.0/1 [00:00<00:00, 11.20it/s]\n",
            "requests-oauthlib-1. |   19 KB | : 100% 1.0/1 [00:00<00:00, 29.95it/s]\n",
            "re2-2020.04.01       |  438 KB | : 100% 1.0/1 [00:00<00:00,  9.91it/s]\n",
            "libopenblas-0.3.7    |  7.6 MB | : 100% 1.0/1 [00:01<00:00,  1.25s/it]               \n",
            "libuuid-2.32.1       |   26 KB | : 100% 1.0/1 [00:00<00:00, 30.08it/s]\n",
            "pthread-stubs-0.4    |    5 KB | : 100% 1.0/1 [00:00<00:00, 39.84it/s]\n",
            "locket-0.2.0         |    6 KB | : 100% 1.0/1 [00:00<00:00, 26.69it/s]\n",
            "xorg-libice-1.0.10   |   57 KB | : 100% 1.0/1 [00:00<00:00, 21.23it/s]\n",
            "pillow-7.1.1         |  654 KB | : 100% 1.0/1 [00:00<00:00,  5.52it/s]              \n",
            "cloudpickle-1.3.0    |   24 KB | : 100% 1.0/1 [00:00<00:00, 22.66it/s]\n",
            "tzcode-2019a         |  429 KB | : 100% 1.0/1 [00:00<00:00,  2.86it/s]               \n",
            "fontconfig-2.13.1    |  340 KB | : 100% 1.0/1 [00:00<00:00, 10.44it/s]\n",
            "blinker-1.4          |   13 KB | : 100% 1.0/1 [00:00<00:00, 25.67it/s]\n",
            "libxgboost-1.0.2dev. | 21.9 MB | : 100% 1.0/1 [00:08<00:00,  8.71s/it]               \n",
            "xorg-libxrender-0.9. |   31 KB | : 100% 1.0/1 [00:00<00:00, 36.45it/s]\n",
            "cachetools-3.1.1     |   11 KB | : 100% 1.0/1 [00:00<00:00, 26.94it/s]\n",
            "proj-6.3.0           | 10.3 MB | : 100% 1.0/1 [00:01<00:00,  1.50s/it]              \n",
            "dlpack-0.2           |   13 KB | : 100% 1.0/1 [00:00<00:00, 21.25it/s]\n",
            "xorg-libxext-1.3.4   |   51 KB | : 100% 1.0/1 [00:00<00:00, 17.57it/s]\n",
            "numba-0.48.0         |  3.4 MB | : 100% 1.0/1 [00:00<00:00,  1.00it/s]               \n",
            "xorg-libxdmcp-1.1.3  |   18 KB | : 100% 1.0/1 [00:00<00:00, 24.87it/s]\n",
            "libcugraph-0.13.0    | 40.0 MB | : 100% 1.0/1 [00:13<00:00, 13.10s/it]               \n",
            "glib-2.58.3          |  3.3 MB | : 100% 1.0/1 [00:00<00:00,  1.31it/s]               \n",
            "libcuml-0.13.0       | 51.6 MB | : 100% 1.0/1 [00:16<00:00, 16.94s/it]               \n",
            "xorg-libsm-1.2.3     |   25 KB | : 100% 1.0/1 [00:00<00:00, 22.91it/s]\n",
            "openjpeg-2.3.1       |  475 KB | : 100% 1.0/1 [00:00<00:00,  8.80it/s]\n",
            "libllvm8-8.0.1       | 23.2 MB | : 100% 1.0/1 [00:03<00:00,  3.63s/it]               \n",
            "pytz-2019.3          |  237 KB | : 100% 1.0/1 [00:00<00:00,  5.05it/s]               \n",
            "freexl-1.0.5         |   43 KB | : 100% 1.0/1 [00:00<00:00, 21.83it/s]\n",
            "boost-cpp-1.70.0     | 21.1 MB | : 100% 1.0/1 [00:08<00:00,  8.51s/it]              \n",
            "libiconv-1.15        |  2.0 MB | : 100% 1.0/1 [00:00<00:00,  3.76it/s]              \n",
            "google-auth-1.13.1   |   53 KB | : 100% 1.0/1 [00:00<00:00, 16.08it/s]\n",
            "pcre-8.44            |  261 KB | : 100% 1.0/1 [00:00<00:00, 12.00it/s]\n",
            "zict-2.0.0           |   10 KB | : 100% 1.0/1 [00:00<00:00, 25.14it/s]\n",
            "poppler-0.67.0       |  8.9 MB | : 100% 1.0/1 [00:01<00:00,  1.38s/it]               \n",
            "freetype-2.10.1      |  877 KB | : 100% 1.0/1 [00:00<00:00,  5.31it/s]               \n",
            "fastrlock-0.4        |   32 KB | : 100% 1.0/1 [00:00<00:00, 26.63it/s]\n",
            "nccl-2.5.7.1         | 96.6 MB | : 100% 1.0/1 [00:11<00:00, 11.80s/it]               \n",
            "jpeg-9c              |  251 KB | : 100% 1.0/1 [00:00<00:00, 12.76it/s]\n",
            "zstd-1.4.3           |  935 KB | : 100% 1.0/1 [00:00<00:00,  5.70it/s]               \n",
            "libnvstrings-0.13.0  | 29.6 MB | : 100% 1.0/1 [00:11<00:00, 11.27s/it]               \n",
            "pynvml-8.0.4         |   31 KB | : 100% 1.0/1 [00:00<00:00, 21.66it/s]\n",
            "typing_extensions-3. |   38 KB | : 100% 1.0/1 [00:00<00:00, 25.25it/s]\n",
            "libcurl-7.69.1       |  573 KB | : 100% 1.0/1 [00:00<00:00,  8.04it/s]               \n",
            "distributed-2.14.0   | 1007 KB | : 100% 1.0/1 [00:00<00:00,  2.99it/s]               \n",
            "cugraph-0.13.0       |  7.2 MB | : 100% 1.0/1 [00:04<00:00,  4.46s/it]               \n",
            "pyjwt-1.7.1          |   17 KB | : 100% 1.0/1 [00:00<00:00, 30.73it/s]\n",
            "oauthlib-3.0.1       |   82 KB | : 100% 1.0/1 [00:00<00:00, 16.17it/s]\n",
            "libssh2-1.8.2        |  257 KB | : 100% 1.0/1 [00:00<00:00,  9.59it/s]\n",
            "cudf-0.13.0          | 32.7 MB | : 100% 1.0/1 [00:08<00:00,  8.89s/it]               \n",
            "libcumlprims-0.13.0  |  3.3 MB | : 100% 1.0/1 [00:02<00:00,  2.41s/it]               \n",
            "decorator-4.4.2      |   11 KB | : 100% 1.0/1 [00:00<00:00, 30.52it/s]\n",
            "ucx-py-0.13.0+g9d06c |  287 KB | : 100% 1.0/1 [00:01<00:00,  1.33s/it]                \n",
            "libevent-2.1.10      |  1.3 MB | : 100% 1.0/1 [00:00<00:00,  2.68it/s]               \n",
            "msgpack-python-1.0.0 |   91 KB | : 100% 1.0/1 [00:00<00:00, 18.22it/s]\n",
            "libhwloc-2.1.0       |  2.7 MB | : 100% 1.0/1 [00:00<00:00,  2.42it/s]               \n",
            "parquet-cpp-1.5.1    |    3 KB | : 100% 1.0/1 [00:00<00:00, 20.65it/s]\n",
            "curl-7.69.1          |  137 KB | : 100% 1.0/1 [00:00<00:00, 27.30it/s]\n",
            "numpy-1.18.1         |  5.2 MB | : 100% 1.0/1 [00:01<00:00,  1.22s/it]               \n",
            "tornado-6.0.4        |  639 KB | : 100% 1.0/1 [00:00<00:00,  5.29it/s]               \n",
            "click-7.1.1          |   64 KB | : 100% 1.0/1 [00:00<00:00, 24.13it/s]\n",
            "pyarrow-0.15.0       |  3.2 MB | : 100% 1.0/1 [00:00<00:00,  1.13it/s]               \n",
            "poppler-data-0.4.9   |  3.4 MB | : 100% 1.0/1 [00:00<00:00,  1.75it/s]               \n",
            "json-c-0.13.1        |   71 KB | : 100% 1.0/1 [00:00<00:00, 16.41it/s]\n",
            "ucx-1.7.0+g9d06c3a   |  8.2 MB | : 100% 1.0/1 [00:03<00:00,  3.15s/it]               \n",
            "bokeh-2.0.1          |  6.8 MB | : 100% 1.0/1 [00:01<00:00,  1.87s/it]               \n",
            "pixman-0.38.0        |  594 KB | : 100% 1.0/1 [00:00<00:00,  7.96it/s]               \n",
            "libcudf-0.13.0       | 136.8 MB | : 100% 1.0/1 [00:42<00:00, 42.26s/it]                \n",
            "py-xgboost-1.0.2dev. |  100 KB | : 100% 1.0/1 [00:04<00:00,  4.04s/it]               \n",
            "scikit-learn-0.22.2. |  7.1 MB | : 100% 1.0/1 [00:01<00:00,  1.57s/it]               \n",
            "libxcb-1.13          |  396 KB | : 100% 1.0/1 [00:00<00:00,  6.49it/s]              \n",
            "gcsfs-0.6.1          |   19 KB | : 100% 1.0/1 [00:00<00:00, 22.69it/s]\n",
            "python-dateutil-2.8. |  220 KB | : 100% 1.0/1 [00:00<00:00, 15.93it/s]\n",
            "urllib3-1.25.7       |  160 KB | : 100% 1.0/1 [00:00<00:00, 10.94it/s]\n",
            "sortedcontainers-2.1 |   25 KB | : 100% 1.0/1 [00:00<00:00, 29.63it/s]\n",
            "dask-cudf-0.13.0     |   76 KB | : 100% 1.0/1 [00:01<00:00,  1.35s/it]                \n",
            "libtiff-4.1.0        |  595 KB | : 100% 1.0/1 [00:00<00:00,  7.52it/s]               \n",
            "libgfortran-ng-7.3.0 |  1.7 MB | : 100% 1.0/1 [00:00<00:00,  3.53it/s]               \n",
            "libgdal-2.4.4        | 18.7 MB | : 100% 1.0/1 [00:03<00:00,  3.31s/it]               \n",
            "xorg-xextproto-7.3.0 |   27 KB | : 100% 1.0/1 [00:00<00:00, 21.33it/s]\n",
            "tblib-1.6.0          |   14 KB | : 100% 1.0/1 [00:00<00:00, 23.46it/s]\n",
            "cuspatial-0.13.0     |  1.7 MB | : 100% 1.0/1 [00:01<00:00,  1.50s/it]               \n",
            "Preparing transaction: / \b\b- \b\b\\ \b\b| \b\b/ \b\b- \b\b\\ \b\b| \b\b/ \b\b- \b\b\\ \b\b| \b\b/ \b\b- \b\b\\ \b\b| \b\b/ \b\b- \b\b\\ \b\b| \b\b/ \b\bdone\n",
            "Verifying transaction: \\ \b\b| \b\b/ \b\b- \b\b\\ \b\b| \b\b/ \b\b- \b\b\\ \b\b| \b\b/ \b\b- \b\b\\ \b\b| \b\b/ \b\b- \b\b\\ \b\b| \b\b/ \b\b- \b\b\\ \b\b| \b\b/ \b\b- \b\b\\ \b\b| \b\b/ \b\b- \b\b\\ \b\b| \b\b/ \b\b- \b\b\\ \b\b| \b\b/ \b\b- \b\b\\ \b\b| \b\b/ \b\b- \b\b\\ \b\b| \b\b/ \b\b- \b\b\\ \b\b| \b\b/ \b\b- \b\b\\ \b\b| \b\b/ \b\b- \b\b\\ \b\b| \b\b/ \b\b- \b\b\\ \b\b| \b\b/ \b\b- \b\b\\ \b\b| \b\b/ \b\b- \b\b\\ \b\b| \b\b/ \b\b- \b\b\\ \b\b| \b\b/ \b\b- \b\b\\ \b\b| \b\b/ \b\b- \b\b\\ \b\b| \b\b/ \b\b- \b\b\\ \b\b| \b\b/ \b\b- \b\b\\ \b\b| \b\b/ \b\b- \b\b\\ \b\b| \b\b/ \b\b- \b\b\\ \b\b| \b\b/ \b\b- \b\b\\ \b\b| \b\b/ \b\b- \b\b\\ \b\b| \b\b/ \b\b- \b\b\\ \b\b| \b\b/ \b\b- \b\b\\ \b\b| \b\b/ \b\b- \b\b\\ \b\b| \b\b/ \b\b- \b\b\\ \b\b| \b\b/ \b\b- \b\b\\ \b\b| \b\b/ \b\b- \b\b\\ \b\b| \b\b/ \b\b- \b\b\\ \b\b| \b\b/ \b\b- \b\b\\ \b\b| \b\b/ \b\b- \b\b\\ \b\b| \b\b/ \b\b- \b\b\\ \b\b| \b\b/ \b\b- \b\b\\ \b\b| \b\b/ \b\b- \b\b\\ \b\b| \b\b/ \b\b- \b\b\\ \b\b| \b\b/ \b\b- \b\b\\ \b\b| \b\b/ \b\b- \b\b\\ \b\b| \b\b/ \b\b- \b\b\\ \b\b| \b\b/ \b\b- \b\b\\ \b\b| \b\b/ \b\b- \b\b\\ \b\b| \b\b/ \b\b- \b\b\\ \b\b| \b\b/ \b\b- \b\b\\ \b\b| \b\b/ \b\b- \b\b\\ \b\b| \b\b/ \b\b- \b\b\\ \b\b| \b\b/ \b\b- \b\b\\ \b\b| \b\b/ \b\b- \b\b\\ \b\b| \b\b/ \b\b- \b\b\\ \b\b| \b\b/ \b\b- \b\b\\ \b\b| \b\b/ \b\b- \b\b\\ \b\b| \b\b/ \b\b- \b\b\\ \b\b| \b\b/ \b\b- \b\b\\ \b\b| \b\b/ \b\b- \b\b\\ \b\b| \b\b/ \b\b- \b\b\\ \b\b| \b\b/ \b\b- \b\b\\ \b\b| \b\b/ \b\b- \b\b\\ \b\b| \b\b/ \b\b- \b\b\\ \b\b| \b\b/ \b\b- \b\b\\ \b\b| \b\b/ \b\b- \b\b\\ \b\b| \b\b/ \b\b- \b\b\\ \b\b| \b\b/ \b\b- \b\b\\ \b\b| \b\b/ \b\b- \b\b\\ \b\b| \b\b/ \b\b- \b\b\\ \b\b| \b\b/ \b\b- \b\b\\ \b\b| \b\b/ \b\b- \b\b\\ \b\b| \b\b/ \b\b- \b\b\\ \b\b| \b\b/ \b\b- \b\b\\ \b\b| \b\b/ \b\b- \b\b\\ \b\b| \b\b/ \b\b- \b\b\\ \b\b| \b\b/ \b\b- \b\b\\ \b\b| \b\b/ \b\b- \b\b\\ \b\b| \b\b/ \b\b- \b\b\\ \b\b| \b\b/ \b\b- \b\b\\ \b\b| \b\b/ \b\b- \b\b\\ \b\b| \b\b/ \b\b- \b\b\\ \b\b| \b\b/ \b\b- \b\b\\ \b\b| \b\b/ \b\b- \b\b\\ \b\b| \b\b/ \b\b- \b\b\\ \b\b| \b\b/ \b\b- \b\b\\ \b\b| \b\b/ \b\b- \b\b\\ \b\b| \b\b/ \b\b- \b\b\\ \b\b| \b\b/ \b\b- \b\b\\ \b\b| \b\b/ \b\b- \b\b\\ \b\b| \b\b/ \b\b- \b\b\\ \b\b| \b\b/ \b\b- \b\b\\ \b\b| \b\b/ \b\b- \b\b\\ \b\b| \b\b/ \b\b- \b\b\\ \b\b| \b\b/ \b\b- \b\b\\ \b\b| \b\b/ \b\b- \b\b\\ \b\b| \b\b/ \b\b- \b\b\\ \b\b| \b\b/ \b\b- \b\b\\ \b\b| \b\b/ \b\b- \b\b\\ \b\b| \b\b/ \b\b- \b\b\\ \b\b| \b\b/ \b\b- \b\b\\ \b\b| \b\b/ \b\b- \b\b\\ \b\b| \b\b/ \b\b- \b\b\\ \b\b| \b\b/ \b\b- \b\b\\ \b\b| \b\b/ \b\b- \b\b\\ \b\b| \b\b/ \b\b- \b\b\\ \b\b| \b\b/ \b\b- \b\b\\ \b\b| \b\b/ \b\b- \b\b\\ \b\b| \b\b/ \b\b- \b\b\\ \b\b| \b\b/ \b\b- \b\b\\ \b\b| \b\b/ \b\b- \b\b\\ \b\b| \b\b/ \b\b- \b\b\\ \b\b| \b\b/ \b\b- \b\b\\ \b\b| \b\b/ \b\b- \b\b\\ \b\b| \b\b/ \b\b- \b\b\\ \b\b| \b\b/ \b\b- \b\b\\ \b\b| \b\b/ \b\b- \b\b\\ \b\b| \b\b/ \b\b- \b\b\\ \b\b| \b\b/ \b\b- \b\b\\ \b\b| \b\b/ \b\b- \b\b\\ \b\b| \b\b/ \b\b- \b\b\\ \b\b| \b\b/ \b\b- \b\b\\ \b\b| \b\b/ \b\b- \b\b\\ \b\b| \b\b/ \b\b- \b\b\\ \b\b| \b\b/ \b\b- \b\b\\ \b\b| \b\b/ \b\b- \b\b\\ \b\b| \b\b/ \b\b- \b\b\\ \b\b| \b\b/ \b\b- \b\b\\ \b\b| \b\b/ \b\b- \b\b\\ \b\b| \b\b/ \b\b- \b\b\\ \b\b| \b\b/ \b\b- \b\b\\ \b\b| \b\b/ \b\b- \b\b\\ \b\b| \b\b/ \b\b- \b\b\\ \b\b| \b\b/ \b\b- \b\b\\ \b\b| \b\b/ \b\b- \b\b\\ \b\b| \b\b/ \b\b- \b\b\\ \b\b| \b\b/ \b\b- \b\b\\ \b\b| \b\b/ \b\b- \b\b\\ \b\b| \b\b/ \b\b- \b\b\\ \b\b| \b\b/ \b\b- \b\b\\ \b\b| \b\b/ \b\b- \b\b\\ \b\b| \b\b/ \b\b- \b\b\\ \b\b| \b\b/ \b\b- \b\b\\ \b\b| \b\b/ \b\b- \b\b\\ \b\b| \b\b/ \b\b- \b\b\\ \b\b| \b\b/ \b\b- \b\b\\ \b\b| \b\b/ \b\b- \b\b\\ \b\b| \b\b/ \b\b- \b\b\\ \b\b| \b\b/ \b\b- \b\b\\ \b\b| \b\b/ \b\b- \b\b\\ \b\b| \b\b/ \b\b- \b\b\\ \b\b| \b\b/ \b\b- \b\b\\ \b\b| \b\b/ \b\b- \b\b\\ \b\b| \b\b/ \b\b- \b\b\\ \b\b| \b\b/ \b\b- \b\b\\ \b\b| \b\b/ \b\b- \b\b\\ \b\b| \b\b/ \b\b- \b\b\\ \b\b| \b\b/ \b\b- \b\b\\ \b\b| \b\b/ \b\b- \b\b\\ \b\b| \b\b/ \b\b- \b\b\\ \b\b| \b\b/ \b\b- \b\b\\ \b\b| \b\b/ \b\b- \b\b\\ \b\b| \b\b/ \b\b- \b\b\\ \b\b| \b\b/ \b\b- \b\b\\ \b\b| \b\b/ \b\b- \b\b\\ \b\b| \b\b/ \b\b- \b\b\\ \b\b| \b\b/ \b\b- \b\b\\ \b\b| \b\b/ \b\b- \b\b\\ \b\b| \b\b/ \b\b- \b\b\\ \b\b| \b\b/ \b\b- \b\b\\ \b\b| \b\b/ \b\b- \b\b\\ \b\b| \b\b/ \b\b- \b\b\\ \b\b| \b\b/ \b\b- \b\b\\ \b\b| \b\b/ \b\b- \b\b\\ \b\b| \b\b/ \b\b- \b\b\\ \b\b| \b\b/ \b\b- \b\b\\ \b\b| \b\b/ \b\b- \b\b\\ \b\b| \b\b/ \b\b- \b\b\\ \b\b| \b\b/ \b\b- \b\b\\ \b\b| \b\b/ \b\b- \b\b\\ \b\b| \b\b/ \b\b- \b\b\\ \b\b| \b\b/ \b\b- \b\b\\ \b\b| \b\b/ \b\b- \b\b\\ \b\b| \b\b/ \b\b- \b\b\\ \b\b| \b\b/ \b\b- \b\b\\ \b\b| \b\b/ \b\b- \b\b\\ \b\b| \b\b/ \b\b- \b\b\\ \b\b| \b\b/ \b\b- \b\b\\ \b\b| \b\b/ \b\b- \b\b\\ \b\b| \b\b/ \b\b- \b\b\\ \b\b| \b\b/ \b\b- \b\b\\ \b\b| \b\b/ \b\b- \b\b\\ \b\b| \b\b/ \b\b- \b\b\\ \b\b| \b\b/ \b\b- \b\b\\ \b\b| \b\b/ \b\b- \b\b\\ \b\b| \b\b/ \b\b- \b\b\\ \b\bdone\n",
            "Executing transaction: / \b\b- \b\b\\ \b\b| \b\b/ \b\b- \b\b\\ \b\b| \b\b/ \b\b- \b\b\\ \b\b| \b\b/ \b\b- \b\b\\ \b\b| \b\b/ \b\b- \b\b\\ \b\b| \b\b/ \b\b- \b\b\\ \b\b| \b\b/ \b\b- \b\b\\ \b\b| \b\b/ \b\b- \b\b\\ \b\b| \b\b/ \b\b- \b\b\\ \b\b| \b\b/ \b\b- \b\b\\ \b\b| \b\b/ \b\b- \b\b\\ \b\b| \b\b/ \b\b- \b\b\\ \b\b| \b\b/ \b\b- \b\b\\ \b\b| \b\b/ \b\b- \b\b\\ \b\b| \b\b/ \b\b- \b\b\\ \b\b| \b\b/ \b\b- \b\b\\ \b\b| \b\b/ \b\b- \b\b\\ \b\b| \b\b/ \b\b- \b\b\\ \b\b| \b\b/ \b\b- \b\b\\ \b\b| \b\b/ \b\b- \b\b\\ \b\b| \b\b/ \b\b- \b\b\\ \b\b| \b\b/ \b\b- \b\b\\ \b\b| \b\b/ \b\b- \b\b\\ \b\b| \b\b/ \b\b- \b\b\\ \b\b| \b\b/ \b\b- \b\b\\ \b\b| \b\b/ \b\b- \b\b\\ \b\b| \b\b/ \b\b- \b\b\\ \b\b| \b\b/ \b\b- \b\b\\ \b\b| \b\b/ \b\b- \b\b\\ \b\b| \b\b/ \b\b- \b\b\\ \b\b| \b\b/ \b\b- \b\b\\ \b\b| \b\b/ \b\b- \b\b\\ \b\b| \b\b/ \b\b- \b\b\\ \b\b| \b\b/ \b\b- \b\b\\ \b\b| \b\b/ \b\b- \b\b\\ \b\b| \b\b/ \b\b- \b\b\\ \b\b| \b\b/ \b\b- \b\b\\ \b\b| \b\b/ \b\b- \b\b\\ \b\b| \b\b/ \b\b- \b\b\\ \b\b| \b\b/ \b\b- \b\b\\ \b\b| \b\b/ \b\b- \b\b\\ \b\b| \b\b/ \b\b- \b\b\\ \b\b| \b\b/ \b\b- \b\b\\ \b\b| \b\b/ \b\b- \b\b\\ \b\b| \b\b/ \b\b- \b\b\\ \b\b| \b\b/ \b\b- \b\b\\ \b\b| \b\b/ \b\b- \b\b\\ \b\b| \b\b/ \b\b- \b\b\\ \b\b| \b\b/ \b\b- \b\b\\ \b\b| \b\b/ \b\b- \b\b\\ \b\b| \b\b/ \b\b- \b\b\\ \b\b| \b\b/ \b\b- \b\b\\ \b\b| \b\b/ \b\b- \b\b\\ \b\b| \b\b/ \b\b- \b\b\\ \b\b| \b\b/ \b\b- \b\b\\ \b\b| \b\b/ \b\b- \b\b\\ \b\b| \b\b/ \b\b- \b\b\\ \b\b| \b\b/ \b\b- \b\b\\ \b\b| \b\b/ \b\b- \b\b\\ \b\b| \b\b/ \b\b- \b\b\\ \b\b| \b\b/ \b\b- \b\b\\ \b\b| \b\b/ \b\b- \b\b\\ \b\b| \b\b/ \b\b- \b\b\\ \b\b| \b\b/ \b\b- \b\b\\ \b\b| \b\b/ \b\b- \b\b\\ \b\b| \b\b/ \b\b- \b\b\\ \b\b| \b\b/ \b\b- \b\b\\ \b\b| \b\b/ \b\b- \b\b\\ \b\b| \b\b/ \b\b- \b\b\\ \b\b| \b\b/ \b\b- \b\b\\ \b\b| \b\b/ \b\b- \b\b\\ \b\b| \b\b/ \b\b- \b\b\\ \b\b| \b\b/ \b\b- \b\b\\ \b\b| \b\b/ \b\b- \b\b\\ \b\b| \b\b/ \b\b- \b\b\\ \b\b| \b\b/ \b\b- \b\b\\ \b\b| \b\b/ \b\b- \b\b\\ \b\b| \b\b/ \b\b- \b\b\\ \b\b| \b\b/ \b\b- \b\b\\ \b\b| \b\b/ \b\b- \b\b\\ \b\b| \b\b/ \b\b- \b\b\\ \b\b| \b\b/ \b\b- \b\b\\ \b\b| \b\b/ \b\b- \b\b\\ \b\b| \b\b/ \b\b- \b\b\\ \b\b| \b\b/ \b\b- \b\b\\ \b\b| \b\b/ \b\b- \b\b\\ \b\b| \b\b/ \b\b- \b\b\\ \b\b| \b\b/ \b\b- \b\b\\ \b\b| \b\b/ \b\b- \b\b\\ \b\b| \b\b/ \b\b- \b\b\\ \b\b| \b\b/ \b\b- \b\b\\ \b\b| \b\b/ \b\b- \b\b\\ \b\b| \b\b/ \b\b- \b\b\\ \b\b| \b\b/ \b\b- \b\b\\ \b\b| \b\b/ \b\b- \b\b\\ \b\b| \b\b/ \b\b- \b\b\\ \b\b| \b\b/ \b\b- \b\b\\ \b\b| \b\b/ \b\b- \b\b\\ \b\b| \b\b/ \b\b- \b\b\\ \b\b| \b\b/ \b\b- \b\b\\ \b\b| \b\b/ \b\b- \b\b\\ \b\b| \b\b/ \b\b- \b\b\\ \b\b| \b\b/ \b\b- \b\b\\ \b\b| \b\b/ \b\b- \b\b\\ \b\b| \b\b/ \b\b- \b\b\\ \b\b| \b\b/ \b\b- \b\b\\ \b\b| \b\b/ \b\b- \b\b\\ \b\b| \b\b/ \b\b- \b\b\\ \b\b| \b\b/ \b\b- \b\b\\ \b\b| \b\b/ \b\b- \b\b\\ \b\b| \b\b/ \b\b- \b\b\\ \b\b| \b\b/ \b\b- \b\b\\ \b\b| \b\b/ \b\b- \b\b\\ \b\b| \b\b/ \b\b- \b\b\\ \b\b| \b\b/ \b\b- \b\b\\ \b\b| \b\b/ \b\b- \b\b\\ \b\b| \b\b/ \b\b- \b\b\\ \b\b| \b\b/ \b\b- \b\b\\ \b\b| \b\b/ \b\b- \b\b\\ \b\b| \b\b/ \b\b- \b\b\\ \b\b| \b\b/ \b\b- \b\b\\ \b\b| \b\b/ \b\b- \b\b\\ \b\b| \b\b/ \b\b- \b\b\\ \b\b| \b\b/ \b\b- \b\b\\ \b\b| \b\b/ \b\b- \b\b\\ \b\b| \b\b/ \b\b- \b\b\\ \b\b| \b\b/ \b\b- \b\b\\ \b\b| \b\b/ \b\b- \b\b\\ \b\b| \b\b/ \b\b- \b\b\\ \b\b| \b\b/ \b\b- \b\b\\ \b\b| \b\b/ \b\b- \b\b\\ \b\b| \b\b/ \b\b- \b\b\\ \b\b| \b\b/ \b\b- \b\b\\ \b\b| \b\b/ \b\b- \b\b\\ \b\b| \b\b/ \b\b- \b\b\\ \b\b| \b\b/ \b\b- \b\b\\ \b\b| \b\b/ \b\b- \b\b\\ \b\b| \b\b/ \b\b- \b\b\\ \b\b| \b\b/ \b\b- \b\b\\ \b\b| \b\b/ \b\b- \b\b\\ \b\b| \b\b/ \b\b- \b\b\\ \b\b| \b\b/ \b\b- \b\b\\ \b\b| \b\b/ \b\b- \b\b\\ \b\b| \b\b/ \b\b- \b\b\\ \b\b| \b\b/ \b\b- \b\b\\ \b\b| \b\b/ \b\b- \b\b\\ \b\b| \b\b/ \b\b- \b\b\\ \b\b| \b\b/ \b\b- \b\b\\ \b\b| \b\b/ \b\b- \b\b\\ \b\b| \b\b/ \b\b- \b\b\\ \b\b| \b\b/ \b\b- \b\b\\ \b\b| \b\b/ \b\b- \b\b\\ \b\b| \b\b/ \b\b- \b\b\\ \b\b| \b\b/ \b\b- \b\b\\ \b\b| \b\b/ \b\b- \b\b\\ \b\b| \b\b/ \b\b- \b\b\\ \b\b| \b\b/ \b\b- \b\b\\ \b\b| \b\b/ \b\b- \b\b\\ \b\b| \b\b/ \b\b- \b\b\\ \b\b| \b\b/ \b\b- \b\b\\ \b\b| \b\b/ \b\b- \b\b\\ \b\b| \b\b/ \b\b- \b\b\\ \b\b| \b\b/ \b\b- \b\b\\ \b\b| \b\b/ \b\b- \b\b\\ \b\b| \b\b/ \b\b- \b\b\\ \b\b| \b\b/ \b\b- \b\b\\ \b\b| \b\b/ \b\b- \b\b\\ \b\b| \b\b/ \b\b- \b\b\\ \b\b| \b\b/ \b\b- \b\b\\ \b\b| \b\b/ \b\b- \b\b\\ \b\b| \b\b/ \b\b- \b\b\\ \b\b| \b\b/ \b\b- \b\b\\ \b\b| \b\b/ \b\b- \b\b\\ \b\b| \b\b/ \b\b- \b\b\\ \b\b| \b\b/ \b\b- \b\b\\ \b\b| \b\b/ \b\b- \b\b\\ \b\b| \b\b/ \b\b- \b\b\\ \b\b| \b\b/ \b\b- \b\b\\ \b\b| \b\b/ \b\b- \b\b\\ \b\b| \b\b/ \b\b- \b\b\\ \b\b| \b\b/ \b\b- \b\b\\ \b\b| \b\b/ \b\b- \b\b\\ \b\b| \b\b/ \b\b- \b\b\\ \b\b| \b\b/ \b\b- \b\b\\ \b\b| \b\b/ \b\b- \b\b\\ \b\b| \b\b/ \b\b- \b\b\\ \b\b| \b\b/ \b\b- \b\b\\ \b\b| \b\b/ \b\b- \b\b\\ \b\b| \b\b/ \b\b- \b\b\\ \b\bdone\n",
            "Copying shared object files to /usr/lib\n",
            "Copying RAPIDS compatible xgboost\n",
            "\n",
            "************************************************\n",
            "Your Google Colab instance has RAPIDS installed!\n",
            "************************************************\n",
            "***********************************************************************\n",
            "Let us check on those pyarrow and cffi versions...\n",
            "***********************************************************************\n",
            "\n",
            "unloaded pyarrow 0.14.1\n",
            "unloaded pyarrow 0.14.1\n",
            "unloaded pyarrow 0.14.1\n",
            "unloaded pyarrow 0.14.1\n",
            "unloaded pyarrow 0.14.1\n",
            "unloaded pyarrow 0.14.1\n",
            "unloaded pyarrow 0.14.1\n",
            "unloaded pyarrow 0.14.1\n",
            "unloaded pyarrow 0.14.1\n",
            "unloaded pyarrow 0.14.1\n",
            "unloaded pyarrow 0.14.1\n",
            "unloaded pyarrow 0.14.1\n",
            "loaded pyarrow 0.15.0\n",
            "You're now running pyarrow 0.15.0 and are good to go!\n",
            "unloaded cffi 1.14.0\n",
            "loaded cffi 1.11.5\n"
          ],
          "name": "stdout"
        }
      ]
    },
    {
      "cell_type": "markdown",
      "metadata": {
        "id": "X-cp_kAxCAY2",
        "colab_type": "text"
      },
      "source": [
        "# Amazon Fine Food Reviews Analysis\n",
        "\n",
        "\n",
        "Data Source: https://www.kaggle.com/snap/amazon-fine-food-reviews <br>\n",
        "\n",
        "EDA: https://nycdatascience.com/blog/student-works/amazon-fine-foods-visualization/\n",
        "\n",
        "\n",
        "The Amazon Fine Food Reviews dataset consists of reviews of fine foods from Amazon.<br>\n",
        "\n",
        "Number of reviews: 568,454<br>\n",
        "Number of users: 256,059<br>\n",
        "Number of products: 74,258<br>\n",
        "Timespan: Oct 1999 - Oct 2012<br>\n",
        "Number of Attributes/Columns in data: 10 \n",
        "\n",
        "Attribute Information:\n",
        "\n",
        "1. Id\n",
        "2. ProductId - unique identifier for the product\n",
        "3. UserId - unqiue identifier for the user\n",
        "4. ProfileName\n",
        "5. HelpfulnessNumerator - number of users who found the review helpful\n",
        "6. HelpfulnessDenominator - number of users who indicated whether they found the review helpful or not\n",
        "7. Score - rating between 1 and 5\n",
        "8. Time - timestamp for the review\n",
        "9. Summary - brief summary of the review\n",
        "10. Text - text of the review\n",
        "\n",
        "\n",
        "#### Objective:\n",
        "Given a review, determine whether the review is positive (Rating of 4 or 5) or negative (rating of 1 or 2).\n",
        "\n",
        "<br>\n",
        "[Q] How to determine if a review is positive or negative?<br>\n",
        "<br> \n",
        "[Ans] We could use the Score/Rating. A rating of 4 or 5 could be cosnidered a positive review. A review of 1 or 2 could be considered negative. A review of 3 is nuetral and ignored. This is an approximate and proxy way of determining the polarity (positivity/negativity) of a review.\n",
        "\n",
        "\n"
      ]
    },
    {
      "cell_type": "markdown",
      "metadata": {
        "id": "WHC_UQTuCAY4",
        "colab_type": "text"
      },
      "source": [
        "## Loading the data\n",
        "\n",
        "The dataset is available in two forms\n",
        "1. .csv file\n",
        "2. SQLite Database\n",
        "\n",
        "In order to load the data, We have used the SQLITE dataset as it easier to query the data and visualise the data efficiently.\n",
        "<br> \n",
        "\n",
        "Here as we only want to get the global sentiment of the recommendations (positive or negative), we will purposefully ignore all Scores equal to 3. If the score id above 3, then the recommendation wil be set to \"positive\". Otherwise, it will be set to \"negative\"."
      ]
    },
    {
      "cell_type": "code",
      "metadata": {
        "id": "PvDdRsHgCAY5",
        "colab_type": "code",
        "colab": {}
      },
      "source": [
        "%matplotlib inline\n",
        "import warnings\n",
        "warnings.filterwarnings(\"ignore\")\n",
        "\n",
        "\n",
        "import seaborn as sn\n",
        "import sqlite3\n",
        "import pandas as pd\n",
        "import numpy as np\n",
        "import nltk\n",
        "import string\n",
        "import matplotlib.pyplot as plt\n",
        "import seaborn as sns\n",
        "from sklearn.feature_extraction.text import TfidfTransformer\n",
        "from sklearn.feature_extraction.text import TfidfVectorizer\n",
        "\n",
        "from sklearn.feature_extraction.text import CountVectorizer\n",
        "from sklearn.metrics import confusion_matrix\n",
        "from sklearn import metrics\n",
        "from sklearn.metrics import roc_curve, auc\n",
        "from nltk.stem.porter import PorterStemmer\n",
        "\n",
        "import re\n",
        "# Tutorial about Python regular expressions: https://pymotw.com/2/re/\n",
        "import string\n",
        "from nltk.corpus import stopwords\n",
        "from nltk.stem import PorterStemmer\n",
        "from nltk.stem.wordnet import WordNetLemmatizer\n",
        "\n",
        "from gensim.models import Word2Vec\n",
        "from gensim.models import KeyedVectors\n",
        "import pickle\n",
        "\n",
        "from tqdm import tqdm\n",
        "import os"
      ],
      "execution_count": 0,
      "outputs": []
    },
    {
      "cell_type": "markdown",
      "metadata": {
        "id": "QOI7X2YgCAY_",
        "colab_type": "text"
      },
      "source": [
        "# [1]. Reading Data"
      ]
    },
    {
      "cell_type": "code",
      "metadata": {
        "id": "3iYH2p1ECAZA",
        "colab_type": "code",
        "outputId": "ab46158e-47e8-4a06-cf72-e1e71bbd9166",
        "colab": {
          "base_uri": "https://localhost:8080/",
          "height": 459
        }
      },
      "source": [
        "\n",
        "# using the SQLite Table to read data.\n",
        "con = sqlite3.connect('database.sqlite') \n",
        "#filtering only positive and negative reviews i.e. \n",
        "# not taking into consideration those reviews with Score=3\n",
        "# SELECT * FROM Reviews WHERE Score != 3 LIMIT 500000, will give top 500000 data points\n",
        "# you can change the number to any other number based on your computing power\n",
        "\n",
        "# filtered_data = pd.read_sql_query(\"\"\" SELECT * FROM Reviews WHERE Score != 3 LIMIT 500000\"\"\", con) \n",
        "# for tsne assignment you can take 5k data points\n",
        "\n",
        "filtered_data = pd.read_sql_query(\"\"\" SELECT * FROM Reviews WHERE Score != 3 LIMIT 5000\"\"\", con) \n",
        "\n",
        "# Give reviews with Score>3 a positive rating, and reviews with a score<3 a negative rating.\n",
        "def partition(x):\n",
        "    if x < 3:\n",
        "        return 0\n",
        "    return 1\n",
        "\n",
        "#changing reviews with score less than 3 to be positive and vice-versa\n",
        "actualScore = filtered_data['Score']\n",
        "positiveNegative = actualScore.map(partition) \n",
        "filtered_data['Score'] = positiveNegative\n",
        "print(\"Number of data points in our data\", filtered_data.shape)\n",
        "filtered_data.head(3)"
      ],
      "execution_count": 8,
      "outputs": [
        {
          "output_type": "stream",
          "text": [
            "Number of data points in our data (5000, 10)\n"
          ],
          "name": "stdout"
        },
        {
          "output_type": "execute_result",
          "data": {
            "text/html": [
              "<div>\n",
              "<style scoped>\n",
              "    .dataframe tbody tr th:only-of-type {\n",
              "        vertical-align: middle;\n",
              "    }\n",
              "\n",
              "    .dataframe tbody tr th {\n",
              "        vertical-align: top;\n",
              "    }\n",
              "\n",
              "    .dataframe thead th {\n",
              "        text-align: right;\n",
              "    }\n",
              "</style>\n",
              "<table border=\"1\" class=\"dataframe\">\n",
              "  <thead>\n",
              "    <tr style=\"text-align: right;\">\n",
              "      <th></th>\n",
              "      <th>Id</th>\n",
              "      <th>ProductId</th>\n",
              "      <th>UserId</th>\n",
              "      <th>ProfileName</th>\n",
              "      <th>HelpfulnessNumerator</th>\n",
              "      <th>HelpfulnessDenominator</th>\n",
              "      <th>Score</th>\n",
              "      <th>Time</th>\n",
              "      <th>Summary</th>\n",
              "      <th>Text</th>\n",
              "    </tr>\n",
              "  </thead>\n",
              "  <tbody>\n",
              "    <tr>\n",
              "      <th>0</th>\n",
              "      <td>1</td>\n",
              "      <td>B001E4KFG0</td>\n",
              "      <td>A3SGXH7AUHU8GW</td>\n",
              "      <td>delmartian</td>\n",
              "      <td>1</td>\n",
              "      <td>1</td>\n",
              "      <td>1</td>\n",
              "      <td>1303862400</td>\n",
              "      <td>Good Quality Dog Food</td>\n",
              "      <td>I have bought several of the Vitality canned d...</td>\n",
              "    </tr>\n",
              "    <tr>\n",
              "      <th>1</th>\n",
              "      <td>2</td>\n",
              "      <td>B00813GRG4</td>\n",
              "      <td>A1D87F6ZCVE5NK</td>\n",
              "      <td>dll pa</td>\n",
              "      <td>0</td>\n",
              "      <td>0</td>\n",
              "      <td>0</td>\n",
              "      <td>1346976000</td>\n",
              "      <td>Not as Advertised</td>\n",
              "      <td>Product arrived labeled as Jumbo Salted Peanut...</td>\n",
              "    </tr>\n",
              "    <tr>\n",
              "      <th>2</th>\n",
              "      <td>3</td>\n",
              "      <td>B000LQOCH0</td>\n",
              "      <td>ABXLMWJIXXAIN</td>\n",
              "      <td>Natalia Corres \"Natalia Corres\"</td>\n",
              "      <td>1</td>\n",
              "      <td>1</td>\n",
              "      <td>1</td>\n",
              "      <td>1219017600</td>\n",
              "      <td>\"Delight\" says it all</td>\n",
              "      <td>This is a confection that has been around a fe...</td>\n",
              "    </tr>\n",
              "  </tbody>\n",
              "</table>\n",
              "</div>"
            ],
            "text/plain": [
              "   Id  ...                                               Text\n",
              "0   1  ...  I have bought several of the Vitality canned d...\n",
              "1   2  ...  Product arrived labeled as Jumbo Salted Peanut...\n",
              "2   3  ...  This is a confection that has been around a fe...\n",
              "\n",
              "[3 rows x 10 columns]"
            ]
          },
          "metadata": {
            "tags": []
          },
          "execution_count": 8
        }
      ]
    },
    {
      "cell_type": "code",
      "metadata": {
        "id": "I1jf03kECAZF",
        "colab_type": "code",
        "colab": {}
      },
      "source": [
        "display = pd.read_sql_query(\"\"\"\n",
        "SELECT UserId, ProductId, ProfileName, Time, Score, Text, COUNT(*)\n",
        "FROM Reviews\n",
        "GROUP BY UserId\n",
        "HAVING COUNT(*)>1\n",
        "\"\"\", con)"
      ],
      "execution_count": 0,
      "outputs": []
    },
    {
      "cell_type": "code",
      "metadata": {
        "id": "Ja8xSefOCAZH",
        "colab_type": "code",
        "outputId": "784a2791-829f-4e60-c4f1-045c071e2363",
        "colab": {
          "base_uri": "https://localhost:8080/",
          "height": 310
        }
      },
      "source": [
        "print(display.shape)\n",
        "display.head()"
      ],
      "execution_count": 10,
      "outputs": [
        {
          "output_type": "stream",
          "text": [
            "(80668, 7)\n"
          ],
          "name": "stdout"
        },
        {
          "output_type": "execute_result",
          "data": {
            "text/html": [
              "<div>\n",
              "<style scoped>\n",
              "    .dataframe tbody tr th:only-of-type {\n",
              "        vertical-align: middle;\n",
              "    }\n",
              "\n",
              "    .dataframe tbody tr th {\n",
              "        vertical-align: top;\n",
              "    }\n",
              "\n",
              "    .dataframe thead th {\n",
              "        text-align: right;\n",
              "    }\n",
              "</style>\n",
              "<table border=\"1\" class=\"dataframe\">\n",
              "  <thead>\n",
              "    <tr style=\"text-align: right;\">\n",
              "      <th></th>\n",
              "      <th>UserId</th>\n",
              "      <th>ProductId</th>\n",
              "      <th>ProfileName</th>\n",
              "      <th>Time</th>\n",
              "      <th>Score</th>\n",
              "      <th>Text</th>\n",
              "      <th>COUNT(*)</th>\n",
              "    </tr>\n",
              "  </thead>\n",
              "  <tbody>\n",
              "    <tr>\n",
              "      <th>0</th>\n",
              "      <td>#oc-R115TNMSPFT9I7</td>\n",
              "      <td>B007Y59HVM</td>\n",
              "      <td>Breyton</td>\n",
              "      <td>1331510400</td>\n",
              "      <td>2</td>\n",
              "      <td>Overall its just OK when considering the price...</td>\n",
              "      <td>2</td>\n",
              "    </tr>\n",
              "    <tr>\n",
              "      <th>1</th>\n",
              "      <td>#oc-R11D9D7SHXIJB9</td>\n",
              "      <td>B005HG9ET0</td>\n",
              "      <td>Louis E. Emory \"hoppy\"</td>\n",
              "      <td>1342396800</td>\n",
              "      <td>5</td>\n",
              "      <td>My wife has recurring extreme muscle spasms, u...</td>\n",
              "      <td>3</td>\n",
              "    </tr>\n",
              "    <tr>\n",
              "      <th>2</th>\n",
              "      <td>#oc-R11DNU2NBKQ23Z</td>\n",
              "      <td>B007Y59HVM</td>\n",
              "      <td>Kim Cieszykowski</td>\n",
              "      <td>1348531200</td>\n",
              "      <td>1</td>\n",
              "      <td>This coffee is horrible and unfortunately not ...</td>\n",
              "      <td>2</td>\n",
              "    </tr>\n",
              "    <tr>\n",
              "      <th>3</th>\n",
              "      <td>#oc-R11O5J5ZVQE25C</td>\n",
              "      <td>B005HG9ET0</td>\n",
              "      <td>Penguin Chick</td>\n",
              "      <td>1346889600</td>\n",
              "      <td>5</td>\n",
              "      <td>This will be the bottle that you grab from the...</td>\n",
              "      <td>3</td>\n",
              "    </tr>\n",
              "    <tr>\n",
              "      <th>4</th>\n",
              "      <td>#oc-R12KPBODL2B5ZD</td>\n",
              "      <td>B007OSBE1U</td>\n",
              "      <td>Christopher P. Presta</td>\n",
              "      <td>1348617600</td>\n",
              "      <td>1</td>\n",
              "      <td>I didnt like this coffee. Instead of telling y...</td>\n",
              "      <td>2</td>\n",
              "    </tr>\n",
              "  </tbody>\n",
              "</table>\n",
              "</div>"
            ],
            "text/plain": [
              "               UserId  ... COUNT(*)\n",
              "0  #oc-R115TNMSPFT9I7  ...        2\n",
              "1  #oc-R11D9D7SHXIJB9  ...        3\n",
              "2  #oc-R11DNU2NBKQ23Z  ...        2\n",
              "3  #oc-R11O5J5ZVQE25C  ...        3\n",
              "4  #oc-R12KPBODL2B5ZD  ...        2\n",
              "\n",
              "[5 rows x 7 columns]"
            ]
          },
          "metadata": {
            "tags": []
          },
          "execution_count": 10
        }
      ]
    },
    {
      "cell_type": "code",
      "metadata": {
        "id": "u5ctUTW-CAZK",
        "colab_type": "code",
        "outputId": "e4559529-bdc4-4b3b-fb40-e044b24323a4",
        "colab": {
          "base_uri": "https://localhost:8080/",
          "height": 98
        }
      },
      "source": [
        "display[display['UserId']=='AZY10LLTJ71NX']"
      ],
      "execution_count": 11,
      "outputs": [
        {
          "output_type": "execute_result",
          "data": {
            "text/html": [
              "<div>\n",
              "<style scoped>\n",
              "    .dataframe tbody tr th:only-of-type {\n",
              "        vertical-align: middle;\n",
              "    }\n",
              "\n",
              "    .dataframe tbody tr th {\n",
              "        vertical-align: top;\n",
              "    }\n",
              "\n",
              "    .dataframe thead th {\n",
              "        text-align: right;\n",
              "    }\n",
              "</style>\n",
              "<table border=\"1\" class=\"dataframe\">\n",
              "  <thead>\n",
              "    <tr style=\"text-align: right;\">\n",
              "      <th></th>\n",
              "      <th>UserId</th>\n",
              "      <th>ProductId</th>\n",
              "      <th>ProfileName</th>\n",
              "      <th>Time</th>\n",
              "      <th>Score</th>\n",
              "      <th>Text</th>\n",
              "      <th>COUNT(*)</th>\n",
              "    </tr>\n",
              "  </thead>\n",
              "  <tbody>\n",
              "    <tr>\n",
              "      <th>80638</th>\n",
              "      <td>AZY10LLTJ71NX</td>\n",
              "      <td>B006P7E5ZI</td>\n",
              "      <td>undertheshrine \"undertheshrine\"</td>\n",
              "      <td>1334707200</td>\n",
              "      <td>5</td>\n",
              "      <td>I was recommended to try green tea extract to ...</td>\n",
              "      <td>5</td>\n",
              "    </tr>\n",
              "  </tbody>\n",
              "</table>\n",
              "</div>"
            ],
            "text/plain": [
              "              UserId  ... COUNT(*)\n",
              "80638  AZY10LLTJ71NX  ...        5\n",
              "\n",
              "[1 rows x 7 columns]"
            ]
          },
          "metadata": {
            "tags": []
          },
          "execution_count": 11
        }
      ]
    },
    {
      "cell_type": "code",
      "metadata": {
        "id": "tiaXnkZxCAZO",
        "colab_type": "code",
        "outputId": "a661bcd8-ec40-4fe4-df65-9e40a035baac",
        "colab": {
          "base_uri": "https://localhost:8080/",
          "height": 34
        }
      },
      "source": [
        "display['COUNT(*)'].sum()"
      ],
      "execution_count": 12,
      "outputs": [
        {
          "output_type": "execute_result",
          "data": {
            "text/plain": [
              "393063"
            ]
          },
          "metadata": {
            "tags": []
          },
          "execution_count": 12
        }
      ]
    },
    {
      "cell_type": "markdown",
      "metadata": {
        "id": "TX5b3dc5CAZS",
        "colab_type": "text"
      },
      "source": [
        "#  Exploratory Data Analysis\n",
        "\n",
        "## [2] Data Cleaning: Deduplication\n",
        "\n",
        "It is observed (as shown in the table below) that the reviews data had many duplicate entries. Hence it was necessary to remove duplicates in order to get unbiased results for the analysis of the data.  Following is an example:"
      ]
    },
    {
      "cell_type": "code",
      "metadata": {
        "scrolled": false,
        "id": "4jW_0WxCCAZT",
        "colab_type": "code",
        "outputId": "126fd199-223c-413b-d855-1a9b6651c872",
        "colab": {
          "base_uri": "https://localhost:8080/",
          "height": 574
        }
      },
      "source": [
        "display= pd.read_sql_query(\"\"\"\n",
        "SELECT *\n",
        "FROM Reviews\n",
        "WHERE Score != 3 AND UserId=\"AR5J8UI46CURR\"\n",
        "ORDER BY ProductID\n",
        "\"\"\", con)\n",
        "display.head()"
      ],
      "execution_count": 13,
      "outputs": [
        {
          "output_type": "execute_result",
          "data": {
            "text/html": [
              "<div>\n",
              "<style scoped>\n",
              "    .dataframe tbody tr th:only-of-type {\n",
              "        vertical-align: middle;\n",
              "    }\n",
              "\n",
              "    .dataframe tbody tr th {\n",
              "        vertical-align: top;\n",
              "    }\n",
              "\n",
              "    .dataframe thead th {\n",
              "        text-align: right;\n",
              "    }\n",
              "</style>\n",
              "<table border=\"1\" class=\"dataframe\">\n",
              "  <thead>\n",
              "    <tr style=\"text-align: right;\">\n",
              "      <th></th>\n",
              "      <th>Id</th>\n",
              "      <th>ProductId</th>\n",
              "      <th>UserId</th>\n",
              "      <th>ProfileName</th>\n",
              "      <th>HelpfulnessNumerator</th>\n",
              "      <th>HelpfulnessDenominator</th>\n",
              "      <th>Score</th>\n",
              "      <th>Time</th>\n",
              "      <th>Summary</th>\n",
              "      <th>Text</th>\n",
              "    </tr>\n",
              "  </thead>\n",
              "  <tbody>\n",
              "    <tr>\n",
              "      <th>0</th>\n",
              "      <td>78445</td>\n",
              "      <td>B000HDL1RQ</td>\n",
              "      <td>AR5J8UI46CURR</td>\n",
              "      <td>Geetha Krishnan</td>\n",
              "      <td>2</td>\n",
              "      <td>2</td>\n",
              "      <td>5</td>\n",
              "      <td>1199577600</td>\n",
              "      <td>LOACKER QUADRATINI VANILLA WAFERS</td>\n",
              "      <td>DELICIOUS WAFERS. I FIND THAT EUROPEAN WAFERS ...</td>\n",
              "    </tr>\n",
              "    <tr>\n",
              "      <th>1</th>\n",
              "      <td>138317</td>\n",
              "      <td>B000HDOPYC</td>\n",
              "      <td>AR5J8UI46CURR</td>\n",
              "      <td>Geetha Krishnan</td>\n",
              "      <td>2</td>\n",
              "      <td>2</td>\n",
              "      <td>5</td>\n",
              "      <td>1199577600</td>\n",
              "      <td>LOACKER QUADRATINI VANILLA WAFERS</td>\n",
              "      <td>DELICIOUS WAFERS. I FIND THAT EUROPEAN WAFERS ...</td>\n",
              "    </tr>\n",
              "    <tr>\n",
              "      <th>2</th>\n",
              "      <td>138277</td>\n",
              "      <td>B000HDOPYM</td>\n",
              "      <td>AR5J8UI46CURR</td>\n",
              "      <td>Geetha Krishnan</td>\n",
              "      <td>2</td>\n",
              "      <td>2</td>\n",
              "      <td>5</td>\n",
              "      <td>1199577600</td>\n",
              "      <td>LOACKER QUADRATINI VANILLA WAFERS</td>\n",
              "      <td>DELICIOUS WAFERS. I FIND THAT EUROPEAN WAFERS ...</td>\n",
              "    </tr>\n",
              "    <tr>\n",
              "      <th>3</th>\n",
              "      <td>73791</td>\n",
              "      <td>B000HDOPZG</td>\n",
              "      <td>AR5J8UI46CURR</td>\n",
              "      <td>Geetha Krishnan</td>\n",
              "      <td>2</td>\n",
              "      <td>2</td>\n",
              "      <td>5</td>\n",
              "      <td>1199577600</td>\n",
              "      <td>LOACKER QUADRATINI VANILLA WAFERS</td>\n",
              "      <td>DELICIOUS WAFERS. I FIND THAT EUROPEAN WAFERS ...</td>\n",
              "    </tr>\n",
              "    <tr>\n",
              "      <th>4</th>\n",
              "      <td>155049</td>\n",
              "      <td>B000PAQ75C</td>\n",
              "      <td>AR5J8UI46CURR</td>\n",
              "      <td>Geetha Krishnan</td>\n",
              "      <td>2</td>\n",
              "      <td>2</td>\n",
              "      <td>5</td>\n",
              "      <td>1199577600</td>\n",
              "      <td>LOACKER QUADRATINI VANILLA WAFERS</td>\n",
              "      <td>DELICIOUS WAFERS. I FIND THAT EUROPEAN WAFERS ...</td>\n",
              "    </tr>\n",
              "  </tbody>\n",
              "</table>\n",
              "</div>"
            ],
            "text/plain": [
              "       Id  ...                                               Text\n",
              "0   78445  ...  DELICIOUS WAFERS. I FIND THAT EUROPEAN WAFERS ...\n",
              "1  138317  ...  DELICIOUS WAFERS. I FIND THAT EUROPEAN WAFERS ...\n",
              "2  138277  ...  DELICIOUS WAFERS. I FIND THAT EUROPEAN WAFERS ...\n",
              "3   73791  ...  DELICIOUS WAFERS. I FIND THAT EUROPEAN WAFERS ...\n",
              "4  155049  ...  DELICIOUS WAFERS. I FIND THAT EUROPEAN WAFERS ...\n",
              "\n",
              "[5 rows x 10 columns]"
            ]
          },
          "metadata": {
            "tags": []
          },
          "execution_count": 13
        }
      ]
    },
    {
      "cell_type": "markdown",
      "metadata": {
        "id": "BzVTlHiMCAZV",
        "colab_type": "text"
      },
      "source": [
        "As can be seen above the same user has multiple reviews of the with the same values for HelpfulnessNumerator, HelpfulnessDenominator, Score, Time, Summary and Text  and on doing analysis it was found that <br>\n",
        "<br> \n",
        "ProductId=B000HDOPZG was Loacker Quadratini Vanilla Wafer Cookies, 8.82-Ounce Packages (Pack of 8)<br>\n",
        "<br> \n",
        "ProductId=B000HDL1RQ was Loacker Quadratini Lemon Wafer Cookies, 8.82-Ounce Packages (Pack of 8) and so on<br>\n",
        "\n",
        "It was inferred after analysis that reviews with same parameters other than ProductId belonged to the same product just having different flavour or quantity. Hence in order to reduce redundancy it was decided to eliminate the rows having same parameters.<br>\n",
        "\n",
        "The method used for the same was that we first sort the data according to ProductId and then just keep the first similar product review and delelte the others. for eg. in the above just the review for ProductId=B000HDL1RQ remains. This method ensures that there is only one representative for each product and deduplication without sorting would lead to possibility of different representatives still existing for the same product."
      ]
    },
    {
      "cell_type": "code",
      "metadata": {
        "id": "DGy2NM7BCAZX",
        "colab_type": "code",
        "colab": {}
      },
      "source": [
        "#Sorting data according to ProductId in ascending order\n",
        "sorted_data=filtered_data.sort_values('ProductId', axis=0, ascending=True, inplace=False, kind='quicksort', na_position='last')"
      ],
      "execution_count": 0,
      "outputs": []
    },
    {
      "cell_type": "code",
      "metadata": {
        "id": "8b-O13XVCAZZ",
        "colab_type": "code",
        "outputId": "fe5626d3-fba3-4a85-bc06-df63aca21f39",
        "colab": {
          "base_uri": "https://localhost:8080/",
          "height": 34
        }
      },
      "source": [
        "#Deduplication of entries\n",
        "final=sorted_data.drop_duplicates(subset={\"UserId\",\"ProfileName\",\"Time\",\"Text\"}, keep='first', inplace=False)\n",
        "final.shape"
      ],
      "execution_count": 15,
      "outputs": [
        {
          "output_type": "execute_result",
          "data": {
            "text/plain": [
              "(4986, 10)"
            ]
          },
          "metadata": {
            "tags": []
          },
          "execution_count": 15
        }
      ]
    },
    {
      "cell_type": "code",
      "metadata": {
        "id": "S72Yh-rHCAZc",
        "colab_type": "code",
        "outputId": "f03c87a4-a934-4067-c3c2-a31c29e94ff0",
        "colab": {
          "base_uri": "https://localhost:8080/",
          "height": 34
        }
      },
      "source": [
        "#Checking to see how much % of data still remains\n",
        "(final['Id'].size*1.0)/(filtered_data['Id'].size*1.0)*100"
      ],
      "execution_count": 16,
      "outputs": [
        {
          "output_type": "execute_result",
          "data": {
            "text/plain": [
              "99.72"
            ]
          },
          "metadata": {
            "tags": []
          },
          "execution_count": 16
        }
      ]
    },
    {
      "cell_type": "markdown",
      "metadata": {
        "id": "LO5nLKeFCAZf",
        "colab_type": "text"
      },
      "source": [
        "<b>Observation:-</b> It was also seen that in two rows given below the value of HelpfulnessNumerator is greater than HelpfulnessDenominator which is not practically possible hence these two rows too are removed from calcualtions"
      ]
    },
    {
      "cell_type": "code",
      "metadata": {
        "id": "L9z5lrsiCAZh",
        "colab_type": "code",
        "outputId": "76370c1f-5398-4182-fbbe-5a0badd29c70",
        "colab": {
          "base_uri": "https://localhost:8080/",
          "height": 341
        }
      },
      "source": [
        "display= pd.read_sql_query(\"\"\"\n",
        "SELECT *\n",
        "FROM Reviews\n",
        "WHERE Score != 3 AND Id=44737 OR Id=64422\n",
        "ORDER BY ProductID\n",
        "\"\"\", con)\n",
        "\n",
        "display.head()"
      ],
      "execution_count": 17,
      "outputs": [
        {
          "output_type": "execute_result",
          "data": {
            "text/html": [
              "<div>\n",
              "<style scoped>\n",
              "    .dataframe tbody tr th:only-of-type {\n",
              "        vertical-align: middle;\n",
              "    }\n",
              "\n",
              "    .dataframe tbody tr th {\n",
              "        vertical-align: top;\n",
              "    }\n",
              "\n",
              "    .dataframe thead th {\n",
              "        text-align: right;\n",
              "    }\n",
              "</style>\n",
              "<table border=\"1\" class=\"dataframe\">\n",
              "  <thead>\n",
              "    <tr style=\"text-align: right;\">\n",
              "      <th></th>\n",
              "      <th>Id</th>\n",
              "      <th>ProductId</th>\n",
              "      <th>UserId</th>\n",
              "      <th>ProfileName</th>\n",
              "      <th>HelpfulnessNumerator</th>\n",
              "      <th>HelpfulnessDenominator</th>\n",
              "      <th>Score</th>\n",
              "      <th>Time</th>\n",
              "      <th>Summary</th>\n",
              "      <th>Text</th>\n",
              "    </tr>\n",
              "  </thead>\n",
              "  <tbody>\n",
              "    <tr>\n",
              "      <th>0</th>\n",
              "      <td>64422</td>\n",
              "      <td>B000MIDROQ</td>\n",
              "      <td>A161DK06JJMCYF</td>\n",
              "      <td>J. E. Stephens \"Jeanne\"</td>\n",
              "      <td>3</td>\n",
              "      <td>1</td>\n",
              "      <td>5</td>\n",
              "      <td>1224892800</td>\n",
              "      <td>Bought This for My Son at College</td>\n",
              "      <td>My son loves spaghetti so I didn't hesitate or...</td>\n",
              "    </tr>\n",
              "    <tr>\n",
              "      <th>1</th>\n",
              "      <td>44737</td>\n",
              "      <td>B001EQ55RW</td>\n",
              "      <td>A2V0I904FH7ABY</td>\n",
              "      <td>Ram</td>\n",
              "      <td>3</td>\n",
              "      <td>2</td>\n",
              "      <td>4</td>\n",
              "      <td>1212883200</td>\n",
              "      <td>Pure cocoa taste with crunchy almonds inside</td>\n",
              "      <td>It was almost a 'love at first bite' - the per...</td>\n",
              "    </tr>\n",
              "  </tbody>\n",
              "</table>\n",
              "</div>"
            ],
            "text/plain": [
              "      Id  ...                                               Text\n",
              "0  64422  ...  My son loves spaghetti so I didn't hesitate or...\n",
              "1  44737  ...  It was almost a 'love at first bite' - the per...\n",
              "\n",
              "[2 rows x 10 columns]"
            ]
          },
          "metadata": {
            "tags": []
          },
          "execution_count": 17
        }
      ]
    },
    {
      "cell_type": "code",
      "metadata": {
        "id": "8Tphk1piCAZk",
        "colab_type": "code",
        "colab": {}
      },
      "source": [
        "final=final[final.HelpfulnessNumerator<=final.HelpfulnessDenominator]"
      ],
      "execution_count": 0,
      "outputs": []
    },
    {
      "cell_type": "code",
      "metadata": {
        "id": "8TpsGDdJCAZm",
        "colab_type": "code",
        "outputId": "ebd6b569-085b-4b69-e61d-d1f0b071043a",
        "colab": {
          "base_uri": "https://localhost:8080/",
          "height": 86
        }
      },
      "source": [
        "#Before starting the next phase of preprocessing lets see the number of entries left\n",
        "print(final.shape)\n",
        "\n",
        "#How many positive and negative reviews are present in our dataset?\n",
        "final['Score'].value_counts()"
      ],
      "execution_count": 20,
      "outputs": [
        {
          "output_type": "stream",
          "text": [
            "(4986, 10)\n"
          ],
          "name": "stdout"
        },
        {
          "output_type": "execute_result",
          "data": {
            "text/plain": [
              "1    4178\n",
              "0     808\n",
              "Name: Score, dtype: int64"
            ]
          },
          "metadata": {
            "tags": []
          },
          "execution_count": 20
        }
      ]
    },
    {
      "cell_type": "markdown",
      "metadata": {
        "id": "RxBsuBylCAZr",
        "colab_type": "text"
      },
      "source": [
        "# [3].  Text Preprocessing.\n",
        "\n",
        "Now that we have finished deduplication our data requires some preprocessing before we go on further with analysis and making the prediction model.\n",
        "\n",
        "Hence in the Preprocessing phase we do the following in the order below:-\n",
        "\n",
        "1. Begin by removing the html tags\n",
        "2. Remove any punctuations or limited set of special characters like , or . or # etc.\n",
        "3. Check if the word is made up of english letters and is not alpha-numeric\n",
        "4. Check to see if the length of the word is greater than 2 (as it was researched that there is no adjective in 2-letters)\n",
        "5. Convert the word to lowercase\n",
        "6. Remove Stopwords\n",
        "7. Finally Snowball Stemming the word (it was obsereved to be better than Porter Stemming)<br>\n",
        "\n",
        "After which we collect the words used to describe positive and negative reviews"
      ]
    },
    {
      "cell_type": "code",
      "metadata": {
        "id": "laOGMFB7CAZt",
        "colab_type": "code",
        "outputId": "2c732d67-0df9-4fcf-b847-b0566dafb789",
        "colab": {
          "base_uri": "https://localhost:8080/",
          "height": 176
        }
      },
      "source": [
        "# printing some random reviews\n",
        "sent_0 = final['Text'].values[0]\n",
        "print(sent_0)\n",
        "print(\"=\"*50)\n",
        "\n",
        "sent_1000 = final['Text'].values[1000]\n",
        "print(sent_1000)\n",
        "print(\"=\"*50)\n",
        "\n",
        "sent_1500 = final['Text'].values[1500]\n",
        "print(sent_1500)\n",
        "print(\"=\"*50)\n",
        "\n",
        "sent_4900 = final['Text'].values[4900]\n",
        "print(sent_4900)\n",
        "print(\"=\"*50)"
      ],
      "execution_count": 21,
      "outputs": [
        {
          "output_type": "stream",
          "text": [
            "Why is this $[...] when the same product is available for $[...] here?<br />http://www.amazon.com/VICTOR-FLY-MAGNET-BAIT-REFILL/dp/B00004RBDY<br /><br />The Victor M380 and M502 traps are unreal, of course -- total fly genocide. Pretty stinky, but only right nearby.\n",
            "==================================================\n",
            "I recently tried this flavor/brand and was surprised at how delicious these chips are.  The best thing was that there were a lot of \"brown\" chips in the bsg (my favorite), so I bought some more through amazon and shared with family and friends.  I am a little disappointed that there are not, so far, very many brown chips in these bags, but the flavor is still very good.  I like them better than the yogurt and green onion flavor because they do not seem to be as salty, and the onion flavor is better.  If you haven't eaten Kettle chips before, I recommend that you try a bag before buying bulk.  They are thicker and crunchier than Lays but just as fresh out of the bag.\n",
            "==================================================\n",
            "Wow.  So far, two two-star reviews.  One obviously had no idea what they were ordering; the other wants crispy cookies.  Hey, I'm sorry; but these reviews do nobody any good beyond reminding us to look  before ordering.<br /><br />These are chocolate-oatmeal cookies.  If you don't like that combination, don't order this type of cookie.  I find the combo quite nice, really.  The oatmeal sort of \"calms\" the rich chocolate flavor and gives the cookie sort of a coconut-type consistency.  Now let's also remember that tastes differ; so, I've given my opinion.<br /><br />Then, these are soft, chewy cookies -- as advertised.  They are not \"crispy\" cookies, or the blurb would say \"crispy,\" rather than \"chewy.\"  I happen to like raw cookie dough; however, I don't see where these taste like raw cookie dough.  Both are soft, however, so is this the confusion?  And, yes, they stick together.  Soft cookies tend to do that.  They aren't individually wrapped, which would add to the cost.  Oh yeah, chocolate chip cookies tend to be somewhat sweet.<br /><br />So, if you want something hard and crisp, I suggest Nabiso's Ginger Snaps.  If you want a cookie that's soft, chewy and tastes like a combination of chocolate and oatmeal, give these a try.  I'm here to place my second order.\n",
            "==================================================\n",
            "love to order my coffee on amazon.  easy and shows up quickly.<br />This k cup is great coffee.  dcaf is very good as well\n",
            "==================================================\n"
          ],
          "name": "stdout"
        }
      ]
    },
    {
      "cell_type": "code",
      "metadata": {
        "id": "MvD0JaQ9CAZx",
        "colab_type": "code",
        "outputId": "dcc683d4-6014-4430-fb91-f9526bca4475",
        "colab": {}
      },
      "source": [
        "# remove urls from text python: https://stackoverflow.com/a/40823105/4084039\n",
        "sent_0 = re.sub(r\"http\\S+\", \"\", sent_0)\n",
        "sent_1000 = re.sub(r\"http\\S+\", \"\", sent_1000)\n",
        "sent_150 = re.sub(r\"http\\S+\", \"\", sent_1500)\n",
        "sent_4900 = re.sub(r\"http\\S+\", \"\", sent_4900)\n",
        "\n",
        "print(sent_0)"
      ],
      "execution_count": 0,
      "outputs": [
        {
          "output_type": "stream",
          "text": [
            "Why is this $[...] when the same product is available for $[...] here?<br /> /><br />The Victor M380 and M502 traps are unreal, of course -- total fly genocide. Pretty stinky, but only right nearby.\n"
          ],
          "name": "stdout"
        }
      ]
    },
    {
      "cell_type": "code",
      "metadata": {
        "id": "Liu2zNFLCAZ0",
        "colab_type": "code",
        "outputId": "b5f3de72-a71e-43a6-8fff-11061fabb5a5",
        "colab": {
          "base_uri": "https://localhost:8080/",
          "height": 159
        }
      },
      "source": [
        "# https://stackoverflow.com/questions/16206380/python-beautifulsoup-how-to-remove-all-tags-from-an-element\n",
        "from bs4 import BeautifulSoup\n",
        "\n",
        "soup = BeautifulSoup(sent_0, 'lxml')\n",
        "text = soup.get_text()\n",
        "print(text)\n",
        "print(\"=\"*50)\n",
        "\n",
        "soup = BeautifulSoup(sent_1000, 'lxml')\n",
        "text = soup.get_text()\n",
        "print(text)\n",
        "print(\"=\"*50)\n",
        "\n",
        "soup = BeautifulSoup(sent_1500, 'lxml')\n",
        "text = soup.get_text()\n",
        "print(text)\n",
        "print(\"=\"*50)\n",
        "\n",
        "soup = BeautifulSoup(sent_4900, 'lxml')\n",
        "text = soup.get_text()\n",
        "print(text)"
      ],
      "execution_count": 22,
      "outputs": [
        {
          "output_type": "stream",
          "text": [
            "Why is this $[...] when the same product is available for $[...] here?http://www.amazon.com/VICTOR-FLY-MAGNET-BAIT-REFILL/dp/B00004RBDYThe Victor M380 and M502 traps are unreal, of course -- total fly genocide. Pretty stinky, but only right nearby.\n",
            "==================================================\n",
            "I recently tried this flavor/brand and was surprised at how delicious these chips are.  The best thing was that there were a lot of \"brown\" chips in the bsg (my favorite), so I bought some more through amazon and shared with family and friends.  I am a little disappointed that there are not, so far, very many brown chips in these bags, but the flavor is still very good.  I like them better than the yogurt and green onion flavor because they do not seem to be as salty, and the onion flavor is better.  If you haven't eaten Kettle chips before, I recommend that you try a bag before buying bulk.  They are thicker and crunchier than Lays but just as fresh out of the bag.\n",
            "==================================================\n",
            "Wow.  So far, two two-star reviews.  One obviously had no idea what they were ordering; the other wants crispy cookies.  Hey, I'm sorry; but these reviews do nobody any good beyond reminding us to look  before ordering.These are chocolate-oatmeal cookies.  If you don't like that combination, don't order this type of cookie.  I find the combo quite nice, really.  The oatmeal sort of \"calms\" the rich chocolate flavor and gives the cookie sort of a coconut-type consistency.  Now let's also remember that tastes differ; so, I've given my opinion.Then, these are soft, chewy cookies -- as advertised.  They are not \"crispy\" cookies, or the blurb would say \"crispy,\" rather than \"chewy.\"  I happen to like raw cookie dough; however, I don't see where these taste like raw cookie dough.  Both are soft, however, so is this the confusion?  And, yes, they stick together.  Soft cookies tend to do that.  They aren't individually wrapped, which would add to the cost.  Oh yeah, chocolate chip cookies tend to be somewhat sweet.So, if you want something hard and crisp, I suggest Nabiso's Ginger Snaps.  If you want a cookie that's soft, chewy and tastes like a combination of chocolate and oatmeal, give these a try.  I'm here to place my second order.\n",
            "==================================================\n",
            "love to order my coffee on amazon.  easy and shows up quickly.This k cup is great coffee.  dcaf is very good as well\n"
          ],
          "name": "stdout"
        }
      ]
    },
    {
      "cell_type": "code",
      "metadata": {
        "id": "lNHWbzBaCAZ3",
        "colab_type": "code",
        "colab": {}
      },
      "source": [
        "# https://stackoverflow.com/a/47091490/4084039\n",
        "import re\n",
        "\n",
        "def decontracted(phrase):\n",
        "    # specific\n",
        "    phrase = re.sub(r\"won't\", \"will not\", phrase)\n",
        "    phrase = re.sub(r\"can\\'t\", \"can not\", phrase)\n",
        "\n",
        "    # general\n",
        "    phrase = re.sub(r\"n\\'t\", \" not\", phrase)\n",
        "    phrase = re.sub(r\"\\'re\", \" are\", phrase)\n",
        "    phrase = re.sub(r\"\\'s\", \" is\", phrase)\n",
        "    phrase = re.sub(r\"\\'d\", \" would\", phrase)\n",
        "    phrase = re.sub(r\"\\'ll\", \" will\", phrase)\n",
        "    phrase = re.sub(r\"\\'t\", \" not\", phrase)\n",
        "    phrase = re.sub(r\"\\'ve\", \" have\", phrase)\n",
        "    phrase = re.sub(r\"\\'m\", \" am\", phrase)\n",
        "    return phrase"
      ],
      "execution_count": 0,
      "outputs": []
    },
    {
      "cell_type": "code",
      "metadata": {
        "id": "y7v1fmngCAZ5",
        "colab_type": "code",
        "outputId": "9273c02b-b884-47a6-fb81-2522e173af42",
        "colab": {
          "base_uri": "https://localhost:8080/",
          "height": 72
        }
      },
      "source": [
        "sent_1500 = decontracted(sent_1500)\n",
        "print(sent_1500)\n",
        "print(\"=\"*50)"
      ],
      "execution_count": 24,
      "outputs": [
        {
          "output_type": "stream",
          "text": [
            "Wow.  So far, two two-star reviews.  One obviously had no idea what they were ordering; the other wants crispy cookies.  Hey, I am sorry; but these reviews do nobody any good beyond reminding us to look  before ordering.<br /><br />These are chocolate-oatmeal cookies.  If you do not like that combination, do not order this type of cookie.  I find the combo quite nice, really.  The oatmeal sort of \"calms\" the rich chocolate flavor and gives the cookie sort of a coconut-type consistency.  Now let is also remember that tastes differ; so, I have given my opinion.<br /><br />Then, these are soft, chewy cookies -- as advertised.  They are not \"crispy\" cookies, or the blurb would say \"crispy,\" rather than \"chewy.\"  I happen to like raw cookie dough; however, I do not see where these taste like raw cookie dough.  Both are soft, however, so is this the confusion?  And, yes, they stick together.  Soft cookies tend to do that.  They are not individually wrapped, which would add to the cost.  Oh yeah, chocolate chip cookies tend to be somewhat sweet.<br /><br />So, if you want something hard and crisp, I suggest Nabiso is Ginger Snaps.  If you want a cookie that is soft, chewy and tastes like a combination of chocolate and oatmeal, give these a try.  I am here to place my second order.\n",
            "==================================================\n"
          ],
          "name": "stdout"
        }
      ]
    },
    {
      "cell_type": "code",
      "metadata": {
        "id": "jKIBLrAjCAZ7",
        "colab_type": "code",
        "outputId": "c636883c-1533-4b98-992d-d503f02a82d9",
        "colab": {
          "base_uri": "https://localhost:8080/",
          "height": 54
        }
      },
      "source": [
        "#remove words with numbers python: https://stackoverflow.com/a/18082370/4084039\n",
        "sent_0 = re.sub(\"\\S*\\d\\S*\", \"\", sent_0).strip()\n",
        "print(sent_0)"
      ],
      "execution_count": 25,
      "outputs": [
        {
          "output_type": "stream",
          "text": [
            "Why is this $[...] when the same product is available for $[...] here?<br  /><br />The Victor  and  traps are unreal, of course -- total fly genocide. Pretty stinky, but only right nearby.\n"
          ],
          "name": "stdout"
        }
      ]
    },
    {
      "cell_type": "code",
      "metadata": {
        "id": "sU3eY6geCAZ9",
        "colab_type": "code",
        "outputId": "2fa7ffad-da2c-44f9-f03d-dd103b47f8cc",
        "colab": {
          "base_uri": "https://localhost:8080/",
          "height": 54
        }
      },
      "source": [
        "#remove spacial character: https://stackoverflow.com/a/5843547/4084039\n",
        "sent_1500 = re.sub('[^A-Za-z0-9]+', ' ', sent_1500)\n",
        "print(sent_1500)"
      ],
      "execution_count": 26,
      "outputs": [
        {
          "output_type": "stream",
          "text": [
            "Wow So far two two star reviews One obviously had no idea what they were ordering the other wants crispy cookies Hey I am sorry but these reviews do nobody any good beyond reminding us to look before ordering br br These are chocolate oatmeal cookies If you do not like that combination do not order this type of cookie I find the combo quite nice really The oatmeal sort of calms the rich chocolate flavor and gives the cookie sort of a coconut type consistency Now let is also remember that tastes differ so I have given my opinion br br Then these are soft chewy cookies as advertised They are not crispy cookies or the blurb would say crispy rather than chewy I happen to like raw cookie dough however I do not see where these taste like raw cookie dough Both are soft however so is this the confusion And yes they stick together Soft cookies tend to do that They are not individually wrapped which would add to the cost Oh yeah chocolate chip cookies tend to be somewhat sweet br br So if you want something hard and crisp I suggest Nabiso is Ginger Snaps If you want a cookie that is soft chewy and tastes like a combination of chocolate and oatmeal give these a try I am here to place my second order \n"
          ],
          "name": "stdout"
        }
      ]
    },
    {
      "cell_type": "code",
      "metadata": {
        "id": "Xsr4xHkJCAaA",
        "colab_type": "code",
        "colab": {}
      },
      "source": [
        "# https://gist.github.com/sebleier/554280\n",
        "# we are removing the words from the stop words list: 'no', 'nor', 'not'\n",
        "# <br /><br /> ==> after the above steps, we are getting \"br br\"\n",
        "# we are including them into stop words list\n",
        "# instead of <br /> if we have <br/> these tags would have revmoved in the 1st step\n",
        "\n",
        "stopwords= set(['br', 'the', 'i', 'me', 'my', 'myself', 'we', 'our', 'ours', 'ourselves', 'you', \"you're\", \"you've\",\\\n",
        "            \"you'll\", \"you'd\", 'your', 'yours', 'yourself', 'yourselves', 'he', 'him', 'his', 'himself', \\\n",
        "            'she', \"she's\", 'her', 'hers', 'herself', 'it', \"it's\", 'its', 'itself', 'they', 'them', 'their',\\\n",
        "            'theirs', 'themselves', 'what', 'which', 'who', 'whom', 'this', 'that', \"that'll\", 'these', 'those', \\\n",
        "            'am', 'is', 'are', 'was', 'were', 'be', 'been', 'being', 'have', 'has', 'had', 'having', 'do', 'does', \\\n",
        "            'did', 'doing', 'a', 'an', 'the', 'and', 'but', 'if', 'or', 'because', 'as', 'until', 'while', 'of', \\\n",
        "            'at', 'by', 'for', 'with', 'about', 'against', 'between', 'into', 'through', 'during', 'before', 'after',\\\n",
        "            'above', 'below', 'to', 'from', 'up', 'down', 'in', 'out', 'on', 'off', 'over', 'under', 'again', 'further',\\\n",
        "            'then', 'once', 'here', 'there', 'when', 'where', 'why', 'how', 'all', 'any', 'both', 'each', 'few', 'more',\\\n",
        "            'most', 'other', 'some', 'such', 'only', 'own', 'same', 'so', 'than', 'too', 'very', \\\n",
        "            's', 't', 'can', 'will', 'just', 'don', \"don't\", 'should', \"should've\", 'now', 'd', 'll', 'm', 'o', 're', \\\n",
        "            've', 'y', 'ain', 'aren', \"aren't\", 'couldn', \"couldn't\", 'didn', \"didn't\", 'doesn', \"doesn't\", 'hadn',\\\n",
        "            \"hadn't\", 'hasn', \"hasn't\", 'haven', \"haven't\", 'isn', \"isn't\", 'ma', 'mightn', \"mightn't\", 'mustn',\\\n",
        "            \"mustn't\", 'needn', \"needn't\", 'shan', \"shan't\", 'shouldn', \"shouldn't\", 'wasn', \"wasn't\", 'weren', \"weren't\", \\\n",
        "            'won', \"won't\", 'wouldn', \"wouldn't\"])"
      ],
      "execution_count": 0,
      "outputs": []
    },
    {
      "cell_type": "code",
      "metadata": {
        "id": "MgsJ09NpCAaB",
        "colab_type": "code",
        "outputId": "ed43ad8d-e84f-4f92-d96b-4a30460faa6a",
        "colab": {
          "base_uri": "https://localhost:8080/",
          "height": 34
        }
      },
      "source": [
        "# Combining all the above stundents \n",
        "from tqdm import tqdm\n",
        "preprocessed_reviews = []\n",
        "# tqdm is for printing the status bar\n",
        "for sentance in tqdm(final['Text'].values):\n",
        "    sentance = re.sub(r\"http\\S+\", \"\", sentance)\n",
        "    sentance = BeautifulSoup(sentance, 'lxml').get_text()\n",
        "    sentance = decontracted(sentance)\n",
        "    sentance = re.sub(\"\\S*\\d\\S*\", \"\", sentance).strip()\n",
        "    sentance = re.sub('[^A-Za-z]+', ' ', sentance)\n",
        "    # https://gist.github.com/sebleier/554280\n",
        "    sentance = ' '.join(e.lower() for e in sentance.split() if e.lower() not in stopwords)\n",
        "    preprocessed_reviews.append(sentance.strip())"
      ],
      "execution_count": 28,
      "outputs": [
        {
          "output_type": "stream",
          "text": [
            "100%|██████████| 4986/4986 [00:01<00:00, 3440.24it/s]\n"
          ],
          "name": "stderr"
        }
      ]
    },
    {
      "cell_type": "code",
      "metadata": {
        "id": "f_zfwXXWCAaE",
        "colab_type": "code",
        "outputId": "38e72129-247d-4b50-dfb6-f17978f331fa",
        "colab": {
          "base_uri": "https://localhost:8080/",
          "height": 54
        }
      },
      "source": [
        "preprocessed_reviews[1500]"
      ],
      "execution_count": 29,
      "outputs": [
        {
          "output_type": "execute_result",
          "data": {
            "text/plain": [
              "'wow far two two star reviews one obviously no idea ordering wants crispy cookies hey sorry reviews nobody good beyond reminding us look ordering chocolate oatmeal cookies not like combination not order type cookie find combo quite nice really oatmeal sort calms rich chocolate flavor gives cookie sort coconut type consistency let also remember tastes differ given opinion soft chewy cookies advertised not crispy cookies blurb would say crispy rather chewy happen like raw cookie dough however not see taste like raw cookie dough soft however confusion yes stick together soft cookies tend not individually wrapped would add cost oh yeah chocolate chip cookies tend somewhat sweet want something hard crisp suggest nabiso ginger snaps want cookie soft chewy tastes like combination chocolate oatmeal give try place second order'"
            ]
          },
          "metadata": {
            "tags": []
          },
          "execution_count": 29
        }
      ]
    },
    {
      "cell_type": "markdown",
      "metadata": {
        "id": "tmeU-LoVCAaI",
        "colab_type": "text"
      },
      "source": [
        "<h2><font color='red'>[3.2] Preprocess Summary</font></h2>"
      ]
    },
    {
      "cell_type": "code",
      "metadata": {
        "id": "wtJ2hcy9CAaI",
        "colab_type": "code",
        "colab": {}
      },
      "source": [
        "## Similartly you can do preprocessing for review summary also."
      ],
      "execution_count": 0,
      "outputs": []
    },
    {
      "cell_type": "markdown",
      "metadata": {
        "id": "ytBZVEs2CAaL",
        "colab_type": "text"
      },
      "source": [
        "# [4] Featurization"
      ]
    },
    {
      "cell_type": "markdown",
      "metadata": {
        "id": "9amw6tMZCAaL",
        "colab_type": "text"
      },
      "source": [
        "## [4.1] BAG OF WORDS"
      ]
    },
    {
      "cell_type": "code",
      "metadata": {
        "id": "3hasoJ-_CAaN",
        "colab_type": "code",
        "outputId": "18d92390-3992-45af-82b6-775dc0469075",
        "colab": {
          "base_uri": "https://localhost:8080/",
          "height": 124
        }
      },
      "source": [
        "#BoW\n",
        "count_vect = CountVectorizer() #in scikit-learn\n",
        "count_vect.fit(preprocessed_reviews)\n",
        "print(\"some feature names \", count_vect.get_feature_names()[:10])\n",
        "print('='*50)\n",
        "\n",
        "final_counts = count_vect.transform(preprocessed_reviews)\n",
        "print(\"the type of count vectorizer \",type(final_counts))\n",
        "print(\"the shape of out text BOW vectorizer \",final_counts.get_shape())\n",
        "print(\"the number of unique words \", final_counts.get_shape()[1])"
      ],
      "execution_count": 30,
      "outputs": [
        {
          "output_type": "stream",
          "text": [
            "some feature names  ['aa', 'aahhhs', 'aback', 'abandon', 'abates', 'abbott', 'abby', 'abdominal', 'abiding', 'ability']\n",
            "==================================================\n",
            "the type of count vectorizer  <class 'scipy.sparse.csr.csr_matrix'>\n",
            "the shape of out text BOW vectorizer  (4986, 12997)\n",
            "the number of unique words  12997\n"
          ],
          "name": "stdout"
        }
      ]
    },
    {
      "cell_type": "markdown",
      "metadata": {
        "id": "1dhfJZ7ZCAaR",
        "colab_type": "text"
      },
      "source": [
        "## [4.2] Bi-Grams and n-Grams."
      ]
    },
    {
      "cell_type": "code",
      "metadata": {
        "id": "u1Ma2LBfCAaR",
        "colab_type": "code",
        "outputId": "a0104599-7bf6-482d-97de-8e25ad1f30c0",
        "colab": {
          "base_uri": "https://localhost:8080/",
          "height": 69
        }
      },
      "source": [
        "#bi-gram, tri-gram and n-gram\n",
        "\n",
        "#removing stop words like \"not\" should be avoided before building n-grams\n",
        "# count_vect = CountVectorizer(ngram_range=(1,2))\n",
        "# please do read the CountVectorizer documentation http://scikit-learn.org/stable/modules/generated/sklearn.feature_extraction.text.CountVectorizer.html\n",
        "# you can choose these numebrs min_df=10, max_features=5000, of your choice\n",
        "count_vect = CountVectorizer(ngram_range=(1,2), min_df=10, max_features=5000)\n",
        "final_bigram_counts = count_vect.fit_transform(preprocessed_reviews)\n",
        "print(\"the type of count vectorizer \",type(final_bigram_counts))\n",
        "print(\"the shape of out text BOW vectorizer \",final_bigram_counts.get_shape())\n",
        "print(\"the number of unique words including both unigrams and bigrams \", final_bigram_counts.get_shape()[1])"
      ],
      "execution_count": 31,
      "outputs": [
        {
          "output_type": "stream",
          "text": [
            "the type of count vectorizer  <class 'scipy.sparse.csr.csr_matrix'>\n",
            "the shape of out text BOW vectorizer  (4986, 3144)\n",
            "the number of unique words including both unigrams and bigrams  3144\n"
          ],
          "name": "stdout"
        }
      ]
    },
    {
      "cell_type": "markdown",
      "metadata": {
        "id": "F--Xk5fhCAaV",
        "colab_type": "text"
      },
      "source": [
        "## [4.3] TF-IDF"
      ]
    },
    {
      "cell_type": "code",
      "metadata": {
        "id": "6heiZFZ-CAaW",
        "colab_type": "code",
        "outputId": "1e1efead-6e99-40f9-e3ee-27483a6a638e",
        "colab": {
          "base_uri": "https://localhost:8080/",
          "height": 124
        }
      },
      "source": [
        "tf_idf_vect = TfidfVectorizer(ngram_range=(1,2), min_df=10)\n",
        "tf_idf_vect.fit(preprocessed_reviews)\n",
        "print(\"some sample features(unique words in the corpus)\",tf_idf_vect.get_feature_names()[0:10])\n",
        "print('='*50)\n",
        "\n",
        "final_tf_idf = tf_idf_vect.transform(preprocessed_reviews)\n",
        "print(\"the type of count vectorizer \",type(final_tf_idf))\n",
        "print(\"the shape of out text TFIDF vectorizer \",final_tf_idf.get_shape())\n",
        "print(\"the number of unique words including both unigrams and bigrams \", final_tf_idf.get_shape()[1])"
      ],
      "execution_count": 32,
      "outputs": [
        {
          "output_type": "stream",
          "text": [
            "some sample features(unique words in the corpus) ['ability', 'able', 'able find', 'able get', 'absolute', 'absolutely', 'absolutely delicious', 'absolutely love', 'absolutely no', 'according']\n",
            "==================================================\n",
            "the type of count vectorizer  <class 'scipy.sparse.csr.csr_matrix'>\n",
            "the shape of out text TFIDF vectorizer  (4986, 3144)\n",
            "the number of unique words including both unigrams and bigrams  3144\n"
          ],
          "name": "stdout"
        }
      ]
    },
    {
      "cell_type": "markdown",
      "metadata": {
        "id": "XnzP-eZdCAaa",
        "colab_type": "text"
      },
      "source": [
        "## [4.4] Word2Vec"
      ]
    },
    {
      "cell_type": "code",
      "metadata": {
        "id": "e-IuUZsTCAaa",
        "colab_type": "code",
        "colab": {}
      },
      "source": [
        "# Train your own Word2Vec model using your own text corpus\n",
        "i=0\n",
        "list_of_sentance=[]\n",
        "for sentance in preprocessed_reviews:\n",
        "    list_of_sentance.append(sentance.split())"
      ],
      "execution_count": 0,
      "outputs": []
    },
    {
      "cell_type": "code",
      "metadata": {
        "scrolled": true,
        "id": "GIbKBSkRCAac",
        "colab_type": "code",
        "outputId": "c716d8c0-d139-4607-87de-3df73ed5d6a7",
        "colab": {
          "base_uri": "https://localhost:8080/",
          "height": 89
        }
      },
      "source": [
        "# Using Google News Word2Vectors\n",
        "\n",
        "# in this project we are using a pretrained model by google\n",
        "# its 3.3G file, once you load this into your memory \n",
        "# it occupies ~9Gb, so please do this step only if you have >12G of ram\n",
        "# we will provide a pickle file wich contains a dict , \n",
        "# and it contains all our courpus words as keys and  model[word] as values\n",
        "# To use this code-snippet, download \"GoogleNews-vectors-negative300.bin\" \n",
        "# from https://drive.google.com/file/d/0B7XkCwpI5KDYNlNUTTlSS21pQmM/edit\n",
        "# it's 1.9GB in size.\n",
        "\n",
        "\n",
        "# http://kavita-ganesan.com/gensim-word2vec-tutorial-starter-code/#.W17SRFAzZPY\n",
        "# you can comment this whole cell\n",
        "# or change these varible according to your need\n",
        "\n",
        "is_your_ram_gt_16g=False\n",
        "want_to_use_google_w2v = False\n",
        "want_to_train_w2v = True\n",
        "\n",
        "if want_to_train_w2v:\n",
        "    # min_count = 5 considers only words that occured atleast 5 times\n",
        "    w2v_model=Word2Vec(list_of_sentance,min_count=5,size=50, workers=4)\n",
        "    print(w2v_model.wv.most_similar('great'))\n",
        "    print('='*50)\n",
        "    print(w2v_model.wv.most_similar('worst'))\n",
        "    \n",
        "elif want_to_use_google_w2v and is_your_ram_gt_16g:\n",
        "    if os.path.isfile('GoogleNews-vectors-negative300.bin'):\n",
        "        w2v_model=KeyedVectors.load_word2vec_format('GoogleNews-vectors-negative300.bin', binary=True)\n",
        "        print(w2v_model.wv.most_similar('great'))\n",
        "        print(w2v_model.wv.most_similar('worst'))\n",
        "    else:\n",
        "        print(\"you don't have gogole's word2vec file, keep want_to_train_w2v = True, to train your own w2v \")"
      ],
      "execution_count": 34,
      "outputs": [
        {
          "output_type": "stream",
          "text": [
            "[('enjoy', 0.9969809055328369), ('good', 0.9965574741363525), ('overwhelming', 0.9957581758499146), ('flavorful', 0.995740532875061), ('enough', 0.9954217076301575), ('think', 0.9952714443206787), ('tasty', 0.9952399730682373), ('satisfying', 0.9952178001403809), ('unique', 0.995208740234375), ('salty', 0.9952031373977661)]\n",
            "==================================================\n",
            "[('varieties', 0.9995197057723999), ('looks', 0.9994512796401978), ('choice', 0.9994261264801025), ('miss', 0.9994187951087952), ('melitta', 0.9993959069252014), ('popcorn', 0.9993669986724854), ('dinner', 0.9993640184402466), ('awful', 0.9993591904640198), ('oatmeal', 0.9993500709533691), ('experience', 0.9993448257446289)]\n"
          ],
          "name": "stdout"
        }
      ]
    },
    {
      "cell_type": "code",
      "metadata": {
        "id": "JEJGArtUCAae",
        "colab_type": "code",
        "outputId": "81d28999-78c4-4ec4-d666-77eb22917f93",
        "colab": {
          "base_uri": "https://localhost:8080/",
          "height": 72
        }
      },
      "source": [
        "w2v_words = list(w2v_model.wv.vocab)\n",
        "print(\"number of words that occured minimum 5 times \",len(w2v_words))\n",
        "print(\"sample words \", w2v_words[0:50])"
      ],
      "execution_count": 35,
      "outputs": [
        {
          "output_type": "stream",
          "text": [
            "number of words that occured minimum 5 times  3817\n",
            "sample words  ['product', 'available', 'course', 'total', 'pretty', 'stinky', 'right', 'nearby', 'used', 'ca', 'not', 'beat', 'great', 'received', 'shipment', 'could', 'hardly', 'wait', 'try', 'love', 'call', 'instead', 'removed', 'easily', 'daughter', 'designed', 'printed', 'use', 'car', 'windows', 'beautifully', 'shop', 'program', 'going', 'lot', 'fun', 'everywhere', 'like', 'tv', 'computer', 'really', 'good', 'idea', 'final', 'outstanding', 'window', 'everybody', 'asks', 'bought', 'made']\n"
          ],
          "name": "stdout"
        }
      ]
    },
    {
      "cell_type": "code",
      "metadata": {
        "id": "2_U1n_Rgmi20",
        "colab_type": "code",
        "colab": {
          "base_uri": "https://localhost:8080/",
          "height": 34
        },
        "outputId": "852260ab-4434-4159-88ce-eb2bfb993880"
      },
      "source": [
        ""
      ],
      "execution_count": 90,
      "outputs": [
        {
          "output_type": "execute_result",
          "data": {
            "text/plain": [
              "3817"
            ]
          },
          "metadata": {
            "tags": []
          },
          "execution_count": 90
        }
      ]
    },
    {
      "cell_type": "markdown",
      "metadata": {
        "id": "EPjGCg7UCAag",
        "colab_type": "text"
      },
      "source": [
        "## [4.4.1] Converting text into vectors using wAvg W2V, TFIDF-W2V"
      ]
    },
    {
      "cell_type": "markdown",
      "metadata": {
        "id": "oPxfYXhMCAag",
        "colab_type": "text"
      },
      "source": [
        "#### [4.4.1.1] Avg W2v"
      ]
    },
    {
      "cell_type": "code",
      "metadata": {
        "id": "sB4Y18rQCAag",
        "colab_type": "code",
        "outputId": "91fe8f59-5fcf-49ec-9714-ad078cf6e9c4",
        "colab": {
          "base_uri": "https://localhost:8080/",
          "height": 69
        }
      },
      "source": [
        "# average Word2Vec\n",
        "# compute average word2vec for each review.\n",
        "sent_vectors = []; # the avg-w2v for each sentence/review is stored in this list\n",
        "for sent in tqdm(list_of_sentance): # for each review/sentence\n",
        "    sent_vec = np.zeros(50) # as word vectors are of zero length 50, you might need to change this to 300 if you use google's w2v\n",
        "    cnt_words =0; # num of words with a valid vector in the sentence/review\n",
        "    for word in sent: # for each word in a review/sentence\n",
        "        if word in w2v_words:\n",
        "            vec = w2v_model.wv[word]\n",
        "            sent_vec += vec\n",
        "            cnt_words += 1\n",
        "    if cnt_words != 0:\n",
        "        sent_vec /= cnt_words\n",
        "    sent_vectors.append(sent_vec)\n",
        "print(len(sent_vectors))\n",
        "print(len(sent_vectors[0]))"
      ],
      "execution_count": 36,
      "outputs": [
        {
          "output_type": "stream",
          "text": [
            "100%|██████████| 4986/4986 [00:03<00:00, 1491.36it/s]"
          ],
          "name": "stderr"
        },
        {
          "output_type": "stream",
          "text": [
            "4986\n",
            "50\n"
          ],
          "name": "stdout"
        },
        {
          "output_type": "stream",
          "text": [
            "\n"
          ],
          "name": "stderr"
        }
      ]
    },
    {
      "cell_type": "markdown",
      "metadata": {
        "id": "sKAEsZZLCAam",
        "colab_type": "text"
      },
      "source": [
        "#### [4.4.1.2] TFIDF weighted W2v"
      ]
    },
    {
      "cell_type": "code",
      "metadata": {
        "id": "pAVTG3brCAao",
        "colab_type": "code",
        "colab": {}
      },
      "source": [
        "# S = [\"abc def pqr\", \"def def def abc\", \"pqr pqr def\"]\n",
        "model = TfidfVectorizer()\n",
        "model.fit(preprocessed_reviews)\n",
        "# we are converting a dictionary with word as a key, and the idf as a value\n",
        "dictionary = dict(zip(model.get_feature_names(), list(model.idf_)))"
      ],
      "execution_count": 0,
      "outputs": []
    },
    {
      "cell_type": "code",
      "metadata": {
        "scrolled": true,
        "id": "Tyxhz3XQCAap",
        "colab_type": "code",
        "outputId": "fc95a66e-1945-463c-aa09-f3badfb8ad88",
        "colab": {
          "base_uri": "https://localhost:8080/",
          "height": 34
        }
      },
      "source": [
        "# TF-IDF weighted Word2Vec\n",
        "tfidf_feat = model.get_feature_names() # tfidf words/col-names\n",
        "# final_tf_idf is the sparse matrix with row= sentence, col=word and cell_val = tfidf\n",
        "\n",
        "tfidf_sent_vectors = []; # the tfidf-w2v for each sentence/review is stored in this list\n",
        "row=0;\n",
        "for sent in tqdm(list_of_sentance): # for each review/sentence \n",
        "    sent_vec = np.zeros(50) # as word vectors are of zero length\n",
        "    weight_sum =0; # num of words with a valid vector in the sentence/review\n",
        "    for word in sent: # for each word in a review/sentence\n",
        "        if word in w2v_words and word in tfidf_feat:\n",
        "            selectedCols.append(word)\n",
        "            vec = w2v_model.wv[word]\n",
        "#             tf_idf = tf_idf_matrix[row, tfidf_feat.index(word)]\n",
        "            # to reduce the computation we are \n",
        "            # dictionary[word] = idf value of word in whole courpus\n",
        "            # sent.count(word) = tf valeus of word in this review\n",
        "            tf_idf = dictionary[word]*(sent.count(word)/len(sent))\n",
        "            sent_vec += (vec * tf_idf)\n",
        "            weight_sum += tf_idf\n",
        "    if weight_sum != 0:\n",
        "        sent_vec /= weight_sum\n",
        "    tfidf_sent_vectors.append(sent_vec)\n",
        "    row += 1"
      ],
      "execution_count": 87,
      "outputs": [
        {
          "output_type": "stream",
          "text": [
            "100%|██████████| 4986/4986 [00:25<00:00, 195.91it/s]\n"
          ],
          "name": "stderr"
        }
      ]
    },
    {
      "cell_type": "code",
      "metadata": {
        "id": "ZRTSSbhmlbdE",
        "colab_type": "code",
        "colab": {
          "base_uri": "https://localhost:8080/",
          "height": 34
        },
        "outputId": "5e24d551-5b2c-4616-d94a-d78073b69e7f"
      },
      "source": [
        "len(selectedCols)"
      ],
      "execution_count": 89,
      "outputs": [
        {
          "output_type": "execute_result",
          "data": {
            "text/plain": [
              "169907"
            ]
          },
          "metadata": {
            "tags": []
          },
          "execution_count": 89
        }
      ]
    },
    {
      "cell_type": "markdown",
      "metadata": {
        "id": "uNtT_CF6m4dX",
        "colab_type": "text"
      },
      "source": [
        "## **Tsne on Amazon Food Reviews TfIDF Weigthed W2V**"
      ]
    },
    {
      "cell_type": "code",
      "metadata": {
        "id": "zWyvdPC4frAZ",
        "colab_type": "code",
        "colab": {}
      },
      "source": [
        "\n",
        "df = pd.DataFrame(tfidf_sent_vectors,columns=w2v_words[0:50])\n",
        "df['Score']=final['Score']"
      ],
      "execution_count": 0,
      "outputs": []
    },
    {
      "cell_type": "code",
      "metadata": {
        "id": "MoeO7gKwoLOk",
        "colab_type": "code",
        "colab": {}
      },
      "source": [
        "tfidf_sent_vectors"
      ],
      "execution_count": 0,
      "outputs": []
    },
    {
      "cell_type": "code",
      "metadata": {
        "id": "mI2rmrftgo0o",
        "colab_type": "code",
        "colab": {}
      },
      "source": [
        "import gzip\n",
        "import matplotlib.pyplot as plt\n",
        "import numpy as np\n",
        "import os\n",
        "from cuml.manifold import TSNE"
      ],
      "execution_count": 0,
      "outputs": []
    },
    {
      "cell_type": "code",
      "metadata": {
        "id": "HpiBXVzchHXP",
        "colab_type": "code",
        "colab": {
          "base_uri": "https://localhost:8080/",
          "height": 458
        },
        "outputId": "d82328a5-aa61-432e-dc1e-1e245a03c496"
      },
      "source": [
        "\n",
        "scores = df['Score']\n",
        "\n",
        "tsne = TSNE(n_components = 2, method = 'barnes_hut', random_state=1,perplexity=50,n_iter=2000)\n",
        "embedding = tsne.fit_transform(df.drop('Score',axis=1).to_numpy())\n",
        "\n",
        "print( embedding.shape)\n",
        "\n",
        "\n",
        "# creating a new data frame which help us in ploting the result data\n",
        "tsne_data = np.vstack((embedding.T, scores)).T\n",
        "tsne_df = pd.DataFrame(data=tsne_data, columns=(\"Dim_1\", \"Dim_2\", \"label\"))\n",
        "\n",
        "# Ploting the result of tsne\n",
        "sn.FacetGrid(tsne_df, hue=\"label\", size=6).map(plt.scatter, 'Dim_1', 'Dim_2').add_legend()\n",
        "plt.show()\n"
      ],
      "execution_count": 108,
      "outputs": [
        {
          "output_type": "stream",
          "text": [
            "(4986, 2)\n"
          ],
          "name": "stdout"
        },
        {
          "output_type": "display_data",
          "data": {
            "image/png": "[encoded data removed]",
            "text/plain": [
              "<Figure size 483.875x432 with 1 Axes>"
            ]
          },
          "metadata": {
            "tags": []
          }
        }
      ]
    },
    {
      "cell_type": "markdown",
      "metadata": {
        "id": "glDyeyWkplFp",
        "colab_type": "text"
      },
      "source": [
        "## **Umap on Amazon Fine Food Reviews**"
      ]
    },
    {
      "cell_type": "code",
      "metadata": {
        "id": "YEOeQoC1m-In",
        "colab_type": "code",
        "colab": {
          "base_uri": "https://localhost:8080/",
          "height": 441
        },
        "outputId": "e6131cd8-d1fb-499a-928d-97152a98795e"
      },
      "source": [
        "\n",
        "from cuml.manifold.umap import UMAP as cumlUMAP\n",
        "cuml_umap = cumlUMAP(n_neighbors=10, \n",
        "                     min_dist=0.02)\n",
        "\n",
        "embedding_map = cuml_umap.fit_transform(df.drop('Score',axis=1).to_numpy())\n",
        "\n",
        "\n",
        "# creating a new data frame which help us in ploting the result data\n",
        "umap_data = np.vstack((embedding_map.T, scores)).T\n",
        "umap_df = pd.DataFrame(data=umap_data, columns=(\"Dim_1\", \"Dim_2\", \"label\"))\n",
        "\n",
        "# Ploting the result of tsne\n",
        "sn.FacetGrid(umap_df, hue=\"label\", size=6).map(plt.scatter, 'Dim_1', 'Dim_2').add_legend()\n",
        "plt.show()\n"
      ],
      "execution_count": 114,
      "outputs": [
        {
          "output_type": "display_data",
          "data": {
            "image/png": "[encoded data removed]",
            "text/plain": [
              "<Figure size 483.875x432 with 1 Axes>"
            ]
          },
          "metadata": {
            "tags": []
          }
        }
      ]
    },
    {
      "cell_type": "code",
      "metadata": {
        "id": "_m0JMGs8pynG",
        "colab_type": "code",
        "colab": {
          "base_uri": "https://localhost:8080/",
          "height": 34
        },
        "outputId": "c6db9cc6-40b5-420d-f3e2-03bd10d07435"
      },
      "source": [
        "\n",
        "from sklearn.manifold.t_sne import trustworthiness\n",
        "\n",
        "trustworthiness(df.drop('Score',axis=1), embedding_map, 10)\n",
        "\n",
        "#Reference  https://scikit-learn.org/stable/modules/generated/sklearn.manifold.trustworthiness.html\n",
        "\n",
        "\n"
      ],
      "execution_count": 116,
      "outputs": [
        {
          "output_type": "execute_result",
          "data": {
            "text/plain": [
              "0.9849490897216159"
            ]
          },
          "metadata": {
            "tags": []
          },
          "execution_count": 116
        }
      ]
    }
  ]
}