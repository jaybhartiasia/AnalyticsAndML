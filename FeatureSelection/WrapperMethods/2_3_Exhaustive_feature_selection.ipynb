{
  "nbformat": 4,
  "nbformat_minor": 0,
  "metadata": {
    "kernelspec": {
      "display_name": "Python 3",
      "language": "python",
      "name": "python3"
    },
    "language_info": {
      "codemirror_mode": {
        "name": "ipython",
        "version": 3
      },
      "file_extension": ".py",
      "mimetype": "text/x-python",
      "name": "python",
      "nbconvert_exporter": "python",
      "pygments_lexer": "ipython3",
      "version": "3.6.1"
    },
    "toc": {
      "nav_menu": {},
      "number_sections": true,
      "sideBar": true,
      "skip_h1_title": false,
      "toc_cell": false,
      "toc_position": {},
      "toc_section_display": "block",
      "toc_window_display": true
    },
    "colab": {
      "name": "3.3 Exhaustive_feature_selection.ipynb",
      "provenance": [],
      "include_colab_link": true
    }
  },
  "cells": [
    {
      "cell_type": "markdown",
      "metadata": {
        "id": "view-in-github",
        "colab_type": "text"
      },
      "source": [
        "<a href=\"https://colab.research.google.com/github/vinay10949/AnalyticsAndML/blob/master/FeatureSelection/WrapperMethods/3_3_Exhaustive_feature_selection.ipynb\" target=\"_parent\"><img src=\"https://colab.research.google.com/assets/colab-badge.svg\" alt=\"Open In Colab\"/></a>"
      ]
    },
    {
      "cell_type": "markdown",
      "metadata": {
        "id": "-B1AGu-saJSG",
        "colab_type": "text"
      },
      "source": [
        "### Exhaustive feature selection\n",
        "\n",
        "Sequential feature selection algorithms are a family of greedy search algorithms that are used to reduce an initial d-dimensional feature space to a k-dimensional feature subspace where k < d.\n",
        "\n",
        "In an exhaustive feature selection the best subset of features is selected, over all possible feature subsets, by optimizing a specified performance metric for a certain machine learning algorithm. For example, if the classifier is a logistic regression and the dataset consists of 4 features, the algorithm will evaluate all **15** feature combinations as follows:\n",
        "\n",
        "- all possible combinations of 1 feature\n",
        "- all possible combinations of 2 features\n",
        "- all possible combinations of 3 features\n",
        "- all the 4 features\n",
        "\n",
        "and select the one that results in the best performance (e.g., classification accuracy) of the logistic regression classifier.\n",
        "\n",
        "This is another greedy algorithm as it evaluates all possible feature combinations. It is quite computationally expensive, and sometimes, if feature space is big, even unfeasible.\n",
        "\n",
        "There is a special package for python that implements this type of feature selection: mlxtend.\n",
        "\n",
        "In the mlxtend implementation of the exhaustive feature selection, the stopping criteria is an arbitrarily set number of features. So the search will finish when we reach the desired number of selected features. \n",
        "\n",
        "This is somewhat arbitrary because we may be selecting a subopimal number of features, or likewise, a high number of features. \n",
        "\n",
        "Here I will use the Exhaustive feature selection algorithm from mlxtend in a classification (Paribas) and regression (House Price) dataset."
      ]
    },
    {
      "cell_type": "code",
      "metadata": {
        "id": "4iQBWuxuaJSN",
        "colab_type": "code",
        "colab": {}
      },
      "source": [
        "import pandas as pd\n",
        "import numpy as np\n",
        "\n",
        "import matplotlib.pyplot as plt\n",
        "import seaborn as sns\n",
        "%matplotlib inline\n",
        "\n",
        "from sklearn.model_selection import train_test_split\n",
        "\n",
        "from sklearn.ensemble import RandomForestRegressor, RandomForestClassifier\n",
        "from sklearn.metrics import roc_auc_score\n",
        "\n",
        "from mlxtend.feature_selection import ExhaustiveFeatureSelector as EFS"
      ],
      "execution_count": 0,
      "outputs": []
    },
    {
      "cell_type": "code",
      "metadata": {
        "id": "pwBhmqhMaJSn",
        "colab_type": "code",
        "colab": {},
        "outputId": "d006ad80-1612-4d4e-e1f0-745f66cdb7d7"
      },
      "source": [
        "# load dataset\n",
        "data = pd.read_csv('paribas.csv', nrows=50000)\n",
        "data.shape"
      ],
      "execution_count": 0,
      "outputs": [
        {
          "output_type": "execute_result",
          "data": {
            "text/plain": [
              "(50000, 133)"
            ]
          },
          "metadata": {
            "tags": []
          },
          "execution_count": 2
        }
      ]
    },
    {
      "cell_type": "code",
      "metadata": {
        "id": "7hVn2GcEaJS1",
        "colab_type": "code",
        "colab": {},
        "outputId": "7b7c4a22-6569-4803-98ba-0bc2fd87213b"
      },
      "source": [
        "data.head()"
      ],
      "execution_count": 0,
      "outputs": [
        {
          "output_type": "execute_result",
          "data": {
            "text/html": [
              "<div>\n",
              "<style>\n",
              "    .dataframe thead tr:only-child th {\n",
              "        text-align: right;\n",
              "    }\n",
              "\n",
              "    .dataframe thead th {\n",
              "        text-align: left;\n",
              "    }\n",
              "\n",
              "    .dataframe tbody tr th {\n",
              "        vertical-align: top;\n",
              "    }\n",
              "</style>\n",
              "<table border=\"1\" class=\"dataframe\">\n",
              "  <thead>\n",
              "    <tr style=\"text-align: right;\">\n",
              "      <th></th>\n",
              "      <th>ID</th>\n",
              "      <th>target</th>\n",
              "      <th>v1</th>\n",
              "      <th>v2</th>\n",
              "      <th>v3</th>\n",
              "      <th>v4</th>\n",
              "      <th>v5</th>\n",
              "      <th>v6</th>\n",
              "      <th>v7</th>\n",
              "      <th>v8</th>\n",
              "      <th>...</th>\n",
              "      <th>v122</th>\n",
              "      <th>v123</th>\n",
              "      <th>v124</th>\n",
              "      <th>v125</th>\n",
              "      <th>v126</th>\n",
              "      <th>v127</th>\n",
              "      <th>v128</th>\n",
              "      <th>v129</th>\n",
              "      <th>v130</th>\n",
              "      <th>v131</th>\n",
              "    </tr>\n",
              "  </thead>\n",
              "  <tbody>\n",
              "    <tr>\n",
              "      <th>0</th>\n",
              "      <td>3</td>\n",
              "      <td>1</td>\n",
              "      <td>1.335739</td>\n",
              "      <td>8.727474</td>\n",
              "      <td>C</td>\n",
              "      <td>3.921026</td>\n",
              "      <td>7.915266</td>\n",
              "      <td>2.599278</td>\n",
              "      <td>3.176895</td>\n",
              "      <td>0.012941</td>\n",
              "      <td>...</td>\n",
              "      <td>8.000000</td>\n",
              "      <td>1.989780</td>\n",
              "      <td>0.035754</td>\n",
              "      <td>AU</td>\n",
              "      <td>1.804126</td>\n",
              "      <td>3.113719</td>\n",
              "      <td>2.024285</td>\n",
              "      <td>0</td>\n",
              "      <td>0.636365</td>\n",
              "      <td>2.857144</td>\n",
              "    </tr>\n",
              "    <tr>\n",
              "      <th>1</th>\n",
              "      <td>4</td>\n",
              "      <td>1</td>\n",
              "      <td>NaN</td>\n",
              "      <td>NaN</td>\n",
              "      <td>C</td>\n",
              "      <td>NaN</td>\n",
              "      <td>9.191265</td>\n",
              "      <td>NaN</td>\n",
              "      <td>NaN</td>\n",
              "      <td>2.301630</td>\n",
              "      <td>...</td>\n",
              "      <td>NaN</td>\n",
              "      <td>NaN</td>\n",
              "      <td>0.598896</td>\n",
              "      <td>AF</td>\n",
              "      <td>NaN</td>\n",
              "      <td>NaN</td>\n",
              "      <td>1.957825</td>\n",
              "      <td>0</td>\n",
              "      <td>NaN</td>\n",
              "      <td>NaN</td>\n",
              "    </tr>\n",
              "    <tr>\n",
              "      <th>2</th>\n",
              "      <td>5</td>\n",
              "      <td>1</td>\n",
              "      <td>0.943877</td>\n",
              "      <td>5.310079</td>\n",
              "      <td>C</td>\n",
              "      <td>4.410969</td>\n",
              "      <td>5.326159</td>\n",
              "      <td>3.979592</td>\n",
              "      <td>3.928571</td>\n",
              "      <td>0.019645</td>\n",
              "      <td>...</td>\n",
              "      <td>9.333333</td>\n",
              "      <td>2.477596</td>\n",
              "      <td>0.013452</td>\n",
              "      <td>AE</td>\n",
              "      <td>1.773709</td>\n",
              "      <td>3.922193</td>\n",
              "      <td>1.120468</td>\n",
              "      <td>2</td>\n",
              "      <td>0.883118</td>\n",
              "      <td>1.176472</td>\n",
              "    </tr>\n",
              "    <tr>\n",
              "      <th>3</th>\n",
              "      <td>6</td>\n",
              "      <td>1</td>\n",
              "      <td>0.797415</td>\n",
              "      <td>8.304757</td>\n",
              "      <td>C</td>\n",
              "      <td>4.225930</td>\n",
              "      <td>11.627438</td>\n",
              "      <td>2.097700</td>\n",
              "      <td>1.987549</td>\n",
              "      <td>0.171947</td>\n",
              "      <td>...</td>\n",
              "      <td>7.018256</td>\n",
              "      <td>1.812795</td>\n",
              "      <td>0.002267</td>\n",
              "      <td>CJ</td>\n",
              "      <td>1.415230</td>\n",
              "      <td>2.954381</td>\n",
              "      <td>1.990847</td>\n",
              "      <td>1</td>\n",
              "      <td>1.677108</td>\n",
              "      <td>1.034483</td>\n",
              "    </tr>\n",
              "    <tr>\n",
              "      <th>4</th>\n",
              "      <td>8</td>\n",
              "      <td>1</td>\n",
              "      <td>NaN</td>\n",
              "      <td>NaN</td>\n",
              "      <td>C</td>\n",
              "      <td>NaN</td>\n",
              "      <td>NaN</td>\n",
              "      <td>NaN</td>\n",
              "      <td>NaN</td>\n",
              "      <td>NaN</td>\n",
              "      <td>...</td>\n",
              "      <td>NaN</td>\n",
              "      <td>NaN</td>\n",
              "      <td>NaN</td>\n",
              "      <td>Z</td>\n",
              "      <td>NaN</td>\n",
              "      <td>NaN</td>\n",
              "      <td>NaN</td>\n",
              "      <td>0</td>\n",
              "      <td>NaN</td>\n",
              "      <td>NaN</td>\n",
              "    </tr>\n",
              "  </tbody>\n",
              "</table>\n",
              "<p>5 rows × 133 columns</p>\n",
              "</div>"
            ],
            "text/plain": [
              "   ID  target        v1        v2 v3        v4         v5        v6        v7  \\\n",
              "0   3       1  1.335739  8.727474  C  3.921026   7.915266  2.599278  3.176895   \n",
              "1   4       1       NaN       NaN  C       NaN   9.191265       NaN       NaN   \n",
              "2   5       1  0.943877  5.310079  C  4.410969   5.326159  3.979592  3.928571   \n",
              "3   6       1  0.797415  8.304757  C  4.225930  11.627438  2.097700  1.987549   \n",
              "4   8       1       NaN       NaN  C       NaN        NaN       NaN       NaN   \n",
              "\n",
              "         v8    ...         v122      v123      v124  v125      v126      v127  \\\n",
              "0  0.012941    ...     8.000000  1.989780  0.035754    AU  1.804126  3.113719   \n",
              "1  2.301630    ...          NaN       NaN  0.598896    AF       NaN       NaN   \n",
              "2  0.019645    ...     9.333333  2.477596  0.013452    AE  1.773709  3.922193   \n",
              "3  0.171947    ...     7.018256  1.812795  0.002267    CJ  1.415230  2.954381   \n",
              "4       NaN    ...          NaN       NaN       NaN     Z       NaN       NaN   \n",
              "\n",
              "       v128  v129      v130      v131  \n",
              "0  2.024285     0  0.636365  2.857144  \n",
              "1  1.957825     0       NaN       NaN  \n",
              "2  1.120468     2  0.883118  1.176472  \n",
              "3  1.990847     1  1.677108  1.034483  \n",
              "4       NaN     0       NaN       NaN  \n",
              "\n",
              "[5 rows x 133 columns]"
            ]
          },
          "metadata": {
            "tags": []
          },
          "execution_count": 3
        }
      ]
    },
    {
      "cell_type": "code",
      "metadata": {
        "id": "vggvFSMLaJTF",
        "colab_type": "code",
        "colab": {},
        "outputId": "991d352a-aaae-4d40-c201-bd70f6c27962"
      },
      "source": [
        "# In practice, feature selection should be done after data pre-processing,\n",
        "# so ideally, all the categorical variables are encoded into numbers,\n",
        "# and then you can assess how deterministic they are of the target\n",
        "\n",
        "# here for simplicity I will use only numerical variables\n",
        "# select numerical columns:\n",
        "\n",
        "numerics = ['int16', 'int32', 'int64', 'float16', 'float32', 'float64']\n",
        "numerical_vars = list(data.select_dtypes(include=numerics).columns)\n",
        "data = data[numerical_vars]\n",
        "data.shape"
      ],
      "execution_count": 0,
      "outputs": [
        {
          "output_type": "execute_result",
          "data": {
            "text/plain": [
              "(50000, 114)"
            ]
          },
          "metadata": {
            "tags": []
          },
          "execution_count": 4
        }
      ]
    },
    {
      "cell_type": "markdown",
      "metadata": {
        "id": "k_v8pUNeaJTU",
        "colab_type": "text"
      },
      "source": [
        "### Important\n",
        "\n",
        "In all feature selection procedures, it is good practice to select the features by examining only the training set. And this is to avoid overfit."
      ]
    },
    {
      "cell_type": "code",
      "metadata": {
        "id": "4id5pI-HaJTX",
        "colab_type": "code",
        "colab": {},
        "outputId": "91b09fb2-8982-4479-8e4a-a96aca72c714"
      },
      "source": [
        "# separate train and test sets\n",
        "X_train, X_test, y_train, y_test = train_test_split(\n",
        "    data.drop(labels=['target', 'ID'], axis=1),\n",
        "    data['target'],\n",
        "    test_size=0.3,\n",
        "    random_state=0)\n",
        "\n",
        "X_train.shape, X_test.shape"
      ],
      "execution_count": 0,
      "outputs": [
        {
          "output_type": "execute_result",
          "data": {
            "text/plain": [
              "((35000, 112), (15000, 112))"
            ]
          },
          "metadata": {
            "tags": []
          },
          "execution_count": 5
        }
      ]
    },
    {
      "cell_type": "code",
      "metadata": {
        "id": "frrtiQFTaJTi",
        "colab_type": "code",
        "colab": {},
        "outputId": "b0c2ac03-2536-4c7a-8b1d-95246648383d"
      },
      "source": [
        "# find and remove correlated features\n",
        "# in order to reduce the feature space a bit\n",
        "# so that the algorithm takes shorter\n",
        "\n",
        "def correlation(dataset, threshold):\n",
        "    col_corr = set()  # Set of all the names of correlated columns\n",
        "    corr_matrix = dataset.corr()\n",
        "    for i in range(len(corr_matrix.columns)):\n",
        "        for j in range(i):\n",
        "            if abs(corr_matrix.iloc[i, j]) > threshold: # we are interested in absolute coeff value\n",
        "                colname = corr_matrix.columns[i]  # getting the name of column\n",
        "                col_corr.add(colname)\n",
        "    return col_corr\n",
        "\n",
        "corr_features = correlation(X_train, 0.8)\n",
        "print('correlated features: ', len(set(corr_features)) )"
      ],
      "execution_count": 0,
      "outputs": [
        {
          "output_type": "stream",
          "text": [
            "correlated features:  55\n"
          ],
          "name": "stdout"
        }
      ]
    },
    {
      "cell_type": "code",
      "metadata": {
        "id": "eQCxok8paJTw",
        "colab_type": "code",
        "colab": {},
        "outputId": "96ebc599-f328-46cc-d9cd-2a35d87be6e7"
      },
      "source": [
        "# removed correlated  features\n",
        "X_train.drop(labels=corr_features, axis=1, inplace=True)\n",
        "X_test.drop(labels=corr_features, axis=1, inplace=True)\n",
        "\n",
        "X_train.shape, X_test.shape"
      ],
      "execution_count": 0,
      "outputs": [
        {
          "output_type": "execute_result",
          "data": {
            "text/plain": [
              "((35000, 57), (15000, 57))"
            ]
          },
          "metadata": {
            "tags": []
          },
          "execution_count": 7
        }
      ]
    },
    {
      "cell_type": "code",
      "metadata": {
        "id": "TnZ1xJY0aJUA",
        "colab_type": "code",
        "colab": {},
        "outputId": "009c506b-aef1-44fa-f90c-ec040f9caf9f"
      },
      "source": [
        "X_train.columns[0:10]"
      ],
      "execution_count": 0,
      "outputs": [
        {
          "output_type": "execute_result",
          "data": {
            "text/plain": [
              "Index(['v1', 'v2', 'v4', 'v5', 'v6', 'v7', 'v8', 'v9', 'v10', 'v11'], dtype='object')"
            ]
          },
          "metadata": {
            "tags": []
          },
          "execution_count": 8
        }
      ]
    },
    {
      "cell_type": "code",
      "metadata": {
        "id": "jRM1lci1aJUM",
        "colab_type": "code",
        "colab": {},
        "outputId": "8b9dc6fc-8e6b-4bb8-8eff-2a7183576a28"
      },
      "source": [
        "# exhaustive feature selection\n",
        "# I indicate that I want to select 10 features from\n",
        "# the total, and that I want to select those features\n",
        "# based on the optimal roc_auc\n",
        "\n",
        "# in order to shorter search time for the demonstration\n",
        "# i will ask the algorithm to try all possible 1,2,3 and 4\n",
        "# feature combinations from a dataset of 4 features\n",
        "\n",
        "# if you have access to a multicore or distributed computer\n",
        "# system you can try more greedy searches\n",
        "\n",
        "efs1 = EFS(RandomForestClassifier(n_jobs=4, random_state=0), \n",
        "           min_features=1,\n",
        "           max_features=4, \n",
        "           scoring='roc_auc',\n",
        "           print_progress=True,\n",
        "           cv=2)\n",
        "\n",
        "efs1 = efs1.fit(np.array(X_train[X_train.columns[0:4]].fillna(0)), y_train)"
      ],
      "execution_count": 0,
      "outputs": [
        {
          "output_type": "stream",
          "text": [
            "Features: 15/15"
          ],
          "name": "stderr"
        }
      ]
    },
    {
      "cell_type": "code",
      "metadata": {
        "id": "4w872flsaJUZ",
        "colab_type": "code",
        "colab": {}
      },
      "source": [
        "def run_randomForests(X_train, X_test, y_train, y_test):\n",
        "    rf = RandomForestClassifier(n_estimators=200, random_state=39, max_depth=4)\n",
        "    rf.fit(X_train, y_train)\n",
        "    print('Train set')\n",
        "    pred = rf.predict_proba(X_train)\n",
        "    print('Random Forests roc-auc: {}'.format(roc_auc_score(y_train, pred[:,1])))\n",
        "    print('Test set')\n",
        "    pred = rf.predict_proba(X_test)\n",
        "    print('Random Forests roc-auc: {}'.format(roc_auc_score(y_test, pred[:,1])))"
      ],
      "execution_count": 0,
      "outputs": []
    },
    {
      "cell_type": "code",
      "metadata": {
        "id": "4-8haCGwaJUn",
        "colab_type": "code",
        "colab": {},
        "outputId": "5c6e407a-c94e-4425-9ae5-94ff593c5d41"
      },
      "source": [
        "efs1.best_idx_"
      ],
      "execution_count": 0,
      "outputs": [
        {
          "output_type": "execute_result",
          "data": {
            "text/plain": [
              "(0, 1, 2)"
            ]
          },
          "metadata": {
            "tags": []
          },
          "execution_count": 11
        }
      ]
    },
    {
      "cell_type": "code",
      "metadata": {
        "id": "oQi4ruXoaJUw",
        "colab_type": "code",
        "colab": {},
        "outputId": "74638fb5-4705-4e7c-abd0-2f4464b82498"
      },
      "source": [
        "selected_feat= X_train.columns[list(efs1.best_idx_)]\n",
        "selected_feat"
      ],
      "execution_count": 0,
      "outputs": [
        {
          "output_type": "execute_result",
          "data": {
            "text/plain": [
              "Index(['v1', 'v2', 'v4'], dtype='object')"
            ]
          },
          "metadata": {
            "tags": []
          },
          "execution_count": 12
        }
      ]
    },
    {
      "cell_type": "code",
      "metadata": {
        "id": "WQPwV_ycaJVJ",
        "colab_type": "code",
        "colab": {},
        "outputId": "f513e723-c50e-41b6-b6ed-42e86bf0ec91"
      },
      "source": [
        "# evaluate performance of classifier using selected features\n",
        "\n",
        "run_randomForests(X_train[selected_feat].fillna(0),\n",
        "                  X_test[selected_feat].fillna(0),\n",
        "                  y_train, y_test)"
      ],
      "execution_count": 0,
      "outputs": [
        {
          "output_type": "stream",
          "text": [
            "Train set\n",
            "Random Forests roc-auc: 0.5433725628122835\n",
            "Test set\n",
            "Random Forests roc-auc: 0.5253970921093112\n"
          ],
          "name": "stdout"
        }
      ]
    },
    {
      "cell_type": "markdown",
      "metadata": {
        "id": "G10VROMoaJVS",
        "colab_type": "text"
      },
      "source": [
        "### Regression"
      ]
    },
    {
      "cell_type": "code",
      "metadata": {
        "id": "6Ago6GM6aJVX",
        "colab_type": "code",
        "colab": {},
        "outputId": "ed3b5448-dd6a-4a75-ced8-6631629467b7"
      },
      "source": [
        "# load dataset\n",
        "data = pd.read_csv('houseprice.csv')\n",
        "data.shape"
      ],
      "execution_count": 0,
      "outputs": [
        {
          "output_type": "execute_result",
          "data": {
            "text/plain": [
              "(1460, 81)"
            ]
          },
          "metadata": {
            "tags": []
          },
          "execution_count": 14
        }
      ]
    },
    {
      "cell_type": "code",
      "metadata": {
        "id": "kN4MyqzbaJVk",
        "colab_type": "code",
        "colab": {},
        "outputId": "ebc1b045-76ef-4609-8dde-5ad0ea7cbe94"
      },
      "source": [
        "# In practice, feature selection should be done after data pre-processing,\n",
        "# so ideally, all the categorical variables are encoded into numbers,\n",
        "# and then you can assess how deterministic they are of the target\n",
        "\n",
        "# here for simplicity I will use only numerical variables\n",
        "# select numerical columns:\n",
        "\n",
        "numerics = ['int16', 'int32', 'int64', 'float16', 'float32', 'float64']\n",
        "numerical_vars = list(data.select_dtypes(include=numerics).columns)\n",
        "data = data[numerical_vars]\n",
        "data.shape"
      ],
      "execution_count": 0,
      "outputs": [
        {
          "output_type": "execute_result",
          "data": {
            "text/plain": [
              "(1460, 38)"
            ]
          },
          "metadata": {
            "tags": []
          },
          "execution_count": 15
        }
      ]
    },
    {
      "cell_type": "code",
      "metadata": {
        "id": "eEzIHUVJaJVv",
        "colab_type": "code",
        "colab": {},
        "outputId": "77a493b0-0d61-4a79-e364-295ad2ae5b0f"
      },
      "source": [
        "# separate train and test sets\n",
        "X_train, X_test, y_train, y_test = train_test_split(\n",
        "    data.drop(labels=['SalePrice'], axis=1),\n",
        "    data['SalePrice'],\n",
        "    test_size=0.3,\n",
        "    random_state=0)\n",
        "\n",
        "X_train.shape, X_test.shape"
      ],
      "execution_count": 0,
      "outputs": [
        {
          "output_type": "execute_result",
          "data": {
            "text/plain": [
              "((1022, 37), (438, 37))"
            ]
          },
          "metadata": {
            "tags": []
          },
          "execution_count": 16
        }
      ]
    },
    {
      "cell_type": "code",
      "metadata": {
        "id": "seh6fev1aJV3",
        "colab_type": "code",
        "colab": {},
        "outputId": "11c8f7b9-147c-4dd4-fd16-a15239a6bb8d"
      },
      "source": [
        "# find and remove correlated features\n",
        "def correlation(dataset, threshold):\n",
        "    col_corr = set()  # Set of all the names of correlated columns\n",
        "    corr_matrix = dataset.corr()\n",
        "    for i in range(len(corr_matrix.columns)):\n",
        "        for j in range(i):\n",
        "            if abs(corr_matrix.iloc[i, j]) > threshold: # we are interested in absolute coeff value\n",
        "                colname = corr_matrix.columns[i]  # getting the name of column\n",
        "                col_corr.add(colname)\n",
        "    return col_corr\n",
        "\n",
        "corr_features = correlation(X_train, 0.8)\n",
        "print('correlated features: ', len(set(corr_features)) )"
      ],
      "execution_count": 0,
      "outputs": [
        {
          "output_type": "stream",
          "text": [
            "correlated features:  3\n"
          ],
          "name": "stdout"
        }
      ]
    },
    {
      "cell_type": "code",
      "metadata": {
        "id": "wCNBamMvaJWA",
        "colab_type": "code",
        "colab": {},
        "outputId": "3efafbf4-fc67-4e83-bbef-b59153154179"
      },
      "source": [
        "# removed correlated  features\n",
        "X_train.drop(labels=corr_features, axis=1, inplace=True)\n",
        "X_test.drop(labels=corr_features, axis=1, inplace=True)\n",
        "\n",
        "X_train.shape, X_test.shape"
      ],
      "execution_count": 0,
      "outputs": [
        {
          "output_type": "execute_result",
          "data": {
            "text/plain": [
              "((1022, 34), (438, 34))"
            ]
          },
          "metadata": {
            "tags": []
          },
          "execution_count": 18
        }
      ]
    },
    {
      "cell_type": "code",
      "metadata": {
        "id": "GU69L3j7aJWL",
        "colab_type": "code",
        "colab": {}
      },
      "source": [
        "X_train.fillna(0, inplace=True)"
      ],
      "execution_count": 0,
      "outputs": []
    },
    {
      "cell_type": "code",
      "metadata": {
        "scrolled": true,
        "id": "Vr-viGwBaJWU",
        "colab_type": "code",
        "colab": {},
        "outputId": "6d82211d-a19a-4306-bcb1-0045f13c79c9"
      },
      "source": [
        "# exhaustive search\n",
        "\n",
        "# in order to shorter search time for the demonstration\n",
        "# i will ask the algorithm to try all possible 1,2,3 and 4\n",
        "# feature combinations from a dataset of 4 features\n",
        "\n",
        "# if you have access to a multicore or distributed computer\n",
        "# system you can try more greedy searches\n",
        "\n",
        "efs1 = EFS(RandomForestRegressor(n_jobs=4), \n",
        "           min_features=1,\n",
        "           max_features=4, \n",
        "           scoring='r2',\n",
        "           print_progress=True,\n",
        "           cv=2)\n",
        "\n",
        "efs1 = efs1.fit(np.array(X_train[X_train.columns[0:5]]), y_train)"
      ],
      "execution_count": 0,
      "outputs": [
        {
          "output_type": "stream",
          "text": [
            "Features: 30/30"
          ],
          "name": "stderr"
        }
      ]
    },
    {
      "cell_type": "code",
      "metadata": {
        "id": "j6vj06IdaJWc",
        "colab_type": "code",
        "colab": {},
        "outputId": "92619d55-2f57-40c6-b5b9-b03177701fdf"
      },
      "source": [
        "efs1.best_idx_"
      ],
      "execution_count": 0,
      "outputs": [
        {
          "output_type": "execute_result",
          "data": {
            "text/plain": [
              "(1, 3, 4)"
            ]
          },
          "metadata": {
            "tags": []
          },
          "execution_count": 21
        }
      ]
    },
    {
      "cell_type": "code",
      "metadata": {
        "id": "W0mVjN3RaJWn",
        "colab_type": "code",
        "colab": {},
        "outputId": "2598feb6-2df1-420a-f09c-cf312f00bd6f"
      },
      "source": [
        "X_train.columns[list(efs1.best_idx_)]"
      ],
      "execution_count": 0,
      "outputs": [
        {
          "output_type": "execute_result",
          "data": {
            "text/plain": [
              "Index(['MSSubClass', 'LotArea', 'OverallQual'], dtype='object')"
            ]
          },
          "metadata": {
            "tags": []
          },
          "execution_count": 22
        }
      ]
    },
    {
      "cell_type": "markdown",
      "metadata": {
        "collapsed": true,
        "id": "oCHmLxwAaJWu",
        "colab_type": "text"
      },
      "source": [
        "This exhaustive search is very computationally expensive. Unless you have access to a multicore or distributed computer system I don't see how you can get the most out of it. In practice for this computational cost, I have not used this search algorithm.\n",
        "\n",
        "That is all for this lecture, see you in the next one!"
      ]
    },
    {
      "cell_type": "code",
      "metadata": {
        "id": "tla17rfxaJWy",
        "colab_type": "code",
        "colab": {}
      },
      "source": [
        ""
      ],
      "execution_count": 0,
      "outputs": []
    }
  ]
}
