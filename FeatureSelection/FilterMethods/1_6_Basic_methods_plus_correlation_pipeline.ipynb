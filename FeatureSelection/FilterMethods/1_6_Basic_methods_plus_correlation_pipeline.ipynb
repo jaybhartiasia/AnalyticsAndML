{
  "nbformat": 4,
  "nbformat_minor": 0,
  "metadata": {
    "kernelspec": {
      "display_name": "Python 3",
      "language": "python",
      "name": "python3"
    },
    "language_info": {
      "codemirror_mode": {
        "name": "ipython",
        "version": 3
      },
      "file_extension": ".py",
      "mimetype": "text/x-python",
      "name": "python",
      "nbconvert_exporter": "python",
      "pygments_lexer": "ipython3",
      "version": "3.6.1"
    },
    "toc": {
      "nav_menu": {},
      "number_sections": true,
      "sideBar": true,
      "skip_h1_title": false,
      "toc_cell": false,
      "toc_position": {},
      "toc_section_display": "block",
      "toc_window_display": true
    },
    "colab": {
      "name": "1.6 Basic_methods_plus_correlation_pipeline.ipynb",
      "provenance": [],
      "include_colab_link": true
    }
  },
  "cells": [
    {
      "cell_type": "markdown",
      "metadata": {
        "id": "view-in-github",
        "colab_type": "text"
      },
      "source": [
        "<a href=\"https://colab.research.google.com/github/vinay10949/AnalyticsAndML/blob/master/FeatureSelection/FilterMethods/1_6_Basic_methods_plus_correlation_pipeline.ipynb\" target=\"_parent\"><img src=\"https://colab.research.google.com/assets/colab-badge.svg\" alt=\"Open In Colab\"/></a>"
      ]
    },
    {
      "cell_type": "markdown",
      "metadata": {
        "id": "Y3Iv8Vi2BWBu",
        "colab_type": "text"
      },
      "source": [
        "## Basic methods plus correlation pipeline\n",
        "### Putting it all together"
      ]
    },
    {
      "cell_type": "code",
      "metadata": {
        "id": "GtbzHSlZBWB1",
        "colab_type": "code",
        "colab": {}
      },
      "source": [
        "import pandas as pd\n",
        "import numpy as np\n",
        "\n",
        "from sklearn.model_selection import train_test_split\n",
        "from sklearn.feature_selection import VarianceThreshold\n",
        "\n",
        "from sklearn.preprocessing import StandardScaler\n",
        "from sklearn.linear_model import LogisticRegression\n",
        "from sklearn.ensemble import RandomForestClassifier\n",
        "\n",
        "from sklearn.metrics import roc_auc_score"
      ],
      "execution_count": 0,
      "outputs": []
    },
    {
      "cell_type": "code",
      "metadata": {
        "id": "jGqeaudXBWCL",
        "colab_type": "code",
        "colab": {},
        "outputId": "c12bab9f-5c78-4acc-df26-0e016d1cc7f6"
      },
      "source": [
        "# load the Santander customer satisfaction dataset from Kaggle\n",
        "\n",
        "data = pd.read_csv('santander.csv')\n",
        "data.shape"
      ],
      "execution_count": 0,
      "outputs": [
        {
          "output_type": "execute_result",
          "data": {
            "text/plain": [
              "(76020, 371)"
            ]
          },
          "metadata": {
            "tags": []
          },
          "execution_count": 2
        }
      ]
    },
    {
      "cell_type": "code",
      "metadata": {
        "id": "hfGVbn3TBWCZ",
        "colab_type": "code",
        "colab": {},
        "outputId": "749c2f56-ebb7-4d5c-e1f9-5b50a7f9d680"
      },
      "source": [
        "# separate dataset into train and test\n",
        "X_train, X_test, y_train, y_test = train_test_split(\n",
        "    data.drop(labels=['TARGET'], axis=1),\n",
        "    data['TARGET'],\n",
        "    test_size=0.3,\n",
        "    random_state=0)\n",
        "\n",
        "X_train.shape, X_test.shape"
      ],
      "execution_count": 0,
      "outputs": [
        {
          "output_type": "execute_result",
          "data": {
            "text/plain": [
              "((53214, 370), (22806, 370))"
            ]
          },
          "metadata": {
            "tags": []
          },
          "execution_count": 3
        }
      ]
    },
    {
      "cell_type": "code",
      "metadata": {
        "id": "H8axYVPABWCq",
        "colab_type": "code",
        "colab": {}
      },
      "source": [
        "# I keep a copy of the dataset with all the variables\n",
        "# to measure the performance of machine learning models\n",
        "# at the end of the notebook\n",
        "\n",
        "X_train_original = X_train.copy()\n",
        "X_test_original = X_test.copy()"
      ],
      "execution_count": 0,
      "outputs": []
    },
    {
      "cell_type": "markdown",
      "metadata": {
        "id": "_6FfyoZEBWC4",
        "colab_type": "text"
      },
      "source": [
        "### Remove constant features"
      ]
    },
    {
      "cell_type": "code",
      "metadata": {
        "id": "vbA8ud0LBWC8",
        "colab_type": "code",
        "colab": {},
        "outputId": "0c4a711b-1421-43c8-f6e2-6508f5dfe939"
      },
      "source": [
        "# remove constant features\n",
        "constant_features = [\n",
        "    feat for feat in X_train.columns if X_train[feat].std() == 0\n",
        "]\n",
        "\n",
        "X_train.drop(labels=constant_features, axis=1, inplace=True)\n",
        "X_test.drop(labels=constant_features, axis=1, inplace=True)\n",
        "\n",
        "X_train.shape, X_test.shape"
      ],
      "execution_count": 0,
      "outputs": [
        {
          "output_type": "execute_result",
          "data": {
            "text/plain": [
              "((53214, 332), (22806, 332))"
            ]
          },
          "metadata": {
            "tags": []
          },
          "execution_count": 5
        }
      ]
    },
    {
      "cell_type": "markdown",
      "metadata": {
        "id": "_S3hyYmVBWDJ",
        "colab_type": "text"
      },
      "source": [
        "### Remove quasi-constant features"
      ]
    },
    {
      "cell_type": "code",
      "metadata": {
        "id": "_66d9KCKBWDL",
        "colab_type": "code",
        "colab": {},
        "outputId": "1c74bc09-42bc-4c8b-875f-68ecc65f2d17"
      },
      "source": [
        "# remove quasi-constant features\n",
        "sel = VarianceThreshold(\n",
        "    threshold=0.01)  # 0.1 indicates 99% of observations approximately\n",
        "\n",
        "sel.fit(X_train)  # fit finds the features with low variance\n",
        "\n",
        "sum(sel.get_support()) # how many not quasi-constant?"
      ],
      "execution_count": 0,
      "outputs": [
        {
          "output_type": "execute_result",
          "data": {
            "text/plain": [
              "268"
            ]
          },
          "metadata": {
            "tags": []
          },
          "execution_count": 6
        }
      ]
    },
    {
      "cell_type": "code",
      "metadata": {
        "id": "lDVrz0SNBWDW",
        "colab_type": "code",
        "colab": {}
      },
      "source": [
        "features_to_keep = X_train.columns[sel.get_support()]"
      ],
      "execution_count": 0,
      "outputs": []
    },
    {
      "cell_type": "code",
      "metadata": {
        "id": "NVRPEuTUBWDj",
        "colab_type": "code",
        "colab": {},
        "outputId": "c831716c-ff68-48de-f510-708939610365"
      },
      "source": [
        "# we can then remove the features like this\n",
        "X_train = sel.transform(X_train)\n",
        "X_test = sel.transform(X_test)\n",
        "\n",
        "X_train.shape, X_test.shape"
      ],
      "execution_count": 0,
      "outputs": [
        {
          "output_type": "execute_result",
          "data": {
            "text/plain": [
              "((53214, 268), (22806, 268))"
            ]
          },
          "metadata": {
            "tags": []
          },
          "execution_count": 8
        }
      ]
    },
    {
      "cell_type": "code",
      "metadata": {
        "id": "RwIhxd-dBWDu",
        "colab_type": "code",
        "colab": {}
      },
      "source": [
        "# sklearn transformations lead to numpy arrays\n",
        "# here I transform the arrays back to dataframes\n",
        "# please be mindful of getting the columns assigned\n",
        "# correctly\n",
        "\n",
        "X_train= pd.DataFrame(X_train)\n",
        "X_train.columns = features_to_keep\n",
        "\n",
        "X_test= pd.DataFrame(X_test)\n",
        "X_test.columns = features_to_keep"
      ],
      "execution_count": 0,
      "outputs": []
    },
    {
      "cell_type": "markdown",
      "metadata": {
        "id": "SowhTJmhBWD6",
        "colab_type": "text"
      },
      "source": [
        "### Remove duplicated features"
      ]
    },
    {
      "cell_type": "code",
      "metadata": {
        "scrolled": true,
        "id": "Q_niq4krBWD-",
        "colab_type": "code",
        "colab": {},
        "outputId": "a7c6e9c4-c042-4c9f-d44d-0abd8b362aec"
      },
      "source": [
        "# check for duplicated features in the training set\n",
        "duplicated_feat = []\n",
        "for i in range(0, len(X_train.columns)):\n",
        "    if i % 10 == 0:  # this helps me understand how the loop is going\n",
        "        print(i)\n",
        "\n",
        "    col_1 = X_train.columns[i]\n",
        "\n",
        "    for col_2 in X_train.columns[i + 1:]:\n",
        "        if X_train[col_1].equals(X_train[col_2]):\n",
        "            duplicated_feat.append(col_2)\n",
        "            \n",
        "len(duplicated_feat)"
      ],
      "execution_count": 0,
      "outputs": [
        {
          "output_type": "stream",
          "text": [
            "0\n",
            "10\n",
            "20\n",
            "30\n",
            "40\n",
            "50\n",
            "60\n",
            "70\n",
            "80\n",
            "90\n",
            "100\n",
            "110\n",
            "120\n",
            "130\n",
            "140\n",
            "150\n",
            "160\n",
            "170\n",
            "180\n",
            "190\n",
            "200\n",
            "210\n",
            "220\n",
            "230\n",
            "240\n",
            "250\n",
            "260\n"
          ],
          "name": "stdout"
        },
        {
          "output_type": "execute_result",
          "data": {
            "text/plain": [
              "16"
            ]
          },
          "metadata": {
            "tags": []
          },
          "execution_count": 10
        }
      ]
    },
    {
      "cell_type": "code",
      "metadata": {
        "id": "p4eHoX4kBWEK",
        "colab_type": "code",
        "colab": {},
        "outputId": "9a52c0c9-02c3-460f-d547-cc145197d949"
      },
      "source": [
        "# remove duplicated features\n",
        "X_train.drop(labels=duplicated_feat, axis=1, inplace=True)\n",
        "X_test.drop(labels=duplicated_feat, axis=1, inplace=True)\n",
        "\n",
        "X_train.shape, X_test.shape"
      ],
      "execution_count": 0,
      "outputs": [
        {
          "output_type": "execute_result",
          "data": {
            "text/plain": [
              "((53214, 252), (22806, 252))"
            ]
          },
          "metadata": {
            "tags": []
          },
          "execution_count": 11
        }
      ]
    },
    {
      "cell_type": "code",
      "metadata": {
        "id": "g-wnkei-BWEW",
        "colab_type": "code",
        "colab": {}
      },
      "source": [
        "# I keep a copy of the dataset except constant and duplicated variables\n",
        "# to measure the performance of machine learning models\n",
        "# at the end of the notebook\n",
        "\n",
        "X_train_basic_filter = X_train.copy()\n",
        "X_test_basic_filter = X_test.copy()"
      ],
      "execution_count": 0,
      "outputs": []
    },
    {
      "cell_type": "markdown",
      "metadata": {
        "id": "0m5J2r5MBWEe",
        "colab_type": "text"
      },
      "source": [
        "### Remove correlated features"
      ]
    },
    {
      "cell_type": "code",
      "metadata": {
        "id": "yUc_OK6bBWEi",
        "colab_type": "code",
        "colab": {},
        "outputId": "a199b15c-6e4c-4189-dd59-e09f6e59ab03"
      },
      "source": [
        "# find and remove correlated features\n",
        "def correlation(dataset, threshold):\n",
        "    col_corr = set()  # Set of all the names of correlated columns\n",
        "    corr_matrix = dataset.corr()\n",
        "    for i in range(len(corr_matrix.columns)):\n",
        "        for j in range(i):\n",
        "            if abs(corr_matrix.iloc[i, j]) > threshold: # we are interested in absolute coeff value\n",
        "                colname = corr_matrix.columns[i]  # getting the name of column\n",
        "                col_corr.add(colname)\n",
        "    return col_corr\n",
        "\n",
        "corr_features = correlation(X_train, 0.8)\n",
        "print('correlated features: ', len(set(corr_features)) )"
      ],
      "execution_count": 0,
      "outputs": [
        {
          "output_type": "stream",
          "text": [
            "correlated features:  133\n"
          ],
          "name": "stdout"
        }
      ]
    },
    {
      "cell_type": "code",
      "metadata": {
        "id": "DltzhbLnBWEt",
        "colab_type": "code",
        "colab": {},
        "outputId": "0714f91c-eac3-47e0-c0fa-36a5c7c59fa1"
      },
      "source": [
        "X_train.drop(labels=corr_features, axis=1, inplace=True)\n",
        "X_test.drop(labels=corr_features, axis=1, inplace=True)\n",
        "\n",
        "X_train.shape, X_test.shape"
      ],
      "execution_count": 0,
      "outputs": [
        {
          "output_type": "execute_result",
          "data": {
            "text/plain": [
              "((53214, 119), (22806, 119))"
            ]
          },
          "metadata": {
            "tags": []
          },
          "execution_count": 14
        }
      ]
    },
    {
      "cell_type": "markdown",
      "metadata": {
        "id": "KE4un6mrBWE2",
        "colab_type": "text"
      },
      "source": [
        "### Compare performance in machine learning models"
      ]
    },
    {
      "cell_type": "code",
      "metadata": {
        "id": "1-5JcpTGBWE5",
        "colab_type": "code",
        "colab": {}
      },
      "source": [
        "# create a function to build random forests and compare performance in train and test set\n",
        "\n",
        "def run_randomForests(X_train, X_test, y_train, y_test):\n",
        "    rf = RandomForestClassifier(n_estimators=200, random_state=39, max_depth=4)\n",
        "    rf.fit(X_train, y_train)\n",
        "    print('Train set')\n",
        "    pred = rf.predict_proba(X_train)\n",
        "    print('Random Forests roc-auc: {}'.format(roc_auc_score(y_train, pred[:,1])))\n",
        "    print('Test set')\n",
        "    pred = rf.predict_proba(X_test)\n",
        "    print('Random Forests roc-auc: {}'.format(roc_auc_score(y_test, pred[:,1])))"
      ],
      "execution_count": 0,
      "outputs": []
    },
    {
      "cell_type": "code",
      "metadata": {
        "id": "_udNc9nIBWFE",
        "colab_type": "code",
        "colab": {},
        "outputId": "950d3a3b-9a9c-4c2e-d027-3bd68b710846"
      },
      "source": [
        "# original\n",
        "run_randomForests(X_train_original.drop(labels=['ID'], axis=1),\n",
        "                  X_test_original.drop(labels=['ID'], axis=1),\n",
        "                  y_train, y_test)"
      ],
      "execution_count": 0,
      "outputs": [
        {
          "output_type": "stream",
          "text": [
            "Train set\n",
            "Random Forests roc-auc: 0.8012315676132568\n",
            "Test set\n",
            "Random Forests roc-auc: 0.7900499757912425\n"
          ],
          "name": "stdout"
        }
      ]
    },
    {
      "cell_type": "code",
      "metadata": {
        "id": "N-yIvy7bBWFM",
        "colab_type": "code",
        "colab": {},
        "outputId": "4c84830b-47cb-4b88-8a3f-01d15a194a6c"
      },
      "source": [
        "# filter methods - basic\n",
        "run_randomForests(X_train_basic_filter.drop(labels=['ID'], axis=1),\n",
        "                  X_test_basic_filter.drop(labels=['ID'], axis=1),\n",
        "                  y_train, y_test)"
      ],
      "execution_count": 0,
      "outputs": [
        {
          "output_type": "stream",
          "text": [
            "Train set\n",
            "Random Forests roc-auc: 0.8016570464386661\n",
            "Test set\n",
            "Random Forests roc-auc: 0.7910330692426437\n"
          ],
          "name": "stdout"
        }
      ]
    },
    {
      "cell_type": "code",
      "metadata": {
        "id": "25nexwUGBWFV",
        "colab_type": "code",
        "colab": {},
        "outputId": "a0b9fe23-44e8-449d-cb77-7574348c4c0a"
      },
      "source": [
        "# filter methods - correlation\n",
        "run_randomForests(X_train.drop(labels=['ID'], axis=1),\n",
        "                  X_test.drop(labels=['ID'], axis=1),\n",
        "                  y_train, y_test)"
      ],
      "execution_count": 0,
      "outputs": [
        {
          "output_type": "stream",
          "text": [
            "Train set\n",
            "Random Forests roc-auc: 0.8073914001626228\n",
            "Test set\n",
            "Random Forests roc-auc: 0.793766724733034\n"
          ],
          "name": "stdout"
        }
      ]
    },
    {
      "cell_type": "markdown",
      "metadata": {
        "id": "QL9wU4NKBWFd",
        "colab_type": "text"
      },
      "source": [
        "We can see that removing constant, quasi-constant, duplicated and correlated features reduced the feature space dramatically (from 371 to 119), without affecting the performance of the random forests (0.790 vs 0.794). If anything else, the model can now make even better predictions. And this is most likely due to the fact that high feature spaces affect negatively the performance of random forests. "
      ]
    },
    {
      "cell_type": "code",
      "metadata": {
        "id": "UO3pR8JyBWFe",
        "colab_type": "code",
        "colab": {}
      },
      "source": [
        "# create a function to build logistic regression and compare performance in train and test set\n",
        "\n",
        "def run_logistic(X_train, X_test, y_train, y_test):\n",
        "    # function to train and test the performance of logistic regression\n",
        "    logit = LogisticRegression(random_state=44)\n",
        "    logit.fit(X_train, y_train)\n",
        "    print('Train set')\n",
        "    pred = logit.predict_proba(X_train)\n",
        "    print('Logistic Regression roc-auc: {}'.format(roc_auc_score(y_train, pred[:,1])))\n",
        "    print('Test set')\n",
        "    pred = logit.predict_proba(X_test)\n",
        "    print('Logistic Regression roc-auc: {}'.format(roc_auc_score(y_test, pred[:,1])))"
      ],
      "execution_count": 0,
      "outputs": []
    },
    {
      "cell_type": "code",
      "metadata": {
        "id": "g69jlo7fBWFp",
        "colab_type": "code",
        "colab": {},
        "outputId": "0b8a99c1-5070-4da4-dcce-a9bcbbc1c867"
      },
      "source": [
        "# original\n",
        "# for logistic regression features need to be in the same scale\n",
        "\n",
        "# original\n",
        "scaler = StandardScaler().fit(X_train_original.drop(labels=['ID'], axis=1))\n",
        "\n",
        "run_logistic(scaler.transform(X_train_original.drop(labels=['ID'], axis=1)),\n",
        "             scaler.transform(X_test_original.drop(labels=['ID'], axis=1)),\n",
        "                  y_train, y_test)"
      ],
      "execution_count": 0,
      "outputs": [
        {
          "output_type": "stream",
          "text": [
            "Train set\n",
            "Logistic Regression roc-auc: 0.8069992623682241\n",
            "Test set\n",
            "Logistic Regression roc-auc: 0.7936268147072499\n"
          ],
          "name": "stdout"
        },
        {
          "output_type": "stream",
          "text": [
            "C:\\Users\\Sole\\Anaconda3\\lib\\site-packages\\sklearn\\linear_model\\base.py:352: RuntimeWarning: overflow encountered in exp\n",
            "  np.exp(prob, prob)\n"
          ],
          "name": "stderr"
        }
      ]
    },
    {
      "cell_type": "code",
      "metadata": {
        "id": "yvkjQc85BWFw",
        "colab_type": "code",
        "colab": {},
        "outputId": "fdfc2bb4-b91f-4d8d-cbba-7bc80c4af05e"
      },
      "source": [
        "# filter methods - basic\n",
        "scaler = StandardScaler().fit(X_train_basic_filter.drop(labels=['ID'], axis=1))\n",
        "\n",
        "run_logistic(scaler.transform(X_train_basic_filter.drop(labels=['ID'], axis=1)),\n",
        "             scaler.transform(X_test_basic_filter.drop(labels=['ID'], axis=1)),\n",
        "                  y_train, y_test)"
      ],
      "execution_count": 0,
      "outputs": [
        {
          "output_type": "stream",
          "text": [
            "Train set\n",
            "Logistic Regression roc-auc: 0.8063198115788011\n",
            "Test set\n",
            "Logistic Regression roc-auc: 0.7932259508684169\n"
          ],
          "name": "stdout"
        },
        {
          "output_type": "stream",
          "text": [
            "C:\\Users\\Sole\\Anaconda3\\lib\\site-packages\\sklearn\\linear_model\\base.py:352: RuntimeWarning: overflow encountered in exp\n",
            "  np.exp(prob, prob)\n"
          ],
          "name": "stderr"
        }
      ]
    },
    {
      "cell_type": "code",
      "metadata": {
        "id": "5F4eDz0pBWF6",
        "colab_type": "code",
        "colab": {},
        "outputId": "519fc4b0-b533-4b72-def8-86f4d233e014"
      },
      "source": [
        "# filter methods - correlation\n",
        "scaler = StandardScaler().fit(X_train.drop(labels=['ID'], axis=1))\n",
        "\n",
        "run_logistic(scaler.transform(X_train.drop(labels=['ID'], axis=1)),\n",
        "             scaler.transform(X_test.drop(labels=['ID'], axis=1)),\n",
        "                  y_train, y_test)"
      ],
      "execution_count": 0,
      "outputs": [
        {
          "output_type": "stream",
          "text": [
            "Train set\n",
            "Logistic Regression roc-auc: 0.7964877573303559\n",
            "Test set\n",
            "Logistic Regression roc-auc: 0.7929025260668946\n"
          ],
          "name": "stdout"
        }
      ]
    },
    {
      "cell_type": "markdown",
      "metadata": {
        "id": "rF88bjPABWGB",
        "colab_type": "text"
      },
      "source": [
        "Similarly, for logistic regression, removing constant, quasi-constant, duplicated and highly correlated features, did not affect dramatically the performance of the algorithm.\n",
        "\n",
        "That is all for this lecture. I hope you enjoyed it!"
      ]
    }
  ]
}