{
  "nbformat": 4,
  "nbformat_minor": 0,
  "metadata": {
    "kernelspec": {
      "display_name": "Python 3",
      "language": "python",
      "name": "python3"
    },
    "language_info": {
      "codemirror_mode": {
        "name": "ipython",
        "version": 3
      },
      "file_extension": ".py",
      "mimetype": "text/x-python",
      "name": "python",
      "nbconvert_exporter": "python",
      "pygments_lexer": "ipython3",
      "version": "3.7.3"
    },
    "toc": {
      "nav_menu": {},
      "number_sections": true,
      "sideBar": true,
      "skip_h1_title": false,
      "toc_cell": false,
      "toc_position": {
        "height": "556px",
        "left": "0px",
        "right": "1156.4px",
        "top": "107px",
        "width": "278px"
      },
      "toc_section_display": "block",
      "toc_window_display": true
    },
    "colab": {
      "name": "1.2 Mean-Median-Imputation.ipynb",
      "provenance": [],
      "include_colab_link": true
    }
  },
  "cells": [
    {
      "cell_type": "markdown",
      "metadata": {
        "id": "view-in-github",
        "colab_type": "text"
      },
      "source": [
        "<a href=\"https://colab.research.google.com/github/vinay10949/AnalyticsAndML/blob/master/1_2_Mean_Median_Imputation.ipynb\" target=\"_parent\"><img src=\"https://colab.research.google.com/assets/colab-badge.svg\" alt=\"Open In Colab\"/></a>"
      ]
    },
    {
      "cell_type": "markdown",
      "metadata": {
        "id": "hDApYiEt7q5C",
        "colab_type": "text"
      },
      "source": [
        "## Mean / Median imputation\n",
        "\n",
        "Imputation is the act of replacing missing data with statistical estimates of the missing values. The goal of any imputation technique is to produce a **complete dataset** that can be used to train machine learning models.\n",
        "\n",
        "Mean / median imputation consists of replacing all occurrences of missing values (NA) within a variable by the mean (if the variable has a Gaussian distribution) or median (if the variable has a skewed distribution).\n",
        "\n",
        "**Points**:\n",
        "\n",
        "- If a variable is normally distributed, the mean, median and mode, are approximately the same. Therefore, replacing missing values by the mean and the median are equivalent. Replacing missing data by the mode is not common practice for  numerical variables.\n",
        "- If the variable is skewed, the mean is biased by the values at the far end of the distribution. Therefore, the median is a better representation of the majority of the values in the variable.\n",
        "- For discrete variables casted as 'int' (to save memory), the mean may not be an integer, therefore the whole variable will be re-casted as 'float'. In order to avoid this behaviour, we can replace NA with the median instead. The median will inevitably be an integer / discrete value as well.\n",
        "\n",
        "\n",
        "### Which variables can I impute with Mean / Median Imputation?\n",
        "\n",
        "The mean and median can only be calculated on numerical variables, therefore these methods are suitable for continuous and discrete numerical variables only.\n",
        "\n",
        "\n",
        "### Assumptions\n",
        "\n",
        "- Data is missing completely at random (MCAR)\n",
        "- The missing observations, most likely look like the majority of the observations in the variable (aka, the mean / median)\n",
        "\n",
        "If data is missing completely at random, then it is fair to assume that the missing values, are most likely very close to the value of the mean or the median of the distribution, as these represent the most frequent / average observation.\n",
        "\n",
        "\n",
        "### Advantages\n",
        "\n",
        "- Easy to implement\n",
        "- Fast way of obtaining complete datasets\n",
        "- Can be integrated in production (during model deployment)\n",
        "\n",
        "### Limitations\n",
        "\n",
        "- Distortion of the original variable distribution\n",
        "- Distortion of the original variance\n",
        "- Distortion of the covariance with the remaining variables of the dataset\n",
        "\n",
        "When replacing NA with the mean or median, the variance of the variable will be distorted if the number of NA is big respect to the total number of observations, leading to underestimation of the variance.\n",
        "\n",
        "In addition, estimates of covariance and correlations with other variables in the dataset may also be affected. Mean / median imputation may alter intrinsic correlations since the mean / median value that now replaces the missing data will not necessarily preserve the relation with the remaining variables.\n",
        "\n",
        "Finally, concentrating all missing values at the mean / median value, may lead to observations that are common occurrences in the distribution, to be picked up as outliers.\n",
        "\n",
        "\n",
        "### When to use mean / median imputation?\n",
        "\n",
        "- Data is missing completely at random\n",
        "- No more than 5% of the variable contains missing data\n",
        "\n",
        "Although in theory, the above conditions should be met to minimise the impact of this imputation technique, in practice, mean / median imputation is very commonly used, even in those cases when data is not MCAR and there are a lot of missing values. The reason behind this, is the simplicity of the technique.\n",
        "\n",
        "\n",
        "### Final note\n",
        "\n",
        "\n",
        "Typically, mean / median imputation is done together with adding a binary \"missing indicator\" variable to capture those observations where the data was missing (see lecture \"Missing Indicator\"), thus covering 2 angles: if the data was missing completely at random, this would be captured by the mean /median imputation, and if it wasn't this would be captured by the additional \"missing indicator\" variable.\n"
      ]
    },
    {
      "cell_type": "code",
      "metadata": {
        "id": "STbsFlPw7q5M",
        "colab_type": "code",
        "colab": {}
      },
      "source": [
        "import pandas as pd\n",
        "import numpy as np\n",
        "\n",
        "import matplotlib.pyplot as plt\n",
        "\n",
        "# to split the datasets\n",
        "from sklearn.model_selection import train_test_split"
      ],
      "execution_count": 0,
      "outputs": []
    },
    {
      "cell_type": "markdown",
      "metadata": {
        "id": "0h-4AG7y7q5h",
        "colab_type": "text"
      },
      "source": [
        "## Titanic"
      ]
    },
    {
      "cell_type": "code",
      "metadata": {
        "id": "V7G_u4G17q5m",
        "colab_type": "code",
        "colab": {
          "base_uri": "https://localhost:8080/",
          "height": 206
        },
        "outputId": "1eb68d23-48b0-48d2-80e9-6b1373767c11"
      },
      "source": [
        "# load the Titanic Dataset with a few variables for demonstration\n",
        "\n",
        "data = pd.read_csv('titanic_train.csv', usecols=['Age', 'Fare', 'Survived'])\n",
        "data.head()"
      ],
      "execution_count": 7,
      "outputs": [
        {
          "output_type": "execute_result",
          "data": {
            "text/html": [
              "<div>\n",
              "<style scoped>\n",
              "    .dataframe tbody tr th:only-of-type {\n",
              "        vertical-align: middle;\n",
              "    }\n",
              "\n",
              "    .dataframe tbody tr th {\n",
              "        vertical-align: top;\n",
              "    }\n",
              "\n",
              "    .dataframe thead th {\n",
              "        text-align: right;\n",
              "    }\n",
              "</style>\n",
              "<table border=\"1\" class=\"dataframe\">\n",
              "  <thead>\n",
              "    <tr style=\"text-align: right;\">\n",
              "      <th></th>\n",
              "      <th>Survived</th>\n",
              "      <th>Age</th>\n",
              "      <th>Fare</th>\n",
              "    </tr>\n",
              "  </thead>\n",
              "  <tbody>\n",
              "    <tr>\n",
              "      <th>0</th>\n",
              "      <td>0</td>\n",
              "      <td>22.0</td>\n",
              "      <td>7.2500</td>\n",
              "    </tr>\n",
              "    <tr>\n",
              "      <th>1</th>\n",
              "      <td>1</td>\n",
              "      <td>38.0</td>\n",
              "      <td>71.2833</td>\n",
              "    </tr>\n",
              "    <tr>\n",
              "      <th>2</th>\n",
              "      <td>1</td>\n",
              "      <td>26.0</td>\n",
              "      <td>7.9250</td>\n",
              "    </tr>\n",
              "    <tr>\n",
              "      <th>3</th>\n",
              "      <td>1</td>\n",
              "      <td>35.0</td>\n",
              "      <td>53.1000</td>\n",
              "    </tr>\n",
              "    <tr>\n",
              "      <th>4</th>\n",
              "      <td>0</td>\n",
              "      <td>35.0</td>\n",
              "      <td>8.0500</td>\n",
              "    </tr>\n",
              "  </tbody>\n",
              "</table>\n",
              "</div>"
            ],
            "text/plain": [
              "   Survived   Age     Fare\n",
              "0         0  22.0   7.2500\n",
              "1         1  38.0  71.2833\n",
              "2         1  26.0   7.9250\n",
              "3         1  35.0  53.1000\n",
              "4         0  35.0   8.0500"
            ]
          },
          "metadata": {
            "tags": []
          },
          "execution_count": 7
        }
      ]
    },
    {
      "cell_type": "code",
      "metadata": {
        "id": "wNjs_EOR7q50",
        "colab_type": "code",
        "colab": {
          "base_uri": "https://localhost:8080/",
          "height": 86
        },
        "outputId": "30d09164-aae7-404e-ac12-78b2de06a8fe"
      },
      "source": [
        "# let's look at the percentage of NA\n",
        "\n",
        "data.isnull().mean()"
      ],
      "execution_count": 8,
      "outputs": [
        {
          "output_type": "execute_result",
          "data": {
            "text/plain": [
              "Survived    0.000000\n",
              "Age         0.198653\n",
              "Fare        0.000000\n",
              "dtype: float64"
            ]
          },
          "metadata": {
            "tags": []
          },
          "execution_count": 8
        }
      ]
    },
    {
      "cell_type": "markdown",
      "metadata": {
        "id": "vY_eeElO7q6C",
        "colab_type": "text"
      },
      "source": [
        "The only variable with missing data is Age, with ~20% of missing observations.\n",
        "\n",
        "### Imputation important\n",
        "\n",
        "Imputation should be done over the training set, and then propagated to the test set. This means that the mean / median to be used to fill missing values both in train and test set, should be extracted from the train set only. And this is to avoid overfitting."
      ]
    },
    {
      "cell_type": "code",
      "metadata": {
        "id": "TkBSEZfs7q6H",
        "colab_type": "code",
        "colab": {
          "base_uri": "https://localhost:8080/",
          "height": 34
        },
        "outputId": "e1680dae-62f2-46d7-f335-15d9b1bfa32a"
      },
      "source": [
        "# let's separate into training and testing set\n",
        "\n",
        "X_train, X_test, y_train, y_test = train_test_split(\n",
        "    data[['Age', 'Fare']],  # predictors\n",
        "    data['Survived'],  # target\n",
        "    test_size=0.3,  # percentage of obs in test set\n",
        "    random_state=0)  # seed to ensure reproducibility\n",
        "\n",
        "X_train.shape, X_test.shape"
      ],
      "execution_count": 10,
      "outputs": [
        {
          "output_type": "execute_result",
          "data": {
            "text/plain": [
              "((623, 2), (268, 2))"
            ]
          },
          "metadata": {
            "tags": []
          },
          "execution_count": 10
        }
      ]
    },
    {
      "cell_type": "code",
      "metadata": {
        "id": "Q2XSKt-y7q6X",
        "colab_type": "code",
        "colab": {
          "base_uri": "https://localhost:8080/",
          "height": 69
        },
        "outputId": "445d3b90-94a7-4ccf-fccf-09a3a8c22ff3"
      },
      "source": [
        "# Let's explore the missing data in the train set\n",
        "# the percentages should be fairly similar to those\n",
        "# of the whole dataset\n",
        "\n",
        "X_train.isnull().mean()"
      ],
      "execution_count": 11,
      "outputs": [
        {
          "output_type": "execute_result",
          "data": {
            "text/plain": [
              "Age     0.194222\n",
              "Fare    0.000000\n",
              "dtype: float64"
            ]
          },
          "metadata": {
            "tags": []
          },
          "execution_count": 11
        }
      ]
    },
    {
      "cell_type": "code",
      "metadata": {
        "id": "7lFQ0BMV7q6j",
        "colab_type": "code",
        "colab": {}
      },
      "source": [
        "# let's make a function to fill missing values with the mean or median:\n",
        "# the variable takes the dataframe, the variable, and the value of the\n",
        "# mean or median\n",
        "# and returns the variable with the filled na\n",
        "\n",
        "\n",
        "def impute_na(df, variable, mean_median):\n",
        "\n",
        "    return df[variable].fillna(mean_median)"
      ],
      "execution_count": 0,
      "outputs": []
    },
    {
      "cell_type": "code",
      "metadata": {
        "id": "x0WKu3977q6r",
        "colab_type": "code",
        "colab": {
          "base_uri": "https://localhost:8080/",
          "height": 34
        },
        "outputId": "249f9a8c-da85-4db0-d24f-e0406a15ad87"
      },
      "source": [
        "# calculate the median Age\n",
        "\n",
        "median = X_train.Age.median()\n",
        "median"
      ],
      "execution_count": 18,
      "outputs": [
        {
          "output_type": "execute_result",
          "data": {
            "text/plain": [
              "29.0"
            ]
          },
          "metadata": {
            "tags": []
          },
          "execution_count": 18
        }
      ]
    },
    {
      "cell_type": "code",
      "metadata": {
        "id": "6jzYsTNZ7q65",
        "colab_type": "code",
        "colab": {
          "base_uri": "https://localhost:8080/",
          "height": 34
        },
        "outputId": "9331f6a2-bd35-4837-a075-9298b42d8fae"
      },
      "source": [
        "# calculate the mean Age\n",
        "\n",
        "mean = X_train.Age.mean()\n",
        "mean"
      ],
      "execution_count": 15,
      "outputs": [
        {
          "output_type": "execute_result",
          "data": {
            "text/plain": [
              "29.915338645418327"
            ]
          },
          "metadata": {
            "tags": []
          },
          "execution_count": 15
        }
      ]
    },
    {
      "cell_type": "code",
      "metadata": {
        "id": "CTAl3GuM7q7F",
        "colab_type": "code",
        "colab": {
          "base_uri": "https://localhost:8080/",
          "height": 520
        },
        "outputId": "a9e80c95-1cbb-45df-c7f5-1d512a4f4c24"
      },
      "source": [
        "# create a new variable with the missing values replaced\n",
        "# using the function we created above\n",
        "\n",
        "# first replace with the median\n",
        "X_train['Age_median'] = impute_na(X_train, 'Age', median)\n",
        "\n",
        "# now replace with the mean\n",
        "X_train['Age_mean'] = impute_na(X_train, 'Age', mean)\n",
        "\n",
        "# the mean contains many decimals, so I round to 1\n",
        "# using the round function from numpy\n",
        "X_train['Age_mean'] = np.round(X_train['Age_mean'], 1)\n",
        "\n",
        "X_train.head(15)"
      ],
      "execution_count": 19,
      "outputs": [
        {
          "output_type": "execute_result",
          "data": {
            "text/html": [
              "<div>\n",
              "<style scoped>\n",
              "    .dataframe tbody tr th:only-of-type {\n",
              "        vertical-align: middle;\n",
              "    }\n",
              "\n",
              "    .dataframe tbody tr th {\n",
              "        vertical-align: top;\n",
              "    }\n",
              "\n",
              "    .dataframe thead th {\n",
              "        text-align: right;\n",
              "    }\n",
              "</style>\n",
              "<table border=\"1\" class=\"dataframe\">\n",
              "  <thead>\n",
              "    <tr style=\"text-align: right;\">\n",
              "      <th></th>\n",
              "      <th>Age</th>\n",
              "      <th>Fare</th>\n",
              "      <th>Age_median</th>\n",
              "      <th>Age_mean</th>\n",
              "    </tr>\n",
              "  </thead>\n",
              "  <tbody>\n",
              "    <tr>\n",
              "      <th>857</th>\n",
              "      <td>51.0</td>\n",
              "      <td>26.5500</td>\n",
              "      <td>51.0</td>\n",
              "      <td>51.0</td>\n",
              "    </tr>\n",
              "    <tr>\n",
              "      <th>52</th>\n",
              "      <td>49.0</td>\n",
              "      <td>76.7292</td>\n",
              "      <td>49.0</td>\n",
              "      <td>49.0</td>\n",
              "    </tr>\n",
              "    <tr>\n",
              "      <th>386</th>\n",
              "      <td>1.0</td>\n",
              "      <td>46.9000</td>\n",
              "      <td>1.0</td>\n",
              "      <td>1.0</td>\n",
              "    </tr>\n",
              "    <tr>\n",
              "      <th>124</th>\n",
              "      <td>54.0</td>\n",
              "      <td>77.2875</td>\n",
              "      <td>54.0</td>\n",
              "      <td>54.0</td>\n",
              "    </tr>\n",
              "    <tr>\n",
              "      <th>578</th>\n",
              "      <td>NaN</td>\n",
              "      <td>14.4583</td>\n",
              "      <td>29.0</td>\n",
              "      <td>29.9</td>\n",
              "    </tr>\n",
              "    <tr>\n",
              "      <th>549</th>\n",
              "      <td>8.0</td>\n",
              "      <td>36.7500</td>\n",
              "      <td>8.0</td>\n",
              "      <td>8.0</td>\n",
              "    </tr>\n",
              "    <tr>\n",
              "      <th>118</th>\n",
              "      <td>24.0</td>\n",
              "      <td>247.5208</td>\n",
              "      <td>24.0</td>\n",
              "      <td>24.0</td>\n",
              "    </tr>\n",
              "    <tr>\n",
              "      <th>12</th>\n",
              "      <td>20.0</td>\n",
              "      <td>8.0500</td>\n",
              "      <td>20.0</td>\n",
              "      <td>20.0</td>\n",
              "    </tr>\n",
              "    <tr>\n",
              "      <th>157</th>\n",
              "      <td>30.0</td>\n",
              "      <td>8.0500</td>\n",
              "      <td>30.0</td>\n",
              "      <td>30.0</td>\n",
              "    </tr>\n",
              "    <tr>\n",
              "      <th>127</th>\n",
              "      <td>24.0</td>\n",
              "      <td>7.1417</td>\n",
              "      <td>24.0</td>\n",
              "      <td>24.0</td>\n",
              "    </tr>\n",
              "    <tr>\n",
              "      <th>653</th>\n",
              "      <td>NaN</td>\n",
              "      <td>7.8292</td>\n",
              "      <td>29.0</td>\n",
              "      <td>29.9</td>\n",
              "    </tr>\n",
              "    <tr>\n",
              "      <th>235</th>\n",
              "      <td>NaN</td>\n",
              "      <td>7.5500</td>\n",
              "      <td>29.0</td>\n",
              "      <td>29.9</td>\n",
              "    </tr>\n",
              "    <tr>\n",
              "      <th>785</th>\n",
              "      <td>25.0</td>\n",
              "      <td>7.2500</td>\n",
              "      <td>25.0</td>\n",
              "      <td>25.0</td>\n",
              "    </tr>\n",
              "    <tr>\n",
              "      <th>241</th>\n",
              "      <td>NaN</td>\n",
              "      <td>15.5000</td>\n",
              "      <td>29.0</td>\n",
              "      <td>29.9</td>\n",
              "    </tr>\n",
              "    <tr>\n",
              "      <th>351</th>\n",
              "      <td>NaN</td>\n",
              "      <td>35.0000</td>\n",
              "      <td>29.0</td>\n",
              "      <td>29.9</td>\n",
              "    </tr>\n",
              "  </tbody>\n",
              "</table>\n",
              "</div>"
            ],
            "text/plain": [
              "      Age      Fare  Age_median  Age_mean\n",
              "857  51.0   26.5500        51.0      51.0\n",
              "52   49.0   76.7292        49.0      49.0\n",
              "386   1.0   46.9000         1.0       1.0\n",
              "124  54.0   77.2875        54.0      54.0\n",
              "578   NaN   14.4583        29.0      29.9\n",
              "549   8.0   36.7500         8.0       8.0\n",
              "118  24.0  247.5208        24.0      24.0\n",
              "12   20.0    8.0500        20.0      20.0\n",
              "157  30.0    8.0500        30.0      30.0\n",
              "127  24.0    7.1417        24.0      24.0\n",
              "653   NaN    7.8292        29.0      29.9\n",
              "235   NaN    7.5500        29.0      29.9\n",
              "785  25.0    7.2500        25.0      25.0\n",
              "241   NaN   15.5000        29.0      29.9\n",
              "351   NaN   35.0000        29.0      29.9"
            ]
          },
          "metadata": {
            "tags": []
          },
          "execution_count": 19
        }
      ]
    },
    {
      "cell_type": "markdown",
      "metadata": {
        "id": "vgRR5rjb7q7P",
        "colab_type": "text"
      },
      "source": [
        "Look at the rows with missing data (NaN) in Age, and see how in the new variables those were replaced by either 28 (median) or 30 (mean)."
      ]
    },
    {
      "cell_type": "code",
      "metadata": {
        "id": "kZYKhETC7q7S",
        "colab_type": "code",
        "colab": {
          "base_uri": "https://localhost:8080/",
          "height": 69
        },
        "outputId": "8b0611b6-8a18-47ad-d17d-e6ec7f2f7ef8"
      },
      "source": [
        "# we can see a change in the variance after mean / median imputation\n",
        "# this is expected, because the percentage of missing data is quite\n",
        "# high in Age, ~20%\n",
        "\n",
        "print('Original variable variance: ', X_train['Age'].var())\n",
        "print('Variance after median imputation: ', X_train['Age_median'].var())\n",
        "print('Variance after mean imputation: ', X_train['Age_mean'].var())"
      ],
      "execution_count": 21,
      "outputs": [
        {
          "output_type": "stream",
          "text": [
            "Original variable variance:  210.45286924636747\n",
            "Variance after median imputation:  169.64401397346137\n",
            "Variance after mean imputation:  169.51269265508222\n"
          ],
          "name": "stdout"
        }
      ]
    },
    {
      "cell_type": "markdown",
      "metadata": {
        "id": "45L4iAXF7q7c",
        "colab_type": "text"
      },
      "source": [
        "As expected, the variance is underestimated, because now many values are the same ==> either the mean or the median value."
      ]
    },
    {
      "cell_type": "code",
      "metadata": {
        "id": "Nj3N8xev7q7f",
        "colab_type": "code",
        "colab": {
          "base_uri": "https://localhost:8080/",
          "height": 282
        },
        "outputId": "30cc5eb6-84c9-48ba-bb41-020856a57407"
      },
      "source": [
        "# we can see that the distribution has changed \n",
        "# with now more values accumulating towards the median\n",
        "# or median\n",
        "\n",
        "fig = plt.figure()\n",
        "ax = fig.add_subplot(111)\n",
        "\n",
        "# original variable distribution\n",
        "X_train['Age'].plot(kind='kde', ax=ax)\n",
        "\n",
        "# variable imputed with the median\n",
        "X_train['Age_median'].plot(kind='kde', ax=ax, color='red')\n",
        "\n",
        "# variable imputed with the mean\n",
        "X_train['Age_mean'].plot(kind='kde', ax=ax, color='green')\n",
        "\n",
        "# add legends\n",
        "lines, labels = ax.get_legend_handles_labels()\n",
        "ax.legend(lines, labels, loc='best')"
      ],
      "execution_count": 23,
      "outputs": [
        {
          "output_type": "execute_result",
          "data": {
            "text/plain": [
              "<matplotlib.legend.Legend at 0x7f32340e7940>"
            ]
          },
          "metadata": {
            "tags": []
          },
          "execution_count": 23
        },
        {
          "output_type": "display_data",
          "data": {
            "image/png": "[encoded data removed]",
            "text/plain": [
              "<Figure size 432x288 with 1 Axes>"
            ]
          },
          "metadata": {
            "tags": []
          }
        }
      ]
    },
    {
      "cell_type": "markdown",
      "metadata": {
        "id": "S4sfrS2g7q7q",
        "colab_type": "text"
      },
      "source": [
        "As mentioned above, the mean / median imputation distorts the original distribution of the variable Age. The transformed variable shows more values around the mean / median values.\n",
        "\n",
        "**Is this important?**\n",
        "\n",
        "It depends on the machine learning model you want to build. Linear models assume that the variables are normally distributed. Mean / median imputation may distort the original normal distribution if the % of missing data is high. Therefore the final imputed variable will no longer be normally distributed, which in turn may affect the linear model performance."
      ]
    },
    {
      "cell_type": "code",
      "metadata": {
        "id": "O1UI_vE37q72",
        "colab_type": "code",
        "colab": {
          "base_uri": "https://localhost:8080/",
          "height": 175
        },
        "outputId": "d25b938e-8283-42af-94cc-b84680f08dae"
      },
      "source": [
        "# we also said that mean / median imputation may affect the relationship \n",
        "# with the other variables in the dataset, let's have a look\n",
        "\n",
        "X_train[['Fare', 'Age', 'Age_median', 'Age_mean']].cov()"
      ],
      "execution_count": 25,
      "outputs": [
        {
          "output_type": "execute_result",
          "data": {
            "text/html": [
              "<div>\n",
              "<style scoped>\n",
              "    .dataframe tbody tr th:only-of-type {\n",
              "        vertical-align: middle;\n",
              "    }\n",
              "\n",
              "    .dataframe tbody tr th {\n",
              "        vertical-align: top;\n",
              "    }\n",
              "\n",
              "    .dataframe thead th {\n",
              "        text-align: right;\n",
              "    }\n",
              "</style>\n",
              "<table border=\"1\" class=\"dataframe\">\n",
              "  <thead>\n",
              "    <tr style=\"text-align: right;\">\n",
              "      <th></th>\n",
              "      <th>Fare</th>\n",
              "      <th>Age</th>\n",
              "      <th>Age_median</th>\n",
              "      <th>Age_mean</th>\n",
              "    </tr>\n",
              "  </thead>\n",
              "  <tbody>\n",
              "    <tr>\n",
              "      <th>Fare</th>\n",
              "      <td>2328.801583</td>\n",
              "      <td>78.468894</td>\n",
              "      <td>64.684488</td>\n",
              "      <td>63.223925</td>\n",
              "    </tr>\n",
              "    <tr>\n",
              "      <th>Age</th>\n",
              "      <td>78.468894</td>\n",
              "      <td>210.452869</td>\n",
              "      <td>210.452869</td>\n",
              "      <td>210.452848</td>\n",
              "    </tr>\n",
              "    <tr>\n",
              "      <th>Age_median</th>\n",
              "      <td>64.684488</td>\n",
              "      <td>210.452869</td>\n",
              "      <td>169.644014</td>\n",
              "      <td>169.514865</td>\n",
              "    </tr>\n",
              "    <tr>\n",
              "      <th>Age_mean</th>\n",
              "      <td>63.223925</td>\n",
              "      <td>210.452848</td>\n",
              "      <td>169.514865</td>\n",
              "      <td>169.512693</td>\n",
              "    </tr>\n",
              "  </tbody>\n",
              "</table>\n",
              "</div>"
            ],
            "text/plain": [
              "                   Fare         Age  Age_median    Age_mean\n",
              "Fare        2328.801583   78.468894   64.684488   63.223925\n",
              "Age           78.468894  210.452869  210.452869  210.452848\n",
              "Age_median    64.684488  210.452869  169.644014  169.514865\n",
              "Age_mean      63.223925  210.452848  169.514865  169.512693"
            ]
          },
          "metadata": {
            "tags": []
          },
          "execution_count": 25
        }
      ]
    },
    {
      "cell_type": "markdown",
      "metadata": {
        "id": "dFat1XOr7q7-",
        "colab_type": "text"
      },
      "source": [
        "We see indeed that the covariance between Age and Fare is changed after the mean / median imputation."
      ]
    },
    {
      "cell_type": "code",
      "metadata": {
        "id": "7yVDL_FO7q8D",
        "colab_type": "code",
        "colab": {
          "base_uri": "https://localhost:8080/",
          "height": 283
        },
        "outputId": "5e9e20b9-ac85-421c-94a9-d13b5edf108b"
      },
      "source": [
        "# Finally, I mentioned that mean / median imputation may lead \n",
        "# to observations that are normal, to look like outliers\n",
        "\n",
        "# or in other words, mean / median imputation may lead to an increase\n",
        "# in the apparent number of  outliers\n",
        "\n",
        "# Let's find out using a boxplot\n",
        "X_train[['Age', 'Age_median', 'Age_mean']].boxplot()"
      ],
      "execution_count": 26,
      "outputs": [
        {
          "output_type": "execute_result",
          "data": {
            "text/plain": [
              "<matplotlib.axes._subplots.AxesSubplot at 0x7f3233660128>"
            ]
          },
          "metadata": {
            "tags": []
          },
          "execution_count": 26
        },
        {
          "output_type": "display_data",
          "data": {
            "image/png": "[encoded data removed]",
            "text/plain": [
              "<Figure size 432x288 with 1 Axes>"
            ]
          },
          "metadata": {
            "tags": []
          }
        }
      ]
    },
    {
      "cell_type": "markdown",
      "metadata": {
        "id": "TlXSe_397q8M",
        "colab_type": "text"
      },
      "source": [
        "From the boxplot above, we can see that after the imputation not only we have more outliers on the higher Age values, but we have now outliers as well for the lower values of Age.\n",
        "\n",
        "**Is this important?**\n",
        "\n",
        "If we are after true outliers, we need to keep this behaviour in mind, to make sure that we are neither masking nor creating artificial outliers with our imputation technique. In practice, we normally don't check for this behaviour at all. But I think it is important to know that is happening.\n",
        "\n",
        "## House Prices Dataset\n",
        "\n",
        "Let's repeat the exercise in the House Prices dataset from. In this dataset, there are variables with a lot or with few missing data. Therefore we can compare the effect of mean / median imputation in both scenarios."
      ]
    },
    {
      "cell_type": "code",
      "metadata": {
        "id": "_6eYpMiv7q8O",
        "colab_type": "code",
        "colab": {}
      },
      "source": [
        "# we are going to use only the following variables,\n",
        "# 3 of which contain NA\n",
        "\n",
        "cols_to_use = [\n",
        "    'OverallQual', 'TotalBsmtSF', '1stFlrSF', 'GrLivArea', 'WoodDeckSF',\n",
        "    'BsmtUnfSF', 'LotFrontage', 'MasVnrArea', 'GarageYrBlt', 'SalePrice'\n",
        "]"
      ],
      "execution_count": 0,
      "outputs": []
    },
    {
      "cell_type": "code",
      "metadata": {
        "id": "Irmicinu7q8Y",
        "colab_type": "code",
        "colab": {
          "base_uri": "https://localhost:8080/",
          "height": 244
        },
        "outputId": "c028ce38-a681-417c-89cc-32eb5dde8e5a"
      },
      "source": [
        "# let's load the House Prices dataset\n",
        "\n",
        "data = pd.read_csv('houseprice_train.csv', usecols=cols_to_use)\n",
        "print(data.shape)\n",
        "data.head()"
      ],
      "execution_count": 28,
      "outputs": [
        {
          "output_type": "stream",
          "text": [
            "(1460, 10)\n"
          ],
          "name": "stdout"
        },
        {
          "output_type": "execute_result",
          "data": {
            "text/html": [
              "<div>\n",
              "<style scoped>\n",
              "    .dataframe tbody tr th:only-of-type {\n",
              "        vertical-align: middle;\n",
              "    }\n",
              "\n",
              "    .dataframe tbody tr th {\n",
              "        vertical-align: top;\n",
              "    }\n",
              "\n",
              "    .dataframe thead th {\n",
              "        text-align: right;\n",
              "    }\n",
              "</style>\n",
              "<table border=\"1\" class=\"dataframe\">\n",
              "  <thead>\n",
              "    <tr style=\"text-align: right;\">\n",
              "      <th></th>\n",
              "      <th>LotFrontage</th>\n",
              "      <th>OverallQual</th>\n",
              "      <th>MasVnrArea</th>\n",
              "      <th>BsmtUnfSF</th>\n",
              "      <th>TotalBsmtSF</th>\n",
              "      <th>1stFlrSF</th>\n",
              "      <th>GrLivArea</th>\n",
              "      <th>GarageYrBlt</th>\n",
              "      <th>WoodDeckSF</th>\n",
              "      <th>SalePrice</th>\n",
              "    </tr>\n",
              "  </thead>\n",
              "  <tbody>\n",
              "    <tr>\n",
              "      <th>0</th>\n",
              "      <td>65.0</td>\n",
              "      <td>7</td>\n",
              "      <td>196.0</td>\n",
              "      <td>150</td>\n",
              "      <td>856</td>\n",
              "      <td>856</td>\n",
              "      <td>1710</td>\n",
              "      <td>2003.0</td>\n",
              "      <td>0</td>\n",
              "      <td>208500</td>\n",
              "    </tr>\n",
              "    <tr>\n",
              "      <th>1</th>\n",
              "      <td>80.0</td>\n",
              "      <td>6</td>\n",
              "      <td>0.0</td>\n",
              "      <td>284</td>\n",
              "      <td>1262</td>\n",
              "      <td>1262</td>\n",
              "      <td>1262</td>\n",
              "      <td>1976.0</td>\n",
              "      <td>298</td>\n",
              "      <td>181500</td>\n",
              "    </tr>\n",
              "    <tr>\n",
              "      <th>2</th>\n",
              "      <td>68.0</td>\n",
              "      <td>7</td>\n",
              "      <td>162.0</td>\n",
              "      <td>434</td>\n",
              "      <td>920</td>\n",
              "      <td>920</td>\n",
              "      <td>1786</td>\n",
              "      <td>2001.0</td>\n",
              "      <td>0</td>\n",
              "      <td>223500</td>\n",
              "    </tr>\n",
              "    <tr>\n",
              "      <th>3</th>\n",
              "      <td>60.0</td>\n",
              "      <td>7</td>\n",
              "      <td>0.0</td>\n",
              "      <td>540</td>\n",
              "      <td>756</td>\n",
              "      <td>961</td>\n",
              "      <td>1717</td>\n",
              "      <td>1998.0</td>\n",
              "      <td>0</td>\n",
              "      <td>140000</td>\n",
              "    </tr>\n",
              "    <tr>\n",
              "      <th>4</th>\n",
              "      <td>84.0</td>\n",
              "      <td>8</td>\n",
              "      <td>350.0</td>\n",
              "      <td>490</td>\n",
              "      <td>1145</td>\n",
              "      <td>1145</td>\n",
              "      <td>2198</td>\n",
              "      <td>2000.0</td>\n",
              "      <td>192</td>\n",
              "      <td>250000</td>\n",
              "    </tr>\n",
              "  </tbody>\n",
              "</table>\n",
              "</div>"
            ],
            "text/plain": [
              "   LotFrontage  OverallQual  MasVnrArea  ...  GarageYrBlt  WoodDeckSF  SalePrice\n",
              "0         65.0            7       196.0  ...       2003.0           0     208500\n",
              "1         80.0            6         0.0  ...       1976.0         298     181500\n",
              "2         68.0            7       162.0  ...       2001.0           0     223500\n",
              "3         60.0            7         0.0  ...       1998.0           0     140000\n",
              "4         84.0            8       350.0  ...       2000.0         192     250000\n",
              "\n",
              "[5 rows x 10 columns]"
            ]
          },
          "metadata": {
            "tags": []
          },
          "execution_count": 28
        }
      ]
    },
    {
      "cell_type": "code",
      "metadata": {
        "id": "SrKY7S1g7q8f",
        "colab_type": "code",
        "colab": {
          "base_uri": "https://localhost:8080/",
          "height": 34
        },
        "outputId": "e63ab29b-e530-431c-eeb8-1b949b8b7452"
      },
      "source": [
        "# print the variables that contain missing data\n",
        "\n",
        "# in the next list comprehension, I loop over all the columns\n",
        "# of the dataset and select those that contain missing data\n",
        "\n",
        "[var for var in data.columns if data[var].isnull().sum() > 0]"
      ],
      "execution_count": 29,
      "outputs": [
        {
          "output_type": "execute_result",
          "data": {
            "text/plain": [
              "['LotFrontage', 'MasVnrArea', 'GarageYrBlt']"
            ]
          },
          "metadata": {
            "tags": []
          },
          "execution_count": 29
        }
      ]
    },
    {
      "cell_type": "code",
      "metadata": {
        "scrolled": false,
        "id": "E28LL09-7q8m",
        "colab_type": "code",
        "colab": {
          "base_uri": "https://localhost:8080/",
          "height": 86
        },
        "outputId": "2e057d71-d82b-4d01-f9f3-e78a39b486e4"
      },
      "source": [
        "# find the percentage of missing data within those variables\n",
        "# same code as we learnt in section 3 on variable characteristics\n",
        "\n",
        "data[['LotFrontage', 'MasVnrArea', 'GarageYrBlt']].isnull().mean()"
      ],
      "execution_count": 30,
      "outputs": [
        {
          "output_type": "execute_result",
          "data": {
            "text/plain": [
              "LotFrontage    0.177397\n",
              "MasVnrArea     0.005479\n",
              "GarageYrBlt    0.055479\n",
              "dtype: float64"
            ]
          },
          "metadata": {
            "tags": []
          },
          "execution_count": 30
        }
      ]
    },
    {
      "cell_type": "markdown",
      "metadata": {
        "id": "_zSGFnAq7q8t",
        "colab_type": "text"
      },
      "source": [
        "**Remember that the mean and the median that we will use to replace the NA needs to be calculated in the train set and propagated to the test set.**"
      ]
    },
    {
      "cell_type": "code",
      "metadata": {
        "scrolled": false,
        "id": "6u5OqFsv7q8v",
        "colab_type": "code",
        "colab": {
          "base_uri": "https://localhost:8080/",
          "height": 34
        },
        "outputId": "6d04c2d0-157b-4ad8-a0be-fa2e9545d475"
      },
      "source": [
        "# let's separate into training and testing set\n",
        "\n",
        "X_train, X_test, y_train, y_test = train_test_split(data,\n",
        "                                                    data['SalePrice'],\n",
        "                                                    test_size=0.3,\n",
        "                                                    random_state=0)\n",
        "X_train.shape, X_test.shape"
      ],
      "execution_count": 31,
      "outputs": [
        {
          "output_type": "execute_result",
          "data": {
            "text/plain": [
              "((1022, 10), (438, 10))"
            ]
          },
          "metadata": {
            "tags": []
          },
          "execution_count": 31
        }
      ]
    },
    {
      "cell_type": "code",
      "metadata": {
        "id": "RxuT7m4v7q82",
        "colab_type": "code",
        "colab": {
          "base_uri": "https://localhost:8080/",
          "height": 607
        },
        "outputId": "8e8d1fab-e3eb-4e85-ce86-3eb52dc3931a"
      },
      "source": [
        "# let's plot the distributions of the variables\n",
        "# we learnt this code in section 3 on variable characteristics\n",
        "\n",
        "X_train.hist(bins=50, figsize=(10,10))\n",
        "plt.show()"
      ],
      "execution_count": 32,
      "outputs": [
        {
          "output_type": "display_data",
          "data": {
            "image/png": "[encoded data removed]",
            "text/plain": [
              "<Figure size 720x720 with 12 Axes>"
            ]
          },
          "metadata": {
            "tags": []
          }
        }
      ]
    },
    {
      "cell_type": "code",
      "metadata": {
        "id": "WXXHR7347q89",
        "colab_type": "code",
        "colab": {
          "base_uri": "https://localhost:8080/",
          "height": 245
        },
        "outputId": "3602284c-a0aa-4759-c0f9-b939d00d2b4a"
      },
      "source": [
        "# create a new variable with the missing values replaced\n",
        "# by the median using the function we created above\n",
        "\n",
        "# I repeat the following lines for each of the variables with NA\n",
        "# over the next cells\n",
        "\n",
        "median = X_train['LotFrontage'].median()\n",
        "\n",
        "X_train.loc[:,'LotFrontage_median'] = impute_na(X_train, 'LotFrontage', median)\n",
        "X_test.loc[:,'LotFrontage_median'] = impute_na(X_test, 'LotFrontage', median)"
      ],
      "execution_count": 33,
      "outputs": [
        {
          "output_type": "stream",
          "text": [
            "/usr/local/lib/python3.6/dist-packages/pandas/core/indexing.py:376: SettingWithCopyWarning: \n",
            "A value is trying to be set on a copy of a slice from a DataFrame.\n",
            "Try using .loc[row_indexer,col_indexer] = value instead\n",
            "\n",
            "See the caveats in the documentation: http://pandas.pydata.org/pandas-docs/stable/user_guide/indexing.html#returning-a-view-versus-a-copy\n",
            "  self.obj[key] = _infer_fill_value(value)\n",
            "/usr/local/lib/python3.6/dist-packages/pandas/core/indexing.py:494: SettingWithCopyWarning: \n",
            "A value is trying to be set on a copy of a slice from a DataFrame.\n",
            "Try using .loc[row_indexer,col_indexer] = value instead\n",
            "\n",
            "See the caveats in the documentation: http://pandas.pydata.org/pandas-docs/stable/user_guide/indexing.html#returning-a-view-versus-a-copy\n",
            "  self.obj[item] = s\n"
          ],
          "name": "stderr"
        }
      ]
    },
    {
      "cell_type": "code",
      "metadata": {
        "id": "Vi9kKrBC7q9D",
        "colab_type": "code",
        "colab": {
          "base_uri": "https://localhost:8080/",
          "height": 245
        },
        "outputId": "97f8f8a5-44f0-44b1-fe01-c75ce3cb8d9c"
      },
      "source": [
        "median = X_train['MasVnrArea'].median()\n",
        "\n",
        "X_train.loc[:,'MasVnrArea_median'] = impute_na(X_train, 'MasVnrArea', median)\n",
        "X_test.loc[:,'MasVnrArea_median'] = impute_na(X_test, 'MasVnrArea', median)"
      ],
      "execution_count": 34,
      "outputs": [
        {
          "output_type": "stream",
          "text": [
            "/usr/local/lib/python3.6/dist-packages/pandas/core/indexing.py:376: SettingWithCopyWarning: \n",
            "A value is trying to be set on a copy of a slice from a DataFrame.\n",
            "Try using .loc[row_indexer,col_indexer] = value instead\n",
            "\n",
            "See the caveats in the documentation: http://pandas.pydata.org/pandas-docs/stable/user_guide/indexing.html#returning-a-view-versus-a-copy\n",
            "  self.obj[key] = _infer_fill_value(value)\n",
            "/usr/local/lib/python3.6/dist-packages/pandas/core/indexing.py:494: SettingWithCopyWarning: \n",
            "A value is trying to be set on a copy of a slice from a DataFrame.\n",
            "Try using .loc[row_indexer,col_indexer] = value instead\n",
            "\n",
            "See the caveats in the documentation: http://pandas.pydata.org/pandas-docs/stable/user_guide/indexing.html#returning-a-view-versus-a-copy\n",
            "  self.obj[item] = s\n"
          ],
          "name": "stderr"
        }
      ]
    },
    {
      "cell_type": "code",
      "metadata": {
        "id": "8xoxdCMa7q9M",
        "colab_type": "code",
        "colab": {
          "base_uri": "https://localhost:8080/",
          "height": 245
        },
        "outputId": "75e3712e-ae1e-4530-fc99-4676c33082eb"
      },
      "source": [
        "median = X_train['GarageYrBlt'].median()\n",
        "\n",
        "X_train.loc[:, 'GarageYrBlt_median'] = impute_na(X_train, 'GarageYrBlt', median)\n",
        "X_test.loc[:,'GarageYrBlt_median'] = impute_na(X_test, 'GarageYrBlt', median)"
      ],
      "execution_count": 35,
      "outputs": [
        {
          "output_type": "stream",
          "text": [
            "/usr/local/lib/python3.6/dist-packages/pandas/core/indexing.py:376: SettingWithCopyWarning: \n",
            "A value is trying to be set on a copy of a slice from a DataFrame.\n",
            "Try using .loc[row_indexer,col_indexer] = value instead\n",
            "\n",
            "See the caveats in the documentation: http://pandas.pydata.org/pandas-docs/stable/user_guide/indexing.html#returning-a-view-versus-a-copy\n",
            "  self.obj[key] = _infer_fill_value(value)\n",
            "/usr/local/lib/python3.6/dist-packages/pandas/core/indexing.py:494: SettingWithCopyWarning: \n",
            "A value is trying to be set on a copy of a slice from a DataFrame.\n",
            "Try using .loc[row_indexer,col_indexer] = value instead\n",
            "\n",
            "See the caveats in the documentation: http://pandas.pydata.org/pandas-docs/stable/user_guide/indexing.html#returning-a-view-versus-a-copy\n",
            "  self.obj[item] = s\n"
          ],
          "name": "stderr"
        }
      ]
    },
    {
      "cell_type": "code",
      "metadata": {
        "id": "QpIqxY6M7q9R",
        "colab_type": "code",
        "colab": {
          "base_uri": "https://localhost:8080/",
          "height": 282
        },
        "outputId": "e8609b70-ecd2-4b1a-b310-3ef87ecb1f38"
      },
      "source": [
        "# let's evaluate the effect of median imputation on the distribution\n",
        "\n",
        "# we can see that the distribution has changed for LotFrontAge\n",
        "# with now more values accumulating towards the median\n",
        "\n",
        "fig = plt.figure()\n",
        "ax = fig.add_subplot(111)\n",
        "\n",
        "# original variable distribution\n",
        "X_train['LotFrontage'].plot(kind='kde', ax=ax)\n",
        "\n",
        "# variable imputed with the median\n",
        "X_train['LotFrontage_median'].plot(kind='kde', ax=ax, color='red')\n",
        "\n",
        "# add legends\n",
        "lines, labels = ax.get_legend_handles_labels()\n",
        "ax.legend(lines, labels, loc='best')"
      ],
      "execution_count": 36,
      "outputs": [
        {
          "output_type": "execute_result",
          "data": {
            "text/plain": [
              "<matplotlib.legend.Legend at 0x7f3232e486a0>"
            ]
          },
          "metadata": {
            "tags": []
          },
          "execution_count": 36
        },
        {
          "output_type": "display_data",
          "data": {
            "image/png": "[encoded data removed]",
            "text/plain": [
              "<Figure size 432x288 with 1 Axes>"
            ]
          },
          "metadata": {
            "tags": []
          }
        }
      ]
    },
    {
      "cell_type": "code",
      "metadata": {
        "id": "OXByy9Kv7q9V",
        "colab_type": "code",
        "colab": {},
        "outputId": "35c03c3b-697a-408a-c195-385f5e10cbd1"
      },
      "source": [
        "# For MasVnrArea, because the percentage of missing data\n",
        "# was low, we don't expect and won't see a dramatic change in the\n",
        "# original distribution of the variable\n",
        "\n",
        "fig = plt.figure()\n",
        "ax = fig.add_subplot(111)\n",
        "\n",
        "# original variable distribution\n",
        "X_train['MasVnrArea'].plot(kind='kde', ax=ax)\n",
        "\n",
        "# variable imputed with the median\n",
        "X_train['MasVnrArea_median'].plot(kind='kde', ax=ax, color='red')\n",
        "\n",
        "# add legends\n",
        "lines, labels = ax.get_legend_handles_labels()\n",
        "ax.legend(lines, labels, loc='best')"
      ],
      "execution_count": 0,
      "outputs": [
        {
          "output_type": "execute_result",
          "data": {
            "text/plain": [
              "<matplotlib.legend.Legend at 0x11788464e0>"
            ]
          },
          "metadata": {
            "tags": []
          },
          "execution_count": 24
        },
        {
          "output_type": "display_data",
          "data": {
            "image/png": "[encoded data removed]",
            "text/plain": [
              "<Figure size 432x288 with 1 Axes>"
            ]
          },
          "metadata": {
            "tags": [],
            "needs_background": "light"
          }
        }
      ]
    },
    {
      "cell_type": "code",
      "metadata": {
        "scrolled": true,
        "id": "9vg_aT5P7q9b",
        "colab_type": "code",
        "colab": {},
        "outputId": "15fe5c7e-6c75-4806-843a-ce63b00e9c18"
      },
      "source": [
        "# similarly, for GarageBlt, because the percentage of missing data\n",
        "# was low, we don't expect a massive change in the\n",
        "# original distribution of the variable, however we see more values\n",
        "# at around the median\n",
        "\n",
        "fig = plt.figure()\n",
        "ax = fig.add_subplot(111)\n",
        "\n",
        "# original variable distribution\n",
        "X_train['GarageYrBlt'].plot(kind='kde', ax=ax)\n",
        "\n",
        "# variable imputed with the median\n",
        "X_train['GarageYrBlt_median'].plot(kind='kde', ax=ax, color='red')\n",
        "\n",
        "# add legends\n",
        "lines, labels = ax.get_legend_handles_labels()\n",
        "ax.legend(lines, labels, loc='best')"
      ],
      "execution_count": 0,
      "outputs": [
        {
          "output_type": "execute_result",
          "data": {
            "text/plain": [
              "<matplotlib.legend.Legend at 0x11780a56d8>"
            ]
          },
          "metadata": {
            "tags": []
          },
          "execution_count": 25
        },
        {
          "output_type": "display_data",
          "data": {
            "image/png": "[encoded data removed]",
            "text/plain": [
              "<Figure size 432x288 with 1 Axes>"
            ]
          },
          "metadata": {
            "tags": [],
            "needs_background": "light"
          }
        }
      ]
    },
    {
      "cell_type": "code",
      "metadata": {
        "id": "tZcOn2Wy7q9h",
        "colab_type": "code",
        "colab": {
          "base_uri": "https://localhost:8080/",
          "height": 52
        },
        "outputId": "6506b136-c781-4933-f8cc-23d6f520feea"
      },
      "source": [
        "# similarly we can explore the effect of the imputation technique on \n",
        "# the variance\n",
        "\n",
        "# we can see a change in the variance after imputation for LotFrontAge\n",
        "# this is expected, because the percentage of missing data is quite\n",
        "# high ~20%\n",
        "\n",
        "print('Original Variance: ', X_train['LotFrontage'].var())\n",
        "print('Variance after median imputation: ', X_train['LotFrontage_median'].var())"
      ],
      "execution_count": 37,
      "outputs": [
        {
          "output_type": "stream",
          "text": [
            "Original Variance:  532.5872021885676\n",
            "Variance after median imputation:  434.06604265416564\n"
          ],
          "name": "stdout"
        }
      ]
    },
    {
      "cell_type": "code",
      "metadata": {
        "id": "LvFKm-3S7q9p",
        "colab_type": "code",
        "colab": {
          "base_uri": "https://localhost:8080/",
          "height": 52
        },
        "outputId": "3c496b08-813d-4400-a18b-fd402ac93d82"
      },
      "source": [
        "# this is not the case for MasnVnrArea, because the % of missing data was small\n",
        "print('Original Variance: ', X_train['MasVnrArea'].var())\n",
        "print('Variance after median imputation: ', X_train['MasVnrArea_median'].var())"
      ],
      "execution_count": 38,
      "outputs": [
        {
          "output_type": "stream",
          "text": [
            "Original Variance:  32983.538710039466\n",
            "Variance after median imputation:  32874.27007404175\n"
          ],
          "name": "stdout"
        }
      ]
    },
    {
      "cell_type": "code",
      "metadata": {
        "id": "7bHTMg0c7q9v",
        "colab_type": "code",
        "colab": {
          "base_uri": "https://localhost:8080/",
          "height": 52
        },
        "outputId": "97f1b6eb-8003-4297-b356-9c3614d17154"
      },
      "source": [
        "# for GarageBlt, the % of missing data was small so the effect\n",
        "# on the variance will also be small\n",
        "\n",
        "print('Original Variance: ', X_train['GarageYrBlt'].var())\n",
        "print('Variance after median imputation: ', X_train['GarageYrBlt_median'].var())"
      ],
      "execution_count": 39,
      "outputs": [
        {
          "output_type": "stream",
          "text": [
            "Original Variance:  624.3059475074134\n",
            "Variance after median imputation:  591.3356883144767\n"
          ],
          "name": "stdout"
        }
      ]
    },
    {
      "cell_type": "code",
      "metadata": {
        "id": "AbcBKKiv7q9z",
        "colab_type": "code",
        "colab": {
          "base_uri": "https://localhost:8080/",
          "height": 477
        },
        "outputId": "bdd9d813-cec3-4f0f-c2f8-58400119c914"
      },
      "source": [
        "# finally, let's explore the covariance:\n",
        "# take your time to compare the values in the table below.\n",
        "# see how the covariance is affected for LotFrontAge but not\n",
        "# so much for the other 2 variables\n",
        "\n",
        "X_train.cov()"
      ],
      "execution_count": 40,
      "outputs": [
        {
          "output_type": "execute_result",
          "data": {
            "text/html": [
              "<div>\n",
              "<style scoped>\n",
              "    .dataframe tbody tr th:only-of-type {\n",
              "        vertical-align: middle;\n",
              "    }\n",
              "\n",
              "    .dataframe tbody tr th {\n",
              "        vertical-align: top;\n",
              "    }\n",
              "\n",
              "    .dataframe thead th {\n",
              "        text-align: right;\n",
              "    }\n",
              "</style>\n",
              "<table border=\"1\" class=\"dataframe\">\n",
              "  <thead>\n",
              "    <tr style=\"text-align: right;\">\n",
              "      <th></th>\n",
              "      <th>LotFrontage</th>\n",
              "      <th>OverallQual</th>\n",
              "      <th>MasVnrArea</th>\n",
              "      <th>BsmtUnfSF</th>\n",
              "      <th>TotalBsmtSF</th>\n",
              "      <th>1stFlrSF</th>\n",
              "      <th>GrLivArea</th>\n",
              "      <th>GarageYrBlt</th>\n",
              "      <th>WoodDeckSF</th>\n",
              "      <th>SalePrice</th>\n",
              "      <th>LotFrontage_median</th>\n",
              "      <th>MasVnrArea_median</th>\n",
              "      <th>GarageYrBlt_median</th>\n",
              "    </tr>\n",
              "  </thead>\n",
              "  <tbody>\n",
              "    <tr>\n",
              "      <th>LotFrontage</th>\n",
              "      <td>532.587202</td>\n",
              "      <td>6.587119</td>\n",
              "      <td>6.805603e+02</td>\n",
              "      <td>9.496573e+02</td>\n",
              "      <td>2.908856e+03</td>\n",
              "      <td>3.379794e+03</td>\n",
              "      <td>3.919952e+03</td>\n",
              "      <td>30.611717</td>\n",
              "      <td>1.347414e+02</td>\n",
              "      <td>6.689645e+05</td>\n",
              "      <td>532.587202</td>\n",
              "      <td>6.744233e+02</td>\n",
              "      <td>28.095264</td>\n",
              "    </tr>\n",
              "    <tr>\n",
              "      <th>OverallQual</th>\n",
              "      <td>6.587119</td>\n",
              "      <td>1.843859</td>\n",
              "      <td>1.014970e+02</td>\n",
              "      <td>1.746147e+02</td>\n",
              "      <td>2.886241e+02</td>\n",
              "      <td>2.242973e+02</td>\n",
              "      <td>4.091242e+02</td>\n",
              "      <td>17.902809</td>\n",
              "      <td>3.168557e+01</td>\n",
              "      <td>8.320132e+04</td>\n",
              "      <td>5.384774</td>\n",
              "      <td>1.005330e+02</td>\n",
              "      <td>16.875386</td>\n",
              "    </tr>\n",
              "    <tr>\n",
              "      <th>MasVnrArea</th>\n",
              "      <td>680.560330</td>\n",
              "      <td>101.496976</td>\n",
              "      <td>3.298354e+04</td>\n",
              "      <td>7.540788e+03</td>\n",
              "      <td>2.478877e+04</td>\n",
              "      <td>2.086595e+04</td>\n",
              "      <td>3.520785e+04</td>\n",
              "      <td>1203.583792</td>\n",
              "      <td>3.208924e+03</td>\n",
              "      <td>6.836439e+06</td>\n",
              "      <td>553.921303</td>\n",
              "      <td>3.298354e+04</td>\n",
              "      <td>1134.380889</td>\n",
              "    </tr>\n",
              "    <tr>\n",
              "      <th>BsmtUnfSF</th>\n",
              "      <td>949.657293</td>\n",
              "      <td>174.614725</td>\n",
              "      <td>7.540788e+03</td>\n",
              "      <td>1.875241e+05</td>\n",
              "      <td>7.513307e+04</td>\n",
              "      <td>4.987449e+04</td>\n",
              "      <td>5.203392e+04</td>\n",
              "      <td>1823.065167</td>\n",
              "      <td>-1.833201e+03</td>\n",
              "      <td>6.833028e+06</td>\n",
              "      <td>788.095358</td>\n",
              "      <td>7.472110e+03</td>\n",
              "      <td>1724.141544</td>\n",
              "    </tr>\n",
              "    <tr>\n",
              "      <th>TotalBsmtSF</th>\n",
              "      <td>2908.855504</td>\n",
              "      <td>288.624075</td>\n",
              "      <td>2.478877e+04</td>\n",
              "      <td>7.513307e+04</td>\n",
              "      <td>1.682931e+05</td>\n",
              "      <td>1.212079e+05</td>\n",
              "      <td>8.615192e+04</td>\n",
              "      <td>3173.042442</td>\n",
              "      <td>1.227966e+04</td>\n",
              "      <td>2.003928e+07</td>\n",
              "      <td>2370.929189</td>\n",
              "      <td>2.465436e+04</td>\n",
              "      <td>2989.473391</td>\n",
              "    </tr>\n",
              "    <tr>\n",
              "      <th>1stFlrSF</th>\n",
              "      <td>3379.793504</td>\n",
              "      <td>224.297266</td>\n",
              "      <td>2.086595e+04</td>\n",
              "      <td>4.987449e+04</td>\n",
              "      <td>1.212079e+05</td>\n",
              "      <td>1.398656e+05</td>\n",
              "      <td>1.044401e+05</td>\n",
              "      <td>2009.195552</td>\n",
              "      <td>1.109406e+04</td>\n",
              "      <td>1.783631e+07</td>\n",
              "      <td>2750.747094</td>\n",
              "      <td>2.080136e+04</td>\n",
              "      <td>1890.271636</td>\n",
              "    </tr>\n",
              "    <tr>\n",
              "      <th>GrLivArea</th>\n",
              "      <td>3919.951834</td>\n",
              "      <td>409.124216</td>\n",
              "      <td>3.520785e+04</td>\n",
              "      <td>5.203392e+04</td>\n",
              "      <td>8.615192e+04</td>\n",
              "      <td>1.044401e+05</td>\n",
              "      <td>2.681277e+05</td>\n",
              "      <td>2738.982988</td>\n",
              "      <td>1.558395e+04</td>\n",
              "      <td>2.934477e+07</td>\n",
              "      <td>3189.685753</td>\n",
              "      <td>3.496714e+04</td>\n",
              "      <td>2576.345636</td>\n",
              "    </tr>\n",
              "    <tr>\n",
              "      <th>GarageYrBlt</th>\n",
              "      <td>30.611717</td>\n",
              "      <td>17.902809</td>\n",
              "      <td>1.203584e+03</td>\n",
              "      <td>1.823065e+03</td>\n",
              "      <td>3.173042e+03</td>\n",
              "      <td>2.009196e+03</td>\n",
              "      <td>2.738983e+03</td>\n",
              "      <td>624.305948</td>\n",
              "      <td>6.658911e+02</td>\n",
              "      <td>9.309355e+05</td>\n",
              "      <td>24.755173</td>\n",
              "      <td>1.182673e+03</td>\n",
              "      <td>624.305948</td>\n",
              "    </tr>\n",
              "    <tr>\n",
              "      <th>WoodDeckSF</th>\n",
              "      <td>134.741376</td>\n",
              "      <td>31.685571</td>\n",
              "      <td>3.208924e+03</td>\n",
              "      <td>-1.833201e+03</td>\n",
              "      <td>1.227966e+04</td>\n",
              "      <td>1.109406e+04</td>\n",
              "      <td>1.558395e+04</td>\n",
              "      <td>665.891118</td>\n",
              "      <td>1.648582e+04</td>\n",
              "      <td>3.029981e+06</td>\n",
              "      <td>106.009105</td>\n",
              "      <td>3.212101e+03</td>\n",
              "      <td>627.624634</td>\n",
              "    </tr>\n",
              "    <tr>\n",
              "      <th>SalePrice</th>\n",
              "      <td>668964.454191</td>\n",
              "      <td>83201.317781</td>\n",
              "      <td>6.836439e+06</td>\n",
              "      <td>6.833028e+06</td>\n",
              "      <td>2.003928e+07</td>\n",
              "      <td>1.783631e+07</td>\n",
              "      <td>2.934477e+07</td>\n",
              "      <td>930935.489321</td>\n",
              "      <td>3.029981e+06</td>\n",
              "      <td>6.105731e+09</td>\n",
              "      <td>544838.836893</td>\n",
              "      <td>6.790442e+06</td>\n",
              "      <td>877485.418108</td>\n",
              "    </tr>\n",
              "    <tr>\n",
              "      <th>LotFrontage_median</th>\n",
              "      <td>532.587202</td>\n",
              "      <td>5.384774</td>\n",
              "      <td>5.539213e+02</td>\n",
              "      <td>7.880954e+02</td>\n",
              "      <td>2.370929e+03</td>\n",
              "      <td>2.750747e+03</td>\n",
              "      <td>3.189686e+03</td>\n",
              "      <td>24.755173</td>\n",
              "      <td>1.060091e+02</td>\n",
              "      <td>5.448388e+05</td>\n",
              "      <td>434.066043</td>\n",
              "      <td>5.488480e+02</td>\n",
              "      <td>22.883476</td>\n",
              "    </tr>\n",
              "    <tr>\n",
              "      <th>MasVnrArea_median</th>\n",
              "      <td>674.423263</td>\n",
              "      <td>100.533003</td>\n",
              "      <td>3.298354e+04</td>\n",
              "      <td>7.472110e+03</td>\n",
              "      <td>2.465436e+04</td>\n",
              "      <td>2.080136e+04</td>\n",
              "      <td>3.496714e+04</td>\n",
              "      <td>1182.673336</td>\n",
              "      <td>3.212101e+03</td>\n",
              "      <td>6.790442e+06</td>\n",
              "      <td>548.848031</td>\n",
              "      <td>3.287427e+04</td>\n",
              "      <td>1115.571890</td>\n",
              "    </tr>\n",
              "    <tr>\n",
              "      <th>GarageYrBlt_median</th>\n",
              "      <td>28.095264</td>\n",
              "      <td>16.875386</td>\n",
              "      <td>1.134381e+03</td>\n",
              "      <td>1.724142e+03</td>\n",
              "      <td>2.989473e+03</td>\n",
              "      <td>1.890272e+03</td>\n",
              "      <td>2.576346e+03</td>\n",
              "      <td>624.305948</td>\n",
              "      <td>6.276246e+02</td>\n",
              "      <td>8.774854e+05</td>\n",
              "      <td>22.883476</td>\n",
              "      <td>1.115572e+03</td>\n",
              "      <td>591.335688</td>\n",
              "    </tr>\n",
              "  </tbody>\n",
              "</table>\n",
              "</div>"
            ],
            "text/plain": [
              "                      LotFrontage  ...  GarageYrBlt_median\n",
              "LotFrontage            532.587202  ...           28.095264\n",
              "OverallQual              6.587119  ...           16.875386\n",
              "MasVnrArea             680.560330  ...         1134.380889\n",
              "BsmtUnfSF              949.657293  ...         1724.141544\n",
              "TotalBsmtSF           2908.855504  ...         2989.473391\n",
              "1stFlrSF              3379.793504  ...         1890.271636\n",
              "GrLivArea             3919.951834  ...         2576.345636\n",
              "GarageYrBlt             30.611717  ...          624.305948\n",
              "WoodDeckSF             134.741376  ...          627.624634\n",
              "SalePrice           668964.454191  ...       877485.418108\n",
              "LotFrontage_median     532.587202  ...           22.883476\n",
              "MasVnrArea_median      674.423263  ...         1115.571890\n",
              "GarageYrBlt_median      28.095264  ...          591.335688\n",
              "\n",
              "[13 rows x 13 columns]"
            ]
          },
          "metadata": {
            "tags": []
          },
          "execution_count": 40
        }
      ]
    },
    {
      "cell_type": "code",
      "metadata": {
        "id": "180gAI0M7q95",
        "colab_type": "code",
        "colab": {
          "base_uri": "https://localhost:8080/",
          "height": 283
        },
        "outputId": "acbfccfb-fd98-43b3-e580-f3ee80d4be1c"
      },
      "source": [
        "# Finally, let's explore the knock-on effect on outliers\n",
        "\n",
        "# there is a decrease in the outlier boundaries for LotFrontage\n",
        "# (look at the height of the top whisker)\n",
        "# but not a visible effect for the other 2 variables\n",
        "\n",
        "X_train[['LotFrontage', 'LotFrontage_median']].boxplot()"
      ],
      "execution_count": 41,
      "outputs": [
        {
          "output_type": "execute_result",
          "data": {
            "text/plain": [
              "<matplotlib.axes._subplots.AxesSubplot at 0x7f3232de26a0>"
            ]
          },
          "metadata": {
            "tags": []
          },
          "execution_count": 41
        },
        {
          "output_type": "display_data",
          "data": {
            "image/png": "[encoded data removed]",
            "text/plain": [
              "<Figure size 432x288 with 1 Axes>"
            ]
          },
          "metadata": {
            "tags": []
          }
        }
      ]
    },
    {
      "cell_type": "code",
      "metadata": {
        "id": "5ZlBC9XH7q-B",
        "colab_type": "code",
        "colab": {
          "base_uri": "https://localhost:8080/",
          "height": 283
        },
        "outputId": "3fddfc67-14bb-4775-d9f6-c588bca06208"
      },
      "source": [
        "X_train[['MasVnrArea', 'MasVnrArea_median']].boxplot()"
      ],
      "execution_count": 42,
      "outputs": [
        {
          "output_type": "execute_result",
          "data": {
            "text/plain": [
              "<matplotlib.axes._subplots.AxesSubplot at 0x7f3232f6ae80>"
            ]
          },
          "metadata": {
            "tags": []
          },
          "execution_count": 42
        },
        {
          "output_type": "display_data",
          "data": {
            "image/png": "[encoded data removed]",
            "text/plain": [
              "<Figure size 432x288 with 1 Axes>"
            ]
          },
          "metadata": {
            "tags": []
          }
        }
      ]
    },
    {
      "cell_type": "code",
      "metadata": {
        "id": "TI4hLwSy7q-F",
        "colab_type": "code",
        "colab": {},
        "outputId": "5e488f74-c518-466b-c2d4-65095be5e2d5"
      },
      "source": [
        "X_train[['GarageYrBlt', 'GarageYrBlt_median']].boxplot()"
      ],
      "execution_count": 0,
      "outputs": [
        {
          "output_type": "execute_result",
          "data": {
            "text/plain": [
              "<matplotlib.axes._subplots.AxesSubplot at 0x11780f1588>"
            ]
          },
          "metadata": {
            "tags": []
          },
          "execution_count": 32
        },
        {
          "output_type": "display_data",
          "data": {
            "image/png": "[encoded data removed]",
            "text/plain": [
              "<Figure size 432x288 with 1 Axes>"
            ]
          },
          "metadata": {
            "tags": [],
            "needs_background": "light"
          }
        }
      ]
    }
  ]
}